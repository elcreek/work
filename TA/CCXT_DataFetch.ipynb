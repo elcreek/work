{
 "cells": [
  {
   "cell_type": "code",
   "execution_count": 1,
   "metadata": {},
   "outputs": [],
   "source": [
    "import ccxt\n",
    "import os\n",
    "import pandas as pd\n",
    "from datetime import datetime, timedelta\n",
    "from tqdm import tqdm\n",
    "# import sys\n",
    "# import shutil\n",
    "# from functools import partial\n",
    "# from pathlib import Path\n",
    "import sys\n",
    "import shutil\n",
    "from collections import Counter\n",
    "\n",
    "\n",
    "exchange = ccxt.binance()\n",
    "\n",
    "exchange.load_markets()\n",
    "\n",
    "symbols = exchange.symbols"
   ]
  },
  {
   "cell_type": "code",
   "execution_count": 2,
   "metadata": {},
   "outputs": [],
   "source": [
    "t = 'USDT'\n",
    "pairs = []\n",
    "# global unwanted\n",
    "unwanted = [\"XNO\",\"BTT\",\"GYEN\",\"UP/\",\"DOWN/\",\"USDS\",\"USDT/\",\"USDSB\",\"SUSD\",\n",
    "\"NCASH/ETH\",\"DNT/ETH\",\"BCN/ETH\",\"UST\",\"ETH/\",\"BKRW\",\"VAI\",\"RUB\",\n",
    "\"NGN\",\"DAI\",\"BIDR\",\"BEAR\", \"BULL\", \"PAX\", \"TUSD\", \"UMA\", \"USDC\",\n",
    " \"USDP\", \"BUSD/\", \"EUR\", \"GBP\", \"TRY\", \"AUD\",\"BRL\", \"BVND\"]\n",
    "\n",
    "for s in symbols:\n",
    "    if (t in s):\n",
    "        pairs.append(s)\n",
    "\n",
    "pairs=[n for n in pairs if all(m not in n for m in unwanted)]\n",
    "\n",
    "\n",
    "_pairs = [\"JASMY/USDT\"]\n"
   ]
  },
  {
   "cell_type": "code",
   "execution_count": 3,
   "metadata": {},
   "outputs": [
    {
     "name": "stderr",
     "output_type": "stream",
     "text": [
      "100%|██████████| 331/331 [04:36<00:00,  1.20it/s]\n"
     ]
    }
   ],
   "source": [
    "\n",
    "# always put the list out of the loop or everthing will be wiped out each turn\n",
    "\n",
    "# timeframes = [\"4h\", \"2h\"]\n",
    "timeframes = [\"4h\"]\n",
    "# limit = 1003\n",
    "\n",
    "\n",
    "# td =datetime.now().strftime('%Y-%m-%d_%H')\n",
    "mydir=f\"{os.getcwd()}/data\"\n",
    "if os.path.exists(mydir):\n",
    "    shutil.rmtree(mydir)\n",
    "\n",
    "for timeframe in timeframes:\n",
    "\n",
    "    for symbol in tqdm(pairs):\n",
    "\n",
    "        m_symbol = symbol.replace(\"/\",\"\")\n",
    "        outname = f\"{m_symbol}_{timeframe}.csv\"\n",
    "\n",
    "        # outdir=f\"{os.getcwd()}/data/{td}/{timeframe}\"\n",
    "        outdir=f\"{os.getcwd()}/data/{timeframe}\"\n",
    "        # outdir=f\"{os.getenv('HOME')}/data/{td}/{timeframe}\"\n",
    "        fullname = os.path.join(outdir, outname) \n",
    "\n",
    "        # remove old dir\n",
    "        # if os.path.exists(outdir):\n",
    "        #     shutil.rmtree(outdir)\n",
    "\n",
    "        if not os.path.exists(outdir):\n",
    "            os.makedirs(outdir)\n",
    "\n",
    "        bars = exchange.fetch_ohlcv(symbol, timeframe=timeframe, limit=999)\n",
    "\n",
    "        \n",
    "\n",
    "        # must use bars[:-1] because arrgrelextrema will see the last candle wich have not closed yet\n",
    "        data = pd.DataFrame(bars[:-1], columns=['Time', 'Open', 'High', 'Low', 'Close', 'Volume'])\n",
    "\n",
    "        # # use it for faster entry and exit\n",
    "        # data = pd.DataFrame(bars[:], columns=['Time', 'Open', 'High', 'Low', 'Close', 'Volume'])\n",
    "\n",
    "\n",
    "\n",
    "        data['Time'] = pd.to_datetime(data['Time'], unit='ms')\n",
    "        data.set_index('Time', inplace=True)\n",
    "        # if len(data) < 22:\n",
    "        #     print(\"data less than 22 candles for \", symbol)\n",
    "        #     continue\n",
    "        if len(data) > 22:\n",
    "            data.to_csv(fullname) \n",
    "        # print('fetching new data', symbol)\n",
    "    \n",
    "# run the script 11 minutes before the znd of the current hour or 1 m after the hour\n",
    "# or you will face problems with datetime\n",
    "\n",
    "\n"
   ]
  },
  {
   "cell_type": "code",
   "execution_count": 4,
   "metadata": {},
   "outputs": [],
   "source": [
    "# remove dfs that stoppped updating \n",
    "\n",
    "for timeframe in timeframes:\n",
    "    outdir2 = f\"{os.getcwd()}/data/{timeframe}\"\n",
    "    values=[]\n",
    "    keys = []\n",
    "    result = {}\n",
    "    dicts = {}\n",
    "    \n",
    "    for filename in os.listdir(outdir2):\n",
    "        symbol2 = filename.split(\"_\")[0]\n",
    "        df = pd.read_csv(f\"{outdir2}/{filename}\", index_col='Time')\n",
    "        values.append(df.index[-1])\n",
    "        keys.append(symbol2)\n",
    "\n",
    "    dicts=dict(zip(keys, values))\n",
    "\n",
    "\n",
    "    res = Counter(dicts.values()).most_common(1)\n",
    "    res2 = res[0][0]\n",
    "\n",
    "    # # the problem here\n",
    "    for key,value in dicts.items():\n",
    "        if res2 != value:\n",
    "            # result[key] = value\n",
    "            # os.remove(fullname)\n",
    "\n",
    "            # show the coins removed\n",
    "            # print(value, key)\n",
    "\n",
    "            # print(f\"{outdir2}/{key}_{timeframe}.csv\")\n",
    "            os.remove(f\"{outdir2}/{key}_{timeframe}.csv\")\n",
    "\n",
    "\n"
   ]
  },
  {
   "cell_type": "code",
   "execution_count": 5,
   "metadata": {},
   "outputs": [
    {
     "name": "stdout",
     "output_type": "stream",
     "text": [
      "2022-05-05 16:00:00\n"
     ]
    }
   ],
   "source": [
    "print(data.index[-1])"
   ]
  }
 ],
 "metadata": {
  "interpreter": {
   "hash": "4c2f98a013b216298a2e0ea35e2c604ca00c100e03aea0a00effc14efa776a80"
  },
  "kernelspec": {
   "display_name": "Python 3.10.0 64-bit ('algo': venv)",
   "language": "python",
   "name": "python3"
  },
  "language_info": {
   "codemirror_mode": {
    "name": "ipython",
    "version": 3
   },
   "file_extension": ".py",
   "mimetype": "text/x-python",
   "name": "python",
   "nbconvert_exporter": "python",
   "pygments_lexer": "ipython3",
   "version": "3.10.0"
  },
  "orig_nbformat": 4
 },
 "nbformat": 4,
 "nbformat_minor": 2
}
