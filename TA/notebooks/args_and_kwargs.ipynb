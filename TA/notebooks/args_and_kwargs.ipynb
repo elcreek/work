{
 "cells": [
  {
   "cell_type": "code",
   "execution_count": null,
   "metadata": {},
   "outputs": [],
   "source": [
    "# https://realpython.com/python-kwargs-and-args/"
   ]
  },
  {
   "cell_type": "code",
   "execution_count": null,
   "metadata": {},
   "outputs": [],
   "source": [
    "# The important parts are “*” and “**”. \n",
    "# You can use any word instead of args and kwargs \n",
    "# but it is the common practice to use the words args and kwargs. \n",
    "# Thus, there is no need for unnecessary adventures."
   ]
  },
  {
   "cell_type": "code",
   "execution_count": 13,
   "metadata": {},
   "outputs": [
    {
     "name": "stdout",
     "output_type": "stream",
     "text": [
      "(1, 888, 545, 21, 654, 654, 4, 545, 564)\n"
     ]
    },
    {
     "data": {
      "text/plain": [
       "3876"
      ]
     },
     "execution_count": 13,
     "metadata": {},
     "output_type": "execute_result"
    }
   ],
   "source": [
    "# *args allow a function to take any number of positional arguments.\n",
    "\n",
    "def addition(*args):\n",
    "    res = 0\n",
    "\n",
    "    # The parameters passed to the addition function are stored in a tuple. \n",
    "    # Thus, we can iterate over the args variable.\n",
    "\n",
    "    print(args)\n",
    "    \n",
    "    for i in args:\n",
    "        res += i\n",
    "    return res\n",
    "\n",
    "addition(1,888,545,21,654,654,4,545,564)\n",
    "\n"
   ]
  },
  {
   "cell_type": "code",
   "execution_count": null,
   "metadata": {},
   "outputs": [],
   "source": [
    "# the difference between a positional argument and a key word argument.\n",
    "\n",
    "# Positional arguments are declared by a name only.\n",
    "# Keyword arguments are declared by a name and a default value.\n",
    "\n",
    "# When a function is called, values for positional arguments must be given. \n",
    "# Otherwise, we will get an error.\n",
    "\n",
    "# If we do not specify the value for a keyword argument, it takes the default value.\n",
    "\n",
    "def addition(a, b=2): #a is positional, b is keyword argument\n",
    "   return a + b\n",
    "print(addition(1))\n",
    "# 3\n",
    "\n",
    "def addition(a, b): #a and b are positional arguments\n",
    "   return a + b\n",
    "print(addition(1))\n",
    "# TypeError: addition() missing 1 required positional argument: 'b'"
   ]
  },
  {
   "cell_type": "code",
   "execution_count": 22,
   "metadata": {},
   "outputs": [
    {
     "name": "stdout",
     "output_type": "stream",
     "text": [
      "a is 3\n",
      "b is 2\n",
      "args are (455, 5, 8, 3)\n",
      "kwargs are {'c': 8, 'd': 9}\n",
      "a is 3\n",
      "b is 455\n",
      "args are (5, 8, 3)\n"
     ]
    }
   ],
   "source": [
    "# notice the b argument\n",
    "\n",
    "def arg_printer(a, *args, b=2, **kwargs):\n",
    "   print(f'a is {a}')\n",
    "   print(f'b is {b}')\n",
    "   print(f'args are {args}')\n",
    "   print(f'kwargs are {kwargs}')\n",
    "\n",
    "arg_printer(3, 455, 5, 8, 3, c=8, d=9)\n",
    "# a is 3\n",
    "# b is 2\n",
    "# args are (455, 5, 8, 3)\n",
    "# kwargs are {'c': 8, 'd': 9}\n",
    "\n",
    "\n",
    "def arg_printer(a, b=2, *args):\n",
    "   print(f'a is {a}')\n",
    "   print(f'b is {b}')\n",
    "   print(f'args are {args}')\n",
    "\n",
    "arg_printer(3, 455, 5, 8, 3)\n",
    "# a is 3\n",
    "# b is 455\n",
    "# args are (5, 8, 3)"
   ]
  },
  {
   "cell_type": "code",
   "execution_count": null,
   "metadata": {},
   "outputs": [],
   "source": [
    "arg_printer(a=4, 2, 4, 5)\n",
    "# SyntaxError: positional argument follows keyword argument"
   ]
  },
  {
   "cell_type": "code",
   "execution_count": 21,
   "metadata": {},
   "outputs": [
    {
     "name": "stdout",
     "output_type": "stream",
     "text": [
      "23\n",
      "0\n"
     ]
    }
   ],
   "source": [
    "def addition(a, b, *args, option=True):\n",
    "   result = 0\n",
    "   if option:\n",
    "      for i in args:\n",
    "        result += i\n",
    "      return a + b + result\n",
    "   else:\n",
    "      return result\n",
    "\n",
    "print(addition(1,4,5,6,7))\n",
    "# 23\n",
    "print(addition(1,4,5,6,7, option=False))\n",
    "# 0"
   ]
  },
  {
   "cell_type": "code",
   "execution_count": null,
   "metadata": {},
   "outputs": [],
   "source": [
    "# **kwargs allow a function to take any number of keyword arguments.\n",
    "\n",
    "# By default, **kwargs is an empty dictionary. \n",
    "# Each undefined keyword argument is stored as a key-value pair in the **kwargs dictionary.\n",
    "\n",
    "def arg_printer(a, b, option=True, **kwargs):\n",
    "   print(a, b)\n",
    "   print(option)\n",
    "   print(kwargs)\n",
    "   \n",
    "arg_printer(3, 4, param1=5, param2=6)\n",
    "# 3 4\n",
    "# True\n",
    "# {'param1': 5, 'param2': 6}"
   ]
  },
  {
   "cell_type": "code",
   "execution_count": null,
   "metadata": {},
   "outputs": [],
   "source": [
    "# We can pack and unpack variables using *args and **kwargs.\n",
    "\n",
    "def arg_printer(*args):\n",
    "   print(args)\n",
    "\n",
    "# If we pass a list to the function above, it will stored in args tuple as one single element.\n",
    "\n",
    "lst = [1,4,5]\n",
    "arg_printer(lst)\n",
    "# ([1, 4, 5],)\n",
    "\n",
    "# If we put an asterisk before lst, \n",
    "# the values in the list will be unpacked and stored in args tuple separately.\n",
    "arg_printer(*lst)\n",
    "# (1, 4, 5)\n",
    "\n",
    "\n",
    "tpl = ('a','b',4)\n",
    "arg_printer(*lst, *tpl, 5, 6)\n",
    "# (1, 4, 5, 'a', 'b', 4, 5, 6)"
   ]
  },
  {
   "cell_type": "code",
   "execution_count": null,
   "metadata": {},
   "outputs": [],
   "source": [
    "# We can do the packing and unpacking with keyword arguments as well.\n",
    "def arg_printer(**kwargs):\n",
    "   print(kwargs)\n",
    "\n",
    "# But the iterable that is passed as keyword arguments must be a mapping such as a dictionary.\n",
    "dct = {'param1':5, 'param2':8}\n",
    "arg_printer(**dct)\n",
    "# {'param1': 5, 'param2': 8}\n",
    "\n",
    "\n",
    "arg_printer(param3=9, **dct)\n",
    "# {'param3': 9, 'param1': 5, 'param2': 8}"
   ]
  }
 ],
 "metadata": {
  "interpreter": {
   "hash": "3756e50263641124812bebbe71b3301d6fe5d90f19e89fc330b3e20fa5370427"
  },
  "kernelspec": {
   "display_name": "Python 3.10.0 64-bit ('algo': venv)",
   "language": "python",
   "name": "python3"
  },
  "language_info": {
   "codemirror_mode": {
    "name": "ipython",
    "version": 3
   },
   "file_extension": ".py",
   "mimetype": "text/x-python",
   "name": "python",
   "nbconvert_exporter": "python",
   "pygments_lexer": "ipython3",
   "version": "3.10.0"
  },
  "orig_nbformat": 4
 },
 "nbformat": 4,
 "nbformat_minor": 2
}
