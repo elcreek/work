{
 "cells": [
  {
   "cell_type": "code",
   "execution_count": null,
   "metadata": {},
   "outputs": [],
   "source": [
    "import ccxt\n",
    "import pandas as pd\n",
    "import numpy as np\n",
    "import matplotlib.pyplot as plt\n",
    "from scipy.stats import ttest_ind\n",
    "import os\n",
    "\n",
    "import datetime\n",
    "import pandas_ta as ta\n",
    "\n",
    "import plotly.graph_objects as go"
   ]
  },
  {
   "cell_type": "code",
   "execution_count": null,
   "metadata": {},
   "outputs": [],
   "source": [
    "tf = '4h'\n",
    "\n",
    "pair = \"atom\".upper()\n",
    "\n",
    "# df=pd.read_csv(f\"C:\\\\Users\\Grant\\Desktop\\work_git\\work\\data\\\\{tf}\\{pair}USDT_{tf}.csv\", parse_dates=True)\n",
    "\n",
    "df=pd.read_csv(f\"C:\\\\Users\\Grant\\Desktop\\work_git\\work\\data\\\\{tf}\\{pair}USDT_{tf}.csv\", parse_dates=True, index_col='Time')\n",
    "\n",
    "\n",
    "\n",
    "#########   maybe better but there is the scope problem   #########\n",
    "\n",
    "def find_csv(pair = 'btc',tf = '4h'):\n",
    "\n",
    "    pair.upper()\n",
    "    # df=pd.read_csv(f\"C:\\\\Users\\Grant\\Desktop\\work_git\\work\\data\\\\{tf}\\{pair}USDT_{tf}.csv\", parse_dates=True)\n",
    "    df=pd.read_csv(f\"C:\\\\Users\\Grant\\Desktop\\work_git\\work\\data\\\\{tf}\\{pair}USDT_{tf}.csv\", parse_dates=True, index_col='Time')\n",
    "    return df\n",
    "\n",
    "find_csv('atom', '4h')\n"
   ]
  },
  {
   "cell_type": "code",
   "execution_count": null,
   "metadata": {},
   "outputs": [],
   "source": [
    "# change cols names from capital to small letters\n",
    "\n",
    "df.rename(columns={'Time': 'time', 'Open': 'open', 'High': 'high', 'Low': 'low', 'Close': 'close', 'Volume': 'volume'}, inplace=True)\n",
    "\n",
    "# time col from str to pd_datetime \n",
    "df['time'] = pd.to_datetime(df['time'])\n",
    "\n",
    "# datetime to unix_time\n",
    "df['time'] = (df['time'] - pd.Timestamp(\"1970-01-01\")) // pd.Timedelta('1s')"
   ]
  },
  {
   "cell_type": "code",
   "execution_count": null,
   "metadata": {},
   "outputs": [],
   "source": [
    "# loop throw CSVs\n",
    "\n",
    "# list_of=[]\n",
    "tf='4h'\n",
    "candles=[]\n",
    "# dirr = f\"C:/Users/Grant/Desktop/work_git/work/data/2022-01-28_12/{tf}\"\n",
    "outdir=f\"{os.getcwd()}/data/{tf}\"\n",
    "\n",
    "for filename in os.listdir(outdir):\n",
    "    # symbol = (filename.replace(f\"_{tf}.csv\",\"\")).replace(\"_\",\"\")\n",
    "    symbol = filename.replace(f\"_{tf}.csv\",\"\")\n",
    "    data = pd.read_csv(f\"{outdir}/{filename}\", index_col='Time', parse_dates=['Time'])\n",
    "    # print(symbol)\n",
    "\n",
    "    # speed up the process\n",
    "    # before it was 50s now its 9s\n",
    "    data = data[-66:]\n",
    "    \n",
    "    function_name(data)\n",
    "\n",
    "    # looks like its the same thing; puting the table variable inside the loop or\n",
    "    # outside it; actualy there is a slight increase in performance\n",
    "    # if i put table var outstide the loop\n",
    "    \n",
    "    # table = pd.DataFrame(rows, columns=[\"symbols\", \"candle_count\",\"Time\"])\n",
    "\n",
    "table = pd.DataFrame(candles, columns=[\"symbols\", \"g_candles_count\",\"Time_red_candle\", \"r_candles_count\"])\n",
    "\n",
    "table['link'] = table['symbols'].apply(lambda x: f'<a href=\\\n",
    "    \"https://www.tradingview.com/chart/UOC7kIDx/?symbol=BINANCE%3A{x.replace(\"/\",\"\")}\">{x}</a>')\n",
    "\n",
    "display(HTML(table.to_html(escape=False)))"
   ]
  },
  {
   "cell_type": "code",
   "execution_count": null,
   "metadata": {},
   "outputs": [],
   "source": [
    "# plotly \n",
    "\n",
    "candlestick = go.Candlestick(x=df.index, open=df['Open'], high=df['High'], low=df['Low'], close=df['Close'])\n",
    "fig = go.Figure(data=candlestick)\n",
    "\n",
    "# add multiple horizental lines from a list of numbers (prices)\n",
    "for level in list_prices:\n",
    "    fig.add_hline(level)\n",
    "\n",
    "# do not show slider\n",
    "fig.layout.xaxis.rangeslider.visible = False\n",
    "\n",
    "fig.show()"
   ]
  }
 ],
 "metadata": {
  "language_info": {
   "name": "python"
  },
  "orig_nbformat": 4
 },
 "nbformat": 4,
 "nbformat_minor": 2
}
