{
 "cells": [
  {
   "cell_type": "code",
   "execution_count": null,
   "metadata": {},
   "outputs": [],
   "source": [
    "# Summary\n",
    "\n",
    "# find unique values in a list (remove repeated values)\n",
    "\n"
   ]
  },
  {
   "cell_type": "code",
   "execution_count": 3,
   "metadata": {},
   "outputs": [
    {
     "data": {
      "text/plain": [
       "[1, 2, 4, 5, 7, 9]"
      ]
     },
     "execution_count": 3,
     "metadata": {},
     "output_type": "execute_result"
    }
   ],
   "source": [
    "# find unique values in a list (remove repeated values)\n",
    "\n",
    "lst = [1, 2, 2, 4, 5, 9, 7, 4, 9, 4]\n",
    "\n",
    "list(set(lst))"
   ]
  },
  {
   "cell_type": "code",
   "execution_count": null,
   "metadata": {},
   "outputs": [],
   "source": [
    "lst = [[0], [1], [2]]\n",
    "lst[0].append(5)\n",
    "print(lst)\n",
    "# [[0, 5], [1], [2]]\n",
    "\n",
    "lst = [0, [1], [2]]\n",
    "lst[0].append(5)\n",
    "print(lst)\n",
    "# AttributeError: 'int' object has no attribute 'append'"
   ]
  },
  {
   "cell_type": "code",
   "execution_count": null,
   "metadata": {},
   "outputs": [],
   "source": [
    "my_list = [0] * 6\n",
    "# [0, 0, 0, 0, 0, 0]\n",
    "\n",
    "# the result is a repetition of references to the data objects in the sequence. \n",
    "# This can best be seen by considering the following session:\n",
    "\n",
    "my_list = [1, 2, 3, 4]\n",
    "big_list = [my_list] * 3\n",
    "print(big_list)\n",
    "# [[1, 2, 3, 4], [1, 2, 3, 4], [1, 2, 3, 4]]\n",
    "\n",
    "my_list[2] = 45\n",
    "print(big_list)\n",
    "# [[1, 2, 45, 4], [1, 2, 45, 4], [1, 2, 45, 4]]\n",
    "\n",
    "# see the difference?"
   ]
  }
 ],
 "metadata": {
  "interpreter": {
   "hash": "3756e50263641124812bebbe71b3301d6fe5d90f19e89fc330b3e20fa5370427"
  },
  "kernelspec": {
   "display_name": "Python 3.10.0 64-bit ('algo': venv)",
   "language": "python",
   "name": "python3"
  },
  "language_info": {
   "codemirror_mode": {
    "name": "ipython",
    "version": 3
   },
   "file_extension": ".py",
   "mimetype": "text/x-python",
   "name": "python",
   "nbconvert_exporter": "python",
   "pygments_lexer": "ipython3",
   "version": "3.10.0"
  },
  "orig_nbformat": 4
 },
 "nbformat": 4,
 "nbformat_minor": 2
}
