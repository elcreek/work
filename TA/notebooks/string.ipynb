{
 "cells": [
  {
   "cell_type": "code",
   "execution_count": null,
   "metadata": {},
   "outputs": [],
   "source": [
    "# Summary\n",
    "\n",
    "# using print vs not using it\n"
   ]
  },
  {
   "cell_type": "code",
   "execution_count": 1,
   "metadata": {},
   "outputs": [
    {
     "name": "stdout",
     "output_type": "stream",
     "text": [
      "year,make,model\n",
      "2014,toyota,corolla\n",
      "2018,honda,civic\n",
      "2020,hyndai,accent\n",
      "2017,nissan,sentra\n"
     ]
    }
   ],
   "source": [
    "# using print vs not using it\n",
    "f = 'year,make,model\\n2014,toyota,corolla\\n2018,honda,civic\\n2020,hyndai,accent\\n2017,nissan,sentra'\n",
    "\n",
    "f\n",
    "# 'year,make,model\\n2014,toyota,corolla\\n2018,honda,civic\\n2020,hyndai,accent\\n2017,nissan,sentra'\n",
    "\n",
    "print(f)\n",
    "# year,make,model\n",
    "# 2014,toyota,corolla\n",
    "# 2018,honda,civic\n",
    "# 2020,hyndai,accent\n",
    "# 2017,nissan,sentra"
   ]
  },
  {
   "cell_type": "code",
   "execution_count": null,
   "metadata": {},
   "outputs": [],
   "source": [
    "#strings manipulation\n",
    "\n",
    "word = \"Hello World\"\n",
    "\n",
    "# count how many characters in a string, without spaces\n",
    "len(word)\n",
    "# 11\n",
    "\n",
    "# count how many characters in a string, with spaces\n",
    "word.count('')\n",
    "# 12\n",
    "\n",
    "# count how many times l is in the string\n",
    "word.count('l') \n",
    "# 3\n"
   ]
  },
  {
   "cell_type": "code",
   "execution_count": null,
   "metadata": {},
   "outputs": [],
   "source": [
    "\n",
    "# Return the lowest index, where substring sub is found\n",
    "# Return -1 on failure.\n",
    "word.find(\"World\")\n",
    "# 6\n",
    "word.find(\"H\")\n",
    "# 0\n",
    "word.find(\"m\")\n",
    "# -1\n",
    "\n",
    "# same as find, but raises ValueError when the substring is not found\n",
    "word.index(\"World\") \n",
    "# 6\n",
    "\n"
   ]
  },
  {
   "cell_type": "code",
   "execution_count": null,
   "metadata": {},
   "outputs": [],
   "source": [
    "\n",
    "# Slicing\n",
    "# the count starts at 0, and the last index is not included\n",
    "\n",
    "word[0:1] #get one char of the word (same as above)\n",
    "word[0:3] #get the first three char\n",
    "word[:3] #get the first three char\n",
    "word[-3:] #get the last three char\n",
    "word[:-3] #get all but the three last character\n",
    "word[3:] #get all but the three first char\n",
    "word[0] #get one char of the word\n",
    "\n",
    "word[:] # a copy of the whole list/string\n",
    "\n"
   ]
  },
  {
   "cell_type": "code",
   "execution_count": null,
   "metadata": {},
   "outputs": [],
   "source": [
    "\n",
    "word.split(' ') # Split on whitespace\n",
    "# ['Hello', 'World']\n",
    "\n",
    "my_name = \"David\"\n",
    "my_name * 2\n",
    "# 'DavidDavid'\n",
    "\n",
    "\".\" * 10 # repeat the string 10 times\n",
    "# '..........'\n",
    "\n",
    "word.replace(\"Hello\", \"Goodbye\")\n",
    "# 'Goodbye World'\n"
   ]
  },
  {
   "cell_type": "code",
   "execution_count": null,
   "metadata": {},
   "outputs": [],
   "source": [
    "\n",
    "word.upper()\n",
    "# HELLO WORLD\n",
    "\n",
    "word.lower()\n",
    "# hello world\n",
    "\n",
    "word.title()\n",
    "# Hello World\n",
    "\n",
    "word.capitalize()\n",
    "# Hello world\n",
    "\n",
    "word.swapcase()\n",
    "# hELLO wORLD\n",
    "\n",
    "\n"
   ]
  },
  {
   "cell_type": "code",
   "execution_count": null,
   "metadata": {},
   "outputs": [],
   "source": [
    "\n",
    "# Strip\n",
    "# Python strings have the strip(), lstrip(), rstrip() methods for removing\n",
    "# any character from both ends of a string.\n",
    "\n",
    "# If the characters to be removed are not specified then white-space will be removed\n",
    "\n",
    "\n",
    "word.strip('')\n",
    "# Hello World\n",
    "\n",
    "word.strip() #removes from both ends\n",
    "word.lstrip() #removes leading characters (Left-strip)\n",
    "word.rstrip() #removes trailing characters (Right-strip)\n",
    "\n"
   ]
  },
  {
   "cell_type": "code",
   "execution_count": null,
   "metadata": {},
   "outputs": [],
   "source": [
    "\n",
    "# Concatenation\n",
    "# To concatenate strings in Python use the “+” operator.\n",
    "\n",
    "# \"Hello \" + \"World\" # = \"Hello World\"\n",
    "# \"Hello \" + \"World\" + \"!\"# = \"Hello World!\"\n",
    "\n",
    "# Join\n",
    "\":\".join(word) # #add a : between every char\n",
    "# H:e:l:l:o: :W:o:r:l:d\n",
    "\n",
    "\" \".join(word) # add a whitespace between every char\n",
    "# H e l l o W o r l d\n",
    "\n",
    "' '.join(reversed(word))\n",
    "# d l r o W o l l e H\n"
   ]
  },
  {
   "cell_type": "code",
   "execution_count": null,
   "metadata": {},
   "outputs": [],
   "source": [
    "\n",
    "# Testing\n",
    "# A string in Python can be tested for truth value.\n",
    "\n",
    "# The return type will be in Boolean value (True or False)\n",
    "\n",
    "\n",
    "word.isalnum() #check if all char are alphanumeric \n",
    "word.isalpha() #check if all char in the string are alphabetic\n",
    "word.isdigit() #test if string contains digits\n",
    "word.istitle() #test if string contains title words\n",
    "word.isupper() #test if string contains upper case\n",
    "word.islower() #test if string contains lower case\n",
    "word.isspace() #test if string contains spaces\n",
    "word.endswith('d') #test if string endswith a d\n",
    "word.startswith('H') #test if string startswith H\n",
    "\n",
    "\n",
    "\n",
    "\n"
   ]
  },
  {
   "cell_type": "code",
   "execution_count": null,
   "metadata": {},
   "outputs": [],
   "source": [
    "# String formatting\n",
    "\n",
    "price = 24\n",
    "item = \"banana\"\n",
    "\n",
    "print(\"The %s costs %d cents\" % (item, price))\n",
    "# The banana costs 24 cents\n",
    "\n",
    "print(\"The %+10s costs %5.2f cents\" % (item, price))\n",
    "# The     banana costs 24.00 cents\n",
    "\n",
    "print(\"The %+10s costs %10.2f cents\" % (item, price))\n",
    "# The     banana costs      24.00 cents\n",
    "\n",
    "itemdict = {\"item\": \"banana\", \"cost\": 24}\n",
    "print(\"The %(item)s costs %(cost)7.1f cents\" % itemdict)\n",
    "# The banana costs    24.0 cents\n",
    "\n",
    "print(\"The {} costs {} cents\".format(item, price))\n",
    "# The banana costs 24 cents\n",
    "\n",
    "print(\"The {:s} costs {:d} cents\".format(item, price))\n",
    "# The banana costs 24 cents\n",
    "\n",
    "print(f\"The {item:10} costs {price:10.2f} cents\")\n",
    "# The banana     costs      24.00 cents\n",
    "\n",
    "# Put the value in a field 20 characters wide, left-aligned\n",
    "print(f\"The {item:<10} costs {price:<10.2f} cents\")\n",
    "# The banana     costs 24.00      cents\n",
    "\n",
    "# Put the value in a field 20 characters wide, center-aligned\n",
    "print(f\"The {item:^10} costs {price:^10.2f} cents\")\n",
    "# The   banana   costs   24.00    cents\n",
    "print(f\"The {item:>10} costs {price:>10.2f} cents\")\n",
    "# The     banana costs      24.00 cents\n",
    "print(f\"The {item:>10} costs {price:>010.2f} cents\")\n",
    "# The     banana costs 0000024.00 cents\n",
    "itemdict = {\"item\": \"banana\", \"price\": 24}\n",
    "print(f\"Item:{itemdict['item']:.>10}\\n\" + f\"Price:{'$':.>4}{itemdict['price']:5.2f}\")\n",
    "# Item:....banana\n",
    "# Price:...$24.00"
   ]
  }
 ],
 "metadata": {
  "interpreter": {
   "hash": "4c2f98a013b216298a2e0ea35e2c604ca00c100e03aea0a00effc14efa776a80"
  },
  "kernelspec": {
   "display_name": "Python 3.10.0 64-bit ('algo': venv)",
   "language": "python",
   "name": "python3"
  },
  "language_info": {
   "codemirror_mode": {
    "name": "ipython",
    "version": 3
   },
   "file_extension": ".py",
   "mimetype": "text/x-python",
   "name": "python",
   "nbconvert_exporter": "python",
   "pygments_lexer": "ipython3",
   "version": "3.10.0"
  },
  "orig_nbformat": 4
 },
 "nbformat": 4,
 "nbformat_minor": 2
}
