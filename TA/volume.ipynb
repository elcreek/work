{
 "cells": [
  {
   "cell_type": "code",
   "execution_count": 1,
   "metadata": {},
   "outputs": [],
   "source": [
    "import os\n",
    "\n",
    "import pandas as pd\n",
    "from tqdm import tqdm\n",
    "\n"
   ]
  },
  {
   "cell_type": "code",
   "execution_count": 2,
   "metadata": {},
   "outputs": [
    {
     "name": "stderr",
     "output_type": "stream",
     "text": [
      "100%|██████████| 310/310 [00:02<00:00, 153.75it/s]"
     ]
    },
    {
     "name": "stdout",
     "output_type": "stream",
     "text": [
      "['FIOUSDT', 'FIROUSDT', 'FORUSDT', 'GTOUSDT', 'MITHUSDT', 'RAMPUSDT', 'STORJUSDT', 'TRUUSDT', 'TVKUSDT', 'ZECUSDT']\n"
     ]
    },
    {
     "name": "stderr",
     "output_type": "stream",
     "text": [
      "\n"
     ]
    }
   ],
   "source": [
    "# detect volume above mean\n",
    "\n",
    "timeframe='1h'\n",
    "\n",
    "outdir=f\"{os.getcwd()}/old/data/{timeframe}\"\n",
    "\n",
    "increased_symbols = []\n",
    "\n",
    "\n",
    "# or use this to get the result of all coins\n",
    "for filename in tqdm(os.listdir(outdir)):\n",
    "    symbol = filename.replace(f\"_{timeframe}.csv\",\"\")\n",
    "    data = pd.read_csv(f\"{outdir}/{filename}\", index_col='Time')\n",
    "\n",
    "    # stock_info = yf.Ticker(stock)\n",
    "    # hist = stock_info.history(period=\"5d\")\n",
    "    previous_averaged_volume = data['Volume'].iloc[:-9:-1].mean()\n",
    "    \n",
    "    todays_volume = data['Volume'][-1]\n",
    "    if (todays_volume > previous_averaged_volume * 2) and (data['Close'][-1] > data['Close'][-2] ):\n",
    "        # print(symbol, previous_averaged_volume)\n",
    "        increased_symbols.append(symbol)\n",
    "           \n",
    "\n",
    "print(increased_symbols)\n",
    "    "
   ]
  },
  {
   "cell_type": "code",
   "execution_count": 3,
   "metadata": {},
   "outputs": [
    {
     "name": "stderr",
     "output_type": "stream",
     "text": [
      "100%|██████████| 310/310 [00:01<00:00, 180.21it/s]"
     ]
    },
    {
     "name": "stdout",
     "output_type": "stream",
     "text": [
      "['FIOUSDT', 'FIROUSDT', 'GTOUSDT', 'STMXUSDT', 'TRUUSDT', 'TVKUSDT', 'ZECUSDT']\n"
     ]
    },
    {
     "name": "stderr",
     "output_type": "stream",
     "text": [
      "\n"
     ]
    }
   ],
   "source": [
    "# detect Volume incraesing steadily\n",
    "\n",
    "timeframe='1h'\n",
    "\n",
    "outdir=f\"{os.getcwd()}/old/data/{timeframe}\"\n",
    "\n",
    "increased_symbols = []\n",
    "\n",
    "\n",
    "# or use this to get the result of all coins\n",
    "for filename in tqdm(os.listdir(outdir)):\n",
    "    symbol = filename.replace(f\"_{timeframe}.csv\",\"\")\n",
    "    data = pd.read_csv(f\"{outdir}/{filename}\", index_col='Time')\n",
    "\n",
    "    todays_volume = data['Volume'][-1]\n",
    "    yesterday_volume = data['Volume'][-2]\n",
    "    beforeYESTERDAY_volume = data['Volume'][-3]\n",
    "    if (todays_volume > yesterday_volume ) and (yesterday_volume > beforeYESTERDAY_volume )\\\n",
    "        and (data['Close'][-2] > data['Close'][-3]) and (data['Close'][-1] > data['Close'][-2]):\n",
    "        # print(symbol, previous_averaged_volume)\n",
    "        increased_symbols.append(symbol)\n",
    "           \n",
    "\n",
    "print(increased_symbols)\n",
    "    "
   ]
  }
 ],
 "metadata": {
  "interpreter": {
   "hash": "3756e50263641124812bebbe71b3301d6fe5d90f19e89fc330b3e20fa5370427"
  },
  "kernelspec": {
   "display_name": "Python 3.10.0 64-bit ('algo': venv)",
   "language": "python",
   "name": "python3"
  },
  "language_info": {
   "codemirror_mode": {
    "name": "ipython",
    "version": 3
   },
   "file_extension": ".py",
   "mimetype": "text/x-python",
   "name": "python",
   "nbconvert_exporter": "python",
   "pygments_lexer": "ipython3",
   "version": "3.10.0"
  },
  "orig_nbformat": 4
 },
 "nbformat": 4,
 "nbformat_minor": 2
}
