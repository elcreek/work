{
 "cells": [
  {
   "cell_type": "code",
   "execution_count": 1,
   "metadata": {},
   "outputs": [],
   "source": [
    "\n",
    "# method 2\n",
    "\n",
    "from bs4 import BeautifulSoup\n",
    "import requests\n",
    "import re\n",
    "from tqdm import tqdm\n",
    "import pandas as pd\n",
    "\n"
   ]
  },
  {
   "cell_type": "code",
   "execution_count": null,
   "metadata": {},
   "outputs": [],
   "source": []
  },
  {
   "cell_type": "code",
   "execution_count": 2,
   "metadata": {},
   "outputs": [],
   "source": [
    "# fetch coin names from CMC\n",
    "\n",
    "# import requests\n",
    "# import pandas as pd\n",
    "\n",
    "\n",
    "# coins = []\n",
    "# for i in range(1,3):\n",
    "\n",
    "#     url = f'https://coinmarketcap.com/?page={i}'\n",
    "#     html = requests.get(url).content\n",
    "#     df_list = pd.read_html(html)\n",
    "#     # df_list[0].Currency[0]\n",
    "#     # print(df_list[0].Name)\n",
    "\n",
    "    \n",
    "#     for i in range(len(df_list[0])):\n",
    "        \n",
    "#         # c=df_list[0].Name[i].lower()\n",
    "#         c=df_list[0].Name[i]\n",
    "\n",
    "#         c=c.replace(\" \",\"-\")\n",
    "\n",
    "#         coins.append(c)\n",
    "        \n",
    "# coins=set(coins)\n",
    "# print(coins)"
   ]
  },
  {
   "cell_type": "code",
   "execution_count": 3,
   "metadata": {},
   "outputs": [
    {
     "name": "stdout",
     "output_type": "stream",
     "text": [
      "379\n"
     ]
    }
   ],
   "source": [
    "# method 1\n",
    "df=pd.read_csv(\"binance_cmc.csv\")\n",
    "# df.Currency\n",
    "\n",
    "coins = []\n",
    "for i in range(len(df)):\n",
    "    \n",
    "    c=df.Currency[i].lower()\n",
    "\n",
    "    c=c.replace(\" \",\"-\")\n",
    "\n",
    "    coins.append(c)\n",
    "    \n",
    "coins=list(set(coins))\n",
    "coins.sort()\n",
    "print(len(coins))\n",
    "# print((coins))\n",
    "\n"
   ]
  },
  {
   "cell_type": "code",
   "execution_count": 4,
   "metadata": {},
   "outputs": [],
   "source": [
    "# coins = ['filecoin', 'firo', 'dogecoin', 'arweave', 'zcash', 'vechain', 'tellor', 'syscoin', 'stellar', 'storj', 'sonm-(bep-20)', 'siacoin', 'ravencoin', 'nervos-network', 'monero', 'litecoin', 'kadena', 'iexec-rlc', 'cortex', 'bitcoin', 'bitcoin-cash', 'hathor']\n",
    "\n",
    "# print(len(coins))\n"
   ]
  },
  {
   "cell_type": "code",
   "execution_count": 5,
   "metadata": {},
   "outputs": [],
   "source": [
    "\n",
    "\n",
    "# site = requests.get(f\"https://coinmarketcap.com/currencies/{c}/\")\n",
    "# # result = requests.get(f\"https://coinmarketcap.com/currencies/fio-protocol/\")\n",
    "# src = site.content\n",
    "# soup = BeautifulSoup(src, \"html.parser\")\n",
    "\n",
    "# # badges = soup.body.find_all('span', attrs={'class': 'badge24h'})\n",
    "# # print(badges)\n",
    "\n",
    "\n",
    "# tr_list = soup.body.find_all('tr')\n",
    "\n",
    "# # for symbol in badges:\n",
    "# #     print(symbol)\n",
    "\n",
    "\n",
    "# result =[]\n",
    "# for r in tr_list:\n",
    "#     # result.extend(b.find_all(text='Trading Volume'))\n",
    "\n",
    "#     if r.find_all(text='Trading Volume'):\n",
    "#         result.append(r)\n",
    "#     # print(b)\n",
    "\n",
    "#     # result.extend(b.find_all('span', attrs={'class': 'badge24h'}))\n",
    "# # print(result)\n",
    "\n",
    "# # use set to remove duplicates\n",
    "# result = list(set(result))\n",
    "# # you should end up with len(result) = 1\n",
    "\n",
    "\n",
    "# for i in result:\n",
    "#     i=str(i)\n",
    "#     f=i.split(\"<!-- -->%\")\n",
    "    \n",
    "#     m=re.sub(\"[^\\d\\.]\", \"\", f[0][-7:])\n",
    "\n",
    "#     if m == '':\n",
    "#         print(c + \" is empty\" )\n",
    "#         continue\n",
    "    \n",
    "#     if (\"Caret-down\" in i): #or (float(m) < 100):\n",
    "#         # m=-1*float(m)\n",
    "#         # print(m)\n",
    "#         TV.append([c, (-1*float(m))])\n",
    "#     else:\n",
    "#         # print(c)\n",
    "#         # print(m)\n",
    "#         TV.append([c, float(m)])\n",
    "#         # print(TV)\n"
   ]
  },
  {
   "cell_type": "code",
   "execution_count": 6,
   "metadata": {},
   "outputs": [],
   "source": [
    "def get_tardingVolume(c):\n",
    "    \n",
    "    result = requests.get(f\"https://coinmarketcap.com/currencies/{c}/\")\n",
    "    # result = requests.get(f\"https://coinmarketcap.com/currencies/fio-protocol/\")\n",
    "    src = result.content\n",
    "    soup = BeautifulSoup(src, \"html.parser\")\n",
    "\n",
    "    # badges = soup.body.find_all('span', attrs={'class': 'badge24h'})\n",
    "    # print(badges)\n",
    "\n",
    "\n",
    "    badges = soup.body.find_all('tr')\n",
    "\n",
    "    # for symbol in badges:\n",
    "    #     print(symbol)\n",
    "\n",
    "\n",
    "\n",
    "    result =[]\n",
    "    for r in badges:\n",
    "        # result.extend(b.find_all(text='Trading Volume'))\n",
    "\n",
    "        if r.find_all(text='Trading Volume'):\n",
    "            result.append(r)\n",
    "        # print(b)\n",
    "\n",
    "        # result.extend(b.find_all('span', attrs={'class': 'badge24h'}))\n",
    "    # print(result)\n",
    "\n",
    "    # use set to remove duplicates\n",
    "    result = list(set(result))\n",
    "    # you should end up with len(result) = 1\n",
    "\n",
    "\n",
    "    for i in result:\n",
    "        i=str(i)\n",
    "        f=i.split(\"<!-- -->%\")\n",
    "        \n",
    "        m=re.sub(\"[^\\d\\.]\", \"\", f[0][-7:])\n",
    "\n",
    "        if m == '':\n",
    "            print(c + \" is empty\" )\n",
    "            continue\n",
    "        \n",
    "        if (\"Caret-down\" in i): #or (float(m) < 100):\n",
    "            # m=-1*float(m)\n",
    "            # print(m)\n",
    "            TV.append([c, (-1*float(m))])\n",
    "        else:\n",
    "            # print(c)\n",
    "            # print(m)\n",
    "            TV.append([c, float(m)])\n",
    "            # print(TV)\n",
    "            if float(m) > 100:\n",
    "                print(c, float(m))\n",
    "    \n",
    "    # return TV\n",
    "    \n",
    "\n",
    "\n",
    "\n",
    "    "
   ]
  },
  {
   "cell_type": "code",
   "execution_count": 7,
   "metadata": {},
   "outputs": [],
   "source": [
    "# def updatecsv(TVdf):\n",
    "\n",
    "#     for k in (TVdf['0'].values):\n",
    "#         get_tardingVolume(k)\n",
    "    \n",
    "    "
   ]
  },
  {
   "cell_type": "code",
   "execution_count": null,
   "metadata": {},
   "outputs": [],
   "source": [
    "\n",
    "\n"
   ]
  },
  {
   "cell_type": "code",
   "execution_count": 8,
   "metadata": {},
   "outputs": [],
   "source": [
    "# import concurrent.futures\n",
    "\n",
    "\n",
    "def newcsv(date, coins):\n",
    "\n",
    "    for c in tqdm(coins):\n",
    "        # print(c)\n",
    "        get_tardingVolume(c)\n",
    "\n",
    "    pd.DataFrame(TV, columns=['coin', date]).to_csv('TVDF.csv')\n",
    "\n",
    "\n",
    "def updatecsv(date, coins):\n",
    "\n",
    "    # if TVdf exist\n",
    "    TVdf = pd.read_csv('TVDF.csv', index_col=0)\n",
    "\n",
    "    for c in tqdm(coins):\n",
    "        # print(c)\n",
    "        get_tardingVolume(c)\n",
    "\n",
    "    # with concurrent.futures.ThreadPoolExecutor() as executor:\n",
    "    #     executor.map(get_tardingVolume, coins)\n",
    "    \n",
    "\n",
    "    ddf = pd.DataFrame(TV)\n",
    "\n",
    "    print(\"ddf \", len(ddf))\n",
    "    print(\"TVdf \", len(TVdf))\n",
    "    print(ddf[0].equals(TVdf[\"coin\"]))\n",
    "    \n",
    "    if ddf[0].equals(TVdf[\"coin\"]):\n",
    "        print(\"ok\")\n",
    "        # TVdf[date]= ddf[1]\n",
    "\n",
    "        TVdf.insert(1, date, ddf[1])\n",
    "\n",
    "\n",
    "\n",
    "    TVdf.to_csv('TVDF.csv')\n",
    "    # print(TVdf)\n",
    "\n",
    "\n"
   ]
  },
  {
   "cell_type": "code",
   "execution_count": 9,
   "metadata": {},
   "outputs": [],
   "source": [
    "def change(r):\n",
    "    df = pd.read_csv('TVDF.csv', index_col=0)\n",
    "    # df['change'] = df.iloc[: , -2] - df.iloc[: , -3]\n",
    "\n",
    "    if len(df.columns) >= 3:\n",
    "        df.insert(1, \"change\", df.iloc[: , 1] - df.iloc[: , 2])\n",
    "\n",
    "        # print(change[change > 100])\n",
    "        # print(df[change > r].iloc[:,-2:])\n",
    "\n",
    "        df=df.sort_values(by=['change'], ascending=False)\n",
    "        # print(df)\n",
    "\n",
    "        print(df.head(r))\n",
    "\n",
    "        # print(df[df['change'] > r])\n",
    "\n",
    "        # print()\n",
    "\n",
    "        # candidate.append(df[change > r]['coin'])\n",
    "    \n",
    "    # else:\n",
    "        # TV =[]\n",
    "    #     updatecsv(date, coins)\n",
    "\n",
    "    "
   ]
  },
  {
   "cell_type": "code",
   "execution_count": 10,
   "metadata": {},
   "outputs": [
    {
     "name": "stderr",
     "output_type": "stream",
     "text": [
      "  0%|          | 1/379 [00:00<05:32,  1.14it/s]"
     ]
    },
    {
     "name": "stdout",
     "output_type": "stream",
     "text": [
      "0x 100.7\n"
     ]
    },
    {
     "name": "stderr",
     "output_type": "stream",
     "text": [
      "  3%|▎         | 10/379 [00:07<04:21,  1.41it/s]"
     ]
    },
    {
     "name": "stdout",
     "output_type": "stream",
     "text": [
      "aelf 182.08\n"
     ]
    },
    {
     "name": "stderr",
     "output_type": "stream",
     "text": [
      "  7%|▋         | 25/379 [00:20<07:07,  1.21s/it]"
     ]
    },
    {
     "name": "stdout",
     "output_type": "stream",
     "text": [
      "ampleforth-governance-token 206.41\n"
     ]
    },
    {
     "name": "stderr",
     "output_type": "stream",
     "text": [
      "  8%|▊         | 32/379 [00:37<20:00,  3.46s/it]"
     ]
    },
    {
     "name": "stdout",
     "output_type": "stream",
     "text": [
      "ark 269.89\n"
     ]
    },
    {
     "name": "stderr",
     "output_type": "stream",
     "text": [
      " 11%|█         | 40/379 [01:12<19:41,  3.49s/it]"
     ]
    },
    {
     "name": "stdout",
     "output_type": "stream",
     "text": [
      "australian-dollar is empty\n"
     ]
    },
    {
     "name": "stderr",
     "output_type": "stream",
     "text": [
      " 14%|█▍        | 54/379 [01:30<07:13,  1.34s/it]"
     ]
    },
    {
     "name": "stdout",
     "output_type": "stream",
     "text": [
      "beefy-finance 5616.53\n"
     ]
    },
    {
     "name": "stderr",
     "output_type": "stream",
     "text": [
      " 15%|█▍        | 56/379 [01:32<06:29,  1.20s/it]"
     ]
    },
    {
     "name": "stdout",
     "output_type": "stream",
     "text": [
      "benqi 106.47\n"
     ]
    },
    {
     "name": "stderr",
     "output_type": "stream",
     "text": [
      " 16%|█▌        | 61/379 [01:40<06:44,  1.27s/it]"
     ]
    },
    {
     "name": "stdout",
     "output_type": "stream",
     "text": [
      "binaryx 275.87\n"
     ]
    },
    {
     "name": "stderr",
     "output_type": "stream",
     "text": [
      " 17%|█▋        | 65/379 [01:44<05:37,  1.07s/it]"
     ]
    },
    {
     "name": "stdout",
     "output_type": "stream",
     "text": [
      "bitcoin-gold 109.34\n"
     ]
    },
    {
     "name": "stderr",
     "output_type": "stream",
     "text": [
      " 28%|██▊       | 105/379 [02:17<03:42,  1.23it/s]"
     ]
    },
    {
     "name": "stdout",
     "output_type": "stream",
     "text": [
      "dexe 149.15\n"
     ]
    },
    {
     "name": "stderr",
     "output_type": "stream",
     "text": [
      " 31%|███▏      | 119/379 [02:28<03:20,  1.29it/s]"
     ]
    },
    {
     "name": "stdout",
     "output_type": "stream",
     "text": [
      "easyfi 150.34\n"
     ]
    },
    {
     "name": "stderr",
     "output_type": "stream",
     "text": [
      " 33%|███▎      | 124/379 [02:32<03:37,  1.17it/s]"
     ]
    },
    {
     "name": "stdout",
     "output_type": "stream",
     "text": [
      "enzyme 139.61\n"
     ]
    },
    {
     "name": "stderr",
     "output_type": "stream",
     "text": [
      " 35%|███▍      | 132/379 [02:38<03:16,  1.25it/s]"
     ]
    },
    {
     "name": "stdout",
     "output_type": "stream",
     "text": [
      "everipedia 139.82\n"
     ]
    },
    {
     "name": "stderr",
     "output_type": "stream",
     "text": [
      " 37%|███▋      | 142/379 [02:45<02:52,  1.37it/s]"
     ]
    },
    {
     "name": "stdout",
     "output_type": "stream",
     "text": [
      "flux is empty\n"
     ]
    },
    {
     "name": "stderr",
     "output_type": "stream",
     "text": [
      " 39%|███▉      | 149/379 [02:50<02:46,  1.39it/s]"
     ]
    },
    {
     "name": "stdout",
     "output_type": "stream",
     "text": [
      "gas 1873.53\n"
     ]
    },
    {
     "name": "stderr",
     "output_type": "stream",
     "text": [
      " 40%|███▉      | 150/379 [02:51<02:52,  1.33it/s]"
     ]
    },
    {
     "name": "stdout",
     "output_type": "stream",
     "text": [
      "gifto 199.8\n"
     ]
    },
    {
     "name": "stderr",
     "output_type": "stream",
     "text": [
      " 40%|████      | 152/379 [02:52<02:44,  1.38it/s]"
     ]
    },
    {
     "name": "stdout",
     "output_type": "stream",
     "text": [
      "gnosis is empty\n"
     ]
    },
    {
     "name": "stderr",
     "output_type": "stream",
     "text": [
      " 41%|████      | 155/379 [02:55<02:56,  1.27it/s]"
     ]
    },
    {
     "name": "stdout",
     "output_type": "stream",
     "text": [
      "groestlcoin 665.5\n"
     ]
    },
    {
     "name": "stderr",
     "output_type": "stream",
     "text": [
      " 42%|████▏     | 158/379 [02:57<02:57,  1.24it/s]"
     ]
    },
    {
     "name": "stdout",
     "output_type": "stream",
     "text": [
      "hedera 203.36\n"
     ]
    },
    {
     "name": "stderr",
     "output_type": "stream",
     "text": [
      " 43%|████▎     | 162/379 [03:01<03:25,  1.06it/s]"
     ]
    },
    {
     "name": "stdout",
     "output_type": "stream",
     "text": [
      "hive 183.6\n"
     ]
    },
    {
     "name": "stderr",
     "output_type": "stream",
     "text": [
      " 47%|████▋     | 177/379 [03:12<02:35,  1.30it/s]"
     ]
    },
    {
     "name": "stdout",
     "output_type": "stream",
     "text": [
      "joe 113.85\n"
     ]
    },
    {
     "name": "stderr",
     "output_type": "stream",
     "text": [
      " 50%|█████     | 191/379 [03:23<02:10,  1.44it/s]"
     ]
    },
    {
     "name": "stdout",
     "output_type": "stream",
     "text": [
      "linkdown 153.32\n"
     ]
    },
    {
     "name": "stderr",
     "output_type": "stream",
     "text": [
      " 51%|█████     | 193/379 [03:24<02:12,  1.40it/s]"
     ]
    },
    {
     "name": "stdout",
     "output_type": "stream",
     "text": [
      "lisk 1106.93\n"
     ]
    },
    {
     "name": "stderr",
     "output_type": "stream",
     "text": [
      " 54%|█████▎    | 203/379 [03:32<02:16,  1.29it/s]"
     ]
    },
    {
     "name": "stdout",
     "output_type": "stream",
     "text": [
      "marlin 289.19\n"
     ]
    },
    {
     "name": "stderr",
     "output_type": "stream",
     "text": [
      " 55%|█████▍    | 208/379 [03:36<02:13,  1.28it/s]"
     ]
    },
    {
     "name": "stdout",
     "output_type": "stream",
     "text": [
      "metal 567.09\n"
     ]
    },
    {
     "name": "stderr",
     "output_type": "stream",
     "text": [
      " 56%|█████▌    | 212/379 [03:39<01:54,  1.46it/s]"
     ]
    },
    {
     "name": "stdout",
     "output_type": "stream",
     "text": [
      "mithril 1226.56\n"
     ]
    },
    {
     "name": "stderr",
     "output_type": "stream",
     "text": [
      " 64%|██████▎   | 241/379 [04:02<01:42,  1.34it/s]"
     ]
    },
    {
     "name": "stdout",
     "output_type": "stream",
     "text": [
      "ontology 205.28\n"
     ]
    },
    {
     "name": "stderr",
     "output_type": "stream",
     "text": [
      " 64%|██████▍   | 242/379 [04:02<01:42,  1.34it/s]"
     ]
    },
    {
     "name": "stdout",
     "output_type": "stream",
     "text": [
      "ontology-gas 1464.4\n"
     ]
    },
    {
     "name": "stderr",
     "output_type": "stream",
     "text": [
      " 67%|██████▋   | 255/379 [04:14<02:10,  1.06s/it]"
     ]
    },
    {
     "name": "stdout",
     "output_type": "stream",
     "text": [
      "pivx 235.63\n"
     ]
    },
    {
     "name": "stderr",
     "output_type": "stream",
     "text": [
      " 69%|██████▉   | 262/379 [04:22<02:08,  1.10s/it]"
     ]
    },
    {
     "name": "stdout",
     "output_type": "stream",
     "text": [
      "pound-sterling is empty\n"
     ]
    },
    {
     "name": "stderr",
     "output_type": "stream",
     "text": [
      " 72%|███████▏  | 273/379 [04:31<01:32,  1.14it/s]"
     ]
    },
    {
     "name": "stdout",
     "output_type": "stream",
     "text": [
      "quarkchain 123.72\n"
     ]
    },
    {
     "name": "stderr",
     "output_type": "stream",
     "text": [
      " 73%|███████▎  | 275/379 [04:33<01:30,  1.14it/s]"
     ]
    },
    {
     "name": "stdout",
     "output_type": "stream",
     "text": [
      "radicle 102.4\n"
     ]
    },
    {
     "name": "stderr",
     "output_type": "stream",
     "text": [
      " 73%|███████▎  | 276/379 [04:34<01:33,  1.10it/s]"
     ]
    },
    {
     "name": "stdout",
     "output_type": "stream",
     "text": [
      "ramp 1387.64\n"
     ]
    },
    {
     "name": "stderr",
     "output_type": "stream",
     "text": [
      " 74%|███████▍  | 282/379 [04:40<01:32,  1.05it/s]"
     ]
    },
    {
     "name": "stdout",
     "output_type": "stream",
     "text": [
      "request 106.88\n"
     ]
    },
    {
     "name": "stderr",
     "output_type": "stream",
     "text": [
      " 75%|███████▍  | 284/379 [04:42<01:30,  1.05it/s]"
     ]
    },
    {
     "name": "stdout",
     "output_type": "stream",
     "text": [
      "rsk-infrastructure-framework 257.57\n"
     ]
    },
    {
     "name": "stderr",
     "output_type": "stream",
     "text": [
      " 80%|███████▉  | 302/379 [04:55<00:55,  1.39it/s]"
     ]
    },
    {
     "name": "stdout",
     "output_type": "stream",
     "text": [
      "stacks 108.86\n"
     ]
    },
    {
     "name": "stderr",
     "output_type": "stream",
     "text": [
      " 81%|████████  | 306/379 [04:59<00:57,  1.26it/s]"
     ]
    },
    {
     "name": "stdout",
     "output_type": "stream",
     "text": [
      "steem 8852.63\n"
     ]
    },
    {
     "name": "stderr",
     "output_type": "stream",
     "text": [
      " 82%|████████▏ | 310/379 [05:01<00:45,  1.51it/s]"
     ]
    },
    {
     "name": "stdout",
     "output_type": "stream",
     "text": [
      "stormx 135.87\n"
     ]
    },
    {
     "name": "stderr",
     "output_type": "stream",
     "text": [
      " 82%|████████▏ | 311/379 [05:02<00:44,  1.51it/s]"
     ]
    },
    {
     "name": "stdout",
     "output_type": "stream",
     "text": [
      "stratis 2364.41\n"
     ]
    },
    {
     "name": "stderr",
     "output_type": "stream",
     "text": [
      " 87%|████████▋ | 331/379 [05:17<00:38,  1.25it/s]"
     ]
    },
    {
     "name": "stdout",
     "output_type": "stream",
     "text": [
      "threshold 415.77\n"
     ]
    },
    {
     "name": "stderr",
     "output_type": "stream",
     "text": [
      " 93%|█████████▎| 354/379 [05:35<00:19,  1.31it/s]"
     ]
    },
    {
     "name": "stdout",
     "output_type": "stream",
     "text": [
      "verge 268.72\n"
     ]
    },
    {
     "name": "stderr",
     "output_type": "stream",
     "text": [
      "100%|██████████| 379/379 [05:54<00:00,  1.07it/s]"
     ]
    },
    {
     "name": "stdout",
     "output_type": "stream",
     "text": [
      "ddf  332\n",
      "TVdf  20\n",
      "False\n"
     ]
    },
    {
     "name": "stderr",
     "output_type": "stream",
     "text": [
      "\n"
     ]
    }
   ],
   "source": [
    "date=pd.Timestamp.now().strftime('%D_%H%M')\n",
    "# date = str(date)\n",
    "\n",
    "TV = []\n",
    "candidate= []\n",
    "\n",
    "\n",
    "# newcsv(date, coins)\n",
    "\n",
    "\n",
    "updatecsv(date, coins)\n"
   ]
  },
  {
   "cell_type": "code",
   "execution_count": 11,
   "metadata": {},
   "outputs": [
    {
     "name": "stdout",
     "output_type": "stream",
     "text": [
      "              coin  change  06/05/22_1130  06/05/22_1118  06/05/221117   1114  \\\n",
      "16          cortex    2.78          53.87          51.09         51.09  51.09   \n",
      "6           tellor    2.62         -43.02         -45.64        -45.64 -46.36   \n",
      "10         siacoin    2.59         -22.77         -25.36        -25.36 -25.96   \n",
      "7          syscoin    1.29          -7.48          -8.77         -8.77  -9.22   \n",
      "15          kadena    1.08         -27.17         -28.25        -28.25 -28.25   \n",
      "3          arweave    0.97         -19.28         -20.25        -20.25 -20.32   \n",
      "11       ravencoin    0.70         -28.32         -29.02        -29.02 -27.81   \n",
      "12  nervos-network    0.62         -27.49         -28.11        -28.11 -28.11   \n",
      "14        litecoin    0.54         -20.61         -21.15        -21.20 -21.20   \n",
      "2         dogecoin    0.33         -34.51         -34.84        -34.84 -34.84   \n",
      "\n",
      "     1806   1805  \n",
      "16  38.03  38.03  \n",
      "6  -49.95 -49.95  \n",
      "10 -37.04 -37.04  \n",
      "7  -63.83 -63.83  \n",
      "15  31.22  31.22  \n",
      "3  -13.12 -13.12  \n",
      "11 -28.29 -28.29  \n",
      "12 -28.40 -28.40  \n",
      "14 -18.01 -18.15  \n",
      "2  -15.60 -15.60  \n"
     ]
    }
   ],
   "source": [
    "\n",
    "change(10)\n",
    "\n",
    "# for c in tqdm(candidate):\n",
    "#     print(c)\n",
    "#     # get_tardingVolume(c)\n",
    "\n",
    "# print(TV)\n",
    "\n",
    "# print(candidate)\n",
    "\n",
    "\n"
   ]
  },
  {
   "cell_type": "code",
   "execution_count": 12,
   "metadata": {},
   "outputs": [
    {
     "data": {
      "text/plain": [
       "[['0x', 100.7],\n",
       " ['aave', -18.1],\n",
       " ['aavegotchi', -15.87],\n",
       " ['ac-milan-fan-token', -52.44],\n",
       " ['adadown', -29.05],\n",
       " ['adaup', -16.77],\n",
       " ['adventure-gold', -42.4],\n",
       " ['aelf', 182.08],\n",
       " ['aergo', 16.79],\n",
       " ['aion', -16.65],\n",
       " ['airswap', 0.15],\n",
       " ['akropolis', -30.31],\n",
       " ['alchemix', -5.2],\n",
       " ['alchemy-pay', 12.31],\n",
       " ['algorand', 39.97],\n",
       " ['alien-worlds', -15.93],\n",
       " ['alpaca-finance', -1.13],\n",
       " ['alpine-f1-team-fan-token', -59.53],\n",
       " ['amp', -24.03],\n",
       " ['ampleforth-governance-token', 206.41],\n",
       " ['anchor-protocol', -29.52],\n",
       " ['ankr', 32.6],\n",
       " ['apecoin', -56.29],\n",
       " ['api3', -1.1],\n",
       " ['aragon', -21.85],\n",
       " ['ardor', -31.43],\n",
       " ['ark', 269.89],\n",
       " ['arpa-chain', -32.6],\n",
       " ['arweave', -13.24],\n",
       " ['as-roma-fan-token', -65.21],\n",
       " ['astar', 3.93],\n",
       " ['atletico-de-madrid-fan-token', -51.89],\n",
       " ['audius', -35.41],\n",
       " ['augur', 87.75],\n",
       " ['auto', 52.32],\n",
       " ['automata-network', -10.57],\n",
       " ['avalanche', 37.56],\n",
       " ['axie-infinity', -39.99],\n",
       " ['badger-dao', -1.83],\n",
       " ['bakerytoken', -23.57],\n",
       " ['balancer', 62.38],\n",
       " ['bancor', 24.66],\n",
       " ['band-protocol', -2.7],\n",
       " ['barnbridge', 17.81],\n",
       " ['basic-attention-token', 1.36],\n",
       " ['beacon-eth', 4.07],\n",
       " ['beam', -17.51],\n",
       " ['beefy-finance', 5616.53],\n",
       " ['bella-protocol', -64.98],\n",
       " ['benqi', 106.47],\n",
       " ['beta-finance', -10.26],\n",
       " ['biconomy', 9.5],\n",
       " ['binance-usd', -1.31],\n",
       " ['binance-wrapped-dot', -47.4],\n",
       " ['binaryx', 275.87],\n",
       " ['biswap', -14.34],\n",
       " ['bitcoin', -1.38],\n",
       " ['bitcoin-cash', 3.68],\n",
       " ['bitcoin-gold', 109.34],\n",
       " ['bitshares', -16.64],\n",
       " ['bittorrent-new', 21.42],\n",
       " ['bluzelle', -48.24],\n",
       " ['bnb', -1.12],\n",
       " ['bnbdown', 7.67],\n",
       " ['bnbup', 14.42],\n",
       " ['bonfida', -51.24],\n",
       " ['bread', -24.23],\n",
       " ['btcdown', -16.58],\n",
       " ['btcup', -14.58],\n",
       " ['burger-swap', -1.6],\n",
       " ['cardano', -19.31],\n",
       " ['cartesi', -33.58],\n",
       " ['celer-network', 17.05],\n",
       " ['celo', -6.13],\n",
       " ['chainlink', 65.49],\n",
       " ['chiliz', -36.5],\n",
       " ['chromia', -19.2],\n",
       " ['civic', -13.85],\n",
       " ['cocos-bcx', -15.02],\n",
       " ['coin98', 7.27],\n",
       " ['compound', -1.63],\n",
       " ['constitutiondao', -29.27],\n",
       " ['contentos', -57.05],\n",
       " ['convex-finance', -9.84],\n",
       " ['cortex', -52.82],\n",
       " ['cosmos', -11.87],\n",
       " ['coti', -33.92],\n",
       " ['cream-finance', -0.45],\n",
       " ['curve-dao-token', 5.02],\n",
       " ['dash', -4.4],\n",
       " ['decentraland', -15.81],\n",
       " ['decred', -8.55],\n",
       " ['dego-finance', -19.17],\n",
       " ['dent', 2.85],\n",
       " ['dexe', 149.15],\n",
       " ['dforce', 8.6],\n",
       " ['dia', -39.83],\n",
       " ['digibyte', 16.07],\n",
       " ['district0x', -22.41],\n",
       " ['dock', 15.32],\n",
       " ['dodo', -33.88],\n",
       " ['dogecoin', -19.87],\n",
       " ['dotdown', -21.81],\n",
       " ['dotup', -37.67],\n",
       " ['dusk-network', -61.02],\n",
       " ['dydx', -3.63],\n",
       " ['easyfi', 150.34],\n",
       " ['ecash', 11.44],\n",
       " ['ellipsis', -0.63],\n",
       " ['elrond', 4.91],\n",
       " ['enjin-coin', -3.58],\n",
       " ['enzyme', 139.61],\n",
       " ['eos', -15.3],\n",
       " ['ethdown', -45.83],\n",
       " ['ethereum', 3.02],\n",
       " ['ethereum-classic', -11.37],\n",
       " ['ethereum-name-service', -21.23],\n",
       " ['ethup', 1.85],\n",
       " ['everipedia', 139.82],\n",
       " ['fantom', -17.78],\n",
       " ['fc-barcelona-fan-token', -52.91],\n",
       " ['filecoin', -17.13],\n",
       " ['fio-protocol', -19.09],\n",
       " ['firo', -34.52],\n",
       " ['flamingo', 14.61],\n",
       " ['flow', -41.41],\n",
       " ['frax-share', -52.22],\n",
       " ['frontier', -16.67],\n",
       " ['ftx-token', -18.37],\n",
       " ['funtoken', -0.4],\n",
       " ['gala', -28.29],\n",
       " ['gas', 1873.53],\n",
       " ['gifto', 199.8],\n",
       " ['gitcoin', -29.32],\n",
       " ['gochain', 31.6],\n",
       " ['golem', -2.59],\n",
       " ['groestlcoin', 665.5],\n",
       " ['harmony', -17.11],\n",
       " ['harvest-finance', -10.68],\n",
       " ['hedera', 203.36],\n",
       " ['helium', 1.54],\n",
       " ['hifi-finance', 45.0],\n",
       " ['highstreet', -30.38],\n",
       " ['hive', 183.6],\n",
       " ['holo', -19.76],\n",
       " ['horizen', -11.66],\n",
       " ['icon', 43.16],\n",
       " ['idex', 3.04],\n",
       " ['illuvium', 0.71],\n",
       " ['immutable-x', -2.97],\n",
       " ['internet-computer', -32.02],\n",
       " ['iota', -26.98],\n",
       " ['iotex', -6.45],\n",
       " ['irisnet', -37.33],\n",
       " ['joe', 113.85],\n",
       " ['just', -4.38],\n",
       " ['juventus-fan-token', 4.69],\n",
       " ['kadena', 2.54],\n",
       " ['kava', -4.16],\n",
       " ['keep3rv1', -14.96],\n",
       " ['klaytn', -32.81],\n",
       " ['komodo', -69.88],\n",
       " ['kusama', -9.53],\n",
       " ['kyber-network-crystal-v2', 30.67],\n",
       " ['lido-dao', -38.74],\n",
       " ['linear-finance', -91.8],\n",
       " ['linkdown', 153.32],\n",
       " ['linkup', 88.45],\n",
       " ['lisk', 1106.93],\n",
       " ['litecoin', -1.82],\n",
       " ['litentry', 1.35],\n",
       " ['livepeer', 7.3],\n",
       " ['loom-network', -65.5],\n",
       " ['loopring', -17.28],\n",
       " ['lto-network', 64.38],\n",
       " ['maker', 10.73],\n",
       " ['manchester-city-fan-token', -34.95],\n",
       " ['mantra-dao', 63.99],\n",
       " ['marlin', 289.19],\n",
       " ['mask-network', -8.43],\n",
       " ['mdex', 95.8],\n",
       " ['measurable-data-token', -0.34],\n",
       " ['merit-circle', 67.15],\n",
       " ['metal', 567.09],\n",
       " ['mina', -21.58],\n",
       " ['mines-of-dalarnia', -42.05],\n",
       " ['mirror-protocol', -6.87],\n",
       " ['mithril', 1226.56],\n",
       " ['mobilecoin', 54.19],\n",
       " ['mobox', -9.12],\n",
       " ['moeda-loyalty-points', -83.89],\n",
       " ['monero', 6.68],\n",
       " ['moonbeam', 10.42],\n",
       " ['moonriver', 23.49],\n",
       " ['moviebloc', 93.85],\n",
       " ['multichain', 7.88],\n",
       " ['myneighboralice', -34.32],\n",
       " ['nano', -9.14],\n",
       " ['navcoin', -37.11],\n",
       " ['near-protocol', -19.69],\n",
       " ['neblio', -52.45],\n",
       " ['nem', -23.12],\n",
       " ['neo', 66.73],\n",
       " ['nervos-network', -2.62],\n",
       " ['new-bitshares', -11.0],\n",
       " ['nexo', 8.53],\n",
       " ['nexus', 84.27],\n",
       " ['nkn', -2.53],\n",
       " ['nuls', -75.16],\n",
       " ['numeraire', -5.63],\n",
       " ['oasis-network', -28.4],\n",
       " ['oax', 23.14],\n",
       " ['ocean-protocol', -78.56],\n",
       " ['og-fan-token', -68.68],\n",
       " ['ontology', 205.28],\n",
       " ['ontology-gas', 1464.4],\n",
       " ['ooki-protocol', -6.02],\n",
       " ['orchid', -14.73],\n",
       " ['origin-protocol', -4.86],\n",
       " ['orion-protocol', 53.72],\n",
       " ['pancakeswap', 21.14],\n",
       " ['paris-saint-germain-fan-token', -6.39],\n",
       " ['pax-gold', -3.09],\n",
       " ['perpetual-protocol', -23.89],\n",
       " ['phala-network', -0.46],\n",
       " ['pivx', 235.63],\n",
       " ['playdapp', 91.9],\n",
       " ['pnetwork', -31.98],\n",
       " ['polkadot', -17.36],\n",
       " ['polkastarter', 2.67],\n",
       " ['polygon', 12.23],\n",
       " ['powerpool', -52.34],\n",
       " ['project-galaxy', -4.71],\n",
       " ['prometeus', -34.96],\n",
       " ['prosper', 71.09],\n",
       " ['qtum', -0.08],\n",
       " ['quant', 4.49],\n",
       " ['quantstamp', 16.16],\n",
       " ['quarkchain', 123.72],\n",
       " ['quickswap', -34.28],\n",
       " ['radicle', 102.4],\n",
       " ['ramp', 1387.64],\n",
       " ['ravencoin', -10.43],\n",
       " ['raydium', 3.88],\n",
       " ['reef', -25.32],\n",
       " ['ren', -7.79],\n",
       " ['render-token', -3.26],\n",
       " ['request', 106.88],\n",
       " ['reserve-rights', -62.67],\n",
       " ['rsk-infrastructure-framework', 257.57],\n",
       " ['safepal', -3.25],\n",
       " ['santos-fc-fan-token', -77.28],\n",
       " ['secret', -1.93],\n",
       " ['selfkey', -33.19],\n",
       " ['serum', 19.38],\n",
       " ['shiba-inu', -4.39],\n",
       " ['siacoin', 26.02],\n",
       " ['singularitynet', 1.55],\n",
       " ['skale-network', -28.39],\n",
       " ['smooth-love-potion', -24.95],\n",
       " ['solana', -8.88],\n",
       " ['spartan-protocol', 54.27],\n",
       " ['spell-token', 37.12],\n",
       " ['stacks', 108.86],\n",
       " ['stafi', -40.23],\n",
       " ['standard-tokenization-protocol', -33.96],\n",
       " ['status', -8.53],\n",
       " ['steem', 8852.63],\n",
       " ['stellar', -25.05],\n",
       " ['storj', 30.47],\n",
       " ['stormx', 135.87],\n",
       " ['stratis', 2364.41],\n",
       " ['streamr', -17.36],\n",
       " ['superfarm', 42.35],\n",
       " ['superrare', -14.87],\n",
       " ['sushiswap', -19.89],\n",
       " ['sxp', -55.16],\n",
       " ['syscoin', 42.83],\n",
       " ['tellor', -0.76],\n",
       " ['terra', 63.66],\n",
       " ['terra-virtua-kolect', -35.82],\n",
       " ['terrausd', 10.85],\n",
       " ['tether', -1.85],\n",
       " ['tezos', -6.45],\n",
       " ['the-graph', -47.99],\n",
       " ['the-sandbox', -20.02],\n",
       " ['theta-fuel', 34.06],\n",
       " ['theta-network', -3.07],\n",
       " ['thorchain', -25.46],\n",
       " ['threshold', 415.77],\n",
       " ['tokenclub', 19.56],\n",
       " ['toko-token', 46.33],\n",
       " ['tomochain', -36.88],\n",
       " ['tranchess', -4.81],\n",
       " ['tribe', 12.4],\n",
       " ['tron', -33.76],\n",
       " ['troy', -21.25],\n",
       " ['truefi', 21.56],\n",
       " ['trueusd', 4.34],\n",
       " ['trust-wallet-token', -20.17],\n",
       " ['trxdown', -40.74],\n",
       " ['trxup', -52.25],\n",
       " ['uma', -0.52],\n",
       " ['unifi-protocol-dao', 8.86],\n",
       " ['unilend', -6.44],\n",
       " ['uniswap', -8.08],\n",
       " ['usd-coin', 1.74],\n",
       " ['utrust', 70.22],\n",
       " ['vechain', -4.98],\n",
       " ['venus', 0.72],\n",
       " ['verge', 268.72],\n",
       " ['vethor-token', -15.72],\n",
       " ['viberate', 53.34],\n",
       " ['vidt-datalink', 62.9],\n",
       " ['vite', -40.54],\n",
       " ['voxies', 4.72],\n",
       " ['voyager-token', -14.14],\n",
       " ['vulcan-forged-pyr', 0.73],\n",
       " ['wabi', -35.13],\n",
       " ['waltonchain', -28.85],\n",
       " ['wanchain', 8.26],\n",
       " ['waves', 11.47],\n",
       " ['wax', -5.75],\n",
       " ['wazirx', -4.69],\n",
       " ['wrapped-bitcoin', 9.95],\n",
       " ['wrapped-nxm', -4.22],\n",
       " ['xrp', -1.37],\n",
       " ['xrpdown', -13.11],\n",
       " ['xrpup', 25.87],\n",
       " ['yield-guild-games', -14.98],\n",
       " ['zcash', -12.01],\n",
       " ['zilliqa', -3.75]]"
      ]
     },
     "execution_count": 12,
     "metadata": {},
     "output_type": "execute_result"
    }
   ],
   "source": [
    "TV"
   ]
  },
  {
   "cell_type": "code",
   "execution_count": null,
   "metadata": {},
   "outputs": [],
   "source": [
    "\n"
   ]
  }
 ],
 "metadata": {
  "interpreter": {
   "hash": "4c2f98a013b216298a2e0ea35e2c604ca00c100e03aea0a00effc14efa776a80"
  },
  "kernelspec": {
   "display_name": "Python 3.10.0 64-bit ('algo': venv)",
   "language": "python",
   "name": "python3"
  },
  "language_info": {
   "codemirror_mode": {
    "name": "ipython",
    "version": 3
   },
   "file_extension": ".py",
   "mimetype": "text/x-python",
   "name": "python",
   "nbconvert_exporter": "python",
   "pygments_lexer": "ipython3",
   "version": "3.10.0"
  },
  "orig_nbformat": 4
 },
 "nbformat": 4,
 "nbformat_minor": 2
}
