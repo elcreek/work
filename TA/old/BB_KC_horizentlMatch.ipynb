{
 "cells": [
  {
   "cell_type": "code",
   "execution_count": null,
   "metadata": {},
   "outputs": [],
   "source": [
    "# if bb and kc are in sync with a shape of tube \n",
    "\n",
    "# or if bb and kc are very close to each other but for at least 3 consecutive candles"
   ]
  }
 ],
 "metadata": {
  "language_info": {
   "name": "python"
  },
  "orig_nbformat": 4
 },
 "nbformat": 4,
 "nbformat_minor": 2
}
