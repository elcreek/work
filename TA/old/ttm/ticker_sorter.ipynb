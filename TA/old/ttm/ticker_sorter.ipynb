{
 "cells": [
  {
   "cell_type": "code",
   "execution_count": 1,
   "metadata": {},
   "outputs": [],
   "source": [
    "import ccxt\n",
    "import pandas as pd\n",
    "import pandas_ta as ta"
   ]
  },
  {
   "cell_type": "code",
   "execution_count": 2,
   "metadata": {},
   "outputs": [],
   "source": [
    "exchange = ccxt.binance()\n",
    "exchange.load_markets()\n",
    "\n",
    "symbols = exchange.symbols"
   ]
  },
  {
   "cell_type": "code",
   "execution_count": 3,
   "metadata": {},
   "outputs": [
    {
     "name": "stdout",
     "output_type": "stream",
     "text": [
      "325 384 188\n",
      "all symbols without filter 1879\n"
     ]
    }
   ],
   "source": [
    "# clear the symbols from up down and orgize them in usdt and btc and eth\n",
    "\n",
    "usdt = []\n",
    "btc = []\n",
    "eth = []\n",
    "halal = []\n",
    "\n",
    "for symbol in symbols:\n",
    "    if '/USDT' in symbol and '3L' not in symbol and '3S' not in symbol and 'UP' not in symbol and 'DOWN' not in symbol and 'BULL' not in symbol and 'BEAR' not in symbol:\n",
    "        usdt.append(symbol)\n",
    "    if '/BTC' in symbol and '3L' not in symbol and '3S' not in symbol and 'UP' not in symbol and 'DOWN' not in symbol and 'BULL' not in symbol and 'BEAR' not in symbol:\n",
    "        btc.append(symbol)\n",
    "    if '/ETH' in symbol and '3L' not in symbol and '3S' not in symbol and 'UP' not in symbol and 'DOWN' not in symbol and 'BULL' not in symbol and 'BEAR' not in symbol:\n",
    "        eth.append(symbol)\n",
    "\n",
    "print(len(usdt), len(btc), len(eth))\n",
    "print('all symbols without filter', len(symbols))\n"
   ]
  },
  {
   "cell_type": "code",
   "execution_count": 4,
   "metadata": {},
   "outputs": [],
   "source": [
    "# save to txt file\n",
    "\n",
    "with open(\"usdt.txt\", \"w\") as output:\n",
    "    output.write(str(usdt))\n",
    "\n",
    "with open(\"btc.txt\", \"w\") as output:\n",
    "    output.write(str(btc))\n",
    "\n",
    "with open(\"eth.txt\", \"w\") as output:\n",
    "    output.write(str(eth))\n"
   ]
  },
  {
   "cell_type": "code",
   "execution_count": 5,
   "metadata": {},
   "outputs": [],
   "source": [
    "\n",
    "# test strategy\n",
    "\n",
    "for symbol in eth:\n",
    "    try:\n",
    "        bars = exchange.fetch_ohlcv(symbol, timeframe='1d', limit=202)\n",
    "        df = pd.DataFrame(bars, columns=['time', 'open', 'high', 'low', 'close', 'volume'])\n",
    "        ema8 = ta.ema(df['close'], length=50).tail(1).item()\n",
    "        ema14 = ta.ema(df['close'], length=200).tail(1).item()\n",
    "    except:\n",
    "        pass"
   ]
  }
 ],
 "metadata": {
  "interpreter": {
   "hash": "5a6e9528aa850de18c08131df015ab137a517634069ec846733f18057169b425"
  },
  "kernelspec": {
   "display_name": "Python 3.10.0 64-bit ('fintech': venv)",
   "language": "python",
   "name": "python3"
  },
  "language_info": {
   "codemirror_mode": {
    "name": "ipython",
    "version": 3
   },
   "file_extension": ".py",
   "mimetype": "text/x-python",
   "name": "python",
   "nbconvert_exporter": "python",
   "pygments_lexer": "ipython3",
   "version": "3.10.0"
  },
  "orig_nbformat": 4
 },
 "nbformat": 4,
 "nbformat_minor": 2
}
