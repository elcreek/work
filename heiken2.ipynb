{
 "cells": [
  {
   "cell_type": "code",
   "execution_count": null,
   "metadata": {},
   "outputs": [],
   "source": [
    "# buy when the candle closes without a bottom wick or the bwick is 20% of the body or less\n",
    "# sell on the first red czndle\n",
    "\n",
    "# if the wick bigger than the body sell ----maybe----\n",
    "# if the upper or lower wick is long i wont enter "
   ]
  },
  {
   "cell_type": "code",
   "execution_count": null,
   "metadata": {},
   "outputs": [],
   "source": [
    "import pandas as pd\n",
    "import pandas_ta as ta\n",
    "import os\n"
   ]
  },
  {
   "cell_type": "code",
   "execution_count": null,
   "metadata": {},
   "outputs": [],
   "source": [
    "# if (ha.iloc[-1]['HA_close'] > ha.iloc[-1]['HA_open']):\n",
    "#     # find the start of streak\n",
    "\n",
    "def heiken(ha):\n",
    "    # find all green candles\n",
    "    ha['greens'] = (ha['HA_open'] < ha['HA_close']) \n",
    "    # ha.tail(19)\n",
    "\n",
    "    # if last candle is green \n",
    "    # loop ha in reverse (from last to first)\n",
    "    # break at the first false(wivh means a red candle)\n",
    "    # print the index of red candle found\n",
    "    # now you have a streak start with red, ends with green\n",
    "    if (ha.iloc[-1]['HA_close'] > ha.iloc[-1]['HA_open']):\n",
    "        for i in reversed(range(len(ha))):\n",
    "            if ha['greens'][i] == False:\n",
    "                cc = len(ha.iloc[i:])\n",
    "                # print(f\"{ha.index[i]} , candle count is {cc} (last and red candles included)\")\n",
    "                rows.append([symbol, cc, ha.index[i]])\n",
    "\n",
    "                break\n",
    "            \n",
    "    # dd = pd.DataFrame({'symbols': symbol, 'candle_count': cc, 'Time': ha.index[i]})\n",
    "\n",
    "\n",
    "\n",
    "    "
   ]
  },
  {
   "cell_type": "code",
   "execution_count": null,
   "metadata": {},
   "outputs": [],
   "source": [
    "# list_of=[]\n",
    "timeframe='4h'\n",
    "rows=[]\n",
    "# dirr = f\"C:/Users/Grant/Desktop/work_git/work/data/2022-01-28_12/{timeframe}\"\n",
    "outdir=f\"{os.getcwd()}/data/{timeframe}\"\n",
    "\n",
    "for filename in os.listdir(outdir):\n",
    "    # symbol = (filename.replace(f\"_{tf}.csv\",\"\")).replace(\"_\",\"\")\n",
    "    symbol = filename.replace(f\"_{timeframe}.csv\",\"\")\n",
    "    data = pd.read_csv(f\"{outdir}/{filename}\", index_col='Time', parse_dates=['Time'])\n",
    "    # print(symbol\n",
    "    ha=ta.ha(data['Open'],data['High'],data['Low'],data['Close'])\n",
    "    heiken(ha)\n",
    "\n",
    "\n",
    "    table = pd.DataFrame(rows, columns=[\"symbols\", \"candle_count\",\"Time\"])\n",
    "\n",
    "table"
   ]
  }
 ],
 "metadata": {
  "language_info": {
   "name": "python"
  },
  "orig_nbformat": 4
 },
 "nbformat": 4,
 "nbformat_minor": 2
}
