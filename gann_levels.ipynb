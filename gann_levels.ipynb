{
 "cells": [
  {
   "cell_type": "code",
   "execution_count": null,
   "metadata": {},
   "outputs": [],
   "source": [
    "import matplotlib\n",
    "import os\n",
    "import pandas as pd\n",
    "matplotlib.use('Agg') # Bypass the need to install Tkinter GUI framework\n",
    " \n",
    "from scipy import signal\n",
    "import numpy as np\n",
    "import matplotlib.pyplot as plt\n",
    " "
   ]
  },
  {
   "cell_type": "code",
   "execution_count": null,
   "metadata": {},
   "outputs": [],
   "source": [
    " \n",
    "timeframe='1h'\n",
    "symbol = 'JASMYUSDT'\n",
    "\n",
    "outdir=f\"{os.getcwd()}/old/data/{timeframe}\"\n",
    "data = pd.read_csv(f\"{outdir}/{symbol}_{timeframe}.csv\", index_col='Time')"
   ]
  },
  {
   "cell_type": "code",
   "execution_count": 34,
   "metadata": {},
   "outputs": [],
   "source": [
    "\n",
    "# Find peaks(max).\n",
    "# argrelextrema(data['Close'].values, np.greater, order=order)[0]\n",
    "peak_indexes = signal.argrelextrema(data['High'].values, np.greater)\n",
    "peak_indexes = peak_indexes[0]\n",
    " \n",
    "# Find valleys(min).\n",
    "valley_indexes = signal.argrelextrema(data['Low'].values, np.less)\n",
    "valley_indexes = valley_indexes[0]\n",
    " "
   ]
  },
  {
   "cell_type": "code",
   "execution_count": 44,
   "metadata": {},
   "outputs": [],
   "source": [
    "# the highest peak\n",
    "max = data['Close'][peak_indexes].max()\n",
    "\n",
    "# sum the digits of the highest peak\n",
    "# 0.256 --> 13 --> 4\n",
    "acc = 0\n",
    "for n in str(max):\n",
    "    # print(n)\n",
    "    if n != '.':\n",
    "        acc+=int(n)\n",
    "\n",
    "import math\n",
    "class Solution:\n",
    "   def solve(self, n):\n",
    "      if n < 10:\n",
    "         return n\n",
    "      s = 0\n",
    "      l = math.floor(math.log(n, 10) + 1)\n",
    "      while l > 0:\n",
    "         s += n % 10\n",
    "         n //= 10\n",
    "         l -= 1\n",
    "      return self.solve(s)\n",
    "ob = Solution()\n",
    "\n",
    "base= ob.solve(acc)\n",
    "\n",
    "\n",
    "\n"
   ]
  },
  {
   "cell_type": "code",
   "execution_count": 45,
   "metadata": {},
   "outputs": [
    {
     "name": "stdout",
     "output_type": "stream",
     "text": [
      "12\n"
     ]
    }
   ],
   "source": [
    "if base in [1, 4, 7]:\n",
    "    print(12)\n",
    "elif base in [2, 5, 8]:\n",
    "    print(15)\n",
    "else:\n",
    "    print(18)"
   ]
  }
 ],
 "metadata": {
  "interpreter": {
   "hash": "3756e50263641124812bebbe71b3301d6fe5d90f19e89fc330b3e20fa5370427"
  },
  "kernelspec": {
   "display_name": "Python 3.10.0 64-bit ('algo': venv)",
   "language": "python",
   "name": "python3"
  },
  "language_info": {
   "codemirror_mode": {
    "name": "ipython",
    "version": 3
   },
   "file_extension": ".py",
   "mimetype": "text/x-python",
   "name": "python",
   "nbconvert_exporter": "python",
   "pygments_lexer": "ipython3",
   "version": "3.10.0"
  },
  "orig_nbformat": 4
 },
 "nbformat": 4,
 "nbformat_minor": 2
}
