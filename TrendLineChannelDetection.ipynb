{
 "cells": [
  {
   "cell_type": "markdown",
   "metadata": {},
   "source": [
    "# Trend Lines and Channels Detection"
   ]
  },
  {
   "cell_type": "code",
   "execution_count": null,
   "metadata": {},
   "outputs": [],
   "source": []
  },
  {
   "cell_type": "code",
   "execution_count": 1,
   "metadata": {},
   "outputs": [],
   "source": [
    "import ccxt\n",
    "import pandas as pd\n",
    "\n",
    "# exchange = ccxt.binance()\n",
    "# exchange.load_markets()\n",
    "\n",
    "# '''symbols variabl contains all the symbols of the exchange '''\n",
    "# symbols = exchange.symbols\n",
    "\n",
    "# # ticker = 'BTC-USDT'\n",
    "# # timeframe ='4h'\n",
    "# def ccxt_data(symbol='HNT/USDT', timeframe ='4h', limit=9000):\n",
    "\n",
    "#     \"\"\" use global to make a variable accesible by oher functions\n",
    "#     and always declare it before using it  \"\"\"\n",
    "#     global df\n",
    "\n",
    "#     '''if you dont do timeframe=timeframe it will not work \n",
    "#     but in symbol it works !!'''\n",
    "#     # fetch returns a list\n",
    "#     bars = exchange.fetch_ohlcv(symbol, timeframe=timeframe, limit=limit)\n",
    "\n",
    "#     df = pd.DataFrame(bars[:], columns=['time', 'open', 'high', 'low', 'close', 'volume'])\n",
    "#     # Time is in unix format\n",
    "#     df['time'] = pd.to_datetime(df['time'], unit='ms')\n",
    "#     df.set_index('time', inplace=True)\n",
    "    \n",
    "#     return df\n",
    "\n",
    "df = pd.read_csv('data/4h/ATOM_BUSD_4h_111.csv', index_col='Time')\n"
   ]
  },
  {
   "cell_type": "code",
   "execution_count": 2,
   "metadata": {},
   "outputs": [
    {
     "data": {
      "text/html": [
       "<div>\n",
       "<style scoped>\n",
       "    .dataframe tbody tr th:only-of-type {\n",
       "        vertical-align: middle;\n",
       "    }\n",
       "\n",
       "    .dataframe tbody tr th {\n",
       "        vertical-align: top;\n",
       "    }\n",
       "\n",
       "    .dataframe thead th {\n",
       "        text-align: right;\n",
       "    }\n",
       "</style>\n",
       "<table border=\"1\" class=\"dataframe\">\n",
       "  <thead>\n",
       "    <tr style=\"text-align: right;\">\n",
       "      <th></th>\n",
       "      <th>Open</th>\n",
       "      <th>High</th>\n",
       "      <th>Low</th>\n",
       "      <th>Close</th>\n",
       "      <th>Volume</th>\n",
       "    </tr>\n",
       "  </thead>\n",
       "  <tbody>\n",
       "    <tr>\n",
       "      <th>0</th>\n",
       "      <td>35.69</td>\n",
       "      <td>35.83</td>\n",
       "      <td>34.71</td>\n",
       "      <td>34.87</td>\n",
       "      <td>57858.79</td>\n",
       "    </tr>\n",
       "    <tr>\n",
       "      <th>1</th>\n",
       "      <td>34.91</td>\n",
       "      <td>35.77</td>\n",
       "      <td>34.62</td>\n",
       "      <td>35.68</td>\n",
       "      <td>68616.61</td>\n",
       "    </tr>\n",
       "    <tr>\n",
       "      <th>2</th>\n",
       "      <td>35.62</td>\n",
       "      <td>35.75</td>\n",
       "      <td>34.23</td>\n",
       "      <td>34.67</td>\n",
       "      <td>75490.93</td>\n",
       "    </tr>\n",
       "    <tr>\n",
       "      <th>3</th>\n",
       "      <td>34.69</td>\n",
       "      <td>35.70</td>\n",
       "      <td>34.65</td>\n",
       "      <td>35.51</td>\n",
       "      <td>52989.59</td>\n",
       "    </tr>\n",
       "    <tr>\n",
       "      <th>4</th>\n",
       "      <td>35.52</td>\n",
       "      <td>35.55</td>\n",
       "      <td>34.24</td>\n",
       "      <td>34.44</td>\n",
       "      <td>47059.23</td>\n",
       "    </tr>\n",
       "    <tr>\n",
       "      <th>5</th>\n",
       "      <td>34.41</td>\n",
       "      <td>35.44</td>\n",
       "      <td>34.40</td>\n",
       "      <td>35.35</td>\n",
       "      <td>26601.16</td>\n",
       "    </tr>\n",
       "    <tr>\n",
       "      <th>6</th>\n",
       "      <td>35.33</td>\n",
       "      <td>37.97</td>\n",
       "      <td>35.32</td>\n",
       "      <td>37.45</td>\n",
       "      <td>240617.88</td>\n",
       "    </tr>\n",
       "    <tr>\n",
       "      <th>7</th>\n",
       "      <td>37.49</td>\n",
       "      <td>38.78</td>\n",
       "      <td>37.40</td>\n",
       "      <td>38.04</td>\n",
       "      <td>168461.69</td>\n",
       "    </tr>\n",
       "    <tr>\n",
       "      <th>8</th>\n",
       "      <td>38.07</td>\n",
       "      <td>38.63</td>\n",
       "      <td>36.88</td>\n",
       "      <td>37.97</td>\n",
       "      <td>139596.15</td>\n",
       "    </tr>\n",
       "    <tr>\n",
       "      <th>9</th>\n",
       "      <td>37.97</td>\n",
       "      <td>39.81</td>\n",
       "      <td>36.93</td>\n",
       "      <td>39.24</td>\n",
       "      <td>156467.66</td>\n",
       "    </tr>\n",
       "  </tbody>\n",
       "</table>\n",
       "</div>"
      ],
      "text/plain": [
       "    Open   High    Low  Close     Volume\n",
       "0  35.69  35.83  34.71  34.87   57858.79\n",
       "1  34.91  35.77  34.62  35.68   68616.61\n",
       "2  35.62  35.75  34.23  34.67   75490.93\n",
       "3  34.69  35.70  34.65  35.51   52989.59\n",
       "4  35.52  35.55  34.24  34.44   47059.23\n",
       "5  34.41  35.44  34.40  35.35   26601.16\n",
       "6  35.33  37.97  35.32  37.45  240617.88\n",
       "7  37.49  38.78  37.40  38.04  168461.69\n",
       "8  38.07  38.63  36.88  37.97  139596.15\n",
       "9  37.97  39.81  36.93  39.24  156467.66"
      ]
     },
     "execution_count": 2,
     "metadata": {},
     "output_type": "execute_result"
    }
   ],
   "source": [
    "\n",
    "#Check if NA values are in data\n",
    "df=df[df['Volume']!=0]\n",
    "df.reset_index(drop=True, inplace=True)\n",
    "df.isna().sum()\n",
    "df.head(10)"
   ]
  },
  {
   "cell_type": "code",
   "execution_count": 3,
   "metadata": {},
   "outputs": [
    {
     "data": {
      "application/vnd.plotly.v1+json": {
       "config": {
        "plotlyServerURL": "https://plot.ly"
       },
       "data": [
        {
         "close": [
          34.87,
          35.68,
          34.67,
          35.51,
          34.44,
          35.35,
          37.45,
          38.04,
          37.97,
          39.24,
          37.99,
          39.36,
          40.53,
          42.26,
          42.95,
          42.05,
          41.98,
          41.55,
          40.27,
          40.7,
          37.43,
          38.65,
          36.14,
          37.1,
          36.18,
          38.22,
          40.46,
          40.16,
          38.29,
          41.33,
          43.03,
          43.08,
          40.91,
          38.57,
          39.02,
          38.99,
          38.11,
          36.78,
          35.09,
          35.87,
          37.14,
          36.19,
          35.45,
          34.87,
          37.48,
          34.99,
          36.16,
          36.66,
          35.84,
          36.38,
          36.5,
          37.87,
          38.59,
          38.58,
          36.89,
          36.75,
          38.75,
          38.65,
          40.2,
          41.02,
          40.13,
          40.94,
          41.3,
          40.23,
          39.79,
          40.05,
          40.1,
          39.41,
          38.67,
          37.61,
          38.05,
          37.71,
          37.41,
          38.3,
          39.41,
          40.43,
          40.11,
          40.39,
          39.85,
          40.05,
          40.16,
          39.14,
          41.06,
          42.25,
          42.97,
          43.06,
          42.53,
          43.66,
          41.86,
          42,
          41.42,
          40.61,
          39.96,
          39.15,
          38.48,
          38.37,
          37.81,
          37.05,
          38.06,
          38.26,
          37.15,
          35.84,
          36.52,
          37.19,
          37.38,
          37.04,
          38.54,
          39.45,
          39.33,
          41.31
         ],
         "high": [
          35.83,
          35.77,
          35.75,
          35.7,
          35.55,
          35.44,
          37.97,
          38.78,
          38.63,
          39.81,
          39.72,
          39.73,
          40.75,
          43.19,
          43.17,
          43.93,
          43.25,
          42.03,
          41.68,
          40.95,
          40.89,
          39.52,
          39.72,
          37.49,
          37.2,
          38.5,
          41.46,
          40.72,
          40.93,
          42,
          44.68,
          44.03,
          43.8,
          41.36,
          40.32,
          39.38,
          39.67,
          38.33,
          36.79,
          37.42,
          38.08,
          38.02,
          36.61,
          35.77,
          37.63,
          37.91,
          36.34,
          37.24,
          37,
          36.42,
          38.13,
          38.15,
          39.11,
          39.5,
          39.24,
          37.89,
          39.31,
          39.97,
          41,
          41.7,
          41.45,
          42.34,
          41.83,
          42.08,
          40.69,
          40.35,
          41.15,
          41.3,
          39.96,
          39.31,
          38.22,
          38.74,
          38.43,
          38.6,
          39.89,
          40.82,
          40.97,
          40.66,
          40.67,
          40.21,
          40.36,
          40.45,
          41.12,
          42.58,
          43.46,
          43.83,
          43.38,
          43.69,
          44.57,
          42.59,
          42.97,
          41.6,
          40.81,
          40.06,
          40.1,
          39.02,
          38.49,
          38.16,
          38.4,
          39.18,
          38.84,
          37.4,
          36.74,
          37.96,
          37.56,
          37.45,
          38.71,
          39.55,
          39.88,
          41.5
         ],
         "low": [
          34.71,
          34.62,
          34.23,
          34.65,
          34.24,
          34.4,
          35.32,
          37.4,
          36.88,
          36.93,
          37.52,
          37.81,
          38.95,
          40.19,
          40.59,
          41.55,
          41.24,
          40.87,
          39.82,
          39.35,
          37.14,
          34.64,
          36.04,
          35.87,
          35.45,
          35.71,
          38.06,
          38.98,
          37.69,
          38.02,
          41.2,
          41.49,
          40.41,
          38.34,
          38.34,
          38.6,
          37.83,
          36.63,
          34.07,
          34.79,
          35.47,
          36.19,
          34.46,
          34.11,
          34.63,
          34.81,
          34.55,
          35.79,
          35.5,
          32.94,
          36.05,
          36.34,
          36.66,
          38.13,
          36.86,
          36.14,
          36.53,
          38.35,
          38.61,
          40.13,
          39.68,
          39.89,
          40.58,
          40.02,
          39.06,
          39.58,
          40,
          38.76,
          38.33,
          37.45,
          37.05,
          37.5,
          36.75,
          36.78,
          37.98,
          39.03,
          39.88,
          39.58,
          39.7,
          39.14,
          39.5,
          39.14,
          38.85,
          40.8,
          41.71,
          42.78,
          42.42,
          42.21,
          41.85,
          41.09,
          41.29,
          40.44,
          39.54,
          37.96,
          38.07,
          37.83,
          37,
          36.28,
          36.84,
          37.65,
          37.07,
          35.53,
          35.33,
          36.15,
          36.56,
          36.35,
          36.95,
          38.27,
          38.83,
          39.01
         ],
         "open": [
          35.69,
          34.91,
          35.62,
          34.69,
          35.52,
          34.41,
          35.33,
          37.49,
          38.07,
          37.97,
          39.25,
          37.95,
          39.37,
          40.53,
          42.24,
          42.95,
          42.12,
          41.98,
          41.61,
          40.28,
          40.7,
          37.47,
          38.63,
          36.16,
          37.08,
          36.21,
          38.24,
          40.5,
          40.07,
          38.31,
          41.29,
          43.05,
          43.02,
          41,
          38.57,
          39.02,
          39,
          38.12,
          36.76,
          35.1,
          35.87,
          37.17,
          36.19,
          35.46,
          34.88,
          37.54,
          34.96,
          36.16,
          36.66,
          35.75,
          36.39,
          36.53,
          37.89,
          38.6,
          38.56,
          36.89,
          36.73,
          38.74,
          38.71,
          40.21,
          41,
          40.08,
          40.93,
          41.35,
          40.25,
          39.73,
          40.05,
          40.09,
          39.4,
          38.65,
          37.6,
          38.04,
          37.72,
          37.37,
          38.29,
          39.44,
          40.46,
          40.12,
          40.38,
          39.85,
          40.06,
          40.2,
          39.13,
          41.06,
          42.22,
          42.96,
          43.09,
          42.49,
          43.67,
          41.89,
          42.01,
          41.42,
          40.63,
          39.94,
          39.17,
          38.47,
          38.29,
          37.79,
          37.03,
          38.06,
          38.25,
          37.18,
          35.83,
          36.51,
          37.23,
          37.34,
          37.1,
          38.62,
          39.44,
          39.38
         ],
         "type": "candlestick",
         "x": [
          0,
          1,
          2,
          3,
          4,
          5,
          6,
          7,
          8,
          9,
          10,
          11,
          12,
          13,
          14,
          15,
          16,
          17,
          18,
          19,
          20,
          21,
          22,
          23,
          24,
          25,
          26,
          27,
          28,
          29,
          30,
          31,
          32,
          33,
          34,
          35,
          36,
          37,
          38,
          39,
          40,
          41,
          42,
          43,
          44,
          45,
          46,
          47,
          48,
          49,
          50,
          51,
          52,
          53,
          54,
          55,
          56,
          57,
          58,
          59,
          60,
          61,
          62,
          63,
          64,
          65,
          66,
          67,
          68,
          69,
          70,
          71,
          72,
          73,
          74,
          75,
          76,
          77,
          78,
          79,
          80,
          81,
          82,
          83,
          84,
          85,
          86,
          87,
          88,
          89,
          90,
          91,
          92,
          93,
          94,
          95,
          96,
          97,
          98,
          99,
          100,
          101,
          102,
          103,
          104,
          105,
          106,
          107,
          108,
          109
         ]
        }
       ],
       "layout": {
        "template": {
         "data": {
          "bar": [
           {
            "error_x": {
             "color": "#2a3f5f"
            },
            "error_y": {
             "color": "#2a3f5f"
            },
            "marker": {
             "line": {
              "color": "#E5ECF6",
              "width": 0.5
             },
             "pattern": {
              "fillmode": "overlay",
              "size": 10,
              "solidity": 0.2
             }
            },
            "type": "bar"
           }
          ],
          "barpolar": [
           {
            "marker": {
             "line": {
              "color": "#E5ECF6",
              "width": 0.5
             },
             "pattern": {
              "fillmode": "overlay",
              "size": 10,
              "solidity": 0.2
             }
            },
            "type": "barpolar"
           }
          ],
          "carpet": [
           {
            "aaxis": {
             "endlinecolor": "#2a3f5f",
             "gridcolor": "white",
             "linecolor": "white",
             "minorgridcolor": "white",
             "startlinecolor": "#2a3f5f"
            },
            "baxis": {
             "endlinecolor": "#2a3f5f",
             "gridcolor": "white",
             "linecolor": "white",
             "minorgridcolor": "white",
             "startlinecolor": "#2a3f5f"
            },
            "type": "carpet"
           }
          ],
          "choropleth": [
           {
            "colorbar": {
             "outlinewidth": 0,
             "ticks": ""
            },
            "type": "choropleth"
           }
          ],
          "contour": [
           {
            "colorbar": {
             "outlinewidth": 0,
             "ticks": ""
            },
            "colorscale": [
             [
              0,
              "#0d0887"
             ],
             [
              0.1111111111111111,
              "#46039f"
             ],
             [
              0.2222222222222222,
              "#7201a8"
             ],
             [
              0.3333333333333333,
              "#9c179e"
             ],
             [
              0.4444444444444444,
              "#bd3786"
             ],
             [
              0.5555555555555556,
              "#d8576b"
             ],
             [
              0.6666666666666666,
              "#ed7953"
             ],
             [
              0.7777777777777778,
              "#fb9f3a"
             ],
             [
              0.8888888888888888,
              "#fdca26"
             ],
             [
              1,
              "#f0f921"
             ]
            ],
            "type": "contour"
           }
          ],
          "contourcarpet": [
           {
            "colorbar": {
             "outlinewidth": 0,
             "ticks": ""
            },
            "type": "contourcarpet"
           }
          ],
          "heatmap": [
           {
            "colorbar": {
             "outlinewidth": 0,
             "ticks": ""
            },
            "colorscale": [
             [
              0,
              "#0d0887"
             ],
             [
              0.1111111111111111,
              "#46039f"
             ],
             [
              0.2222222222222222,
              "#7201a8"
             ],
             [
              0.3333333333333333,
              "#9c179e"
             ],
             [
              0.4444444444444444,
              "#bd3786"
             ],
             [
              0.5555555555555556,
              "#d8576b"
             ],
             [
              0.6666666666666666,
              "#ed7953"
             ],
             [
              0.7777777777777778,
              "#fb9f3a"
             ],
             [
              0.8888888888888888,
              "#fdca26"
             ],
             [
              1,
              "#f0f921"
             ]
            ],
            "type": "heatmap"
           }
          ],
          "heatmapgl": [
           {
            "colorbar": {
             "outlinewidth": 0,
             "ticks": ""
            },
            "colorscale": [
             [
              0,
              "#0d0887"
             ],
             [
              0.1111111111111111,
              "#46039f"
             ],
             [
              0.2222222222222222,
              "#7201a8"
             ],
             [
              0.3333333333333333,
              "#9c179e"
             ],
             [
              0.4444444444444444,
              "#bd3786"
             ],
             [
              0.5555555555555556,
              "#d8576b"
             ],
             [
              0.6666666666666666,
              "#ed7953"
             ],
             [
              0.7777777777777778,
              "#fb9f3a"
             ],
             [
              0.8888888888888888,
              "#fdca26"
             ],
             [
              1,
              "#f0f921"
             ]
            ],
            "type": "heatmapgl"
           }
          ],
          "histogram": [
           {
            "marker": {
             "pattern": {
              "fillmode": "overlay",
              "size": 10,
              "solidity": 0.2
             }
            },
            "type": "histogram"
           }
          ],
          "histogram2d": [
           {
            "colorbar": {
             "outlinewidth": 0,
             "ticks": ""
            },
            "colorscale": [
             [
              0,
              "#0d0887"
             ],
             [
              0.1111111111111111,
              "#46039f"
             ],
             [
              0.2222222222222222,
              "#7201a8"
             ],
             [
              0.3333333333333333,
              "#9c179e"
             ],
             [
              0.4444444444444444,
              "#bd3786"
             ],
             [
              0.5555555555555556,
              "#d8576b"
             ],
             [
              0.6666666666666666,
              "#ed7953"
             ],
             [
              0.7777777777777778,
              "#fb9f3a"
             ],
             [
              0.8888888888888888,
              "#fdca26"
             ],
             [
              1,
              "#f0f921"
             ]
            ],
            "type": "histogram2d"
           }
          ],
          "histogram2dcontour": [
           {
            "colorbar": {
             "outlinewidth": 0,
             "ticks": ""
            },
            "colorscale": [
             [
              0,
              "#0d0887"
             ],
             [
              0.1111111111111111,
              "#46039f"
             ],
             [
              0.2222222222222222,
              "#7201a8"
             ],
             [
              0.3333333333333333,
              "#9c179e"
             ],
             [
              0.4444444444444444,
              "#bd3786"
             ],
             [
              0.5555555555555556,
              "#d8576b"
             ],
             [
              0.6666666666666666,
              "#ed7953"
             ],
             [
              0.7777777777777778,
              "#fb9f3a"
             ],
             [
              0.8888888888888888,
              "#fdca26"
             ],
             [
              1,
              "#f0f921"
             ]
            ],
            "type": "histogram2dcontour"
           }
          ],
          "mesh3d": [
           {
            "colorbar": {
             "outlinewidth": 0,
             "ticks": ""
            },
            "type": "mesh3d"
           }
          ],
          "parcoords": [
           {
            "line": {
             "colorbar": {
              "outlinewidth": 0,
              "ticks": ""
             }
            },
            "type": "parcoords"
           }
          ],
          "pie": [
           {
            "automargin": true,
            "type": "pie"
           }
          ],
          "scatter": [
           {
            "marker": {
             "colorbar": {
              "outlinewidth": 0,
              "ticks": ""
             }
            },
            "type": "scatter"
           }
          ],
          "scatter3d": [
           {
            "line": {
             "colorbar": {
              "outlinewidth": 0,
              "ticks": ""
             }
            },
            "marker": {
             "colorbar": {
              "outlinewidth": 0,
              "ticks": ""
             }
            },
            "type": "scatter3d"
           }
          ],
          "scattercarpet": [
           {
            "marker": {
             "colorbar": {
              "outlinewidth": 0,
              "ticks": ""
             }
            },
            "type": "scattercarpet"
           }
          ],
          "scattergeo": [
           {
            "marker": {
             "colorbar": {
              "outlinewidth": 0,
              "ticks": ""
             }
            },
            "type": "scattergeo"
           }
          ],
          "scattergl": [
           {
            "marker": {
             "colorbar": {
              "outlinewidth": 0,
              "ticks": ""
             }
            },
            "type": "scattergl"
           }
          ],
          "scattermapbox": [
           {
            "marker": {
             "colorbar": {
              "outlinewidth": 0,
              "ticks": ""
             }
            },
            "type": "scattermapbox"
           }
          ],
          "scatterpolar": [
           {
            "marker": {
             "colorbar": {
              "outlinewidth": 0,
              "ticks": ""
             }
            },
            "type": "scatterpolar"
           }
          ],
          "scatterpolargl": [
           {
            "marker": {
             "colorbar": {
              "outlinewidth": 0,
              "ticks": ""
             }
            },
            "type": "scatterpolargl"
           }
          ],
          "scatterternary": [
           {
            "marker": {
             "colorbar": {
              "outlinewidth": 0,
              "ticks": ""
             }
            },
            "type": "scatterternary"
           }
          ],
          "surface": [
           {
            "colorbar": {
             "outlinewidth": 0,
             "ticks": ""
            },
            "colorscale": [
             [
              0,
              "#0d0887"
             ],
             [
              0.1111111111111111,
              "#46039f"
             ],
             [
              0.2222222222222222,
              "#7201a8"
             ],
             [
              0.3333333333333333,
              "#9c179e"
             ],
             [
              0.4444444444444444,
              "#bd3786"
             ],
             [
              0.5555555555555556,
              "#d8576b"
             ],
             [
              0.6666666666666666,
              "#ed7953"
             ],
             [
              0.7777777777777778,
              "#fb9f3a"
             ],
             [
              0.8888888888888888,
              "#fdca26"
             ],
             [
              1,
              "#f0f921"
             ]
            ],
            "type": "surface"
           }
          ],
          "table": [
           {
            "cells": {
             "fill": {
              "color": "#EBF0F8"
             },
             "line": {
              "color": "white"
             }
            },
            "header": {
             "fill": {
              "color": "#C8D4E3"
             },
             "line": {
              "color": "white"
             }
            },
            "type": "table"
           }
          ]
         },
         "layout": {
          "annotationdefaults": {
           "arrowcolor": "#2a3f5f",
           "arrowhead": 0,
           "arrowwidth": 1
          },
          "autotypenumbers": "strict",
          "coloraxis": {
           "colorbar": {
            "outlinewidth": 0,
            "ticks": ""
           }
          },
          "colorscale": {
           "diverging": [
            [
             0,
             "#8e0152"
            ],
            [
             0.1,
             "#c51b7d"
            ],
            [
             0.2,
             "#de77ae"
            ],
            [
             0.3,
             "#f1b6da"
            ],
            [
             0.4,
             "#fde0ef"
            ],
            [
             0.5,
             "#f7f7f7"
            ],
            [
             0.6,
             "#e6f5d0"
            ],
            [
             0.7,
             "#b8e186"
            ],
            [
             0.8,
             "#7fbc41"
            ],
            [
             0.9,
             "#4d9221"
            ],
            [
             1,
             "#276419"
            ]
           ],
           "sequential": [
            [
             0,
             "#0d0887"
            ],
            [
             0.1111111111111111,
             "#46039f"
            ],
            [
             0.2222222222222222,
             "#7201a8"
            ],
            [
             0.3333333333333333,
             "#9c179e"
            ],
            [
             0.4444444444444444,
             "#bd3786"
            ],
            [
             0.5555555555555556,
             "#d8576b"
            ],
            [
             0.6666666666666666,
             "#ed7953"
            ],
            [
             0.7777777777777778,
             "#fb9f3a"
            ],
            [
             0.8888888888888888,
             "#fdca26"
            ],
            [
             1,
             "#f0f921"
            ]
           ],
           "sequentialminus": [
            [
             0,
             "#0d0887"
            ],
            [
             0.1111111111111111,
             "#46039f"
            ],
            [
             0.2222222222222222,
             "#7201a8"
            ],
            [
             0.3333333333333333,
             "#9c179e"
            ],
            [
             0.4444444444444444,
             "#bd3786"
            ],
            [
             0.5555555555555556,
             "#d8576b"
            ],
            [
             0.6666666666666666,
             "#ed7953"
            ],
            [
             0.7777777777777778,
             "#fb9f3a"
            ],
            [
             0.8888888888888888,
             "#fdca26"
            ],
            [
             1,
             "#f0f921"
            ]
           ]
          },
          "colorway": [
           "#636efa",
           "#EF553B",
           "#00cc96",
           "#ab63fa",
           "#FFA15A",
           "#19d3f3",
           "#FF6692",
           "#B6E880",
           "#FF97FF",
           "#FECB52"
          ],
          "font": {
           "color": "#2a3f5f"
          },
          "geo": {
           "bgcolor": "white",
           "lakecolor": "white",
           "landcolor": "#E5ECF6",
           "showlakes": true,
           "showland": true,
           "subunitcolor": "white"
          },
          "hoverlabel": {
           "align": "left"
          },
          "hovermode": "closest",
          "mapbox": {
           "style": "light"
          },
          "paper_bgcolor": "white",
          "plot_bgcolor": "#E5ECF6",
          "polar": {
           "angularaxis": {
            "gridcolor": "white",
            "linecolor": "white",
            "ticks": ""
           },
           "bgcolor": "#E5ECF6",
           "radialaxis": {
            "gridcolor": "white",
            "linecolor": "white",
            "ticks": ""
           }
          },
          "scene": {
           "xaxis": {
            "backgroundcolor": "#E5ECF6",
            "gridcolor": "white",
            "gridwidth": 2,
            "linecolor": "white",
            "showbackground": true,
            "ticks": "",
            "zerolinecolor": "white"
           },
           "yaxis": {
            "backgroundcolor": "#E5ECF6",
            "gridcolor": "white",
            "gridwidth": 2,
            "linecolor": "white",
            "showbackground": true,
            "ticks": "",
            "zerolinecolor": "white"
           },
           "zaxis": {
            "backgroundcolor": "#E5ECF6",
            "gridcolor": "white",
            "gridwidth": 2,
            "linecolor": "white",
            "showbackground": true,
            "ticks": "",
            "zerolinecolor": "white"
           }
          },
          "shapedefaults": {
           "line": {
            "color": "#2a3f5f"
           }
          },
          "ternary": {
           "aaxis": {
            "gridcolor": "white",
            "linecolor": "white",
            "ticks": ""
           },
           "baxis": {
            "gridcolor": "white",
            "linecolor": "white",
            "ticks": ""
           },
           "bgcolor": "#E5ECF6",
           "caxis": {
            "gridcolor": "white",
            "linecolor": "white",
            "ticks": ""
           }
          },
          "title": {
           "x": 0.05
          },
          "xaxis": {
           "automargin": true,
           "gridcolor": "white",
           "linecolor": "white",
           "ticks": "",
           "title": {
            "standoff": 15
           },
           "zerolinecolor": "white",
           "zerolinewidth": 2
          },
          "yaxis": {
           "automargin": true,
           "gridcolor": "white",
           "linecolor": "white",
           "ticks": "",
           "title": {
            "standoff": 15
           },
           "zerolinecolor": "white",
           "zerolinewidth": 2
          }
         }
        }
       }
      }
     },
     "metadata": {},
     "output_type": "display_data"
    }
   ],
   "source": [
    "dfpl = df[:]\n",
    "import plotly.graph_objects as go\n",
    "from datetime import datetime\n",
    "\n",
    "fig = go.Figure(data=[go.Candlestick(x=dfpl.index,\n",
    "                open=dfpl['Open'],\n",
    "                high=dfpl['High'],\n",
    "                low=dfpl['Low'],\n",
    "                close=dfpl['Close'])])\n",
    "\n",
    "fig.show()"
   ]
  },
  {
   "cell_type": "code",
   "execution_count": 6,
   "metadata": {},
   "outputs": [
    {
     "data": {
      "application/vnd.plotly.v1+json": {
       "config": {
        "plotlyServerURL": "https://plot.ly"
       },
       "data": [
        {
         "close": [
          35.09,
          35.87,
          37.14,
          36.19,
          35.45,
          34.87,
          37.48,
          34.99,
          36.16,
          36.66,
          35.84,
          36.38,
          36.5,
          37.87,
          38.59,
          38.58,
          36.89,
          36.75,
          38.75,
          38.65,
          40.2,
          41.02,
          40.13,
          40.94,
          41.3,
          40.23,
          39.79,
          40.05,
          40.1,
          39.41,
          38.67,
          37.61,
          38.05,
          37.71,
          37.41,
          38.3,
          39.41,
          40.43,
          40.11,
          40.39,
          39.85,
          40.05,
          40.16,
          39.14,
          41.06,
          42.25,
          42.97,
          43.06,
          42.53,
          43.66,
          41.86,
          42,
          41.42,
          40.61,
          39.96,
          39.15,
          38.48,
          38.37,
          37.81,
          37.05,
          38.06,
          38.26,
          37.15,
          35.84,
          36.52,
          37.19,
          37.38,
          37.04,
          38.54,
          39.45,
          39.33,
          41.31
         ],
         "high": [
          36.79,
          37.42,
          38.08,
          38.02,
          36.61,
          35.77,
          37.63,
          37.91,
          36.34,
          37.24,
          37,
          36.42,
          38.13,
          38.15,
          39.11,
          39.5,
          39.24,
          37.89,
          39.31,
          39.97,
          41,
          41.7,
          41.45,
          42.34,
          41.83,
          42.08,
          40.69,
          40.35,
          41.15,
          41.3,
          39.96,
          39.31,
          38.22,
          38.74,
          38.43,
          38.6,
          39.89,
          40.82,
          40.97,
          40.66,
          40.67,
          40.21,
          40.36,
          40.45,
          41.12,
          42.58,
          43.46,
          43.83,
          43.38,
          43.69,
          44.57,
          42.59,
          42.97,
          41.6,
          40.81,
          40.06,
          40.1,
          39.02,
          38.49,
          38.16,
          38.4,
          39.18,
          38.84,
          37.4,
          36.74,
          37.96,
          37.56,
          37.45,
          38.71,
          39.55,
          39.88,
          41.5
         ],
         "low": [
          34.07,
          34.79,
          35.47,
          36.19,
          34.46,
          34.11,
          34.63,
          34.81,
          34.55,
          35.79,
          35.5,
          32.94,
          36.05,
          36.34,
          36.66,
          38.13,
          36.86,
          36.14,
          36.53,
          38.35,
          38.61,
          40.13,
          39.68,
          39.89,
          40.58,
          40.02,
          39.06,
          39.58,
          40,
          38.76,
          38.33,
          37.45,
          37.05,
          37.5,
          36.75,
          36.78,
          37.98,
          39.03,
          39.88,
          39.58,
          39.7,
          39.14,
          39.5,
          39.14,
          38.85,
          40.8,
          41.71,
          42.78,
          42.42,
          42.21,
          41.85,
          41.09,
          41.29,
          40.44,
          39.54,
          37.96,
          38.07,
          37.83,
          37,
          36.28,
          36.84,
          37.65,
          37.07,
          35.53,
          35.33,
          36.15,
          36.56,
          36.35,
          36.95,
          38.27,
          38.83,
          39.01
         ],
         "open": [
          36.76,
          35.1,
          35.87,
          37.17,
          36.19,
          35.46,
          34.88,
          37.54,
          34.96,
          36.16,
          36.66,
          35.75,
          36.39,
          36.53,
          37.89,
          38.6,
          38.56,
          36.89,
          36.73,
          38.74,
          38.71,
          40.21,
          41,
          40.08,
          40.93,
          41.35,
          40.25,
          39.73,
          40.05,
          40.09,
          39.4,
          38.65,
          37.6,
          38.04,
          37.72,
          37.37,
          38.29,
          39.44,
          40.46,
          40.12,
          40.38,
          39.85,
          40.06,
          40.2,
          39.13,
          41.06,
          42.22,
          42.96,
          43.09,
          42.49,
          43.67,
          41.89,
          42.01,
          41.42,
          40.63,
          39.94,
          39.17,
          38.47,
          38.29,
          37.79,
          37.03,
          38.06,
          38.25,
          37.18,
          35.83,
          36.51,
          37.23,
          37.34,
          37.1,
          38.62,
          39.44,
          39.38
         ],
         "type": "candlestick",
         "x": [
          38,
          39,
          40,
          41,
          42,
          43,
          44,
          45,
          46,
          47,
          48,
          49,
          50,
          51,
          52,
          53,
          54,
          55,
          56,
          57,
          58,
          59,
          60,
          61,
          62,
          63,
          64,
          65,
          66,
          67,
          68,
          69,
          70,
          71,
          72,
          73,
          74,
          75,
          76,
          77,
          78,
          79,
          80,
          81,
          82,
          83,
          84,
          85,
          86,
          87,
          88,
          89,
          90,
          91,
          92,
          93,
          94,
          95,
          96,
          97,
          98,
          99,
          100,
          101,
          102,
          103,
          104,
          105,
          106,
          107,
          108,
          109
         ]
        },
        {
         "mode": "lines",
         "name": "min slope",
         "type": "scatter",
         "x": [
          38,
          43,
          49,
          55,
          58,
          67,
          72,
          73,
          82,
          83,
          92
         ],
         "y": [
          33.78654530409599,
          34.393654175778714,
          35.12218482179798,
          35.850715467817245,
          36.214980790826885,
          37.307776759855784,
          37.91488563153851,
          38.03630740587505,
          39.12910337490395,
          39.250525149240495,
          40.3433211182694
         ]
        },
        {
         "mode": "lines",
         "name": "max slope",
         "type": "scatter",
         "x": [
          40,
          45,
          52,
          57,
          61,
          63,
          68,
          76,
          82,
          85,
          88
         ],
         "y": [
          38.13266602035873,
          38.74820164808534,
          39.6099515269026,
          40.22548715462921,
          40.7179156568105,
          40.964129907901146,
          41.579665535627754,
          42.564522539990335,
          43.30316529326227,
          43.672486669898234,
          44.0418080465342
         ]
        }
       ],
       "layout": {
        "template": {
         "data": {
          "bar": [
           {
            "error_x": {
             "color": "#2a3f5f"
            },
            "error_y": {
             "color": "#2a3f5f"
            },
            "marker": {
             "line": {
              "color": "#E5ECF6",
              "width": 0.5
             },
             "pattern": {
              "fillmode": "overlay",
              "size": 10,
              "solidity": 0.2
             }
            },
            "type": "bar"
           }
          ],
          "barpolar": [
           {
            "marker": {
             "line": {
              "color": "#E5ECF6",
              "width": 0.5
             },
             "pattern": {
              "fillmode": "overlay",
              "size": 10,
              "solidity": 0.2
             }
            },
            "type": "barpolar"
           }
          ],
          "carpet": [
           {
            "aaxis": {
             "endlinecolor": "#2a3f5f",
             "gridcolor": "white",
             "linecolor": "white",
             "minorgridcolor": "white",
             "startlinecolor": "#2a3f5f"
            },
            "baxis": {
             "endlinecolor": "#2a3f5f",
             "gridcolor": "white",
             "linecolor": "white",
             "minorgridcolor": "white",
             "startlinecolor": "#2a3f5f"
            },
            "type": "carpet"
           }
          ],
          "choropleth": [
           {
            "colorbar": {
             "outlinewidth": 0,
             "ticks": ""
            },
            "type": "choropleth"
           }
          ],
          "contour": [
           {
            "colorbar": {
             "outlinewidth": 0,
             "ticks": ""
            },
            "colorscale": [
             [
              0,
              "#0d0887"
             ],
             [
              0.1111111111111111,
              "#46039f"
             ],
             [
              0.2222222222222222,
              "#7201a8"
             ],
             [
              0.3333333333333333,
              "#9c179e"
             ],
             [
              0.4444444444444444,
              "#bd3786"
             ],
             [
              0.5555555555555556,
              "#d8576b"
             ],
             [
              0.6666666666666666,
              "#ed7953"
             ],
             [
              0.7777777777777778,
              "#fb9f3a"
             ],
             [
              0.8888888888888888,
              "#fdca26"
             ],
             [
              1,
              "#f0f921"
             ]
            ],
            "type": "contour"
           }
          ],
          "contourcarpet": [
           {
            "colorbar": {
             "outlinewidth": 0,
             "ticks": ""
            },
            "type": "contourcarpet"
           }
          ],
          "heatmap": [
           {
            "colorbar": {
             "outlinewidth": 0,
             "ticks": ""
            },
            "colorscale": [
             [
              0,
              "#0d0887"
             ],
             [
              0.1111111111111111,
              "#46039f"
             ],
             [
              0.2222222222222222,
              "#7201a8"
             ],
             [
              0.3333333333333333,
              "#9c179e"
             ],
             [
              0.4444444444444444,
              "#bd3786"
             ],
             [
              0.5555555555555556,
              "#d8576b"
             ],
             [
              0.6666666666666666,
              "#ed7953"
             ],
             [
              0.7777777777777778,
              "#fb9f3a"
             ],
             [
              0.8888888888888888,
              "#fdca26"
             ],
             [
              1,
              "#f0f921"
             ]
            ],
            "type": "heatmap"
           }
          ],
          "heatmapgl": [
           {
            "colorbar": {
             "outlinewidth": 0,
             "ticks": ""
            },
            "colorscale": [
             [
              0,
              "#0d0887"
             ],
             [
              0.1111111111111111,
              "#46039f"
             ],
             [
              0.2222222222222222,
              "#7201a8"
             ],
             [
              0.3333333333333333,
              "#9c179e"
             ],
             [
              0.4444444444444444,
              "#bd3786"
             ],
             [
              0.5555555555555556,
              "#d8576b"
             ],
             [
              0.6666666666666666,
              "#ed7953"
             ],
             [
              0.7777777777777778,
              "#fb9f3a"
             ],
             [
              0.8888888888888888,
              "#fdca26"
             ],
             [
              1,
              "#f0f921"
             ]
            ],
            "type": "heatmapgl"
           }
          ],
          "histogram": [
           {
            "marker": {
             "pattern": {
              "fillmode": "overlay",
              "size": 10,
              "solidity": 0.2
             }
            },
            "type": "histogram"
           }
          ],
          "histogram2d": [
           {
            "colorbar": {
             "outlinewidth": 0,
             "ticks": ""
            },
            "colorscale": [
             [
              0,
              "#0d0887"
             ],
             [
              0.1111111111111111,
              "#46039f"
             ],
             [
              0.2222222222222222,
              "#7201a8"
             ],
             [
              0.3333333333333333,
              "#9c179e"
             ],
             [
              0.4444444444444444,
              "#bd3786"
             ],
             [
              0.5555555555555556,
              "#d8576b"
             ],
             [
              0.6666666666666666,
              "#ed7953"
             ],
             [
              0.7777777777777778,
              "#fb9f3a"
             ],
             [
              0.8888888888888888,
              "#fdca26"
             ],
             [
              1,
              "#f0f921"
             ]
            ],
            "type": "histogram2d"
           }
          ],
          "histogram2dcontour": [
           {
            "colorbar": {
             "outlinewidth": 0,
             "ticks": ""
            },
            "colorscale": [
             [
              0,
              "#0d0887"
             ],
             [
              0.1111111111111111,
              "#46039f"
             ],
             [
              0.2222222222222222,
              "#7201a8"
             ],
             [
              0.3333333333333333,
              "#9c179e"
             ],
             [
              0.4444444444444444,
              "#bd3786"
             ],
             [
              0.5555555555555556,
              "#d8576b"
             ],
             [
              0.6666666666666666,
              "#ed7953"
             ],
             [
              0.7777777777777778,
              "#fb9f3a"
             ],
             [
              0.8888888888888888,
              "#fdca26"
             ],
             [
              1,
              "#f0f921"
             ]
            ],
            "type": "histogram2dcontour"
           }
          ],
          "mesh3d": [
           {
            "colorbar": {
             "outlinewidth": 0,
             "ticks": ""
            },
            "type": "mesh3d"
           }
          ],
          "parcoords": [
           {
            "line": {
             "colorbar": {
              "outlinewidth": 0,
              "ticks": ""
             }
            },
            "type": "parcoords"
           }
          ],
          "pie": [
           {
            "automargin": true,
            "type": "pie"
           }
          ],
          "scatter": [
           {
            "marker": {
             "colorbar": {
              "outlinewidth": 0,
              "ticks": ""
             }
            },
            "type": "scatter"
           }
          ],
          "scatter3d": [
           {
            "line": {
             "colorbar": {
              "outlinewidth": 0,
              "ticks": ""
             }
            },
            "marker": {
             "colorbar": {
              "outlinewidth": 0,
              "ticks": ""
             }
            },
            "type": "scatter3d"
           }
          ],
          "scattercarpet": [
           {
            "marker": {
             "colorbar": {
              "outlinewidth": 0,
              "ticks": ""
             }
            },
            "type": "scattercarpet"
           }
          ],
          "scattergeo": [
           {
            "marker": {
             "colorbar": {
              "outlinewidth": 0,
              "ticks": ""
             }
            },
            "type": "scattergeo"
           }
          ],
          "scattergl": [
           {
            "marker": {
             "colorbar": {
              "outlinewidth": 0,
              "ticks": ""
             }
            },
            "type": "scattergl"
           }
          ],
          "scattermapbox": [
           {
            "marker": {
             "colorbar": {
              "outlinewidth": 0,
              "ticks": ""
             }
            },
            "type": "scattermapbox"
           }
          ],
          "scatterpolar": [
           {
            "marker": {
             "colorbar": {
              "outlinewidth": 0,
              "ticks": ""
             }
            },
            "type": "scatterpolar"
           }
          ],
          "scatterpolargl": [
           {
            "marker": {
             "colorbar": {
              "outlinewidth": 0,
              "ticks": ""
             }
            },
            "type": "scatterpolargl"
           }
          ],
          "scatterternary": [
           {
            "marker": {
             "colorbar": {
              "outlinewidth": 0,
              "ticks": ""
             }
            },
            "type": "scatterternary"
           }
          ],
          "surface": [
           {
            "colorbar": {
             "outlinewidth": 0,
             "ticks": ""
            },
            "colorscale": [
             [
              0,
              "#0d0887"
             ],
             [
              0.1111111111111111,
              "#46039f"
             ],
             [
              0.2222222222222222,
              "#7201a8"
             ],
             [
              0.3333333333333333,
              "#9c179e"
             ],
             [
              0.4444444444444444,
              "#bd3786"
             ],
             [
              0.5555555555555556,
              "#d8576b"
             ],
             [
              0.6666666666666666,
              "#ed7953"
             ],
             [
              0.7777777777777778,
              "#fb9f3a"
             ],
             [
              0.8888888888888888,
              "#fdca26"
             ],
             [
              1,
              "#f0f921"
             ]
            ],
            "type": "surface"
           }
          ],
          "table": [
           {
            "cells": {
             "fill": {
              "color": "#EBF0F8"
             },
             "line": {
              "color": "white"
             }
            },
            "header": {
             "fill": {
              "color": "#C8D4E3"
             },
             "line": {
              "color": "white"
             }
            },
            "type": "table"
           }
          ]
         },
         "layout": {
          "annotationdefaults": {
           "arrowcolor": "#2a3f5f",
           "arrowhead": 0,
           "arrowwidth": 1
          },
          "autotypenumbers": "strict",
          "coloraxis": {
           "colorbar": {
            "outlinewidth": 0,
            "ticks": ""
           }
          },
          "colorscale": {
           "diverging": [
            [
             0,
             "#8e0152"
            ],
            [
             0.1,
             "#c51b7d"
            ],
            [
             0.2,
             "#de77ae"
            ],
            [
             0.3,
             "#f1b6da"
            ],
            [
             0.4,
             "#fde0ef"
            ],
            [
             0.5,
             "#f7f7f7"
            ],
            [
             0.6,
             "#e6f5d0"
            ],
            [
             0.7,
             "#b8e186"
            ],
            [
             0.8,
             "#7fbc41"
            ],
            [
             0.9,
             "#4d9221"
            ],
            [
             1,
             "#276419"
            ]
           ],
           "sequential": [
            [
             0,
             "#0d0887"
            ],
            [
             0.1111111111111111,
             "#46039f"
            ],
            [
             0.2222222222222222,
             "#7201a8"
            ],
            [
             0.3333333333333333,
             "#9c179e"
            ],
            [
             0.4444444444444444,
             "#bd3786"
            ],
            [
             0.5555555555555556,
             "#d8576b"
            ],
            [
             0.6666666666666666,
             "#ed7953"
            ],
            [
             0.7777777777777778,
             "#fb9f3a"
            ],
            [
             0.8888888888888888,
             "#fdca26"
            ],
            [
             1,
             "#f0f921"
            ]
           ],
           "sequentialminus": [
            [
             0,
             "#0d0887"
            ],
            [
             0.1111111111111111,
             "#46039f"
            ],
            [
             0.2222222222222222,
             "#7201a8"
            ],
            [
             0.3333333333333333,
             "#9c179e"
            ],
            [
             0.4444444444444444,
             "#bd3786"
            ],
            [
             0.5555555555555556,
             "#d8576b"
            ],
            [
             0.6666666666666666,
             "#ed7953"
            ],
            [
             0.7777777777777778,
             "#fb9f3a"
            ],
            [
             0.8888888888888888,
             "#fdca26"
            ],
            [
             1,
             "#f0f921"
            ]
           ]
          },
          "colorway": [
           "#636efa",
           "#EF553B",
           "#00cc96",
           "#ab63fa",
           "#FFA15A",
           "#19d3f3",
           "#FF6692",
           "#B6E880",
           "#FF97FF",
           "#FECB52"
          ],
          "font": {
           "color": "#2a3f5f"
          },
          "geo": {
           "bgcolor": "white",
           "lakecolor": "white",
           "landcolor": "#E5ECF6",
           "showlakes": true,
           "showland": true,
           "subunitcolor": "white"
          },
          "hoverlabel": {
           "align": "left"
          },
          "hovermode": "closest",
          "mapbox": {
           "style": "light"
          },
          "paper_bgcolor": "white",
          "plot_bgcolor": "#E5ECF6",
          "polar": {
           "angularaxis": {
            "gridcolor": "white",
            "linecolor": "white",
            "ticks": ""
           },
           "bgcolor": "#E5ECF6",
           "radialaxis": {
            "gridcolor": "white",
            "linecolor": "white",
            "ticks": ""
           }
          },
          "scene": {
           "xaxis": {
            "backgroundcolor": "#E5ECF6",
            "gridcolor": "white",
            "gridwidth": 2,
            "linecolor": "white",
            "showbackground": true,
            "ticks": "",
            "zerolinecolor": "white"
           },
           "yaxis": {
            "backgroundcolor": "#E5ECF6",
            "gridcolor": "white",
            "gridwidth": 2,
            "linecolor": "white",
            "showbackground": true,
            "ticks": "",
            "zerolinecolor": "white"
           },
           "zaxis": {
            "backgroundcolor": "#E5ECF6",
            "gridcolor": "white",
            "gridwidth": 2,
            "linecolor": "white",
            "showbackground": true,
            "ticks": "",
            "zerolinecolor": "white"
           }
          },
          "shapedefaults": {
           "line": {
            "color": "#2a3f5f"
           }
          },
          "ternary": {
           "aaxis": {
            "gridcolor": "white",
            "linecolor": "white",
            "ticks": ""
           },
           "baxis": {
            "gridcolor": "white",
            "linecolor": "white",
            "ticks": ""
           },
           "bgcolor": "#E5ECF6",
           "caxis": {
            "gridcolor": "white",
            "linecolor": "white",
            "ticks": ""
           }
          },
          "title": {
           "x": 0.05
          },
          "xaxis": {
           "automargin": true,
           "gridcolor": "white",
           "linecolor": "white",
           "ticks": "",
           "title": {
            "standoff": 15
           },
           "zerolinecolor": "white",
           "zerolinewidth": 2
          },
          "yaxis": {
           "automargin": true,
           "gridcolor": "white",
           "linecolor": "white",
           "ticks": "",
           "title": {
            "standoff": 15
           },
           "zerolinecolor": "white",
           "zerolinewidth": 2
          }
         }
        }
       }
      }
     },
     "metadata": {},
     "output_type": "display_data"
    }
   ],
   "source": [
    "import numpy as np\n",
    "from matplotlib import pyplot\n",
    "backcandles= 50\n",
    "wind = 5\n",
    "\n",
    "candleid = 88\n",
    "\n",
    "maxim = np.array([])\n",
    "minim = np.array([])\n",
    "xxmin = np.array([])\n",
    "xxmax = np.array([])\n",
    "for i in range(candleid-backcandles, candleid+1, wind):\n",
    "    minim = np.append(minim, df.Low.iloc[i:i+wind].min())\n",
    "    xxmin = np.append(xxmin, df.Low.iloc[i:i+wind].idxmin())\n",
    "for i in range(candleid-backcandles, candleid+1, wind):\n",
    "    maxim = np.append(maxim, df.High.loc[i:i+wind].max())\n",
    "    xxmax = np.append(xxmax, df.High.iloc[i:i+wind].idxmax())\n",
    "slmin, intercmin = np.polyfit(xxmin, minim,1)\n",
    "slmax, intercmax = np.polyfit(xxmax, maxim,1)\n",
    "\n",
    "dfpl = df[candleid-backcandles:candleid+backcandles]\n",
    "fig = go.Figure(data=[go.Candlestick(x=dfpl.index,\n",
    "                open=dfpl['Open'],\n",
    "                high=dfpl['High'],\n",
    "                low=dfpl['Low'],\n",
    "                close=dfpl['Close'])])\n",
    "fig.add_trace(go.Scatter(x=xxmin, y=slmin*xxmin + intercmin, mode='lines', name='min slope'))\n",
    "fig.add_trace(go.Scatter(x=xxmax, y=slmax*xxmax + intercmax, mode='lines', name='max slope'))"
   ]
  },
  {
   "cell_type": "markdown",
   "metadata": {},
   "source": [
    "# Fitting intercepts to meet highest or lowest candle point in time slice"
   ]
  },
  {
   "cell_type": "code",
   "execution_count": 9,
   "metadata": {},
   "outputs": [
    {
     "data": {
      "application/vnd.plotly.v1+json": {
       "config": {
        "plotlyServerURL": "https://plot.ly"
       },
       "data": [
        {
         "close": [
          38.57,
          39.02,
          38.99,
          38.11,
          36.78,
          35.09,
          35.87,
          37.14,
          36.19,
          35.45,
          34.87,
          37.48,
          34.99,
          36.16,
          36.66,
          35.84,
          36.38,
          36.5,
          37.87,
          38.59,
          38.58,
          36.89,
          36.75,
          38.75,
          38.65,
          40.2,
          41.02,
          40.13,
          40.94,
          41.3,
          40.23,
          39.79,
          40.05,
          40.1,
          39.41,
          38.67,
          37.61,
          38.05,
          37.71,
          37.41,
          38.3,
          39.41,
          40.43,
          40.11,
          40.39,
          39.85,
          40.05,
          40.16,
          39.14,
          41.06,
          42.25,
          42.97,
          43.06,
          42.53,
          43.66,
          41.86,
          42,
          41.42,
          40.61,
          39.96,
          39.15,
          38.48,
          38.37,
          37.81,
          37.05,
          38.06,
          38.26,
          37.15,
          35.84,
          36.52,
          37.19,
          37.38,
          37.04,
          38.54,
          39.45,
          39.33,
          41.31
         ],
         "high": [
          41.36,
          40.32,
          39.38,
          39.67,
          38.33,
          36.79,
          37.42,
          38.08,
          38.02,
          36.61,
          35.77,
          37.63,
          37.91,
          36.34,
          37.24,
          37,
          36.42,
          38.13,
          38.15,
          39.11,
          39.5,
          39.24,
          37.89,
          39.31,
          39.97,
          41,
          41.7,
          41.45,
          42.34,
          41.83,
          42.08,
          40.69,
          40.35,
          41.15,
          41.3,
          39.96,
          39.31,
          38.22,
          38.74,
          38.43,
          38.6,
          39.89,
          40.82,
          40.97,
          40.66,
          40.67,
          40.21,
          40.36,
          40.45,
          41.12,
          42.58,
          43.46,
          43.83,
          43.38,
          43.69,
          44.57,
          42.59,
          42.97,
          41.6,
          40.81,
          40.06,
          40.1,
          39.02,
          38.49,
          38.16,
          38.4,
          39.18,
          38.84,
          37.4,
          36.74,
          37.96,
          37.56,
          37.45,
          38.71,
          39.55,
          39.88,
          41.5
         ],
         "low": [
          38.34,
          38.34,
          38.6,
          37.83,
          36.63,
          34.07,
          34.79,
          35.47,
          36.19,
          34.46,
          34.11,
          34.63,
          34.81,
          34.55,
          35.79,
          35.5,
          32.94,
          36.05,
          36.34,
          36.66,
          38.13,
          36.86,
          36.14,
          36.53,
          38.35,
          38.61,
          40.13,
          39.68,
          39.89,
          40.58,
          40.02,
          39.06,
          39.58,
          40,
          38.76,
          38.33,
          37.45,
          37.05,
          37.5,
          36.75,
          36.78,
          37.98,
          39.03,
          39.88,
          39.58,
          39.7,
          39.14,
          39.5,
          39.14,
          38.85,
          40.8,
          41.71,
          42.78,
          42.42,
          42.21,
          41.85,
          41.09,
          41.29,
          40.44,
          39.54,
          37.96,
          38.07,
          37.83,
          37,
          36.28,
          36.84,
          37.65,
          37.07,
          35.53,
          35.33,
          36.15,
          36.56,
          36.35,
          36.95,
          38.27,
          38.83,
          39.01
         ],
         "open": [
          41,
          38.57,
          39.02,
          39,
          38.12,
          36.76,
          35.1,
          35.87,
          37.17,
          36.19,
          35.46,
          34.88,
          37.54,
          34.96,
          36.16,
          36.66,
          35.75,
          36.39,
          36.53,
          37.89,
          38.6,
          38.56,
          36.89,
          36.73,
          38.74,
          38.71,
          40.21,
          41,
          40.08,
          40.93,
          41.35,
          40.25,
          39.73,
          40.05,
          40.09,
          39.4,
          38.65,
          37.6,
          38.04,
          37.72,
          37.37,
          38.29,
          39.44,
          40.46,
          40.12,
          40.38,
          39.85,
          40.06,
          40.2,
          39.13,
          41.06,
          42.22,
          42.96,
          43.09,
          42.49,
          43.67,
          41.89,
          42.01,
          41.42,
          40.63,
          39.94,
          39.17,
          38.47,
          38.29,
          37.79,
          37.03,
          38.06,
          38.25,
          37.18,
          35.83,
          36.51,
          37.23,
          37.34,
          37.1,
          38.62,
          39.44,
          39.38
         ],
         "type": "candlestick",
         "x": [
          33,
          34,
          35,
          36,
          37,
          38,
          39,
          40,
          41,
          42,
          43,
          44,
          45,
          46,
          47,
          48,
          49,
          50,
          51,
          52,
          53,
          54,
          55,
          56,
          57,
          58,
          59,
          60,
          61,
          62,
          63,
          64,
          65,
          66,
          67,
          68,
          69,
          70,
          71,
          72,
          73,
          74,
          75,
          76,
          77,
          78,
          79,
          80,
          81,
          82,
          83,
          84,
          85,
          86,
          87,
          88,
          89,
          90,
          91,
          92,
          93,
          94,
          95,
          96,
          97,
          98,
          99,
          100,
          101,
          102,
          103,
          104,
          105,
          106,
          107,
          108,
          109
         ]
        },
        {
         "mode": "lines",
         "name": "min slope",
         "type": "scatter",
         "x": [
          38,
          43,
          49,
          55,
          58,
          67,
          72,
          73,
          82,
          83,
          92
         ],
         "y": [
          31.604360482298006,
          32.21146935398073,
          32.94,
          33.66853064601926,
          34.032795969028896,
          35.1255919380578,
          35.73270080974052,
          35.85412258407707,
          36.946918553105974,
          37.06834032744251,
          38.16113629647142
         ]
        },
        {
         "mode": "lines",
         "name": "max slope",
         "type": "scatter",
         "x": [
          40,
          45,
          52,
          57,
          61,
          63,
          68,
          76,
          82,
          85,
          88
         ],
         "y": [
          39.030179350460486,
          39.6457149781871,
          40.50746485700436,
          41.123000484730966,
          41.61542898691226,
          41.861643238002905,
          42.47717886572951,
          43.462035870092095,
          44.20067862336403,
          44.56999999999999,
          44.93932137663596
         ]
        }
       ],
       "layout": {
        "template": {
         "data": {
          "bar": [
           {
            "error_x": {
             "color": "#2a3f5f"
            },
            "error_y": {
             "color": "#2a3f5f"
            },
            "marker": {
             "line": {
              "color": "#E5ECF6",
              "width": 0.5
             },
             "pattern": {
              "fillmode": "overlay",
              "size": 10,
              "solidity": 0.2
             }
            },
            "type": "bar"
           }
          ],
          "barpolar": [
           {
            "marker": {
             "line": {
              "color": "#E5ECF6",
              "width": 0.5
             },
             "pattern": {
              "fillmode": "overlay",
              "size": 10,
              "solidity": 0.2
             }
            },
            "type": "barpolar"
           }
          ],
          "carpet": [
           {
            "aaxis": {
             "endlinecolor": "#2a3f5f",
             "gridcolor": "white",
             "linecolor": "white",
             "minorgridcolor": "white",
             "startlinecolor": "#2a3f5f"
            },
            "baxis": {
             "endlinecolor": "#2a3f5f",
             "gridcolor": "white",
             "linecolor": "white",
             "minorgridcolor": "white",
             "startlinecolor": "#2a3f5f"
            },
            "type": "carpet"
           }
          ],
          "choropleth": [
           {
            "colorbar": {
             "outlinewidth": 0,
             "ticks": ""
            },
            "type": "choropleth"
           }
          ],
          "contour": [
           {
            "colorbar": {
             "outlinewidth": 0,
             "ticks": ""
            },
            "colorscale": [
             [
              0,
              "#0d0887"
             ],
             [
              0.1111111111111111,
              "#46039f"
             ],
             [
              0.2222222222222222,
              "#7201a8"
             ],
             [
              0.3333333333333333,
              "#9c179e"
             ],
             [
              0.4444444444444444,
              "#bd3786"
             ],
             [
              0.5555555555555556,
              "#d8576b"
             ],
             [
              0.6666666666666666,
              "#ed7953"
             ],
             [
              0.7777777777777778,
              "#fb9f3a"
             ],
             [
              0.8888888888888888,
              "#fdca26"
             ],
             [
              1,
              "#f0f921"
             ]
            ],
            "type": "contour"
           }
          ],
          "contourcarpet": [
           {
            "colorbar": {
             "outlinewidth": 0,
             "ticks": ""
            },
            "type": "contourcarpet"
           }
          ],
          "heatmap": [
           {
            "colorbar": {
             "outlinewidth": 0,
             "ticks": ""
            },
            "colorscale": [
             [
              0,
              "#0d0887"
             ],
             [
              0.1111111111111111,
              "#46039f"
             ],
             [
              0.2222222222222222,
              "#7201a8"
             ],
             [
              0.3333333333333333,
              "#9c179e"
             ],
             [
              0.4444444444444444,
              "#bd3786"
             ],
             [
              0.5555555555555556,
              "#d8576b"
             ],
             [
              0.6666666666666666,
              "#ed7953"
             ],
             [
              0.7777777777777778,
              "#fb9f3a"
             ],
             [
              0.8888888888888888,
              "#fdca26"
             ],
             [
              1,
              "#f0f921"
             ]
            ],
            "type": "heatmap"
           }
          ],
          "heatmapgl": [
           {
            "colorbar": {
             "outlinewidth": 0,
             "ticks": ""
            },
            "colorscale": [
             [
              0,
              "#0d0887"
             ],
             [
              0.1111111111111111,
              "#46039f"
             ],
             [
              0.2222222222222222,
              "#7201a8"
             ],
             [
              0.3333333333333333,
              "#9c179e"
             ],
             [
              0.4444444444444444,
              "#bd3786"
             ],
             [
              0.5555555555555556,
              "#d8576b"
             ],
             [
              0.6666666666666666,
              "#ed7953"
             ],
             [
              0.7777777777777778,
              "#fb9f3a"
             ],
             [
              0.8888888888888888,
              "#fdca26"
             ],
             [
              1,
              "#f0f921"
             ]
            ],
            "type": "heatmapgl"
           }
          ],
          "histogram": [
           {
            "marker": {
             "pattern": {
              "fillmode": "overlay",
              "size": 10,
              "solidity": 0.2
             }
            },
            "type": "histogram"
           }
          ],
          "histogram2d": [
           {
            "colorbar": {
             "outlinewidth": 0,
             "ticks": ""
            },
            "colorscale": [
             [
              0,
              "#0d0887"
             ],
             [
              0.1111111111111111,
              "#46039f"
             ],
             [
              0.2222222222222222,
              "#7201a8"
             ],
             [
              0.3333333333333333,
              "#9c179e"
             ],
             [
              0.4444444444444444,
              "#bd3786"
             ],
             [
              0.5555555555555556,
              "#d8576b"
             ],
             [
              0.6666666666666666,
              "#ed7953"
             ],
             [
              0.7777777777777778,
              "#fb9f3a"
             ],
             [
              0.8888888888888888,
              "#fdca26"
             ],
             [
              1,
              "#f0f921"
             ]
            ],
            "type": "histogram2d"
           }
          ],
          "histogram2dcontour": [
           {
            "colorbar": {
             "outlinewidth": 0,
             "ticks": ""
            },
            "colorscale": [
             [
              0,
              "#0d0887"
             ],
             [
              0.1111111111111111,
              "#46039f"
             ],
             [
              0.2222222222222222,
              "#7201a8"
             ],
             [
              0.3333333333333333,
              "#9c179e"
             ],
             [
              0.4444444444444444,
              "#bd3786"
             ],
             [
              0.5555555555555556,
              "#d8576b"
             ],
             [
              0.6666666666666666,
              "#ed7953"
             ],
             [
              0.7777777777777778,
              "#fb9f3a"
             ],
             [
              0.8888888888888888,
              "#fdca26"
             ],
             [
              1,
              "#f0f921"
             ]
            ],
            "type": "histogram2dcontour"
           }
          ],
          "mesh3d": [
           {
            "colorbar": {
             "outlinewidth": 0,
             "ticks": ""
            },
            "type": "mesh3d"
           }
          ],
          "parcoords": [
           {
            "line": {
             "colorbar": {
              "outlinewidth": 0,
              "ticks": ""
             }
            },
            "type": "parcoords"
           }
          ],
          "pie": [
           {
            "automargin": true,
            "type": "pie"
           }
          ],
          "scatter": [
           {
            "marker": {
             "colorbar": {
              "outlinewidth": 0,
              "ticks": ""
             }
            },
            "type": "scatter"
           }
          ],
          "scatter3d": [
           {
            "line": {
             "colorbar": {
              "outlinewidth": 0,
              "ticks": ""
             }
            },
            "marker": {
             "colorbar": {
              "outlinewidth": 0,
              "ticks": ""
             }
            },
            "type": "scatter3d"
           }
          ],
          "scattercarpet": [
           {
            "marker": {
             "colorbar": {
              "outlinewidth": 0,
              "ticks": ""
             }
            },
            "type": "scattercarpet"
           }
          ],
          "scattergeo": [
           {
            "marker": {
             "colorbar": {
              "outlinewidth": 0,
              "ticks": ""
             }
            },
            "type": "scattergeo"
           }
          ],
          "scattergl": [
           {
            "marker": {
             "colorbar": {
              "outlinewidth": 0,
              "ticks": ""
             }
            },
            "type": "scattergl"
           }
          ],
          "scattermapbox": [
           {
            "marker": {
             "colorbar": {
              "outlinewidth": 0,
              "ticks": ""
             }
            },
            "type": "scattermapbox"
           }
          ],
          "scatterpolar": [
           {
            "marker": {
             "colorbar": {
              "outlinewidth": 0,
              "ticks": ""
             }
            },
            "type": "scatterpolar"
           }
          ],
          "scatterpolargl": [
           {
            "marker": {
             "colorbar": {
              "outlinewidth": 0,
              "ticks": ""
             }
            },
            "type": "scatterpolargl"
           }
          ],
          "scatterternary": [
           {
            "marker": {
             "colorbar": {
              "outlinewidth": 0,
              "ticks": ""
             }
            },
            "type": "scatterternary"
           }
          ],
          "surface": [
           {
            "colorbar": {
             "outlinewidth": 0,
             "ticks": ""
            },
            "colorscale": [
             [
              0,
              "#0d0887"
             ],
             [
              0.1111111111111111,
              "#46039f"
             ],
             [
              0.2222222222222222,
              "#7201a8"
             ],
             [
              0.3333333333333333,
              "#9c179e"
             ],
             [
              0.4444444444444444,
              "#bd3786"
             ],
             [
              0.5555555555555556,
              "#d8576b"
             ],
             [
              0.6666666666666666,
              "#ed7953"
             ],
             [
              0.7777777777777778,
              "#fb9f3a"
             ],
             [
              0.8888888888888888,
              "#fdca26"
             ],
             [
              1,
              "#f0f921"
             ]
            ],
            "type": "surface"
           }
          ],
          "table": [
           {
            "cells": {
             "fill": {
              "color": "#EBF0F8"
             },
             "line": {
              "color": "white"
             }
            },
            "header": {
             "fill": {
              "color": "#C8D4E3"
             },
             "line": {
              "color": "white"
             }
            },
            "type": "table"
           }
          ]
         },
         "layout": {
          "annotationdefaults": {
           "arrowcolor": "#2a3f5f",
           "arrowhead": 0,
           "arrowwidth": 1
          },
          "autotypenumbers": "strict",
          "coloraxis": {
           "colorbar": {
            "outlinewidth": 0,
            "ticks": ""
           }
          },
          "colorscale": {
           "diverging": [
            [
             0,
             "#8e0152"
            ],
            [
             0.1,
             "#c51b7d"
            ],
            [
             0.2,
             "#de77ae"
            ],
            [
             0.3,
             "#f1b6da"
            ],
            [
             0.4,
             "#fde0ef"
            ],
            [
             0.5,
             "#f7f7f7"
            ],
            [
             0.6,
             "#e6f5d0"
            ],
            [
             0.7,
             "#b8e186"
            ],
            [
             0.8,
             "#7fbc41"
            ],
            [
             0.9,
             "#4d9221"
            ],
            [
             1,
             "#276419"
            ]
           ],
           "sequential": [
            [
             0,
             "#0d0887"
            ],
            [
             0.1111111111111111,
             "#46039f"
            ],
            [
             0.2222222222222222,
             "#7201a8"
            ],
            [
             0.3333333333333333,
             "#9c179e"
            ],
            [
             0.4444444444444444,
             "#bd3786"
            ],
            [
             0.5555555555555556,
             "#d8576b"
            ],
            [
             0.6666666666666666,
             "#ed7953"
            ],
            [
             0.7777777777777778,
             "#fb9f3a"
            ],
            [
             0.8888888888888888,
             "#fdca26"
            ],
            [
             1,
             "#f0f921"
            ]
           ],
           "sequentialminus": [
            [
             0,
             "#0d0887"
            ],
            [
             0.1111111111111111,
             "#46039f"
            ],
            [
             0.2222222222222222,
             "#7201a8"
            ],
            [
             0.3333333333333333,
             "#9c179e"
            ],
            [
             0.4444444444444444,
             "#bd3786"
            ],
            [
             0.5555555555555556,
             "#d8576b"
            ],
            [
             0.6666666666666666,
             "#ed7953"
            ],
            [
             0.7777777777777778,
             "#fb9f3a"
            ],
            [
             0.8888888888888888,
             "#fdca26"
            ],
            [
             1,
             "#f0f921"
            ]
           ]
          },
          "colorway": [
           "#636efa",
           "#EF553B",
           "#00cc96",
           "#ab63fa",
           "#FFA15A",
           "#19d3f3",
           "#FF6692",
           "#B6E880",
           "#FF97FF",
           "#FECB52"
          ],
          "font": {
           "color": "#2a3f5f"
          },
          "geo": {
           "bgcolor": "white",
           "lakecolor": "white",
           "landcolor": "#E5ECF6",
           "showlakes": true,
           "showland": true,
           "subunitcolor": "white"
          },
          "hoverlabel": {
           "align": "left"
          },
          "hovermode": "closest",
          "mapbox": {
           "style": "light"
          },
          "paper_bgcolor": "white",
          "plot_bgcolor": "#E5ECF6",
          "polar": {
           "angularaxis": {
            "gridcolor": "white",
            "linecolor": "white",
            "ticks": ""
           },
           "bgcolor": "#E5ECF6",
           "radialaxis": {
            "gridcolor": "white",
            "linecolor": "white",
            "ticks": ""
           }
          },
          "scene": {
           "xaxis": {
            "backgroundcolor": "#E5ECF6",
            "gridcolor": "white",
            "gridwidth": 2,
            "linecolor": "white",
            "showbackground": true,
            "ticks": "",
            "zerolinecolor": "white"
           },
           "yaxis": {
            "backgroundcolor": "#E5ECF6",
            "gridcolor": "white",
            "gridwidth": 2,
            "linecolor": "white",
            "showbackground": true,
            "ticks": "",
            "zerolinecolor": "white"
           },
           "zaxis": {
            "backgroundcolor": "#E5ECF6",
            "gridcolor": "white",
            "gridwidth": 2,
            "linecolor": "white",
            "showbackground": true,
            "ticks": "",
            "zerolinecolor": "white"
           }
          },
          "shapedefaults": {
           "line": {
            "color": "#2a3f5f"
           }
          },
          "ternary": {
           "aaxis": {
            "gridcolor": "white",
            "linecolor": "white",
            "ticks": ""
           },
           "baxis": {
            "gridcolor": "white",
            "linecolor": "white",
            "ticks": ""
           },
           "bgcolor": "#E5ECF6",
           "caxis": {
            "gridcolor": "white",
            "linecolor": "white",
            "ticks": ""
           }
          },
          "title": {
           "x": 0.05
          },
          "xaxis": {
           "automargin": true,
           "gridcolor": "white",
           "linecolor": "white",
           "ticks": "",
           "title": {
            "standoff": 15
           },
           "zerolinecolor": "white",
           "zerolinewidth": 2
          },
          "yaxis": {
           "automargin": true,
           "gridcolor": "white",
           "linecolor": "white",
           "ticks": "",
           "title": {
            "standoff": 15
           },
           "zerolinecolor": "white",
           "zerolinewidth": 2
          }
         }
        }
       }
      }
     },
     "metadata": {},
     "output_type": "display_data"
    }
   ],
   "source": [
    "dfpl = df[candleid-wind-backcandles:candleid+backcandles]\n",
    "import plotly.graph_objects as go\n",
    "from datetime import datetime\n",
    "\n",
    "fig = go.Figure(data=[go.Candlestick(x=dfpl.index,\n",
    "                open=dfpl['Open'],\n",
    "                high=dfpl['High'],\n",
    "                low=dfpl['Low'],\n",
    "                close=dfpl['Close'])])\n",
    "\n",
    "#-------------------------------------------------------------------------\n",
    "# Fitting intercepts to meet highest or lowest candle point in time slice\n",
    "adjintercmin = df.Low.loc[candleid-backcandles:candleid].min() - slmin*df.Low.iloc[candleid-backcandles:candleid].idxmin()\n",
    "adjintercmax = df.High.loc[candleid-backcandles:candleid].max() - slmax*df.High.iloc[candleid-backcandles:candleid].idxmax()\n",
    "fig.add_trace(go.Scatter(x=xxmin, y=slmin*xxmin + adjintercmin, mode='lines', name='min slope'))\n",
    "fig.add_trace(go.Scatter(x=xxmax, y=slmax*xxmax + adjintercmax, mode='lines', name='max slope'))\n",
    "fig.show()"
   ]
  },
  {
   "cell_type": "markdown",
   "metadata": {},
   "source": [
    "# Fitting intercepts to wrap price candles"
   ]
  },
  {
   "cell_type": "code",
   "execution_count": null,
   "metadata": {},
   "outputs": [
    {
     "data": {
      "application/vnd.plotly.v1+json": {
       "config": {
        "plotlyServerURL": "https://plot.ly"
       },
       "data": [
        {
         "close": [
          32.12,
          31.99,
          31.88,
          31.48,
          30.62,
          31.12,
          33.48,
          34.75,
          34.7,
          35.48,
          35.53,
          36.36,
          36.37,
          36.34,
          37.6,
          38.73,
          39.7,
          41.83,
          40.79,
          40.41,
          40.66,
          38.24,
          38.33,
          39.2,
          40.37,
          38.92,
          38.31,
          39.02,
          38.21,
          37.82,
          37.13,
          37.55,
          39.1,
          38.29,
          37.66,
          37.91,
          38.56,
          38.21,
          36.25,
          37.06,
          37.12,
          37.95,
          38.24,
          37.53,
          37.89,
          40.36,
          41.32,
          41.05,
          40.69,
          39.47,
          37.28,
          37.94,
          37.95,
          36.98,
          36.3,
          36.51,
          38.34,
          38.35,
          38.88,
          38.77,
          38.04,
          38.1,
          36.61,
          37.3,
          37.51,
          36.98,
          37.47,
          37.49,
          36.97,
          36.66,
          37.51,
          38.84,
          36.66,
          37.73,
          39.33,
          38.77,
          39.03,
          39.75,
          39.39,
          39.8,
          38.79,
          38.74,
          38.9,
          39.64,
          41.22,
          41.05,
          41.1,
          41.51,
          40.38,
          41.18,
          40.08,
          39.97,
          39.2,
          39.3,
          40.34,
          41.39,
          41.67,
          41.55,
          43.39,
          43.83,
          43.07,
          44.55,
          41.47,
          38.61,
          37.16
         ],
         "high": [
          33,
          32.75,
          32.04,
          32.39,
          31.76,
          31.67,
          33.5,
          35.19,
          35.16,
          35.99,
          36.32,
          37.56,
          36.79,
          36.4,
          38,
          38.82,
          40,
          42.11,
          42.05,
          42.09,
          43.4,
          40.7,
          38.84,
          39.38,
          40.81,
          40.5,
          39.47,
          39.1,
          39.1,
          38.63,
          38.08,
          38,
          39.24,
          39.5,
          38.5,
          38.49,
          38.74,
          38.78,
          38.21,
          37.12,
          37.75,
          38.01,
          38.69,
          38.3,
          38.5,
          40.77,
          42.1,
          41.96,
          41.5,
          40.95,
          39.94,
          38.11,
          38.2,
          38.1,
          38,
          37.5,
          38.66,
          38.58,
          39.43,
          39.5,
          39,
          39,
          38.61,
          37.53,
          37.64,
          37.66,
          37.67,
          37.93,
          37.6,
          37.16,
          37.88,
          39,
          38.97,
          38.56,
          40.11,
          40.18,
          39.58,
          40.5,
          39.98,
          39.89,
          39.9,
          38.93,
          39.05,
          39.89,
          41.54,
          42.42,
          42.88,
          42.5,
          41.57,
          41.93,
          41.39,
          40.25,
          40.42,
          39.35,
          40.91,
          42.07,
          43.58,
          43.3,
          43.7,
          44.57,
          44.39,
          44.76,
          45.16,
          41.45,
          39.46
         ],
         "low": [
          32.07,
          31.85,
          31.5,
          30.94,
          30.5,
          29.94,
          30.89,
          33.44,
          33.88,
          34.39,
          35.14,
          35.33,
          35.73,
          35.55,
          36.31,
          37.27,
          37.9,
          39.68,
          39.71,
          39.82,
          40.34,
          37.84,
          38.08,
          38.34,
          39.02,
          38.6,
          38.22,
          38.12,
          38.1,
          36.76,
          37.12,
          36.52,
          36.7,
          37.97,
          37.44,
          37.69,
          37.25,
          38.01,
          36.14,
          36.19,
          36.82,
          36.96,
          37.91,
          37.34,
          37.53,
          37.84,
          40.4,
          40.56,
          40.59,
          39.39,
          36.81,
          36.2,
          37,
          36.57,
          35.84,
          36.13,
          36.35,
          37.65,
          37.5,
          37.55,
          37.85,
          37.42,
          36.2,
          36.57,
          36.67,
          36.88,
          36.95,
          37.01,
          36.46,
          36.22,
          36.46,
          37.36,
          36.63,
          36.49,
          37.74,
          38.62,
          38.5,
          39,
          39.22,
          39.29,
          38.6,
          38.17,
          38.45,
          38.83,
          39.6,
          40.45,
          40.5,
          40.78,
          39.68,
          40,
          39.41,
          39,
          38.86,
          38.51,
          39.07,
          39.91,
          40.77,
          41.37,
          41.4,
          42.8,
          42.84,
          42.51,
          41,
          37,
          37.06
         ],
         "open": [
          32.59,
          32.12,
          31.99,
          31.86,
          31.47,
          30.62,
          31.12,
          33.48,
          34.79,
          34.68,
          35.5,
          35.53,
          36.34,
          36.38,
          36.34,
          37.63,
          38.74,
          39.7,
          41.77,
          40.8,
          40.41,
          40.64,
          38.23,
          38.38,
          39.19,
          40.39,
          38.97,
          38.31,
          39.02,
          38.19,
          37.81,
          37.11,
          37.55,
          39.11,
          38.25,
          37.69,
          37.91,
          38.58,
          38.21,
          36.28,
          37.11,
          37.1,
          38,
          38.22,
          37.53,
          37.9,
          40.41,
          41.33,
          41.05,
          40.69,
          39.48,
          37.28,
          37.96,
          37.89,
          36.97,
          36.33,
          36.51,
          38.31,
          38.35,
          38.88,
          38.77,
          38,
          38.1,
          36.59,
          37.23,
          37.51,
          36.96,
          37.47,
          37.48,
          36.97,
          36.67,
          37.53,
          38.85,
          36.64,
          37.76,
          39.33,
          38.77,
          39.03,
          39.75,
          39.39,
          39.8,
          38.78,
          38.75,
          38.92,
          39.64,
          41.19,
          41.04,
          41.14,
          41.49,
          40.38,
          41.18,
          40.04,
          39.97,
          39.18,
          39.35,
          40.34,
          41.38,
          41.69,
          41.49,
          43.37,
          43.82,
          43.03,
          44.53,
          41.41,
          38.6
         ],
         "type": "candlestick",
         "x": [
          825,
          826,
          827,
          828,
          829,
          830,
          831,
          832,
          833,
          834,
          835,
          836,
          837,
          838,
          839,
          840,
          841,
          842,
          843,
          844,
          845,
          846,
          847,
          848,
          849,
          850,
          851,
          852,
          853,
          854,
          855,
          856,
          857,
          858,
          859,
          860,
          861,
          862,
          863,
          864,
          865,
          866,
          867,
          868,
          869,
          870,
          871,
          872,
          873,
          874,
          875,
          876,
          877,
          878,
          879,
          880,
          881,
          882,
          883,
          884,
          885,
          886,
          887,
          888,
          889,
          890,
          891,
          892,
          893,
          894,
          895,
          896,
          897,
          898,
          899,
          900,
          901,
          902,
          903,
          904,
          905,
          906,
          907,
          908,
          909,
          910,
          911,
          912,
          913,
          914,
          915,
          916,
          917,
          918,
          919,
          920,
          921,
          922,
          923,
          924,
          925,
          926,
          927,
          928,
          929
         ]
        },
        {
         "mode": "lines",
         "name": "min slope",
         "type": "scatter",
         "x": [
          830,
          835,
          840,
          846,
          854,
          856,
          863,
          865,
          870,
          879,
          880
         ],
         "y": [
          29.94,
          30.230435842921462,
          30.520871685842923,
          30.869394697348685,
          31.334092046023027,
          31.450266383191614,
          31.856876563281663,
          31.973050900450243,
          32.263486743371715,
          32.78627126063034,
          32.84435842921464
         ]
        },
        {
         "mode": "lines",
         "name": "max slope",
         "type": "scatter",
         "x": [
          834,
          839,
          842,
          845,
          850,
          858,
          862,
          867,
          871,
          875,
          884
         ],
         "y": [
          43.289833711262276,
          43.339909297052145,
          43.369954648526075,
          43.4,
          43.45007558578987,
          43.53019652305367,
          43.57025699168557,
          43.62033257747544,
          43.66039304610734,
          43.70045351473924,
          43.79058956916101
         ]
        }
       ],
       "layout": {
        "template": {
         "data": {
          "bar": [
           {
            "error_x": {
             "color": "#2a3f5f"
            },
            "error_y": {
             "color": "#2a3f5f"
            },
            "marker": {
             "line": {
              "color": "#E5ECF6",
              "width": 0.5
             },
             "pattern": {
              "fillmode": "overlay",
              "size": 10,
              "solidity": 0.2
             }
            },
            "type": "bar"
           }
          ],
          "barpolar": [
           {
            "marker": {
             "line": {
              "color": "#E5ECF6",
              "width": 0.5
             },
             "pattern": {
              "fillmode": "overlay",
              "size": 10,
              "solidity": 0.2
             }
            },
            "type": "barpolar"
           }
          ],
          "carpet": [
           {
            "aaxis": {
             "endlinecolor": "#2a3f5f",
             "gridcolor": "white",
             "linecolor": "white",
             "minorgridcolor": "white",
             "startlinecolor": "#2a3f5f"
            },
            "baxis": {
             "endlinecolor": "#2a3f5f",
             "gridcolor": "white",
             "linecolor": "white",
             "minorgridcolor": "white",
             "startlinecolor": "#2a3f5f"
            },
            "type": "carpet"
           }
          ],
          "choropleth": [
           {
            "colorbar": {
             "outlinewidth": 0,
             "ticks": ""
            },
            "type": "choropleth"
           }
          ],
          "contour": [
           {
            "colorbar": {
             "outlinewidth": 0,
             "ticks": ""
            },
            "colorscale": [
             [
              0,
              "#0d0887"
             ],
             [
              0.1111111111111111,
              "#46039f"
             ],
             [
              0.2222222222222222,
              "#7201a8"
             ],
             [
              0.3333333333333333,
              "#9c179e"
             ],
             [
              0.4444444444444444,
              "#bd3786"
             ],
             [
              0.5555555555555556,
              "#d8576b"
             ],
             [
              0.6666666666666666,
              "#ed7953"
             ],
             [
              0.7777777777777778,
              "#fb9f3a"
             ],
             [
              0.8888888888888888,
              "#fdca26"
             ],
             [
              1,
              "#f0f921"
             ]
            ],
            "type": "contour"
           }
          ],
          "contourcarpet": [
           {
            "colorbar": {
             "outlinewidth": 0,
             "ticks": ""
            },
            "type": "contourcarpet"
           }
          ],
          "heatmap": [
           {
            "colorbar": {
             "outlinewidth": 0,
             "ticks": ""
            },
            "colorscale": [
             [
              0,
              "#0d0887"
             ],
             [
              0.1111111111111111,
              "#46039f"
             ],
             [
              0.2222222222222222,
              "#7201a8"
             ],
             [
              0.3333333333333333,
              "#9c179e"
             ],
             [
              0.4444444444444444,
              "#bd3786"
             ],
             [
              0.5555555555555556,
              "#d8576b"
             ],
             [
              0.6666666666666666,
              "#ed7953"
             ],
             [
              0.7777777777777778,
              "#fb9f3a"
             ],
             [
              0.8888888888888888,
              "#fdca26"
             ],
             [
              1,
              "#f0f921"
             ]
            ],
            "type": "heatmap"
           }
          ],
          "heatmapgl": [
           {
            "colorbar": {
             "outlinewidth": 0,
             "ticks": ""
            },
            "colorscale": [
             [
              0,
              "#0d0887"
             ],
             [
              0.1111111111111111,
              "#46039f"
             ],
             [
              0.2222222222222222,
              "#7201a8"
             ],
             [
              0.3333333333333333,
              "#9c179e"
             ],
             [
              0.4444444444444444,
              "#bd3786"
             ],
             [
              0.5555555555555556,
              "#d8576b"
             ],
             [
              0.6666666666666666,
              "#ed7953"
             ],
             [
              0.7777777777777778,
              "#fb9f3a"
             ],
             [
              0.8888888888888888,
              "#fdca26"
             ],
             [
              1,
              "#f0f921"
             ]
            ],
            "type": "heatmapgl"
           }
          ],
          "histogram": [
           {
            "marker": {
             "pattern": {
              "fillmode": "overlay",
              "size": 10,
              "solidity": 0.2
             }
            },
            "type": "histogram"
           }
          ],
          "histogram2d": [
           {
            "colorbar": {
             "outlinewidth": 0,
             "ticks": ""
            },
            "colorscale": [
             [
              0,
              "#0d0887"
             ],
             [
              0.1111111111111111,
              "#46039f"
             ],
             [
              0.2222222222222222,
              "#7201a8"
             ],
             [
              0.3333333333333333,
              "#9c179e"
             ],
             [
              0.4444444444444444,
              "#bd3786"
             ],
             [
              0.5555555555555556,
              "#d8576b"
             ],
             [
              0.6666666666666666,
              "#ed7953"
             ],
             [
              0.7777777777777778,
              "#fb9f3a"
             ],
             [
              0.8888888888888888,
              "#fdca26"
             ],
             [
              1,
              "#f0f921"
             ]
            ],
            "type": "histogram2d"
           }
          ],
          "histogram2dcontour": [
           {
            "colorbar": {
             "outlinewidth": 0,
             "ticks": ""
            },
            "colorscale": [
             [
              0,
              "#0d0887"
             ],
             [
              0.1111111111111111,
              "#46039f"
             ],
             [
              0.2222222222222222,
              "#7201a8"
             ],
             [
              0.3333333333333333,
              "#9c179e"
             ],
             [
              0.4444444444444444,
              "#bd3786"
             ],
             [
              0.5555555555555556,
              "#d8576b"
             ],
             [
              0.6666666666666666,
              "#ed7953"
             ],
             [
              0.7777777777777778,
              "#fb9f3a"
             ],
             [
              0.8888888888888888,
              "#fdca26"
             ],
             [
              1,
              "#f0f921"
             ]
            ],
            "type": "histogram2dcontour"
           }
          ],
          "mesh3d": [
           {
            "colorbar": {
             "outlinewidth": 0,
             "ticks": ""
            },
            "type": "mesh3d"
           }
          ],
          "parcoords": [
           {
            "line": {
             "colorbar": {
              "outlinewidth": 0,
              "ticks": ""
             }
            },
            "type": "parcoords"
           }
          ],
          "pie": [
           {
            "automargin": true,
            "type": "pie"
           }
          ],
          "scatter": [
           {
            "marker": {
             "colorbar": {
              "outlinewidth": 0,
              "ticks": ""
             }
            },
            "type": "scatter"
           }
          ],
          "scatter3d": [
           {
            "line": {
             "colorbar": {
              "outlinewidth": 0,
              "ticks": ""
             }
            },
            "marker": {
             "colorbar": {
              "outlinewidth": 0,
              "ticks": ""
             }
            },
            "type": "scatter3d"
           }
          ],
          "scattercarpet": [
           {
            "marker": {
             "colorbar": {
              "outlinewidth": 0,
              "ticks": ""
             }
            },
            "type": "scattercarpet"
           }
          ],
          "scattergeo": [
           {
            "marker": {
             "colorbar": {
              "outlinewidth": 0,
              "ticks": ""
             }
            },
            "type": "scattergeo"
           }
          ],
          "scattergl": [
           {
            "marker": {
             "colorbar": {
              "outlinewidth": 0,
              "ticks": ""
             }
            },
            "type": "scattergl"
           }
          ],
          "scattermapbox": [
           {
            "marker": {
             "colorbar": {
              "outlinewidth": 0,
              "ticks": ""
             }
            },
            "type": "scattermapbox"
           }
          ],
          "scatterpolar": [
           {
            "marker": {
             "colorbar": {
              "outlinewidth": 0,
              "ticks": ""
             }
            },
            "type": "scatterpolar"
           }
          ],
          "scatterpolargl": [
           {
            "marker": {
             "colorbar": {
              "outlinewidth": 0,
              "ticks": ""
             }
            },
            "type": "scatterpolargl"
           }
          ],
          "scatterternary": [
           {
            "marker": {
             "colorbar": {
              "outlinewidth": 0,
              "ticks": ""
             }
            },
            "type": "scatterternary"
           }
          ],
          "surface": [
           {
            "colorbar": {
             "outlinewidth": 0,
             "ticks": ""
            },
            "colorscale": [
             [
              0,
              "#0d0887"
             ],
             [
              0.1111111111111111,
              "#46039f"
             ],
             [
              0.2222222222222222,
              "#7201a8"
             ],
             [
              0.3333333333333333,
              "#9c179e"
             ],
             [
              0.4444444444444444,
              "#bd3786"
             ],
             [
              0.5555555555555556,
              "#d8576b"
             ],
             [
              0.6666666666666666,
              "#ed7953"
             ],
             [
              0.7777777777777778,
              "#fb9f3a"
             ],
             [
              0.8888888888888888,
              "#fdca26"
             ],
             [
              1,
              "#f0f921"
             ]
            ],
            "type": "surface"
           }
          ],
          "table": [
           {
            "cells": {
             "fill": {
              "color": "#EBF0F8"
             },
             "line": {
              "color": "white"
             }
            },
            "header": {
             "fill": {
              "color": "#C8D4E3"
             },
             "line": {
              "color": "white"
             }
            },
            "type": "table"
           }
          ]
         },
         "layout": {
          "annotationdefaults": {
           "arrowcolor": "#2a3f5f",
           "arrowhead": 0,
           "arrowwidth": 1
          },
          "autotypenumbers": "strict",
          "coloraxis": {
           "colorbar": {
            "outlinewidth": 0,
            "ticks": ""
           }
          },
          "colorscale": {
           "diverging": [
            [
             0,
             "#8e0152"
            ],
            [
             0.1,
             "#c51b7d"
            ],
            [
             0.2,
             "#de77ae"
            ],
            [
             0.3,
             "#f1b6da"
            ],
            [
             0.4,
             "#fde0ef"
            ],
            [
             0.5,
             "#f7f7f7"
            ],
            [
             0.6,
             "#e6f5d0"
            ],
            [
             0.7,
             "#b8e186"
            ],
            [
             0.8,
             "#7fbc41"
            ],
            [
             0.9,
             "#4d9221"
            ],
            [
             1,
             "#276419"
            ]
           ],
           "sequential": [
            [
             0,
             "#0d0887"
            ],
            [
             0.1111111111111111,
             "#46039f"
            ],
            [
             0.2222222222222222,
             "#7201a8"
            ],
            [
             0.3333333333333333,
             "#9c179e"
            ],
            [
             0.4444444444444444,
             "#bd3786"
            ],
            [
             0.5555555555555556,
             "#d8576b"
            ],
            [
             0.6666666666666666,
             "#ed7953"
            ],
            [
             0.7777777777777778,
             "#fb9f3a"
            ],
            [
             0.8888888888888888,
             "#fdca26"
            ],
            [
             1,
             "#f0f921"
            ]
           ],
           "sequentialminus": [
            [
             0,
             "#0d0887"
            ],
            [
             0.1111111111111111,
             "#46039f"
            ],
            [
             0.2222222222222222,
             "#7201a8"
            ],
            [
             0.3333333333333333,
             "#9c179e"
            ],
            [
             0.4444444444444444,
             "#bd3786"
            ],
            [
             0.5555555555555556,
             "#d8576b"
            ],
            [
             0.6666666666666666,
             "#ed7953"
            ],
            [
             0.7777777777777778,
             "#fb9f3a"
            ],
            [
             0.8888888888888888,
             "#fdca26"
            ],
            [
             1,
             "#f0f921"
            ]
           ]
          },
          "colorway": [
           "#636efa",
           "#EF553B",
           "#00cc96",
           "#ab63fa",
           "#FFA15A",
           "#19d3f3",
           "#FF6692",
           "#B6E880",
           "#FF97FF",
           "#FECB52"
          ],
          "font": {
           "color": "#2a3f5f"
          },
          "geo": {
           "bgcolor": "white",
           "lakecolor": "white",
           "landcolor": "#E5ECF6",
           "showlakes": true,
           "showland": true,
           "subunitcolor": "white"
          },
          "hoverlabel": {
           "align": "left"
          },
          "hovermode": "closest",
          "mapbox": {
           "style": "light"
          },
          "paper_bgcolor": "white",
          "plot_bgcolor": "#E5ECF6",
          "polar": {
           "angularaxis": {
            "gridcolor": "white",
            "linecolor": "white",
            "ticks": ""
           },
           "bgcolor": "#E5ECF6",
           "radialaxis": {
            "gridcolor": "white",
            "linecolor": "white",
            "ticks": ""
           }
          },
          "scene": {
           "xaxis": {
            "backgroundcolor": "#E5ECF6",
            "gridcolor": "white",
            "gridwidth": 2,
            "linecolor": "white",
            "showbackground": true,
            "ticks": "",
            "zerolinecolor": "white"
           },
           "yaxis": {
            "backgroundcolor": "#E5ECF6",
            "gridcolor": "white",
            "gridwidth": 2,
            "linecolor": "white",
            "showbackground": true,
            "ticks": "",
            "zerolinecolor": "white"
           },
           "zaxis": {
            "backgroundcolor": "#E5ECF6",
            "gridcolor": "white",
            "gridwidth": 2,
            "linecolor": "white",
            "showbackground": true,
            "ticks": "",
            "zerolinecolor": "white"
           }
          },
          "shapedefaults": {
           "line": {
            "color": "#2a3f5f"
           }
          },
          "ternary": {
           "aaxis": {
            "gridcolor": "white",
            "linecolor": "white",
            "ticks": ""
           },
           "baxis": {
            "gridcolor": "white",
            "linecolor": "white",
            "ticks": ""
           },
           "bgcolor": "#E5ECF6",
           "caxis": {
            "gridcolor": "white",
            "linecolor": "white",
            "ticks": ""
           }
          },
          "title": {
           "x": 0.05
          },
          "xaxis": {
           "automargin": true,
           "gridcolor": "white",
           "linecolor": "white",
           "ticks": "",
           "title": {
            "standoff": 15
           },
           "zerolinecolor": "white",
           "zerolinewidth": 2
          },
          "yaxis": {
           "automargin": true,
           "gridcolor": "white",
           "linecolor": "white",
           "ticks": "",
           "title": {
            "standoff": 15
           },
           "zerolinecolor": "white",
           "zerolinewidth": 2
          }
         }
        }
       }
      }
     },
     "metadata": {},
     "output_type": "display_data"
    }
   ],
   "source": [
    "dfpl = df[candleid-wind-backcandles:candleid+backcandles]\n",
    "import plotly.graph_objects as go\n",
    "from datetime import datetime\n",
    "\n",
    "fig = go.Figure(data=[go.Candlestick(x=dfpl.index,\n",
    "                open=dfpl['open'],\n",
    "                high=dfpl['high'],\n",
    "                low=dfpl['low'],\n",
    "                close=dfpl['close'])])\n",
    "\n",
    "#-------------------------------------------------------------------------\n",
    "# Fitting intercepts to wrap price candles\n",
    "adjintercmax = (df.high.iloc[xxmax] - slmax*xxmax).max()\n",
    "adjintercmin = (df.low.iloc[xxmin] - slmin*xxmin).min()\n",
    "fig.add_trace(go.Scatter(x=xxmin, y=slmin*xxmin + adjintercmin, mode='lines', name='min slope'))\n",
    "fig.add_trace(go.Scatter(x=xxmax, y=slmax*xxmax + adjintercmax, mode='lines', name='max slope'))\n",
    "fig.show()"
   ]
  },
  {
   "cell_type": "markdown",
   "metadata": {},
   "source": [
    "# backcandles time window more dynamic"
   ]
  },
  {
   "cell_type": "code",
   "execution_count": null,
   "metadata": {
    "scrolled": true
   },
   "outputs": [
    {
     "name": "stdout",
     "output_type": "stream",
     "text": [
      "30\n",
      "31\n",
      "41\n",
      "43\n",
      "49\n"
     ]
    },
    {
     "data": {
      "application/vnd.plotly.v1+json": {
       "config": {
        "plotlyServerURL": "https://plot.ly"
       },
       "data": [
        {
         "close": [
          19.67,
          19.1,
          20.12,
          19.93,
          19.35,
          19.28,
          18.88,
          19.06,
          18.44,
          18.71,
          18.45,
          18.68,
          19.01,
          19.16,
          19.3,
          18.89,
          19.33,
          19.18,
          19.19,
          19.43,
          19.7,
          19.59,
          19.96,
          20.08,
          19.92,
          20.12,
          20.7,
          21.3,
          20.77,
          21.1,
          21.43,
          21.08,
          21.25,
          21.48,
          21.62,
          21.64,
          21.49,
          21.82,
          21.65,
          21.97,
          22,
          21.87,
          21.71,
          21.74,
          22.35,
          21.56,
          21.36,
          21.36,
          21.2,
          21.19,
          21.4,
          21.44,
          22.06,
          21.34,
          21.63,
          22.12,
          22.38,
          22.67,
          22.38,
          22.86,
          22.85,
          22.57,
          22.47,
          22.5,
          22.27,
          21.76,
          21.8,
          21.74,
          22.07,
          21.6,
          21.37,
          21.11,
          21.27,
          21.41,
          21.22,
          21.1,
          21.33,
          21.2,
          21.15,
          21.33,
          21.22,
          20.92,
          20.76,
          20.63,
          20.78,
          20.97,
          21.48,
          21.38,
          21.4,
          21.54,
          21.19,
          21.42,
          21.93,
          22.01,
          21.87,
          22.91,
          24.69,
          24.16,
          24.98,
          23.44,
          23.84,
          24.43,
          25.38,
          25.65,
          25.53,
          24.88,
          25.5,
          26.44,
          26.52,
          26.68,
          27.58,
          28.75,
          28.82,
          28.51,
          27.8,
          27.96,
          28.49,
          29.19,
          31.64,
          30.55,
          30.37,
          30.48,
          30.43,
          30.03,
          29.06,
          28.65,
          29.19,
          29.01,
          27.5,
          28.79,
          29.05,
          28.64,
          28.38,
          28.28,
          28.58,
          29.01,
          28.67,
          28.64,
          28.67,
          28.61,
          28.23,
          28.21,
          27.41,
          27.55
         ],
         "high": [
          19.72,
          19.76,
          20.13,
          20.2,
          20.09,
          19.5,
          19.35,
          19.12,
          19.04,
          18.87,
          18.87,
          18.89,
          19.32,
          19.38,
          19.44,
          19.43,
          19.41,
          19.42,
          19.48,
          19.43,
          19.88,
          19.78,
          20,
          20.3,
          20.15,
          20.33,
          20.92,
          21.62,
          22.77,
          21.47,
          21.66,
          21.6,
          21.5,
          21.69,
          21.71,
          21.66,
          21.96,
          21.96,
          22.2,
          22.11,
          22.2,
          22.43,
          22.1,
          21.82,
          22.47,
          23.1,
          21.78,
          21.6,
          21.46,
          21.3,
          21.46,
          21.52,
          22.07,
          22.1,
          21.73,
          22.19,
          22.38,
          22.68,
          22.68,
          22.94,
          22.97,
          22.88,
          22.86,
          22.62,
          22.88,
          22.68,
          22.06,
          21.98,
          22.1,
          22.09,
          21.66,
          21.45,
          21.36,
          21.56,
          21.49,
          21.48,
          21.44,
          21.42,
          21.33,
          21.33,
          21.33,
          21.7,
          21.12,
          20.96,
          20.97,
          21.15,
          21.53,
          21.62,
          21.59,
          21.87,
          21.54,
          21.42,
          21.97,
          22.1,
          22.05,
          23.17,
          25,
          25.61,
          25.729,
          24.98,
          24.96,
          25.1,
          25.79,
          26.25,
          28.32,
          25.99,
          26.07,
          26.89,
          27.09,
          26.7,
          27.78,
          28.89,
          29.45,
          29.8,
          28.68,
          28.02,
          28.91,
          29.19,
          31.77,
          32.07,
          31.27,
          31.5,
          31.19,
          30.46,
          30.08,
          29.01,
          29.24,
          29.65,
          29.08,
          28.83,
          29.66,
          29.4,
          28.66,
          28.42,
          28.91,
          29.22,
          29.5,
          28.92,
          29.06,
          28.79,
          28.63,
          28.3,
          28.29,
          27.75
         ],
         "low": [
          19.37,
          18.96,
          18.84,
          19.74,
          19,
          19.18,
          18.86,
          18.58,
          18.26,
          18.37,
          18.14,
          18.01,
          18.58,
          18.83,
          18.97,
          18.69,
          18.89,
          18.96,
          19.08,
          19.08,
          19.25,
          19.57,
          19.58,
          19.66,
          19.7,
          19.71,
          20,
          20.35,
          20.57,
          20.71,
          21.01,
          21.08,
          21.07,
          21.15,
          21.43,
          20.6,
          21.34,
          21.42,
          21.54,
          21.6,
          21.87,
          21.79,
          21.71,
          21.07,
          21.69,
          21.32,
          21.17,
          21.15,
          21,
          21.05,
          21.02,
          21.32,
          21.24,
          21.2,
          21.28,
          21.6,
          21.99,
          22.24,
          22.19,
          22.32,
          22.33,
          22.37,
          22.26,
          22.21,
          22.1,
          21.42,
          21.6,
          21.7,
          21.72,
          21.57,
          21.36,
          20.87,
          20.69,
          21.15,
          21.21,
          21.03,
          20.86,
          21.01,
          21.06,
          21.08,
          21.15,
          20.92,
          20.68,
          20.51,
          20.51,
          20.71,
          20.86,
          21.32,
          21.28,
          21.23,
          21.15,
          21.2,
          21.29,
          21.64,
          21.85,
          21.7,
          22.83,
          23.94,
          23.91,
          23.37,
          22.02,
          23.21,
          24.25,
          24.9,
          25.35,
          24.8,
          24.81,
          25.42,
          25.65,
          25.9,
          26.01,
          26.99,
          28.33,
          28.41,
          27.58,
          27.68,
          27.8,
          28.43,
          28.8,
          30.2,
          30.04,
          30.16,
          30.36,
          29.52,
          28.93,
          28.11,
          28.38,
          29,
          27.45,
          27.28,
          28.38,
          28.53,
          28,
          27.96,
          28.02,
          28.41,
          28.61,
          28.45,
          28.53,
          28.44,
          27.97,
          27.7,
          27.11,
          26.52
         ],
         "open": [
          19.59,
          19.65,
          19.09,
          20.12,
          19.9,
          19.36,
          19.27,
          18.86,
          19.04,
          18.44,
          18.71,
          18.45,
          18.71,
          19.01,
          19.16,
          19.31,
          18.91,
          19.34,
          19.2,
          19.2,
          19.43,
          19.69,
          19.59,
          19.96,
          20.1,
          19.93,
          20.14,
          20.71,
          21.29,
          20.8,
          21.1,
          21.42,
          21.11,
          21.29,
          21.48,
          21.6,
          21.64,
          21.51,
          21.81,
          21.64,
          21.96,
          21.99,
          21.88,
          21.73,
          21.75,
          22.36,
          21.57,
          21.36,
          21.36,
          21.19,
          21.19,
          21.4,
          21.45,
          22.06,
          21.34,
          21.63,
          22.14,
          22.38,
          22.68,
          22.38,
          22.88,
          22.85,
          22.57,
          22.46,
          22.47,
          22.25,
          21.73,
          21.81,
          21.74,
          22.08,
          21.6,
          21.39,
          21.1,
          21.26,
          21.44,
          21.23,
          21.1,
          21.34,
          21.2,
          21.15,
          21.33,
          21.23,
          20.92,
          20.73,
          20.62,
          20.76,
          20.96,
          21.48,
          21.38,
          21.41,
          21.54,
          21.22,
          21.41,
          21.93,
          22.02,
          21.87,
          22.92,
          24.68,
          24.2,
          24.97,
          23.45,
          23.83,
          24.39,
          25.38,
          25.62,
          25.57,
          24.9,
          25.5,
          26.48,
          26.5,
          26.68,
          27.61,
          28.73,
          28.82,
          28.48,
          27.8,
          27.94,
          28.51,
          29.19,
          31.64,
          30.51,
          30.36,
          30.48,
          30.43,
          30.04,
          29,
          28.66,
          29.19,
          29.01,
          27.5,
          28.79,
          29.06,
          28.62,
          28.35,
          28.29,
          28.58,
          29.02,
          28.68,
          28.63,
          28.72,
          28.61,
          28.22,
          28.21,
          27.41
         ],
         "type": "candlestick",
         "x": [
          405,
          406,
          407,
          408,
          409,
          410,
          411,
          412,
          413,
          414,
          415,
          416,
          417,
          418,
          419,
          420,
          421,
          422,
          423,
          424,
          425,
          426,
          427,
          428,
          429,
          430,
          431,
          432,
          433,
          434,
          435,
          436,
          437,
          438,
          439,
          440,
          441,
          442,
          443,
          444,
          445,
          446,
          447,
          448,
          449,
          450,
          451,
          452,
          453,
          454,
          455,
          456,
          457,
          458,
          459,
          460,
          461,
          462,
          463,
          464,
          465,
          466,
          467,
          468,
          469,
          470,
          471,
          472,
          473,
          474,
          475,
          476,
          477,
          478,
          479,
          480,
          481,
          482,
          483,
          484,
          485,
          486,
          487,
          488,
          489,
          490,
          491,
          492,
          493,
          494,
          495,
          496,
          497,
          498,
          499,
          500,
          501,
          502,
          503,
          504,
          505,
          506,
          507,
          508,
          509,
          510,
          511,
          512,
          513,
          514,
          515,
          516,
          517,
          518,
          519,
          520,
          521,
          522,
          523,
          524,
          525,
          526,
          527,
          528,
          529,
          530,
          531,
          532,
          533,
          534,
          535,
          536,
          537,
          538,
          539,
          540,
          541,
          542,
          543,
          544,
          545,
          546,
          547,
          548
         ]
        },
        {
         "mode": "lines",
         "name": "min slope",
         "type": "scatter",
         "x": [
          453,
          458,
          463,
          470,
          477,
          481,
          488,
          495,
          500
         ],
         "y": [
          20.655845308971465,
          20.635010264832683,
          20.614175220693905,
          20.58500615889961,
          20.555837097105318,
          20.539169061794293,
          20.51,
          20.48083093820571,
          20.459995894066928
         ]
        },
        {
         "mode": "lines",
         "name": "max slope",
         "type": "scatter",
         "x": [
          451,
          462,
          465,
          469,
          475,
          486,
          492,
          498,
          503
         ],
         "y": [
          24.58108400702988,
          24.823912390158178,
          24.890138312829528,
          24.978439543058002,
          25.110891388400706,
          25.353719771529,
          25.486171616871708,
          25.618623462214412,
          25.729
         ]
        }
       ],
       "layout": {
        "template": {
         "data": {
          "bar": [
           {
            "error_x": {
             "color": "#2a3f5f"
            },
            "error_y": {
             "color": "#2a3f5f"
            },
            "marker": {
             "line": {
              "color": "#E5ECF6",
              "width": 0.5
             },
             "pattern": {
              "fillmode": "overlay",
              "size": 10,
              "solidity": 0.2
             }
            },
            "type": "bar"
           }
          ],
          "barpolar": [
           {
            "marker": {
             "line": {
              "color": "#E5ECF6",
              "width": 0.5
             },
             "pattern": {
              "fillmode": "overlay",
              "size": 10,
              "solidity": 0.2
             }
            },
            "type": "barpolar"
           }
          ],
          "carpet": [
           {
            "aaxis": {
             "endlinecolor": "#2a3f5f",
             "gridcolor": "white",
             "linecolor": "white",
             "minorgridcolor": "white",
             "startlinecolor": "#2a3f5f"
            },
            "baxis": {
             "endlinecolor": "#2a3f5f",
             "gridcolor": "white",
             "linecolor": "white",
             "minorgridcolor": "white",
             "startlinecolor": "#2a3f5f"
            },
            "type": "carpet"
           }
          ],
          "choropleth": [
           {
            "colorbar": {
             "outlinewidth": 0,
             "ticks": ""
            },
            "type": "choropleth"
           }
          ],
          "contour": [
           {
            "colorbar": {
             "outlinewidth": 0,
             "ticks": ""
            },
            "colorscale": [
             [
              0,
              "#0d0887"
             ],
             [
              0.1111111111111111,
              "#46039f"
             ],
             [
              0.2222222222222222,
              "#7201a8"
             ],
             [
              0.3333333333333333,
              "#9c179e"
             ],
             [
              0.4444444444444444,
              "#bd3786"
             ],
             [
              0.5555555555555556,
              "#d8576b"
             ],
             [
              0.6666666666666666,
              "#ed7953"
             ],
             [
              0.7777777777777778,
              "#fb9f3a"
             ],
             [
              0.8888888888888888,
              "#fdca26"
             ],
             [
              1,
              "#f0f921"
             ]
            ],
            "type": "contour"
           }
          ],
          "contourcarpet": [
           {
            "colorbar": {
             "outlinewidth": 0,
             "ticks": ""
            },
            "type": "contourcarpet"
           }
          ],
          "heatmap": [
           {
            "colorbar": {
             "outlinewidth": 0,
             "ticks": ""
            },
            "colorscale": [
             [
              0,
              "#0d0887"
             ],
             [
              0.1111111111111111,
              "#46039f"
             ],
             [
              0.2222222222222222,
              "#7201a8"
             ],
             [
              0.3333333333333333,
              "#9c179e"
             ],
             [
              0.4444444444444444,
              "#bd3786"
             ],
             [
              0.5555555555555556,
              "#d8576b"
             ],
             [
              0.6666666666666666,
              "#ed7953"
             ],
             [
              0.7777777777777778,
              "#fb9f3a"
             ],
             [
              0.8888888888888888,
              "#fdca26"
             ],
             [
              1,
              "#f0f921"
             ]
            ],
            "type": "heatmap"
           }
          ],
          "heatmapgl": [
           {
            "colorbar": {
             "outlinewidth": 0,
             "ticks": ""
            },
            "colorscale": [
             [
              0,
              "#0d0887"
             ],
             [
              0.1111111111111111,
              "#46039f"
             ],
             [
              0.2222222222222222,
              "#7201a8"
             ],
             [
              0.3333333333333333,
              "#9c179e"
             ],
             [
              0.4444444444444444,
              "#bd3786"
             ],
             [
              0.5555555555555556,
              "#d8576b"
             ],
             [
              0.6666666666666666,
              "#ed7953"
             ],
             [
              0.7777777777777778,
              "#fb9f3a"
             ],
             [
              0.8888888888888888,
              "#fdca26"
             ],
             [
              1,
              "#f0f921"
             ]
            ],
            "type": "heatmapgl"
           }
          ],
          "histogram": [
           {
            "marker": {
             "pattern": {
              "fillmode": "overlay",
              "size": 10,
              "solidity": 0.2
             }
            },
            "type": "histogram"
           }
          ],
          "histogram2d": [
           {
            "colorbar": {
             "outlinewidth": 0,
             "ticks": ""
            },
            "colorscale": [
             [
              0,
              "#0d0887"
             ],
             [
              0.1111111111111111,
              "#46039f"
             ],
             [
              0.2222222222222222,
              "#7201a8"
             ],
             [
              0.3333333333333333,
              "#9c179e"
             ],
             [
              0.4444444444444444,
              "#bd3786"
             ],
             [
              0.5555555555555556,
              "#d8576b"
             ],
             [
              0.6666666666666666,
              "#ed7953"
             ],
             [
              0.7777777777777778,
              "#fb9f3a"
             ],
             [
              0.8888888888888888,
              "#fdca26"
             ],
             [
              1,
              "#f0f921"
             ]
            ],
            "type": "histogram2d"
           }
          ],
          "histogram2dcontour": [
           {
            "colorbar": {
             "outlinewidth": 0,
             "ticks": ""
            },
            "colorscale": [
             [
              0,
              "#0d0887"
             ],
             [
              0.1111111111111111,
              "#46039f"
             ],
             [
              0.2222222222222222,
              "#7201a8"
             ],
             [
              0.3333333333333333,
              "#9c179e"
             ],
             [
              0.4444444444444444,
              "#bd3786"
             ],
             [
              0.5555555555555556,
              "#d8576b"
             ],
             [
              0.6666666666666666,
              "#ed7953"
             ],
             [
              0.7777777777777778,
              "#fb9f3a"
             ],
             [
              0.8888888888888888,
              "#fdca26"
             ],
             [
              1,
              "#f0f921"
             ]
            ],
            "type": "histogram2dcontour"
           }
          ],
          "mesh3d": [
           {
            "colorbar": {
             "outlinewidth": 0,
             "ticks": ""
            },
            "type": "mesh3d"
           }
          ],
          "parcoords": [
           {
            "line": {
             "colorbar": {
              "outlinewidth": 0,
              "ticks": ""
             }
            },
            "type": "parcoords"
           }
          ],
          "pie": [
           {
            "automargin": true,
            "type": "pie"
           }
          ],
          "scatter": [
           {
            "marker": {
             "colorbar": {
              "outlinewidth": 0,
              "ticks": ""
             }
            },
            "type": "scatter"
           }
          ],
          "scatter3d": [
           {
            "line": {
             "colorbar": {
              "outlinewidth": 0,
              "ticks": ""
             }
            },
            "marker": {
             "colorbar": {
              "outlinewidth": 0,
              "ticks": ""
             }
            },
            "type": "scatter3d"
           }
          ],
          "scattercarpet": [
           {
            "marker": {
             "colorbar": {
              "outlinewidth": 0,
              "ticks": ""
             }
            },
            "type": "scattercarpet"
           }
          ],
          "scattergeo": [
           {
            "marker": {
             "colorbar": {
              "outlinewidth": 0,
              "ticks": ""
             }
            },
            "type": "scattergeo"
           }
          ],
          "scattergl": [
           {
            "marker": {
             "colorbar": {
              "outlinewidth": 0,
              "ticks": ""
             }
            },
            "type": "scattergl"
           }
          ],
          "scattermapbox": [
           {
            "marker": {
             "colorbar": {
              "outlinewidth": 0,
              "ticks": ""
             }
            },
            "type": "scattermapbox"
           }
          ],
          "scatterpolar": [
           {
            "marker": {
             "colorbar": {
              "outlinewidth": 0,
              "ticks": ""
             }
            },
            "type": "scatterpolar"
           }
          ],
          "scatterpolargl": [
           {
            "marker": {
             "colorbar": {
              "outlinewidth": 0,
              "ticks": ""
             }
            },
            "type": "scatterpolargl"
           }
          ],
          "scatterternary": [
           {
            "marker": {
             "colorbar": {
              "outlinewidth": 0,
              "ticks": ""
             }
            },
            "type": "scatterternary"
           }
          ],
          "surface": [
           {
            "colorbar": {
             "outlinewidth": 0,
             "ticks": ""
            },
            "colorscale": [
             [
              0,
              "#0d0887"
             ],
             [
              0.1111111111111111,
              "#46039f"
             ],
             [
              0.2222222222222222,
              "#7201a8"
             ],
             [
              0.3333333333333333,
              "#9c179e"
             ],
             [
              0.4444444444444444,
              "#bd3786"
             ],
             [
              0.5555555555555556,
              "#d8576b"
             ],
             [
              0.6666666666666666,
              "#ed7953"
             ],
             [
              0.7777777777777778,
              "#fb9f3a"
             ],
             [
              0.8888888888888888,
              "#fdca26"
             ],
             [
              1,
              "#f0f921"
             ]
            ],
            "type": "surface"
           }
          ],
          "table": [
           {
            "cells": {
             "fill": {
              "color": "#EBF0F8"
             },
             "line": {
              "color": "white"
             }
            },
            "header": {
             "fill": {
              "color": "#C8D4E3"
             },
             "line": {
              "color": "white"
             }
            },
            "type": "table"
           }
          ]
         },
         "layout": {
          "annotationdefaults": {
           "arrowcolor": "#2a3f5f",
           "arrowhead": 0,
           "arrowwidth": 1
          },
          "autotypenumbers": "strict",
          "coloraxis": {
           "colorbar": {
            "outlinewidth": 0,
            "ticks": ""
           }
          },
          "colorscale": {
           "diverging": [
            [
             0,
             "#8e0152"
            ],
            [
             0.1,
             "#c51b7d"
            ],
            [
             0.2,
             "#de77ae"
            ],
            [
             0.3,
             "#f1b6da"
            ],
            [
             0.4,
             "#fde0ef"
            ],
            [
             0.5,
             "#f7f7f7"
            ],
            [
             0.6,
             "#e6f5d0"
            ],
            [
             0.7,
             "#b8e186"
            ],
            [
             0.8,
             "#7fbc41"
            ],
            [
             0.9,
             "#4d9221"
            ],
            [
             1,
             "#276419"
            ]
           ],
           "sequential": [
            [
             0,
             "#0d0887"
            ],
            [
             0.1111111111111111,
             "#46039f"
            ],
            [
             0.2222222222222222,
             "#7201a8"
            ],
            [
             0.3333333333333333,
             "#9c179e"
            ],
            [
             0.4444444444444444,
             "#bd3786"
            ],
            [
             0.5555555555555556,
             "#d8576b"
            ],
            [
             0.6666666666666666,
             "#ed7953"
            ],
            [
             0.7777777777777778,
             "#fb9f3a"
            ],
            [
             0.8888888888888888,
             "#fdca26"
            ],
            [
             1,
             "#f0f921"
            ]
           ],
           "sequentialminus": [
            [
             0,
             "#0d0887"
            ],
            [
             0.1111111111111111,
             "#46039f"
            ],
            [
             0.2222222222222222,
             "#7201a8"
            ],
            [
             0.3333333333333333,
             "#9c179e"
            ],
            [
             0.4444444444444444,
             "#bd3786"
            ],
            [
             0.5555555555555556,
             "#d8576b"
            ],
            [
             0.6666666666666666,
             "#ed7953"
            ],
            [
             0.7777777777777778,
             "#fb9f3a"
            ],
            [
             0.8888888888888888,
             "#fdca26"
            ],
            [
             1,
             "#f0f921"
            ]
           ]
          },
          "colorway": [
           "#636efa",
           "#EF553B",
           "#00cc96",
           "#ab63fa",
           "#FFA15A",
           "#19d3f3",
           "#FF6692",
           "#B6E880",
           "#FF97FF",
           "#FECB52"
          ],
          "font": {
           "color": "#2a3f5f"
          },
          "geo": {
           "bgcolor": "white",
           "lakecolor": "white",
           "landcolor": "#E5ECF6",
           "showlakes": true,
           "showland": true,
           "subunitcolor": "white"
          },
          "hoverlabel": {
           "align": "left"
          },
          "hovermode": "closest",
          "mapbox": {
           "style": "light"
          },
          "paper_bgcolor": "white",
          "plot_bgcolor": "#E5ECF6",
          "polar": {
           "angularaxis": {
            "gridcolor": "white",
            "linecolor": "white",
            "ticks": ""
           },
           "bgcolor": "#E5ECF6",
           "radialaxis": {
            "gridcolor": "white",
            "linecolor": "white",
            "ticks": ""
           }
          },
          "scene": {
           "xaxis": {
            "backgroundcolor": "#E5ECF6",
            "gridcolor": "white",
            "gridwidth": 2,
            "linecolor": "white",
            "showbackground": true,
            "ticks": "",
            "zerolinecolor": "white"
           },
           "yaxis": {
            "backgroundcolor": "#E5ECF6",
            "gridcolor": "white",
            "gridwidth": 2,
            "linecolor": "white",
            "showbackground": true,
            "ticks": "",
            "zerolinecolor": "white"
           },
           "zaxis": {
            "backgroundcolor": "#E5ECF6",
            "gridcolor": "white",
            "gridwidth": 2,
            "linecolor": "white",
            "showbackground": true,
            "ticks": "",
            "zerolinecolor": "white"
           }
          },
          "shapedefaults": {
           "line": {
            "color": "#2a3f5f"
           }
          },
          "ternary": {
           "aaxis": {
            "gridcolor": "white",
            "linecolor": "white",
            "ticks": ""
           },
           "baxis": {
            "gridcolor": "white",
            "linecolor": "white",
            "ticks": ""
           },
           "bgcolor": "#E5ECF6",
           "caxis": {
            "gridcolor": "white",
            "linecolor": "white",
            "ticks": ""
           }
          },
          "title": {
           "x": 0.05
          },
          "xaxis": {
           "automargin": true,
           "gridcolor": "white",
           "linecolor": "white",
           "ticks": "",
           "title": {
            "standoff": 15
           },
           "zerolinecolor": "white",
           "zerolinewidth": 2
          },
          "yaxis": {
           "automargin": true,
           "gridcolor": "white",
           "linecolor": "white",
           "ticks": "",
           "title": {
            "standoff": 15
           },
           "zerolinecolor": "white",
           "zerolinewidth": 2
          }
         }
        }
       }
      }
     },
     "metadata": {},
     "output_type": "display_data"
    }
   ],
   "source": [
    "import numpy as np\n",
    "from matplotlib import pyplot\n",
    "backcandles= 40 # 6*8\n",
    "brange = 10 # backcandles//4 #should be less than backcandles\n",
    "wind = 6\n",
    "\n",
    "candleid = 500\n",
    "\n",
    "optbackcandles= backcandles\n",
    "sldiff = 1000\n",
    "\n",
    "for r1 in range(backcandles-brange, backcandles+brange):\n",
    "    maxim = np.array([])\n",
    "    minim = np.array([])\n",
    "    xxmin = np.array([])\n",
    "    xxmax = np.array([])\n",
    "    for i in range(candleid-r1, candleid+1, wind):\n",
    "        minim = np.append(minim, df.low.iloc[i:i+wind].min())\n",
    "        xxmin = np.append(xxmin, df.low.iloc[i:i+wind].idxmin())\n",
    "    for i in range(candleid-r1, candleid+1, wind):\n",
    "        maxim = np.append(maxim, df.high.loc[i:i+wind].max())\n",
    "        xxmax = np.append(xxmax, df.high.iloc[i:i+wind].idxmax())\n",
    "    slmin, intercmin = np.polyfit(xxmin, minim,1)\n",
    "    slmax, intercmax = np.polyfit(xxmax, maxim,1)\n",
    "    \n",
    "    if(abs(slmin-slmax)<sldiff):\n",
    "        sldiff = abs(slmin-slmax)\n",
    "        optbackcandles=r1\n",
    "        slminopt = slmin\n",
    "        slmaxopt = slmax\n",
    "        intercminopt = intercmin\n",
    "        intercmaxopt = intercmax\n",
    "        maximopt = maxim.copy()\n",
    "        minimopt = minim.copy()\n",
    "        xxminopt = xxmin.copy()\n",
    "        xxmaxopt = xxmax.copy()\n",
    "\n",
    "        print(optbackcandles)\n",
    "dfpl = df[candleid-wind-optbackcandles-backcandles:candleid+optbackcandles]  \n",
    "fig = go.Figure(data=[go.Candlestick(x=dfpl.index,\n",
    "                open=dfpl['open'],\n",
    "                high=dfpl['high'],\n",
    "                low=dfpl['low'],\n",
    "                close=dfpl['close'])])\n",
    "\n",
    "adjintercmax = (df.high.iloc[xxmaxopt] - slmaxopt*xxmaxopt).max()\n",
    "adjintercmin = (df.low.iloc[xxminopt] - slminopt*xxminopt).min()\n",
    "fig.add_trace(go.Scatter(x=xxminopt, y=slminopt*xxminopt + adjintercmin, mode='lines', name='min slope'))\n",
    "fig.add_trace(go.Scatter(x=xxmaxopt, y=slmaxopt*xxmaxopt + adjintercmax, mode='lines', name='max slope'))\n",
    "fig.show()"
   ]
  },
  {
   "cell_type": "code",
   "execution_count": 11,
   "metadata": {},
   "outputs": [
    {
     "ename": "ValueError",
     "evalue": "attempt to get argmin of an empty sequence",
     "output_type": "error",
     "traceback": [
      "\u001b[1;31m---------------------------------------------------------------------------\u001b[0m",
      "\u001b[1;31mValueError\u001b[0m                                Traceback (most recent call last)",
      "Input \u001b[1;32mIn [11]\u001b[0m, in \u001b[0;36m<module>\u001b[1;34m\u001b[0m\n\u001b[0;32m     18\u001b[0m \u001b[38;5;28;01mfor\u001b[39;00m i \u001b[38;5;129;01min\u001b[39;00m \u001b[38;5;28mrange\u001b[39m(candleid\u001b[38;5;241m-\u001b[39mr1, candleid\u001b[38;5;241m+\u001b[39m\u001b[38;5;241m1\u001b[39m, wind):\n\u001b[0;32m     19\u001b[0m     minim \u001b[38;5;241m=\u001b[39m np\u001b[38;5;241m.\u001b[39mappend(minim, df\u001b[38;5;241m.\u001b[39mLow\u001b[38;5;241m.\u001b[39miloc[i:i\u001b[38;5;241m+\u001b[39mwind]\u001b[38;5;241m.\u001b[39mmin())\n\u001b[1;32m---> 20\u001b[0m     xxmin \u001b[38;5;241m=\u001b[39m np\u001b[38;5;241m.\u001b[39mappend(xxmin, \u001b[43mdf\u001b[49m\u001b[38;5;241;43m.\u001b[39;49m\u001b[43mLow\u001b[49m\u001b[38;5;241;43m.\u001b[39;49m\u001b[43miloc\u001b[49m\u001b[43m[\u001b[49m\u001b[43mi\u001b[49m\u001b[43m:\u001b[49m\u001b[43mi\u001b[49m\u001b[38;5;241;43m+\u001b[39;49m\u001b[43mwind\u001b[49m\u001b[43m]\u001b[49m\u001b[38;5;241;43m.\u001b[39;49m\u001b[43midxmin\u001b[49m\u001b[43m(\u001b[49m\u001b[43m)\u001b[49m)\n\u001b[0;32m     21\u001b[0m \u001b[38;5;28;01mfor\u001b[39;00m i \u001b[38;5;129;01min\u001b[39;00m \u001b[38;5;28mrange\u001b[39m(candleid\u001b[38;5;241m-\u001b[39mr1, candleid\u001b[38;5;241m+\u001b[39m\u001b[38;5;241m1\u001b[39m, wind):\n\u001b[0;32m     22\u001b[0m     maxim \u001b[38;5;241m=\u001b[39m np\u001b[38;5;241m.\u001b[39mappend(maxim, df\u001b[38;5;241m.\u001b[39mHigh\u001b[38;5;241m.\u001b[39mloc[i:i\u001b[38;5;241m+\u001b[39mwind]\u001b[38;5;241m.\u001b[39mmax())\n",
      "File \u001b[1;32mc:\\Users\\Grant\\virenv\\algo\\lib\\site-packages\\pandas\\core\\series.py:2285\u001b[0m, in \u001b[0;36mSeries.idxmin\u001b[1;34m(self, axis, skipna, *args, **kwargs)\u001b[0m\n\u001b[0;32m   2221\u001b[0m \u001b[38;5;28;01mdef\u001b[39;00m \u001b[38;5;21midxmin\u001b[39m(\u001b[38;5;28mself\u001b[39m, axis\u001b[38;5;241m=\u001b[39m\u001b[38;5;241m0\u001b[39m, skipna\u001b[38;5;241m=\u001b[39m\u001b[38;5;28;01mTrue\u001b[39;00m, \u001b[38;5;241m*\u001b[39margs, \u001b[38;5;241m*\u001b[39m\u001b[38;5;241m*\u001b[39mkwargs):\n\u001b[0;32m   2222\u001b[0m     \u001b[38;5;124;03m\"\"\"\u001b[39;00m\n\u001b[0;32m   2223\u001b[0m \u001b[38;5;124;03m    Return the row label of the minimum value.\u001b[39;00m\n\u001b[0;32m   2224\u001b[0m \n\u001b[1;32m   (...)\u001b[0m\n\u001b[0;32m   2283\u001b[0m \u001b[38;5;124;03m    nan\u001b[39;00m\n\u001b[0;32m   2284\u001b[0m \u001b[38;5;124;03m    \"\"\"\u001b[39;00m\n\u001b[1;32m-> 2285\u001b[0m     i \u001b[38;5;241m=\u001b[39m \u001b[38;5;28mself\u001b[39m\u001b[38;5;241m.\u001b[39margmin(axis, skipna, \u001b[38;5;241m*\u001b[39margs, \u001b[38;5;241m*\u001b[39m\u001b[38;5;241m*\u001b[39mkwargs)\n\u001b[0;32m   2286\u001b[0m     \u001b[38;5;28;01mif\u001b[39;00m i \u001b[38;5;241m==\u001b[39m \u001b[38;5;241m-\u001b[39m\u001b[38;5;241m1\u001b[39m:\n\u001b[0;32m   2287\u001b[0m         \u001b[38;5;28;01mreturn\u001b[39;00m np\u001b[38;5;241m.\u001b[39mnan\n",
      "File \u001b[1;32mc:\\Users\\Grant\\virenv\\algo\\lib\\site-packages\\pandas\\core\\base.py:709\u001b[0m, in \u001b[0;36mIndexOpsMixin.argmin\u001b[1;34m(self, axis, skipna, *args, **kwargs)\u001b[0m\n\u001b[0;32m    705\u001b[0m         \u001b[38;5;28;01mreturn\u001b[39;00m delegate\u001b[38;5;241m.\u001b[39margmin()\n\u001b[0;32m    706\u001b[0m \u001b[38;5;28;01melse\u001b[39;00m:\n\u001b[0;32m    707\u001b[0m     \u001b[38;5;66;03m# error: Incompatible return value type (got \"Union[int, ndarray]\", expected\u001b[39;00m\n\u001b[0;32m    708\u001b[0m     \u001b[38;5;66;03m# \"int\")\u001b[39;00m\n\u001b[1;32m--> 709\u001b[0m     \u001b[38;5;28;01mreturn\u001b[39;00m \u001b[43mnanops\u001b[49m\u001b[38;5;241;43m.\u001b[39;49m\u001b[43mnanargmin\u001b[49m\u001b[43m(\u001b[49m\u001b[43m  \u001b[49m\u001b[38;5;66;43;03m# type: ignore[return-value]\u001b[39;49;00m\n\u001b[0;32m    710\u001b[0m \u001b[43m        \u001b[49m\u001b[43mdelegate\u001b[49m\u001b[43m,\u001b[49m\u001b[43m \u001b[49m\u001b[43mskipna\u001b[49m\u001b[38;5;241;43m=\u001b[39;49m\u001b[43mskipna\u001b[49m\n\u001b[0;32m    711\u001b[0m \u001b[43m    \u001b[49m\u001b[43m)\u001b[49m\n",
      "File \u001b[1;32mc:\\Users\\Grant\\virenv\\algo\\lib\\site-packages\\pandas\\core\\nanops.py:94\u001b[0m, in \u001b[0;36mdisallow.__call__.<locals>._f\u001b[1;34m(*args, **kwargs)\u001b[0m\n\u001b[0;32m     92\u001b[0m \u001b[38;5;28;01mtry\u001b[39;00m:\n\u001b[0;32m     93\u001b[0m     \u001b[38;5;28;01mwith\u001b[39;00m np\u001b[38;5;241m.\u001b[39merrstate(invalid\u001b[38;5;241m=\u001b[39m\u001b[38;5;124m\"\u001b[39m\u001b[38;5;124mignore\u001b[39m\u001b[38;5;124m\"\u001b[39m):\n\u001b[1;32m---> 94\u001b[0m         \u001b[38;5;28;01mreturn\u001b[39;00m f(\u001b[38;5;241m*\u001b[39margs, \u001b[38;5;241m*\u001b[39m\u001b[38;5;241m*\u001b[39mkwargs)\n\u001b[0;32m     95\u001b[0m \u001b[38;5;28;01mexcept\u001b[39;00m \u001b[38;5;167;01mValueError\u001b[39;00m \u001b[38;5;28;01mas\u001b[39;00m e:\n\u001b[0;32m     96\u001b[0m     \u001b[38;5;66;03m# we want to transform an object array\u001b[39;00m\n\u001b[0;32m     97\u001b[0m     \u001b[38;5;66;03m# ValueError message to the more typical TypeError\u001b[39;00m\n\u001b[0;32m     98\u001b[0m     \u001b[38;5;66;03m# e.g. this is normally a disallowed function on\u001b[39;00m\n\u001b[0;32m     99\u001b[0m     \u001b[38;5;66;03m# object arrays that contain strings\u001b[39;00m\n\u001b[0;32m    100\u001b[0m     \u001b[38;5;28;01mif\u001b[39;00m is_object_dtype(args[\u001b[38;5;241m0\u001b[39m]):\n",
      "File \u001b[1;32mc:\\Users\\Grant\\virenv\\algo\\lib\\site-packages\\pandas\\core\\nanops.py:1117\u001b[0m, in \u001b[0;36mnanargmin\u001b[1;34m(values, axis, skipna, mask)\u001b[0m\n\u001b[0;32m   1115\u001b[0m values, mask, _, _, _ \u001b[38;5;241m=\u001b[39m _get_values(values, \u001b[38;5;28;01mTrue\u001b[39;00m, fill_value_typ\u001b[38;5;241m=\u001b[39m\u001b[38;5;124m\"\u001b[39m\u001b[38;5;124m+inf\u001b[39m\u001b[38;5;124m\"\u001b[39m, mask\u001b[38;5;241m=\u001b[39mmask)\n\u001b[0;32m   1116\u001b[0m \u001b[38;5;66;03m# error: Need type annotation for 'result'\u001b[39;00m\n\u001b[1;32m-> 1117\u001b[0m result \u001b[38;5;241m=\u001b[39m \u001b[43mvalues\u001b[49m\u001b[38;5;241;43m.\u001b[39;49m\u001b[43margmin\u001b[49m\u001b[43m(\u001b[49m\u001b[43maxis\u001b[49m\u001b[43m)\u001b[49m  \u001b[38;5;66;03m# type: ignore[var-annotated]\u001b[39;00m\n\u001b[0;32m   1118\u001b[0m result \u001b[38;5;241m=\u001b[39m _maybe_arg_null_out(result, axis, mask, skipna)\n\u001b[0;32m   1119\u001b[0m \u001b[38;5;28;01mreturn\u001b[39;00m result\n",
      "\u001b[1;31mValueError\u001b[0m: attempt to get argmin of an empty sequence"
     ]
    }
   ],
   "source": [
    "import numpy as np\n",
    "from matplotlib import pyplot\n",
    "backcandles= 88\n",
    "brange = 50 #should be less than backcandles\n",
    "wind = 5\n",
    "\n",
    "candleid = 70\n",
    "\n",
    "optbackcandles= backcandles\n",
    "sldiff = 10\n",
    "sldist = 55\n",
    "for r1 in range(backcandles-brange, backcandles+brange):\n",
    "    maxim = np.array([])\n",
    "    minim = np.array([])\n",
    "    xxmin = np.array([])\n",
    "    xxmax = np.array([])\n",
    "    \n",
    "    for i in range(candleid-r1, candleid+1, wind):\n",
    "        minim = np.append(minim, df.Low.iloc[i:i+wind].min())\n",
    "        xxmin = np.append(xxmin, df.Low.iloc[i:i+wind].idxmin())\n",
    "    for i in range(candleid-r1, candleid+1, wind):\n",
    "        maxim = np.append(maxim, df.High.loc[i:i+wind].max())\n",
    "        xxmax = np.append(xxmax, df.High.iloc[i:i+wind].idxmax())\n",
    "    slmin, intercmin = np.polyfit(xxmin, minim,1)\n",
    "    slmax, intercmax = np.polyfit(xxmax, maxim,1)\n",
    "    \n",
    "    dist = (slmax*candleid + intercmax)-(slmin*candleid + intercmin)\n",
    "    if(dist<sldist): #abs(slmin-slmax)<sldiff and\n",
    "        #sldiff = abs(slmin-slmax)\n",
    "        sldist = dist\n",
    "        optbackcandles=r1\n",
    "        slminopt = slmin\n",
    "        slmaxopt = slmax\n",
    "        intercminopt = intercmin\n",
    "        intercmaxopt = intercmax\n",
    "        maximopt = maxim.copy()\n",
    "        minimopt = minim.copy()\n",
    "        xxminopt = xxmin.copy()\n",
    "        xxmaxopt = xxmax.copy()\n",
    "\n",
    "        \n",
    "print(optbackcandles)\n",
    "dfpl = df[candleid-wind-optbackcandles-backcandles:candleid+optbackcandles]  \n",
    "fig = go.Figure(data=[go.Candlestick(x=dfpl.index,\n",
    "                open=dfpl['Open'],\n",
    "                high=dfpl['High'],\n",
    "                low=dfpl['Low'],\n",
    "                close=dfpl['Close'])])\n",
    "\n",
    "adjintercmax = (df.high.iloc[xxmaxopt] - slmaxopt*xxmaxopt).max()\n",
    "adjintercmin = (df.low.iloc[xxminopt] - slminopt*xxminopt).min()\n",
    "fig.add_trace(go.Scatter(x=xxminopt, y=slminopt*xxminopt + adjintercmin, mode='lines', name='min slope'))\n",
    "fig.add_trace(go.Scatter(x=xxmaxopt, y=slmaxopt*xxmaxopt + adjintercmax, mode='lines', name='max slope'))\n",
    "fig.show()"
   ]
  },
  {
   "cell_type": "code",
   "execution_count": null,
   "metadata": {},
   "outputs": [],
   "source": []
  }
 ],
 "metadata": {
  "kernelspec": {
   "display_name": "Python 3 (ipykernel)",
   "language": "python",
   "name": "python3"
  },
  "language_info": {
   "codemirror_mode": {
    "name": "ipython",
    "version": 3
   },
   "file_extension": ".py",
   "mimetype": "text/x-python",
   "name": "python",
   "nbconvert_exporter": "python",
   "pygments_lexer": "ipython3",
   "version": "3.10.0"
  }
 },
 "nbformat": 4,
 "nbformat_minor": 2
}
