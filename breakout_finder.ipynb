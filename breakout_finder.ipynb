{
 "cells": [
  {
   "cell_type": "code",
   "execution_count": null,
   "metadata": {},
   "outputs": [],
   "source": [
    "\n",
    "import numpy as np\n",
    "import matplotlib.pyplot as plt\n",
    "import pandas as pd\n",
    "from scipy.signal import argrelextrema\n",
    "# from collections import deque\n",
    "# from matplotlib.lines import Line2D\n",
    "import pandas_ta as ta\n",
    "from datetime import datetime, timedelta\n",
    "import os\n",
    "from IPython.display import display, HTML\n",
    "from tqdm import tqdm\n",
    "import plotly.graph_objects as go\n"
   ]
  },
  {
   "cell_type": "code",
   "execution_count": null,
   "metadata": {},
   "outputs": [],
   "source": [
    "dataframes = {}\n",
    "\n",
    "list_of_candidate=[]\n",
    "\n",
    "timeframe='1h'\n",
    "outdir=f\"{os.getcwd()}/data/{timeframe}\"\n",
    "\n",
    "\n",
    "for filename in os.listdir(outdir):\n",
    "    symbol = filename.split(\"_\")[0]\n",
    "    df = pd.read_csv(f\"{outdir}/{filename}\", index_col='Time')"
   ]
  }
 ],
 "metadata": {
  "language_info": {
   "name": "python"
  },
  "orig_nbformat": 4
 },
 "nbformat": 4,
 "nbformat_minor": 2
}
