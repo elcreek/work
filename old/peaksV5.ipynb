{
 "cells": [
  {
   "cell_type": "code",
   "execution_count": 96,
   "metadata": {},
   "outputs": [],
   "source": [
    "import numpy as np\n",
    "import matplotlib.pyplot as plt\n",
    "import pandas as pd\n",
    "# import yfinance as yf\n",
    "from scipy.signal import argrelextrema\n",
    "# from collections import deque\n",
    "# from matplotlib.lines import Line2D\n",
    "import pandas_ta as ta\n",
    "import ccxt\n",
    "from datetime import datetime, timedelta\n",
    "# import plotly.graph_objects as go\n",
    "# import inspect \n",
    "import os\n",
    "# import ccxt_data_fetch\n",
    "from IPython.display import display, HTML\n",
    "from tqdm import tqdm\n",
    "import re\n",
    "\n",
    "# pd.set_option('display.max_rows', None)\n",
    "pd.reset_option(\"display.max_rows\")"
   ]
  },
  {
   "cell_type": "code",
   "execution_count": null,
   "metadata": {},
   "outputs": [],
   "source": []
  },
  {
   "cell_type": "code",
   "execution_count": 97,
   "metadata": {},
   "outputs": [],
   "source": [
    "def calc():\n",
    "    # data=ccxt_data() # using it will reset all the params to default parms\n",
    "    # symbol='ETH/USDT'\n",
    "\n",
    "    global order\n",
    "    global peaks_df\n",
    "    global troughs_df    \n",
    "\n",
    "    if len(data) > 14:\n",
    "    \n",
    "\n",
    "        data['ta_rsi'] = ta.rsi(data['Close'], length = 14)\n",
    "\n",
    "        coin_peak = argrelextrema(data['Close'].values, np.greater, order=order)[0]\n",
    "\n",
    "        coin_peaks_df = data.iloc[coin_peak]['Close']\n",
    "  \n",
    "\n",
    "        ta_peak = argrelextrema(data['ta_rsi'].values, np.greater, order=order)[0]\n",
    "        ta_peaks_df = data.iloc[ta_peak]['ta_rsi']\n",
    " \n",
    "\n",
    "        coin_trough = argrelextrema(data['Close'].values, np.less, order=order)[0]\n",
    "        coin_trough_df = data.iloc[coin_trough]['Close']\n",
    "\n",
    "        ta_trough = argrelextrema(data['ta_rsi'].values, np.less, order=order)[0]\n",
    "        ta_trough_df = data.iloc[ta_trough]['ta_rsi']\n",
    "\n",
    "        peaks = [coin_peaks_df, ta_peaks_df]\n",
    "        peaks_df = pd.concat(peaks, axis=1)\n",
    "        peaks_df = peaks_df[(peaks_df.Close.notna()) & (peaks_df.ta_rsi.notna())]\n",
    "\n",
    "        troughs = [coin_trough_df, ta_trough_df]\n",
    "        troughs_df = pd.concat(troughs, axis=1)\n",
    "        troughs_df = troughs_df[(troughs_df.Close.notna()) & (troughs_df.ta_rsi.notna())]\n",
    "\n",
    "        if peaks_df.empty:\n",
    "            # tof=False\n",
    "            # print('empty peaks', symbol)\n",
    "            return False\n",
    "\n",
    "        elif troughs_df.empty:\n",
    "            # print('empty troughs', symbol)\n",
    "            return False\n",
    "        \n",
    "        else:\n",
    "            return peaks_df, troughs_df, True\n",
    "\n",
    "    else:\n",
    "        # tof=False\n",
    "        print('data length less than 14', symbol)\n",
    "        return False\n",
    "\n",
    "\n"
   ]
  },
  {
   "cell_type": "code",
   "execution_count": 98,
   "metadata": {},
   "outputs": [],
   "source": [
    "\n",
    "# peaks_df, troughs_df = calc()\n",
    "\n",
    "def signal_dates(n=9):\n",
    "    global sell\n",
    "    global buy\n",
    "    sell = []\n",
    "    buy = []\n",
    "    dates_of_peaks = []\n",
    "    dates_of_troughs = []\n",
    "\n",
    "    if calc():\n",
    "\n",
    "        for i in range(1,n):\n",
    "\n",
    "            diff = peaks_df.diff(i)\n",
    "            # diff.dropna(inplace=True) # do not use it\n",
    "            sig = diff[~((diff > 0).all(1)) & ~((diff < 0).all(1))]\n",
    "            dates_of_peaks.append(sig.index.values)\n",
    "\n",
    "    \n",
    "            diff = troughs_df.diff(i)\n",
    "            # diff.dropna(inplace=True) # do not use it\n",
    "            sig = diff[~((diff > 0).all(1)) & ~((diff < 0).all(1))]\n",
    "            dates_of_troughs.append(sig.index.values)\n",
    "\n",
    "        for list in dates_of_peaks:\n",
    "            for i in list:\n",
    "                if str(i) not in sell:\n",
    "                    # np.datetime to str\n",
    "                    # maybe pd.to_datetime(i) works better\n",
    "                    sell.append(str(i))\n",
    "\n",
    "        for list in dates_of_troughs:\n",
    "            for i in list:\n",
    "                if str(i) not in buy:\n",
    "                    buy.append(str(i))\n",
    "                    \n",
    "\n",
    "        sell.sort()\n",
    "        buy.sort()\n",
    "\n",
    "        # print(dates_of_peaks)\n",
    "        # problem : buy ans sell should be list of datetime***********************\n",
    "\n",
    "        # sell=pd.to_datetime(sell)\n",
    "        # buy=pd.to_datetime(buy)\n",
    "\n",
    "\n",
    "        if not buy or not sell:\n",
    "            print('empty buy or sell')\n",
    "            return False\n",
    "        else:\n",
    "            return sell, buy, True\n",
    "\n",
    "    \n",
    "            \n",
    "    else:\n",
    "        # tof=False\n",
    "        # print(' calc() is false ', symbol)\n",
    "        return False\n",
    "\n"
   ]
  },
  {
   "cell_type": "code",
   "execution_count": 99,
   "metadata": {},
   "outputs": [],
   "source": [
    "from binance.client import Client\n",
    "import datetime as dt\n",
    "from functools import cache\n",
    "\n",
    "\n",
    "client = Client()\n",
    "\n",
    "# @cache\n",
    "def get_historical_ohlc_data(symbol, interval='1h'):\n",
    "  print(symbol)\n",
    "  \n",
    "  df = pd.DataFrame(\n",
    "      client.get_historical_klines(symbol=symbol, start_str=\"33 day ago UTC\", interval=interval))\n",
    "\n",
    "  df.columns = [\n",
    "      'open_time', 'Open', 'High', 'Low', 'Close', 'Volume', 'close_time',\n",
    "      'qav', 'num_trades', 'taker_base_vol', 'taker_quote_vol',\n",
    "      'is_best_match'\n",
    "  ]\n",
    "  df['Time'] = [\n",
    "      dt.datetime.fromtimestamp(x / 1000) for x in df.open_time\n",
    "  ]\n",
    "  df = df[['Time', 'Open', 'High', 'Low', 'Close', 'Volume']]\n",
    "  df.Close = df.Close.astype(float)\n",
    "  df.set_index('Time', inplace=True)\n",
    "#   print(df)\n",
    "  return df[:-1]"
   ]
  },
  {
   "cell_type": "code",
   "execution_count": 100,
   "metadata": {},
   "outputs": [
    {
     "name": "stdout",
     "output_type": "stream",
     "text": [
      "FLUXUSDT\n",
      "buy : \n",
      "2022-06-25T13:00:00.000000000 \n",
      "2022-06-22T21:00:00.000000000 \n",
      "2022-06-18T17:00:00.000000000 \n",
      "sell : \n",
      "2022-06-26T09:00:00.000000000\n",
      "DREPUSDT\n",
      "buy : \n",
      "2022-06-29T05:00:00.000000000 \n",
      "2022-06-25T13:00:00.000000000 \n",
      "2022-06-22T05:00:00.000000000 \n",
      "sell : \n",
      "2022-06-26T09:00:00.000000000\n",
      "HOTUSDT\n",
      "buy : \n",
      "2022-06-26T21:00:00.000000000 \n",
      "2022-06-25T13:00:00.000000000 \n",
      "2022-06-22T21:00:00.000000000 \n",
      "sell : \n",
      "2022-06-28T09:00:00.000000000\n",
      "ARUSDT\n",
      "buy : \n",
      "2022-06-30T05:00:00.000000000 \n",
      "2022-06-25T13:00:00.000000000 \n",
      "2022-06-22T21:00:00.000000000 \n",
      "sell : \n",
      "2022-06-28T09:00:00.000000000\n",
      "SYSUSDT\n",
      "buy : \n",
      "2022-06-30T05:00:00.000000000 \n",
      "2022-06-28T01:00:00.000000000 \n",
      "2022-06-25T13:00:00.000000000 \n",
      "sell : \n",
      "2022-06-28T13:00:00.000000000\n",
      "CKBUSDT\n",
      "buy : \n",
      "2022-06-26T21:00:00.000000000 \n",
      "2022-06-25T13:00:00.000000000 \n",
      "2022-06-18T17:00:00.000000000 \n",
      "sell : \n",
      "2022-06-28T09:00:00.000000000\n",
      "CTXCUSDT\n",
      "buy : \n",
      "2022-06-28T21:00:00.000000000 \n",
      "2022-06-25T13:00:00.000000000 \n",
      "2022-06-22T05:00:00.000000000 \n",
      "sell : \n",
      "2022-06-30T01:00:00.000000000\n",
      "DOGEUSDT\n",
      "buy : \n",
      "2022-06-29T05:00:00.000000000 \n",
      "2022-06-25T13:00:00.000000000 \n",
      "2022-06-18T17:00:00.000000000 \n",
      "sell : \n",
      "2022-06-29T17:00:00.000000000\n",
      "ETCUSDT\n",
      "buy : \n",
      "2022-06-25T13:00:00.000000000 \n",
      "2022-06-22T21:00:00.000000000 \n",
      "2022-06-18T17:00:00.000000000 \n",
      "sell : \n",
      "2022-06-27T01:00:00.000000000\n",
      "FILUSDT\n",
      "buy : \n",
      "2022-06-30T05:00:00.000000000 \n",
      "2022-06-25T13:00:00.000000000 \n",
      "2022-06-22T05:00:00.000000000 \n",
      "sell : \n",
      "2022-06-26T09:00:00.000000000\n",
      "FIROUSDT\n",
      "buy : \n",
      "2022-06-25T13:00:00.000000000 \n",
      "2022-06-22T05:00:00.000000000 \n",
      "2022-06-16T21:00:00.000000000 \n",
      "sell : \n",
      "2022-06-26T09:00:00.000000000\n",
      "LTCUSDT\n",
      "buy : \n",
      "2022-06-25T13:00:00.000000000 \n",
      "2022-06-24T13:00:00.000000000 \n",
      "2022-06-22T05:00:00.000000000 \n",
      "sell : \n",
      "2022-06-29T17:00:00.000000000\n",
      "KMDUSDT\n",
      "buy : \n",
      "2022-06-25T13:00:00.000000000 \n",
      "2022-06-22T05:00:00.000000000 \n",
      "2022-06-16T21:00:00.000000000 \n",
      "sell : \n",
      "2022-06-30T01:00:00.000000000\n",
      "RVNUSDT\n",
      "buy : \n",
      "2022-06-22T05:00:00.000000000 \n",
      "2022-06-18T17:00:00.000000000 \n",
      "2022-06-16T21:00:00.000000000 \n",
      "sell : \n",
      "2022-06-27T09:00:00.000000000\n",
      "SCUSDT\n",
      "buy : \n",
      "2022-06-26T21:00:00.000000000 \n",
      "2022-06-25T13:00:00.000000000 \n",
      "2022-06-18T17:00:00.000000000 \n",
      "sell : \n",
      "2022-06-27T17:00:00.000000000\n",
      "XLMUSDT\n",
      "buy : \n",
      "2022-06-25T13:00:00.000000000 \n",
      "2022-06-22T05:00:00.000000000 \n",
      "2022-06-18T17:00:00.000000000 \n",
      "sell : \n",
      "2022-06-28T09:00:00.000000000\n",
      "XMRUSDT\n",
      "buy : \n",
      "2022-06-25T13:00:00.000000000 \n",
      "2022-06-22T21:00:00.000000000 \n",
      "2022-06-18T17:00:00.000000000 \n",
      "sell : \n",
      "2022-06-29T09:00:00.000000000\n",
      "XRPUSDT\n",
      "buy : \n",
      "2022-06-25T13:00:00.000000000 \n",
      "2022-06-22T05:00:00.000000000 \n",
      "2022-06-18T17:00:00.000000000 \n",
      "sell : \n",
      "2022-06-26T09:00:00.000000000\n",
      "ZECUSDT\n",
      "buy : \n",
      "2022-06-25T13:00:00.000000000 \n",
      "2022-06-22T05:00:00.000000000 \n",
      "2022-06-20T17:00:00.000000000 \n",
      "sell : \n",
      "2022-06-26T09:00:00.000000000\n",
      "ZENUSDT\n",
      "buy : \n",
      "2022-06-25T13:00:00.000000000 \n",
      "2022-06-22T05:00:00.000000000 \n",
      "2022-06-18T17:00:00.000000000 \n",
      "sell : \n",
      "2022-06-29T17:00:00.000000000\n",
      "DGBUSDT\n",
      "buy : \n",
      "2022-06-25T13:00:00.000000000 \n",
      "2022-06-22T21:00:00.000000000 \n",
      "2022-06-18T17:00:00.000000000 \n",
      "sell : \n",
      "2022-06-26T09:00:00.000000000\n",
      "DASHUSDT\n",
      "buy : \n",
      "2022-06-25T13:00:00.000000000 \n",
      "2022-06-22T05:00:00.000000000 \n",
      "2022-06-18T17:00:00.000000000 \n",
      "sell : \n",
      "2022-06-26T09:00:00.000000000\n",
      "BCHUSDT\n",
      "buy : \n",
      "2022-06-16T21:00:00.000000000 \n",
      "2022-06-15T09:00:00.000000000 \n",
      "2022-06-07T09:00:00.000000000 \n",
      "sell : \n",
      "2022-06-29T17:00:00.000000000\n",
      "RNDRUSDT\n",
      "buy : \n",
      "2022-06-27T21:00:00.000000000 \n",
      "2022-06-26T21:00:00.000000000 \n",
      "2022-06-25T13:00:00.000000000 \n",
      "sell : \n",
      "2022-06-28T09:00:00.000000000\n",
      "KDAUSDT\n",
      "buy : \n",
      "2022-06-25T13:00:00.000000000 \n",
      "2022-06-18T17:00:00.000000000 \n",
      "2022-06-15T05:00:00.000000000 \n",
      "sell : \n",
      "2022-06-26T09:00:00.000000000\n",
      "NKNUSDT\n"
     ]
    },
    {
     "ename": "KeyboardInterrupt",
     "evalue": "",
     "output_type": "error",
     "traceback": [
      "\u001b[1;31m---------------------------------------------------------------------------\u001b[0m",
      "\u001b[1;31mKeyboardInterrupt\u001b[0m                         Traceback (most recent call last)",
      "\u001b[1;32mc:\\Users\\Grant\\Desktop\\work_git\\work\\old\\peaksV5.ipynb Cell 6'\u001b[0m in \u001b[0;36m<module>\u001b[1;34m\u001b[0m\n\u001b[0;32m     <a href='vscode-notebook-cell:/c%3A/Users/Grant/Desktop/work_git/work/old/peaksV5.ipynb#ch0000006?line=10'>11</a>\u001b[0m order\u001b[39m=\u001b[39m\u001b[39m5\u001b[39m\n\u001b[0;32m     <a href='vscode-notebook-cell:/c%3A/Users/Grant/Desktop/work_git/work/old/peaksV5.ipynb#ch0000006?line=12'>13</a>\u001b[0m \u001b[39mfor\u001b[39;00m symbol \u001b[39min\u001b[39;00m pairs:\n\u001b[1;32m---> <a href='vscode-notebook-cell:/c%3A/Users/Grant/Desktop/work_git/work/old/peaksV5.ipynb#ch0000006?line=13'>14</a>\u001b[0m     data \u001b[39m=\u001b[39m get_historical_ohlc_data(symbol, interval\u001b[39m=\u001b[39;49m\u001b[39m'\u001b[39;49m\u001b[39m4h\u001b[39;49m\u001b[39m'\u001b[39;49m)\n\u001b[0;32m     <a href='vscode-notebook-cell:/c%3A/Users/Grant/Desktop/work_git/work/old/peaksV5.ipynb#ch0000006?line=14'>15</a>\u001b[0m     calc()\n\u001b[0;32m     <a href='vscode-notebook-cell:/c%3A/Users/Grant/Desktop/work_git/work/old/peaksV5.ipynb#ch0000006?line=15'>16</a>\u001b[0m     signal_dates(n)\n",
      "\u001b[1;32mc:\\Users\\Grant\\Desktop\\work_git\\work\\old\\peaksV5.ipynb Cell 5'\u001b[0m in \u001b[0;36mget_historical_ohlc_data\u001b[1;34m(symbol, interval)\u001b[0m\n\u001b[0;32m      <a href='vscode-notebook-cell:/c%3A/Users/Grant/Desktop/work_git/work/old/peaksV5.ipynb#ch0000007?line=8'>9</a>\u001b[0m \u001b[39mdef\u001b[39;00m \u001b[39mget_historical_ohlc_data\u001b[39m(symbol, interval\u001b[39m=\u001b[39m\u001b[39m'\u001b[39m\u001b[39m1h\u001b[39m\u001b[39m'\u001b[39m):\n\u001b[0;32m     <a href='vscode-notebook-cell:/c%3A/Users/Grant/Desktop/work_git/work/old/peaksV5.ipynb#ch0000007?line=9'>10</a>\u001b[0m   \u001b[39mprint\u001b[39m(symbol)\n\u001b[0;32m     <a href='vscode-notebook-cell:/c%3A/Users/Grant/Desktop/work_git/work/old/peaksV5.ipynb#ch0000007?line=11'>12</a>\u001b[0m   df \u001b[39m=\u001b[39m pd\u001b[39m.\u001b[39mDataFrame(\n\u001b[1;32m---> <a href='vscode-notebook-cell:/c%3A/Users/Grant/Desktop/work_git/work/old/peaksV5.ipynb#ch0000007?line=12'>13</a>\u001b[0m       client\u001b[39m.\u001b[39;49mget_historical_klines(symbol\u001b[39m=\u001b[39;49msymbol, start_str\u001b[39m=\u001b[39;49m\u001b[39m\"\u001b[39;49m\u001b[39m33 day ago UTC\u001b[39;49m\u001b[39m\"\u001b[39;49m, interval\u001b[39m=\u001b[39;49minterval))\n\u001b[0;32m     <a href='vscode-notebook-cell:/c%3A/Users/Grant/Desktop/work_git/work/old/peaksV5.ipynb#ch0000007?line=14'>15</a>\u001b[0m   df\u001b[39m.\u001b[39mcolumns \u001b[39m=\u001b[39m [\n\u001b[0;32m     <a href='vscode-notebook-cell:/c%3A/Users/Grant/Desktop/work_git/work/old/peaksV5.ipynb#ch0000007?line=15'>16</a>\u001b[0m       \u001b[39m'\u001b[39m\u001b[39mopen_time\u001b[39m\u001b[39m'\u001b[39m, \u001b[39m'\u001b[39m\u001b[39mOpen\u001b[39m\u001b[39m'\u001b[39m, \u001b[39m'\u001b[39m\u001b[39mHigh\u001b[39m\u001b[39m'\u001b[39m, \u001b[39m'\u001b[39m\u001b[39mLow\u001b[39m\u001b[39m'\u001b[39m, \u001b[39m'\u001b[39m\u001b[39mClose\u001b[39m\u001b[39m'\u001b[39m, \u001b[39m'\u001b[39m\u001b[39mVolume\u001b[39m\u001b[39m'\u001b[39m, \u001b[39m'\u001b[39m\u001b[39mclose_time\u001b[39m\u001b[39m'\u001b[39m,\n\u001b[0;32m     <a href='vscode-notebook-cell:/c%3A/Users/Grant/Desktop/work_git/work/old/peaksV5.ipynb#ch0000007?line=16'>17</a>\u001b[0m       \u001b[39m'\u001b[39m\u001b[39mqav\u001b[39m\u001b[39m'\u001b[39m, \u001b[39m'\u001b[39m\u001b[39mnum_trades\u001b[39m\u001b[39m'\u001b[39m, \u001b[39m'\u001b[39m\u001b[39mtaker_base_vol\u001b[39m\u001b[39m'\u001b[39m, \u001b[39m'\u001b[39m\u001b[39mtaker_quote_vol\u001b[39m\u001b[39m'\u001b[39m,\n\u001b[0;32m     <a href='vscode-notebook-cell:/c%3A/Users/Grant/Desktop/work_git/work/old/peaksV5.ipynb#ch0000007?line=17'>18</a>\u001b[0m       \u001b[39m'\u001b[39m\u001b[39mis_best_match\u001b[39m\u001b[39m'\u001b[39m\n\u001b[0;32m     <a href='vscode-notebook-cell:/c%3A/Users/Grant/Desktop/work_git/work/old/peaksV5.ipynb#ch0000007?line=18'>19</a>\u001b[0m   ]\n\u001b[0;32m     <a href='vscode-notebook-cell:/c%3A/Users/Grant/Desktop/work_git/work/old/peaksV5.ipynb#ch0000007?line=19'>20</a>\u001b[0m   df[\u001b[39m'\u001b[39m\u001b[39mTime\u001b[39m\u001b[39m'\u001b[39m] \u001b[39m=\u001b[39m [\n\u001b[0;32m     <a href='vscode-notebook-cell:/c%3A/Users/Grant/Desktop/work_git/work/old/peaksV5.ipynb#ch0000007?line=20'>21</a>\u001b[0m       dt\u001b[39m.\u001b[39mdatetime\u001b[39m.\u001b[39mfromtimestamp(x \u001b[39m/\u001b[39m \u001b[39m1000\u001b[39m) \u001b[39mfor\u001b[39;00m x \u001b[39min\u001b[39;00m df\u001b[39m.\u001b[39mopen_time\n\u001b[0;32m     <a href='vscode-notebook-cell:/c%3A/Users/Grant/Desktop/work_git/work/old/peaksV5.ipynb#ch0000007?line=21'>22</a>\u001b[0m   ]\n",
      "File \u001b[1;32mc:\\Users\\Grant\\virenv\\algo\\lib\\site-packages\\binance\\client.py:934\u001b[0m, in \u001b[0;36mClient.get_historical_klines\u001b[1;34m(self, symbol, interval, start_str, end_str, limit, klines_type)\u001b[0m\n\u001b[0;32m    914\u001b[0m \u001b[39mdef\u001b[39;00m \u001b[39mget_historical_klines\u001b[39m(\u001b[39mself\u001b[39m, symbol, interval, start_str\u001b[39m=\u001b[39m\u001b[39mNone\u001b[39;00m, end_str\u001b[39m=\u001b[39m\u001b[39mNone\u001b[39;00m, limit\u001b[39m=\u001b[39m\u001b[39m1000\u001b[39m,\n\u001b[0;32m    915\u001b[0m                           klines_type: HistoricalKlinesType \u001b[39m=\u001b[39m HistoricalKlinesType\u001b[39m.\u001b[39mSPOT):\n\u001b[0;32m    916\u001b[0m     \u001b[39m\"\"\"Get Historical Klines from Binance\u001b[39;00m\n\u001b[0;32m    917\u001b[0m \n\u001b[0;32m    918\u001b[0m \u001b[39m    :param symbol: Name of symbol pair e.g BNBBTC\u001b[39;00m\n\u001b[1;32m   (...)\u001b[0m\n\u001b[0;32m    932\u001b[0m \n\u001b[0;32m    933\u001b[0m \u001b[39m    \"\"\"\u001b[39;00m\n\u001b[1;32m--> 934\u001b[0m     \u001b[39mreturn\u001b[39;00m \u001b[39mself\u001b[39;49m\u001b[39m.\u001b[39;49m_historical_klines(\n\u001b[0;32m    935\u001b[0m         symbol, interval, start_str\u001b[39m=\u001b[39;49mstart_str, end_str\u001b[39m=\u001b[39;49mend_str, limit\u001b[39m=\u001b[39;49mlimit, klines_type\u001b[39m=\u001b[39;49mklines_type\n\u001b[0;32m    936\u001b[0m     )\n",
      "File \u001b[1;32mc:\\Users\\Grant\\virenv\\algo\\lib\\site-packages\\binance\\client.py:973\u001b[0m, in \u001b[0;36mClient._historical_klines\u001b[1;34m(self, symbol, interval, start_str, end_str, limit, klines_type)\u001b[0m\n\u001b[0;32m    971\u001b[0m \u001b[39m# establish first available start timestamp\u001b[39;00m\n\u001b[0;32m    972\u001b[0m \u001b[39mif\u001b[39;00m start_ts \u001b[39mis\u001b[39;00m \u001b[39mnot\u001b[39;00m \u001b[39mNone\u001b[39;00m:\n\u001b[1;32m--> 973\u001b[0m     first_valid_ts \u001b[39m=\u001b[39m \u001b[39mself\u001b[39;49m\u001b[39m.\u001b[39;49m_get_earliest_valid_timestamp(symbol, interval, klines_type)\n\u001b[0;32m    974\u001b[0m     start_ts \u001b[39m=\u001b[39m \u001b[39mmax\u001b[39m(start_ts, first_valid_ts)\n\u001b[0;32m    976\u001b[0m \u001b[39m# if an end time was passed convert it\u001b[39;00m\n",
      "File \u001b[1;32mc:\\Users\\Grant\\virenv\\algo\\lib\\site-packages\\binance\\client.py:904\u001b[0m, in \u001b[0;36mClient._get_earliest_valid_timestamp\u001b[1;34m(self, symbol, interval, klines_type)\u001b[0m\n\u001b[0;32m    891\u001b[0m \u001b[39mdef\u001b[39;00m \u001b[39m_get_earliest_valid_timestamp\u001b[39m(\u001b[39mself\u001b[39m, symbol, interval, klines_type: HistoricalKlinesType \u001b[39m=\u001b[39m HistoricalKlinesType\u001b[39m.\u001b[39mSPOT):\n\u001b[0;32m    892\u001b[0m     \u001b[39m\"\"\"Get earliest valid open timestamp from Binance\u001b[39;00m\n\u001b[0;32m    893\u001b[0m \n\u001b[0;32m    894\u001b[0m \u001b[39m    :param symbol: Name of symbol pair e.g BNBBTC\u001b[39;00m\n\u001b[1;32m   (...)\u001b[0m\n\u001b[0;32m    902\u001b[0m \n\u001b[0;32m    903\u001b[0m \u001b[39m    \"\"\"\u001b[39;00m\n\u001b[1;32m--> 904\u001b[0m     kline \u001b[39m=\u001b[39m \u001b[39mself\u001b[39;49m\u001b[39m.\u001b[39;49m_klines(\n\u001b[0;32m    905\u001b[0m         klines_type\u001b[39m=\u001b[39;49mklines_type,\n\u001b[0;32m    906\u001b[0m         symbol\u001b[39m=\u001b[39;49msymbol,\n\u001b[0;32m    907\u001b[0m         interval\u001b[39m=\u001b[39;49minterval,\n\u001b[0;32m    908\u001b[0m         limit\u001b[39m=\u001b[39;49m\u001b[39m1\u001b[39;49m,\n\u001b[0;32m    909\u001b[0m         startTime\u001b[39m=\u001b[39;49m\u001b[39m0\u001b[39;49m,\n\u001b[0;32m    910\u001b[0m         endTime\u001b[39m=\u001b[39;49m\u001b[39mint\u001b[39;49m(time\u001b[39m.\u001b[39;49mtime() \u001b[39m*\u001b[39;49m \u001b[39m1000\u001b[39;49m)\n\u001b[0;32m    911\u001b[0m     )\n\u001b[0;32m    912\u001b[0m     \u001b[39mreturn\u001b[39;00m kline[\u001b[39m0\u001b[39m][\u001b[39m0\u001b[39m]\n",
      "File \u001b[1;32mc:\\Users\\Grant\\virenv\\algo\\lib\\site-packages\\binance\\client.py:883\u001b[0m, in \u001b[0;36mClient._klines\u001b[1;34m(self, klines_type, **params)\u001b[0m\n\u001b[0;32m    880\u001b[0m     \u001b[39mdel\u001b[39;00m params[\u001b[39m'\u001b[39m\u001b[39mendTime\u001b[39m\u001b[39m'\u001b[39m]\n\u001b[0;32m    882\u001b[0m \u001b[39mif\u001b[39;00m HistoricalKlinesType\u001b[39m.\u001b[39mSPOT \u001b[39m==\u001b[39m klines_type:\n\u001b[1;32m--> 883\u001b[0m     \u001b[39mreturn\u001b[39;00m \u001b[39mself\u001b[39m\u001b[39m.\u001b[39mget_klines(\u001b[39m*\u001b[39m\u001b[39m*\u001b[39mparams)\n\u001b[0;32m    884\u001b[0m \u001b[39melif\u001b[39;00m HistoricalKlinesType\u001b[39m.\u001b[39mFUTURES \u001b[39m==\u001b[39m klines_type:\n\u001b[0;32m    885\u001b[0m     \u001b[39mreturn\u001b[39;00m \u001b[39mself\u001b[39m\u001b[39m.\u001b[39mfutures_klines(\u001b[39m*\u001b[39m\u001b[39m*\u001b[39mparams)\n",
      "File \u001b[1;32mc:\\Users\\Grant\\virenv\\algo\\lib\\site-packages\\binance\\client.py:868\u001b[0m, in \u001b[0;36mClient.get_klines\u001b[1;34m(self, **params)\u001b[0m\n\u001b[0;32m    828\u001b[0m \u001b[39mdef\u001b[39;00m \u001b[39mget_klines\u001b[39m(\u001b[39mself\u001b[39m, \u001b[39m*\u001b[39m\u001b[39m*\u001b[39mparams) \u001b[39m-\u001b[39m\u001b[39m>\u001b[39m Dict:\n\u001b[0;32m    829\u001b[0m     \u001b[39m\"\"\"Kline/candlestick bars for a symbol. Klines are uniquely identified by their open time.\u001b[39;00m\n\u001b[0;32m    830\u001b[0m \n\u001b[0;32m    831\u001b[0m \u001b[39m    https://binance-docs.github.io/apidocs/spot/en/#kline-candlestick-data\u001b[39;00m\n\u001b[1;32m   (...)\u001b[0m\n\u001b[0;32m    866\u001b[0m \n\u001b[0;32m    867\u001b[0m \u001b[39m    \"\"\"\u001b[39;00m\n\u001b[1;32m--> 868\u001b[0m     \u001b[39mreturn\u001b[39;00m \u001b[39mself\u001b[39;49m\u001b[39m.\u001b[39;49m_get(\u001b[39m'\u001b[39;49m\u001b[39mklines\u001b[39;49m\u001b[39m'\u001b[39;49m, data\u001b[39m=\u001b[39;49mparams, version\u001b[39m=\u001b[39;49m\u001b[39mself\u001b[39;49m\u001b[39m.\u001b[39;49mPRIVATE_API_VERSION)\n",
      "File \u001b[1;32mc:\\Users\\Grant\\virenv\\algo\\lib\\site-packages\\binance\\client.py:371\u001b[0m, in \u001b[0;36mClient._get\u001b[1;34m(self, path, signed, version, **kwargs)\u001b[0m\n\u001b[0;32m    370\u001b[0m \u001b[39mdef\u001b[39;00m \u001b[39m_get\u001b[39m(\u001b[39mself\u001b[39m, path, signed\u001b[39m=\u001b[39m\u001b[39mFalse\u001b[39;00m, version\u001b[39m=\u001b[39mBaseClient\u001b[39m.\u001b[39mPUBLIC_API_VERSION, \u001b[39m*\u001b[39m\u001b[39m*\u001b[39mkwargs):\n\u001b[1;32m--> 371\u001b[0m     \u001b[39mreturn\u001b[39;00m \u001b[39mself\u001b[39m\u001b[39m.\u001b[39m_request_api(\u001b[39m'\u001b[39m\u001b[39mget\u001b[39m\u001b[39m'\u001b[39m, path, signed, version, \u001b[39m*\u001b[39m\u001b[39m*\u001b[39mkwargs)\n",
      "File \u001b[1;32mc:\\Users\\Grant\\virenv\\algo\\lib\\site-packages\\binance\\client.py:334\u001b[0m, in \u001b[0;36mClient._request_api\u001b[1;34m(self, method, path, signed, version, **kwargs)\u001b[0m\n\u001b[0;32m    330\u001b[0m \u001b[39mdef\u001b[39;00m \u001b[39m_request_api\u001b[39m(\n\u001b[0;32m    331\u001b[0m     \u001b[39mself\u001b[39m, method, path: \u001b[39mstr\u001b[39m, signed: \u001b[39mbool\u001b[39m \u001b[39m=\u001b[39m \u001b[39mFalse\u001b[39;00m, version\u001b[39m=\u001b[39mBaseClient\u001b[39m.\u001b[39mPUBLIC_API_VERSION, \u001b[39m*\u001b[39m\u001b[39m*\u001b[39mkwargs\n\u001b[0;32m    332\u001b[0m ):\n\u001b[0;32m    333\u001b[0m     uri \u001b[39m=\u001b[39m \u001b[39mself\u001b[39m\u001b[39m.\u001b[39m_create_api_uri(path, signed, version)\n\u001b[1;32m--> 334\u001b[0m     \u001b[39mreturn\u001b[39;00m \u001b[39mself\u001b[39m\u001b[39m.\u001b[39m_request(method, uri, signed, \u001b[39m*\u001b[39m\u001b[39m*\u001b[39mkwargs)\n",
      "File \u001b[1;32mc:\\Users\\Grant\\virenv\\algo\\lib\\site-packages\\binance\\client.py:314\u001b[0m, in \u001b[0;36mClient._request\u001b[1;34m(self, method, uri, signed, force_params, **kwargs)\u001b[0m\n\u001b[0;32m    310\u001b[0m \u001b[39mdef\u001b[39;00m \u001b[39m_request\u001b[39m(\u001b[39mself\u001b[39m, method, uri: \u001b[39mstr\u001b[39m, signed: \u001b[39mbool\u001b[39m, force_params: \u001b[39mbool\u001b[39m \u001b[39m=\u001b[39m \u001b[39mFalse\u001b[39;00m, \u001b[39m*\u001b[39m\u001b[39m*\u001b[39mkwargs):\n\u001b[0;32m    312\u001b[0m     kwargs \u001b[39m=\u001b[39m \u001b[39mself\u001b[39m\u001b[39m.\u001b[39m_get_request_kwargs(method, signed, force_params, \u001b[39m*\u001b[39m\u001b[39m*\u001b[39mkwargs)\n\u001b[1;32m--> 314\u001b[0m     \u001b[39mself\u001b[39m\u001b[39m.\u001b[39mresponse \u001b[39m=\u001b[39m \u001b[39mgetattr\u001b[39m(\u001b[39mself\u001b[39m\u001b[39m.\u001b[39msession, method)(uri, \u001b[39m*\u001b[39m\u001b[39m*\u001b[39mkwargs)\n\u001b[0;32m    315\u001b[0m     \u001b[39mreturn\u001b[39;00m \u001b[39mself\u001b[39m\u001b[39m.\u001b[39m_handle_response(\u001b[39mself\u001b[39m\u001b[39m.\u001b[39mresponse)\n",
      "File \u001b[1;32mc:\\Users\\Grant\\virenv\\algo\\lib\\site-packages\\requests\\sessions.py:542\u001b[0m, in \u001b[0;36mSession.get\u001b[1;34m(self, url, **kwargs)\u001b[0m\n\u001b[0;32m    534\u001b[0m \u001b[39mr\u001b[39m\u001b[39m\"\"\"Sends a GET request. Returns :class:`Response` object.\u001b[39;00m\n\u001b[0;32m    535\u001b[0m \n\u001b[0;32m    536\u001b[0m \u001b[39m:param url: URL for the new :class:`Request` object.\u001b[39;00m\n\u001b[0;32m    537\u001b[0m \u001b[39m:param \\*\\*kwargs: Optional arguments that ``request`` takes.\u001b[39;00m\n\u001b[0;32m    538\u001b[0m \u001b[39m:rtype: requests.Response\u001b[39;00m\n\u001b[0;32m    539\u001b[0m \u001b[39m\"\"\"\u001b[39;00m\n\u001b[0;32m    541\u001b[0m kwargs\u001b[39m.\u001b[39msetdefault(\u001b[39m'\u001b[39m\u001b[39mallow_redirects\u001b[39m\u001b[39m'\u001b[39m, \u001b[39mTrue\u001b[39;00m)\n\u001b[1;32m--> 542\u001b[0m \u001b[39mreturn\u001b[39;00m \u001b[39mself\u001b[39m\u001b[39m.\u001b[39mrequest(\u001b[39m'\u001b[39m\u001b[39mGET\u001b[39m\u001b[39m'\u001b[39m, url, \u001b[39m*\u001b[39m\u001b[39m*\u001b[39mkwargs)\n",
      "File \u001b[1;32mc:\\Users\\Grant\\virenv\\algo\\lib\\site-packages\\requests\\sessions.py:529\u001b[0m, in \u001b[0;36mSession.request\u001b[1;34m(self, method, url, params, data, headers, cookies, files, auth, timeout, allow_redirects, proxies, hooks, stream, verify, cert, json)\u001b[0m\n\u001b[0;32m    524\u001b[0m send_kwargs \u001b[39m=\u001b[39m {\n\u001b[0;32m    525\u001b[0m     \u001b[39m'\u001b[39m\u001b[39mtimeout\u001b[39m\u001b[39m'\u001b[39m: timeout,\n\u001b[0;32m    526\u001b[0m     \u001b[39m'\u001b[39m\u001b[39mallow_redirects\u001b[39m\u001b[39m'\u001b[39m: allow_redirects,\n\u001b[0;32m    527\u001b[0m }\n\u001b[0;32m    528\u001b[0m send_kwargs\u001b[39m.\u001b[39mupdate(settings)\n\u001b[1;32m--> 529\u001b[0m resp \u001b[39m=\u001b[39m \u001b[39mself\u001b[39m\u001b[39m.\u001b[39msend(prep, \u001b[39m*\u001b[39m\u001b[39m*\u001b[39msend_kwargs)\n\u001b[0;32m    531\u001b[0m \u001b[39mreturn\u001b[39;00m resp\n",
      "File \u001b[1;32mc:\\Users\\Grant\\virenv\\algo\\lib\\site-packages\\requests\\sessions.py:645\u001b[0m, in \u001b[0;36mSession.send\u001b[1;34m(self, request, **kwargs)\u001b[0m\n\u001b[0;32m    642\u001b[0m start \u001b[39m=\u001b[39m preferred_clock()\n\u001b[0;32m    644\u001b[0m \u001b[39m# Send the request\u001b[39;00m\n\u001b[1;32m--> 645\u001b[0m r \u001b[39m=\u001b[39m adapter\u001b[39m.\u001b[39msend(request, \u001b[39m*\u001b[39m\u001b[39m*\u001b[39mkwargs)\n\u001b[0;32m    647\u001b[0m \u001b[39m# Total elapsed time of the request (approximately)\u001b[39;00m\n\u001b[0;32m    648\u001b[0m elapsed \u001b[39m=\u001b[39m preferred_clock() \u001b[39m-\u001b[39m start\n",
      "File \u001b[1;32mc:\\Users\\Grant\\virenv\\algo\\lib\\site-packages\\requests\\adapters.py:440\u001b[0m, in \u001b[0;36mHTTPAdapter.send\u001b[1;34m(self, request, stream, timeout, verify, cert, proxies)\u001b[0m\n\u001b[0;32m    438\u001b[0m \u001b[39mtry\u001b[39;00m:\n\u001b[0;32m    439\u001b[0m     \u001b[39mif\u001b[39;00m \u001b[39mnot\u001b[39;00m chunked:\n\u001b[1;32m--> 440\u001b[0m         resp \u001b[39m=\u001b[39m conn\u001b[39m.\u001b[39;49murlopen(\n\u001b[0;32m    441\u001b[0m             method\u001b[39m=\u001b[39;49mrequest\u001b[39m.\u001b[39;49mmethod,\n\u001b[0;32m    442\u001b[0m             url\u001b[39m=\u001b[39;49murl,\n\u001b[0;32m    443\u001b[0m             body\u001b[39m=\u001b[39;49mrequest\u001b[39m.\u001b[39;49mbody,\n\u001b[0;32m    444\u001b[0m             headers\u001b[39m=\u001b[39;49mrequest\u001b[39m.\u001b[39;49mheaders,\n\u001b[0;32m    445\u001b[0m             redirect\u001b[39m=\u001b[39;49m\u001b[39mFalse\u001b[39;49;00m,\n\u001b[0;32m    446\u001b[0m             assert_same_host\u001b[39m=\u001b[39;49m\u001b[39mFalse\u001b[39;49;00m,\n\u001b[0;32m    447\u001b[0m             preload_content\u001b[39m=\u001b[39;49m\u001b[39mFalse\u001b[39;49;00m,\n\u001b[0;32m    448\u001b[0m             decode_content\u001b[39m=\u001b[39;49m\u001b[39mFalse\u001b[39;49;00m,\n\u001b[0;32m    449\u001b[0m             retries\u001b[39m=\u001b[39;49m\u001b[39mself\u001b[39;49m\u001b[39m.\u001b[39;49mmax_retries,\n\u001b[0;32m    450\u001b[0m             timeout\u001b[39m=\u001b[39;49mtimeout\n\u001b[0;32m    451\u001b[0m         )\n\u001b[0;32m    453\u001b[0m     \u001b[39m# Send the request.\u001b[39;00m\n\u001b[0;32m    454\u001b[0m     \u001b[39melse\u001b[39;00m:\n\u001b[0;32m    455\u001b[0m         \u001b[39mif\u001b[39;00m \u001b[39mhasattr\u001b[39m(conn, \u001b[39m'\u001b[39m\u001b[39mproxy_pool\u001b[39m\u001b[39m'\u001b[39m):\n",
      "File \u001b[1;32mc:\\Users\\Grant\\virenv\\algo\\lib\\site-packages\\urllib3\\connectionpool.py:703\u001b[0m, in \u001b[0;36mHTTPConnectionPool.urlopen\u001b[1;34m(self, method, url, body, headers, retries, redirect, assert_same_host, timeout, pool_timeout, release_conn, chunked, body_pos, **response_kw)\u001b[0m\n\u001b[0;32m    700\u001b[0m     \u001b[39mself\u001b[39m\u001b[39m.\u001b[39m_prepare_proxy(conn)\n\u001b[0;32m    702\u001b[0m \u001b[39m# Make the request on the httplib connection object.\u001b[39;00m\n\u001b[1;32m--> 703\u001b[0m httplib_response \u001b[39m=\u001b[39m \u001b[39mself\u001b[39;49m\u001b[39m.\u001b[39;49m_make_request(\n\u001b[0;32m    704\u001b[0m     conn,\n\u001b[0;32m    705\u001b[0m     method,\n\u001b[0;32m    706\u001b[0m     url,\n\u001b[0;32m    707\u001b[0m     timeout\u001b[39m=\u001b[39;49mtimeout_obj,\n\u001b[0;32m    708\u001b[0m     body\u001b[39m=\u001b[39;49mbody,\n\u001b[0;32m    709\u001b[0m     headers\u001b[39m=\u001b[39;49mheaders,\n\u001b[0;32m    710\u001b[0m     chunked\u001b[39m=\u001b[39;49mchunked,\n\u001b[0;32m    711\u001b[0m )\n\u001b[0;32m    713\u001b[0m \u001b[39m# If we're going to release the connection in ``finally:``, then\u001b[39;00m\n\u001b[0;32m    714\u001b[0m \u001b[39m# the response doesn't need to know about the connection. Otherwise\u001b[39;00m\n\u001b[0;32m    715\u001b[0m \u001b[39m# it will also try to release it and we'll have a double-release\u001b[39;00m\n\u001b[0;32m    716\u001b[0m \u001b[39m# mess.\u001b[39;00m\n\u001b[0;32m    717\u001b[0m response_conn \u001b[39m=\u001b[39m conn \u001b[39mif\u001b[39;00m \u001b[39mnot\u001b[39;00m release_conn \u001b[39melse\u001b[39;00m \u001b[39mNone\u001b[39;00m\n",
      "File \u001b[1;32mc:\\Users\\Grant\\virenv\\algo\\lib\\site-packages\\urllib3\\connectionpool.py:449\u001b[0m, in \u001b[0;36mHTTPConnectionPool._make_request\u001b[1;34m(self, conn, method, url, timeout, chunked, **httplib_request_kw)\u001b[0m\n\u001b[0;32m    444\u001b[0m             httplib_response \u001b[39m=\u001b[39m conn\u001b[39m.\u001b[39mgetresponse()\n\u001b[0;32m    445\u001b[0m         \u001b[39mexcept\u001b[39;00m \u001b[39mBaseException\u001b[39;00m \u001b[39mas\u001b[39;00m e:\n\u001b[0;32m    446\u001b[0m             \u001b[39m# Remove the TypeError from the exception chain in\u001b[39;00m\n\u001b[0;32m    447\u001b[0m             \u001b[39m# Python 3 (including for exceptions like SystemExit).\u001b[39;00m\n\u001b[0;32m    448\u001b[0m             \u001b[39m# Otherwise it looks like a bug in the code.\u001b[39;00m\n\u001b[1;32m--> 449\u001b[0m             six\u001b[39m.\u001b[39;49mraise_from(e, \u001b[39mNone\u001b[39;49;00m)\n\u001b[0;32m    450\u001b[0m \u001b[39mexcept\u001b[39;00m (SocketTimeout, BaseSSLError, SocketError) \u001b[39mas\u001b[39;00m e:\n\u001b[0;32m    451\u001b[0m     \u001b[39mself\u001b[39m\u001b[39m.\u001b[39m_raise_timeout(err\u001b[39m=\u001b[39me, url\u001b[39m=\u001b[39murl, timeout_value\u001b[39m=\u001b[39mread_timeout)\n",
      "File \u001b[1;32m<string>:3\u001b[0m, in \u001b[0;36mraise_from\u001b[1;34m(value, from_value)\u001b[0m\n",
      "File \u001b[1;32mc:\\Users\\Grant\\virenv\\algo\\lib\\site-packages\\urllib3\\connectionpool.py:444\u001b[0m, in \u001b[0;36mHTTPConnectionPool._make_request\u001b[1;34m(self, conn, method, url, timeout, chunked, **httplib_request_kw)\u001b[0m\n\u001b[0;32m    441\u001b[0m \u001b[39mexcept\u001b[39;00m \u001b[39mTypeError\u001b[39;00m:\n\u001b[0;32m    442\u001b[0m     \u001b[39m# Python 3\u001b[39;00m\n\u001b[0;32m    443\u001b[0m     \u001b[39mtry\u001b[39;00m:\n\u001b[1;32m--> 444\u001b[0m         httplib_response \u001b[39m=\u001b[39m conn\u001b[39m.\u001b[39;49mgetresponse()\n\u001b[0;32m    445\u001b[0m     \u001b[39mexcept\u001b[39;00m \u001b[39mBaseException\u001b[39;00m \u001b[39mas\u001b[39;00m e:\n\u001b[0;32m    446\u001b[0m         \u001b[39m# Remove the TypeError from the exception chain in\u001b[39;00m\n\u001b[0;32m    447\u001b[0m         \u001b[39m# Python 3 (including for exceptions like SystemExit).\u001b[39;00m\n\u001b[0;32m    448\u001b[0m         \u001b[39m# Otherwise it looks like a bug in the code.\u001b[39;00m\n\u001b[0;32m    449\u001b[0m         six\u001b[39m.\u001b[39mraise_from(e, \u001b[39mNone\u001b[39;00m)\n",
      "File \u001b[1;32m~\\AppData\\Local\\Programs\\Python\\Python310\\lib\\http\\client.py:1368\u001b[0m, in \u001b[0;36mHTTPConnection.getresponse\u001b[1;34m(self)\u001b[0m\n\u001b[0;32m   1366\u001b[0m \u001b[39mtry\u001b[39;00m:\n\u001b[0;32m   1367\u001b[0m     \u001b[39mtry\u001b[39;00m:\n\u001b[1;32m-> 1368\u001b[0m         response\u001b[39m.\u001b[39;49mbegin()\n\u001b[0;32m   1369\u001b[0m     \u001b[39mexcept\u001b[39;00m \u001b[39mConnectionError\u001b[39;00m:\n\u001b[0;32m   1370\u001b[0m         \u001b[39mself\u001b[39m\u001b[39m.\u001b[39mclose()\n",
      "File \u001b[1;32m~\\AppData\\Local\\Programs\\Python\\Python310\\lib\\http\\client.py:317\u001b[0m, in \u001b[0;36mHTTPResponse.begin\u001b[1;34m(self)\u001b[0m\n\u001b[0;32m    315\u001b[0m \u001b[39m# read until we get a non-100 response\u001b[39;00m\n\u001b[0;32m    316\u001b[0m \u001b[39mwhile\u001b[39;00m \u001b[39mTrue\u001b[39;00m:\n\u001b[1;32m--> 317\u001b[0m     version, status, reason \u001b[39m=\u001b[39m \u001b[39mself\u001b[39;49m\u001b[39m.\u001b[39;49m_read_status()\n\u001b[0;32m    318\u001b[0m     \u001b[39mif\u001b[39;00m status \u001b[39m!=\u001b[39m CONTINUE:\n\u001b[0;32m    319\u001b[0m         \u001b[39mbreak\u001b[39;00m\n",
      "File \u001b[1;32m~\\AppData\\Local\\Programs\\Python\\Python310\\lib\\http\\client.py:278\u001b[0m, in \u001b[0;36mHTTPResponse._read_status\u001b[1;34m(self)\u001b[0m\n\u001b[0;32m    277\u001b[0m \u001b[39mdef\u001b[39;00m \u001b[39m_read_status\u001b[39m(\u001b[39mself\u001b[39m):\n\u001b[1;32m--> 278\u001b[0m     line \u001b[39m=\u001b[39m \u001b[39mstr\u001b[39m(\u001b[39mself\u001b[39;49m\u001b[39m.\u001b[39;49mfp\u001b[39m.\u001b[39;49mreadline(_MAXLINE \u001b[39m+\u001b[39;49m \u001b[39m1\u001b[39;49m), \u001b[39m\"\u001b[39m\u001b[39miso-8859-1\u001b[39m\u001b[39m\"\u001b[39m)\n\u001b[0;32m    279\u001b[0m     \u001b[39mif\u001b[39;00m \u001b[39mlen\u001b[39m(line) \u001b[39m>\u001b[39m _MAXLINE:\n\u001b[0;32m    280\u001b[0m         \u001b[39mraise\u001b[39;00m LineTooLong(\u001b[39m\"\u001b[39m\u001b[39mstatus line\u001b[39m\u001b[39m\"\u001b[39m)\n",
      "File \u001b[1;32m~\\AppData\\Local\\Programs\\Python\\Python310\\lib\\socket.py:705\u001b[0m, in \u001b[0;36mSocketIO.readinto\u001b[1;34m(self, b)\u001b[0m\n\u001b[0;32m    703\u001b[0m \u001b[39mwhile\u001b[39;00m \u001b[39mTrue\u001b[39;00m:\n\u001b[0;32m    704\u001b[0m     \u001b[39mtry\u001b[39;00m:\n\u001b[1;32m--> 705\u001b[0m         \u001b[39mreturn\u001b[39;00m \u001b[39mself\u001b[39;49m\u001b[39m.\u001b[39;49m_sock\u001b[39m.\u001b[39;49mrecv_into(b)\n\u001b[0;32m    706\u001b[0m     \u001b[39mexcept\u001b[39;00m timeout:\n\u001b[0;32m    707\u001b[0m         \u001b[39mself\u001b[39m\u001b[39m.\u001b[39m_timeout_occurred \u001b[39m=\u001b[39m \u001b[39mTrue\u001b[39;00m\n",
      "File \u001b[1;32m~\\AppData\\Local\\Programs\\Python\\Python310\\lib\\ssl.py:1273\u001b[0m, in \u001b[0;36mSSLSocket.recv_into\u001b[1;34m(self, buffer, nbytes, flags)\u001b[0m\n\u001b[0;32m   1269\u001b[0m     \u001b[39mif\u001b[39;00m flags \u001b[39m!=\u001b[39m \u001b[39m0\u001b[39m:\n\u001b[0;32m   1270\u001b[0m         \u001b[39mraise\u001b[39;00m \u001b[39mValueError\u001b[39;00m(\n\u001b[0;32m   1271\u001b[0m           \u001b[39m\"\u001b[39m\u001b[39mnon-zero flags not allowed in calls to recv_into() on \u001b[39m\u001b[39m%s\u001b[39;00m\u001b[39m\"\u001b[39m \u001b[39m%\u001b[39m\n\u001b[0;32m   1272\u001b[0m           \u001b[39mself\u001b[39m\u001b[39m.\u001b[39m\u001b[39m__class__\u001b[39m)\n\u001b[1;32m-> 1273\u001b[0m     \u001b[39mreturn\u001b[39;00m \u001b[39mself\u001b[39;49m\u001b[39m.\u001b[39;49mread(nbytes, buffer)\n\u001b[0;32m   1274\u001b[0m \u001b[39melse\u001b[39;00m:\n\u001b[0;32m   1275\u001b[0m     \u001b[39mreturn\u001b[39;00m \u001b[39msuper\u001b[39m()\u001b[39m.\u001b[39mrecv_into(buffer, nbytes, flags)\n",
      "File \u001b[1;32m~\\AppData\\Local\\Programs\\Python\\Python310\\lib\\ssl.py:1129\u001b[0m, in \u001b[0;36mSSLSocket.read\u001b[1;34m(self, len, buffer)\u001b[0m\n\u001b[0;32m   1127\u001b[0m \u001b[39mtry\u001b[39;00m:\n\u001b[0;32m   1128\u001b[0m     \u001b[39mif\u001b[39;00m buffer \u001b[39mis\u001b[39;00m \u001b[39mnot\u001b[39;00m \u001b[39mNone\u001b[39;00m:\n\u001b[1;32m-> 1129\u001b[0m         \u001b[39mreturn\u001b[39;00m \u001b[39mself\u001b[39;49m\u001b[39m.\u001b[39;49m_sslobj\u001b[39m.\u001b[39;49mread(\u001b[39mlen\u001b[39;49m, buffer)\n\u001b[0;32m   1130\u001b[0m     \u001b[39melse\u001b[39;00m:\n\u001b[0;32m   1131\u001b[0m         \u001b[39mreturn\u001b[39;00m \u001b[39mself\u001b[39m\u001b[39m.\u001b[39m_sslobj\u001b[39m.\u001b[39mread(\u001b[39mlen\u001b[39m)\n",
      "\u001b[1;31mKeyboardInterrupt\u001b[0m: "
     ]
    }
   ],
   "source": [
    "pairs= ['FLUXUSDT', 'DREPUSDT', 'HOTUSDT' ,'ARUSDT', 'SYSUSDT', 'CKBUSDT',\\\n",
    "        'CTXCUSDT', 'DOGEUSDT', 'ETCUSDT','FILUSDT','FIROUSDT', 'LTCUSDT',\\\n",
    "        'KMDUSDT', 'RVNUSDT', 'SCUSDT', 'XLMUSDT',\\\n",
    "        'XMRUSDT', 'XRPUSDT', 'ZECUSDT', 'ZENUSDT', 'DGBUSDT', 'DASHUSDT',\\\n",
    "        'BCHUSDT', 'RNDRUSDT', 'KDAUSDT', 'NKNUSDT']\n",
    "\n",
    "\n",
    "\n",
    "# candy = []\n",
    "n=9\n",
    "order=5\n",
    "\n",
    "for symbol in pairs:\n",
    "    data = get_historical_ohlc_data(symbol, interval='4h')\n",
    "    calc()\n",
    "    signal_dates(n)\n",
    "    print(f'buy : \\n{buy[-1]} \\n{buy[-2]} \\n{buy[-3]} \\nsell : \\n{sell[-1]}')\n",
    "\n",
    "\n",
    "\n",
    "\n"
   ]
  },
  {
   "cell_type": "code",
   "execution_count": null,
   "metadata": {},
   "outputs": [],
   "source": [
    "\n",
    "\n",
    "\n",
    "# read from csv files\n",
    "###########\n",
    "\n",
    "# n=9\n",
    "# order=5\n",
    "\n",
    "# timeframe='2h'\n",
    "# symbol = 'JASMYUSDT'\n",
    "\n",
    "# outdir=f\"{os.getcwd()}/data/{timeframe}\"\n",
    "# data = pd.read_csv(f\"{outdir}/{symbol}_{timeframe}.csv\", index_col='Time')\n",
    "\n",
    "\n",
    "# calc()\n",
    "# signal_dates(n)\n",
    "\n",
    "# # the real buy is on the open of the third candle\n",
    "# print(f'buy : {buy[-1]} \\nsell : {sell[-1]}')\n",
    "\n",
    "\n",
    "\n",
    "\n",
    "\n",
    "\n"
   ]
  },
  {
   "cell_type": "code",
   "execution_count": null,
   "metadata": {},
   "outputs": [
    {
     "data": {
      "application/vnd.plotly.v1+json": {
       "config": {
        "plotlyServerURL": "https://plot.ly"
       },
       "data": [
        {
         "close": [
          0.0858,
          0.0842,
          0.0851,
          0.0863,
          0.0908,
          0.0938,
          0.0925,
          0.0943,
          0.1003,
          0.0959,
          0.0982,
          0.0966,
          0.1003,
          0.1015,
          0.0998,
          0.1009,
          0.1022,
          0.1112,
          0.1148,
          0.1109,
          0.1067,
          0.1051,
          0.1011,
          0.0981,
          0.0952,
          0.0932,
          0.0949,
          0.0966,
          0.0964,
          0.095,
          0.0963,
          0.0961,
          0.0951,
          0.0904,
          0.0897,
          0.0911,
          0.0915,
          0.0901,
          0.0933,
          0.0925,
          0.0919,
          0.0909,
          0.0926,
          0.0913,
          0.0912,
          0.0919,
          0.0914,
          0.0927,
          0.093,
          0.0968,
          0.0982,
          0.0975,
          0.0957,
          0.0938,
          0.0955,
          0.0886,
          0.0892,
          0.0883,
          0.0901,
          0.0926,
          0.1006,
          0.097,
          0.1012,
          0.1037,
          0.1042,
          0.1014,
          0.1,
          0.1013,
          0.102,
          0.101,
          0.102,
          0.0991,
          0.1003,
          0.1003,
          0.0995,
          0.0984,
          0.0968,
          0.0938,
          0.0933,
          0.0942,
          0.0955,
          0.0868,
          0.082,
          0.0844,
          0.0823,
          0.077,
          0.0796,
          0.0798,
          0.0828,
          0.0804,
          0.0758,
          0.0701,
          0.0658,
          0.0655,
          0.0682,
          0.0696,
          0.0698,
          0.0712,
          0.0738,
          0.0693,
          0.0732,
          0.0709,
          0.0722,
          0.0679,
          0.0652,
          0.066,
          0.0658,
          0.069,
          0.0736,
          0.0718,
          0.0775,
          0.0702,
          0.0708,
          0.0683,
          0.0688,
          0.0713,
          0.0727,
          0.0756,
          0.0756,
          0.082,
          0.0833,
          0.0818,
          0.0782,
          0.078,
          0.0755,
          0.0712,
          0.0711,
          0.072,
          0.0727,
          0.0766,
          0.0844,
          0.0804,
          0.0818,
          0.083,
          0.0817,
          0.0835,
          0.0816,
          0.0808,
          0.0808,
          0.0824,
          0.0986,
          0.0976,
          0.0973,
          0.0935,
          0.093,
          0.0884,
          0.0857,
          0.0879,
          0.0867,
          0.0862,
          0.0852,
          0.0926,
          0.0946,
          0.0972,
          0.0935,
          0.097,
          0.0981,
          0.0988,
          0.0986,
          0.102,
          0.0991,
          0.0996,
          0.0997,
          0.1005,
          0.1019,
          0.0987,
          0.0949,
          0.1004,
          0.1,
          0.0985,
          0.1023,
          0.1032,
          0.0979,
          0.0948,
          0.0902,
          0.0943,
          0.0964,
          0.0983,
          0.0956,
          0.0992,
          0.0983,
          0.0981,
          0.0973,
          0.0964,
          0.0925,
          0.0926,
          0.0909,
          0.0919,
          0.0914,
          0.0912,
          0.0916,
          0.0922,
          0.0901,
          0.0882,
          0.0841,
          0.0838,
          0.0836,
          0.0845
         ],
         "high": [
          "0.08680000",
          "0.08660000",
          "0.08590000",
          "0.08660000",
          "0.09300000",
          "0.09600000",
          "0.09500000",
          "0.09560000",
          "0.10080000",
          "0.10050000",
          "0.09870000",
          "0.09860000",
          "0.10050000",
          "0.10400000",
          "0.10210000",
          "0.10180000",
          "0.10270000",
          "0.12380000",
          "0.11830000",
          "0.11530000",
          "0.11160000",
          "0.10970000",
          "0.10780000",
          "0.10140000",
          "0.09800000",
          "0.09650000",
          "0.09630000",
          "0.09680000",
          "0.09800000",
          "0.09680000",
          "0.09750000",
          "0.09730000",
          "0.09630000",
          "0.09550000",
          "0.09180000",
          "0.09170000",
          "0.09290000",
          "0.09230000",
          "0.09340000",
          "0.09440000",
          "0.09290000",
          "0.09190000",
          "0.09320000",
          "0.09430000",
          "0.09230000",
          "0.09230000",
          "0.09180000",
          "0.09400000",
          "0.09340000",
          "0.09700000",
          "0.09870000",
          "0.09970000",
          "0.09800000",
          "0.09570000",
          "0.09620000",
          "0.09580000",
          "0.08930000",
          "0.09000000",
          "0.09060000",
          "0.09360000",
          "0.10320000",
          "0.10320000",
          "0.10200000",
          "0.11590000",
          "0.10950000",
          "0.10570000",
          "0.10220000",
          "0.10170000",
          "0.10260000",
          "0.10390000",
          "0.10200000",
          "0.10340000",
          "0.10110000",
          "0.10120000",
          "0.10070000",
          "0.09980000",
          "0.10150000",
          "0.10440000",
          "0.09580000",
          "0.09520000",
          "0.09590000",
          "0.09560000",
          "0.08790000",
          "0.08620000",
          "0.08480000",
          "0.08330000",
          "0.07960000",
          "0.08090000",
          "0.08400000",
          "0.08270000",
          "0.08120000",
          "0.07680000",
          "0.07200000",
          "0.06730000",
          "0.06910000",
          "0.07120000",
          "0.07280000",
          "0.07160000",
          "0.07480000",
          "0.07390000",
          "0.07390000",
          "0.07370000",
          "0.07220000",
          "0.07280000",
          "0.06770000",
          "0.06650000",
          "0.06800000",
          "0.07080000",
          "0.07370000",
          "0.07480000",
          "0.08240000",
          "0.07880000",
          "0.07290000",
          "0.07220000",
          "0.07160000",
          "0.07360000",
          "0.07430000",
          "0.07900000",
          "0.07670000",
          "0.09250000",
          "0.08550000",
          "0.08700000",
          "0.08270000",
          "0.08000000",
          "0.07860000",
          "0.07690000",
          "0.07370000",
          "0.07380000",
          "0.07500000",
          "0.07790000",
          "0.08450000",
          "0.09060000",
          "0.08290000",
          "0.08340000",
          "0.08550000",
          "0.08460000",
          "0.08370000",
          "0.08190000",
          "0.08400000",
          "0.08260000",
          "0.09980000",
          "0.10450000",
          "0.10160000",
          "0.09890000",
          "0.09520000",
          "0.09330000",
          "0.09020000",
          "0.08930000",
          "0.08990000",
          "0.08870000",
          "0.08750000",
          "0.09780000",
          "0.09740000",
          "0.09940000",
          "0.09750000",
          "0.09710000",
          "0.10240000",
          "0.10220000",
          "0.09970000",
          "0.10530000",
          "0.10300000",
          "0.10020000",
          "0.10220000",
          "0.10220000",
          "0.10240000",
          "0.10220000",
          "0.09960000",
          "0.10130000",
          "0.10080000",
          "0.10090000",
          "0.10250000",
          "0.10580000",
          "0.10390000",
          "0.09790000",
          "0.09660000",
          "0.09480000",
          "0.09640000",
          "0.10060000",
          "0.09880000",
          "0.10070000",
          "0.10090000",
          "0.10000000",
          "0.09910000",
          "0.09840000",
          "0.09710000",
          "0.09400000",
          "0.09330000",
          "0.09360000",
          "0.09260000",
          "0.09240000",
          "0.09320000",
          "0.09230000",
          "0.09330000",
          "0.09030000",
          "0.08850000",
          "0.08440000",
          "0.08450000",
          "0.08480000"
         ],
         "low": [
          "0.08390000",
          "0.08240000",
          "0.08360000",
          "0.08460000",
          "0.08590000",
          "0.08870000",
          "0.09050000",
          "0.09090000",
          "0.09410000",
          "0.09460000",
          "0.09390000",
          "0.09570000",
          "0.09620000",
          "0.09840000",
          "0.09660000",
          "0.09810000",
          "0.09570000",
          "0.10040000",
          "0.11080000",
          "0.10950000",
          "0.10630000",
          "0.10510000",
          "0.09980000",
          "0.09650000",
          "0.09320000",
          "0.09260000",
          "0.09250000",
          "0.09420000",
          "0.09300000",
          "0.09380000",
          "0.09500000",
          "0.09500000",
          "0.09460000",
          "0.08860000",
          "0.08950000",
          "0.08940000",
          "0.09060000",
          "0.08890000",
          "0.09030000",
          "0.09200000",
          "0.08960000",
          "0.09040000",
          "0.09090000",
          "0.09050000",
          "0.09030000",
          "0.09010000",
          "0.08960000",
          "0.09110000",
          "0.09180000",
          "0.09260000",
          "0.09630000",
          "0.09730000",
          "0.09440000",
          "0.09280000",
          "0.09300000",
          "0.08660000",
          "0.08790000",
          "0.08760000",
          "0.08770000",
          "0.08920000",
          "0.09260000",
          "0.09580000",
          "0.09650000",
          "0.09900000",
          "0.10220000",
          "0.09960000",
          "0.09930000",
          "0.09820000",
          "0.10070000",
          "0.10100000",
          "0.09930000",
          "0.09900000",
          "0.09900000",
          "0.09700000",
          "0.09930000",
          "0.09580000",
          "0.09300000",
          "0.09310000",
          "0.09030000",
          "0.09280000",
          "0.09400000",
          "0.08490000",
          "0.08080000",
          "0.08100000",
          "0.08160000",
          "0.07560000",
          "0.07440000",
          "0.07750000",
          "0.07660000",
          "0.07930000",
          "0.07580000",
          "0.06650000",
          "0.06530000",
          "0.06260000",
          "0.06400000",
          "0.06770000",
          "0.06530000",
          "0.06360000",
          "0.06930000",
          "0.06790000",
          "0.06700000",
          "0.06970000",
          "0.06740000",
          "0.06770000",
          "0.06420000",
          "0.06140000",
          "0.06450000",
          "0.06250000",
          "0.06840000",
          "0.07090000",
          "0.07050000",
          "0.06880000",
          "0.06710000",
          "0.06790000",
          "0.06660000",
          "0.06830000",
          "0.07040000",
          "0.07210000",
          "0.07260000",
          "0.07520000",
          "0.08030000",
          "0.08070000",
          "0.07710000",
          "0.07550000",
          "0.07440000",
          "0.07100000",
          "0.06710000",
          "0.07110000",
          "0.07110000",
          "0.07260000",
          "0.07610000",
          "0.08040000",
          "0.07990000",
          "0.07990000",
          "0.08070000",
          "0.08050000",
          "0.07920000",
          "0.07940000",
          "0.07770000",
          "0.07950000",
          "0.08120000",
          "0.09440000",
          "0.09560000",
          "0.09310000",
          "0.09160000",
          "0.08780000",
          "0.08520000",
          "0.08480000",
          "0.08570000",
          "0.08450000",
          "0.08410000",
          "0.08510000",
          "0.09230000",
          "0.09390000",
          "0.09260000",
          "0.09280000",
          "0.09640000",
          "0.09780000",
          "0.09650000",
          "0.09840000",
          "0.09670000",
          "0.09750000",
          "0.09890000",
          "0.09770000",
          "0.09930000",
          "0.09840000",
          "0.09460000",
          "0.09430000",
          "0.09820000",
          "0.09700000",
          "0.09840000",
          "0.10080000",
          "0.09640000",
          "0.09260000",
          "0.08970000",
          "0.08970000",
          "0.09330000",
          "0.09540000",
          "0.09240000",
          "0.09520000",
          "0.09720000",
          "0.09490000",
          "0.09690000",
          "0.09490000",
          "0.09190000",
          "0.09070000",
          "0.09000000",
          "0.09030000",
          "0.08840000",
          "0.08930000",
          "0.08950000",
          "0.08890000",
          "0.08900000",
          "0.08580000",
          "0.08320000",
          "0.08170000",
          "0.08100000",
          "0.08310000"
         ],
         "open": [
          "0.08560000",
          "0.08570000",
          "0.08410000",
          "0.08480000",
          "0.08630000",
          "0.09060000",
          "0.09370000",
          "0.09270000",
          "0.09440000",
          "0.10050000",
          "0.09600000",
          "0.09810000",
          "0.09660000",
          "0.10040000",
          "0.10150000",
          "0.09990000",
          "0.10090000",
          "0.10220000",
          "0.11130000",
          "0.11480000",
          "0.11080000",
          "0.10680000",
          "0.10530000",
          "0.10110000",
          "0.09800000",
          "0.09510000",
          "0.09310000",
          "0.09480000",
          "0.09660000",
          "0.09650000",
          "0.09520000",
          "0.09610000",
          "0.09620000",
          "0.09490000",
          "0.09030000",
          "0.08980000",
          "0.09090000",
          "0.09160000",
          "0.09030000",
          "0.09320000",
          "0.09250000",
          "0.09190000",
          "0.09100000",
          "0.09260000",
          "0.09100000",
          "0.09140000",
          "0.09180000",
          "0.09140000",
          "0.09270000",
          "0.09290000",
          "0.09680000",
          "0.09830000",
          "0.09760000",
          "0.09570000",
          "0.09370000",
          "0.09580000",
          "0.08860000",
          "0.08920000",
          "0.08830000",
          "0.08990000",
          "0.09260000",
          "0.10060000",
          "0.09730000",
          "0.10150000",
          "0.10360000",
          "0.10410000",
          "0.10120000",
          "0.10010000",
          "0.10110000",
          "0.10220000",
          "0.10110000",
          "0.10200000",
          "0.09900000",
          "0.10010000",
          "0.10010000",
          "0.09980000",
          "0.09820000",
          "0.09650000",
          "0.09370000",
          "0.09330000",
          "0.09420000",
          "0.09560000",
          "0.08690000",
          "0.08200000",
          "0.08430000",
          "0.08230000",
          "0.07690000",
          "0.07950000",
          "0.08030000",
          "0.08250000",
          "0.08050000",
          "0.07600000",
          "0.07000000",
          "0.06590000",
          "0.06590000",
          "0.06820000",
          "0.06980000",
          "0.06950000",
          "0.07120000",
          "0.07390000",
          "0.06910000",
          "0.07290000",
          "0.07080000",
          "0.07190000",
          "0.06770000",
          "0.06520000",
          "0.06580000",
          "0.06590000",
          "0.06930000",
          "0.07370000",
          "0.07190000",
          "0.07750000",
          "0.07020000",
          "0.07070000",
          "0.06830000",
          "0.06880000",
          "0.07130000",
          "0.07270000",
          "0.07550000",
          "0.07530000",
          "0.08210000",
          "0.08310000",
          "0.08170000",
          "0.07830000",
          "0.07800000",
          "0.07540000",
          "0.07120000",
          "0.07130000",
          "0.07210000",
          "0.07270000",
          "0.07660000",
          "0.08440000",
          "0.08090000",
          "0.08200000",
          "0.08270000",
          "0.08190000",
          "0.08370000",
          "0.08180000",
          "0.08070000",
          "0.08110000",
          "0.08260000",
          "0.09870000",
          "0.09730000",
          "0.09730000",
          "0.09350000",
          "0.09300000",
          "0.08840000",
          "0.08570000",
          "0.08790000",
          "0.08660000",
          "0.08610000",
          "0.08530000",
          "0.09230000",
          "0.09480000",
          "0.09750000",
          "0.09360000",
          "0.09710000",
          "0.09810000",
          "0.09900000",
          "0.09860000",
          "0.10200000",
          "0.09900000",
          "0.09950000",
          "0.09970000",
          "0.10050000",
          "0.10210000",
          "0.09870000",
          "0.09470000",
          "0.10040000",
          "0.09980000",
          "0.09850000",
          "0.10220000",
          "0.10310000",
          "0.09780000",
          "0.09470000",
          "0.09010000",
          "0.09440000",
          "0.09640000",
          "0.09820000",
          "0.09570000",
          "0.09930000",
          "0.09870000",
          "0.09800000",
          "0.09740000",
          "0.09650000",
          "0.09230000",
          "0.09260000",
          "0.09070000",
          "0.09220000",
          "0.09130000",
          "0.09120000",
          "0.09150000",
          "0.09220000",
          "0.09000000",
          "0.08820000",
          "0.08400000",
          "0.08380000",
          "0.08380000"
         ],
         "type": "candlestick",
         "x": [
          "2022-05-28T21:00:00",
          "2022-05-29T01:00:00",
          "2022-05-29T05:00:00",
          "2022-05-29T09:00:00",
          "2022-05-29T13:00:00",
          "2022-05-29T17:00:00",
          "2022-05-29T21:00:00",
          "2022-05-30T01:00:00",
          "2022-05-30T05:00:00",
          "2022-05-30T09:00:00",
          "2022-05-30T13:00:00",
          "2022-05-30T17:00:00",
          "2022-05-30T21:00:00",
          "2022-05-31T01:00:00",
          "2022-05-31T05:00:00",
          "2022-05-31T09:00:00",
          "2022-05-31T13:00:00",
          "2022-05-31T17:00:00",
          "2022-05-31T21:00:00",
          "2022-06-01T01:00:00",
          "2022-06-01T05:00:00",
          "2022-06-01T09:00:00",
          "2022-06-01T13:00:00",
          "2022-06-01T17:00:00",
          "2022-06-01T21:00:00",
          "2022-06-02T01:00:00",
          "2022-06-02T05:00:00",
          "2022-06-02T09:00:00",
          "2022-06-02T13:00:00",
          "2022-06-02T17:00:00",
          "2022-06-02T21:00:00",
          "2022-06-03T01:00:00",
          "2022-06-03T05:00:00",
          "2022-06-03T09:00:00",
          "2022-06-03T13:00:00",
          "2022-06-03T17:00:00",
          "2022-06-03T21:00:00",
          "2022-06-04T01:00:00",
          "2022-06-04T05:00:00",
          "2022-06-04T09:00:00",
          "2022-06-04T13:00:00",
          "2022-06-04T17:00:00",
          "2022-06-04T21:00:00",
          "2022-06-05T01:00:00",
          "2022-06-05T05:00:00",
          "2022-06-05T09:00:00",
          "2022-06-05T13:00:00",
          "2022-06-05T17:00:00",
          "2022-06-05T21:00:00",
          "2022-06-06T01:00:00",
          "2022-06-06T05:00:00",
          "2022-06-06T09:00:00",
          "2022-06-06T13:00:00",
          "2022-06-06T17:00:00",
          "2022-06-06T21:00:00",
          "2022-06-07T01:00:00",
          "2022-06-07T05:00:00",
          "2022-06-07T09:00:00",
          "2022-06-07T13:00:00",
          "2022-06-07T17:00:00",
          "2022-06-07T21:00:00",
          "2022-06-08T01:00:00",
          "2022-06-08T05:00:00",
          "2022-06-08T09:00:00",
          "2022-06-08T13:00:00",
          "2022-06-08T17:00:00",
          "2022-06-08T21:00:00",
          "2022-06-09T01:00:00",
          "2022-06-09T05:00:00",
          "2022-06-09T09:00:00",
          "2022-06-09T13:00:00",
          "2022-06-09T17:00:00",
          "2022-06-09T21:00:00",
          "2022-06-10T01:00:00",
          "2022-06-10T05:00:00",
          "2022-06-10T09:00:00",
          "2022-06-10T13:00:00",
          "2022-06-10T17:00:00",
          "2022-06-10T21:00:00",
          "2022-06-11T01:00:00",
          "2022-06-11T05:00:00",
          "2022-06-11T09:00:00",
          "2022-06-11T13:00:00",
          "2022-06-11T17:00:00",
          "2022-06-11T21:00:00",
          "2022-06-12T01:00:00",
          "2022-06-12T05:00:00",
          "2022-06-12T09:00:00",
          "2022-06-12T13:00:00",
          "2022-06-12T17:00:00",
          "2022-06-12T21:00:00",
          "2022-06-13T01:00:00",
          "2022-06-13T05:00:00",
          "2022-06-13T09:00:00",
          "2022-06-13T13:00:00",
          "2022-06-13T17:00:00",
          "2022-06-13T21:00:00",
          "2022-06-14T01:00:00",
          "2022-06-14T05:00:00",
          "2022-06-14T09:00:00",
          "2022-06-14T13:00:00",
          "2022-06-14T17:00:00",
          "2022-06-14T21:00:00",
          "2022-06-15T01:00:00",
          "2022-06-15T05:00:00",
          "2022-06-15T09:00:00",
          "2022-06-15T13:00:00",
          "2022-06-15T17:00:00",
          "2022-06-15T21:00:00",
          "2022-06-16T01:00:00",
          "2022-06-16T05:00:00",
          "2022-06-16T09:00:00",
          "2022-06-16T13:00:00",
          "2022-06-16T17:00:00",
          "2022-06-16T21:00:00",
          "2022-06-17T01:00:00",
          "2022-06-17T05:00:00",
          "2022-06-17T09:00:00",
          "2022-06-17T13:00:00",
          "2022-06-17T17:00:00",
          "2022-06-17T21:00:00",
          "2022-06-18T01:00:00",
          "2022-06-18T05:00:00",
          "2022-06-18T09:00:00",
          "2022-06-18T13:00:00",
          "2022-06-18T17:00:00",
          "2022-06-18T21:00:00",
          "2022-06-19T01:00:00",
          "2022-06-19T05:00:00",
          "2022-06-19T09:00:00",
          "2022-06-19T13:00:00",
          "2022-06-19T17:00:00",
          "2022-06-19T21:00:00",
          "2022-06-20T01:00:00",
          "2022-06-20T05:00:00",
          "2022-06-20T09:00:00",
          "2022-06-20T13:00:00",
          "2022-06-20T17:00:00",
          "2022-06-20T21:00:00",
          "2022-06-21T01:00:00",
          "2022-06-21T05:00:00",
          "2022-06-21T09:00:00",
          "2022-06-21T13:00:00",
          "2022-06-21T17:00:00",
          "2022-06-21T21:00:00",
          "2022-06-22T01:00:00",
          "2022-06-22T05:00:00",
          "2022-06-22T09:00:00",
          "2022-06-22T13:00:00",
          "2022-06-22T17:00:00",
          "2022-06-22T21:00:00",
          "2022-06-23T01:00:00",
          "2022-06-23T05:00:00",
          "2022-06-23T09:00:00",
          "2022-06-23T13:00:00",
          "2022-06-23T17:00:00",
          "2022-06-23T21:00:00",
          "2022-06-24T01:00:00",
          "2022-06-24T05:00:00",
          "2022-06-24T09:00:00",
          "2022-06-24T13:00:00",
          "2022-06-24T17:00:00",
          "2022-06-24T21:00:00",
          "2022-06-25T01:00:00",
          "2022-06-25T05:00:00",
          "2022-06-25T09:00:00",
          "2022-06-25T13:00:00",
          "2022-06-25T17:00:00",
          "2022-06-25T21:00:00",
          "2022-06-26T01:00:00",
          "2022-06-26T05:00:00",
          "2022-06-26T09:00:00",
          "2022-06-26T13:00:00",
          "2022-06-26T17:00:00",
          "2022-06-26T21:00:00",
          "2022-06-27T01:00:00",
          "2022-06-27T05:00:00",
          "2022-06-27T09:00:00",
          "2022-06-27T13:00:00",
          "2022-06-27T17:00:00",
          "2022-06-27T21:00:00",
          "2022-06-28T01:00:00",
          "2022-06-28T05:00:00",
          "2022-06-28T09:00:00",
          "2022-06-28T13:00:00",
          "2022-06-28T17:00:00",
          "2022-06-28T21:00:00",
          "2022-06-29T01:00:00",
          "2022-06-29T05:00:00",
          "2022-06-29T09:00:00",
          "2022-06-29T13:00:00",
          "2022-06-29T17:00:00",
          "2022-06-29T21:00:00",
          "2022-06-30T01:00:00",
          "2022-06-30T05:00:00",
          "2022-06-30T09:00:00",
          "2022-06-30T13:00:00",
          "2022-06-30T17:00:00"
         ]
        }
       ],
       "layout": {
        "shapes": [
         {
          "line": {
           "color": "green",
           "dash": "dash",
           "width": 1
          },
          "type": "line",
          "x0": "2022-06-02T01:00:00.000000000",
          "x1": "2022-06-02T01:00:00.000000000",
          "xref": "x",
          "y0": 0,
          "y1": 1,
          "yref": "y domain"
         },
         {
          "line": {
           "color": "green",
           "dash": "dash",
           "width": 1
          },
          "type": "line",
          "x0": "2022-06-03T13:00:00.000000000",
          "x1": "2022-06-03T13:00:00.000000000",
          "xref": "x",
          "y0": 0,
          "y1": 1,
          "yref": "y domain"
         },
         {
          "line": {
           "color": "green",
           "dash": "dash",
           "width": 1
          },
          "type": "line",
          "x0": "2022-06-07T09:00:00.000000000",
          "x1": "2022-06-07T09:00:00.000000000",
          "xref": "x",
          "y0": 0,
          "y1": 1,
          "yref": "y domain"
         },
         {
          "line": {
           "color": "green",
           "dash": "dash",
           "width": 1
          },
          "type": "line",
          "x0": "2022-06-13T09:00:00.000000000",
          "x1": "2022-06-13T09:00:00.000000000",
          "xref": "x",
          "y0": 0,
          "y1": 1,
          "yref": "y domain"
         },
         {
          "line": {
           "color": "green",
           "dash": "dash",
           "width": 1
          },
          "type": "line",
          "x0": "2022-06-15T05:00:00.000000000",
          "x1": "2022-06-15T05:00:00.000000000",
          "xref": "x",
          "y0": 0,
          "y1": 1,
          "yref": "y domain"
         },
         {
          "line": {
           "color": "green",
           "dash": "dash",
           "width": 1
          },
          "type": "line",
          "x0": "2022-06-16T17:00:00.000000000",
          "x1": "2022-06-16T17:00:00.000000000",
          "xref": "x",
          "y0": 0,
          "y1": 1,
          "yref": "y domain"
         },
         {
          "line": {
           "color": "green",
           "dash": "dash",
           "width": 1
          },
          "type": "line",
          "x0": "2022-06-18T21:00:00.000000000",
          "x1": "2022-06-18T21:00:00.000000000",
          "xref": "x",
          "y0": 0,
          "y1": 1,
          "yref": "y domain"
         },
         {
          "line": {
           "color": "green",
           "dash": "dash",
           "width": 1
          },
          "type": "line",
          "x0": "2022-06-22T21:00:00.000000000",
          "x1": "2022-06-22T21:00:00.000000000",
          "xref": "x",
          "y0": 0,
          "y1": 1,
          "yref": "y domain"
         },
         {
          "line": {
           "color": "green",
           "dash": "dash",
           "width": 1
          },
          "type": "line",
          "x0": "2022-06-26T21:00:00.000000000",
          "x1": "2022-06-26T21:00:00.000000000",
          "xref": "x",
          "y0": 0,
          "y1": 1,
          "yref": "y domain"
         },
         {
          "line": {
           "color": "green",
           "dash": "dash",
           "width": 1
          },
          "type": "line",
          "x0": "2022-06-28T21:00:00.000000000",
          "x1": "2022-06-28T21:00:00.000000000",
          "xref": "x",
          "y0": 0,
          "y1": 1,
          "yref": "y domain"
         },
         {
          "line": {
           "color": "green",
           "dash": "dash",
           "width": 1
          },
          "type": "line",
          "x0": "2022-06-30T13:00:00.000000000",
          "x1": "2022-06-30T13:00:00.000000000",
          "xref": "x",
          "y0": 0,
          "y1": 1,
          "yref": "y domain"
         },
         {
          "line": {
           "color": "red",
           "dash": "dash",
           "width": 1
          },
          "type": "line",
          "x0": "2022-06-04T05:00:00.000000000",
          "x1": "2022-06-04T05:00:00.000000000",
          "xref": "x",
          "y0": 0,
          "y1": 1,
          "yref": "y domain"
         },
         {
          "line": {
           "color": "red",
           "dash": "dash",
           "width": 1
          },
          "type": "line",
          "x0": "2022-06-06T05:00:00.000000000",
          "x1": "2022-06-06T05:00:00.000000000",
          "xref": "x",
          "y0": 0,
          "y1": 1,
          "yref": "y domain"
         },
         {
          "line": {
           "color": "red",
           "dash": "dash",
           "width": 1
          },
          "type": "line",
          "x0": "2022-06-08T13:00:00.000000000",
          "x1": "2022-06-08T13:00:00.000000000",
          "xref": "x",
          "y0": 0,
          "y1": 1,
          "yref": "y domain"
         },
         {
          "line": {
           "color": "red",
           "dash": "dash",
           "width": 1
          },
          "type": "line",
          "x0": "2022-06-16T05:00:00.000000000",
          "x1": "2022-06-16T05:00:00.000000000",
          "xref": "x",
          "y0": 0,
          "y1": 1,
          "yref": "y domain"
         },
         {
          "line": {
           "color": "red",
           "dash": "dash",
           "width": 1
          },
          "type": "line",
          "x0": "2022-06-17T21:00:00.000000000",
          "x1": "2022-06-17T21:00:00.000000000",
          "xref": "x",
          "y0": 0,
          "y1": 1,
          "yref": "y domain"
         },
         {
          "line": {
           "color": "red",
           "dash": "dash",
           "width": 1
          },
          "type": "line",
          "x0": "2022-06-19T13:00:00.000000000",
          "x1": "2022-06-19T13:00:00.000000000",
          "xref": "x",
          "y0": 0,
          "y1": 1,
          "yref": "y domain"
         },
         {
          "line": {
           "color": "red",
           "dash": "dash",
           "width": 1
          },
          "type": "line",
          "x0": "2022-06-21T05:00:00.000000000",
          "x1": "2022-06-21T05:00:00.000000000",
          "xref": "x",
          "y0": 0,
          "y1": 1,
          "yref": "y domain"
         },
         {
          "line": {
           "color": "red",
           "dash": "dash",
           "width": 1
          },
          "type": "line",
          "x0": "2022-06-24T09:00:00.000000000",
          "x1": "2022-06-24T09:00:00.000000000",
          "xref": "x",
          "y0": 0,
          "y1": 1,
          "yref": "y domain"
         },
         {
          "line": {
           "color": "red",
           "dash": "dash",
           "width": 1
          },
          "type": "line",
          "x0": "2022-06-26T09:00:00.000000000",
          "x1": "2022-06-26T09:00:00.000000000",
          "xref": "x",
          "y0": 0,
          "y1": 1,
          "yref": "y domain"
         },
         {
          "line": {
           "color": "red",
           "dash": "dash",
           "width": 1
          },
          "type": "line",
          "x0": "2022-06-27T17:00:00.000000000",
          "x1": "2022-06-27T17:00:00.000000000",
          "xref": "x",
          "y0": 0,
          "y1": 1,
          "yref": "y domain"
         },
         {
          "line": {
           "color": "red",
           "dash": "dash",
           "width": 1
          },
          "type": "line",
          "x0": "2022-06-29T17:00:00.000000000",
          "x1": "2022-06-29T17:00:00.000000000",
          "xref": "x",
          "y0": 0,
          "y1": 1,
          "yref": "y domain"
         }
        ],
        "template": {
         "data": {
          "bar": [
           {
            "error_x": {
             "color": "#f2f5fa"
            },
            "error_y": {
             "color": "#f2f5fa"
            },
            "marker": {
             "line": {
              "color": "rgb(17,17,17)",
              "width": 0.5
             },
             "pattern": {
              "fillmode": "overlay",
              "size": 10,
              "solidity": 0.2
             }
            },
            "type": "bar"
           }
          ],
          "barpolar": [
           {
            "marker": {
             "line": {
              "color": "rgb(17,17,17)",
              "width": 0.5
             },
             "pattern": {
              "fillmode": "overlay",
              "size": 10,
              "solidity": 0.2
             }
            },
            "type": "barpolar"
           }
          ],
          "carpet": [
           {
            "aaxis": {
             "endlinecolor": "#A2B1C6",
             "gridcolor": "#506784",
             "linecolor": "#506784",
             "minorgridcolor": "#506784",
             "startlinecolor": "#A2B1C6"
            },
            "baxis": {
             "endlinecolor": "#A2B1C6",
             "gridcolor": "#506784",
             "linecolor": "#506784",
             "minorgridcolor": "#506784",
             "startlinecolor": "#A2B1C6"
            },
            "type": "carpet"
           }
          ],
          "choropleth": [
           {
            "colorbar": {
             "outlinewidth": 0,
             "ticks": ""
            },
            "type": "choropleth"
           }
          ],
          "contour": [
           {
            "colorbar": {
             "outlinewidth": 0,
             "ticks": ""
            },
            "colorscale": [
             [
              0,
              "#0d0887"
             ],
             [
              0.1111111111111111,
              "#46039f"
             ],
             [
              0.2222222222222222,
              "#7201a8"
             ],
             [
              0.3333333333333333,
              "#9c179e"
             ],
             [
              0.4444444444444444,
              "#bd3786"
             ],
             [
              0.5555555555555556,
              "#d8576b"
             ],
             [
              0.6666666666666666,
              "#ed7953"
             ],
             [
              0.7777777777777778,
              "#fb9f3a"
             ],
             [
              0.8888888888888888,
              "#fdca26"
             ],
             [
              1,
              "#f0f921"
             ]
            ],
            "type": "contour"
           }
          ],
          "contourcarpet": [
           {
            "colorbar": {
             "outlinewidth": 0,
             "ticks": ""
            },
            "type": "contourcarpet"
           }
          ],
          "heatmap": [
           {
            "colorbar": {
             "outlinewidth": 0,
             "ticks": ""
            },
            "colorscale": [
             [
              0,
              "#0d0887"
             ],
             [
              0.1111111111111111,
              "#46039f"
             ],
             [
              0.2222222222222222,
              "#7201a8"
             ],
             [
              0.3333333333333333,
              "#9c179e"
             ],
             [
              0.4444444444444444,
              "#bd3786"
             ],
             [
              0.5555555555555556,
              "#d8576b"
             ],
             [
              0.6666666666666666,
              "#ed7953"
             ],
             [
              0.7777777777777778,
              "#fb9f3a"
             ],
             [
              0.8888888888888888,
              "#fdca26"
             ],
             [
              1,
              "#f0f921"
             ]
            ],
            "type": "heatmap"
           }
          ],
          "heatmapgl": [
           {
            "colorbar": {
             "outlinewidth": 0,
             "ticks": ""
            },
            "colorscale": [
             [
              0,
              "#0d0887"
             ],
             [
              0.1111111111111111,
              "#46039f"
             ],
             [
              0.2222222222222222,
              "#7201a8"
             ],
             [
              0.3333333333333333,
              "#9c179e"
             ],
             [
              0.4444444444444444,
              "#bd3786"
             ],
             [
              0.5555555555555556,
              "#d8576b"
             ],
             [
              0.6666666666666666,
              "#ed7953"
             ],
             [
              0.7777777777777778,
              "#fb9f3a"
             ],
             [
              0.8888888888888888,
              "#fdca26"
             ],
             [
              1,
              "#f0f921"
             ]
            ],
            "type": "heatmapgl"
           }
          ],
          "histogram": [
           {
            "marker": {
             "pattern": {
              "fillmode": "overlay",
              "size": 10,
              "solidity": 0.2
             }
            },
            "type": "histogram"
           }
          ],
          "histogram2d": [
           {
            "colorbar": {
             "outlinewidth": 0,
             "ticks": ""
            },
            "colorscale": [
             [
              0,
              "#0d0887"
             ],
             [
              0.1111111111111111,
              "#46039f"
             ],
             [
              0.2222222222222222,
              "#7201a8"
             ],
             [
              0.3333333333333333,
              "#9c179e"
             ],
             [
              0.4444444444444444,
              "#bd3786"
             ],
             [
              0.5555555555555556,
              "#d8576b"
             ],
             [
              0.6666666666666666,
              "#ed7953"
             ],
             [
              0.7777777777777778,
              "#fb9f3a"
             ],
             [
              0.8888888888888888,
              "#fdca26"
             ],
             [
              1,
              "#f0f921"
             ]
            ],
            "type": "histogram2d"
           }
          ],
          "histogram2dcontour": [
           {
            "colorbar": {
             "outlinewidth": 0,
             "ticks": ""
            },
            "colorscale": [
             [
              0,
              "#0d0887"
             ],
             [
              0.1111111111111111,
              "#46039f"
             ],
             [
              0.2222222222222222,
              "#7201a8"
             ],
             [
              0.3333333333333333,
              "#9c179e"
             ],
             [
              0.4444444444444444,
              "#bd3786"
             ],
             [
              0.5555555555555556,
              "#d8576b"
             ],
             [
              0.6666666666666666,
              "#ed7953"
             ],
             [
              0.7777777777777778,
              "#fb9f3a"
             ],
             [
              0.8888888888888888,
              "#fdca26"
             ],
             [
              1,
              "#f0f921"
             ]
            ],
            "type": "histogram2dcontour"
           }
          ],
          "mesh3d": [
           {
            "colorbar": {
             "outlinewidth": 0,
             "ticks": ""
            },
            "type": "mesh3d"
           }
          ],
          "parcoords": [
           {
            "line": {
             "colorbar": {
              "outlinewidth": 0,
              "ticks": ""
             }
            },
            "type": "parcoords"
           }
          ],
          "pie": [
           {
            "automargin": true,
            "type": "pie"
           }
          ],
          "scatter": [
           {
            "marker": {
             "line": {
              "color": "#283442"
             }
            },
            "type": "scatter"
           }
          ],
          "scatter3d": [
           {
            "line": {
             "colorbar": {
              "outlinewidth": 0,
              "ticks": ""
             }
            },
            "marker": {
             "colorbar": {
              "outlinewidth": 0,
              "ticks": ""
             }
            },
            "type": "scatter3d"
           }
          ],
          "scattercarpet": [
           {
            "marker": {
             "colorbar": {
              "outlinewidth": 0,
              "ticks": ""
             }
            },
            "type": "scattercarpet"
           }
          ],
          "scattergeo": [
           {
            "marker": {
             "colorbar": {
              "outlinewidth": 0,
              "ticks": ""
             }
            },
            "type": "scattergeo"
           }
          ],
          "scattergl": [
           {
            "marker": {
             "line": {
              "color": "#283442"
             }
            },
            "type": "scattergl"
           }
          ],
          "scattermapbox": [
           {
            "marker": {
             "colorbar": {
              "outlinewidth": 0,
              "ticks": ""
             }
            },
            "type": "scattermapbox"
           }
          ],
          "scatterpolar": [
           {
            "marker": {
             "colorbar": {
              "outlinewidth": 0,
              "ticks": ""
             }
            },
            "type": "scatterpolar"
           }
          ],
          "scatterpolargl": [
           {
            "marker": {
             "colorbar": {
              "outlinewidth": 0,
              "ticks": ""
             }
            },
            "type": "scatterpolargl"
           }
          ],
          "scatterternary": [
           {
            "marker": {
             "colorbar": {
              "outlinewidth": 0,
              "ticks": ""
             }
            },
            "type": "scatterternary"
           }
          ],
          "surface": [
           {
            "colorbar": {
             "outlinewidth": 0,
             "ticks": ""
            },
            "colorscale": [
             [
              0,
              "#0d0887"
             ],
             [
              0.1111111111111111,
              "#46039f"
             ],
             [
              0.2222222222222222,
              "#7201a8"
             ],
             [
              0.3333333333333333,
              "#9c179e"
             ],
             [
              0.4444444444444444,
              "#bd3786"
             ],
             [
              0.5555555555555556,
              "#d8576b"
             ],
             [
              0.6666666666666666,
              "#ed7953"
             ],
             [
              0.7777777777777778,
              "#fb9f3a"
             ],
             [
              0.8888888888888888,
              "#fdca26"
             ],
             [
              1,
              "#f0f921"
             ]
            ],
            "type": "surface"
           }
          ],
          "table": [
           {
            "cells": {
             "fill": {
              "color": "#506784"
             },
             "line": {
              "color": "rgb(17,17,17)"
             }
            },
            "header": {
             "fill": {
              "color": "#2a3f5f"
             },
             "line": {
              "color": "rgb(17,17,17)"
             }
            },
            "type": "table"
           }
          ]
         },
         "layout": {
          "annotationdefaults": {
           "arrowcolor": "#f2f5fa",
           "arrowhead": 0,
           "arrowwidth": 1
          },
          "autotypenumbers": "strict",
          "coloraxis": {
           "colorbar": {
            "outlinewidth": 0,
            "ticks": ""
           }
          },
          "colorscale": {
           "diverging": [
            [
             0,
             "#8e0152"
            ],
            [
             0.1,
             "#c51b7d"
            ],
            [
             0.2,
             "#de77ae"
            ],
            [
             0.3,
             "#f1b6da"
            ],
            [
             0.4,
             "#fde0ef"
            ],
            [
             0.5,
             "#f7f7f7"
            ],
            [
             0.6,
             "#e6f5d0"
            ],
            [
             0.7,
             "#b8e186"
            ],
            [
             0.8,
             "#7fbc41"
            ],
            [
             0.9,
             "#4d9221"
            ],
            [
             1,
             "#276419"
            ]
           ],
           "sequential": [
            [
             0,
             "#0d0887"
            ],
            [
             0.1111111111111111,
             "#46039f"
            ],
            [
             0.2222222222222222,
             "#7201a8"
            ],
            [
             0.3333333333333333,
             "#9c179e"
            ],
            [
             0.4444444444444444,
             "#bd3786"
            ],
            [
             0.5555555555555556,
             "#d8576b"
            ],
            [
             0.6666666666666666,
             "#ed7953"
            ],
            [
             0.7777777777777778,
             "#fb9f3a"
            ],
            [
             0.8888888888888888,
             "#fdca26"
            ],
            [
             1,
             "#f0f921"
            ]
           ],
           "sequentialminus": [
            [
             0,
             "#0d0887"
            ],
            [
             0.1111111111111111,
             "#46039f"
            ],
            [
             0.2222222222222222,
             "#7201a8"
            ],
            [
             0.3333333333333333,
             "#9c179e"
            ],
            [
             0.4444444444444444,
             "#bd3786"
            ],
            [
             0.5555555555555556,
             "#d8576b"
            ],
            [
             0.6666666666666666,
             "#ed7953"
            ],
            [
             0.7777777777777778,
             "#fb9f3a"
            ],
            [
             0.8888888888888888,
             "#fdca26"
            ],
            [
             1,
             "#f0f921"
            ]
           ]
          },
          "colorway": [
           "#636efa",
           "#EF553B",
           "#00cc96",
           "#ab63fa",
           "#FFA15A",
           "#19d3f3",
           "#FF6692",
           "#B6E880",
           "#FF97FF",
           "#FECB52"
          ],
          "font": {
           "color": "#f2f5fa"
          },
          "geo": {
           "bgcolor": "rgb(17,17,17)",
           "lakecolor": "rgb(17,17,17)",
           "landcolor": "rgb(17,17,17)",
           "showlakes": true,
           "showland": true,
           "subunitcolor": "#506784"
          },
          "hoverlabel": {
           "align": "left"
          },
          "hovermode": "closest",
          "mapbox": {
           "style": "dark"
          },
          "paper_bgcolor": "rgb(17,17,17)",
          "plot_bgcolor": "rgb(17,17,17)",
          "polar": {
           "angularaxis": {
            "gridcolor": "#506784",
            "linecolor": "#506784",
            "ticks": ""
           },
           "bgcolor": "rgb(17,17,17)",
           "radialaxis": {
            "gridcolor": "#506784",
            "linecolor": "#506784",
            "ticks": ""
           }
          },
          "scene": {
           "xaxis": {
            "backgroundcolor": "rgb(17,17,17)",
            "gridcolor": "#506784",
            "gridwidth": 2,
            "linecolor": "#506784",
            "showbackground": true,
            "ticks": "",
            "zerolinecolor": "#C8D4E3"
           },
           "yaxis": {
            "backgroundcolor": "rgb(17,17,17)",
            "gridcolor": "#506784",
            "gridwidth": 2,
            "linecolor": "#506784",
            "showbackground": true,
            "ticks": "",
            "zerolinecolor": "#C8D4E3"
           },
           "zaxis": {
            "backgroundcolor": "rgb(17,17,17)",
            "gridcolor": "#506784",
            "gridwidth": 2,
            "linecolor": "#506784",
            "showbackground": true,
            "ticks": "",
            "zerolinecolor": "#C8D4E3"
           }
          },
          "shapedefaults": {
           "line": {
            "color": "#f2f5fa"
           }
          },
          "sliderdefaults": {
           "bgcolor": "#C8D4E3",
           "bordercolor": "rgb(17,17,17)",
           "borderwidth": 1,
           "tickwidth": 0
          },
          "ternary": {
           "aaxis": {
            "gridcolor": "#506784",
            "linecolor": "#506784",
            "ticks": ""
           },
           "baxis": {
            "gridcolor": "#506784",
            "linecolor": "#506784",
            "ticks": ""
           },
           "bgcolor": "rgb(17,17,17)",
           "caxis": {
            "gridcolor": "#506784",
            "linecolor": "#506784",
            "ticks": ""
           }
          },
          "title": {
           "x": 0.05
          },
          "updatemenudefaults": {
           "bgcolor": "#506784",
           "borderwidth": 0
          },
          "xaxis": {
           "automargin": true,
           "gridcolor": "#283442",
           "linecolor": "#506784",
           "ticks": "",
           "title": {
            "standoff": 15
           },
           "zerolinecolor": "#283442",
           "zerolinewidth": 2
          },
          "yaxis": {
           "automargin": true,
           "gridcolor": "#283442",
           "linecolor": "#506784",
           "ticks": "",
           "title": {
            "standoff": 15
           },
           "zerolinecolor": "#283442",
           "zerolinewidth": 2
          }
         }
        },
        "xaxis": {
         "rangeslider": {
          "visible": false
         }
        }
       }
      }
     },
     "metadata": {},
     "output_type": "display_data"
    }
   ],
   "source": [
    "# import plotly.express as px\n",
    "import plotly.graph_objects as go\n",
    "\n",
    "\n",
    "fig = go.Figure(data=[go.Candlestick(x=data.index,\n",
    "                open=data['Open'],\n",
    "                high=data['High'],\n",
    "                low=data['Low'],\n",
    "                close=data['Close'])])\n",
    "\n",
    "for b in buy:\n",
    "    fig.add_vline(x=b, line_width=1, line_dash=\"dash\", line_color=\"green\")\n",
    "for s in sell:\n",
    "    fig.add_vline(x=s, line_width=1, line_dash=\"dash\", line_color=\"red\")\n",
    "\n",
    "               \n",
    "fig.update_layout(template = 'plotly_dark')\n",
    "fig.layout.xaxis.rangeslider.visible = False\n",
    "\n",
    "\n",
    "fig.show()"
   ]
  }
 ],
 "metadata": {
  "kernelspec": {
   "display_name": "Python 3.10.0 64-bit ('algo': venv)",
   "language": "python",
   "name": "python3"
  },
  "language_info": {
   "codemirror_mode": {
    "name": "ipython",
    "version": 3
   },
   "file_extension": ".py",
   "mimetype": "text/x-python",
   "name": "python",
   "nbconvert_exporter": "python",
   "pygments_lexer": "ipython3",
   "version": "3.10.0"
  },
  "orig_nbformat": 4,
  "vscode": {
   "interpreter": {
    "hash": "4c2f98a013b216298a2e0ea35e2c604ca00c100e03aea0a00effc14efa776a80"
   }
  }
 },
 "nbformat": 4,
 "nbformat_minor": 2
}
