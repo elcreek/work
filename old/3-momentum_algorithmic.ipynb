{
 "cells": [
  {
   "cell_type": "markdown",
   "metadata": {},
   "source": [
    "# Developing \"Momentum\" Trading Strategy\n",
    "* Many differnt takes on this strategy\n",
    "* Sometimes referred to as trend following\n",
    "* Whatever you do and call it, you first need to research potential trading signals"
   ]
  },
  {
   "cell_type": "code",
   "execution_count": 2,
   "metadata": {},
   "outputs": [],
   "source": [
    "import numpy as np\n",
    "import pandas as pd\n",
    "import pandas_datareader as pdr\n",
    "import matplotlib.pyplot as plt"
   ]
  },
  {
   "cell_type": "markdown",
   "metadata": {},
   "source": [
    "### 1. Download data: \n",
    "* Many services for this, some paid some free \n",
    "* Yahoo Finance API\n",
    "* Typically trading \"systems\" involve a number of securities\n",
    "* For this demonstration we are just going to look at GLD --> the gold ETF"
   ]
  },
  {
   "cell_type": "code",
   "execution_count": 9,
   "metadata": {},
   "outputs": [
    {
     "data": {
      "text/html": [
       "<div>\n",
       "<style scoped>\n",
       "    .dataframe tbody tr th:only-of-type {\n",
       "        vertical-align: middle;\n",
       "    }\n",
       "\n",
       "    .dataframe tbody tr th {\n",
       "        vertical-align: top;\n",
       "    }\n",
       "\n",
       "    .dataframe thead th {\n",
       "        text-align: right;\n",
       "    }\n",
       "</style>\n",
       "<table border=\"1\" class=\"dataframe\">\n",
       "  <thead>\n",
       "    <tr style=\"text-align: right;\">\n",
       "      <th></th>\n",
       "      <th>day</th>\n",
       "      <th>Open</th>\n",
       "      <th>High</th>\n",
       "      <th>Low</th>\n",
       "      <th>Close</th>\n",
       "    </tr>\n",
       "    <tr>\n",
       "      <th>Date</th>\n",
       "      <th></th>\n",
       "      <th></th>\n",
       "      <th></th>\n",
       "      <th></th>\n",
       "      <th></th>\n",
       "    </tr>\n",
       "  </thead>\n",
       "  <tbody>\n",
       "    <tr>\n",
       "      <th>2016-12-08</th>\n",
       "      <td>1</td>\n",
       "      <td>8.38350</td>\n",
       "      <td>8.86133</td>\n",
       "      <td>8.23051</td>\n",
       "      <td>8.23051</td>\n",
       "    </tr>\n",
       "    <tr>\n",
       "      <th>2016-12-09</th>\n",
       "      <td>2</td>\n",
       "      <td>8.16814</td>\n",
       "      <td>8.67409</td>\n",
       "      <td>8.05433</td>\n",
       "      <td>8.44601</td>\n",
       "    </tr>\n",
       "    <tr>\n",
       "      <th>2016-12-10</th>\n",
       "      <td>3</td>\n",
       "      <td>8.43837</td>\n",
       "      <td>8.52841</td>\n",
       "      <td>8.01677</td>\n",
       "      <td>8.12516</td>\n",
       "    </tr>\n",
       "    <tr>\n",
       "      <th>2016-12-11</th>\n",
       "      <td>4</td>\n",
       "      <td>8.12641</td>\n",
       "      <td>8.26856</td>\n",
       "      <td>8.10299</td>\n",
       "      <td>8.19362</td>\n",
       "    </tr>\n",
       "    <tr>\n",
       "      <th>2016-12-12</th>\n",
       "      <td>5</td>\n",
       "      <td>8.19236</td>\n",
       "      <td>8.60633</td>\n",
       "      <td>8.16508</td>\n",
       "      <td>8.52221</td>\n",
       "    </tr>\n",
       "  </tbody>\n",
       "</table>\n",
       "</div>"
      ],
      "text/plain": [
       "            day     Open     High      Low    Close\n",
       "Date                                               \n",
       "2016-12-08    1  8.38350  8.86133  8.23051  8.23051\n",
       "2016-12-09    2  8.16814  8.67409  8.05433  8.44601\n",
       "2016-12-10    3  8.43837  8.52841  8.01677  8.12516\n",
       "2016-12-11    4  8.12641  8.26856  8.10299  8.19362\n",
       "2016-12-12    5  8.19236  8.60633  8.16508  8.52221"
      ]
     },
     "execution_count": 9,
     "metadata": {},
     "output_type": "execute_result"
    }
   ],
   "source": [
    "gld = pdr.get_data_yahoo('ETH-USD')\n",
    "day = np.arange(1, len(gld) + 1)\n",
    "gld['day'] = day\n",
    "gld.drop(columns=['Adj Close', 'Volume'], inplace = True)\n",
    "gld = gld[['day', 'Open', 'High', 'Low', 'Close']]\n",
    "gld.head()"
   ]
  },
  {
   "cell_type": "code",
   "execution_count": 4,
   "metadata": {},
   "outputs": [
    {
     "name": "stdout",
     "output_type": "stream",
     "text": [
      "<class 'pandas.core.frame.DataFrame'>\n",
      "DatetimeIndex: 1822 entries, 2016-12-08 to 2021-12-07\n",
      "Data columns (total 5 columns):\n",
      " #   Column  Non-Null Count  Dtype  \n",
      "---  ------  --------------  -----  \n",
      " 0   day     1822 non-null   int32  \n",
      " 1   Open    1822 non-null   float64\n",
      " 2   High    1822 non-null   float64\n",
      " 3   Low     1822 non-null   float64\n",
      " 4   Close   1822 non-null   float64\n",
      "dtypes: float64(4), int32(1)\n",
      "memory usage: 78.3 KB\n"
     ]
    }
   ],
   "source": [
    "gld.info()"
   ]
  },
  {
   "cell_type": "markdown",
   "metadata": {},
   "source": [
    "### 2. Add data/transform data\n",
    "* calculate signal based on some price or statistical action\n",
    "* we are going to try a moving average crossover to generate signals\n",
    "* for this strategy we will always by \"in\" a trade, either long or short\n",
    "* we are modeling; this means real life variation should be expected"
   ]
  },
  {
   "cell_type": "markdown",
   "metadata": {},
   "source": [
    "#### Add moving averages to the data frame"
   ]
  },
  {
   "cell_type": "code",
   "execution_count": 11,
   "metadata": {},
   "outputs": [
    {
     "data": {
      "text/html": [
       "<div>\n",
       "<style scoped>\n",
       "    .dataframe tbody tr th:only-of-type {\n",
       "        vertical-align: middle;\n",
       "    }\n",
       "\n",
       "    .dataframe tbody tr th {\n",
       "        vertical-align: top;\n",
       "    }\n",
       "\n",
       "    .dataframe thead th {\n",
       "        text-align: right;\n",
       "    }\n",
       "</style>\n",
       "<table border=\"1\" class=\"dataframe\">\n",
       "  <thead>\n",
       "    <tr style=\"text-align: right;\">\n",
       "      <th></th>\n",
       "      <th>day</th>\n",
       "      <th>Open</th>\n",
       "      <th>High</th>\n",
       "      <th>Low</th>\n",
       "      <th>Close</th>\n",
       "      <th>9-day</th>\n",
       "      <th>21-day</th>\n",
       "    </tr>\n",
       "    <tr>\n",
       "      <th>Date</th>\n",
       "      <th></th>\n",
       "      <th></th>\n",
       "      <th></th>\n",
       "      <th></th>\n",
       "      <th></th>\n",
       "      <th></th>\n",
       "      <th></th>\n",
       "    </tr>\n",
       "  </thead>\n",
       "  <tbody>\n",
       "    <tr>\n",
       "      <th>2016-12-27</th>\n",
       "      <td>20</td>\n",
       "      <td>7.27637</td>\n",
       "      <td>7.32258</td>\n",
       "      <td>7.09047</td>\n",
       "      <td>7.17082</td>\n",
       "      <td>7.505519</td>\n",
       "      <td>NaN</td>\n",
       "    </tr>\n",
       "    <tr>\n",
       "      <th>2016-12-28</th>\n",
       "      <td>21</td>\n",
       "      <td>7.14895</td>\n",
       "      <td>7.62406</td>\n",
       "      <td>7.08225</td>\n",
       "      <td>7.52011</td>\n",
       "      <td>7.428352</td>\n",
       "      <td>NaN</td>\n",
       "    </tr>\n",
       "    <tr>\n",
       "      <th>2016-12-29</th>\n",
       "      <td>22</td>\n",
       "      <td>7.53913</td>\n",
       "      <td>8.52741</td>\n",
       "      <td>7.53913</td>\n",
       "      <td>8.28416</td>\n",
       "      <td>7.414607</td>\n",
       "      <td>7.809974</td>\n",
       "    </tr>\n",
       "    <tr>\n",
       "      <th>2016-12-30</th>\n",
       "      <td>23</td>\n",
       "      <td>8.28988</td>\n",
       "      <td>8.46609</td>\n",
       "      <td>8.05468</td>\n",
       "      <td>8.15998</td>\n",
       "      <td>7.483953</td>\n",
       "      <td>7.812529</td>\n",
       "    </tr>\n",
       "    <tr>\n",
       "      <th>2016-12-31</th>\n",
       "      <td>24</td>\n",
       "      <td>8.15115</td>\n",
       "      <td>8.15856</td>\n",
       "      <td>7.90938</td>\n",
       "      <td>7.96910</td>\n",
       "      <td>7.511240</td>\n",
       "      <td>7.798909</td>\n",
       "    </tr>\n",
       "    <tr>\n",
       "      <th>2017-01-01</th>\n",
       "      <td>25</td>\n",
       "      <td>7.98231</td>\n",
       "      <td>8.47123</td>\n",
       "      <td>7.98231</td>\n",
       "      <td>8.17257</td>\n",
       "      <td>7.553918</td>\n",
       "      <td>7.791477</td>\n",
       "    </tr>\n",
       "  </tbody>\n",
       "</table>\n",
       "</div>"
      ],
      "text/plain": [
       "            day     Open     High      Low    Close     9-day    21-day\n",
       "Date                                                                   \n",
       "2016-12-27   20  7.27637  7.32258  7.09047  7.17082  7.505519       NaN\n",
       "2016-12-28   21  7.14895  7.62406  7.08225  7.52011  7.428352       NaN\n",
       "2016-12-29   22  7.53913  8.52741  7.53913  8.28416  7.414607  7.809974\n",
       "2016-12-30   23  8.28988  8.46609  8.05468  8.15998  7.483953  7.812529\n",
       "2016-12-31   24  8.15115  8.15856  7.90938  7.96910  7.511240  7.798909\n",
       "2017-01-01   25  7.98231  8.47123  7.98231  8.17257  7.553918  7.791477"
      ]
     },
     "execution_count": 11,
     "metadata": {},
     "output_type": "execute_result"
    }
   ],
   "source": [
    "gld['9-day'] = gld['Close'].rolling(9).mean().shift()\n",
    "gld['21-day'] = gld['Close'].rolling(21).mean().shift()\n",
    "gld[19:25]"
   ]
  },
  {
   "cell_type": "markdown",
   "metadata": {},
   "source": [
    "#### Add \"signal\" column  "
   ]
  },
  {
   "cell_type": "code",
   "execution_count": 12,
   "metadata": {},
   "outputs": [
    {
     "data": {
      "text/html": [
       "<div>\n",
       "<style scoped>\n",
       "    .dataframe tbody tr th:only-of-type {\n",
       "        vertical-align: middle;\n",
       "    }\n",
       "\n",
       "    .dataframe tbody tr th {\n",
       "        vertical-align: top;\n",
       "    }\n",
       "\n",
       "    .dataframe thead th {\n",
       "        text-align: right;\n",
       "    }\n",
       "</style>\n",
       "<table border=\"1\" class=\"dataframe\">\n",
       "  <thead>\n",
       "    <tr style=\"text-align: right;\">\n",
       "      <th></th>\n",
       "      <th>day</th>\n",
       "      <th>Open</th>\n",
       "      <th>High</th>\n",
       "      <th>Low</th>\n",
       "      <th>Close</th>\n",
       "      <th>9-day</th>\n",
       "      <th>21-day</th>\n",
       "      <th>signal</th>\n",
       "    </tr>\n",
       "    <tr>\n",
       "      <th>Date</th>\n",
       "      <th></th>\n",
       "      <th></th>\n",
       "      <th></th>\n",
       "      <th></th>\n",
       "      <th></th>\n",
       "      <th></th>\n",
       "      <th></th>\n",
       "      <th></th>\n",
       "    </tr>\n",
       "  </thead>\n",
       "  <tbody>\n",
       "    <tr>\n",
       "      <th>2016-12-29</th>\n",
       "      <td>22</td>\n",
       "      <td>7.53913</td>\n",
       "      <td>8.52741</td>\n",
       "      <td>7.53913</td>\n",
       "      <td>8.28416</td>\n",
       "      <td>7.414607</td>\n",
       "      <td>7.809974</td>\n",
       "      <td>0</td>\n",
       "    </tr>\n",
       "    <tr>\n",
       "      <th>2016-12-30</th>\n",
       "      <td>23</td>\n",
       "      <td>8.28988</td>\n",
       "      <td>8.46609</td>\n",
       "      <td>8.05468</td>\n",
       "      <td>8.15998</td>\n",
       "      <td>7.483953</td>\n",
       "      <td>7.812529</td>\n",
       "      <td>0</td>\n",
       "    </tr>\n",
       "    <tr>\n",
       "      <th>2016-12-31</th>\n",
       "      <td>24</td>\n",
       "      <td>8.15115</td>\n",
       "      <td>8.15856</td>\n",
       "      <td>7.90938</td>\n",
       "      <td>7.96910</td>\n",
       "      <td>7.511240</td>\n",
       "      <td>7.798909</td>\n",
       "      <td>0</td>\n",
       "    </tr>\n",
       "    <tr>\n",
       "      <th>2017-01-01</th>\n",
       "      <td>25</td>\n",
       "      <td>7.98231</td>\n",
       "      <td>8.47123</td>\n",
       "      <td>7.98231</td>\n",
       "      <td>8.17257</td>\n",
       "      <td>7.553918</td>\n",
       "      <td>7.791477</td>\n",
       "      <td>0</td>\n",
       "    </tr>\n",
       "    <tr>\n",
       "      <th>2017-01-02</th>\n",
       "      <td>26</td>\n",
       "      <td>8.17087</td>\n",
       "      <td>8.43633</td>\n",
       "      <td>8.05441</td>\n",
       "      <td>8.37851</td>\n",
       "      <td>7.665742</td>\n",
       "      <td>7.790475</td>\n",
       "      <td>0</td>\n",
       "    </tr>\n",
       "  </tbody>\n",
       "</table>\n",
       "</div>"
      ],
      "text/plain": [
       "            day     Open     High      Low    Close     9-day    21-day  \\\n",
       "Date                                                                      \n",
       "2016-12-29   22  7.53913  8.52741  7.53913  8.28416  7.414607  7.809974   \n",
       "2016-12-30   23  8.28988  8.46609  8.05468  8.15998  7.483953  7.812529   \n",
       "2016-12-31   24  8.15115  8.15856  7.90938  7.96910  7.511240  7.798909   \n",
       "2017-01-01   25  7.98231  8.47123  7.98231  8.17257  7.553918  7.791477   \n",
       "2017-01-02   26  8.17087  8.43633  8.05441  8.37851  7.665742  7.790475   \n",
       "\n",
       "            signal  \n",
       "Date                \n",
       "2016-12-29       0  \n",
       "2016-12-30       0  \n",
       "2016-12-31       0  \n",
       "2017-01-01       0  \n",
       "2017-01-02       0  "
      ]
     },
     "execution_count": 12,
     "metadata": {},
     "output_type": "execute_result"
    }
   ],
   "source": [
    "gld['signal'] = np.where(gld['9-day'] > gld['21-day'], 1, 0)\n",
    "#gld['signal'] = np.where(gld['9-day'] < gld['21-day'], -1, gld['signal'])\n",
    "gld.dropna(inplace=True)\n",
    "gld.head()"
   ]
  },
  {
   "cell_type": "markdown",
   "metadata": {},
   "source": [
    "#### Calculate Instantaneous returns/system returns"
   ]
  },
  {
   "cell_type": "code",
   "execution_count": 19,
   "metadata": {},
   "outputs": [
    {
     "data": {
      "text/html": [
       "<div>\n",
       "<style scoped>\n",
       "    .dataframe tbody tr th:only-of-type {\n",
       "        vertical-align: middle;\n",
       "    }\n",
       "\n",
       "    .dataframe tbody tr th {\n",
       "        vertical-align: top;\n",
       "    }\n",
       "\n",
       "    .dataframe thead th {\n",
       "        text-align: right;\n",
       "    }\n",
       "</style>\n",
       "<table border=\"1\" class=\"dataframe\">\n",
       "  <thead>\n",
       "    <tr style=\"text-align: right;\">\n",
       "      <th></th>\n",
       "      <th>day</th>\n",
       "      <th>Open</th>\n",
       "      <th>High</th>\n",
       "      <th>Low</th>\n",
       "      <th>Close</th>\n",
       "      <th>9-day</th>\n",
       "      <th>21-day</th>\n",
       "      <th>signal</th>\n",
       "      <th>return</th>\n",
       "      <th>system_return</th>\n",
       "      <th>entry</th>\n",
       "    </tr>\n",
       "    <tr>\n",
       "      <th>Date</th>\n",
       "      <th></th>\n",
       "      <th></th>\n",
       "      <th></th>\n",
       "      <th></th>\n",
       "      <th></th>\n",
       "      <th></th>\n",
       "      <th></th>\n",
       "      <th></th>\n",
       "      <th></th>\n",
       "      <th></th>\n",
       "      <th></th>\n",
       "    </tr>\n",
       "  </thead>\n",
       "  <tbody>\n",
       "    <tr>\n",
       "      <th>2016-12-30</th>\n",
       "      <td>23</td>\n",
       "      <td>8.28988</td>\n",
       "      <td>8.46609</td>\n",
       "      <td>8.05468</td>\n",
       "      <td>8.15998</td>\n",
       "      <td>7.483953</td>\n",
       "      <td>7.812529</td>\n",
       "      <td>0</td>\n",
       "      <td>-0.015104</td>\n",
       "      <td>-0.000000</td>\n",
       "      <td>0.0</td>\n",
       "    </tr>\n",
       "    <tr>\n",
       "      <th>2016-12-31</th>\n",
       "      <td>24</td>\n",
       "      <td>8.15115</td>\n",
       "      <td>8.15856</td>\n",
       "      <td>7.90938</td>\n",
       "      <td>7.96910</td>\n",
       "      <td>7.511240</td>\n",
       "      <td>7.798909</td>\n",
       "      <td>0</td>\n",
       "      <td>-0.023670</td>\n",
       "      <td>-0.000000</td>\n",
       "      <td>0.0</td>\n",
       "    </tr>\n",
       "    <tr>\n",
       "      <th>2017-01-01</th>\n",
       "      <td>25</td>\n",
       "      <td>7.98231</td>\n",
       "      <td>8.47123</td>\n",
       "      <td>7.98231</td>\n",
       "      <td>8.17257</td>\n",
       "      <td>7.553918</td>\n",
       "      <td>7.791477</td>\n",
       "      <td>0</td>\n",
       "      <td>0.025212</td>\n",
       "      <td>0.000000</td>\n",
       "      <td>0.0</td>\n",
       "    </tr>\n",
       "    <tr>\n",
       "      <th>2017-01-02</th>\n",
       "      <td>26</td>\n",
       "      <td>8.17087</td>\n",
       "      <td>8.43633</td>\n",
       "      <td>8.05441</td>\n",
       "      <td>8.37851</td>\n",
       "      <td>7.665742</td>\n",
       "      <td>7.790475</td>\n",
       "      <td>0</td>\n",
       "      <td>0.024887</td>\n",
       "      <td>0.000000</td>\n",
       "      <td>0.0</td>\n",
       "    </tr>\n",
       "    <tr>\n",
       "      <th>2017-01-03</th>\n",
       "      <td>27</td>\n",
       "      <td>8.37458</td>\n",
       "      <td>9.99680</td>\n",
       "      <td>8.31717</td>\n",
       "      <td>9.72525</td>\n",
       "      <td>7.789380</td>\n",
       "      <td>7.783632</td>\n",
       "      <td>1</td>\n",
       "      <td>0.149055</td>\n",
       "      <td>0.149055</td>\n",
       "      <td>1.0</td>\n",
       "    </tr>\n",
       "  </tbody>\n",
       "</table>\n",
       "</div>"
      ],
      "text/plain": [
       "            day     Open     High      Low    Close     9-day    21-day  \\\n",
       "Date                                                                      \n",
       "2016-12-30   23  8.28988  8.46609  8.05468  8.15998  7.483953  7.812529   \n",
       "2016-12-31   24  8.15115  8.15856  7.90938  7.96910  7.511240  7.798909   \n",
       "2017-01-01   25  7.98231  8.47123  7.98231  8.17257  7.553918  7.791477   \n",
       "2017-01-02   26  8.17087  8.43633  8.05441  8.37851  7.665742  7.790475   \n",
       "2017-01-03   27  8.37458  9.99680  8.31717  9.72525  7.789380  7.783632   \n",
       "\n",
       "            signal    return  system_return  entry  \n",
       "Date                                                \n",
       "2016-12-30       0 -0.015104      -0.000000    0.0  \n",
       "2016-12-31       0 -0.023670      -0.000000    0.0  \n",
       "2017-01-01       0  0.025212       0.000000    0.0  \n",
       "2017-01-02       0  0.024887       0.000000    0.0  \n",
       "2017-01-03       1  0.149055       0.149055    1.0  "
      ]
     },
     "execution_count": 19,
     "metadata": {},
     "output_type": "execute_result"
    }
   ],
   "source": [
    "gld['return'] = np.log(gld['Close']).diff()\n",
    "gld['system_return'] = gld['signal'] * gld['return']\n",
    "gld['entry'] = gld.signal.diff()\n",
    "gld.dropna(inplace=True)\n",
    "gld.head()"
   ]
  },
  {
   "cell_type": "markdown",
   "metadata": {},
   "source": [
    "#### Plot trades on time series"
   ]
  },
  {
   "cell_type": "code",
   "execution_count": 20,
   "metadata": {},
   "outputs": [
    {
     "data": {
      "image/png": "[encoded data removed]",
      "text/plain": [
       "<Figure size 864x432 with 1 Axes>"
      ]
     },
     "metadata": {
      "needs_background": "light"
     },
     "output_type": "display_data"
    }
   ],
   "source": [
    "plt.rcParams['figure.figsize'] = 12, 6\n",
    "plt.grid(True, alpha = .3)\n",
    "plt.plot(gld.iloc[-452:]['Close'], label = 'GLD')\n",
    "plt.plot(gld.iloc[-452:]['9-day'], label = '9-day')\n",
    "plt.plot(gld.iloc[-452:]['21-day'], label = '21-day')\n",
    "plt.plot(gld[-452:].loc[gld.entry == 2].index, gld[-452:]['9-day'][gld.entry == 2], '^',\n",
    "         color = 'g', markersize = 12)\n",
    "plt.plot(gld[-452:].loc[gld.entry == -2].index, gld[-452:]['21-day'][gld.entry == -2], 'v',\n",
    "         color = 'r', markersize = 12)\n",
    "plt.legend(loc=2);"
   ]
  },
  {
   "cell_type": "code",
   "execution_count": 21,
   "metadata": {},
   "outputs": [
    {
     "data": {
      "image/png": "[encoded data removed]",
      "text/plain": [
       "<Figure size 864x432 with 1 Axes>"
      ]
     },
     "metadata": {
      "needs_background": "light"
     },
     "output_type": "display_data"
    }
   ],
   "source": [
    "plt.plot(np.exp(gld['return']).cumprod(), label='Buy/Hold')\n",
    "plt.plot(np.exp(gld['system_return']).cumprod(), label='System')\n",
    "plt.legend(loc=2)\n",
    "plt.grid(True, alpha=.3)"
   ]
  },
  {
   "cell_type": "code",
   "execution_count": 22,
   "metadata": {},
   "outputs": [
    {
     "data": {
      "text/plain": [
       "522.4050729568677"
      ]
     },
     "execution_count": 22,
     "metadata": {},
     "output_type": "execute_result"
    }
   ],
   "source": [
    "np.exp(gld['return']).cumprod()[-1] -1"
   ]
  },
  {
   "cell_type": "code",
   "execution_count": 23,
   "metadata": {},
   "outputs": [
    {
     "data": {
      "text/plain": [
       "2668.7438305266787"
      ]
     },
     "execution_count": 23,
     "metadata": {},
     "output_type": "execute_result"
    }
   ],
   "source": [
    "np.exp(gld['system_return']).cumprod()[-1] -1"
   ]
  },
  {
   "cell_type": "code",
   "execution_count": null,
   "id": "4983d46a",
   "metadata": {},
   "outputs": [],
   "source": []
  }
 ],
 "metadata": {
  "kernelspec": {
   "display_name": "Python 3",
   "language": "python",
   "name": "python3"
  },
  "language_info": {
   "codemirror_mode": {
    "name": "ipython",
    "version": 3
   },
   "file_extension": ".py",
   "mimetype": "text/x-python",
   "name": "python",
   "nbconvert_exporter": "python",
   "pygments_lexer": "ipython3",
   "version": "3.10.0"
  }
 },
 "nbformat": 4,
 "nbformat_minor": 5
}
