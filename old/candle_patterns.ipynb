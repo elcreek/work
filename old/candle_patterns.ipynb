{
 "cells": [
  {
   "cell_type": "code",
   "execution_count": 1,
   "metadata": {},
   "outputs": [],
   "source": [
    "import talib\n"
   ]
  }
 ],
 "metadata": {
  "interpreter": {
   "hash": "5a6e9528aa850de18c08131df015ab137a517634069ec846733f18057169b425"
  },
  "kernelspec": {
   "display_name": "Python 3.10.0 64-bit ('fintech': venv)",
   "language": "python",
   "name": "python3"
  },
  "language_info": {
   "codemirror_mode": {
    "name": "ipython",
    "version": 3
   },
   "file_extension": ".py",
   "mimetype": "text/x-python",
   "name": "python",
   "nbconvert_exporter": "python",
   "pygments_lexer": "ipython3",
   "version": "3.10.0"
  },
  "orig_nbformat": 4
 },
 "nbformat": 4,
 "nbformat_minor": 2
}
