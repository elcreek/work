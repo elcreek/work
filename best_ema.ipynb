{
 "cells": [
  {
   "cell_type": "code",
   "execution_count": 232,
   "metadata": {},
   "outputs": [],
   "source": [
    "#  ema that touch max number of extremas\n",
    "\n",
    "# put extremas in list (peaks list and trough list)\n",
    "# use for loop\n",
    "# use isin\n",
    "\n",
    "# match the dates of extremas with same dates of ema \n",
    "# if are equal with 5% tolerance than add 1 \n",
    "# the ema with most 1s is the best "
   ]
  },
  {
   "cell_type": "code",
   "execution_count": 233,
   "metadata": {},
   "outputs": [],
   "source": [
    "from scipy.signal import argrelextrema\n",
    "import pandas as pd\n",
    "import numpy as np\n",
    "import pandas_ta as ta\n"
   ]
  },
  {
   "cell_type": "code",
   "execution_count": 234,
   "metadata": {},
   "outputs": [],
   "source": [
    "def isSupport(df,i):\n",
    "  # fractal (i-2)>(i-1)>i<(i+1)<(i+2)\n",
    "  support = df['Low'][i] < df['Low'][i-1]  and df['Low'][i] < df['Low'][i+1] \\\n",
    "  and df['Low'][i+1] < df['Low'][i+2] and df['Low'][i-1] < df['Low'][i-2]\n",
    "\n",
    "  return support\n",
    "\n",
    "def isResistance(df,i):\n",
    "  resistance = df['High'][i] > df['High'][i-1]  and df['High'][i] > df['High'][i+1] \\\n",
    "  and df['High'][i+1] > df['High'][i+2] and df['High'][i-1] > df['High'][i-2] \n",
    "\n",
    "  return resistance\n",
    "\n",
    "\n"
   ]
  },
  {
   "cell_type": "code",
   "execution_count": 235,
   "metadata": {},
   "outputs": [],
   "source": [
    "# def p_t(data, order):\n",
    "\n",
    "#     peaks = argrelextrema(data['Close'].values, np.greater, order=order)[0]\n",
    "#     troughs = argrelextrema(data['Close'].values, np.less, order=order)[0]\n",
    "\n",
    "#     # peaks = data.iloc[peaks]['Close']\n",
    "#     data[\"peaks\"] = data.iloc[peaks]['Close']\n",
    "#     # data[\"peaks\"] = data[\"peaks\"].fillna(0)\n",
    "\n",
    "#     # troughs = data.iloc[troughs]['Close']\n",
    "#     data[\"troughs\"] = data.iloc[troughs]['Close']\n",
    "#     # data[\"troughs\"] = data[\"troughs\"].fillna(0)\n",
    "\n",
    "\n",
    "#     return data"
   ]
  },
  {
   "cell_type": "code",
   "execution_count": 236,
   "metadata": {},
   "outputs": [],
   "source": [
    "def ema(data):\n",
    "    # global ddf\n",
    "    # dicts = {}\n",
    "\n",
    "    # for ema_length in range(20,222):\n",
    "    #     dicts[ema_length] = ta.ema(data[\"Close\"], length=ema_length)\n",
    "\n",
    "    # ddf = pd.DataFrame(dicts)\n",
    "\n",
    "    for ema_length in range(20,222):\n",
    "        data[ema_length] = ta.ema(data[\"Close\"], length=ema_length)\n",
    "\n",
    "    # return ddf\n"
   ]
  },
  {
   "cell_type": "code",
   "execution_count": 237,
   "metadata": {},
   "outputs": [],
   "source": [
    "def compare(data):\n",
    "    # data = data.fillna(0)\n",
    "    # ddf = ddf.fillna(0)\n",
    "    global total\n",
    "    # data['Result'] = (ddf.values > data[['peaks']].values).all(axis=1).astype(int)\n",
    "\n",
    "    for i in range(20,222):\n",
    "        data[i] = np.where((data[i].values > data['peaks'].values) & (data[i].values < ((data['peaks'].values) *1.03)), i, np.nan)\n",
    "        # data[i] = np.where((data[i].values < data['troughs'].values) & (data['troughs'].values  < ((data[i].values) *1.03)), i, np.nan)\n",
    "\n",
    "    \n",
    "    data=data.drop(['Time', 'Open', 'High', 'Low', 'Close', 'Volume', 'peaks', 'troughs'], axis=1)\n",
    "    max = data.count().max()\n",
    "    total = pd.DataFrame(data.count())\n",
    "    best = total[total[0]==max].index.values\n",
    "\n",
    "\n",
    "\n",
    "\n",
    "    # for i in range(20,222):\n",
    "    #     data['Result'] = np.where((ddf[i].values > data['peaks'].values) & (ddf[i].values < (data['peaks'].values *1.1)), i, np.nan)\n",
    "    #     data['Result2'] = np.where((ddf[i].values < data['troughs'].values) & (ddf[i].values > (data['troughs'].values *1.5)), i, np.nan)\n",
    "\n",
    "    # data['Result'] = np.where((data < data['troughs']) & (data > (data['troughs'] *1.5)), 1, np.nan)\n",
    "\n",
    "\n",
    "\n",
    "\n",
    "    return best"
   ]
  },
  {
   "cell_type": "code",
   "execution_count": 238,
   "metadata": {},
   "outputs": [
    {
     "name": "stderr",
     "output_type": "stream",
     "text": [
      "C:\\Users\\Grant\\AppData\\Local\\Temp\\ipykernel_6724\\2859153315.py:11: PerformanceWarning: DataFrame is highly fragmented.  This is usually the result of calling `frame.insert` many times, which has poor performance.  Consider joining all columns at once using pd.concat(axis=1) instead.  To get a de-fragmented frame, use `newframe = frame.copy()`\n",
      "  data[ema_length] = ta.ema(data[\"Close\"], length=ema_length)\n"
     ]
    }
   ],
   "source": [
    "\n",
    "pair = \"xrp\".upper()\n",
    "data=pd.read_csv(f\"C:\\\\Users\\Grant\\Desktop\\work_git\\work\\data\\\\4h\\{pair}USDT_4h.csv\", parse_dates=True)\n",
    "# data=pd.read_csv(\"C:\\\\Users\\Grant\\Desktop\\work_git\\work\\data\\\\1d\\ENSUSDT_1d.csv\", parse_dates=True)\n",
    "# data[-55:]\n",
    "\n",
    "levels = []\n",
    "  # start from 2 because i need i-2\n",
    "  # end at shape[0]-2 because  i need i+2\n",
    "  # i is the number of current row\n",
    "for i in range(2,data.shape[0]-2):\n",
    "    if isSupport(data,i):\n",
    "        levels.append((i,data['Low'][i]))\n",
    "    elif isResistance(data,i):\n",
    "        levels.append((i,data['High'][i]))\n",
    "\n",
    "\n",
    "# p_t(data, 5)\n",
    "ema(data)\n",
    "# compare(data)\n",
    "\n",
    "\n",
    "\n"
   ]
  },
  {
   "cell_type": "code",
   "execution_count": 241,
   "metadata": {},
   "outputs": [
    {
     "data": {
      "text/plain": [
       "4"
      ]
     },
     "execution_count": 241,
     "metadata": {},
     "output_type": "execute_result"
    }
   ],
   "source": [
    "levels[0][0]"
   ]
  }
 ],
 "metadata": {
  "interpreter": {
   "hash": "3756e50263641124812bebbe71b3301d6fe5d90f19e89fc330b3e20fa5370427"
  },
  "kernelspec": {
   "display_name": "Python 3.10.0 64-bit ('algo': venv)",
   "language": "python",
   "name": "python3"
  },
  "language_info": {
   "codemirror_mode": {
    "name": "ipython",
    "version": 3
   },
   "file_extension": ".py",
   "mimetype": "text/x-python",
   "name": "python",
   "nbconvert_exporter": "python",
   "pygments_lexer": "ipython3",
   "version": "3.10.0"
  },
  "orig_nbformat": 4
 },
 "nbformat": 4,
 "nbformat_minor": 2
}
