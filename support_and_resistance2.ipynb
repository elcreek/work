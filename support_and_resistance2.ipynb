{
 "cells": [
  {
   "cell_type": "code",
   "execution_count": 24,
   "metadata": {},
   "outputs": [],
   "source": [
    "# the subbort that had a major move will be considerred more reliable\n",
    "# same for resistance"
   ]
  },
  {
   "cell_type": "code",
   "execution_count": 25,
   "metadata": {},
   "outputs": [],
   "source": [
    "import pandas as pd\n",
    "import numpy as np\n",
    "# import yfinance\n",
    "\n",
    "# from mplfinance import candlestick_ohlc\n",
    "from mplfinance.original_flavor import candlestick_ohlc\n",
    "\n",
    "import matplotlib.dates as mpl_dates\n",
    "import matplotlib.pyplot as plt\n",
    "import os\n",
    "import plotly.graph_objects as go\n",
    "\n",
    "from datetime import datetime\n",
    "\n",
    "%matplotlib inline\n",
    "%config InlineBackend.figure_format = 'svg'"
   ]
  },
  {
   "cell_type": "code",
   "execution_count": 26,
   "metadata": {},
   "outputs": [],
   "source": [
    "# plt.rcParams['figure.figsize'] = [12, 7]\n",
    "\n",
    "# plt.rc('font', size=14) "
   ]
  },
  {
   "cell_type": "code",
   "execution_count": 27,
   "metadata": {},
   "outputs": [],
   "source": []
  },
  {
   "cell_type": "code",
   "execution_count": null,
   "metadata": {},
   "outputs": [],
   "source": [
    "\n",
    "name = 'BTC-USD'\n",
    "df=pd.read_csv(\"C:\\\\Users\\Grant\\Desktop\\work_git\\work\\data\\\\4h\\ZILUSDT_4h.csv\",index_col=['Time'], parse_dates=['Time'])\n",
    "\n",
    "\n",
    "# ticker = yfinance.Ticker(name)\n",
    "# df = ticker.history(interval=\"90m\")\n",
    "\n",
    "# # df = ticker.history(interval=\"1d\",start=\"2020-03-15\",end=\"2020-07-15\")\n",
    "\n",
    "\n",
    "\n",
    "# df = df.reset_index().set_index('Time') # SWITCH INDEX AND TIME COLumn places\n",
    "\n",
    "# df = df.set_index('Time')\n",
    "\n",
    "# df['Date'] = df['Time']\n",
    "# pd.to_datetime(df['Time'])\n",
    "# pd.to_datetime(df['Date'])\n",
    "# df = df.set_index('Time')\n"
   ]
  },
  {
   "cell_type": "code",
   "execution_count": null,
   "metadata": {},
   "outputs": [],
   "source": [
    "\n",
    "# df"
   ]
  },
  {
   "cell_type": "code",
   "execution_count": null,
   "metadata": {},
   "outputs": [],
   "source": [
    "df['Date'] = pd.to_datetime(df.index)\n",
    "# change datetime into matplotlib time\n",
    "# does not work with plotly\n",
    "# df['Date'] = df['Date'].apply(mpl_dates.date2num)\n",
    "\n",
    "df = df.loc[:,['Date' ,'Open', 'High', 'Low', 'Close']]"
   ]
  },
  {
   "cell_type": "code",
   "execution_count": null,
   "metadata": {},
   "outputs": [],
   "source": [
    "# df\n"
   ]
  },
  {
   "cell_type": "code",
   "execution_count": null,
   "metadata": {},
   "outputs": [],
   "source": [
    "def isSupport(df,i):\n",
    "  # fractal (i-2)>(i-1)>i<(i+1)<(i+2)\n",
    "  support = df['Low'][i] < df['Low'][i-1]  and df['Low'][i] < df['Low'][i+1] \\\n",
    "  and df['Low'][i+1] < df['Low'][i+2] and df['Low'][i-1] < df['Low'][i-2]\n",
    "\n",
    "  return support\n",
    "\n",
    "def isResistance(df,i):\n",
    "  resistance = df['High'][i] > df['High'][i-1]  and df['High'][i] > df['High'][i+1] \\\n",
    "  and df['High'][i+1] > df['High'][i+2] and df['High'][i-1] > df['High'][i-2] \n",
    "\n",
    "  return resistance"
   ]
  },
  {
   "cell_type": "code",
   "execution_count": null,
   "metadata": {},
   "outputs": [],
   "source": [
    "levels = []\n",
    "# start from 2 because i need i-2\n",
    "# end at shape[0]-2 because  i need i+2\n",
    "# i is the number of current row\n",
    "for i in range(2,df.shape[0]-2):\n",
    "  if isSupport(df,i):\n",
    "    levels.append((i,df['Low'][i]))\n",
    "  elif isResistance(df,i):\n",
    "    levels.append((i,df['High'][i]))"
   ]
  },
  {
   "cell_type": "code",
   "execution_count": null,
   "metadata": {},
   "outputs": [],
   "source": [
    "# MOCHLV = zip(df.Date, df.Open, df.Close, df.High, df.Low, df.Volume)\n"
   ]
  },
  {
   "cell_type": "code",
   "execution_count": null,
   "metadata": {},
   "outputs": [],
   "source": [
    "# def plot_all():\n",
    "#   fig, ax = plt.subplots()\n",
    "\n",
    "#   candlestick_ohlc(ax,df.values,width=0.6, \\\n",
    "#                    colorup='green', colordown='red', alpha=0.8)\n",
    "#   # candlestick_ohlc(ax,MOCHLV)\n",
    "\n",
    "#   date_format = mpl_dates.DateFormatter('%d %b %Y')\n",
    "#   ax.xaxis.set_major_formatter(date_format)\n",
    "#   fig.autofmt_xdate()\n",
    "\n",
    "#   fig.tight_layout()\n",
    "\n",
    "#   for level in levels:\n",
    "#     plt.hlines(level[1],xmin=df['Date'][level[0]],\\\n",
    "#                xmax=max(df['Date']),colors='blue')\n",
    "#   fig.show()"
   ]
  },
  {
   "cell_type": "code",
   "execution_count": null,
   "metadata": {},
   "outputs": [],
   "source": [
    "def plot_all():\n",
    "\n",
    "    fig = go.Figure(data=[go.Candlestick(x=df['Date'],\n",
    "                open=df['Open'],\n",
    "                high=df['High'],\n",
    "                low=df['Low'],\n",
    "                close=df['Close'])])\n",
    "\n",
    "    for level in levels:\n",
    "        # fig.add_hline(level[1])\n",
    "        fig.add_shape(type='line',\n",
    "                x0=df['Date'][level[0]],\n",
    "                y0=level[1],\n",
    "                x1=max(df['Date']),\n",
    "                y1=level[1],\n",
    "                line=dict(color='black',),\n",
    "                xref='x',\n",
    "                yref='y')\n",
    "    \n",
    "    fig.layout.xaxis.rangeslider.visible = False\n",
    "\n",
    "\n",
    "    fig.show()\n",
    "\n",
    "\n",
    "\n",
    "#   fig, ax = plt.subplots()\n",
    "\n",
    "#   candlestick_ohlc(ax,df.values,width=0.6, \\\n",
    "#                    colorup='green', colordown='red', alpha=0.8)\n",
    "#   # candlestick_ohlc(ax,MOCHLV)\n",
    "\n",
    "#   date_format = mpl_dates.DateFormatter('%d %b %Y')\n",
    "#   ax.xaxis.set_major_formatter(date_format)\n",
    "#   fig.autofmt_xdate()\n",
    "\n",
    "#   fig.tight_layout()\n",
    "\n",
    "#   for level in levels:\n",
    "#     plt.hlines(level[1],xmin=df['Date'][level[0]],\\\n",
    "#                xmax=max(df['Date']),colors='blue')\n",
    "#   fig.show()\n",
    "\n"
   ]
  },
  {
   "cell_type": "code",
   "execution_count": null,
   "metadata": {},
   "outputs": [],
   "source": [
    "# plot_all()"
   ]
  },
  {
   "cell_type": "code",
   "execution_count": null,
   "metadata": {},
   "outputs": [],
   "source": [
    "s =  np.mean(df['High'] - df['Low'])"
   ]
  },
  {
   "cell_type": "code",
   "execution_count": null,
   "metadata": {},
   "outputs": [],
   "source": [
    "def isFarFromLevel(l):\n",
    "  return np.sum([abs(l-x) < s  for x in levels]) == 0"
   ]
  },
  {
   "cell_type": "code",
   "execution_count": null,
   "metadata": {},
   "outputs": [],
   "source": [
    "levels = []\n",
    "for i in range(2,df.shape[0]-2):\n",
    "  if isSupport(df,i):\n",
    "    l = df['Low'][i]\n",
    "\n",
    "    if isFarFromLevel(l):\n",
    "      levels.append((i,l))\n",
    "\n",
    "  elif isResistance(df,i):\n",
    "    l = df['High'][i]\n",
    "\n",
    "    if isFarFromLevel(l):\n",
    "      levels.append((i,l))"
   ]
  },
  {
   "cell_type": "code",
   "execution_count": null,
   "metadata": {},
   "outputs": [],
   "source": [
    "levels"
   ]
  },
  {
   "cell_type": "code",
   "execution_count": null,
   "metadata": {},
   "outputs": [],
   "source": [
    "# plot_all()"
   ]
  },
  {
   "cell_type": "code",
   "execution_count": null,
   "metadata": {},
   "outputs": [],
   "source": [
    "for level in levels:\n",
    "    if (df['Close'][-2] < level[1]) and (df['Close'][-1] > level[1]):\n",
    "        print(level[1] + 'breakout')\n"
   ]
  }
 ],
 "metadata": {
  "interpreter": {
   "hash": "3756e50263641124812bebbe71b3301d6fe5d90f19e89fc330b3e20fa5370427"
  },
  "kernelspec": {
   "display_name": "Python 3.10.0 64-bit ('algo': venv)",
   "language": "python",
   "name": "python3"
  },
  "language_info": {
   "codemirror_mode": {
    "name": "ipython",
    "version": 3
   },
   "file_extension": ".py",
   "mimetype": "text/x-python",
   "name": "python",
   "nbconvert_exporter": "python",
   "pygments_lexer": "ipython3",
   "version": "3.10.0"
  },
  "orig_nbformat": 4
 },
 "nbformat": 4,
 "nbformat_minor": 2
}
