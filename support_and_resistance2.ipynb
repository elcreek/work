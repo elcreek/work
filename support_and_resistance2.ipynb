{
 "cells": [
  {
   "cell_type": "code",
   "execution_count": 11,
   "metadata": {},
   "outputs": [],
   "source": [
    "import pandas as pd\n",
    "import numpy as np\n",
    "# import yfinance\n",
    "# from mpl_finance import candlestick_ohlc\n",
    "import matplotlib.dates as mpl_dates\n",
    "import matplotlib.pyplot as plt"
   ]
  },
  {
   "cell_type": "code",
   "execution_count": 12,
   "metadata": {},
   "outputs": [],
   "source": [
    "plt.rcParams['figure.figsize'] = [12, 7]\n",
    "\n",
    "plt.rc('font', size=14) "
   ]
  },
  {
   "cell_type": "code",
   "execution_count": 13,
   "metadata": {},
   "outputs": [],
   "source": [
    "\n",
    "name = 'SPY'\n",
    "# ticker = yfinance.Ticker(name)\n",
    "# df = ticker.history(interval=\"1d\",start=\"2020-03-15\",end=\"2020-07-15\")\n",
    "df=pd.read_csv(\"C:\\\\Users\\Grant\\Desktop\\work_git\\work\\data\\\\1d\\ZILUSDT_1d.csv\", index_col=\"Time\")"
   ]
  },
  {
   "cell_type": "code",
   "execution_count": 14,
   "metadata": {},
   "outputs": [],
   "source": [
    "# df['Time'] = pd.to_datetime(df.index)\n",
    "# df['Time'] = df['Time'].apply(mpl_dates.date2num)\n",
    "\n",
    "df = df.loc[:,['Open', 'High', 'Low', 'Close']]"
   ]
  },
  {
   "cell_type": "code",
   "execution_count": 15,
   "metadata": {},
   "outputs": [
    {
     "data": {
      "text/html": [
       "<div>\n",
       "<style scoped>\n",
       "    .dataframe tbody tr th:only-of-type {\n",
       "        vertical-align: middle;\n",
       "    }\n",
       "\n",
       "    .dataframe tbody tr th {\n",
       "        vertical-align: top;\n",
       "    }\n",
       "\n",
       "    .dataframe thead th {\n",
       "        text-align: right;\n",
       "    }\n",
       "</style>\n",
       "<table border=\"1\" class=\"dataframe\">\n",
       "  <thead>\n",
       "    <tr style=\"text-align: right;\">\n",
       "      <th></th>\n",
       "      <th>Open</th>\n",
       "      <th>High</th>\n",
       "      <th>Low</th>\n",
       "      <th>Close</th>\n",
       "    </tr>\n",
       "    <tr>\n",
       "      <th>Time</th>\n",
       "      <th></th>\n",
       "      <th></th>\n",
       "      <th></th>\n",
       "      <th></th>\n",
       "    </tr>\n",
       "  </thead>\n",
       "  <tbody>\n",
       "    <tr>\n",
       "      <th>2019-05-11</th>\n",
       "      <td>0.01539</td>\n",
       "      <td>0.01688</td>\n",
       "      <td>0.01506</td>\n",
       "      <td>0.01639</td>\n",
       "    </tr>\n",
       "    <tr>\n",
       "      <th>2019-05-12</th>\n",
       "      <td>0.01624</td>\n",
       "      <td>0.01682</td>\n",
       "      <td>0.01518</td>\n",
       "      <td>0.01584</td>\n",
       "    </tr>\n",
       "    <tr>\n",
       "      <th>2019-05-13</th>\n",
       "      <td>0.01585</td>\n",
       "      <td>0.01712</td>\n",
       "      <td>0.01570</td>\n",
       "      <td>0.01628</td>\n",
       "    </tr>\n",
       "    <tr>\n",
       "      <th>2019-05-14</th>\n",
       "      <td>0.01628</td>\n",
       "      <td>0.01796</td>\n",
       "      <td>0.01626</td>\n",
       "      <td>0.01764</td>\n",
       "    </tr>\n",
       "    <tr>\n",
       "      <th>2019-05-15</th>\n",
       "      <td>0.01764</td>\n",
       "      <td>0.02039</td>\n",
       "      <td>0.01719</td>\n",
       "      <td>0.02031</td>\n",
       "    </tr>\n",
       "    <tr>\n",
       "      <th>...</th>\n",
       "      <td>...</td>\n",
       "      <td>...</td>\n",
       "      <td>...</td>\n",
       "      <td>...</td>\n",
       "    </tr>\n",
       "    <tr>\n",
       "      <th>2022-01-29</th>\n",
       "      <td>0.04527</td>\n",
       "      <td>0.04637</td>\n",
       "      <td>0.04474</td>\n",
       "      <td>0.04569</td>\n",
       "    </tr>\n",
       "    <tr>\n",
       "      <th>2022-01-30</th>\n",
       "      <td>0.04571</td>\n",
       "      <td>0.04668</td>\n",
       "      <td>0.04370</td>\n",
       "      <td>0.04451</td>\n",
       "    </tr>\n",
       "    <tr>\n",
       "      <th>2022-01-31</th>\n",
       "      <td>0.04447</td>\n",
       "      <td>0.04510</td>\n",
       "      <td>0.04232</td>\n",
       "      <td>0.04487</td>\n",
       "    </tr>\n",
       "    <tr>\n",
       "      <th>2022-02-01</th>\n",
       "      <td>0.04488</td>\n",
       "      <td>0.04666</td>\n",
       "      <td>0.04470</td>\n",
       "      <td>0.04552</td>\n",
       "    </tr>\n",
       "    <tr>\n",
       "      <th>2022-02-02</th>\n",
       "      <td>0.04552</td>\n",
       "      <td>0.04711</td>\n",
       "      <td>0.04366</td>\n",
       "      <td>0.04405</td>\n",
       "    </tr>\n",
       "  </tbody>\n",
       "</table>\n",
       "<p>999 rows × 4 columns</p>\n",
       "</div>"
      ],
      "text/plain": [
       "               Open     High      Low    Close\n",
       "Time                                          \n",
       "2019-05-11  0.01539  0.01688  0.01506  0.01639\n",
       "2019-05-12  0.01624  0.01682  0.01518  0.01584\n",
       "2019-05-13  0.01585  0.01712  0.01570  0.01628\n",
       "2019-05-14  0.01628  0.01796  0.01626  0.01764\n",
       "2019-05-15  0.01764  0.02039  0.01719  0.02031\n",
       "...             ...      ...      ...      ...\n",
       "2022-01-29  0.04527  0.04637  0.04474  0.04569\n",
       "2022-01-30  0.04571  0.04668  0.04370  0.04451\n",
       "2022-01-31  0.04447  0.04510  0.04232  0.04487\n",
       "2022-02-01  0.04488  0.04666  0.04470  0.04552\n",
       "2022-02-02  0.04552  0.04711  0.04366  0.04405\n",
       "\n",
       "[999 rows x 4 columns]"
      ]
     },
     "execution_count": 15,
     "metadata": {},
     "output_type": "execute_result"
    }
   ],
   "source": [
    "df\n"
   ]
  },
  {
   "cell_type": "code",
   "execution_count": null,
   "metadata": {},
   "outputs": [],
   "source": [
    "def isSupport(df,i):\n",
    "  support = df['Low'][i] < df['Low'][i-1]  and df['Low'][i] < df['Low'][i+1] \\\n",
    "  and df['Low'][i+1] < df['Low'][i+2] and df['Low'][i-1] < df['Low'][i-2]\n",
    "\n",
    "  return support\n",
    "\n",
    "def isResistance(df,i):\n",
    "  resistance = df['High'][i] > df['High'][i-1]  and df['High'][i] > df['High'][i+1] \\\n",
    "  and df['High'][i+1] > df['High'][i+2] and df['High'][i-1] > df['High'][i-2] \n",
    "\n",
    "  return resistance"
   ]
  },
  {
   "cell_type": "code",
   "execution_count": null,
   "metadata": {},
   "outputs": [],
   "source": [
    "levels = []\n",
    "for i in range(2,df.shape[0]-2):\n",
    "  if isSupport(df,i):\n",
    "    levels.append((i,df['Low'][i]))\n",
    "  elif isResistance(df,i):\n",
    "    levels.append((i,df['High'][i]))"
   ]
  },
  {
   "cell_type": "code",
   "execution_count": null,
   "metadata": {},
   "outputs": [],
   "source": [
    "def plot_all():\n",
    "  fig, ax = plt.subplots()\n",
    "\n",
    "  candlestick_ohlc(ax,df.values,width=0.6, \\\n",
    "                   colorup='green', colordown='red', alpha=0.8)\n",
    "\n",
    "  date_format = mpl_dates.DateFormatter('%d %b %Y')\n",
    "  ax.xaxis.set_major_formatter(date_format)\n",
    "  fig.autofmt_xdate()\n",
    "\n",
    "  fig.tight_layout()\n",
    "\n",
    "  for level in levels:\n",
    "    plt.hlines(level[1],xmin=df['Date'][level[0]],\\\n",
    "               xmax=max(df['Date']),colors='blue')\n",
    "  fig.show()"
   ]
  },
  {
   "cell_type": "code",
   "execution_count": null,
   "metadata": {},
   "outputs": [],
   "source": [
    "plot_all()"
   ]
  },
  {
   "cell_type": "code",
   "execution_count": null,
   "metadata": {},
   "outputs": [],
   "source": [
    "s =  np.mean(df['High'] - df['Low'])"
   ]
  },
  {
   "cell_type": "code",
   "execution_count": null,
   "metadata": {},
   "outputs": [],
   "source": [
    "def isFarFromLevel(l):\n",
    "  return np.sum([abs(l-x) < s  for x in levels]) == 0"
   ]
  },
  {
   "cell_type": "code",
   "execution_count": null,
   "metadata": {},
   "outputs": [],
   "source": [
    "levels = []\n",
    "for i in range(2,df.shape[0]-2):\n",
    "  if isSupport(df,i):\n",
    "    l = df['Low'][i]\n",
    "\n",
    "    if isFarFromLevel(l):\n",
    "      levels.append((i,l))\n",
    "\n",
    "  elif isResistance(df,i):\n",
    "    l = df['High'][i]\n",
    "\n",
    "    if isFarFromLevel(l):\n",
    "      levels.append((i,l))"
   ]
  },
  {
   "cell_type": "code",
   "execution_count": null,
   "metadata": {},
   "outputs": [],
   "source": [
    "levels"
   ]
  },
  {
   "cell_type": "code",
   "execution_count": null,
   "metadata": {},
   "outputs": [],
   "source": [
    "plot_all()"
   ]
  }
 ],
 "metadata": {
  "interpreter": {
   "hash": "3756e50263641124812bebbe71b3301d6fe5d90f19e89fc330b3e20fa5370427"
  },
  "kernelspec": {
   "display_name": "Python 3.10.0 64-bit ('algo': venv)",
   "language": "python",
   "name": "python3"
  },
  "language_info": {
   "codemirror_mode": {
    "name": "ipython",
    "version": 3
   },
   "file_extension": ".py",
   "mimetype": "text/x-python",
   "name": "python",
   "nbconvert_exporter": "python",
   "pygments_lexer": "ipython3",
   "version": "3.10.0"
  },
  "orig_nbformat": 4
 },
 "nbformat": 4,
 "nbformat_minor": 2
}
