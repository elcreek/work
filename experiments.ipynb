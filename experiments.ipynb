{
 "cells": [
  {
   "cell_type": "code",
   "execution_count": 4,
   "metadata": {},
   "outputs": [],
   "source": [
    "\n",
    "import numpy as np\n",
    "import matplotlib.pyplot as plt\n",
    "import pandas as pd\n",
    "from scipy.signal import argrelextrema\n",
    "# from collections import deque\n",
    "# from matplotlib.lines import Line2D\n",
    "import pandas_ta as ta\n",
    "from datetime import datetime, timedelta\n",
    "import os\n",
    "from IPython.display import display, HTML\n",
    "from tqdm import tqdm\n",
    "import plotly.graph_objects as go"
   ]
  },
  {
   "cell_type": "code",
   "execution_count": null,
   "metadata": {},
   "outputs": [],
   "source": [
    "timeframe='1h'\n",
    "outdir=f\"{os.getcwd()}/data/{timeframe}\"\n",
    "values=[]\n",
    "keys = []\n",
    "\n",
    "\n",
    "for filename in os.listdir(outdir):\n",
    "    symbol = filename.replace(f\"_{timeframe}.csv\",\"\")\n",
    "    df = pd.read_csv(f\"{outdir}/{filename}\", index_col='Time')\n",
    "    # print(df.index[-1], symbol)\n",
    "    values.append(df.index[-1])\n",
    "    keys.append(symbol)\n",
    "\n",
    "dicts=dict(zip(keys, values))\n",
    "print(dicts)"
   ]
  },
  {
   "cell_type": "code",
   "execution_count": 17,
   "metadata": {},
   "outputs": [],
   "source": [
    "result = {}\n",
    "for key,value in dicts.items():\n",
    "    if value not in result.values():\n",
    "        result[key] = value\n",
    "\n",
    "l=list(result.keys())[1:]"
   ]
  },
  {
   "cell_type": "code",
   "execution_count": null,
   "metadata": {},
   "outputs": [],
   "source": [
    "if os.path.exists(outdir):\n",
    "    shutil.rmtree(outdir)"
   ]
  }
 ],
 "metadata": {
  "interpreter": {
   "hash": "3756e50263641124812bebbe71b3301d6fe5d90f19e89fc330b3e20fa5370427"
  },
  "kernelspec": {
   "display_name": "Python 3.10.0 64-bit ('algo': venv)",
   "language": "python",
   "name": "python3"
  },
  "language_info": {
   "codemirror_mode": {
    "name": "ipython",
    "version": 3
   },
   "file_extension": ".py",
   "mimetype": "text/x-python",
   "name": "python",
   "nbconvert_exporter": "python",
   "pygments_lexer": "ipython3",
   "version": "3.10.0"
  },
  "orig_nbformat": 4
 },
 "nbformat": 4,
 "nbformat_minor": 2
}
