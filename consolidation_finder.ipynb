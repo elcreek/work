{
 "cells": [
  {
   "cell_type": "code",
   "execution_count": 46,
   "metadata": {},
   "outputs": [],
   "source": [
    "\n",
    "\n",
    "import numpy as np\n",
    "import matplotlib.pyplot as plt\n",
    "import pandas as pd\n",
    "# import yfinance as yf\n",
    "from scipy.signal import argrelextrema\n",
    "# from collections import deque\n",
    "# from matplotlib.lines import Line2D\n",
    "import pandas_ta as ta\n",
    "import ccxt\n",
    "from datetime import datetime, timedelta\n",
    "# import plotly.graph_objects as go\n",
    "# import inspect \n",
    "import os\n",
    "# import ccxt_data_fetch\n",
    "from IPython.display import display, HTML\n",
    "from tqdm import tqdm\n"
   ]
  },
  {
   "cell_type": "code",
   "execution_count": 55,
   "metadata": {},
   "outputs": [
    {
     "name": "stdout",
     "output_type": "stream",
     "text": [
      "less than 17 ACA_USDT_4h.csv\n",
      "ACMUSDT is consolidating\n",
      "ATMUSDT is consolidating\n",
      "BARUSDT is consolidating\n",
      "BTCUSDT is consolidating\n",
      "BTTUSDT is consolidating\n",
      "BTTUSDT is breaking out\n",
      "CITYUSDT is consolidating\n",
      "CVPUSDT is consolidating\n",
      "DNTUSDT is consolidating\n",
      "ERDUSDT is consolidating\n",
      "GHSTUSDT is consolidating\n",
      "JSTUSDT is consolidating\n",
      "LAZIOUSDT is consolidating\n",
      "LSKUSDT is consolidating\n",
      "MBLUSDT is consolidating\n",
      "MLNUSDT is consolidating\n",
      "ONGUSDT is consolidating\n",
      "PHAUSDT is consolidating\n",
      "PORTOUSDT is consolidating\n",
      "SANTOSUSDT is consolidating\n",
      "STRAXUSDT is consolidating\n",
      "TRXUSDT is consolidating\n",
      "WTCUSDT is consolidating\n",
      "XLMUSDT is consolidating\n",
      "less than 17 XNO_USDT_4h.csv\n"
     ]
    }
   ],
   "source": [
    "\n",
    "\n",
    "def is_consolidating(df, percentage=6):\n",
    "    recent_candlesticks = df[-15:]\n",
    "    \n",
    "    max_close = recent_candlesticks['Close'].max()\n",
    "    min_close = recent_candlesticks['Close'].min()\n",
    "\n",
    "    threshold = 1 - (percentage / 100)\n",
    "    if min_close > (max_close * threshold):\n",
    "        return True        \n",
    "\n",
    "    return False\n",
    "\n",
    "def is_breaking_out(df, percentage=6.5):\n",
    "    last_close = df[-1:]['Close'].values[0]\n",
    "\n",
    "    if is_consolidating(df[:-1], percentage=percentage):\n",
    "        recent_closes = df[-16:-1]\n",
    "\n",
    "        if last_close > recent_closes['Close'].max():\n",
    "            return True\n",
    "\n",
    "    return False\n",
    "\n",
    "# for filename in os.listdir('datasets/daily'):\n",
    "#     df = pandas.read_csv('datasets/daily/{}'.format(filename))\n",
    "\n",
    "list_of=[]\n",
    "timeframe='4h'\n",
    "\n",
    "# dirr = f\"C:/Users/Grant/Desktop/work_git/work/data/2022-01-28_12/{timeframe}\"\n",
    "outdir=f\"{os.getcwd()}/data/{timeframe}\"\n",
    "\n",
    "for filename in os.listdir(outdir):\n",
    "    # symbol = (filename.replace(f\"_{tf}.csv\",\"\")).replace(\"_\",\"\")\n",
    "    symbol = filename.replace(f\"_{timeframe}.csv\",\"\")\n",
    "    df = pd.read_csv(f\"{outdir}/{filename}\", index_col='Time')\n",
    "    if len(df) > 17:\n",
    "        if is_consolidating(df, percentage=6.5):\n",
    "            print(\"{} is consolidating\".format(symbol))\n",
    "            list_of.append(symbol)\n",
    "\n",
    "\n",
    "        if is_breaking_out(df):\n",
    "            print(\"{} is breaking out\".format(symbol))\n",
    "    else:\n",
    "        print('less than 17', filename)\n",
    "        # continue"
   ]
  }
 ],
 "metadata": {
  "interpreter": {
   "hash": "3756e50263641124812bebbe71b3301d6fe5d90f19e89fc330b3e20fa5370427"
  },
  "kernelspec": {
   "display_name": "Python 3.10.0 64-bit ('algo': venv)",
   "language": "python",
   "name": "python3"
  },
  "language_info": {
   "codemirror_mode": {
    "name": "ipython",
    "version": 3
   },
   "file_extension": ".py",
   "mimetype": "text/x-python",
   "name": "python",
   "nbconvert_exporter": "python",
   "pygments_lexer": "ipython3",
   "version": "3.10.0"
  },
  "orig_nbformat": 4
 },
 "nbformat": 4,
 "nbformat_minor": 2
}
