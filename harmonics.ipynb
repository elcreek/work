{
 "cells": [
  {
   "cell_type": "code",
   "execution_count": 73,
   "metadata": {},
   "outputs": [],
   "source": [
    "# https://www.youtube.com/watch?v=tGpMb8R9D9M&t=994s\n"
   ]
  },
  {
   "cell_type": "code",
   "execution_count": 74,
   "metadata": {},
   "outputs": [],
   "source": [
    "import pandas as pd\n",
    "import numpy as np\n",
    "from scipy.signal import argrelextrema\n"
   ]
  },
  {
   "cell_type": "code",
   "execution_count": 75,
   "metadata": {},
   "outputs": [],
   "source": [
    "df = pd.read_csv(f\"C:\\\\Users\\Grant\\Desktop\\work_git\\work\\data\\\\4h\\FETUSDT_4h.csv\")"
   ]
  },
  {
   "cell_type": "code",
   "execution_count": 76,
   "metadata": {},
   "outputs": [],
   "source": [
    "df.Time = pd.to_datetime(df.Time, format='%Y.%m.%d %H:%M:%S.%f')\n",
    "df = df.set_index(df.Time)\n"
   ]
  },
  {
   "cell_type": "code",
   "execution_count": 94,
   "metadata": {},
   "outputs": [
    {
     "data": {
      "text/plain": [
       "Time\n",
       "2021-11-21    0.806\n",
       "Name: Close, dtype: float64"
      ]
     },
     "execution_count": 94,
     "metadata": {},
     "output_type": "execute_result"
    }
   ],
   "source": [
    "price = df.Close.iloc[:100]\n",
    "max_idx = argrelextrema(price.values, np.greater, order=1)[0]\n",
    "min_idx = argrelextrema(price.values, np.less, order=1)[0]\n",
    "# print(max_idx)\n",
    "# print(min_idx)\n",
    "# print(price[:100])\n",
    "\n",
    "\n",
    "# price[\"2021-11-28 12:00:00\"]\n",
    "\n",
    "# price.index[price.iloc[2]]\n",
    "\n",
    "# print(np.where(index==price.iloc[11])[0])\n",
    "\n",
    "# print(np.where(price==0.823)[0])\n",
    "\n",
    "\n",
    "price.iloc[np.where(price==0.8060)[0]]\n",
    "\n"
   ]
  },
  {
   "cell_type": "code",
   "execution_count": 96,
   "metadata": {},
   "outputs": [
    {
     "name": "stdout",
     "output_type": "stream",
     "text": [
      "    a  b  c\n",
      "b          \n",
      "aa  1  2  3\n",
      "bb  4  5  6\n",
      "[0]\n",
      "[1]\n"
     ]
    }
   ],
   "source": []
  },
  {
   "cell_type": "code",
   "execution_count": null,
   "metadata": {},
   "outputs": [],
   "source": [
    "#  from index get ordinal position\n",
    "price.index.get_loc(\"2021-11-28 12:00:00\")\n",
    "\n",
    "\n",
    "# from index get value\n",
    "price[\"2021-11-28 12:00:00\"]\n",
    "\n",
    "\n",
    "\n",
    "# from ordinal get index\n",
    "price.index[5]\n",
    "\n",
    "\n",
    "\n",
    "# from oridinal position get value\n",
    "price.iloc[2]\n",
    "\n",
    "\n",
    "# from value get index\n",
    "price.iloc[np.where(price==0.8060)[0]]\n",
    "\n",
    "\n",
    "# from value get ordinal\n",
    "np.where(price==0.8060)[0]\n",
    "\n"
   ]
  }
 ],
 "metadata": {
  "interpreter": {
   "hash": "4c2f98a013b216298a2e0ea35e2c604ca00c100e03aea0a00effc14efa776a80"
  },
  "kernelspec": {
   "display_name": "Python 3.10.0 64-bit ('algo': venv)",
   "language": "python",
   "name": "python3"
  },
  "language_info": {
   "codemirror_mode": {
    "name": "ipython",
    "version": 3
   },
   "file_extension": ".py",
   "mimetype": "text/x-python",
   "name": "python",
   "nbconvert_exporter": "python",
   "pygments_lexer": "ipython3",
   "version": "3.10.0"
  },
  "orig_nbformat": 4
 },
 "nbformat": 4,
 "nbformat_minor": 2
}
