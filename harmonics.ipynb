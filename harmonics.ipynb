{
 "cells": [
  {
   "cell_type": "code",
   "execution_count": 1,
   "metadata": {},
   "outputs": [],
   "source": [
    "# https://www.youtube.com/watch?v=tGpMb8R9D9M&t=994s\n"
   ]
  },
  {
   "cell_type": "code",
   "execution_count": 2,
   "metadata": {},
   "outputs": [],
   "source": [
    "import pandas as pd\n",
    "import numpy as np\n",
    "from scipy.signal import argrelextrema\n"
   ]
  },
  {
   "cell_type": "code",
   "execution_count": 9,
   "metadata": {},
   "outputs": [],
   "source": [
    "df = pd.read_csv(f\"C:\\\\Users\\Grant\\Desktop\\work_git\\work\\data\\\\4h\\FETUSDT_4h.csv\")"
   ]
  },
  {
   "cell_type": "code",
   "execution_count": null,
   "metadata": {},
   "outputs": [],
   "source": [
    "df.Time = pd.to_datetime(df.Time, format='%Y.%m.%d %H:%M:%S.%f')\n",
    "df = df.set_index(df.Time)\n"
   ]
  },
  {
   "cell_type": "code",
   "execution_count": 41,
   "metadata": {},
   "outputs": [
    {
     "name": "stdout",
     "output_type": "stream",
     "text": [
      "[ 2  8 11 14 17 23 27 29 32 36 41 46 50 52 55 59 61 64 66 70 72 77 80 85\n",
      " 88 91]\n",
      "[ 4 10 13 16 22 26 28 30 35 38 45 48 51 53 58 60 62 65 69 71 75 79 83 87\n",
      " 90 95]\n",
      "Time\n",
      "2021-11-20 12:00:00    0.7579\n",
      "2021-11-20 16:00:00    0.8049\n",
      "2021-11-20 20:00:00    0.8330\n",
      "2021-11-21 00:00:00    0.8060\n",
      "2021-11-21 04:00:00    0.8043\n",
      "                        ...  \n",
      "2021-12-06 08:00:00    0.5492\n",
      "2021-12-06 12:00:00    0.5657\n",
      "2021-12-06 16:00:00    0.5831\n",
      "2021-12-06 20:00:00    0.6039\n",
      "2021-12-07 00:00:00    0.6172\n",
      "Name: Close, Length: 100, dtype: float64\n"
     ]
    },
    {
     "data": {
      "text/plain": [
       "48"
      ]
     },
     "execution_count": 41,
     "metadata": {},
     "output_type": "execute_result"
    }
   ],
   "source": [
    "price = df.Close.iloc[:100]\n",
    "max_idx = argrelextrema(price.values, np.greater, order=1)[0]\n",
    "min_idx = argrelextrema(price.values, np.less, order=1)[0]\n",
    "print(max_idx)\n",
    "print(min_idx)\n",
    "print(price[:100])\n",
    "price.index.get_loc(\"2021-11-28 12:00:00\")\n"
   ]
  },
  {
   "cell_type": "code",
   "execution_count": null,
   "metadata": {},
   "outputs": [],
   "source": []
  }
 ],
 "metadata": {
  "interpreter": {
   "hash": "4c2f98a013b216298a2e0ea35e2c604ca00c100e03aea0a00effc14efa776a80"
  },
  "kernelspec": {
   "display_name": "Python 3.10.0 64-bit ('algo': venv)",
   "language": "python",
   "name": "python3"
  },
  "language_info": {
   "codemirror_mode": {
    "name": "ipython",
    "version": 3
   },
   "file_extension": ".py",
   "mimetype": "text/x-python",
   "name": "python",
   "nbconvert_exporter": "python",
   "pygments_lexer": "ipython3",
   "version": "3.10.0"
  },
  "orig_nbformat": 4
 },
 "nbformat": 4,
 "nbformat_minor": 2
}
