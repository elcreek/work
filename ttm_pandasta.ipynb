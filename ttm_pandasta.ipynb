{
 "cells": [
  {
   "cell_type": "code",
   "execution_count": 2,
   "metadata": {},
   "outputs": [],
   "source": [
    "import pandas as pd\n",
    "import pandas_ta as ta"
   ]
  },
  {
   "cell_type": "code",
   "execution_count": 3,
   "metadata": {},
   "outputs": [],
   "source": [
    "df=pd.read_csv(\"C:\\\\Users\\Grant\\Desktop\\work_git\\work\\data\\\\4h\\\\1INCHUSDT_4h.csv\",\\\n",
    "     index_col=['Time'], parse_dates=['Time'])"
   ]
  },
  {
   "cell_type": "code",
   "execution_count": 10,
   "metadata": {},
   "outputs": [],
   "source": [
    "# help(ta.squeeze_pro)\n",
    "\n",
    "d=ta.squeeze_pro(df.High, df.Low, df.Close)"
   ]
  },
  {
   "cell_type": "code",
   "execution_count": 22,
   "metadata": {},
   "outputs": [],
   "source": [
    "# d.index=pd.to_datetime(d.index)\n",
    "# d['cc'] = d['SQZPRO_OFF'] == 1\n",
    "d[d['SQZPRO_OFF'] == 1]\n",
    "d['i'] = d.index\n"
   ]
  }
 ],
 "metadata": {
  "interpreter": {
   "hash": "3756e50263641124812bebbe71b3301d6fe5d90f19e89fc330b3e20fa5370427"
  },
  "kernelspec": {
   "display_name": "Python 3.10.0 64-bit ('algo': venv)",
   "language": "python",
   "name": "python3"
  },
  "language_info": {
   "codemirror_mode": {
    "name": "ipython",
    "version": 3
   },
   "file_extension": ".py",
   "mimetype": "text/x-python",
   "name": "python",
   "nbconvert_exporter": "python",
   "pygments_lexer": "ipython3",
   "version": "3.10.0"
  },
  "orig_nbformat": 4
 },
 "nbformat": 4,
 "nbformat_minor": 2
}
