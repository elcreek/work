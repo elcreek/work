{
 "cells": [
  {
   "cell_type": "markdown",
   "metadata": {},
   "source": [
    "How to get the BEST performing 🚀 Cryptocurrencies over the last n hours/minutes"
   ]
  },
  {
   "cell_type": "code",
   "execution_count": 1,
   "metadata": {},
   "outputs": [],
   "source": [
    "import pandas as pd\n",
    "from tqdm import tqdm\n",
    "from binance.client import Client"
   ]
  },
  {
   "cell_type": "code",
   "execution_count": 7,
   "metadata": {},
   "outputs": [],
   "source": [
    "# inefficient way\n",
    "\n",
    "# info = client.get_exchange_info()\n",
    "# symbols = [x['symbol'] for x in info['symbols']]\n",
    "\n",
    "#better way \n",
    "\n",
    "api_key = ''\n",
    "api_secret = ''\n",
    "\n",
    "client = Client(api_key, api_secret)\n",
    "tickers = client.get_all_tickers()"
   ]
  },
  {
   "cell_type": "code",
   "execution_count": 29,
   "metadata": {},
   "outputs": [
    {
     "data": {
      "text/plain": [
       "1830"
      ]
     },
     "execution_count": 29,
     "metadata": {},
     "output_type": "execute_result"
    }
   ],
   "source": [
    "\n",
    "ticker_list = []\n",
    "for i in range(len(tickers)-1):\n",
    "    ticker_list.append(tickers[i]['symbol'])\n",
    "\n",
    "len(ticker_list)\n"
   ]
  },
  {
   "cell_type": "code",
   "execution_count": 33,
   "metadata": {},
   "outputs": [
    {
     "data": {
      "text/plain": [
       "1767"
      ]
     },
     "execution_count": 33,
     "metadata": {},
     "output_type": "execute_result"
    }
   ],
   "source": [
    "excludes = ['UP', 'DOWN', 'BEAR', 'BULL']\n",
    "non_lev = [ticker for ticker in ticker_list if all(exclude not in ticker for exclude in excludes)]\n",
    "len(non_lev)"
   ]
  },
  {
   "cell_type": "code",
   "execution_count": 37,
   "metadata": {},
   "outputs": [
    {
     "data": {
      "text/plain": [
       "318"
      ]
     },
     "execution_count": 37,
     "metadata": {},
     "output_type": "execute_result"
    }
   ],
   "source": [
    "usdts = [ticker for ticker in non_lev if ticker.endswith('USDT')]\n",
    "len(usdts)\n"
   ]
  },
  {
   "cell_type": "code",
   "execution_count": 39,
   "metadata": {},
   "outputs": [],
   "source": [
    "df = pd.DataFrame(usdts)\n",
    "df.to_csv('tickers.csv')"
   ]
  },
  {
   "cell_type": "code",
   "execution_count": null,
   "metadata": {},
   "outputs": [],
   "source": [
    "# klines = {}\n",
    "# for symbol in tqdm(usdts):\n",
    "#     klines[symbol] = client.get_historical_klines(symbol, '1h', '1 hour ago UTC')"
   ]
  },
  {
   "cell_type": "code",
   "execution_count": 9,
   "metadata": {},
   "outputs": [],
   "source": [
    "\n",
    "data = client.get_historical_klines('ETHUSDT', Client.KLINE_INTERVAL_4HOUR, '1 Jan, 2016')\n",
    "data = pd.DataFrame(data)\n",
    "data.to_csv(\"data/{}.csv\".format('ETHUSDT'))"
   ]
  },
  {
   "cell_type": "code",
   "execution_count": 10,
   "metadata": {},
   "outputs": [
    {
     "data": {
      "text/html": [
       "<div>\n",
       "<style scoped>\n",
       "    .dataframe tbody tr th:only-of-type {\n",
       "        vertical-align: middle;\n",
       "    }\n",
       "\n",
       "    .dataframe tbody tr th {\n",
       "        vertical-align: top;\n",
       "    }\n",
       "\n",
       "    .dataframe thead th {\n",
       "        text-align: right;\n",
       "    }\n",
       "</style>\n",
       "<table border=\"1\" class=\"dataframe\">\n",
       "  <thead>\n",
       "    <tr style=\"text-align: right;\">\n",
       "      <th></th>\n",
       "      <th>Unnamed: 0</th>\n",
       "      <th>0</th>\n",
       "      <th>1</th>\n",
       "      <th>2</th>\n",
       "      <th>3</th>\n",
       "      <th>4</th>\n",
       "      <th>5</th>\n",
       "      <th>6</th>\n",
       "      <th>7</th>\n",
       "      <th>8</th>\n",
       "      <th>9</th>\n",
       "      <th>10</th>\n",
       "      <th>11</th>\n",
       "    </tr>\n",
       "  </thead>\n",
       "  <tbody>\n",
       "    <tr>\n",
       "      <th>0</th>\n",
       "      <td>0</td>\n",
       "      <td>1502942400000</td>\n",
       "      <td>301.13</td>\n",
       "      <td>307.96</td>\n",
       "      <td>298.00</td>\n",
       "      <td>307.96</td>\n",
       "      <td>1561.95305</td>\n",
       "      <td>1502956799999</td>\n",
       "      <td>4.734877e+05</td>\n",
       "      <td>711</td>\n",
       "      <td>1260.38649</td>\n",
       "      <td>3.820972e+05</td>\n",
       "      <td>46884.543391</td>\n",
       "    </tr>\n",
       "    <tr>\n",
       "      <th>1</th>\n",
       "      <td>1</td>\n",
       "      <td>1502956800000</td>\n",
       "      <td>307.95</td>\n",
       "      <td>312.00</td>\n",
       "      <td>307.00</td>\n",
       "      <td>308.95</td>\n",
       "      <td>1177.71088</td>\n",
       "      <td>1502971199999</td>\n",
       "      <td>3.645453e+05</td>\n",
       "      <td>775</td>\n",
       "      <td>1093.84885</td>\n",
       "      <td>3.385876e+05</td>\n",
       "      <td>46866.630800</td>\n",
       "    </tr>\n",
       "    <tr>\n",
       "      <th>2</th>\n",
       "      <td>2</td>\n",
       "      <td>1502971200000</td>\n",
       "      <td>308.95</td>\n",
       "      <td>310.51</td>\n",
       "      <td>303.56</td>\n",
       "      <td>307.06</td>\n",
       "      <td>1882.05267</td>\n",
       "      <td>1502985599999</td>\n",
       "      <td>5.786449e+05</td>\n",
       "      <td>1140</td>\n",
       "      <td>1742.14642</td>\n",
       "      <td>5.356271e+05</td>\n",
       "      <td>47528.189091</td>\n",
       "    </tr>\n",
       "    <tr>\n",
       "      <th>3</th>\n",
       "      <td>3</td>\n",
       "      <td>1502985600000</td>\n",
       "      <td>307.74</td>\n",
       "      <td>312.18</td>\n",
       "      <td>298.21</td>\n",
       "      <td>301.60</td>\n",
       "      <td>1208.05192</td>\n",
       "      <td>1502999999999</td>\n",
       "      <td>3.702091e+05</td>\n",
       "      <td>957</td>\n",
       "      <td>1097.32020</td>\n",
       "      <td>3.365462e+05</td>\n",
       "      <td>48886.753370</td>\n",
       "    </tr>\n",
       "    <tr>\n",
       "      <th>4</th>\n",
       "      <td>4</td>\n",
       "      <td>1503000000000</td>\n",
       "      <td>301.60</td>\n",
       "      <td>310.85</td>\n",
       "      <td>299.01</td>\n",
       "      <td>302.00</td>\n",
       "      <td>1200.94182</td>\n",
       "      <td>1503014399999</td>\n",
       "      <td>3.677683e+05</td>\n",
       "      <td>939</td>\n",
       "      <td>1030.88803</td>\n",
       "      <td>3.158473e+05</td>\n",
       "      <td>50579.872288</td>\n",
       "    </tr>\n",
       "    <tr>\n",
       "      <th>...</th>\n",
       "      <td>...</td>\n",
       "      <td>...</td>\n",
       "      <td>...</td>\n",
       "      <td>...</td>\n",
       "      <td>...</td>\n",
       "      <td>...</td>\n",
       "      <td>...</td>\n",
       "      <td>...</td>\n",
       "      <td>...</td>\n",
       "      <td>...</td>\n",
       "      <td>...</td>\n",
       "      <td>...</td>\n",
       "      <td>...</td>\n",
       "    </tr>\n",
       "    <tr>\n",
       "      <th>9420</th>\n",
       "      <td>9420</td>\n",
       "      <td>1638835200000</td>\n",
       "      <td>4347.57</td>\n",
       "      <td>4386.91</td>\n",
       "      <td>4298.59</td>\n",
       "      <td>4341.57</td>\n",
       "      <td>82969.64300</td>\n",
       "      <td>1638849599999</td>\n",
       "      <td>3.601499e+08</td>\n",
       "      <td>159621</td>\n",
       "      <td>42599.10260</td>\n",
       "      <td>1.849487e+08</td>\n",
       "      <td>0.000000</td>\n",
       "    </tr>\n",
       "    <tr>\n",
       "      <th>9421</th>\n",
       "      <td>9421</td>\n",
       "      <td>1638849600000</td>\n",
       "      <td>4341.56</td>\n",
       "      <td>4385.22</td>\n",
       "      <td>4330.00</td>\n",
       "      <td>4352.90</td>\n",
       "      <td>59460.89610</td>\n",
       "      <td>1638863999999</td>\n",
       "      <td>2.588409e+08</td>\n",
       "      <td>129727</td>\n",
       "      <td>31647.47570</td>\n",
       "      <td>1.377556e+08</td>\n",
       "      <td>0.000000</td>\n",
       "    </tr>\n",
       "    <tr>\n",
       "      <th>9422</th>\n",
       "      <td>9422</td>\n",
       "      <td>1638864000000</td>\n",
       "      <td>4352.91</td>\n",
       "      <td>4425.00</td>\n",
       "      <td>4346.24</td>\n",
       "      <td>4408.33</td>\n",
       "      <td>79190.42760</td>\n",
       "      <td>1638878399999</td>\n",
       "      <td>3.481994e+08</td>\n",
       "      <td>194948</td>\n",
       "      <td>41054.65490</td>\n",
       "      <td>1.805076e+08</td>\n",
       "      <td>0.000000</td>\n",
       "    </tr>\n",
       "    <tr>\n",
       "      <th>9423</th>\n",
       "      <td>9423</td>\n",
       "      <td>1638878400000</td>\n",
       "      <td>4408.42</td>\n",
       "      <td>4417.87</td>\n",
       "      <td>4330.59</td>\n",
       "      <td>4386.59</td>\n",
       "      <td>84010.91490</td>\n",
       "      <td>1638892799999</td>\n",
       "      <td>3.672282e+08</td>\n",
       "      <td>204944</td>\n",
       "      <td>40842.13840</td>\n",
       "      <td>1.785547e+08</td>\n",
       "      <td>0.000000</td>\n",
       "    </tr>\n",
       "    <tr>\n",
       "      <th>9424</th>\n",
       "      <td>9424</td>\n",
       "      <td>1638892800000</td>\n",
       "      <td>4386.59</td>\n",
       "      <td>4405.00</td>\n",
       "      <td>4283.74</td>\n",
       "      <td>4312.71</td>\n",
       "      <td>44550.97920</td>\n",
       "      <td>1638907199999</td>\n",
       "      <td>1.932270e+08</td>\n",
       "      <td>104890</td>\n",
       "      <td>20904.09840</td>\n",
       "      <td>9.068766e+07</td>\n",
       "      <td>0.000000</td>\n",
       "    </tr>\n",
       "  </tbody>\n",
       "</table>\n",
       "<p>9425 rows × 13 columns</p>\n",
       "</div>"
      ],
      "text/plain": [
       "      Unnamed: 0              0        1        2        3        4  \\\n",
       "0              0  1502942400000   301.13   307.96   298.00   307.96   \n",
       "1              1  1502956800000   307.95   312.00   307.00   308.95   \n",
       "2              2  1502971200000   308.95   310.51   303.56   307.06   \n",
       "3              3  1502985600000   307.74   312.18   298.21   301.60   \n",
       "4              4  1503000000000   301.60   310.85   299.01   302.00   \n",
       "...          ...            ...      ...      ...      ...      ...   \n",
       "9420        9420  1638835200000  4347.57  4386.91  4298.59  4341.57   \n",
       "9421        9421  1638849600000  4341.56  4385.22  4330.00  4352.90   \n",
       "9422        9422  1638864000000  4352.91  4425.00  4346.24  4408.33   \n",
       "9423        9423  1638878400000  4408.42  4417.87  4330.59  4386.59   \n",
       "9424        9424  1638892800000  4386.59  4405.00  4283.74  4312.71   \n",
       "\n",
       "                5              6             7       8            9  \\\n",
       "0      1561.95305  1502956799999  4.734877e+05     711   1260.38649   \n",
       "1      1177.71088  1502971199999  3.645453e+05     775   1093.84885   \n",
       "2      1882.05267  1502985599999  5.786449e+05    1140   1742.14642   \n",
       "3      1208.05192  1502999999999  3.702091e+05     957   1097.32020   \n",
       "4      1200.94182  1503014399999  3.677683e+05     939   1030.88803   \n",
       "...           ...            ...           ...     ...          ...   \n",
       "9420  82969.64300  1638849599999  3.601499e+08  159621  42599.10260   \n",
       "9421  59460.89610  1638863999999  2.588409e+08  129727  31647.47570   \n",
       "9422  79190.42760  1638878399999  3.481994e+08  194948  41054.65490   \n",
       "9423  84010.91490  1638892799999  3.672282e+08  204944  40842.13840   \n",
       "9424  44550.97920  1638907199999  1.932270e+08  104890  20904.09840   \n",
       "\n",
       "                10            11  \n",
       "0     3.820972e+05  46884.543391  \n",
       "1     3.385876e+05  46866.630800  \n",
       "2     5.356271e+05  47528.189091  \n",
       "3     3.365462e+05  48886.753370  \n",
       "4     3.158473e+05  50579.872288  \n",
       "...            ...           ...  \n",
       "9420  1.849487e+08      0.000000  \n",
       "9421  1.377556e+08      0.000000  \n",
       "9422  1.805076e+08      0.000000  \n",
       "9423  1.785547e+08      0.000000  \n",
       "9424  9.068766e+07      0.000000  \n",
       "\n",
       "[9425 rows x 13 columns]"
      ]
     },
     "execution_count": 10,
     "metadata": {},
     "output_type": "execute_result"
    }
   ],
   "source": [
    "df = pd.read_csv(\"data/ETHUSDT.csv\")\n",
    "df"
   ]
  }
 ],
 "metadata": {
  "interpreter": {
   "hash": "5a6e9528aa850de18c08131df015ab137a517634069ec846733f18057169b425"
  },
  "kernelspec": {
   "display_name": "Python 3.10.0 64-bit ('fintech': venv)",
   "language": "python",
   "name": "python3"
  },
  "language_info": {
   "codemirror_mode": {
    "name": "ipython",
    "version": 3
   },
   "file_extension": ".py",
   "mimetype": "text/x-python",
   "name": "python",
   "nbconvert_exporter": "python",
   "pygments_lexer": "ipython3",
   "version": "3.10.0"
  },
  "orig_nbformat": 4
 },
 "nbformat": 4,
 "nbformat_minor": 2
}
