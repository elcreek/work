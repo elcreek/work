{
 "cells": [
  {
   "cell_type": "code",
   "execution_count": 2,
   "metadata": {},
   "outputs": [],
   "source": [
    "from binance import Client\n",
    "\n",
    "\n",
    "api_key = '0Tbt22Cx2LDoKFIKRdabh4BXmVOzJggkhvCJ9GvgyzYT1wqfpgTqilOIYJrqkc5l'\n",
    "api_secret = 'ucOlFt3RB72gzAoxaHKFTNFTTIUDcayK8qMQFkvzqOuugtuqG4WqQbknmcFZvpfR'\n",
    "\n"
   ]
  },
  {
   "cell_type": "code",
   "execution_count": 16,
   "metadata": {},
   "outputs": [],
   "source": [
    "client = Client(api_key, api_secret)\n",
    "prices = client.get_all_tickers()\n",
    "# klines = client.get_historical_klines(\"EOSETH\", Client.KLINE_INTERVAL_4HOUR, \"1 day ago UTC\")\n"
   ]
  }
 ],
 "metadata": {
  "interpreter": {
   "hash": "5a6e9528aa850de18c08131df015ab137a517634069ec846733f18057169b425"
  },
  "kernelspec": {
   "display_name": "Python 3.10.0 64-bit ('fintech': venv)",
   "language": "python",
   "name": "python3"
  },
  "language_info": {
   "codemirror_mode": {
    "name": "ipython",
    "version": 3
   },
   "file_extension": ".py",
   "mimetype": "text/x-python",
   "name": "python",
   "nbconvert_exporter": "python",
   "pygments_lexer": "ipython3",
   "version": "3.10.0"
  },
  "orig_nbformat": 4
 },
 "nbformat": 4,
 "nbformat_minor": 2
}
