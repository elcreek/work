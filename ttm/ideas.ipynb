{
 "cells": [
  {
   "cell_type": "code",
   "execution_count": null,
   "metadata": {},
   "outputs": [],
   "source": [
    "# idea 1 : upstreak finder\n",
    "# a script that gets all the consecitive green candles \n",
    "# then calculate the diffrence between first and last closes \n",
    "# if the diff above 5% consider it as legit\n",
    "# maube use heikn ashi\n",
    "# if there are 2 or one red candles inside, no problem\n",
    "# then study what happend during that up streak\n",
    "# test diffrent indicators one at a time \n",
    "# it will take few weeks dont rush it"
   ]
  },
  {
   "cell_type": "code",
   "execution_count": null,
   "metadata": {},
   "outputs": [],
   "source": [
    "# idea 2 :  divergence finder\n",
    "# look for hidden divergence in indicators"
   ]
  },
  {
   "cell_type": "code",
   "execution_count": null,
   "metadata": {},
   "outputs": [],
   "source": [
    "# idea 3: consolidation finder\n",
    "# draw a lines from the top to the botom of the chart\n",
    "# the line with the most intercepts is where the consolidation happend"
   ]
  },
  {
   "cell_type": "code",
   "execution_count": null,
   "metadata": {},
   "outputs": [],
   "source": [
    "# Envelope Breakout Alerts (Heikin Ashi)\n"
   ]
  },
  {
   "cell_type": "code",
   "execution_count": null,
   "metadata": {},
   "outputs": [],
   "source": [
    "# ema envelopr "
   ]
  },
  {
   "cell_type": "code",
   "execution_count": null,
   "metadata": {},
   "outputs": [],
   "source": [
    "# envelope reverse strategy \n",
    "# crazy gains !!"
   ]
  },
  {
   "cell_type": "code",
   "execution_count": null,
   "metadata": {},
   "outputs": [],
   "source": [
    "#  Faith Indicator eykpunter"
   ]
  },
  {
   "cell_type": "code",
   "execution_count": null,
   "metadata": {},
   "outputs": [],
   "source": [
    "# fib extension level abroching warning\n",
    "# with hiher high higher low indicator"
   ]
  },
  {
   "cell_type": "code",
   "execution_count": null,
   "metadata": {},
   "outputs": [],
   "source": [
    "# combination of heikin ashi and ema envelope and super trend"
   ]
  },
  {
   "cell_type": "code",
   "execution_count": null,
   "metadata": {},
   "outputs": [],
   "source": [
    "# divergence of indicators like chaikin money flow and macd ...."
   ]
  }
 ],
 "metadata": {
  "language_info": {
   "name": "python"
  },
  "orig_nbformat": 4
 },
 "nbformat": 4,
 "nbformat_minor": 2
}
