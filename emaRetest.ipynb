{
 "cells": [
  {
   "cell_type": "code",
   "execution_count": 47,
   "metadata": {},
   "outputs": [],
   "source": [
    "import pandas as pd\n",
    "import numpy as np\n",
    "\n",
    "import datetime as dt\n",
    "from binance.client import Client\n",
    "\n",
    "\n",
    "#import os\n",
    "import telebot\n",
    "\n",
    "client = Client()\n",
    "\n",
    "import config\n",
    "API_KEY = config.API_KEY\n",
    "\n",
    "bot = telebot.TeleBot(API_KEY)\n"
   ]
  },
  {
   "cell_type": "code",
   "execution_count": 48,
   "metadata": {},
   "outputs": [],
   "source": [
    "\n",
    "\n",
    "client=Client()\n",
    "\n",
    "def get_historical_ohlc_data(symbol,days=35,interval='1h'):\n",
    "\n",
    "    df=pd.DataFrame(client.get_historical_klines(symbol=symbol,start_str=f\"{days} days ago UTC\",interval=interval))\n",
    "\n",
    "    df.columns=['open_time','open', 'high', 'low', 'close', 'volume', 'close_time', 'qav', 'num_trades', 'taker_base_vol', 'taker_quote_vol','is_best_match']\n",
    "    df['open_date_time']=[dt.datetime.fromtimestamp(x/1000) for x in df.open_time]\n",
    "    # df['symbol']=symbol\n",
    "    df=df[['open_date_time','open', 'high', 'low', 'close', 'volume']]\n",
    "    df.set_index('open_date_time', inplace=True)\n",
    "\n",
    "\n",
    "    return df[:-1]\n",
    "\n",
    "\n",
    "    \n"
   ]
  },
  {
   "cell_type": "code",
   "execution_count": 49,
   "metadata": {},
   "outputs": [],
   "source": [
    "def clc(df):\n",
    "\n",
    "    # df['ema50'] = pd.to_numeric(df[\"close\"].rolling(50).mean())\n",
    "    # df['ema200'] = pd.to_numeric(df[\"close\"].rolling(200).mean())\n",
    "\n",
    "    df['sma200'] = pd.to_numeric(df[\"close\"].rolling(200).mean())\n",
    "    # df['ema200'] = pd.to_numeric(df['Close'].ewm(span=200,min_periods=0,adjust=False,ignore_na=False).mean())\n",
    "    df['low'] = pd.to_numeric(df['low'])\n",
    "    df['close'] = pd.to_numeric(df['close'])\n",
    "\n",
    "\n",
    "\n",
    "    # df['que'] = np.where((df['rsi'] < (df['ema_rsi']+df['ema_rsi']*0.03)) & (df['rsi'] > (df['ema_rsi']-df['ema_rsi']*0.03)), 1, 0)\n",
    "    df['que'] = np.where((df['close'] <= (df['sma200']+df['sma200']*0.01)) & (df['low'] >= df['sma200']), 1, 0)\n",
    "\n",
    "    # if df.index[-1].strftime('%d-%m-%Y') == pd.to_datetime(\"today\").strftime('%d-%m-%Y'):\n",
    "        \n",
    "\n",
    "    if (df['que'].iloc[-1] == 1) or (df['que'].iloc[-2] == 1) :\n",
    "        candy.append(f\"{symbol}, {df.index[-1]}\")"
   ]
  },
  {
   "cell_type": "code",
   "execution_count": 50,
   "metadata": {},
   "outputs": [],
   "source": [
    "\n",
    "timeframes = [\"1h\"]\n",
    "\n",
    "# 'VTHOBTC', 'BSVUSDT', 'BSVBTC', 'CKBBTC', 'SCBTC'\n",
    "# pairs= ['AR/USDT', 'SYS/USDT', 'BSV/USDT', 'CKB/USDT', 'CTXC/USDT', 'DOGE/USDT', 'ETC/USDT', 'FIL/USDT', 'FIRO/USDT', 'LTC/USDT', 'KMD/USDT', 'RVN/USDT', 'SC/USDT', 'XLM/USDT', 'XMR/USDT', 'XRP/USDT', 'ZEC/USDT', 'ZEN/USDT', 'DGB/USDT', 'DASH/USDT', 'BCH/USDT', 'RNDR/USDT', 'VET/USDT', 'VTHO/USDT', 'KDA/USDT', 'NKN/USDT', 'AR/BTC', 'SYS/BTC', 'CTXC/BTC', 'DOGE/BTC', 'ETC/BTC', 'FIL/BTC', 'FIRO/BTC', 'LTC/BTC', 'KMD/BTC', 'RVN/BTC', 'SC/BTC', 'XLM/BTC', 'XMR/BTC', 'XRP/BTC', 'ZEC/BTC', 'ZEN/BTC', 'DGB/BTC', 'DASH/BTC', 'BCH/BTC', 'RNDR/BTC', 'VET/BTC', 'KDA/BTC', 'NKN/BTC']\n",
    "\n",
    "pairs= ['ARUSDT', 'SYSUSDT', 'CKBUSDT', 'CTXCUSDT', 'DOGEUSDT', 'ETCUSDT', 'FILUSDT', 'FIROUSDT', 'LTCUSDT', 'KMDUSDT', 'RVNUSDT', 'SCUSDT', 'XLMUSDT', 'XMRUSDT', 'XRPUSDT', 'ZECUSDT', 'ZENUSDT', 'DGBUSDT', 'DASHUSDT', 'BCHUSDT', 'RNDRUSDT', 'VETUSDT', 'VTHOUSDT', 'KDAUSDT', 'NKNUSDT', 'ARBTC', 'SYSBTC', 'CTXCBTC', 'DOGEBTC', 'ETCBTC', 'FILBTC', 'FIROBTC', 'LTCBTC', 'KMDBTC', 'RVNBTC', 'XLMBTC', 'XMRBTC', 'XRPBTC', 'ZECBTC', 'ZENBTC', 'DGBBTC', 'DASHBTC', 'BCHBTC', 'RNDRBTC', 'VETBTC', 'KDABTC', 'NKNBTC']\n",
    "\n",
    "# pairs=['BNBUSDT']\n",
    "\n",
    "candy =[]\n",
    "\n",
    "for timeframe in timeframes:\n",
    "\n",
    "    for symbol in pairs:\n",
    "\n",
    "        # if symbol in symbols:\n",
    "\n",
    "        df = get_historical_ohlc_data(symbol, interval=timeframe)\n",
    "        \n",
    "        clc(df)\n"
   ]
  },
  {
   "cell_type": "code",
   "execution_count": 51,
   "metadata": {},
   "outputs": [
    {
     "data": {
      "text/plain": [
       "['ARUSDT, 2022-07-10 12:00:00',\n",
       " 'XLMUSDT, 2022-07-10 12:00:00',\n",
       " 'XMRUSDT, 2022-07-10 12:00:00',\n",
       " 'CTXCBTC, 2022-07-10 12:00:00',\n",
       " 'DGBBTC, 2022-07-10 12:00:00']"
      ]
     },
     "execution_count": 51,
     "metadata": {},
     "output_type": "execute_result"
    }
   ],
   "source": [
    "candy"
   ]
  },
  {
   "cell_type": "code",
   "execution_count": 52,
   "metadata": {},
   "outputs": [],
   "source": [
    "# df[df['que'] == 1]"
   ]
  }
 ],
 "metadata": {
  "kernelspec": {
   "display_name": "Python 3.10.0 64-bit ('algo': venv)",
   "language": "python",
   "name": "python3"
  },
  "language_info": {
   "codemirror_mode": {
    "name": "ipython",
    "version": 3
   },
   "file_extension": ".py",
   "mimetype": "text/x-python",
   "name": "python",
   "nbconvert_exporter": "python",
   "pygments_lexer": "ipython3",
   "version": "3.10.0"
  },
  "orig_nbformat": 4,
  "vscode": {
   "interpreter": {
    "hash": "4c2f98a013b216298a2e0ea35e2c604ca00c100e03aea0a00effc14efa776a80"
   }
  }
 },
 "nbformat": 4,
 "nbformat_minor": 2
}
