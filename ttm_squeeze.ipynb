{
 "cells": [
  {
   "cell_type": "code",
   "execution_count": 23,
   "metadata": {},
   "outputs": [],
   "source": [
    "\n",
    "import numpy as np\n",
    "import matplotlib.pyplot as plt\n",
    "import pandas as pd\n",
    "from scipy.signal import argrelextrema\n",
    "# from collections import deque\n",
    "# from matplotlib.lines import Line2D\n",
    "import pandas_ta as ta\n",
    "from datetime import datetime, timedelta\n",
    "import os\n",
    "from IPython.display import display, HTML\n",
    "from tqdm import tqdm\n",
    "import plotly.graph_objects as go"
   ]
  },
  {
   "cell_type": "code",
   "execution_count": 24,
   "metadata": {},
   "outputs": [
    {
     "name": "stdout",
     "output_type": "stream",
     "text": [
      "ASRUSDT is in the squeeze\n",
      "AUCTIONUSDT is in the squeeze\n",
      "CVPUSDT is in the squeeze\n",
      "DFUSDT is in the squeeze\n",
      "DNTUSDT is in the squeeze\n",
      "DREPUSDT is in the squeeze\n",
      "GHSTUSDT is in the squeeze\n",
      "LAZIOUSDT is in the squeeze\n",
      "MBOXUSDT is in the squeeze\n",
      "MFTUSDT is in the squeeze\n",
      "PHAUSDT is in the squeeze\n",
      "SANTOSUSDT is in the squeeze\n",
      "TCTUSDT is in the squeeze\n",
      "Stored 'list_of_candidate' (list)\n"
     ]
    }
   ],
   "source": [
    "\n",
    "\n",
    "dataframes = {}\n",
    "\n",
    "list_of_candidate=[]\n",
    "\n",
    "timeframe='4h'\n",
    "outdir=f\"{os.getcwd()}/data/{timeframe}\"\n",
    "\n",
    "\n",
    "for filename in os.listdir(outdir):\n",
    "    # symbol = filename.replace(f\"_{timeframe}.csv\",\"\")\n",
    "    symbol = filename.split(\"_\")[0]\n",
    "    df = pd.read_csv(f\"{outdir}/{filename}\", index_col='Time')\n",
    "    # if len(df) > 17:\n",
    "\n",
    "# for filename in os.listdir('datasets'):\n",
    "    #print(filename)\n",
    "    # symbol = filename.split(\".\")[0]\n",
    "    #print(symbol)\n",
    "    # df = pandas.read_csv('datasets/{}'.format(filename))\n",
    "    if df.empty:\n",
    "        continue\n",
    "\n",
    "    df['20sma'] = df['Close'].rolling(window=20).mean()\n",
    "    df['stddev'] = df['Close'].rolling(window=20).std()\n",
    "    df['lower_band'] = df['20sma'] - (2 * df['stddev'])\n",
    "    df['upper_band'] = df['20sma'] + (2 * df['stddev'])\n",
    "\n",
    "    df['TR'] = abs(df['High'] - df['Low'])\n",
    "    df['ATR'] = df['TR'].rolling(window=20).mean()\n",
    "\n",
    "    df['lower_keltner'] = df['20sma'] - (df['ATR'] * 1.5)\n",
    "    df['upper_keltner'] = df['20sma'] + (df['ATR'] * 1.5)\n",
    "\n",
    "    def in_squeeze(df):\n",
    "        return df['lower_band'] > df['lower_keltner'] and df['upper_band'] < df['upper_keltner']\n",
    "\n",
    "    df['squeeze_on'] = df.apply(in_squeeze, axis=1)\n",
    "\n",
    "    # if (df.iloc[-3]['squeeze_on']) and (not df.iloc[-1]['squeeze_on']):\n",
    "    #     print(\"{} is coming out the squeeze\".format(symbol))\n",
    "    #     list_of_candidate.append(symbol)\n",
    "\n",
    "    # if df.iloc[-1]['squeeze_on'] and df.iloc[-2]['squeeze_on'] and df.iloc[-3]['squeeze_on'] and df.iloc[-4]['squeeze_on'] and df.iloc[-5]['squeeze_on'] and df.iloc[-1]['squeeze_on']:\n",
    "    #     print(\"{} is in the squeeze\".format(symbol))\n",
    "\n",
    "\n",
    "    counter=0\n",
    "    n=33\n",
    "    for i in range(1, n+1):\n",
    "        if df.iloc[-i]['squeeze_on']:\n",
    "            counter+=1\n",
    "    if counter == n:\n",
    "        print(\"{} is in the squeeze\".format(symbol))\n",
    "\n",
    "\n",
    "\n",
    "    # save all dataframes to a dictionary\n",
    "    # we can chart individual names below by calling the chart() function\n",
    "    dataframes[symbol] = df\n",
    "\n",
    "\n",
    "\n",
    "\n",
    "def chart(df):\n",
    "    candlestick = go.Candlestick(x=df.index, open=df['Open'], high=df['High'], low=df['Low'], close=df['Close'])\n",
    "    upper_band = go.Scatter(x=df.index, y=df['upper_band'], name='Upper Bollinger Band', line={'color': 'red'})\n",
    "    lower_band = go.Scatter(x=df.index, y=df['lower_band'], name='Lower Bollinger Band', line={'color': 'red'})\n",
    "\n",
    "    upper_keltner = go.Scatter(x=df.index, y=df['upper_keltner'], name='Upper Keltner Channel', line={'color': 'blue'})\n",
    "    lower_keltner = go.Scatter(x=df.index, y=df['lower_keltner'], name='Lower Keltner Channel', line={'color': 'blue'})\n",
    "\n",
    "    fig = go.Figure(data=[candlestick, upper_band, lower_band, upper_keltner, lower_keltner])\n",
    "    # fig.layout.xaxis.type = 'category'\n",
    "    fig.layout.xaxis.rangeslider.visible = False\n",
    "    fig.show()\n",
    "\n",
    "\n",
    "%store list_of_candidate\n",
    "\n"
   ]
  },
  {
   "cell_type": "code",
   "execution_count": 26,
   "metadata": {},
   "outputs": [
    {
     "data": {
      "application/vnd.plotly.v1+json": {
       "config": {
        "plotlyServerURL": "https://plot.ly"
       },
       "data": [
        {
         "close": [
          0.01929,
          0.01926,
          0.01985,
          0.02035,
          0.02022,
          0.02042,
          0.0204,
          0.01999,
          0.02008,
          0.02024,
          0.02037,
          0.02058,
          0.02112,
          0.02079,
          0.02106,
          0.02016,
          0.02035,
          0.01964,
          0.0196,
          0.01991
         ],
         "high": [
          0.01985,
          0.01955,
          0.02016,
          0.02052,
          0.02075,
          0.02048,
          0.02064,
          0.0204,
          0.0204,
          0.02074,
          0.02071,
          0.02068,
          0.02164,
          0.02126,
          0.02152,
          0.0212,
          0.02056,
          0.02036,
          0.0198,
          0.01997
         ],
         "low": [
          0.019,
          0.01907,
          0.01911,
          0.01947,
          0.02003,
          0.01992,
          0.02008,
          0.0198,
          0.01979,
          0.01993,
          0.0201,
          0.02033,
          0.02054,
          0.02061,
          0.02061,
          0.01971,
          0.01975,
          0.01937,
          0.01946,
          0.01946
         ],
         "open": [
          0.01982,
          0.01922,
          0.01926,
          0.01985,
          0.02033,
          0.02015,
          0.0204,
          0.0204,
          0.01998,
          0.02001,
          0.02021,
          0.02033,
          0.02058,
          0.02109,
          0.02081,
          0.02106,
          0.02013,
          0.02034,
          0.0196,
          0.01953
         ],
         "type": "candlestick",
         "x": [
          "2022-01-31 00:00:00",
          "2022-01-31 04:00:00",
          "2022-01-31 08:00:00",
          "2022-01-31 12:00:00",
          "2022-01-31 16:00:00",
          "2022-01-31 20:00:00",
          "2022-02-01 00:00:00",
          "2022-02-01 04:00:00",
          "2022-02-01 08:00:00",
          "2022-02-01 12:00:00",
          "2022-02-01 16:00:00",
          "2022-02-01 20:00:00",
          "2022-02-02 00:00:00",
          "2022-02-02 04:00:00",
          "2022-02-02 08:00:00",
          "2022-02-02 12:00:00",
          "2022-02-02 16:00:00",
          "2022-02-02 20:00:00",
          "2022-02-03 00:00:00",
          "2022-02-03 04:00:00"
         ]
        },
        {
         "line": {
          "color": "red"
         },
         "name": "Upper Bollinger Band",
         "type": "scatter",
         "x": [
          "2022-01-31 00:00:00",
          "2022-01-31 04:00:00",
          "2022-01-31 08:00:00",
          "2022-01-31 12:00:00",
          "2022-01-31 16:00:00",
          "2022-01-31 20:00:00",
          "2022-02-01 00:00:00",
          "2022-02-01 04:00:00",
          "2022-02-01 08:00:00",
          "2022-02-01 12:00:00",
          "2022-02-01 16:00:00",
          "2022-02-01 20:00:00",
          "2022-02-02 00:00:00",
          "2022-02-02 04:00:00",
          "2022-02-02 08:00:00",
          "2022-02-02 12:00:00",
          "2022-02-02 16:00:00",
          "2022-02-02 20:00:00",
          "2022-02-03 00:00:00",
          "2022-02-03 04:00:00"
         ],
         "y": [
          0.019888169373982342,
          0.019897253650854374,
          0.01999293467122818,
          0.02017912288678994,
          0.0202706979782982,
          0.02039558405762867,
          0.02047950131506059,
          0.020503794234315247,
          0.020553639506914773,
          0.02062330164195661,
          0.02070477146109407,
          0.02080819615281527,
          0.021031931622308854,
          0.021131385867883237,
          0.021241124681639884,
          0.021250575934878963,
          0.0212648987664236,
          0.021248203886216854,
          0.021201440283635103,
          0.02119859662713169
         ]
        },
        {
         "line": {
          "color": "red"
         },
         "name": "Lower Bollinger Band",
         "type": "scatter",
         "x": [
          "2022-01-31 00:00:00",
          "2022-01-31 04:00:00",
          "2022-01-31 08:00:00",
          "2022-01-31 12:00:00",
          "2022-01-31 16:00:00",
          "2022-01-31 20:00:00",
          "2022-02-01 00:00:00",
          "2022-02-01 04:00:00",
          "2022-02-01 08:00:00",
          "2022-02-01 12:00:00",
          "2022-02-01 16:00:00",
          "2022-02-01 20:00:00",
          "2022-02-02 00:00:00",
          "2022-02-02 04:00:00",
          "2022-02-02 08:00:00",
          "2022-02-02 12:00:00",
          "2022-02-02 16:00:00",
          "2022-02-02 20:00:00",
          "2022-02-03 00:00:00",
          "2022-02-03 04:00:00"
         ],
         "y": [
          0.018459830626017658,
          0.018472746349145627,
          0.01846006532877182,
          0.018443877113210064,
          0.0185223020217018,
          0.018576415942371322,
          0.018668498684939413,
          0.01874420576568475,
          0.018763360493085232,
          0.018775698358043394,
          0.018797228538905926,
          0.018827803847184736,
          0.018773068377691146,
          0.018827614132116772,
          0.018918875318360118,
          0.018955424065121042,
          0.019021101233576403,
          0.019061796113783145,
          0.019152559716364898,
          0.01916940337286831
         ]
        },
        {
         "line": {
          "color": "blue"
         },
         "name": "Upper Keltner Channel",
         "type": "scatter",
         "x": [
          "2022-01-31 00:00:00",
          "2022-01-31 04:00:00",
          "2022-01-31 08:00:00",
          "2022-01-31 12:00:00",
          "2022-01-31 16:00:00",
          "2022-01-31 20:00:00",
          "2022-02-01 00:00:00",
          "2022-02-01 04:00:00",
          "2022-02-01 08:00:00",
          "2022-02-01 12:00:00",
          "2022-02-01 16:00:00",
          "2022-02-01 20:00:00",
          "2022-02-02 00:00:00",
          "2022-02-02 04:00:00",
          "2022-02-02 08:00:00",
          "2022-02-02 12:00:00",
          "2022-02-02 16:00:00",
          "2022-02-02 20:00:00",
          "2022-02-03 00:00:00",
          "2022-02-03 04:00:00"
         ],
         "y": [
          0.0203635,
          0.02031975,
          0.02036275,
          0.020477000000000002,
          0.02058525,
          0.020679249999999996,
          0.020771750000000002,
          0.0208345,
          0.020865250000000002,
          0.020918250000000003,
          0.020982499999999998,
          0.0210375,
          0.02113775,
          0.021226000000000005,
          0.02136775,
          0.021441,
          0.021504250000000003,
          0.02156425,
          0.02156375,
          0.021312750000000002
         ]
        },
        {
         "line": {
          "color": "blue"
         },
         "name": "Lower Keltner Channel",
         "type": "scatter",
         "x": [
          "2022-01-31 00:00:00",
          "2022-01-31 04:00:00",
          "2022-01-31 08:00:00",
          "2022-01-31 12:00:00",
          "2022-01-31 16:00:00",
          "2022-01-31 20:00:00",
          "2022-02-01 00:00:00",
          "2022-02-01 04:00:00",
          "2022-02-01 08:00:00",
          "2022-02-01 12:00:00",
          "2022-02-01 16:00:00",
          "2022-02-01 20:00:00",
          "2022-02-02 00:00:00",
          "2022-02-02 04:00:00",
          "2022-02-02 08:00:00",
          "2022-02-02 12:00:00",
          "2022-02-02 16:00:00",
          "2022-02-02 20:00:00",
          "2022-02-03 00:00:00",
          "2022-02-03 04:00:00"
         ],
         "y": [
          0.0179845,
          0.01805025,
          0.018090250000000002,
          0.018146000000000002,
          0.01820775,
          0.018292749999999997,
          0.01837625,
          0.0184135,
          0.018451750000000003,
          0.01848075,
          0.018519499999999998,
          0.018598500000000004,
          0.01866725,
          0.018733000000000003,
          0.01879225,
          0.018765000000000004,
          0.01878175,
          0.01874575,
          0.01879025,
          0.01905525
         ]
        }
       ],
       "layout": {
        "template": {
         "data": {
          "bar": [
           {
            "error_x": {
             "color": "#2a3f5f"
            },
            "error_y": {
             "color": "#2a3f5f"
            },
            "marker": {
             "line": {
              "color": "#E5ECF6",
              "width": 0.5
             },
             "pattern": {
              "fillmode": "overlay",
              "size": 10,
              "solidity": 0.2
             }
            },
            "type": "bar"
           }
          ],
          "barpolar": [
           {
            "marker": {
             "line": {
              "color": "#E5ECF6",
              "width": 0.5
             },
             "pattern": {
              "fillmode": "overlay",
              "size": 10,
              "solidity": 0.2
             }
            },
            "type": "barpolar"
           }
          ],
          "carpet": [
           {
            "aaxis": {
             "endlinecolor": "#2a3f5f",
             "gridcolor": "white",
             "linecolor": "white",
             "minorgridcolor": "white",
             "startlinecolor": "#2a3f5f"
            },
            "baxis": {
             "endlinecolor": "#2a3f5f",
             "gridcolor": "white",
             "linecolor": "white",
             "minorgridcolor": "white",
             "startlinecolor": "#2a3f5f"
            },
            "type": "carpet"
           }
          ],
          "choropleth": [
           {
            "colorbar": {
             "outlinewidth": 0,
             "ticks": ""
            },
            "type": "choropleth"
           }
          ],
          "contour": [
           {
            "colorbar": {
             "outlinewidth": 0,
             "ticks": ""
            },
            "colorscale": [
             [
              0,
              "#0d0887"
             ],
             [
              0.1111111111111111,
              "#46039f"
             ],
             [
              0.2222222222222222,
              "#7201a8"
             ],
             [
              0.3333333333333333,
              "#9c179e"
             ],
             [
              0.4444444444444444,
              "#bd3786"
             ],
             [
              0.5555555555555556,
              "#d8576b"
             ],
             [
              0.6666666666666666,
              "#ed7953"
             ],
             [
              0.7777777777777778,
              "#fb9f3a"
             ],
             [
              0.8888888888888888,
              "#fdca26"
             ],
             [
              1,
              "#f0f921"
             ]
            ],
            "type": "contour"
           }
          ],
          "contourcarpet": [
           {
            "colorbar": {
             "outlinewidth": 0,
             "ticks": ""
            },
            "type": "contourcarpet"
           }
          ],
          "heatmap": [
           {
            "colorbar": {
             "outlinewidth": 0,
             "ticks": ""
            },
            "colorscale": [
             [
              0,
              "#0d0887"
             ],
             [
              0.1111111111111111,
              "#46039f"
             ],
             [
              0.2222222222222222,
              "#7201a8"
             ],
             [
              0.3333333333333333,
              "#9c179e"
             ],
             [
              0.4444444444444444,
              "#bd3786"
             ],
             [
              0.5555555555555556,
              "#d8576b"
             ],
             [
              0.6666666666666666,
              "#ed7953"
             ],
             [
              0.7777777777777778,
              "#fb9f3a"
             ],
             [
              0.8888888888888888,
              "#fdca26"
             ],
             [
              1,
              "#f0f921"
             ]
            ],
            "type": "heatmap"
           }
          ],
          "heatmapgl": [
           {
            "colorbar": {
             "outlinewidth": 0,
             "ticks": ""
            },
            "colorscale": [
             [
              0,
              "#0d0887"
             ],
             [
              0.1111111111111111,
              "#46039f"
             ],
             [
              0.2222222222222222,
              "#7201a8"
             ],
             [
              0.3333333333333333,
              "#9c179e"
             ],
             [
              0.4444444444444444,
              "#bd3786"
             ],
             [
              0.5555555555555556,
              "#d8576b"
             ],
             [
              0.6666666666666666,
              "#ed7953"
             ],
             [
              0.7777777777777778,
              "#fb9f3a"
             ],
             [
              0.8888888888888888,
              "#fdca26"
             ],
             [
              1,
              "#f0f921"
             ]
            ],
            "type": "heatmapgl"
           }
          ],
          "histogram": [
           {
            "marker": {
             "pattern": {
              "fillmode": "overlay",
              "size": 10,
              "solidity": 0.2
             }
            },
            "type": "histogram"
           }
          ],
          "histogram2d": [
           {
            "colorbar": {
             "outlinewidth": 0,
             "ticks": ""
            },
            "colorscale": [
             [
              0,
              "#0d0887"
             ],
             [
              0.1111111111111111,
              "#46039f"
             ],
             [
              0.2222222222222222,
              "#7201a8"
             ],
             [
              0.3333333333333333,
              "#9c179e"
             ],
             [
              0.4444444444444444,
              "#bd3786"
             ],
             [
              0.5555555555555556,
              "#d8576b"
             ],
             [
              0.6666666666666666,
              "#ed7953"
             ],
             [
              0.7777777777777778,
              "#fb9f3a"
             ],
             [
              0.8888888888888888,
              "#fdca26"
             ],
             [
              1,
              "#f0f921"
             ]
            ],
            "type": "histogram2d"
           }
          ],
          "histogram2dcontour": [
           {
            "colorbar": {
             "outlinewidth": 0,
             "ticks": ""
            },
            "colorscale": [
             [
              0,
              "#0d0887"
             ],
             [
              0.1111111111111111,
              "#46039f"
             ],
             [
              0.2222222222222222,
              "#7201a8"
             ],
             [
              0.3333333333333333,
              "#9c179e"
             ],
             [
              0.4444444444444444,
              "#bd3786"
             ],
             [
              0.5555555555555556,
              "#d8576b"
             ],
             [
              0.6666666666666666,
              "#ed7953"
             ],
             [
              0.7777777777777778,
              "#fb9f3a"
             ],
             [
              0.8888888888888888,
              "#fdca26"
             ],
             [
              1,
              "#f0f921"
             ]
            ],
            "type": "histogram2dcontour"
           }
          ],
          "mesh3d": [
           {
            "colorbar": {
             "outlinewidth": 0,
             "ticks": ""
            },
            "type": "mesh3d"
           }
          ],
          "parcoords": [
           {
            "line": {
             "colorbar": {
              "outlinewidth": 0,
              "ticks": ""
             }
            },
            "type": "parcoords"
           }
          ],
          "pie": [
           {
            "automargin": true,
            "type": "pie"
           }
          ],
          "scatter": [
           {
            "marker": {
             "colorbar": {
              "outlinewidth": 0,
              "ticks": ""
             }
            },
            "type": "scatter"
           }
          ],
          "scatter3d": [
           {
            "line": {
             "colorbar": {
              "outlinewidth": 0,
              "ticks": ""
             }
            },
            "marker": {
             "colorbar": {
              "outlinewidth": 0,
              "ticks": ""
             }
            },
            "type": "scatter3d"
           }
          ],
          "scattercarpet": [
           {
            "marker": {
             "colorbar": {
              "outlinewidth": 0,
              "ticks": ""
             }
            },
            "type": "scattercarpet"
           }
          ],
          "scattergeo": [
           {
            "marker": {
             "colorbar": {
              "outlinewidth": 0,
              "ticks": ""
             }
            },
            "type": "scattergeo"
           }
          ],
          "scattergl": [
           {
            "marker": {
             "colorbar": {
              "outlinewidth": 0,
              "ticks": ""
             }
            },
            "type": "scattergl"
           }
          ],
          "scattermapbox": [
           {
            "marker": {
             "colorbar": {
              "outlinewidth": 0,
              "ticks": ""
             }
            },
            "type": "scattermapbox"
           }
          ],
          "scatterpolar": [
           {
            "marker": {
             "colorbar": {
              "outlinewidth": 0,
              "ticks": ""
             }
            },
            "type": "scatterpolar"
           }
          ],
          "scatterpolargl": [
           {
            "marker": {
             "colorbar": {
              "outlinewidth": 0,
              "ticks": ""
             }
            },
            "type": "scatterpolargl"
           }
          ],
          "scatterternary": [
           {
            "marker": {
             "colorbar": {
              "outlinewidth": 0,
              "ticks": ""
             }
            },
            "type": "scatterternary"
           }
          ],
          "surface": [
           {
            "colorbar": {
             "outlinewidth": 0,
             "ticks": ""
            },
            "colorscale": [
             [
              0,
              "#0d0887"
             ],
             [
              0.1111111111111111,
              "#46039f"
             ],
             [
              0.2222222222222222,
              "#7201a8"
             ],
             [
              0.3333333333333333,
              "#9c179e"
             ],
             [
              0.4444444444444444,
              "#bd3786"
             ],
             [
              0.5555555555555556,
              "#d8576b"
             ],
             [
              0.6666666666666666,
              "#ed7953"
             ],
             [
              0.7777777777777778,
              "#fb9f3a"
             ],
             [
              0.8888888888888888,
              "#fdca26"
             ],
             [
              1,
              "#f0f921"
             ]
            ],
            "type": "surface"
           }
          ],
          "table": [
           {
            "cells": {
             "fill": {
              "color": "#EBF0F8"
             },
             "line": {
              "color": "white"
             }
            },
            "header": {
             "fill": {
              "color": "#C8D4E3"
             },
             "line": {
              "color": "white"
             }
            },
            "type": "table"
           }
          ]
         },
         "layout": {
          "annotationdefaults": {
           "arrowcolor": "#2a3f5f",
           "arrowhead": 0,
           "arrowwidth": 1
          },
          "autotypenumbers": "strict",
          "coloraxis": {
           "colorbar": {
            "outlinewidth": 0,
            "ticks": ""
           }
          },
          "colorscale": {
           "diverging": [
            [
             0,
             "#8e0152"
            ],
            [
             0.1,
             "#c51b7d"
            ],
            [
             0.2,
             "#de77ae"
            ],
            [
             0.3,
             "#f1b6da"
            ],
            [
             0.4,
             "#fde0ef"
            ],
            [
             0.5,
             "#f7f7f7"
            ],
            [
             0.6,
             "#e6f5d0"
            ],
            [
             0.7,
             "#b8e186"
            ],
            [
             0.8,
             "#7fbc41"
            ],
            [
             0.9,
             "#4d9221"
            ],
            [
             1,
             "#276419"
            ]
           ],
           "sequential": [
            [
             0,
             "#0d0887"
            ],
            [
             0.1111111111111111,
             "#46039f"
            ],
            [
             0.2222222222222222,
             "#7201a8"
            ],
            [
             0.3333333333333333,
             "#9c179e"
            ],
            [
             0.4444444444444444,
             "#bd3786"
            ],
            [
             0.5555555555555556,
             "#d8576b"
            ],
            [
             0.6666666666666666,
             "#ed7953"
            ],
            [
             0.7777777777777778,
             "#fb9f3a"
            ],
            [
             0.8888888888888888,
             "#fdca26"
            ],
            [
             1,
             "#f0f921"
            ]
           ],
           "sequentialminus": [
            [
             0,
             "#0d0887"
            ],
            [
             0.1111111111111111,
             "#46039f"
            ],
            [
             0.2222222222222222,
             "#7201a8"
            ],
            [
             0.3333333333333333,
             "#9c179e"
            ],
            [
             0.4444444444444444,
             "#bd3786"
            ],
            [
             0.5555555555555556,
             "#d8576b"
            ],
            [
             0.6666666666666666,
             "#ed7953"
            ],
            [
             0.7777777777777778,
             "#fb9f3a"
            ],
            [
             0.8888888888888888,
             "#fdca26"
            ],
            [
             1,
             "#f0f921"
            ]
           ]
          },
          "colorway": [
           "#636efa",
           "#EF553B",
           "#00cc96",
           "#ab63fa",
           "#FFA15A",
           "#19d3f3",
           "#FF6692",
           "#B6E880",
           "#FF97FF",
           "#FECB52"
          ],
          "font": {
           "color": "#2a3f5f"
          },
          "geo": {
           "bgcolor": "white",
           "lakecolor": "white",
           "landcolor": "#E5ECF6",
           "showlakes": true,
           "showland": true,
           "subunitcolor": "white"
          },
          "hoverlabel": {
           "align": "left"
          },
          "hovermode": "closest",
          "mapbox": {
           "style": "light"
          },
          "paper_bgcolor": "white",
          "plot_bgcolor": "#E5ECF6",
          "polar": {
           "angularaxis": {
            "gridcolor": "white",
            "linecolor": "white",
            "ticks": ""
           },
           "bgcolor": "#E5ECF6",
           "radialaxis": {
            "gridcolor": "white",
            "linecolor": "white",
            "ticks": ""
           }
          },
          "scene": {
           "xaxis": {
            "backgroundcolor": "#E5ECF6",
            "gridcolor": "white",
            "gridwidth": 2,
            "linecolor": "white",
            "showbackground": true,
            "ticks": "",
            "zerolinecolor": "white"
           },
           "yaxis": {
            "backgroundcolor": "#E5ECF6",
            "gridcolor": "white",
            "gridwidth": 2,
            "linecolor": "white",
            "showbackground": true,
            "ticks": "",
            "zerolinecolor": "white"
           },
           "zaxis": {
            "backgroundcolor": "#E5ECF6",
            "gridcolor": "white",
            "gridwidth": 2,
            "linecolor": "white",
            "showbackground": true,
            "ticks": "",
            "zerolinecolor": "white"
           }
          },
          "shapedefaults": {
           "line": {
            "color": "#2a3f5f"
           }
          },
          "ternary": {
           "aaxis": {
            "gridcolor": "white",
            "linecolor": "white",
            "ticks": ""
           },
           "baxis": {
            "gridcolor": "white",
            "linecolor": "white",
            "ticks": ""
           },
           "bgcolor": "#E5ECF6",
           "caxis": {
            "gridcolor": "white",
            "linecolor": "white",
            "ticks": ""
           }
          },
          "title": {
           "x": 0.05
          },
          "xaxis": {
           "automargin": true,
           "gridcolor": "white",
           "linecolor": "white",
           "ticks": "",
           "title": {
            "standoff": 15
           },
           "zerolinecolor": "white",
           "zerolinewidth": 2
          },
          "yaxis": {
           "automargin": true,
           "gridcolor": "white",
           "linecolor": "white",
           "ticks": "",
           "title": {
            "standoff": 15
           },
           "zerolinecolor": "white",
           "zerolinewidth": 2
          }
         }
        },
        "xaxis": {
         "rangeslider": {
          "visible": false
         }
        }
       }
      }
     },
     "metadata": {},
     "output_type": "display_data"
    }
   ],
   "source": [
    "df = dataframes['TCTUSDT'][-20:]\n",
    "chart(df)\n"
   ]
  },
  {
   "cell_type": "code",
   "execution_count": null,
   "metadata": {},
   "outputs": [],
   "source": [
    "\n"
   ]
  }
 ],
 "metadata": {
  "interpreter": {
   "hash": "3756e50263641124812bebbe71b3301d6fe5d90f19e89fc330b3e20fa5370427"
  },
  "kernelspec": {
   "display_name": "Python 3.10.0 64-bit ('algo': venv)",
   "language": "python",
   "name": "python3"
  },
  "language_info": {
   "codemirror_mode": {
    "name": "ipython",
    "version": 3
   },
   "file_extension": ".py",
   "mimetype": "text/x-python",
   "name": "python",
   "nbconvert_exporter": "python",
   "pygments_lexer": "ipython3",
   "version": "3.10.0"
  },
  "orig_nbformat": 4
 },
 "nbformat": 4,
 "nbformat_minor": 2
}
