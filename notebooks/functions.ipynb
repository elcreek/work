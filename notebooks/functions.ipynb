{
 "cells": [
  {
   "cell_type": "code",
   "execution_count": 1,
   "metadata": {},
   "outputs": [],
   "source": [
    "# when a function has multiple returns\n",
    "\n",
    "\n",
    "def function(x,y):\n",
    "    return x*x, y*y\n",
    "\n",
    "# thats how to get rid of global variables\n",
    "# use\n",
    "x_carre, y_carre = function(2,3)\n",
    "\n",
    "# or use brackets []\n",
    "function(2,3)[0]\n",
    "# 4\n",
    "function(2,3)[1]\n",
    "# 9\n",
    "\n"
   ]
  },
  {
   "cell_type": "code",
   "execution_count": 3,
   "metadata": {},
   "outputs": [
    {
     "data": {
      "text/plain": [
       "2"
      ]
     },
     "execution_count": 3,
     "metadata": {},
     "output_type": "execute_result"
    }
   ],
   "source": [
    "# The assert keyword is used when debugging code.\n",
    "\n",
    "# The assert keyword lets you test if a condition in your code returns True,\n",
    "# if not, the program will raise an AssertionError.\n",
    "\n",
    "# You can write a message to be written if the code returns False, \n",
    "# check the example below.\n",
    "\n",
    "x = \"hello\"\n",
    "\n",
    "#if condition returns False, AssertionError is raised:\n",
    "assert x == \"goodbye\", \"x should be 'hello'\"\n"
   ]
  },
  {
   "cell_type": "code",
   "execution_count": null,
   "metadata": {},
   "outputs": [],
   "source": []
  }
 ],
 "metadata": {
  "interpreter": {
   "hash": "3756e50263641124812bebbe71b3301d6fe5d90f19e89fc330b3e20fa5370427"
  },
  "kernelspec": {
   "display_name": "Python 3.10.0 64-bit ('algo': venv)",
   "language": "python",
   "name": "python3"
  },
  "language_info": {
   "codemirror_mode": {
    "name": "ipython",
    "version": 3
   },
   "file_extension": ".py",
   "mimetype": "text/x-python",
   "name": "python",
   "nbconvert_exporter": "python",
   "pygments_lexer": "ipython3",
   "version": "3.10.0"
  },
  "orig_nbformat": 4
 },
 "nbformat": 4,
 "nbformat_minor": 2
}
