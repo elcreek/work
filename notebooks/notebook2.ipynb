{
 "cells": [
  {
   "cell_type": "code",
   "execution_count": null,
   "metadata": {},
   "outputs": [],
   "source": [
    "# How do I concatenate two lists in Python?\n",
    "\n",
    "#########################\n",
    "listone = [1, 2, 3]\n",
    "listtwo = [4, 5, 6]\n",
    "\n",
    "joinedlist = listone + listtwo\n",
    "\n",
    "#########################\n",
    "\n",
    "# joining two lists \n",
    "# (applies to any iterable like sets, renges, tuples) \n",
    "# can now also be done with:\n",
    "\n",
    "l1 = [1, 2, 3]\n",
    "l2 = [4, 5, 6]\n",
    "joined_list = [*l1, *l2]  # unpack both iterables in a list literal\n",
    "print(joined_list)\n",
    "# [1, 2, 3, 4, 5, 6]\n",
    "\n",
    "\n",
    "# my_list + list(my_tuple) + list(my_range) \n",
    "\n",
    "# which is now equivalent to just \n",
    "\n",
    "# [*my_list, *my_tuple, *my_range]\n",
    "\n",
    "# So while addition with + would raise a TypeError due to type mismatch:\n",
    "\n",
    "# l = [1, 2, 3]\n",
    "# r = range(4, 7)\n",
    "# res = l + r\n",
    "# The following won't:\n",
    "\n",
    "# res = [*l, *r]\n",
    "\n",
    "# because it will first unpack the contents of the iterables \n",
    "# and then simply create a list from the contents.\n",
    "\n",
    "###################\n",
    "# A nice example of the unpacking approach working on iterable types \n",
    "# is functions that return an iterator over one of the lists you're concatenating. \n",
    "# For example, you could reverse one of the lists you're concatenating: \n",
    "# res = [*l1, *reversed(l2)] \n",
    "# Since reversed returns an iterator\n",
    "# res = l1 + reversed(l2) \n",
    "# would throw an error.\n",
    "\n",
    "#################\n",
    "\n",
    "\n"
   ]
  },
  {
   "cell_type": "code",
   "execution_count": null,
   "metadata": {},
   "outputs": [],
   "source": [
    "dict3 = {**dict1, **dict2}"
   ]
  },
  {
   "cell_type": "code",
   "execution_count": null,
   "metadata": {},
   "outputs": [],
   "source": []
  }
 ],
 "metadata": {
  "language_info": {
   "name": "python"
  },
  "orig_nbformat": 4
 },
 "nbformat": 4,
 "nbformat_minor": 2
}
