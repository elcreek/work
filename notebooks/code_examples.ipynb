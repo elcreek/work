{
 "cells": [
  {
   "cell_type": "code",
   "execution_count": 1,
   "metadata": {},
   "outputs": [
    {
     "name": "stdout",
     "output_type": "stream",
     "text": [
      "4\n"
     ]
    }
   ],
   "source": [
    "# Program to find sum of digits (until it is one digit number)\n",
    "\n",
    "import math\n",
    "class Solution:\n",
    "   def solve(self, n):\n",
    "      if n < 10:\n",
    "         return n\n",
    "      s = 0\n",
    "      l = math.floor(math.log(n, 10) + 1)\n",
    "      while l > 0:\n",
    "         s += n % 10\n",
    "         n //= 10\n",
    "         l -= 1\n",
    "      return self.solve(s)\n",
    "ob = Solution()\n",
    "print(ob.solve(9625))"
   ]
  },
  {
   "cell_type": "code",
   "execution_count": 3,
   "metadata": {},
   "outputs": [
    {
     "name": "stdout",
     "output_type": "stream",
     "text": [
      "The total sum of digits is: 14\n"
     ]
    }
   ],
   "source": [
    "# Python Program to Find the Sum of Digits in a Number\n",
    "\n",
    "n=int(input(\"Enter a number:\"))\n",
    "tot=0\n",
    "while(n>0):\n",
    "    dig=n%10\n",
    "    tot=tot+dig\n",
    "    n=n//10\n",
    "print(\"The total sum of digits is:\",tot)"
   ]
  }
 ],
 "metadata": {
  "interpreter": {
   "hash": "3756e50263641124812bebbe71b3301d6fe5d90f19e89fc330b3e20fa5370427"
  },
  "kernelspec": {
   "display_name": "Python 3.10.0 64-bit ('algo': venv)",
   "language": "python",
   "name": "python3"
  },
  "language_info": {
   "codemirror_mode": {
    "name": "ipython",
    "version": 3
   },
   "file_extension": ".py",
   "mimetype": "text/x-python",
   "name": "python",
   "nbconvert_exporter": "python",
   "pygments_lexer": "ipython3",
   "version": "3.10.0"
  },
  "orig_nbformat": 4
 },
 "nbformat": 4,
 "nbformat_minor": 2
}
