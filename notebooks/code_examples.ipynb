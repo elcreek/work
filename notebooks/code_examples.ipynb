{
 "cells": [
  {
   "cell_type": "code",
   "execution_count": null,
   "metadata": {},
   "outputs": [],
   "source": [
    "# Program to find sum of digits until it is one digit number in Python\n",
    "\n",
    "import math\n",
    "class Solution:\n",
    "   def solve(self, n):\n",
    "      if n < 10:\n",
    "         return n\n",
    "      s = 0\n",
    "      l = math.floor(math.log(n, 10) + 1)\n",
    "      while l > 0:\n",
    "         s += n % 10\n",
    "         n //= 10\n",
    "         l -= 1\n",
    "      return self.solve(s)\n",
    "ob = Solution()\n",
    "print(ob.solve(9625))"
   ]
  }
 ],
 "metadata": {
  "language_info": {
   "name": "python"
  },
  "orig_nbformat": 4
 },
 "nbformat": 4,
 "nbformat_minor": 2
}
