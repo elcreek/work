{
 "cells": [
  {
   "cell_type": "code",
   "execution_count": null,
   "metadata": {},
   "outputs": [],
   "source": [
    "# Summary\n",
    "\n",
    "\n",
    "# virtual env\n",
    "# Find peaks and valleys of a chart using scipy.signal.argrelextrema()\n",
    "# timedelta into int\n",
    "# Program to find sum of digits (until it is one digit number)\n"
   ]
  },
  {
   "cell_type": "code",
   "execution_count": null,
   "metadata": {},
   "outputs": [],
   "source": [
    "# virtual env\n",
    "# PS C:\\Users\\Grant\\virenv> py -m venv algo\n",
    "# PS C:\\Users\\Grant\\virenv> cd algo\n",
    "# PS C:\\Users\\Grant\\virenv\\algo> cd Scripts\n",
    "# PS C:\\Users\\Grant\\virenv\\algo\\Scripts> ./activate"
   ]
  },
  {
   "cell_type": "code",
   "execution_count": null,
   "metadata": {},
   "outputs": [],
   "source": [
    "# Find peaks and valleys of a chart using scipy.signal.argrelextrema()\n",
    "\n",
    "import matplotlib\n",
    "import os\n",
    "import pandas as pd\n",
    "matplotlib.use('Agg') # Bypass the need to install Tkinter GUI framework\n",
    " \n",
    "from scipy import signal\n",
    "import numpy as np\n",
    "import matplotlib.pyplot as plt\n",
    " \n",
    "\n",
    " \n",
    "timeframe='1h'\n",
    "symbol = 'JASMYUSDT'\n",
    "\n",
    "outdir=f\"{os.getcwd()}/old/data/{timeframe}\"\n",
    "data = pd.read_csv(f\"{outdir}/{symbol}_{timeframe}.csv\", index_col='Time')\n",
    "\n",
    "\n",
    " \n",
    "# Find peaks(max).\n",
    "peak_indexes = signal.argrelextrema(data['Close'].values, np.greater)[0]\n",
    " \n",
    "# Find valleys(min).\n",
    "valley_indexes = signal.argrelextrema(data['Close'].values, np.less)[0]\n",
    " \n",
    "# Plot main graph.\n",
    "(fig, ax) = plt.subplots()\n",
    "ax.plot(data.index.values, data['Close'])\n",
    " \n",
    "# Plot peaks.\n",
    "peak_x = peak_indexes\n",
    "peak_y = data['Close'][peak_indexes]\n",
    "ax.plot(peak_x, peak_y, marker='o', linestyle='dashed', color='green', label=\"Peaks\")\n",
    " \n",
    "# Plot valleys.\n",
    "valley_x = valley_indexes\n",
    "valley_y = data['Close'][valley_indexes]\n",
    "ax.plot(valley_x, valley_y, marker='o', linestyle='dashed', color='red', label=\"Valleys\")\n",
    " \n",
    " \n",
    "# Save graph to file.\n",
    "plt.title('Find peaks and valleys using argrelextrema()')\n",
    "plt.legend(loc='best')\n",
    "plt.savefig('argrelextrema.png')\n"
   ]
  },
  {
   "cell_type": "code",
   "execution_count": null,
   "metadata": {},
   "outputs": [],
   "source": [
    "# when removing elements from a list remeber that the index changes\n",
    "# and thats why you get the error : index out of range\n",
    "\n",
    "# https://stackoverflow.com/questions/1207406/how-to-remove-items-from-a-list-while-iterating\n",
    "\n",
    "for n in list1:\n",
    "    lis2.remove(list2[n])\n"
   ]
  },
  {
   "cell_type": "code",
   "execution_count": null,
   "metadata": {},
   "outputs": [],
   "source": [
    "# timedelta into int\n",
    "\n",
    "t1 = \"timestamp\"\n",
    "t2 = \"another timestamp\"\n",
    "\n",
    "diff =str(t2 - t1)\n",
    "\n",
    "# use split to get the part you need\n",
    "diff = int(diff.split(\" \")[0])\n",
    "\n",
    "print((diff))"
   ]
  },
  {
   "cell_type": "code",
   "execution_count": 1,
   "metadata": {},
   "outputs": [
    {
     "name": "stdout",
     "output_type": "stream",
     "text": [
      "4\n"
     ]
    }
   ],
   "source": [
    "# Program to find sum of digits (until it is one digit number)\n",
    "\n",
    "import math\n",
    "class Solution:\n",
    "   def solve(self, n):\n",
    "      if n < 10:\n",
    "         return n\n",
    "      s = 0\n",
    "      l = math.floor(math.log(n, 10) + 1)\n",
    "      while l > 0:\n",
    "         s += n % 10\n",
    "         n //= 10\n",
    "         l -= 1\n",
    "      return self.solve(s)\n",
    "ob = Solution()\n",
    "print(ob.solve(9625))"
   ]
  },
  {
   "cell_type": "code",
   "execution_count": 3,
   "metadata": {},
   "outputs": [
    {
     "name": "stdout",
     "output_type": "stream",
     "text": [
      "The total sum of digits is: 14\n"
     ]
    }
   ],
   "source": [
    "# Python Program to Find the Sum of Digits in a Number\n",
    "\n",
    "n=int(input(\"Enter a number:\"))\n",
    "tot=0\n",
    "while(n>0):\n",
    "    dig=n%10\n",
    "    tot=tot+dig\n",
    "    n=n//10\n",
    "print(\"The total sum of digits is:\",tot)"
   ]
  }
 ],
 "metadata": {
  "interpreter": {
   "hash": "3756e50263641124812bebbe71b3301d6fe5d90f19e89fc330b3e20fa5370427"
  },
  "kernelspec": {
   "display_name": "Python 3.10.0 64-bit ('algo': venv)",
   "language": "python",
   "name": "python3"
  },
  "language_info": {
   "codemirror_mode": {
    "name": "ipython",
    "version": 3
   },
   "file_extension": ".py",
   "mimetype": "text/x-python",
   "name": "python",
   "nbconvert_exporter": "python",
   "pygments_lexer": "ipython3",
   "version": "3.10.0"
  },
  "orig_nbformat": 4
 },
 "nbformat": 4,
 "nbformat_minor": 2
}
