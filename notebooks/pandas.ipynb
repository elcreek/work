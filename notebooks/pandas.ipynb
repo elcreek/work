{
 "cells": [
  {
   "cell_type": "code",
   "execution_count": 8,
   "metadata": {},
   "outputs": [
    {
     "name": "stdout",
     "output_type": "stream",
     "text": [
      "0\n"
     ]
    }
   ],
   "source": [
    "import pandas as pd\n",
    "\n",
    "df = pd.DataFrame([[26,16,18,8.7,2.9,1.9]], columns=[\n",
    "\t\t\t\t'George', 'John', 'Micheal', 'Oliva', 'Chris', 'Hemosworth'])\n",
    "\n",
    "\n",
    "\n",
    "\n",
    "new_itr = next(df.iterrows())[1]\n",
    "print(new_itr)\n",
    "\n"
   ]
  },
  {
   "cell_type": "code",
   "execution_count": 16,
   "metadata": {},
   "outputs": [
    {
     "name": "stdout",
     "output_type": "stream",
     "text": [
      "0 :  apple has 68 calories.\n",
      "1 :  banana has 74 calories.\n",
      "2 :  orange has 77 calories.\n",
      "3 :  mango has 78 calories.\n"
     ]
    }
   ],
   "source": [
    "import pandas as pd\n",
    "\n",
    "#create dataframe\n",
    "df_marks = pd.DataFrame({\n",
    "    'name': ['apple', 'banana', 'orange', 'mango'],\n",
    "\t'calories': [68, 74, 77, 78]})\n",
    "\n",
    "#iterate through each row of dataframe\n",
    "for index, row in df_marks.iterrows():\n",
    "    print(index, ': ', row['name'], 'has', row['calories'], 'calories.')"
   ]
  },
  {
   "cell_type": "code",
   "execution_count": null,
   "metadata": {},
   "outputs": [],
   "source": [
    "# The next() function returns the next item in an iterator.\n",
    "\n",
    "# You can add a default return value, to return if the iterable has reached to its end.\n",
    "\n",
    "# example:\n",
    "# Create an iterator, and print the items one by one \n",
    "# and Return a default value when the iterable has reached to its end:\n",
    "\n",
    "\n",
    "mylist = iter([\"apple\", \"banana\", \"cherry\"])\n",
    "x = next(mylist, \"orange\")\n",
    "print(x)\n",
    "x = next(mylist, \"orange\")\n",
    "print(x)\n",
    "x = next(mylist, \"orange\")\n",
    "print(x)\n",
    "x = next(mylist, \"orange\")\n",
    "print(x)\n",
    "x = next(mylist, \"orange\")\n",
    "print(x)"
   ]
  },
  {
   "cell_type": "code",
   "execution_count": null,
   "metadata": {},
   "outputs": [],
   "source": [
    "data['Volume'].iloc[:-10:-1]\n",
    "# Time\n",
    "# 2022-04-24 11:00:00    531360.0\n",
    "# 2022-04-24 10:00:00    435985.0\n",
    "# 2022-04-24 09:00:00    660895.0\n",
    "# 2022-04-24 08:00:00    939266.0\n",
    "# 2022-04-24 07:00:00    312948.0\n",
    "# 2022-04-24 06:00:00    280462.0\n",
    "# 2022-04-24 05:00:00    292132.0\n",
    "# 2022-04-24 04:00:00    639604.0\n",
    "# 2022-04-24 03:00:00    490420.0\n",
    "# Name: Volume, dtype: float64\n",
    "\n",
    "data['Volume'].iloc[970:998:1]\n",
    "# Time\n",
    "# 2022-04-23 08:00:00    1968241.0\n",
    "# 2022-04-23 09:00:00    1466779.0\n",
    "# 2022-04-23 10:00:00     797309.0\n",
    "# 2022-04-23 11:00:00     348603.0\n",
    "# 2022-04-23 12:00:00     754415.0\n",
    "# 2022-04-23 13:00:00     611950.0\n",
    "# 2022-04-23 14:00:00     424807.0\n",
    "# ...\n",
    "# 2022-04-24 05:00:00     292132.0\n",
    "# 2022-04-24 06:00:00     280462.0\n",
    "# 2022-04-24 07:00:00     312948.0\n",
    "# 2022-04-24 08:00:00     939266.0\n",
    "# 2022-04-24 09:00:00     660895.0\n",
    "# 2022-04-24 10:00:00     435985.0\n",
    "# 2022-04-24 11:00:00     531360.0\n",
    "# Name: Volume, dtype: float64\n",
    "\n",
    "data['Volume'].iloc[998:970:-1]\n",
    "# Time\n",
    "# 2022-04-24 11:00:00     531360.0\n",
    "# 2022-04-24 10:00:00     435985.0\n",
    "# 2022-04-24 09:00:00     660895.0\n",
    "# 2022-04-24 08:00:00     939266.0\n",
    "# 2022-04-24 07:00:00     312948.0\n",
    "# 2022-04-24 06:00:00     280462.0\n",
    "# 2022-04-24 05:00:00     292132.0\n",
    "# ...\n",
    "# 2022-04-23 14:00:00     424807.0\n",
    "# 2022-04-23 13:00:00     611950.0\n",
    "# 2022-04-23 12:00:00     754415.0\n",
    "# 2022-04-23 11:00:00     348603.0\n",
    "# 2022-04-23 10:00:00     797309.0\n",
    "# 2022-04-23 09:00:00    1466779.0\n",
    "# Name: Volume, dtype: float64\n",
    "\n",
    "data['Volume'].iloc[:970:-1]\n",
    "# Time\n",
    "# 2022-04-24 11:00:00     531360.0\n",
    "# 2022-04-24 10:00:00     435985.0\n",
    "# 2022-04-24 09:00:00     660895.0\n",
    "# 2022-04-24 08:00:00     939266.0\n",
    "# 2022-04-24 07:00:00     312948.0\n",
    "# 2022-04-24 06:00:00     280462.0\n",
    "# 2022-04-24 05:00:00     292132.0\n",
    "# ...\n",
    "# 2022-04-23 14:00:00     424807.0\n",
    "# 2022-04-23 13:00:00     611950.0\n",
    "# 2022-04-23 12:00:00     754415.0\n",
    "# 2022-04-23 11:00:00     348603.0\n",
    "# 2022-04-23 10:00:00     797309.0\n",
    "# 2022-04-23 09:00:00    1466779.0\n",
    "# Name: Volume, dtype: float64\n",
    "\n",
    "\n",
    "\n",
    "data['Volume'].iloc[998:970:1]\n",
    "# Series([], Name: Volume, dtype: float64)\n",
    "\n",
    "data['Volume'].iloc[::-1]\n",
    "# Time\n",
    "# 2022-04-24 11:00:00    531360.0\n",
    "# 2022-04-24 10:00:00    435985.0\n",
    "# 2022-04-24 09:00:00    660895.0\n",
    "# 2022-04-24 08:00:00    939266.0\n",
    "# 2022-04-24 07:00:00    312948.0\n",
    "#                          ...   \n",
    "# 2022-03-14 02:00:00     56438.0\n",
    "# 2022-03-14 01:00:00    102289.0\n",
    "# 2022-03-14 00:00:00    136283.0\n",
    "# 2022-03-13 23:00:00    114795.0\n",
    "# 2022-03-13 22:00:00    276710.0\n",
    "# Name: Volume, Length: 998, dtype: float64\n",
    "\n",
    "\n",
    "\n"
   ]
  }
 ],
 "metadata": {
  "interpreter": {
   "hash": "3756e50263641124812bebbe71b3301d6fe5d90f19e89fc330b3e20fa5370427"
  },
  "kernelspec": {
   "display_name": "Python 3.10.0 64-bit ('algo': venv)",
   "language": "python",
   "name": "python3"
  },
  "language_info": {
   "codemirror_mode": {
    "name": "ipython",
    "version": 3
   },
   "file_extension": ".py",
   "mimetype": "text/x-python",
   "name": "python",
   "nbconvert_exporter": "python",
   "pygments_lexer": "ipython3",
   "version": "3.10.0"
  },
  "orig_nbformat": 4
 },
 "nbformat": 4,
 "nbformat_minor": 2
}
