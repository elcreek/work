{
 "cells": [
  {
   "cell_type": "code",
   "execution_count": 8,
   "metadata": {},
   "outputs": [
    {
     "name": "stdout",
     "output_type": "stream",
     "text": [
      "0\n"
     ]
    }
   ],
   "source": [
    "import pandas as pd\n",
    "\n",
    "df = pd.DataFrame([[26,16,18,8.7,2.9,1.9]], columns=[\n",
    "\t\t\t\t'George', 'John', 'Micheal', 'Oliva', 'Chris', 'Hemosworth'])\n",
    "\n",
    "\n",
    "\n",
    "\n",
    "new_itr = next(df.iterrows())[1]\n",
    "print(new_itr)\n",
    "\n"
   ]
  },
  {
   "cell_type": "code",
   "execution_count": 16,
   "metadata": {},
   "outputs": [
    {
     "name": "stdout",
     "output_type": "stream",
     "text": [
      "0 :  apple has 68 calories.\n",
      "1 :  banana has 74 calories.\n",
      "2 :  orange has 77 calories.\n",
      "3 :  mango has 78 calories.\n"
     ]
    }
   ],
   "source": [
    "import pandas as pd\n",
    "\n",
    "#create dataframe\n",
    "df_marks = pd.DataFrame({\n",
    "    'name': ['apple', 'banana', 'orange', 'mango'],\n",
    "\t'calories': [68, 74, 77, 78]})\n",
    "\n",
    "#iterate through each row of dataframe\n",
    "for index, row in df_marks.iterrows():\n",
    "    print(index, ': ', row['name'], 'has', row['calories'], 'calories.')"
   ]
  },
  {
   "cell_type": "code",
   "execution_count": null,
   "metadata": {},
   "outputs": [],
   "source": [
    "# The next() function returns the next item in an iterator.\n",
    "\n",
    "# You can add a default return value, to return if the iterable has reached to its end.\n",
    "\n",
    "# example:\n",
    "# Create an iterator, and print the items one by one \n",
    "# and Return a default value when the iterable has reached to its end:\n",
    "\n",
    "\n",
    "mylist = iter([\"apple\", \"banana\", \"cherry\"])\n",
    "x = next(mylist, \"orange\")\n",
    "print(x)\n",
    "x = next(mylist, \"orange\")\n",
    "print(x)\n",
    "x = next(mylist, \"orange\")\n",
    "print(x)\n",
    "x = next(mylist, \"orange\")\n",
    "print(x)\n",
    "x = next(mylist, \"orange\")\n",
    "print(x)"
   ]
  }
 ],
 "metadata": {
  "interpreter": {
   "hash": "3756e50263641124812bebbe71b3301d6fe5d90f19e89fc330b3e20fa5370427"
  },
  "kernelspec": {
   "display_name": "Python 3.10.0 64-bit ('algo': venv)",
   "language": "python",
   "name": "python3"
  },
  "language_info": {
   "codemirror_mode": {
    "name": "ipython",
    "version": 3
   },
   "file_extension": ".py",
   "mimetype": "text/x-python",
   "name": "python",
   "nbconvert_exporter": "python",
   "pygments_lexer": "ipython3",
   "version": "3.10.0"
  },
  "orig_nbformat": 4
 },
 "nbformat": 4,
 "nbformat_minor": 2
}
