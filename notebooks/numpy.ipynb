{
 "cells": [
  {
   "cell_type": "code",
   "execution_count": 1,
   "metadata": {},
   "outputs": [],
   "source": [
    "# Summary \n",
    "\n",
    "# np diff\n",
    "\n",
    "# axis (lists vs dfs)\n"
   ]
  },
  {
   "cell_type": "code",
   "execution_count": null,
   "metadata": {},
   "outputs": [],
   "source": [
    "# np diff\n",
    "\n",
    "import numpy as np\n",
    "import pandas as pd\n",
    "\n",
    "x = np.array([1, 2, 4, 7, 0])\n",
    "\n",
    "np.diff(x)\n",
    "# array([ 1,  2,  3, -7])\n",
    "\n",
    "np.diff(x, n=2)\n",
    "# 2-1 = 1, 4-2 = 2, 7-4 = 3, 0-7 = -7\n",
    "# 2-1 = 1, 3-2 = 1, -7-3 = -10\n",
    "# array([  1,   1, -10])\n",
    "\n",
    "\n",
    "new_array = np.array([[14, 22, 25, 36], [11, 17, 14, 29]])\n",
    "\n",
    "new_output=np.diff(new_array, axis=0)\n",
    "# 11-14 = -3, 17-22 = -5, 14-25 = -11, 29-36 = -7\n",
    "# [[ -3  -5 -11  -7]]\n",
    "\n",
    "result = np.diff(new_array, axis=1)\n",
    "# [[ 8  3 11], [ 6 -3 15]]\n",
    "\n",
    "# same as:\n",
    "result = np.diff(new_array)\n",
    "# [[ 8  3 11], [ 6 -3 15]]\n",
    "\n",
    "\n",
    "x = np.arange('1066-10-13', '1066-10-16', dtype=np.datetime64)\n",
    "# array(['1066-10-13', '1066-10-14', '1066-10-15'], dtype='datetime64[D]')\n",
    "\n",
    "np.diff(x)\n",
    "# array([1, 1], dtype='timedelta64[D]')\n",
    "\n"
   ]
  },
  {
   "cell_type": "code",
   "execution_count": null,
   "metadata": {},
   "outputs": [],
   "source": [
    "\n",
    "# axis lists vs dfs\n",
    "\n",
    "arr = [0, -1, 2, 9, 5, 8]\n",
    "\n",
    "d = pd.DataFrame(arr)\n",
    "#    0\n",
    "# 0  0\n",
    "# 1 -1\n",
    "# 2  2\n",
    "# 3  9\n",
    "# 4  5\n",
    "# 5  8\n",
    "\n",
    "diff_arr_axis0 = np.diff(arr, axis=0)\n",
    "# array([-1,  3,  7, -4,  3])\n",
    "diff_df_axis0 = np.diff(d, axis=0)\n",
    "# array([[-1],\n",
    "#        [ 3],\n",
    "#        [ 7],\n",
    "#        [-4],\n",
    "#        [ 3]], dtype=int64)\n",
    "\n",
    "\n",
    "diff_arr_axis1 = np.diff(arr, axis=1)\n",
    "# numpy.AxisError: axis 1 is out of bounds for array of dimension 1\n",
    "diff_df_axis1 = np.diff(d, axis=1)\n",
    "# array([], shape=(6, 0), dtype=int64)\n",
    "\n",
    "\n",
    "# cuz \n",
    "# the (axis = 0) of an array is the rows, and the (axis = 1) of an array is the columns\n",
    "# and the (axis = 0) of a df is the columns, and the (axis = 1) of a df is the rows"
   ]
  },
  {
   "cell_type": "code",
   "execution_count": null,
   "metadata": {},
   "outputs": [],
   "source": []
  },
  {
   "cell_type": "code",
   "execution_count": null,
   "metadata": {},
   "outputs": [],
   "source": []
  }
 ],
 "metadata": {
  "interpreter": {
   "hash": "3756e50263641124812bebbe71b3301d6fe5d90f19e89fc330b3e20fa5370427"
  },
  "kernelspec": {
   "display_name": "Python 3.10.0 64-bit ('algo': venv)",
   "language": "python",
   "name": "python3"
  },
  "language_info": {
   "codemirror_mode": {
    "name": "ipython",
    "version": 3
   },
   "file_extension": ".py",
   "mimetype": "text/x-python",
   "name": "python",
   "nbconvert_exporter": "python",
   "pygments_lexer": "ipython3",
   "version": "3.10.0"
  },
  "orig_nbformat": 4
 },
 "nbformat": 4,
 "nbformat_minor": 2
}
