{
 "cells": [
  {
   "cell_type": "code",
   "execution_count": 226,
   "metadata": {},
   "outputs": [],
   "source": [
    "from scipy.signal import argrelextrema\n",
    "import pandas as pd\n",
    "import numpy as np\n",
    "import pandas_ta as ta"
   ]
  },
  {
   "cell_type": "code",
   "execution_count": 227,
   "metadata": {},
   "outputs": [],
   "source": [
    "def isSupport(df,i):\n",
    "  # fractal (i-2)>(i-1)>i<(i+1)<(i+2)\n",
    "  support = df['Low'][i] < df['Low'][i-1]  and df['Low'][i] < df['Low'][i+1] \\\n",
    "  and df['Low'][i+1] < df['Low'][i+2] and df['Low'][i-1] < df['Low'][i-2]\n",
    "\n",
    "  return support\n",
    "\n",
    "def isResistance(df,i):\n",
    "  resistance = df['High'][i] > df['High'][i-1]  and df['High'][i] > df['High'][i+1] \\\n",
    "  and df['High'][i+1] > df['High'][i+2] and df['High'][i-1] > df['High'][i-2] \n",
    "\n",
    "  return resistance\n"
   ]
  },
  {
   "cell_type": "code",
   "execution_count": 228,
   "metadata": {},
   "outputs": [
    {
     "name": "stderr",
     "output_type": "stream",
     "text": [
      "C:\\Users\\Grant\\AppData\\Local\\Temp\\ipykernel_4504\\1212021477.py:40: PerformanceWarning: DataFrame is highly fragmented.  This is usually the result of calling `frame.insert` many times, which has poor performance.  Consider joining all columns at once using pd.concat(axis=1) instead.  To get a de-fragmented frame, use `newframe = frame.copy()`\n",
      "  data[ema_length] = ta.ema(data[\"Close\"], length=ema_length)\n"
     ]
    },
    {
     "name": "stdout",
     "output_type": "stream",
     "text": [
      "[36 37 38]\n"
     ]
    }
   ],
   "source": [
    "pair = \"agld\".upper()\n",
    "tf = '4h'\n",
    "data=pd.read_csv(f\"C:\\\\Users\\Grant\\Desktop\\work_git\\work\\data\\\\{tf}\\{pair}USDT_{tf}.csv\", parse_dates=True)\n",
    "# data=pd.read_csv(\"C:\\\\Users\\Grant\\Desktop\\work_git\\work\\data\\\\1d\\ENSUSDT_1d.csv\", parse_dates=True)\n",
    "# data[-55:]\n",
    "\n",
    "########################################\n",
    "levels = []\n",
    "levels_low=[]\n",
    "levels_high=[]\n",
    "\n",
    "  # start from 2 because i need i-2\n",
    "  # end at shape[0]-2 because  i need i+2\n",
    "  # i is the number of current row\n",
    "for i in range(2,data.shape[0]-2):\n",
    "    if isSupport(data,i):\n",
    "        levels.append((i,data['Low'][i]))\n",
    "        levels_low.append((i,data['Low'][i]))\n",
    "        \n",
    "    elif isResistance(data,i):\n",
    "        levels.append((i,data['High'][i]))\n",
    "        levels_high.append((i,data['High'][i]))\n",
    "    \n",
    "#############################\n",
    "\n",
    "for i in levels:\n",
    "  rowIndex = data.index[i[0]]\n",
    "  data.loc[rowIndex, 'levels'] = i[1]\n",
    "\n",
    "for i in levels_low:\n",
    "  rowIndex = data.index[i[0]]\n",
    "  data.loc[rowIndex, 'levels_low'] = i[1]\n",
    "\n",
    "for i in levels_high:\n",
    "  rowIndex = data.index[i[0]]\n",
    "  data.loc[rowIndex, 'levels_high'] = i[1]\n",
    "\n",
    "###########################\n",
    "for ema_length in range(20,222):\n",
    "    data[ema_length] = ta.ema(data[\"Close\"], length=ema_length)\n",
    "\n",
    "##############################\n",
    "mul = 1.02\n",
    "\n",
    "for i in range(20,222):\n",
    "      # data[i] = np.where((data[i].values > data['levels'].values) & (data[i].values < ((data['levels'].values) * mul)), i, np.nan)\n",
    "      data[i] = np.where((data[i].values < data['levels'].values) & (data['levels'].values  < ((data[i].values) *mul)), i, np.nan)\n",
    "\n",
    "# for i in range(20,222):\n",
    "#       data[i] = np.where((data[i].values > data['levels_low'].values) & (data[i].values < ((data['levels_low'].values) * mul)), i, np.nan)\n",
    "#       # data[i] = np.where((data[i].values < data['levels_low'].values) & (data['levels_low'].values  < ((data[i].values) *mul)), i, np.nan)\n",
    "\n",
    "# for i in range(20,222):\n",
    "#       # data[i] = np.where((data[i].values > data['levels_high'].values) & (data[i].values < ((data['levels_high'].values) * mul)), i, np.nan)\n",
    "#       data[i] = np.where((data[i].values < data['levels_high'].values) & (data['levels_high'].values  < ((data[i].values) *mul)), i, np.nan)\n",
    "\n",
    "  \n",
    "data=data.drop(['Time', 'Open', 'High', 'Low', 'Close', 'Volume', 'levels', 'levels_low', 'levels_high'], axis=1)\n",
    "max = data.count().max()\n",
    "total = pd.DataFrame(data.count())\n",
    "best = total[total[0]==max].index.values\n",
    "print(best)\n",
    "\n",
    "\n"
   ]
  }
 ],
 "metadata": {
  "interpreter": {
   "hash": "3756e50263641124812bebbe71b3301d6fe5d90f19e89fc330b3e20fa5370427"
  },
  "kernelspec": {
   "display_name": "Python 3.10.0 64-bit ('algo': venv)",
   "language": "python",
   "name": "python3"
  },
  "language_info": {
   "codemirror_mode": {
    "name": "ipython",
    "version": 3
   },
   "file_extension": ".py",
   "mimetype": "text/x-python",
   "name": "python",
   "nbconvert_exporter": "python",
   "pygments_lexer": "ipython3",
   "version": "3.10.0"
  },
  "orig_nbformat": 4
 },
 "nbformat": 4,
 "nbformat_minor": 2
}
