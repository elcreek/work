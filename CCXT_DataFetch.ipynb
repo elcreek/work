{
 "cells": [
  {
   "cell_type": "code",
   "execution_count": 9,
   "metadata": {},
   "outputs": [],
   "source": [
    "import ccxt\n",
    "import os\n",
    "import pandas as pd\n",
    "from datetime import datetime, timedelta\n",
    "from tqdm import tqdm\n",
    "# import sys\n",
    "# import shutil\n",
    "# from functools import partial\n",
    "# from pathlib import Path\n",
    "import sys\n",
    "import shutil\n",
    "from collections import Counter\n",
    "\n",
    "\n",
    "exchange = ccxt.binance()\n",
    "\n",
    "exchange.load_markets()\n",
    "\n",
    "symbols = exchange.symbols"
   ]
  },
  {
   "cell_type": "code",
   "execution_count": 10,
   "metadata": {},
   "outputs": [],
   "source": [
    "t = 'USDT'\n",
    "pairs = []\n",
    "# global unwanted\n",
    "unwanted = [\"XNO\",\"BTT\",\"GYEN\",\"UP/\",\"DOWN/\",\"USDS\",\"USDT/\",\"USDSB\",\"SUSD\",\n",
    "\"NCASH/ETH\",\"DNT/ETH\",\"BCN/ETH\",\"UST\",\"ETH/\",\"BKRW\",\"VAI\",\"RUB\",\n",
    "\"NGN\",\"DAI\",\"BIDR\",\"BEAR\", \"BULL\", \"PAX\", \"TUSD\", \"UMA\", \"USDC\",\n",
    " \"USDP\", \"BUSD/\", \"EUR\", \"GBP\", \"TRY\", \"AUD\",\"BRL\", \"BVND\"]\n",
    "\n",
    "for s in symbols:\n",
    "    if (t in s):\n",
    "        pairs.append(s)\n",
    "\n",
    "pairs=[n for n in pairs if all(m not in n for m in unwanted)]\n",
    "\n",
    "\n",
    "_pairs = [\"ATOM/USDT\"]\n"
   ]
  },
  {
   "cell_type": "code",
   "execution_count": 11,
   "metadata": {},
   "outputs": [
    {
     "name": "stderr",
     "output_type": "stream",
     "text": [
      " 60%|██████    | 192/318 [02:04<01:21,  1.54it/s]\n"
     ]
    },
    {
     "ename": "RequestTimeout",
     "evalue": "binance GET https://api.binance.com/api/v3/klines?interval=12h&limit=999&symbol=NEARUSDT",
     "output_type": "error",
     "traceback": [
      "\u001b[1;31m---------------------------------------------------------------------------\u001b[0m",
      "\u001b[1;31mTimeoutError\u001b[0m                              Traceback (most recent call last)",
      "File \u001b[1;32mc:\\Users\\Grant\\virenv\\algo\\lib\\site-packages\\urllib3\\connectionpool.py:449\u001b[0m, in \u001b[0;36mHTTPConnectionPool._make_request\u001b[1;34m(self, conn, method, url, timeout, chunked, **httplib_request_kw)\u001b[0m\n\u001b[0;32m    <a href='file:///c%3A/Users/Grant/virenv/algo/lib/site-packages/urllib3/connectionpool.py?line=444'>445</a>\u001b[0m         \u001b[39mexcept\u001b[39;00m \u001b[39mBaseException\u001b[39;00m \u001b[39mas\u001b[39;00m e:\n\u001b[0;32m    <a href='file:///c%3A/Users/Grant/virenv/algo/lib/site-packages/urllib3/connectionpool.py?line=445'>446</a>\u001b[0m             \u001b[39m# Remove the TypeError from the exception chain in\u001b[39;00m\n\u001b[0;32m    <a href='file:///c%3A/Users/Grant/virenv/algo/lib/site-packages/urllib3/connectionpool.py?line=446'>447</a>\u001b[0m             \u001b[39m# Python 3 (including for exceptions like SystemExit).\u001b[39;00m\n\u001b[0;32m    <a href='file:///c%3A/Users/Grant/virenv/algo/lib/site-packages/urllib3/connectionpool.py?line=447'>448</a>\u001b[0m             \u001b[39m# Otherwise it looks like a bug in the code.\u001b[39;00m\n\u001b[1;32m--> <a href='file:///c%3A/Users/Grant/virenv/algo/lib/site-packages/urllib3/connectionpool.py?line=448'>449</a>\u001b[0m             six\u001b[39m.\u001b[39;49mraise_from(e, \u001b[39mNone\u001b[39;49;00m)\n\u001b[0;32m    <a href='file:///c%3A/Users/Grant/virenv/algo/lib/site-packages/urllib3/connectionpool.py?line=449'>450</a>\u001b[0m \u001b[39mexcept\u001b[39;00m (SocketTimeout, BaseSSLError, SocketError) \u001b[39mas\u001b[39;00m e:\n",
      "File \u001b[1;32m<string>:3\u001b[0m, in \u001b[0;36mraise_from\u001b[1;34m(value, from_value)\u001b[0m\n",
      "File \u001b[1;32mc:\\Users\\Grant\\virenv\\algo\\lib\\site-packages\\urllib3\\connectionpool.py:444\u001b[0m, in \u001b[0;36mHTTPConnectionPool._make_request\u001b[1;34m(self, conn, method, url, timeout, chunked, **httplib_request_kw)\u001b[0m\n\u001b[0;32m    <a href='file:///c%3A/Users/Grant/virenv/algo/lib/site-packages/urllib3/connectionpool.py?line=442'>443</a>\u001b[0m \u001b[39mtry\u001b[39;00m:\n\u001b[1;32m--> <a href='file:///c%3A/Users/Grant/virenv/algo/lib/site-packages/urllib3/connectionpool.py?line=443'>444</a>\u001b[0m     httplib_response \u001b[39m=\u001b[39m conn\u001b[39m.\u001b[39;49mgetresponse()\n\u001b[0;32m    <a href='file:///c%3A/Users/Grant/virenv/algo/lib/site-packages/urllib3/connectionpool.py?line=444'>445</a>\u001b[0m \u001b[39mexcept\u001b[39;00m \u001b[39mBaseException\u001b[39;00m \u001b[39mas\u001b[39;00m e:\n\u001b[0;32m    <a href='file:///c%3A/Users/Grant/virenv/algo/lib/site-packages/urllib3/connectionpool.py?line=445'>446</a>\u001b[0m     \u001b[39m# Remove the TypeError from the exception chain in\u001b[39;00m\n\u001b[0;32m    <a href='file:///c%3A/Users/Grant/virenv/algo/lib/site-packages/urllib3/connectionpool.py?line=446'>447</a>\u001b[0m     \u001b[39m# Python 3 (including for exceptions like SystemExit).\u001b[39;00m\n\u001b[0;32m    <a href='file:///c%3A/Users/Grant/virenv/algo/lib/site-packages/urllib3/connectionpool.py?line=447'>448</a>\u001b[0m     \u001b[39m# Otherwise it looks like a bug in the code.\u001b[39;00m\n",
      "File \u001b[1;32m~\\AppData\\Local\\Programs\\Python\\Python310\\lib\\http\\client.py:1368\u001b[0m, in \u001b[0;36mHTTPConnection.getresponse\u001b[1;34m(self)\u001b[0m\n\u001b[0;32m   <a href='file:///~/AppData/Local/Programs/Python/Python310/lib/http/client.py?line=1366'>1367</a>\u001b[0m \u001b[39mtry\u001b[39;00m:\n\u001b[1;32m-> <a href='file:///~/AppData/Local/Programs/Python/Python310/lib/http/client.py?line=1367'>1368</a>\u001b[0m     response\u001b[39m.\u001b[39;49mbegin()\n\u001b[0;32m   <a href='file:///~/AppData/Local/Programs/Python/Python310/lib/http/client.py?line=1368'>1369</a>\u001b[0m \u001b[39mexcept\u001b[39;00m \u001b[39mConnectionError\u001b[39;00m:\n",
      "File \u001b[1;32m~\\AppData\\Local\\Programs\\Python\\Python310\\lib\\http\\client.py:317\u001b[0m, in \u001b[0;36mHTTPResponse.begin\u001b[1;34m(self)\u001b[0m\n\u001b[0;32m    <a href='file:///~/AppData/Local/Programs/Python/Python310/lib/http/client.py?line=315'>316</a>\u001b[0m \u001b[39mwhile\u001b[39;00m \u001b[39mTrue\u001b[39;00m:\n\u001b[1;32m--> <a href='file:///~/AppData/Local/Programs/Python/Python310/lib/http/client.py?line=316'>317</a>\u001b[0m     version, status, reason \u001b[39m=\u001b[39m \u001b[39mself\u001b[39;49m\u001b[39m.\u001b[39;49m_read_status()\n\u001b[0;32m    <a href='file:///~/AppData/Local/Programs/Python/Python310/lib/http/client.py?line=317'>318</a>\u001b[0m     \u001b[39mif\u001b[39;00m status \u001b[39m!=\u001b[39m CONTINUE:\n",
      "File \u001b[1;32m~\\AppData\\Local\\Programs\\Python\\Python310\\lib\\http\\client.py:278\u001b[0m, in \u001b[0;36mHTTPResponse._read_status\u001b[1;34m(self)\u001b[0m\n\u001b[0;32m    <a href='file:///~/AppData/Local/Programs/Python/Python310/lib/http/client.py?line=276'>277</a>\u001b[0m \u001b[39mdef\u001b[39;00m \u001b[39m_read_status\u001b[39m(\u001b[39mself\u001b[39m):\n\u001b[1;32m--> <a href='file:///~/AppData/Local/Programs/Python/Python310/lib/http/client.py?line=277'>278</a>\u001b[0m     line \u001b[39m=\u001b[39m \u001b[39mstr\u001b[39m(\u001b[39mself\u001b[39;49m\u001b[39m.\u001b[39;49mfp\u001b[39m.\u001b[39;49mreadline(_MAXLINE \u001b[39m+\u001b[39;49m \u001b[39m1\u001b[39;49m), \u001b[39m\"\u001b[39m\u001b[39miso-8859-1\u001b[39m\u001b[39m\"\u001b[39m)\n\u001b[0;32m    <a href='file:///~/AppData/Local/Programs/Python/Python310/lib/http/client.py?line=278'>279</a>\u001b[0m     \u001b[39mif\u001b[39;00m \u001b[39mlen\u001b[39m(line) \u001b[39m>\u001b[39m _MAXLINE:\n",
      "File \u001b[1;32m~\\AppData\\Local\\Programs\\Python\\Python310\\lib\\socket.py:705\u001b[0m, in \u001b[0;36mSocketIO.readinto\u001b[1;34m(self, b)\u001b[0m\n\u001b[0;32m    <a href='file:///~/AppData/Local/Programs/Python/Python310/lib/socket.py?line=703'>704</a>\u001b[0m \u001b[39mtry\u001b[39;00m:\n\u001b[1;32m--> <a href='file:///~/AppData/Local/Programs/Python/Python310/lib/socket.py?line=704'>705</a>\u001b[0m     \u001b[39mreturn\u001b[39;00m \u001b[39mself\u001b[39;49m\u001b[39m.\u001b[39;49m_sock\u001b[39m.\u001b[39;49mrecv_into(b)\n\u001b[0;32m    <a href='file:///~/AppData/Local/Programs/Python/Python310/lib/socket.py?line=705'>706</a>\u001b[0m \u001b[39mexcept\u001b[39;00m timeout:\n",
      "File \u001b[1;32m~\\AppData\\Local\\Programs\\Python\\Python310\\lib\\ssl.py:1273\u001b[0m, in \u001b[0;36mSSLSocket.recv_into\u001b[1;34m(self, buffer, nbytes, flags)\u001b[0m\n\u001b[0;32m   <a href='file:///~/AppData/Local/Programs/Python/Python310/lib/ssl.py?line=1269'>1270</a>\u001b[0m         \u001b[39mraise\u001b[39;00m \u001b[39mValueError\u001b[39;00m(\n\u001b[0;32m   <a href='file:///~/AppData/Local/Programs/Python/Python310/lib/ssl.py?line=1270'>1271</a>\u001b[0m           \u001b[39m\"\u001b[39m\u001b[39mnon-zero flags not allowed in calls to recv_into() on \u001b[39m\u001b[39m%s\u001b[39;00m\u001b[39m\"\u001b[39m \u001b[39m%\u001b[39m\n\u001b[0;32m   <a href='file:///~/AppData/Local/Programs/Python/Python310/lib/ssl.py?line=1271'>1272</a>\u001b[0m           \u001b[39mself\u001b[39m\u001b[39m.\u001b[39m\u001b[39m__class__\u001b[39m)\n\u001b[1;32m-> <a href='file:///~/AppData/Local/Programs/Python/Python310/lib/ssl.py?line=1272'>1273</a>\u001b[0m     \u001b[39mreturn\u001b[39;00m \u001b[39mself\u001b[39;49m\u001b[39m.\u001b[39;49mread(nbytes, buffer)\n\u001b[0;32m   <a href='file:///~/AppData/Local/Programs/Python/Python310/lib/ssl.py?line=1273'>1274</a>\u001b[0m \u001b[39melse\u001b[39;00m:\n",
      "File \u001b[1;32m~\\AppData\\Local\\Programs\\Python\\Python310\\lib\\ssl.py:1129\u001b[0m, in \u001b[0;36mSSLSocket.read\u001b[1;34m(self, len, buffer)\u001b[0m\n\u001b[0;32m   <a href='file:///~/AppData/Local/Programs/Python/Python310/lib/ssl.py?line=1127'>1128</a>\u001b[0m \u001b[39mif\u001b[39;00m buffer \u001b[39mis\u001b[39;00m \u001b[39mnot\u001b[39;00m \u001b[39mNone\u001b[39;00m:\n\u001b[1;32m-> <a href='file:///~/AppData/Local/Programs/Python/Python310/lib/ssl.py?line=1128'>1129</a>\u001b[0m     \u001b[39mreturn\u001b[39;00m \u001b[39mself\u001b[39;49m\u001b[39m.\u001b[39;49m_sslobj\u001b[39m.\u001b[39;49mread(\u001b[39mlen\u001b[39;49m, buffer)\n\u001b[0;32m   <a href='file:///~/AppData/Local/Programs/Python/Python310/lib/ssl.py?line=1129'>1130</a>\u001b[0m \u001b[39melse\u001b[39;00m:\n",
      "\u001b[1;31mTimeoutError\u001b[0m: The read operation timed out",
      "\nDuring handling of the above exception, another exception occurred:\n",
      "\u001b[1;31mReadTimeoutError\u001b[0m                          Traceback (most recent call last)",
      "File \u001b[1;32mc:\\Users\\Grant\\virenv\\algo\\lib\\site-packages\\requests\\adapters.py:440\u001b[0m, in \u001b[0;36mHTTPAdapter.send\u001b[1;34m(self, request, stream, timeout, verify, cert, proxies)\u001b[0m\n\u001b[0;32m    <a href='file:///c%3A/Users/Grant/virenv/algo/lib/site-packages/requests/adapters.py?line=438'>439</a>\u001b[0m \u001b[39mif\u001b[39;00m \u001b[39mnot\u001b[39;00m chunked:\n\u001b[1;32m--> <a href='file:///c%3A/Users/Grant/virenv/algo/lib/site-packages/requests/adapters.py?line=439'>440</a>\u001b[0m     resp \u001b[39m=\u001b[39m conn\u001b[39m.\u001b[39;49murlopen(\n\u001b[0;32m    <a href='file:///c%3A/Users/Grant/virenv/algo/lib/site-packages/requests/adapters.py?line=440'>441</a>\u001b[0m         method\u001b[39m=\u001b[39;49mrequest\u001b[39m.\u001b[39;49mmethod,\n\u001b[0;32m    <a href='file:///c%3A/Users/Grant/virenv/algo/lib/site-packages/requests/adapters.py?line=441'>442</a>\u001b[0m         url\u001b[39m=\u001b[39;49murl,\n\u001b[0;32m    <a href='file:///c%3A/Users/Grant/virenv/algo/lib/site-packages/requests/adapters.py?line=442'>443</a>\u001b[0m         body\u001b[39m=\u001b[39;49mrequest\u001b[39m.\u001b[39;49mbody,\n\u001b[0;32m    <a href='file:///c%3A/Users/Grant/virenv/algo/lib/site-packages/requests/adapters.py?line=443'>444</a>\u001b[0m         headers\u001b[39m=\u001b[39;49mrequest\u001b[39m.\u001b[39;49mheaders,\n\u001b[0;32m    <a href='file:///c%3A/Users/Grant/virenv/algo/lib/site-packages/requests/adapters.py?line=444'>445</a>\u001b[0m         redirect\u001b[39m=\u001b[39;49m\u001b[39mFalse\u001b[39;49;00m,\n\u001b[0;32m    <a href='file:///c%3A/Users/Grant/virenv/algo/lib/site-packages/requests/adapters.py?line=445'>446</a>\u001b[0m         assert_same_host\u001b[39m=\u001b[39;49m\u001b[39mFalse\u001b[39;49;00m,\n\u001b[0;32m    <a href='file:///c%3A/Users/Grant/virenv/algo/lib/site-packages/requests/adapters.py?line=446'>447</a>\u001b[0m         preload_content\u001b[39m=\u001b[39;49m\u001b[39mFalse\u001b[39;49;00m,\n\u001b[0;32m    <a href='file:///c%3A/Users/Grant/virenv/algo/lib/site-packages/requests/adapters.py?line=447'>448</a>\u001b[0m         decode_content\u001b[39m=\u001b[39;49m\u001b[39mFalse\u001b[39;49;00m,\n\u001b[0;32m    <a href='file:///c%3A/Users/Grant/virenv/algo/lib/site-packages/requests/adapters.py?line=448'>449</a>\u001b[0m         retries\u001b[39m=\u001b[39;49m\u001b[39mself\u001b[39;49m\u001b[39m.\u001b[39;49mmax_retries,\n\u001b[0;32m    <a href='file:///c%3A/Users/Grant/virenv/algo/lib/site-packages/requests/adapters.py?line=449'>450</a>\u001b[0m         timeout\u001b[39m=\u001b[39;49mtimeout\n\u001b[0;32m    <a href='file:///c%3A/Users/Grant/virenv/algo/lib/site-packages/requests/adapters.py?line=450'>451</a>\u001b[0m     )\n\u001b[0;32m    <a href='file:///c%3A/Users/Grant/virenv/algo/lib/site-packages/requests/adapters.py?line=452'>453</a>\u001b[0m \u001b[39m# Send the request.\u001b[39;00m\n\u001b[0;32m    <a href='file:///c%3A/Users/Grant/virenv/algo/lib/site-packages/requests/adapters.py?line=453'>454</a>\u001b[0m \u001b[39melse\u001b[39;00m:\n",
      "File \u001b[1;32mc:\\Users\\Grant\\virenv\\algo\\lib\\site-packages\\urllib3\\connectionpool.py:785\u001b[0m, in \u001b[0;36mHTTPConnectionPool.urlopen\u001b[1;34m(self, method, url, body, headers, retries, redirect, assert_same_host, timeout, pool_timeout, release_conn, chunked, body_pos, **response_kw)\u001b[0m\n\u001b[0;32m    <a href='file:///c%3A/Users/Grant/virenv/algo/lib/site-packages/urllib3/connectionpool.py?line=782'>783</a>\u001b[0m     e \u001b[39m=\u001b[39m ProtocolError(\u001b[39m\"\u001b[39m\u001b[39mConnection aborted.\u001b[39m\u001b[39m\"\u001b[39m, e)\n\u001b[1;32m--> <a href='file:///c%3A/Users/Grant/virenv/algo/lib/site-packages/urllib3/connectionpool.py?line=784'>785</a>\u001b[0m retries \u001b[39m=\u001b[39m retries\u001b[39m.\u001b[39;49mincrement(\n\u001b[0;32m    <a href='file:///c%3A/Users/Grant/virenv/algo/lib/site-packages/urllib3/connectionpool.py?line=785'>786</a>\u001b[0m     method, url, error\u001b[39m=\u001b[39;49me, _pool\u001b[39m=\u001b[39;49m\u001b[39mself\u001b[39;49m, _stacktrace\u001b[39m=\u001b[39;49msys\u001b[39m.\u001b[39;49mexc_info()[\u001b[39m2\u001b[39;49m]\n\u001b[0;32m    <a href='file:///c%3A/Users/Grant/virenv/algo/lib/site-packages/urllib3/connectionpool.py?line=786'>787</a>\u001b[0m )\n\u001b[0;32m    <a href='file:///c%3A/Users/Grant/virenv/algo/lib/site-packages/urllib3/connectionpool.py?line=787'>788</a>\u001b[0m retries\u001b[39m.\u001b[39msleep()\n",
      "File \u001b[1;32mc:\\Users\\Grant\\virenv\\algo\\lib\\site-packages\\urllib3\\util\\retry.py:550\u001b[0m, in \u001b[0;36mRetry.increment\u001b[1;34m(self, method, url, response, error, _pool, _stacktrace)\u001b[0m\n\u001b[0;32m    <a href='file:///c%3A/Users/Grant/virenv/algo/lib/site-packages/urllib3/util/retry.py?line=548'>549</a>\u001b[0m \u001b[39mif\u001b[39;00m read \u001b[39mis\u001b[39;00m \u001b[39mFalse\u001b[39;00m \u001b[39mor\u001b[39;00m \u001b[39mnot\u001b[39;00m \u001b[39mself\u001b[39m\u001b[39m.\u001b[39m_is_method_retryable(method):\n\u001b[1;32m--> <a href='file:///c%3A/Users/Grant/virenv/algo/lib/site-packages/urllib3/util/retry.py?line=549'>550</a>\u001b[0m     \u001b[39mraise\u001b[39;00m six\u001b[39m.\u001b[39;49mreraise(\u001b[39mtype\u001b[39;49m(error), error, _stacktrace)\n\u001b[0;32m    <a href='file:///c%3A/Users/Grant/virenv/algo/lib/site-packages/urllib3/util/retry.py?line=550'>551</a>\u001b[0m \u001b[39melif\u001b[39;00m read \u001b[39mis\u001b[39;00m \u001b[39mnot\u001b[39;00m \u001b[39mNone\u001b[39;00m:\n",
      "File \u001b[1;32mc:\\Users\\Grant\\virenv\\algo\\lib\\site-packages\\urllib3\\packages\\six.py:770\u001b[0m, in \u001b[0;36mreraise\u001b[1;34m(tp, value, tb)\u001b[0m\n\u001b[0;32m    <a href='file:///c%3A/Users/Grant/virenv/algo/lib/site-packages/urllib3/packages/six.py?line=768'>769</a>\u001b[0m         \u001b[39mraise\u001b[39;00m value\u001b[39m.\u001b[39mwith_traceback(tb)\n\u001b[1;32m--> <a href='file:///c%3A/Users/Grant/virenv/algo/lib/site-packages/urllib3/packages/six.py?line=769'>770</a>\u001b[0m     \u001b[39mraise\u001b[39;00m value\n\u001b[0;32m    <a href='file:///c%3A/Users/Grant/virenv/algo/lib/site-packages/urllib3/packages/six.py?line=770'>771</a>\u001b[0m \u001b[39mfinally\u001b[39;00m:\n",
      "File \u001b[1;32mc:\\Users\\Grant\\virenv\\algo\\lib\\site-packages\\urllib3\\connectionpool.py:703\u001b[0m, in \u001b[0;36mHTTPConnectionPool.urlopen\u001b[1;34m(self, method, url, body, headers, retries, redirect, assert_same_host, timeout, pool_timeout, release_conn, chunked, body_pos, **response_kw)\u001b[0m\n\u001b[0;32m    <a href='file:///c%3A/Users/Grant/virenv/algo/lib/site-packages/urllib3/connectionpool.py?line=701'>702</a>\u001b[0m \u001b[39m# Make the request on the httplib connection object.\u001b[39;00m\n\u001b[1;32m--> <a href='file:///c%3A/Users/Grant/virenv/algo/lib/site-packages/urllib3/connectionpool.py?line=702'>703</a>\u001b[0m httplib_response \u001b[39m=\u001b[39m \u001b[39mself\u001b[39;49m\u001b[39m.\u001b[39;49m_make_request(\n\u001b[0;32m    <a href='file:///c%3A/Users/Grant/virenv/algo/lib/site-packages/urllib3/connectionpool.py?line=703'>704</a>\u001b[0m     conn,\n\u001b[0;32m    <a href='file:///c%3A/Users/Grant/virenv/algo/lib/site-packages/urllib3/connectionpool.py?line=704'>705</a>\u001b[0m     method,\n\u001b[0;32m    <a href='file:///c%3A/Users/Grant/virenv/algo/lib/site-packages/urllib3/connectionpool.py?line=705'>706</a>\u001b[0m     url,\n\u001b[0;32m    <a href='file:///c%3A/Users/Grant/virenv/algo/lib/site-packages/urllib3/connectionpool.py?line=706'>707</a>\u001b[0m     timeout\u001b[39m=\u001b[39;49mtimeout_obj,\n\u001b[0;32m    <a href='file:///c%3A/Users/Grant/virenv/algo/lib/site-packages/urllib3/connectionpool.py?line=707'>708</a>\u001b[0m     body\u001b[39m=\u001b[39;49mbody,\n\u001b[0;32m    <a href='file:///c%3A/Users/Grant/virenv/algo/lib/site-packages/urllib3/connectionpool.py?line=708'>709</a>\u001b[0m     headers\u001b[39m=\u001b[39;49mheaders,\n\u001b[0;32m    <a href='file:///c%3A/Users/Grant/virenv/algo/lib/site-packages/urllib3/connectionpool.py?line=709'>710</a>\u001b[0m     chunked\u001b[39m=\u001b[39;49mchunked,\n\u001b[0;32m    <a href='file:///c%3A/Users/Grant/virenv/algo/lib/site-packages/urllib3/connectionpool.py?line=710'>711</a>\u001b[0m )\n\u001b[0;32m    <a href='file:///c%3A/Users/Grant/virenv/algo/lib/site-packages/urllib3/connectionpool.py?line=712'>713</a>\u001b[0m \u001b[39m# If we're going to release the connection in ``finally:``, then\u001b[39;00m\n\u001b[0;32m    <a href='file:///c%3A/Users/Grant/virenv/algo/lib/site-packages/urllib3/connectionpool.py?line=713'>714</a>\u001b[0m \u001b[39m# the response doesn't need to know about the connection. Otherwise\u001b[39;00m\n\u001b[0;32m    <a href='file:///c%3A/Users/Grant/virenv/algo/lib/site-packages/urllib3/connectionpool.py?line=714'>715</a>\u001b[0m \u001b[39m# it will also try to release it and we'll have a double-release\u001b[39;00m\n\u001b[0;32m    <a href='file:///c%3A/Users/Grant/virenv/algo/lib/site-packages/urllib3/connectionpool.py?line=715'>716</a>\u001b[0m \u001b[39m# mess.\u001b[39;00m\n",
      "File \u001b[1;32mc:\\Users\\Grant\\virenv\\algo\\lib\\site-packages\\urllib3\\connectionpool.py:451\u001b[0m, in \u001b[0;36mHTTPConnectionPool._make_request\u001b[1;34m(self, conn, method, url, timeout, chunked, **httplib_request_kw)\u001b[0m\n\u001b[0;32m    <a href='file:///c%3A/Users/Grant/virenv/algo/lib/site-packages/urllib3/connectionpool.py?line=449'>450</a>\u001b[0m \u001b[39mexcept\u001b[39;00m (SocketTimeout, BaseSSLError, SocketError) \u001b[39mas\u001b[39;00m e:\n\u001b[1;32m--> <a href='file:///c%3A/Users/Grant/virenv/algo/lib/site-packages/urllib3/connectionpool.py?line=450'>451</a>\u001b[0m     \u001b[39mself\u001b[39;49m\u001b[39m.\u001b[39;49m_raise_timeout(err\u001b[39m=\u001b[39;49me, url\u001b[39m=\u001b[39;49murl, timeout_value\u001b[39m=\u001b[39;49mread_timeout)\n\u001b[0;32m    <a href='file:///c%3A/Users/Grant/virenv/algo/lib/site-packages/urllib3/connectionpool.py?line=451'>452</a>\u001b[0m     \u001b[39mraise\u001b[39;00m\n",
      "File \u001b[1;32mc:\\Users\\Grant\\virenv\\algo\\lib\\site-packages\\urllib3\\connectionpool.py:340\u001b[0m, in \u001b[0;36mHTTPConnectionPool._raise_timeout\u001b[1;34m(self, err, url, timeout_value)\u001b[0m\n\u001b[0;32m    <a href='file:///c%3A/Users/Grant/virenv/algo/lib/site-packages/urllib3/connectionpool.py?line=338'>339</a>\u001b[0m \u001b[39mif\u001b[39;00m \u001b[39misinstance\u001b[39m(err, SocketTimeout):\n\u001b[1;32m--> <a href='file:///c%3A/Users/Grant/virenv/algo/lib/site-packages/urllib3/connectionpool.py?line=339'>340</a>\u001b[0m     \u001b[39mraise\u001b[39;00m ReadTimeoutError(\n\u001b[0;32m    <a href='file:///c%3A/Users/Grant/virenv/algo/lib/site-packages/urllib3/connectionpool.py?line=340'>341</a>\u001b[0m         \u001b[39mself\u001b[39m, url, \u001b[39m\"\u001b[39m\u001b[39mRead timed out. (read timeout=\u001b[39m\u001b[39m%s\u001b[39;00m\u001b[39m)\u001b[39m\u001b[39m\"\u001b[39m \u001b[39m%\u001b[39m timeout_value\n\u001b[0;32m    <a href='file:///c%3A/Users/Grant/virenv/algo/lib/site-packages/urllib3/connectionpool.py?line=341'>342</a>\u001b[0m     )\n\u001b[0;32m    <a href='file:///c%3A/Users/Grant/virenv/algo/lib/site-packages/urllib3/connectionpool.py?line=343'>344</a>\u001b[0m \u001b[39m# See the above comment about EAGAIN in Python 3. In Python 2 we have\u001b[39;00m\n\u001b[0;32m    <a href='file:///c%3A/Users/Grant/virenv/algo/lib/site-packages/urllib3/connectionpool.py?line=344'>345</a>\u001b[0m \u001b[39m# to specifically catch it and throw the timeout error\u001b[39;00m\n",
      "\u001b[1;31mReadTimeoutError\u001b[0m: HTTPSConnectionPool(host='api.binance.com', port=443): Read timed out. (read timeout=10)",
      "\nDuring handling of the above exception, another exception occurred:\n",
      "\u001b[1;31mReadTimeout\u001b[0m                               Traceback (most recent call last)",
      "File \u001b[1;32mc:\\Users\\Grant\\virenv\\algo\\lib\\site-packages\\ccxt\\base\\exchange.py:630\u001b[0m, in \u001b[0;36mExchange.fetch\u001b[1;34m(self, url, method, headers, body)\u001b[0m\n\u001b[0;32m    <a href='file:///c%3A/Users/Grant/virenv/algo/lib/site-packages/ccxt/base/exchange.py?line=628'>629</a>\u001b[0m \u001b[39mtry\u001b[39;00m:\n\u001b[1;32m--> <a href='file:///c%3A/Users/Grant/virenv/algo/lib/site-packages/ccxt/base/exchange.py?line=629'>630</a>\u001b[0m     response \u001b[39m=\u001b[39m \u001b[39mself\u001b[39;49m\u001b[39m.\u001b[39;49msession\u001b[39m.\u001b[39;49mrequest(\n\u001b[0;32m    <a href='file:///c%3A/Users/Grant/virenv/algo/lib/site-packages/ccxt/base/exchange.py?line=630'>631</a>\u001b[0m         method,\n\u001b[0;32m    <a href='file:///c%3A/Users/Grant/virenv/algo/lib/site-packages/ccxt/base/exchange.py?line=631'>632</a>\u001b[0m         url,\n\u001b[0;32m    <a href='file:///c%3A/Users/Grant/virenv/algo/lib/site-packages/ccxt/base/exchange.py?line=632'>633</a>\u001b[0m         data\u001b[39m=\u001b[39;49mbody,\n\u001b[0;32m    <a href='file:///c%3A/Users/Grant/virenv/algo/lib/site-packages/ccxt/base/exchange.py?line=633'>634</a>\u001b[0m         headers\u001b[39m=\u001b[39;49mrequest_headers,\n\u001b[0;32m    <a href='file:///c%3A/Users/Grant/virenv/algo/lib/site-packages/ccxt/base/exchange.py?line=634'>635</a>\u001b[0m         timeout\u001b[39m=\u001b[39;49m\u001b[39mint\u001b[39;49m(\u001b[39mself\u001b[39;49m\u001b[39m.\u001b[39;49mtimeout \u001b[39m/\u001b[39;49m \u001b[39m1000\u001b[39;49m),\n\u001b[0;32m    <a href='file:///c%3A/Users/Grant/virenv/algo/lib/site-packages/ccxt/base/exchange.py?line=635'>636</a>\u001b[0m         proxies\u001b[39m=\u001b[39;49m\u001b[39mself\u001b[39;49m\u001b[39m.\u001b[39;49mproxies,\n\u001b[0;32m    <a href='file:///c%3A/Users/Grant/virenv/algo/lib/site-packages/ccxt/base/exchange.py?line=636'>637</a>\u001b[0m         verify\u001b[39m=\u001b[39;49m\u001b[39mself\u001b[39;49m\u001b[39m.\u001b[39;49mverify\n\u001b[0;32m    <a href='file:///c%3A/Users/Grant/virenv/algo/lib/site-packages/ccxt/base/exchange.py?line=637'>638</a>\u001b[0m     )\n\u001b[0;32m    <a href='file:///c%3A/Users/Grant/virenv/algo/lib/site-packages/ccxt/base/exchange.py?line=638'>639</a>\u001b[0m     \u001b[39m# does not try to detect encoding\u001b[39;00m\n",
      "File \u001b[1;32mc:\\Users\\Grant\\virenv\\algo\\lib\\site-packages\\requests\\sessions.py:529\u001b[0m, in \u001b[0;36mSession.request\u001b[1;34m(self, method, url, params, data, headers, cookies, files, auth, timeout, allow_redirects, proxies, hooks, stream, verify, cert, json)\u001b[0m\n\u001b[0;32m    <a href='file:///c%3A/Users/Grant/virenv/algo/lib/site-packages/requests/sessions.py?line=527'>528</a>\u001b[0m send_kwargs\u001b[39m.\u001b[39mupdate(settings)\n\u001b[1;32m--> <a href='file:///c%3A/Users/Grant/virenv/algo/lib/site-packages/requests/sessions.py?line=528'>529</a>\u001b[0m resp \u001b[39m=\u001b[39m \u001b[39mself\u001b[39m\u001b[39m.\u001b[39msend(prep, \u001b[39m*\u001b[39m\u001b[39m*\u001b[39msend_kwargs)\n\u001b[0;32m    <a href='file:///c%3A/Users/Grant/virenv/algo/lib/site-packages/requests/sessions.py?line=530'>531</a>\u001b[0m \u001b[39mreturn\u001b[39;00m resp\n",
      "File \u001b[1;32mc:\\Users\\Grant\\virenv\\algo\\lib\\site-packages\\requests\\sessions.py:645\u001b[0m, in \u001b[0;36mSession.send\u001b[1;34m(self, request, **kwargs)\u001b[0m\n\u001b[0;32m    <a href='file:///c%3A/Users/Grant/virenv/algo/lib/site-packages/requests/sessions.py?line=643'>644</a>\u001b[0m \u001b[39m# Send the request\u001b[39;00m\n\u001b[1;32m--> <a href='file:///c%3A/Users/Grant/virenv/algo/lib/site-packages/requests/sessions.py?line=644'>645</a>\u001b[0m r \u001b[39m=\u001b[39m adapter\u001b[39m.\u001b[39msend(request, \u001b[39m*\u001b[39m\u001b[39m*\u001b[39mkwargs)\n\u001b[0;32m    <a href='file:///c%3A/Users/Grant/virenv/algo/lib/site-packages/requests/sessions.py?line=646'>647</a>\u001b[0m \u001b[39m# Total elapsed time of the request (approximately)\u001b[39;00m\n",
      "File \u001b[1;32mc:\\Users\\Grant\\virenv\\algo\\lib\\site-packages\\requests\\adapters.py:532\u001b[0m, in \u001b[0;36mHTTPAdapter.send\u001b[1;34m(self, request, stream, timeout, verify, cert, proxies)\u001b[0m\n\u001b[0;32m    <a href='file:///c%3A/Users/Grant/virenv/algo/lib/site-packages/requests/adapters.py?line=530'>531</a>\u001b[0m \u001b[39melif\u001b[39;00m \u001b[39misinstance\u001b[39m(e, ReadTimeoutError):\n\u001b[1;32m--> <a href='file:///c%3A/Users/Grant/virenv/algo/lib/site-packages/requests/adapters.py?line=531'>532</a>\u001b[0m     \u001b[39mraise\u001b[39;00m ReadTimeout(e, request\u001b[39m=\u001b[39mrequest)\n\u001b[0;32m    <a href='file:///c%3A/Users/Grant/virenv/algo/lib/site-packages/requests/adapters.py?line=532'>533</a>\u001b[0m \u001b[39melif\u001b[39;00m \u001b[39misinstance\u001b[39m(e, _InvalidHeader):\n",
      "\u001b[1;31mReadTimeout\u001b[0m: HTTPSConnectionPool(host='api.binance.com', port=443): Read timed out. (read timeout=10)",
      "\nThe above exception was the direct cause of the following exception:\n",
      "\u001b[1;31mRequestTimeout\u001b[0m                            Traceback (most recent call last)",
      "\u001b[1;32mc:\\Users\\Grant\\Desktop\\work_git\\work\\CCXT_DataFetch.ipynb Cell 3'\u001b[0m in \u001b[0;36m<module>\u001b[1;34m\u001b[0m\n\u001b[0;32m     <a href='vscode-notebook-cell:/c%3A/Users/Grant/Desktop/work_git/work/CCXT_DataFetch.ipynb#ch0000002?line=28'>29</a>\u001b[0m \u001b[39mif\u001b[39;00m \u001b[39mnot\u001b[39;00m os\u001b[39m.\u001b[39mpath\u001b[39m.\u001b[39mexists(outdir):\n\u001b[0;32m     <a href='vscode-notebook-cell:/c%3A/Users/Grant/Desktop/work_git/work/CCXT_DataFetch.ipynb#ch0000002?line=29'>30</a>\u001b[0m     os\u001b[39m.\u001b[39mmakedirs(outdir)\n\u001b[1;32m---> <a href='vscode-notebook-cell:/c%3A/Users/Grant/Desktop/work_git/work/CCXT_DataFetch.ipynb#ch0000002?line=31'>32</a>\u001b[0m bars \u001b[39m=\u001b[39m exchange\u001b[39m.\u001b[39;49mfetch_ohlcv(symbol, timeframe\u001b[39m=\u001b[39;49mtimeframe, limit\u001b[39m=\u001b[39;49m\u001b[39m999\u001b[39;49m)\n\u001b[0;32m     <a href='vscode-notebook-cell:/c%3A/Users/Grant/Desktop/work_git/work/CCXT_DataFetch.ipynb#ch0000002?line=35'>36</a>\u001b[0m \u001b[39m# # must use bars[:-1] because arrgrelextrema will see the last candle wich have not closed yet\u001b[39;00m\n\u001b[0;32m     <a href='vscode-notebook-cell:/c%3A/Users/Grant/Desktop/work_git/work/CCXT_DataFetch.ipynb#ch0000002?line=36'>37</a>\u001b[0m \u001b[39m# data = pd.DataFrame(bars[:-1], columns=['Time', 'Open', 'High', 'Low', 'Close', 'Volume'])\u001b[39;00m\n\u001b[0;32m     <a href='vscode-notebook-cell:/c%3A/Users/Grant/Desktop/work_git/work/CCXT_DataFetch.ipynb#ch0000002?line=37'>38</a>\u001b[0m \n\u001b[0;32m     <a href='vscode-notebook-cell:/c%3A/Users/Grant/Desktop/work_git/work/CCXT_DataFetch.ipynb#ch0000002?line=38'>39</a>\u001b[0m \u001b[39m# use it for faster entry and exit\u001b[39;00m\n\u001b[0;32m     <a href='vscode-notebook-cell:/c%3A/Users/Grant/Desktop/work_git/work/CCXT_DataFetch.ipynb#ch0000002?line=39'>40</a>\u001b[0m data \u001b[39m=\u001b[39m pd\u001b[39m.\u001b[39mDataFrame(bars[:], columns\u001b[39m=\u001b[39m[\u001b[39m'\u001b[39m\u001b[39mTime\u001b[39m\u001b[39m'\u001b[39m, \u001b[39m'\u001b[39m\u001b[39mOpen\u001b[39m\u001b[39m'\u001b[39m, \u001b[39m'\u001b[39m\u001b[39mHigh\u001b[39m\u001b[39m'\u001b[39m, \u001b[39m'\u001b[39m\u001b[39mLow\u001b[39m\u001b[39m'\u001b[39m, \u001b[39m'\u001b[39m\u001b[39mClose\u001b[39m\u001b[39m'\u001b[39m, \u001b[39m'\u001b[39m\u001b[39mVolume\u001b[39m\u001b[39m'\u001b[39m])\n",
      "File \u001b[1;32mc:\\Users\\Grant\\virenv\\algo\\lib\\site-packages\\ccxt\\binance.py:2156\u001b[0m, in \u001b[0;36mbinance.fetch_ohlcv\u001b[1;34m(self, symbol, timeframe, since, limit, params)\u001b[0m\n\u001b[0;32m   <a href='file:///c%3A/Users/Grant/virenv/algo/lib/site-packages/ccxt/binance.py?line=2153'>2154</a>\u001b[0m \u001b[39melif\u001b[39;00m market[\u001b[39m'\u001b[39m\u001b[39minverse\u001b[39m\u001b[39m'\u001b[39m]:\n\u001b[0;32m   <a href='file:///c%3A/Users/Grant/virenv/algo/lib/site-packages/ccxt/binance.py?line=2154'>2155</a>\u001b[0m     method \u001b[39m=\u001b[39m \u001b[39m'\u001b[39m\u001b[39mdapiPublicGetKlines\u001b[39m\u001b[39m'\u001b[39m\n\u001b[1;32m-> <a href='file:///c%3A/Users/Grant/virenv/algo/lib/site-packages/ccxt/binance.py?line=2155'>2156</a>\u001b[0m response \u001b[39m=\u001b[39m \u001b[39mgetattr\u001b[39;49m(\u001b[39mself\u001b[39;49m, method)(\u001b[39mself\u001b[39;49m\u001b[39m.\u001b[39;49mextend(request, params))\n\u001b[0;32m   <a href='file:///c%3A/Users/Grant/virenv/algo/lib/site-packages/ccxt/binance.py?line=2156'>2157</a>\u001b[0m \u001b[39m#\u001b[39;00m\n\u001b[0;32m   <a href='file:///c%3A/Users/Grant/virenv/algo/lib/site-packages/ccxt/binance.py?line=2157'>2158</a>\u001b[0m \u001b[39m#     [\u001b[39;00m\n\u001b[0;32m   <a href='file:///c%3A/Users/Grant/virenv/algo/lib/site-packages/ccxt/binance.py?line=2158'>2159</a>\u001b[0m \u001b[39m#         [1591478520000,\"0.02501300\",\"0.02501800\",\"0.02500000\",\"0.02500000\",\"22.19000000\",1591478579999,\"0.55490906\",40,\"10.92900000\",\"0.27336462\",\"0\"],\u001b[39;00m\n\u001b[1;32m   (...)\u001b[0m\n\u001b[0;32m   <a href='file:///c%3A/Users/Grant/virenv/algo/lib/site-packages/ccxt/binance.py?line=2161'>2162</a>\u001b[0m \u001b[39m#     ]\u001b[39;00m\n\u001b[0;32m   <a href='file:///c%3A/Users/Grant/virenv/algo/lib/site-packages/ccxt/binance.py?line=2162'>2163</a>\u001b[0m \u001b[39m#\u001b[39;00m\n\u001b[0;32m   <a href='file:///c%3A/Users/Grant/virenv/algo/lib/site-packages/ccxt/binance.py?line=2163'>2164</a>\u001b[0m \u001b[39mreturn\u001b[39;00m \u001b[39mself\u001b[39m\u001b[39m.\u001b[39mparse_ohlcvs(response, market, timeframe, since, limit)\n",
      "File \u001b[1;32mc:\\Users\\Grant\\virenv\\algo\\lib\\site-packages\\ccxt\\base\\exchange.py:498\u001b[0m, in \u001b[0;36mExchange.define_rest_api_endpoint.<locals>.partialer.<locals>.inner\u001b[1;34m(_self, params, context)\u001b[0m\n\u001b[0;32m    <a href='file:///c%3A/Users/Grant/virenv/algo/lib/site-packages/ccxt/base/exchange.py?line=495'>496</a>\u001b[0m \u001b[39mif\u001b[39;00m context \u001b[39mis\u001b[39;00m \u001b[39mnot\u001b[39;00m \u001b[39mNone\u001b[39;00m:\n\u001b[0;32m    <a href='file:///c%3A/Users/Grant/virenv/algo/lib/site-packages/ccxt/base/exchange.py?line=496'>497</a>\u001b[0m     inner_kwargs[\u001b[39m'\u001b[39m\u001b[39mcontext\u001b[39m\u001b[39m'\u001b[39m] \u001b[39m=\u001b[39m params\n\u001b[1;32m--> <a href='file:///c%3A/Users/Grant/virenv/algo/lib/site-packages/ccxt/base/exchange.py?line=497'>498</a>\u001b[0m \u001b[39mreturn\u001b[39;00m entry(_self, \u001b[39m*\u001b[39m\u001b[39m*\u001b[39minner_kwargs)\n",
      "File \u001b[1;32mc:\\Users\\Grant\\virenv\\algo\\lib\\site-packages\\ccxt\\binance.py:4884\u001b[0m, in \u001b[0;36mbinance.request\u001b[1;34m(self, path, api, method, params, headers, body, config, context)\u001b[0m\n\u001b[0;32m   <a href='file:///c%3A/Users/Grant/virenv/algo/lib/site-packages/ccxt/binance.py?line=4882'>4883</a>\u001b[0m \u001b[39mdef\u001b[39;00m \u001b[39mrequest\u001b[39m(\u001b[39mself\u001b[39m, path, api\u001b[39m=\u001b[39m\u001b[39m'\u001b[39m\u001b[39mpublic\u001b[39m\u001b[39m'\u001b[39m, method\u001b[39m=\u001b[39m\u001b[39m'\u001b[39m\u001b[39mGET\u001b[39m\u001b[39m'\u001b[39m, params\u001b[39m=\u001b[39m{}, headers\u001b[39m=\u001b[39m\u001b[39mNone\u001b[39;00m, body\u001b[39m=\u001b[39m\u001b[39mNone\u001b[39;00m, config\u001b[39m=\u001b[39m{}, context\u001b[39m=\u001b[39m{}):\n\u001b[1;32m-> <a href='file:///c%3A/Users/Grant/virenv/algo/lib/site-packages/ccxt/binance.py?line=4883'>4884</a>\u001b[0m     response \u001b[39m=\u001b[39m \u001b[39mself\u001b[39;49m\u001b[39m.\u001b[39;49mfetch2(path, api, method, params, headers, body, config, context)\n\u001b[0;32m   <a href='file:///c%3A/Users/Grant/virenv/algo/lib/site-packages/ccxt/binance.py?line=4884'>4885</a>\u001b[0m     \u001b[39m# a workaround for {\"code\":-2015,\"msg\":\"Invalid API-key, IP, or permissions for action.\"}\u001b[39;00m\n\u001b[0;32m   <a href='file:///c%3A/Users/Grant/virenv/algo/lib/site-packages/ccxt/binance.py?line=4885'>4886</a>\u001b[0m     \u001b[39mif\u001b[39;00m (api \u001b[39m==\u001b[39m \u001b[39m'\u001b[39m\u001b[39mprivate\u001b[39m\u001b[39m'\u001b[39m) \u001b[39mor\u001b[39;00m (api \u001b[39m==\u001b[39m \u001b[39m'\u001b[39m\u001b[39mwapi\u001b[39m\u001b[39m'\u001b[39m):\n",
      "File \u001b[1;32mc:\\Users\\Grant\\virenv\\algo\\lib\\site-packages\\ccxt\\base\\exchange.py:545\u001b[0m, in \u001b[0;36mExchange.fetch2\u001b[1;34m(self, path, api, method, params, headers, body, config, context)\u001b[0m\n\u001b[0;32m    <a href='file:///c%3A/Users/Grant/virenv/algo/lib/site-packages/ccxt/base/exchange.py?line=542'>543</a>\u001b[0m \u001b[39mself\u001b[39m\u001b[39m.\u001b[39mlastRestRequestTimestamp \u001b[39m=\u001b[39m \u001b[39mself\u001b[39m\u001b[39m.\u001b[39mmilliseconds()\n\u001b[0;32m    <a href='file:///c%3A/Users/Grant/virenv/algo/lib/site-packages/ccxt/base/exchange.py?line=543'>544</a>\u001b[0m request \u001b[39m=\u001b[39m \u001b[39mself\u001b[39m\u001b[39m.\u001b[39msign(path, api, method, params, headers, body)\n\u001b[1;32m--> <a href='file:///c%3A/Users/Grant/virenv/algo/lib/site-packages/ccxt/base/exchange.py?line=544'>545</a>\u001b[0m \u001b[39mreturn\u001b[39;00m \u001b[39mself\u001b[39;49m\u001b[39m.\u001b[39;49mfetch(request[\u001b[39m'\u001b[39;49m\u001b[39murl\u001b[39;49m\u001b[39m'\u001b[39;49m], request[\u001b[39m'\u001b[39;49m\u001b[39mmethod\u001b[39;49m\u001b[39m'\u001b[39;49m], request[\u001b[39m'\u001b[39;49m\u001b[39mheaders\u001b[39;49m\u001b[39m'\u001b[39;49m], request[\u001b[39m'\u001b[39;49m\u001b[39mbody\u001b[39;49m\u001b[39m'\u001b[39;49m])\n",
      "File \u001b[1;32mc:\\Users\\Grant\\virenv\\algo\\lib\\site-packages\\ccxt\\base\\exchange.py:660\u001b[0m, in \u001b[0;36mExchange.fetch\u001b[1;34m(self, url, method, headers, body)\u001b[0m\n\u001b[0;32m    <a href='file:///c%3A/Users/Grant/virenv/algo/lib/site-packages/ccxt/base/exchange.py?line=657'>658</a>\u001b[0m \u001b[39mexcept\u001b[39;00m Timeout \u001b[39mas\u001b[39;00m e:\n\u001b[0;32m    <a href='file:///c%3A/Users/Grant/virenv/algo/lib/site-packages/ccxt/base/exchange.py?line=658'>659</a>\u001b[0m     details \u001b[39m=\u001b[39m \u001b[39m'\u001b[39m\u001b[39m \u001b[39m\u001b[39m'\u001b[39m\u001b[39m.\u001b[39mjoin([\u001b[39mself\u001b[39m\u001b[39m.\u001b[39mid, method, url])\n\u001b[1;32m--> <a href='file:///c%3A/Users/Grant/virenv/algo/lib/site-packages/ccxt/base/exchange.py?line=659'>660</a>\u001b[0m     \u001b[39mraise\u001b[39;00m RequestTimeout(details) \u001b[39mfrom\u001b[39;00m \u001b[39me\u001b[39;00m\n\u001b[0;32m    <a href='file:///c%3A/Users/Grant/virenv/algo/lib/site-packages/ccxt/base/exchange.py?line=661'>662</a>\u001b[0m \u001b[39mexcept\u001b[39;00m TooManyRedirects \u001b[39mas\u001b[39;00m e:\n\u001b[0;32m    <a href='file:///c%3A/Users/Grant/virenv/algo/lib/site-packages/ccxt/base/exchange.py?line=662'>663</a>\u001b[0m     details \u001b[39m=\u001b[39m \u001b[39m'\u001b[39m\u001b[39m \u001b[39m\u001b[39m'\u001b[39m\u001b[39m.\u001b[39mjoin([\u001b[39mself\u001b[39m\u001b[39m.\u001b[39mid, method, url])\n",
      "\u001b[1;31mRequestTimeout\u001b[0m: binance GET https://api.binance.com/api/v3/klines?interval=12h&limit=999&symbol=NEARUSDT"
     ]
    }
   ],
   "source": [
    "\n",
    "# always put the list out of the loop or everthing will be wiped out each turn\n",
    "\n",
    "timeframes = [\"4h\", \"8h\"]\n",
    "# timeframes = [\"12h\"]\n",
    "# limit = 1003\n",
    "\n",
    "\n",
    "# td =datetime.now().strftime('%Y-%m-%d_%H')\n",
    "mydir=f\"{os.getcwd()}/data\"\n",
    "if os.path.exists(mydir):\n",
    "    shutil.rmtree(mydir)\n",
    "\n",
    "for timeframe in timeframes:\n",
    "\n",
    "    for symbol in tqdm(pairs):\n",
    "\n",
    "        m_symbol = symbol.replace(\"/\",\"\")\n",
    "        outname = f\"{m_symbol}_{timeframe}.csv\"\n",
    "\n",
    "        # outdir=f\"{os.getcwd()}/data/{td}/{timeframe}\"\n",
    "        outdir=f\"{os.getcwd()}/data/{timeframe}\"\n",
    "        # outdir=f\"{os.getenv('HOME')}/data/{td}/{timeframe}\"\n",
    "        fullname = os.path.join(outdir, outname) \n",
    "\n",
    "        # remove old dir\n",
    "        # if os.path.exists(outdir):\n",
    "        #     shutil.rmtree(outdir)\n",
    "\n",
    "        if not os.path.exists(outdir):\n",
    "            os.makedirs(outdir)\n",
    "\n",
    "        bars = exchange.fetch_ohlcv(symbol, timeframe=timeframe, limit=999)\n",
    "\n",
    "        \n",
    "\n",
    "        # # must use bars[:-1] because arrgrelextrema will see the last candle wich have not closed yet\n",
    "        # data = pd.DataFrame(bars[:-1], columns=['Time', 'Open', 'High', 'Low', 'Close', 'Volume'])\n",
    "\n",
    "        # use it for faster entry and exit\n",
    "        data = pd.DataFrame(bars[:], columns=['Time', 'Open', 'High', 'Low', 'Close', 'Volume'])\n",
    "\n",
    "\n",
    "\n",
    "        data['Time'] = pd.to_datetime(data['Time'], unit='ms')\n",
    "        data.set_index('Time', inplace=True)\n",
    "        # if len(data) < 22:\n",
    "        #     print(\"data less than 22 candles for \", symbol)\n",
    "        #     continue\n",
    "        if len(data) > 22:\n",
    "            data.to_csv(fullname) \n",
    "        # print('fetching new data', symbol)\n",
    "    \n",
    "# run the script 11 minutes before the znd of the current hour or 1 m after the hour\n",
    "# or you will face problems with datetime\n",
    "\n",
    "\n"
   ]
  },
  {
   "cell_type": "code",
   "execution_count": null,
   "metadata": {},
   "outputs": [],
   "source": [
    "# remove dfs that stoppped updating \n",
    "\n",
    "for timeframe in timeframes:\n",
    "    outdir2 = f\"{os.getcwd()}/data/{timeframe}\"\n",
    "    values=[]\n",
    "    keys = []\n",
    "    result = {}\n",
    "    dicts = {}\n",
    "    \n",
    "    for filename in os.listdir(outdir2):\n",
    "        symbol2 = filename.split(\"_\")[0]\n",
    "        df = pd.read_csv(f\"{outdir2}/{filename}\", index_col='Time')\n",
    "        values.append(df.index[-1])\n",
    "        keys.append(symbol2)\n",
    "\n",
    "    dicts=dict(zip(keys, values))\n",
    "\n",
    "\n",
    "    res = Counter(dicts.values()).most_common(1)\n",
    "    res2 = res[0][0]\n",
    "\n",
    "    # # the problem here\n",
    "    for key,value in dicts.items():\n",
    "        if res2 != value:\n",
    "            # result[key] = value\n",
    "            # os.remove(fullname)\n",
    "\n",
    "            # show the coins removed\n",
    "            # print(value, key)\n",
    "\n",
    "            # print(f\"{outdir2}/{key}_{timeframe}.csv\")\n",
    "            os.remove(f\"{outdir2}/{key}_{timeframe}.csv\")\n",
    "\n",
    "\n"
   ]
  },
  {
   "cell_type": "code",
   "execution_count": null,
   "metadata": {},
   "outputs": [
    {
     "name": "stdout",
     "output_type": "stream",
     "text": [
      "2022-02-26 07:00:00\n"
     ]
    }
   ],
   "source": [
    "print(data.index[-1])"
   ]
  }
 ],
 "metadata": {
  "interpreter": {
   "hash": "3756e50263641124812bebbe71b3301d6fe5d90f19e89fc330b3e20fa5370427"
  },
  "kernelspec": {
   "display_name": "Python 3.10.0 64-bit ('algo': venv)",
   "language": "python",
   "name": "python3"
  },
  "language_info": {
   "codemirror_mode": {
    "name": "ipython",
    "version": 3
   },
   "file_extension": ".py",
   "mimetype": "text/x-python",
   "name": "python",
   "nbconvert_exporter": "python",
   "pygments_lexer": "ipython3",
   "version": "3.10.0"
  },
  "orig_nbformat": 4
 },
 "nbformat": 4,
 "nbformat_minor": 2
}
