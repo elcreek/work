{
 "cells": [
  {
   "cell_type": "code",
   "execution_count": 12,
   "metadata": {},
   "outputs": [],
   "source": [
    "import ccxt\n",
    "import os\n",
    "import pandas as pd\n",
    "from datetime import datetime, timedelta\n",
    "from tqdm import tqdm\n",
    "# import sys\n",
    "# import shutil\n",
    "# from functools import partial\n",
    "# from pathlib import Path\n",
    "import sys\n",
    "import shutil\n",
    "from collections import Counter\n",
    "\n",
    "\n",
    "exchange = ccxt.binance()\n",
    "\n",
    "exchange.load_markets()\n",
    "\n",
    "symbols = exchange.symbols"
   ]
  },
  {
   "cell_type": "code",
   "execution_count": 2,
   "metadata": {},
   "outputs": [],
   "source": [
    "t = 'USDT'\n",
    "pairs = []\n",
    "# global unwanted\n",
    "unwanted = [\"XNO\",\"BTT\",\"GYEN\",\"UP/\",\"DOWN/\",\"USDS\",\"USDT/\",\"USDSB\",\"SUSD\",\n",
    "\"NCASH/ETH\",\"DNT/ETH\",\"BCN/ETH\",\"UST\",\"ETH/\",\"BKRW\",\"VAI\",\"RUB\",\n",
    "\"NGN\",\"DAI\",\"BIDR\",\"BEAR\", \"BULL\", \"PAX\", \"TUSD\", \"UMA\", \"USDC\",\n",
    " \"USDP\", \"BUSD/\", \"EUR\", \"GBP\", \"TRY\", \"AUD\",\"BRL\", \"BVND\"]\n",
    "\n",
    "for s in symbols:\n",
    "    if (t in s):\n",
    "        pairs.append(s)\n",
    "\n",
    "pairs=[n for n in pairs if all(m not in n for m in unwanted)]\n",
    "\n",
    "\n",
    "_pairs = [\"ATOM/USDT\"]\n"
   ]
  },
  {
   "cell_type": "code",
   "execution_count": null,
   "metadata": {},
   "outputs": [],
   "source": [
    "\n",
    "# always put the list out of the loop or everthing will be wiped out each turn\n",
    "\n",
    "timeframes = [\"1h\", \"4h\", \"1d\"]\n",
    "# limit = 1003\n",
    "\n",
    "# td =datetime.now().strftime('%Y-%m-%d_%H')\n",
    "mydir=f\"{os.getcwd()}/data\"\n",
    "if os.path.exists(mydir):\n",
    "    shutil.rmtree(mydir)\n",
    "\n",
    "for timeframe in timeframes:\n",
    "\n",
    "    for symbol in tqdm(pairs):\n",
    "\n",
    "        m_symbol = symbol.replace(\"/\",\"\")\n",
    "        outname = f\"{m_symbol}_{timeframe}.csv\"\n",
    "\n",
    "        # outdir=f\"{os.getcwd()}/data/{td}/{timeframe}\"\n",
    "        outdir=f\"{os.getcwd()}/data/{timeframe}\"\n",
    "        # outdir=f\"{os.getenv('HOME')}/data/{td}/{timeframe}\"\n",
    "        fullname = os.path.join(outdir, outname) \n",
    "\n",
    "        # remove old dir\n",
    "        # if os.path.exists(outdir):\n",
    "        #     shutil.rmtree(outdir)\n",
    "\n",
    "        if not os.path.exists(outdir):\n",
    "            os.makedirs(outdir)\n",
    "\n",
    "        bars = exchange.fetch_ohlcv(symbol, timeframe=timeframe, limit=1001)\n",
    "        # must use bars[:-1] because arrgrelextrema will see the last candle wich have not closed yet\n",
    "        data = pd.DataFrame(bars[:-1], columns=['Time', 'Open', 'High', 'Low', 'Close', 'Volume'])\n",
    "        data['Time'] = pd.to_datetime(data['Time'], unit='ms')\n",
    "        data.set_index('Time', inplace=True)\n",
    "        # if len(data) < 22:\n",
    "        #     print(\"data less than 22 candles for \", symbol)\n",
    "        #     continue\n",
    "        if len(data) > 22:\n",
    "            data.to_csv(fullname) \n",
    "        # print('fetching new data', symbol)\n",
    "    \n"
   ]
  },
  {
   "cell_type": "code",
   "execution_count": 41,
   "metadata": {},
   "outputs": [],
   "source": [
    "# remove dfs that stoppped updating \n",
    "# values=[]\n",
    "# keys = []\n",
    "# result = {}\n",
    "# timeframes=[\"4h\",\"1d\",\"1h\"]\n",
    "\n",
    "\n",
    "for timeframe in timeframes:\n",
    "    outdir2 = f\"{os.getcwd()}/data/{timeframe}\"\n",
    "    values=[]\n",
    "    keys = []\n",
    "    result = {}\n",
    "    dicts = {}\n",
    "    \n",
    "    for filename in os.listdir(outdir2):\n",
    "        # symbol = filename.replace(f\"_{timeframe}.csv\",\"\")\n",
    "        # print(filename)\n",
    "        symbol2 = filename.split(\"_\")[0]\n",
    "        df = pd.read_csv(f\"{outdir2}/{filename}\", index_col='Time')\n",
    "        # if len(df) < 22:\n",
    "        #     print(\"data less than 22 candles for \", symbol2)\n",
    "        #     os.remove(f\"{outdir2}/{filename}\")\n",
    "        # df = pd.read_csv(f\"{outdir2}/{symbol2}_{timeframe}.csv\", index_col='Time')\n",
    "        # print(df.index[-1], symbol)\n",
    "        values.append(df.index[-1])\n",
    "        keys.append(symbol2)\n",
    "\n",
    "    dicts=dict(zip(keys, values))\n",
    "    # print(dicts)\n",
    "    \n",
    "    # se=list(set(dicts.values()))\n",
    "    # print(sorted(se))\n",
    "\n",
    "    res = Counter(dicts.values()).most_common(1)\n",
    "    res2 = res[0][0]\n",
    "\n",
    "    # print(list(res)[0][0])\n",
    "    # print(res2)\n",
    "\n",
    "    # rz = filter(lambda x: len(x)<22, dicts.values())\n",
    "    # print(len(list(rz)))\n",
    "    \n",
    "\n",
    "\n",
    "    # # the problem here\n",
    "    for key,value in dicts.items():\n",
    "        if res2 != value:\n",
    "            # result[key] = value\n",
    "            # os.remove(fullname)\n",
    "            print(value, key)\n",
    "            # print(f\"{outdir2}/{key}_{timeframe}.csv\")\n",
    "            os.remove(f\"{outdir2}/{key}_{timeframe}.csv\")\n",
    "\n",
    "    # l=list(result.keys())[1:]\n",
    "    # print(timeframe)\n",
    "    # print(result)\n",
    "    # print(\"l : \", l)\n",
    "\n",
    "    # for p in l:\n",
    "    #     outname=f\"{p}_{timeframe}.csv\"\n",
    "    #     outdir2=f\"{os.getcwd()}/data/{timeframe}\"\n",
    "    #     fullname = os.path.join(outdir2, outname) \n",
    "    #     # os.remove(f\"{os.getcwd()}/data/{timeframe}/{filename}\")\n",
    "    #     os.remove(fullname)\n",
    "    #     print(fullname)\n",
    "\n",
    "    # dicts.clear()\n",
    "    # result.clear()\n",
    "\n",
    "\n",
    "\n"
   ]
  },
  {
   "cell_type": "code",
   "execution_count": null,
   "metadata": {},
   "outputs": [
    {
     "ename": "FileNotFoundError",
     "evalue": "[WinError 3] The system cannot find the path specified: 'c:\\\\Users\\\\Grant\\\\Desktop\\\\work_git\\\\work/data'",
     "output_type": "error",
     "traceback": [
      "\u001b[1;31m---------------------------------------------------------------------------\u001b[0m",
      "\u001b[1;31mFileNotFoundError\u001b[0m                         Traceback (most recent call last)",
      "Input \u001b[1;32mIn [24]\u001b[0m, in \u001b[0;36m<module>\u001b[1;34m\u001b[0m\n\u001b[0;32m      1\u001b[0m symbol \u001b[38;5;241m=\u001b[39m filename\u001b[38;5;241m.\u001b[39msplit(\u001b[38;5;124m\"\u001b[39m\u001b[38;5;124m_\u001b[39m\u001b[38;5;124m\"\u001b[39m)[\u001b[38;5;241m0\u001b[39m]\n\u001b[0;32m      2\u001b[0m filename\n\u001b[1;32m----> 3\u001b[0m \u001b[43mshutil\u001b[49m\u001b[38;5;241;43m.\u001b[39;49m\u001b[43mrmtree\u001b[49m\u001b[43m(\u001b[49m\u001b[38;5;124;43mf\u001b[39;49m\u001b[38;5;124;43m\"\u001b[39;49m\u001b[38;5;132;43;01m{\u001b[39;49;00m\u001b[43mos\u001b[49m\u001b[38;5;241;43m.\u001b[39;49m\u001b[43mgetcwd\u001b[49m\u001b[43m(\u001b[49m\u001b[43m)\u001b[49m\u001b[38;5;132;43;01m}\u001b[39;49;00m\u001b[38;5;124;43m/data\u001b[39;49m\u001b[38;5;124;43m\"\u001b[39;49m\u001b[43m)\u001b[49m\n",
      "File \u001b[1;32m~\\AppData\\Local\\Programs\\Python\\Python310\\lib\\shutil.py:739\u001b[0m, in \u001b[0;36mrmtree\u001b[1;34m(path, ignore_errors, onerror)\u001b[0m\n\u001b[0;32m    737\u001b[0m     \u001b[38;5;66;03m# can't continue even if onerror hook returns\u001b[39;00m\n\u001b[0;32m    738\u001b[0m     \u001b[38;5;28;01mreturn\u001b[39;00m\n\u001b[1;32m--> 739\u001b[0m \u001b[38;5;28;01mreturn\u001b[39;00m \u001b[43m_rmtree_unsafe\u001b[49m\u001b[43m(\u001b[49m\u001b[43mpath\u001b[49m\u001b[43m,\u001b[49m\u001b[43m \u001b[49m\u001b[43monerror\u001b[49m\u001b[43m)\u001b[49m\n",
      "File \u001b[1;32m~\\AppData\\Local\\Programs\\Python\\Python310\\lib\\shutil.py:598\u001b[0m, in \u001b[0;36m_rmtree_unsafe\u001b[1;34m(path, onerror)\u001b[0m\n\u001b[0;32m    596\u001b[0m         entries \u001b[38;5;241m=\u001b[39m \u001b[38;5;28mlist\u001b[39m(scandir_it)\n\u001b[0;32m    597\u001b[0m \u001b[38;5;28;01mexcept\u001b[39;00m \u001b[38;5;167;01mOSError\u001b[39;00m:\n\u001b[1;32m--> 598\u001b[0m     \u001b[43monerror\u001b[49m\u001b[43m(\u001b[49m\u001b[43mos\u001b[49m\u001b[38;5;241;43m.\u001b[39;49m\u001b[43mscandir\u001b[49m\u001b[43m,\u001b[49m\u001b[43m \u001b[49m\u001b[43mpath\u001b[49m\u001b[43m,\u001b[49m\u001b[43m \u001b[49m\u001b[43msys\u001b[49m\u001b[38;5;241;43m.\u001b[39;49m\u001b[43mexc_info\u001b[49m\u001b[43m(\u001b[49m\u001b[43m)\u001b[49m\u001b[43m)\u001b[49m\n\u001b[0;32m    599\u001b[0m     entries \u001b[38;5;241m=\u001b[39m []\n\u001b[0;32m    600\u001b[0m \u001b[38;5;28;01mfor\u001b[39;00m entry \u001b[38;5;129;01min\u001b[39;00m entries:\n",
      "File \u001b[1;32m~\\AppData\\Local\\Programs\\Python\\Python310\\lib\\shutil.py:595\u001b[0m, in \u001b[0;36m_rmtree_unsafe\u001b[1;34m(path, onerror)\u001b[0m\n\u001b[0;32m    593\u001b[0m \u001b[38;5;28;01mdef\u001b[39;00m \u001b[38;5;21m_rmtree_unsafe\u001b[39m(path, onerror):\n\u001b[0;32m    594\u001b[0m     \u001b[38;5;28;01mtry\u001b[39;00m:\n\u001b[1;32m--> 595\u001b[0m         \u001b[38;5;28;01mwith\u001b[39;00m \u001b[43mos\u001b[49m\u001b[38;5;241;43m.\u001b[39;49m\u001b[43mscandir\u001b[49m\u001b[43m(\u001b[49m\u001b[43mpath\u001b[49m\u001b[43m)\u001b[49m \u001b[38;5;28;01mas\u001b[39;00m scandir_it:\n\u001b[0;32m    596\u001b[0m             entries \u001b[38;5;241m=\u001b[39m \u001b[38;5;28mlist\u001b[39m(scandir_it)\n\u001b[0;32m    597\u001b[0m     \u001b[38;5;28;01mexcept\u001b[39;00m \u001b[38;5;167;01mOSError\u001b[39;00m:\n",
      "\u001b[1;31mFileNotFoundError\u001b[0m: [WinError 3] The system cannot find the path specified: 'c:\\\\Users\\\\Grant\\\\Desktop\\\\work_git\\\\work/data'"
     ]
    }
   ],
   "source": [
    "symbol = filename.split(\"_\")[0]\n",
    "filename\n",
    "shutil.rmtree(f\"{os.getcwd()}/data\")\n",
    "\n",
    "\n"
   ]
  },
  {
   "cell_type": "code",
   "execution_count": null,
   "metadata": {},
   "outputs": [
    {
     "data": {
      "text/plain": [
       "['ACAUSDT', 'ANCUSDT']"
      ]
     },
     "execution_count": 36,
     "metadata": {},
     "output_type": "execute_result"
    }
   ],
   "source": [
    "timeframe\n",
    "symbol\n",
    "l"
   ]
  },
  {
   "cell_type": "code",
   "execution_count": null,
   "metadata": {},
   "outputs": [
    {
     "data": {
      "text/plain": [
       "{'1INCHUSDT': '2022-02-01',\n",
       " 'ACAUSDT': '2022-02-02 12:00:00',\n",
       " 'ANCUSDT': '2022-01-27'}"
      ]
     },
     "execution_count": 35,
     "metadata": {},
     "output_type": "execute_result"
    }
   ],
   "source": [
    "result\n",
    "# outdir"
   ]
  }
 ],
 "metadata": {
  "interpreter": {
   "hash": "3756e50263641124812bebbe71b3301d6fe5d90f19e89fc330b3e20fa5370427"
  },
  "kernelspec": {
   "display_name": "Python 3.10.0 64-bit ('algo': venv)",
   "language": "python",
   "name": "python3"
  },
  "language_info": {
   "codemirror_mode": {
    "name": "ipython",
    "version": 3
   },
   "file_extension": ".py",
   "mimetype": "text/x-python",
   "name": "python",
   "nbconvert_exporter": "python",
   "pygments_lexer": "ipython3",
   "version": "3.10.0"
  },
  "orig_nbformat": 4
 },
 "nbformat": 4,
 "nbformat_minor": 2
}
