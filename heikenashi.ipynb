{
 "cells": [
  {
   "cell_type": "code",
   "execution_count": null,
   "metadata": {},
   "outputs": [],
   "source": [
    "# buy when the candle closes without a bottom wick\n",
    "# sell when two consecutive candles with bottom wick \n",
    "\n",
    "# if the wick bigger than the body sell"
   ]
  }
 ],
 "metadata": {
  "language_info": {
   "name": "python"
  },
  "orig_nbformat": 4
 },
 "nbformat": 4,
 "nbformat_minor": 2
}
