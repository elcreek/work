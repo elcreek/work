{
 "cells": [
  {
   "cell_type": "code",
   "execution_count": 1,
   "metadata": {},
   "outputs": [],
   "source": [
    "# buy when the candle closes without a bottom wick or the bwick is 20% of the body or less\n",
    "# sell on the first red czndle\n",
    "\n",
    "# if the wick bigger than the body sell ----maybe----\n",
    "# if the upper or lower wick is long i wont enter "
   ]
  },
  {
   "cell_type": "code",
   "execution_count": 2,
   "metadata": {},
   "outputs": [],
   "source": [
    "import pandas as pd\n",
    "import pandas_ta as ta\n",
    "import os\n"
   ]
  },
  {
   "cell_type": "code",
   "execution_count": 4,
   "metadata": {},
   "outputs": [],
   "source": [
    "# data = pd.read_csv(\"C:\\\\Users\\Grant\\Desktop\\work_git\\work\\data\\\\4h\\\\1INCHUSDT_4h.csv\", index_col=['Time'],\\\n",
    "#     parse_dates=['Time'])"
   ]
  },
  {
   "cell_type": "code",
   "execution_count": 5,
   "metadata": {},
   "outputs": [],
   "source": [
    "# ha=ta.ha(data['Open'],data['High'],data['Low'],data['Close'])\n",
    "# ha.info()\n",
    "# ha\n"
   ]
  },
  {
   "cell_type": "code",
   "execution_count": 6,
   "metadata": {},
   "outputs": [],
   "source": [
    "# # find the first green candle after a red one\n",
    "# l=[]\n",
    "# for i in range(2, len(ha)):\n",
    "    \n",
    "#     if (ha['HA_close'][i-1] < ha['HA_open'][i-2]) \\\n",
    "#         and (ha['HA_close'][i] > ha['HA_open'][i-1]):\n",
    "#         l.append([ha.index[i], ha['HA_close'][i]])\n",
    "\n",
    "\n"
   ]
  },
  {
   "cell_type": "code",
   "execution_count": 7,
   "metadata": {},
   "outputs": [],
   "source": [
    "# #find the first green candle without a bottom wick\n",
    "# # open = low\n",
    "# l2=[]\n",
    "# for c in range(len(l)):\n",
    "#     # print(ha['HA_close'][l[0][0]])\n",
    "#     if ha['HA_open'][l[c][0]] == ha['HA_low'][l[c][0]]:\n",
    "#         l2.append(l[c][0])"
   ]
  },
  {
   "cell_type": "code",
   "execution_count": 8,
   "metadata": {},
   "outputs": [],
   "source": [
    "# # find two consecutive greens without a bottom wick\n",
    "# l3=[]\n",
    "# for g in range(len(l2)-1):\n",
    "#     if ha['HA_close'][l2[g]] < ha['HA_close'][l2[g+1]] \\\n",
    "#         and ha['HA_open'][l2[g+1]] == ha['HA_low'][l2[g+1]]:\n",
    "\n",
    "#         l3.append(l2[g])\n",
    "\n"
   ]
  },
  {
   "cell_type": "code",
   "execution_count": 9,
   "metadata": {},
   "outputs": [],
   "source": [
    "# find all green candles and has no bottom wick\n",
    "# ha['no_Bwick'] = (ha['HA_open'] < ha['HA_close']) & (ha['HA_open'] == ha['HA_low'])\n",
    "# ha.tail(11)\n",
    "\n",
    "\n",
    "# # find all green candles\n",
    "# ha['greens'] = (ha['HA_open'] < ha['HA_close']) \n",
    "# ha.tail(19)"
   ]
  },
  {
   "cell_type": "code",
   "execution_count": 10,
   "metadata": {},
   "outputs": [],
   "source": [
    "# # find green with no bwick streaks\n",
    "\n",
    "# nn=[]\n",
    "# counter=0\n",
    "# for k, v in ha[ha['no_Bwick'] == 1].groupby((ha['no_Bwick'] != 1).cumsum()):\n",
    "#     print(f'[group {k}]')\n",
    "#     print(v)\n",
    "#     print('\\n')\n",
    "#     counter+=1\n",
    "#     # append only the first candle date in the streak\n",
    "#     nn.append([counter, len(v), v.index[0]])"
   ]
  },
  {
   "cell_type": "code",
   "execution_count": 11,
   "metadata": {},
   "outputs": [],
   "source": [
    "# # test strategy\n",
    "\n",
    "# # data['Close'][nn[i][2]]\n",
    "\n",
    "# nn"
   ]
  },
  {
   "cell_type": "code",
   "execution_count": 12,
   "metadata": {},
   "outputs": [],
   "source": [
    "# # # the last candle\n",
    "# # ha.iloc[-1]['HA_close']\n",
    "# # green and no bwick and the previous canlde is it red ?\n",
    "# if (ha.iloc[-1]['HA_close'] > ha.iloc[-1]['HA_open']) and (ha.iloc[-1]['HA_open'] == ha.iloc[-1]['HA_low']) \\\n",
    "#     and (ha.iloc[-2]['HA_close'] < ha.iloc[-2]['HA_open']) :\n",
    "#     print('symbol')\n",
    "\n",
    "# # append in dict col for each coin\n",
    "# # the index is numbers\n",
    "# # the data is timestamps\n"
   ]
  },
  {
   "cell_type": "code",
   "execution_count": null,
   "metadata": {},
   "outputs": [],
   "source": []
  },
  {
   "cell_type": "code",
   "execution_count": 13,
   "metadata": {},
   "outputs": [],
   "source": [
    "# if (ha.iloc[-1]['HA_close'] > ha.iloc[-1]['HA_open']):\n",
    "#     # find the start of streak\n",
    "\n",
    "def heiken(ha):\n",
    "    # find all green candles\n",
    "    ha['greens'] = (ha['HA_open'] < ha['HA_close']) \n",
    "    # ha.tail(19)\n",
    "\n",
    "    # if last candle is green \n",
    "    # loop ha in reverse (from last to first)\n",
    "    # break at the first false(wivh means a red candle)\n",
    "    # print the index of red candle found\n",
    "    # now you have a streak start with red, ends with green\n",
    "    if (ha.iloc[-1]['HA_close'] > ha.iloc[-1]['HA_open']):\n",
    "        for i in reversed(range(len(ha))):\n",
    "            if ha['greens'][i] == False:\n",
    "                cc = len(ha.iloc[i:])\n",
    "                # print(f\"{ha.index[i]} , candle count is {cc} (last and red candles included)\")\n",
    "                rows.append([symbol, cc, ha.index[i]])\n",
    "\n",
    "                break\n",
    "            \n",
    "    # dd = pd.DataFrame({'symbols': symbol, 'candle_count': cc, 'Time': ha.index[i]})\n",
    "\n",
    "\n",
    "\n",
    "    "
   ]
  },
  {
   "cell_type": "code",
   "execution_count": 14,
   "metadata": {},
   "outputs": [],
   "source": [
    "# list_of=[]\n",
    "timeframe='4h'\n",
    "rows=[]\n",
    "# dirr = f\"C:/Users/Grant/Desktop/work_git/work/data/2022-01-28_12/{timeframe}\"\n",
    "outdir=f\"{os.getcwd()}/data/{timeframe}\"\n",
    "\n",
    "for filename in os.listdir(outdir):\n",
    "    # symbol = (filename.replace(f\"_{tf}.csv\",\"\")).replace(\"_\",\"\")\n",
    "    symbol = filename.replace(f\"_{timeframe}.csv\",\"\")\n",
    "    data = pd.read_csv(f\"{outdir}/{filename}\", index_col='Time', parse_dates=['Time'])\n",
    "    # print(symbol\n",
    "    ha=ta.ha(data['Open'],data['High'],data['Low'],data['Close'])\n",
    "    heiken(ha)\n",
    "\n",
    "\n",
    "    table = pd.DataFrame(rows, columns=[\"symbols\", \"candle_count\",\"Time\"])"
   ]
  },
  {
   "cell_type": "code",
   "execution_count": 15,
   "metadata": {},
   "outputs": [
    {
     "data": {
      "text/html": [
       "<div>\n",
       "<style scoped>\n",
       "    .dataframe tbody tr th:only-of-type {\n",
       "        vertical-align: middle;\n",
       "    }\n",
       "\n",
       "    .dataframe tbody tr th {\n",
       "        vertical-align: top;\n",
       "    }\n",
       "\n",
       "    .dataframe thead th {\n",
       "        text-align: right;\n",
       "    }\n",
       "</style>\n",
       "<table border=\"1\" class=\"dataframe\">\n",
       "  <thead>\n",
       "    <tr style=\"text-align: right;\">\n",
       "      <th></th>\n",
       "      <th>symbols</th>\n",
       "      <th>candle_count</th>\n",
       "      <th>Time</th>\n",
       "    </tr>\n",
       "  </thead>\n",
       "  <tbody>\n",
       "    <tr>\n",
       "      <th>0</th>\n",
       "      <td>FUNUSDT</td>\n",
       "      <td>2</td>\n",
       "      <td>2022-02-20 04:00:00</td>\n",
       "    </tr>\n",
       "    <tr>\n",
       "      <th>1</th>\n",
       "      <td>INJUSDT</td>\n",
       "      <td>6</td>\n",
       "      <td>2022-02-19 12:00:00</td>\n",
       "    </tr>\n",
       "    <tr>\n",
       "      <th>2</th>\n",
       "      <td>MDXUSDT</td>\n",
       "      <td>6</td>\n",
       "      <td>2022-02-19 12:00:00</td>\n",
       "    </tr>\n",
       "    <tr>\n",
       "      <th>3</th>\n",
       "      <td>STRAXUSDT</td>\n",
       "      <td>6</td>\n",
       "      <td>2022-02-19 12:00:00</td>\n",
       "    </tr>\n",
       "  </tbody>\n",
       "</table>\n",
       "</div>"
      ],
      "text/plain": [
       "     symbols  candle_count                Time\n",
       "0    FUNUSDT             2 2022-02-20 04:00:00\n",
       "1    INJUSDT             6 2022-02-19 12:00:00\n",
       "2    MDXUSDT             6 2022-02-19 12:00:00\n",
       "3  STRAXUSDT             6 2022-02-19 12:00:00"
      ]
     },
     "execution_count": 15,
     "metadata": {},
     "output_type": "execute_result"
    }
   ],
   "source": [
    "table"
   ]
  }
 ],
 "metadata": {
  "interpreter": {
   "hash": "3756e50263641124812bebbe71b3301d6fe5d90f19e89fc330b3e20fa5370427"
  },
  "kernelspec": {
   "display_name": "Python 3.10.0 64-bit ('algo': venv)",
   "language": "python",
   "name": "python3"
  },
  "language_info": {
   "codemirror_mode": {
    "name": "ipython",
    "version": 3
   },
   "file_extension": ".py",
   "mimetype": "text/x-python",
   "name": "python",
   "nbconvert_exporter": "python",
   "pygments_lexer": "ipython3",
   "version": "3.10.0"
  },
  "orig_nbformat": 4
 },
 "nbformat": 4,
 "nbformat_minor": 2
}
