{
 "cells": [
  {
   "cell_type": "code",
   "execution_count": 16,
   "metadata": {},
   "outputs": [],
   "source": [
    "import pandas as pd\n",
    "import numpy as np\n",
    "import talib   \n",
    "\n",
    "\n",
    "import ccxt\n",
    "# import os\n",
    "# import pandas as pd\n",
    "# from datetime import datetime, timedelta\n",
    "# from tqdm import tqdm\n",
    "# import sys\n",
    "# import shutil\n",
    "# from functools import partial\n",
    "# from pathlib import Path\n",
    "# import sys\n",
    "# import shutil\n",
    "# from collections import Counter\n",
    "\n",
    "\n",
    "exchange = ccxt.binance()\n",
    "\n",
    "exchange.load_markets()\n",
    "\n",
    "symbols = exchange.symbols\n"
   ]
  },
  {
   "cell_type": "code",
   "execution_count": 17,
   "metadata": {},
   "outputs": [],
   "source": [
    "def clc():\n",
    "    df['rsi'] = talib.RSI(df['Close'], timeperiod=14)\n",
    "    df['ema_rsi'] = talib.EMA(df['rsi'], timeperiod=20)\n",
    "\n",
    "    df['que'] = np.where((df['rsi'] < df['ema_rsi']+df['ema_rsi']*0.03) & (df['rsi'] > df['ema_rsi']-df['ema_rsi']*0.03), 1, 0)\n",
    "\n",
    "\n",
    "    if df['que'].iloc[-1] == 1:\n",
    "        candy.append(f\"{symbol}, {df.index[-1]}\")\n",
    "        \n",
    "\n",
    "\n",
    "\n",
    "\n",
    "    "
   ]
  },
  {
   "cell_type": "code",
   "execution_count": 30,
   "metadata": {},
   "outputs": [
    {
     "name": "stdout",
     "output_type": "stream",
     "text": [
      "18-06-2022\n"
     ]
    }
   ],
   "source": [
    "today = pd.to_datetime(\"today\").strftime('%d-%m-%Y')\n",
    "print(today)"
   ]
  },
  {
   "cell_type": "code",
   "execution_count": 18,
   "metadata": {},
   "outputs": [
    {
     "name": "stdout",
     "output_type": "stream",
     "text": [
      "[]\n",
      "[]\n",
      "[]\n",
      "[]\n",
      "[]\n",
      "[]\n",
      "[]\n",
      "[]\n",
      "[]\n",
      "[]\n",
      "[]\n",
      "[]\n",
      "[]\n",
      "[]\n",
      "[]\n",
      "[]\n",
      "[]\n",
      "[]\n",
      "[]\n",
      "[]\n",
      "[]\n",
      "[]\n",
      "[]\n",
      "[]\n",
      "[]\n",
      "[]\n",
      "[]\n",
      "['SYS/BTC, 2022-06-18 17:00:00']\n",
      "['SYS/BTC, 2022-06-18 17:00:00']\n",
      "['SYS/BTC, 2022-06-18 17:00:00', 'CKB/BTC, 2022-05-14 02:00:00']\n",
      "['SYS/BTC, 2022-06-18 17:00:00', 'CKB/BTC, 2022-05-14 02:00:00']\n",
      "['SYS/BTC, 2022-06-18 17:00:00', 'CKB/BTC, 2022-05-14 02:00:00']\n",
      "['SYS/BTC, 2022-06-18 17:00:00', 'CKB/BTC, 2022-05-14 02:00:00']\n",
      "['SYS/BTC, 2022-06-18 17:00:00', 'CKB/BTC, 2022-05-14 02:00:00']\n",
      "['SYS/BTC, 2022-06-18 17:00:00', 'CKB/BTC, 2022-05-14 02:00:00']\n",
      "['SYS/BTC, 2022-06-18 17:00:00', 'CKB/BTC, 2022-05-14 02:00:00', 'LTC/BTC, 2022-06-18 17:00:00']\n",
      "['SYS/BTC, 2022-06-18 17:00:00', 'CKB/BTC, 2022-05-14 02:00:00', 'LTC/BTC, 2022-06-18 17:00:00']\n",
      "['SYS/BTC, 2022-06-18 17:00:00', 'CKB/BTC, 2022-05-14 02:00:00', 'LTC/BTC, 2022-06-18 17:00:00']\n",
      "['SYS/BTC, 2022-06-18 17:00:00', 'CKB/BTC, 2022-05-14 02:00:00', 'LTC/BTC, 2022-06-18 17:00:00']\n",
      "['SYS/BTC, 2022-06-18 17:00:00', 'CKB/BTC, 2022-05-14 02:00:00', 'LTC/BTC, 2022-06-18 17:00:00']\n",
      "['SYS/BTC, 2022-06-18 17:00:00', 'CKB/BTC, 2022-05-14 02:00:00', 'LTC/BTC, 2022-06-18 17:00:00']\n",
      "['SYS/BTC, 2022-06-18 17:00:00', 'CKB/BTC, 2022-05-14 02:00:00', 'LTC/BTC, 2022-06-18 17:00:00']\n",
      "['SYS/BTC, 2022-06-18 17:00:00', 'CKB/BTC, 2022-05-14 02:00:00', 'LTC/BTC, 2022-06-18 17:00:00']\n",
      "['SYS/BTC, 2022-06-18 17:00:00', 'CKB/BTC, 2022-05-14 02:00:00', 'LTC/BTC, 2022-06-18 17:00:00']\n",
      "['SYS/BTC, 2022-06-18 17:00:00', 'CKB/BTC, 2022-05-14 02:00:00', 'LTC/BTC, 2022-06-18 17:00:00']\n",
      "['SYS/BTC, 2022-06-18 17:00:00', 'CKB/BTC, 2022-05-14 02:00:00', 'LTC/BTC, 2022-06-18 17:00:00']\n",
      "['SYS/BTC, 2022-06-18 17:00:00', 'CKB/BTC, 2022-05-14 02:00:00', 'LTC/BTC, 2022-06-18 17:00:00']\n",
      "['SYS/BTC, 2022-06-18 17:00:00', 'CKB/BTC, 2022-05-14 02:00:00', 'LTC/BTC, 2022-06-18 17:00:00']\n",
      "['SYS/BTC, 2022-06-18 17:00:00', 'CKB/BTC, 2022-05-14 02:00:00', 'LTC/BTC, 2022-06-18 17:00:00']\n",
      "['SYS/BTC, 2022-06-18 17:00:00', 'CKB/BTC, 2022-05-14 02:00:00', 'LTC/BTC, 2022-06-18 17:00:00']\n",
      "['SYS/BTC, 2022-06-18 17:00:00', 'CKB/BTC, 2022-05-14 02:00:00', 'LTC/BTC, 2022-06-18 17:00:00']\n"
     ]
    }
   ],
   "source": [
    "\n",
    "\n",
    "\n",
    "timeframes = [\"1h\"]\n",
    "\n",
    "# , 'VTHO/BTC'\n",
    "\n",
    "pairs= ['AR/USDT', 'SYS/USDT', 'BSV/USDT', 'CKB/USDT', 'CTXC/USDT', 'DOGE/USDT', 'ETC/USDT', 'FIL/USDT', 'FIRO/USDT', 'LTC/USDT', 'KMD/USDT', 'RVN/USDT', 'SC/USDT', 'XLM/USDT', 'XMR/USDT', 'XRP/USDT', 'ZEC/USDT', 'ZEN/USDT', 'DGB/USDT', 'DASH/USDT', 'BCH/USDT', 'RNDR/USDT', 'VET/USDT', 'VTHO/USDT', 'KDA/USDT', 'NKN/USDT', 'AR/BTC', 'SYS/BTC', 'BSV/BTC', 'CKB/BTC', 'CTXC/BTC', 'DOGE/BTC', 'ETC/BTC', 'FIL/BTC', 'FIRO/BTC', 'LTC/BTC', 'KMD/BTC', 'RVN/BTC', 'SC/BTC', 'XLM/BTC', 'XMR/BTC', 'XRP/BTC', 'ZEC/BTC', 'ZEN/BTC', 'DGB/BTC', 'DASH/BTC', 'BCH/BTC', 'RNDR/BTC', 'VET/BTC', 'KDA/BTC', 'NKN/BTC']\n",
    "\n",
    "\n",
    "\n",
    "# pairs=['CKB/BTC']\n",
    "candy =[]\n",
    "\n",
    "for timeframe in timeframes:\n",
    "\n",
    "    for symbol in pairs:\n",
    "\n",
    "        # if symbol in exchange.symbols:\n",
    "\n",
    "        bars = exchange.fetch_ohlcv(symbol, timeframe=timeframe, limit=55)\n",
    "\n",
    "        # must use bars[:-1] because arrgrelextrema will see the last candle wich have not closed yet\n",
    "        df = pd.DataFrame(bars[:-1], columns=['Time', 'Open', 'High', 'Low', 'Close', 'Volume'])\n",
    "\n",
    "        df['Time'] = pd.to_datetime(df['Time'], unit='ms')\n",
    "        df.set_index('Time', inplace=True)\n",
    "        # df=df.dropna()\n",
    "\n",
    "        clc()\n",
    "        print(candy)\n",
    "\n",
    "\n"
   ]
  },
  {
   "cell_type": "code",
   "execution_count": 19,
   "metadata": {},
   "outputs": [],
   "source": [
    "\n",
    "# df['rsi'] = talib.RSI(df['Close'], timeperiod=14)\n",
    "# df['ema_rsi'] = talib.EMA(df['rsi'], timeperiod=20)\n",
    "\n",
    "# df['que'] = np.where((df['rsi'] < df['ema_rsi']+df['ema_rsi']*0.03) & (df['rsi'] > df['ema_rsi']-df['ema_rsi']*0.03), 1, 0)\n",
    "\n"
   ]
  },
  {
   "cell_type": "code",
   "execution_count": 20,
   "metadata": {},
   "outputs": [],
   "source": [
    "# df=df.dropna()\n",
    "# df"
   ]
  },
  {
   "cell_type": "code",
   "execution_count": 21,
   "metadata": {},
   "outputs": [],
   "source": [
    "\n",
    "# df['que'] = np.where((df['rsi'] < df['ema_rsi']+df['ema_rsi']*0.03) & (df['rsi'] > df['ema_rsi']-df['ema_rsi']*0.03), 1, 0)\n",
    "\n",
    "# df=df.dropna()"
   ]
  },
  {
   "cell_type": "code",
   "execution_count": 22,
   "metadata": {},
   "outputs": [
    {
     "data": {
      "text/plain": [
       "['SYS/BTC, 2022-06-18 17:00:00',\n",
       " 'CKB/BTC, 2022-05-14 02:00:00',\n",
       " 'LTC/BTC, 2022-06-18 17:00:00']"
      ]
     },
     "execution_count": 22,
     "metadata": {},
     "output_type": "execute_result"
    }
   ],
   "source": [
    "candy"
   ]
  },
  {
   "cell_type": "code",
   "execution_count": null,
   "metadata": {},
   "outputs": [],
   "source": []
  }
 ],
 "metadata": {
  "interpreter": {
   "hash": "4c2f98a013b216298a2e0ea35e2c604ca00c100e03aea0a00effc14efa776a80"
  },
  "kernelspec": {
   "display_name": "Python 3.10.0 64-bit ('algo': venv)",
   "language": "python",
   "name": "python3"
  },
  "language_info": {
   "codemirror_mode": {
    "name": "ipython",
    "version": 3
   },
   "file_extension": ".py",
   "mimetype": "text/x-python",
   "name": "python",
   "nbconvert_exporter": "python",
   "pygments_lexer": "ipython3",
   "version": "3.10.0"
  },
  "orig_nbformat": 4
 },
 "nbformat": 4,
 "nbformat_minor": 2
}
