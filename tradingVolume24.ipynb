{
 "cells": [
  {
   "cell_type": "code",
   "execution_count": 48,
   "metadata": {},
   "outputs": [],
   "source": [
    "\n",
    "# method 2\n",
    "\n",
    "from bs4 import BeautifulSoup\n",
    "import requests\n",
    "import re\n",
    "from tqdm import tqdm\n",
    "import pandas as pd\n",
    "\n"
   ]
  },
  {
   "cell_type": "code",
   "execution_count": 49,
   "metadata": {},
   "outputs": [],
   "source": [
    "df=pd.read_csv(\"binance_cmc.csv\")\n",
    "# df.Currency"
   ]
  },
  {
   "cell_type": "code",
   "execution_count": 50,
   "metadata": {},
   "outputs": [],
   "source": [
    "# fetch coin names from CMC\n",
    "\n",
    "# import requests\n",
    "# import pandas as pd\n",
    "\n",
    "\n",
    "# coins = []\n",
    "# for i in range(1,3):\n",
    "\n",
    "#     url = f'https://coinmarketcap.com/?page={i}'\n",
    "#     html = requests.get(url).content\n",
    "#     df_list = pd.read_html(html)\n",
    "#     # df_list[0].Currency[0]\n",
    "#     # print(df_list[0].Name)\n",
    "\n",
    "    \n",
    "#     for i in range(len(df_list[0])):\n",
    "        \n",
    "#         # c=df_list[0].Name[i].lower()\n",
    "#         c=df_list[0].Name[i]\n",
    "\n",
    "#         c=c.replace(\" \",\"-\")\n",
    "\n",
    "#         coins.append(c)\n",
    "        \n",
    "# coins=set(coins)\n",
    "# print(coins)"
   ]
  },
  {
   "cell_type": "code",
   "execution_count": 51,
   "metadata": {},
   "outputs": [
    {
     "name": "stdout",
     "output_type": "stream",
     "text": [
      "379\n"
     ]
    }
   ],
   "source": [
    "# method 1\n",
    "\n",
    "\n",
    "coins = []\n",
    "for i in range(len(df)):\n",
    "    \n",
    "    c=df.Currency[i].lower()\n",
    "\n",
    "    c=c.replace(\" \",\"-\")\n",
    "\n",
    "    coins.append(c)\n",
    "    \n",
    "coins=list(set(coins))\n",
    "coins.sort()\n",
    "print(len(coins))\n",
    "# print((coins))\n",
    "\n"
   ]
  },
  {
   "cell_type": "code",
   "execution_count": 52,
   "metadata": {},
   "outputs": [
    {
     "name": "stdout",
     "output_type": "stream",
     "text": [
      "22\n"
     ]
    }
   ],
   "source": [
    "coins = ['filecoin', 'firo', 'dogecoin', 'arweave', 'zcash', 'vechain', 'tellor', 'syscoin', 'stellar', 'storj', 'sonm-(bep-20)', 'siacoin', 'ravencoin', 'nervos-network', 'monero', 'litecoin', 'kadena', 'iexec-rlc', 'cortex', 'bitcoin', 'bitcoin-cash', 'hathor']\n",
    "\n",
    "print(len(coins))\n"
   ]
  },
  {
   "cell_type": "code",
   "execution_count": null,
   "metadata": {},
   "outputs": [],
   "source": []
  },
  {
   "cell_type": "code",
   "execution_count": 53,
   "metadata": {},
   "outputs": [],
   "source": [
    "def get_tardingVolume(c):\n",
    "    \n",
    "    result = requests.get(f\"https://coinmarketcap.com/currencies/{c}/\")\n",
    "    # result = requests.get(f\"https://coinmarketcap.com/currencies/fio-protocol/\")\n",
    "    src = result.content\n",
    "    soup = BeautifulSoup(src, \"html.parser\")\n",
    "\n",
    "    # badges = soup.body.find_all('span', attrs={'class': 'badge24h'})\n",
    "    # print(badges)\n",
    "\n",
    "\n",
    "    badges = soup.body.find_all('tr')\n",
    "\n",
    "    # for symbol in badges:\n",
    "    #     print(symbol)\n",
    "\n",
    "\n",
    "\n",
    "    result =[]\n",
    "    for r in badges:\n",
    "        # result.extend(b.find_all(text='Trading Volume'))\n",
    "\n",
    "        if r.find_all(text='Trading Volume'):\n",
    "            result.append(r)\n",
    "        # print(b)\n",
    "\n",
    "        # result.extend(b.find_all('span', attrs={'class': 'badge24h'}))\n",
    "    # print(result)\n",
    "\n",
    "    # use set to remove duplicates\n",
    "    result = list(set(result))\n",
    "    # you should end up with len(result) = 1\n",
    "\n",
    "\n",
    "    for i in result:\n",
    "        i=str(i)\n",
    "        f=i.split(\"<!-- -->%\")\n",
    "        \n",
    "        m=re.sub(\"[^\\d\\.]\", \"\", f[0][-7:])\n",
    "\n",
    "        if m == '':\n",
    "            print(c + \" is empty\" )\n",
    "            continue\n",
    "        \n",
    "        if (\"Caret-down\" in i): #or (float(m) < 100):\n",
    "            # m=-1*float(m)\n",
    "            # print(m)\n",
    "            TV.append([c, (-1*float(m))])\n",
    "        else:\n",
    "            # print(c)\n",
    "            # print(m)\n",
    "            TV.append([c, float(m)])\n",
    "            # print(TV)\n",
    "    \n",
    "    # return TV\n",
    "    \n",
    "\n",
    "\n",
    "\n",
    "    "
   ]
  },
  {
   "cell_type": "code",
   "execution_count": 54,
   "metadata": {},
   "outputs": [],
   "source": [
    "# def updatecsv(TVdf):\n",
    "\n",
    "#     for k in (TVdf['0'].values):\n",
    "#         get_tardingVolume(k)\n",
    "    \n",
    "    "
   ]
  },
  {
   "cell_type": "code",
   "execution_count": null,
   "metadata": {},
   "outputs": [],
   "source": [
    "\n",
    "\n"
   ]
  },
  {
   "cell_type": "code",
   "execution_count": 55,
   "metadata": {},
   "outputs": [],
   "source": [
    "# import concurrent.futures\n",
    "\n",
    "\n",
    "def newcsv(date, coins):\n",
    "\n",
    "    for c in tqdm(coins):\n",
    "        # print(c)\n",
    "        get_tardingVolume(c)\n",
    "\n",
    "    pd.DataFrame(TV, columns=['coin', date]).to_csv('TVDF.csv')\n",
    "\n",
    "\n",
    "def updatecsv(date, coins):\n",
    "\n",
    "    # if TVdf exist\n",
    "    TVdf = pd.read_csv('TVDF.csv', index_col=0)\n",
    "\n",
    "    for c in tqdm(coins):\n",
    "        # print(c)\n",
    "        get_tardingVolume(c)\n",
    "\n",
    "    # with concurrent.futures.ThreadPoolExecutor() as executor:\n",
    "    #     executor.map(get_tardingVolume, coins)\n",
    "    \n",
    "\n",
    "    ddf = pd.DataFrame(TV)\n",
    "\n",
    "    print(\"ddf \", len(ddf))\n",
    "    print(\"TVdf \", len(TVdf))\n",
    "    print(ddf[0].equals(TVdf[\"coin\"]))\n",
    "    \n",
    "    if ddf[0].equals(TVdf[\"coin\"]):\n",
    "        print(\"ok\")\n",
    "        # TVdf[date]= ddf[1]\n",
    "\n",
    "        TVdf.insert(1, date, ddf[1])\n",
    "\n",
    "\n",
    "\n",
    "    TVdf.to_csv('TVDF.csv')\n",
    "    # print(TVdf)\n",
    "\n",
    "\n"
   ]
  },
  {
   "cell_type": "code",
   "execution_count": 56,
   "metadata": {},
   "outputs": [],
   "source": [
    "def change(r):\n",
    "    df = pd.read_csv('TVDF.csv', index_col=0)\n",
    "    # df['change'] = df.iloc[: , -2] - df.iloc[: , -3]\n",
    "\n",
    "    if len(df.columns) >= 3:\n",
    "        df.insert(1, \"change\", df.iloc[: , 1] - df.iloc[: , 2])\n",
    "\n",
    "        # print(change[change > 100])\n",
    "        # print(df[change > r].iloc[:,-2:])\n",
    "\n",
    "        df=df.sort_values(by=['change'], ascending=False)\n",
    "        # print(df)\n",
    "\n",
    "        print(df.head(r))\n",
    "\n",
    "        # print(df[df['change'] > r])\n",
    "\n",
    "        # print()\n",
    "\n",
    "        # candidate.append(df[change > r]['coin'])\n",
    "    \n",
    "    # else:\n",
    "        # TV =[]\n",
    "    #     updatecsv(date, coins)\n",
    "\n",
    "    "
   ]
  },
  {
   "cell_type": "code",
   "execution_count": 57,
   "metadata": {},
   "outputs": [
    {
     "name": "stderr",
     "output_type": "stream",
     "text": [
      "100%|██████████| 22/22 [00:14<00:00,  1.52it/s]"
     ]
    },
    {
     "name": "stdout",
     "output_type": "stream",
     "text": [
      "ddf  20\n",
      "TVdf  20\n",
      "True\n",
      "ok\n"
     ]
    },
    {
     "name": "stderr",
     "output_type": "stream",
     "text": [
      "\n"
     ]
    }
   ],
   "source": [
    "date=pd.Timestamp.now().strftime('%H%M')\n",
    "# date = str(date)\n",
    "\n",
    "TV = []\n",
    "candidate= []\n",
    "\n",
    "\n",
    "# newcsv(date, coins)\n",
    "\n",
    "\n",
    "updatecsv(date, coins)\n"
   ]
  },
  {
   "cell_type": "code",
   "execution_count": 58,
   "metadata": {},
   "outputs": [
    {
     "name": "stdout",
     "output_type": "stream",
     "text": [
      "              coin  change   1806   1805\n",
      "14        litecoin    0.14 -18.01 -18.15\n",
      "0         filecoin    0.00  -0.53  -0.53\n",
      "1             firo    0.00   0.33   0.33\n",
      "18    bitcoin-cash    0.00  -5.04  -5.04\n",
      "16          cortex    0.00  38.03  38.03\n",
      "15          kadena    0.00  31.22  31.22\n",
      "13          monero    0.00 -20.87 -20.87\n",
      "12  nervos-network    0.00 -28.40 -28.40\n",
      "11       ravencoin    0.00 -28.29 -28.29\n",
      "10         siacoin    0.00 -37.04 -37.04\n"
     ]
    }
   ],
   "source": [
    "\n",
    "change(10)\n",
    "\n",
    "# for c in tqdm(candidate):\n",
    "#     print(c)\n",
    "#     # get_tardingVolume(c)\n",
    "\n",
    "# print(TV)\n",
    "\n",
    "# print(candidate)\n",
    "\n",
    "\n"
   ]
  },
  {
   "cell_type": "code",
   "execution_count": 59,
   "metadata": {},
   "outputs": [
    {
     "data": {
      "text/plain": [
       "[['filecoin', -0.53],\n",
       " ['firo', 0.33],\n",
       " ['dogecoin', -15.6],\n",
       " ['arweave', -13.12],\n",
       " ['zcash', -7.83],\n",
       " ['vechain', -21.94],\n",
       " ['tellor', -49.95],\n",
       " ['syscoin', -63.83],\n",
       " ['stellar', -11.28],\n",
       " ['storj', -29.54],\n",
       " ['siacoin', -37.04],\n",
       " ['ravencoin', -28.29],\n",
       " ['nervos-network', -28.4],\n",
       " ['monero', -20.87],\n",
       " ['litecoin', -18.01],\n",
       " ['kadena', 31.22],\n",
       " ['cortex', 38.03],\n",
       " ['bitcoin', -36.01],\n",
       " ['bitcoin-cash', -5.04],\n",
       " ['hathor', -38.96]]"
      ]
     },
     "execution_count": 59,
     "metadata": {},
     "output_type": "execute_result"
    }
   ],
   "source": [
    "TV"
   ]
  },
  {
   "cell_type": "code",
   "execution_count": null,
   "metadata": {},
   "outputs": [],
   "source": [
    "\n"
   ]
  }
 ],
 "metadata": {
  "interpreter": {
   "hash": "4c2f98a013b216298a2e0ea35e2c604ca00c100e03aea0a00effc14efa776a80"
  },
  "kernelspec": {
   "display_name": "Python 3.10.0 64-bit ('algo': venv)",
   "language": "python",
   "name": "python3"
  },
  "language_info": {
   "codemirror_mode": {
    "name": "ipython",
    "version": 3
   },
   "file_extension": ".py",
   "mimetype": "text/x-python",
   "name": "python",
   "nbconvert_exporter": "python",
   "pygments_lexer": "ipython3",
   "version": "3.10.0"
  },
  "orig_nbformat": 4
 },
 "nbformat": 4,
 "nbformat_minor": 2
}
