{
 "cells": [
  {
   "cell_type": "code",
   "execution_count": 6,
   "metadata": {},
   "outputs": [
    {
     "name": "stdout",
     "output_type": "stream",
     "text": [
      "2858.02\n",
      "2858.02\n"
     ]
    }
   ],
   "source": [
    "# method 1\n",
    "\n",
    "# import requests\n",
    "# import pandas as pd\n",
    "\n",
    "# url = 'https://coinmarketcap.com/currencies/green-metaverse-token'\n",
    "# html = requests.get(url).content\n",
    "# df_list = pd.read_html(html)\n",
    "# print(df_list)\n",
    "\n",
    "\n",
    "# df = df_list[-5]\n",
    "# print(df)\n",
    "# df.to_csv('my data.csv')\n",
    "\n",
    "\n",
    "# method 2\n",
    "\n",
    "from bs4 import BeautifulSoup\n",
    "import requests\n",
    "import re\n",
    "\n",
    "lst= ['nem', 'green-metaverse-token', 'lto-network']\n",
    "\n",
    "# for l in lst:\n",
    "result = requests.get(\"https://coinmarketcap.com/currencies/santos-fc-fan-token/\")\n",
    "src = result.content\n",
    "soup = BeautifulSoup(src, \"html.parser\")\n",
    "\n",
    "# badges = soup.body.find_all('span', attrs={'class': 'badge24h'})\n",
    "# print(badges)\n",
    "\n",
    "\n",
    "\n",
    "badges = soup.body.find_all('tr')\n",
    "\n",
    "# for symbol in badges:\n",
    "#     print(symbol)\n",
    "\n",
    "\n",
    "\n",
    "result =[]\n",
    "for b in badges:\n",
    "    # result.extend(b.find_all(text='Trading Volume'))\n",
    "\n",
    "    if b.find_all(text='Trading Volume'):\n",
    "        result.append(b)\n",
    "    # print(b)\n",
    "\n",
    "    # result.extend(b.find_all('span', attrs={'class': 'badge24h'}))\n",
    "# print(result)\n",
    "\n",
    "\n",
    "\n",
    "for i in result:\n",
    "    i=str(i)\n",
    "    f=i.split(\"<!-- -->%\")\n",
    "    # f=re.sub(\"[^0-9]\", \"\", bncvbncv)\n",
    "\n",
    "\n",
    "    print(f[0][-7:])\n",
    "\n",
    "\n",
    "\n",
    "\n"
   ]
  }
 ],
 "metadata": {
  "interpreter": {
   "hash": "4c2f98a013b216298a2e0ea35e2c604ca00c100e03aea0a00effc14efa776a80"
  },
  "kernelspec": {
   "display_name": "Python 3.10.0 64-bit ('algo': venv)",
   "language": "python",
   "name": "python3"
  },
  "language_info": {
   "codemirror_mode": {
    "name": "ipython",
    "version": 3
   },
   "file_extension": ".py",
   "mimetype": "text/x-python",
   "name": "python",
   "nbconvert_exporter": "python",
   "pygments_lexer": "ipython3",
   "version": "3.10.0"
  },
  "orig_nbformat": 4
 },
 "nbformat": 4,
 "nbformat_minor": 2
}
