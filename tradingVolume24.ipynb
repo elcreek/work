{
 "cells": [
  {
   "cell_type": "code",
   "execution_count": 714,
   "metadata": {},
   "outputs": [],
   "source": [
    "\n",
    "# method 2\n",
    "\n",
    "from bs4 import BeautifulSoup\n",
    "import requests\n",
    "import re\n",
    "from tqdm import tqdm\n",
    "import pandas as pd\n",
    "\n"
   ]
  },
  {
   "cell_type": "code",
   "execution_count": 715,
   "metadata": {},
   "outputs": [],
   "source": [
    "df=pd.read_csv(\"binance_cmc.csv\")\n",
    "# df.Currency"
   ]
  },
  {
   "cell_type": "code",
   "execution_count": 716,
   "metadata": {},
   "outputs": [],
   "source": [
    "# fetch coin names from CMC\n",
    "\n",
    "# import requests\n",
    "# import pandas as pd\n",
    "\n",
    "\n",
    "# coins = []\n",
    "# for i in range(1,3):\n",
    "\n",
    "#     url = f'https://coinmarketcap.com/?page={i}'\n",
    "#     html = requests.get(url).content\n",
    "#     df_list = pd.read_html(html)\n",
    "#     # df_list[0].Currency[0]\n",
    "#     # print(df_list[0].Name)\n",
    "\n",
    "    \n",
    "#     for i in range(len(df_list[0])):\n",
    "        \n",
    "#         # c=df_list[0].Name[i].lower()\n",
    "#         c=df_list[0].Name[i]\n",
    "\n",
    "#         c=c.replace(\" \",\"-\")\n",
    "\n",
    "#         coins.append(c)\n",
    "        \n",
    "# coins=set(coins)\n",
    "# print(coins)"
   ]
  },
  {
   "cell_type": "code",
   "execution_count": 717,
   "metadata": {},
   "outputs": [
    {
     "name": "stdout",
     "output_type": "stream",
     "text": [
      "379\n"
     ]
    }
   ],
   "source": [
    "# method 1\n",
    "\n",
    "\n",
    "coins = []\n",
    "for i in range(len(df)):\n",
    "    \n",
    "    c=df.Currency[i].lower()\n",
    "\n",
    "    c=c.replace(\" \",\"-\")\n",
    "\n",
    "    coins.append(c)\n",
    "    \n",
    "coins=list(set(coins))\n",
    "print(len(coins))\n",
    "# print((coins))\n",
    "\n"
   ]
  },
  {
   "cell_type": "code",
   "execution_count": 718,
   "metadata": {},
   "outputs": [
    {
     "data": {
      "text/plain": [
       "['komodo', 'bitcoin-gold', 'digibyte', 'santos-fc-fan-token', 'wax']"
      ]
     },
     "execution_count": 718,
     "metadata": {},
     "output_type": "execute_result"
    }
   ],
   "source": [
    "coins[-5:]"
   ]
  },
  {
   "cell_type": "code",
   "execution_count": null,
   "metadata": {},
   "outputs": [],
   "source": []
  },
  {
   "cell_type": "code",
   "execution_count": 719,
   "metadata": {},
   "outputs": [],
   "source": [
    "def get_tardingVolume(c):\n",
    "    \n",
    "    result = requests.get(f\"https://coinmarketcap.com/currencies/{c}/\")\n",
    "    # result = requests.get(f\"https://coinmarketcap.com/currencies/fio-protocol/\")\n",
    "    src = result.content\n",
    "    soup = BeautifulSoup(src, \"html.parser\")\n",
    "\n",
    "    # badges = soup.body.find_all('span', attrs={'class': 'badge24h'})\n",
    "    # print(badges)\n",
    "\n",
    "\n",
    "    badges = soup.body.find_all('tr')\n",
    "\n",
    "    # for symbol in badges:\n",
    "    #     print(symbol)\n",
    "\n",
    "\n",
    "\n",
    "    result =[]\n",
    "    for r in badges:\n",
    "        # result.extend(b.find_all(text='Trading Volume'))\n",
    "\n",
    "        if r.find_all(text='Trading Volume'):\n",
    "            result.append(r)\n",
    "        # print(b)\n",
    "\n",
    "        # result.extend(b.find_all('span', attrs={'class': 'badge24h'}))\n",
    "    # print(result)\n",
    "\n",
    "    # use set to remove duplicates\n",
    "    result = list(set(result))\n",
    "    # you should end up with len(result) = 1\n",
    "\n",
    "\n",
    "    for i in result:\n",
    "        i=str(i)\n",
    "        f=i.split(\"<!-- -->%\")\n",
    "        \n",
    "        m=re.sub(\"[^\\d\\.]\", \"\", f[0][-7:])\n",
    "\n",
    "        if m == '':\n",
    "            print(c + \" is empty\" )\n",
    "            continue\n",
    "        \n",
    "        if (\"Caret-down\" in i): #or (float(m) < 100):\n",
    "            # m=-1*float(m)\n",
    "            # print(m)\n",
    "            TV.append([c, (-1*float(m))])\n",
    "        else:\n",
    "            # print(c)\n",
    "            # print(m)\n",
    "            TV.append([c, float(m)])\n",
    "            # print(TV)\n",
    "    \n",
    "    # return TV\n",
    "\n",
    "\n",
    "\n",
    "    "
   ]
  },
  {
   "cell_type": "code",
   "execution_count": 720,
   "metadata": {},
   "outputs": [],
   "source": [
    "# def updatecsv(TVdf):\n",
    "\n",
    "#     for k in (TVdf['0'].values):\n",
    "#         get_tardingVolume(k)\n",
    "    \n",
    "    "
   ]
  },
  {
   "cell_type": "code",
   "execution_count": null,
   "metadata": {},
   "outputs": [],
   "source": [
    "\n",
    "\n"
   ]
  },
  {
   "cell_type": "code",
   "execution_count": 721,
   "metadata": {},
   "outputs": [],
   "source": [
    "import concurrent.futures\n",
    "\n",
    "\n",
    "def newcsv(date, coins):\n",
    "\n",
    "    for c in tqdm(coins):\n",
    "        # print(c)\n",
    "        get_tardingVolume(c)\n",
    "\n",
    "    pd.DataFrame(TV, columns=['coin', date]).to_csv('TVDF.csv')\n",
    "\n",
    "\n",
    "def updatecsv(date, coins):\n",
    "\n",
    "    # if TVdf exist\n",
    "    TVdf = pd.read_csv('TVDF.csv', index_col=0)\n",
    "\n",
    "    for c in tqdm(coins):\n",
    "        # print(c)\n",
    "        get_tardingVolume(c)\n",
    "        \n",
    "\n",
    "    ddf = pd.DataFrame(TV)\n",
    "    if ddf[0].equals(TVdf[\"coin\"]):\n",
    "        print(\"ok\")\n",
    "        # TVdf[date]= ddf[1]\n",
    "\n",
    "        TVdf.insert(1, date, ddf[1])\n",
    "\n",
    "\n",
    "\n",
    "    TVdf.to_csv('TVDF.csv')\n",
    "    # print(TVdf)\n",
    "\n",
    "\n"
   ]
  },
  {
   "cell_type": "code",
   "execution_count": 722,
   "metadata": {},
   "outputs": [],
   "source": [
    "def change(r):\n",
    "    df = pd.read_csv('TVDF.csv', index_col=0)\n",
    "    # df['change'] = df.iloc[: , -2] - df.iloc[: , -3]\n",
    "\n",
    "    if len(df.columns) >= 3:\n",
    "        df.insert(1, \"change\", df.iloc[: , -2] - df.iloc[: , -1])\n",
    "\n",
    "        # print(change[change > 100])\n",
    "        # print(df[change > r].iloc[:,-2:])\n",
    "\n",
    "        df=df.sort_values(by=['change'], ascending=False)\n",
    "        # print(df)\n",
    "\n",
    "        print(df[df['change'] > r])\n",
    "\n",
    "        # print()\n",
    "\n",
    "        # candidate.append(df[change > r]['coin'])\n",
    "    \n",
    "    else:\n",
    "        updatecsv(date, coins)\n",
    "\n",
    "    "
   ]
  },
  {
   "cell_type": "code",
   "execution_count": 723,
   "metadata": {},
   "outputs": [
    {
     "name": "stderr",
     "output_type": "stream",
     "text": [
      " 12%|█▏        | 46/379 [00:30<03:28,  1.60it/s]"
     ]
    },
    {
     "name": "stdout",
     "output_type": "stream",
     "text": [
      "gnosis is empty\n"
     ]
    },
    {
     "name": "stderr",
     "output_type": "stream",
     "text": [
      " 76%|███████▌  | 288/379 [03:19<00:59,  1.53it/s]"
     ]
    },
    {
     "name": "stdout",
     "output_type": "stream",
     "text": [
      "australian-dollar is empty\n"
     ]
    },
    {
     "name": "stderr",
     "output_type": "stream",
     "text": [
      " 93%|█████████▎| 353/379 [04:07<00:15,  1.65it/s]"
     ]
    },
    {
     "name": "stdout",
     "output_type": "stream",
     "text": [
      "pound-sterling is empty\n"
     ]
    },
    {
     "name": "stderr",
     "output_type": "stream",
     "text": [
      "100%|██████████| 379/379 [04:25<00:00,  1.43it/s]"
     ]
    },
    {
     "name": "stdout",
     "output_type": "stream",
     "text": [
      "ok\n"
     ]
    },
    {
     "name": "stderr",
     "output_type": "stream",
     "text": [
      "\n"
     ]
    }
   ],
   "source": [
    "date=pd.Timestamp.now().strftime('%H%M')\n",
    "# date = str(date)\n",
    "\n",
    "TV = []\n",
    "candidate= []\n",
    "\n",
    "# newcsv(date, coins)\n",
    "\n",
    "updatecsv(date, coins)\n"
   ]
  },
  {
   "cell_type": "code",
   "execution_count": 725,
   "metadata": {},
   "outputs": [
    {
     "name": "stdout",
     "output_type": "stream",
     "text": [
      "       coin  change    1710    1650    1636\n",
      "16  navcoin   75.97  415.16  394.32  318.35\n"
     ]
    }
   ],
   "source": [
    "\n",
    "change(55)\n",
    "\n",
    "# for c in tqdm(candidate):\n",
    "#     print(c)\n",
    "#     # get_tardingVolume(c)\n",
    "\n",
    "# print(TV)\n",
    "\n",
    "# print(candidate)\n"
   ]
  },
  {
   "cell_type": "code",
   "execution_count": null,
   "metadata": {},
   "outputs": [],
   "source": [
    "\n"
   ]
  }
 ],
 "metadata": {
  "interpreter": {
   "hash": "4c2f98a013b216298a2e0ea35e2c604ca00c100e03aea0a00effc14efa776a80"
  },
  "kernelspec": {
   "display_name": "Python 3.10.0 64-bit ('algo': venv)",
   "language": "python",
   "name": "python3"
  },
  "language_info": {
   "codemirror_mode": {
    "name": "ipython",
    "version": 3
   },
   "file_extension": ".py",
   "mimetype": "text/x-python",
   "name": "python",
   "nbconvert_exporter": "python",
   "pygments_lexer": "ipython3",
   "version": "3.10.0"
  },
  "orig_nbformat": 4
 },
 "nbformat": 4,
 "nbformat_minor": 2
}
