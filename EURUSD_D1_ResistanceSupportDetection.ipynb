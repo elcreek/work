{
 "cells": [
  {
   "cell_type": "markdown",
   "metadata": {},
   "source": [
    "# Resistance/Support Detection"
   ]
  },
  {
   "cell_type": "code",
   "execution_count": 61,
   "metadata": {
    "scrolled": true
   },
   "outputs": [
    {
     "data": {
      "text/html": [
       "<div>\n",
       "<style scoped>\n",
       "    .dataframe tbody tr th:only-of-type {\n",
       "        vertical-align: middle;\n",
       "    }\n",
       "\n",
       "    .dataframe tbody tr th {\n",
       "        vertical-align: top;\n",
       "    }\n",
       "\n",
       "    .dataframe thead th {\n",
       "        text-align: right;\n",
       "    }\n",
       "</style>\n",
       "<table border=\"1\" class=\"dataframe\">\n",
       "  <thead>\n",
       "    <tr style=\"text-align: right;\">\n",
       "      <th></th>\n",
       "      <th>Time</th>\n",
       "      <th>Open</th>\n",
       "      <th>High</th>\n",
       "      <th>Low</th>\n",
       "      <th>Close</th>\n",
       "      <th>Volume</th>\n",
       "    </tr>\n",
       "  </thead>\n",
       "  <tbody>\n",
       "    <tr>\n",
       "      <th>994</th>\n",
       "      <td>2022-01-29</td>\n",
       "      <td>29.47</td>\n",
       "      <td>30.23</td>\n",
       "      <td>28.29</td>\n",
       "      <td>29.08</td>\n",
       "      <td>3591186.09</td>\n",
       "    </tr>\n",
       "    <tr>\n",
       "      <th>995</th>\n",
       "      <td>2022-01-30</td>\n",
       "      <td>29.08</td>\n",
       "      <td>29.19</td>\n",
       "      <td>26.37</td>\n",
       "      <td>27.19</td>\n",
       "      <td>3479587.23</td>\n",
       "    </tr>\n",
       "    <tr>\n",
       "      <th>996</th>\n",
       "      <td>2022-01-31</td>\n",
       "      <td>27.18</td>\n",
       "      <td>28.95</td>\n",
       "      <td>25.50</td>\n",
       "      <td>28.05</td>\n",
       "      <td>4062598.02</td>\n",
       "    </tr>\n",
       "    <tr>\n",
       "      <th>997</th>\n",
       "      <td>2022-02-01</td>\n",
       "      <td>28.06</td>\n",
       "      <td>29.84</td>\n",
       "      <td>27.78</td>\n",
       "      <td>28.84</td>\n",
       "      <td>3989190.90</td>\n",
       "    </tr>\n",
       "    <tr>\n",
       "      <th>998</th>\n",
       "      <td>2022-02-02</td>\n",
       "      <td>28.84</td>\n",
       "      <td>29.00</td>\n",
       "      <td>26.10</td>\n",
       "      <td>26.31</td>\n",
       "      <td>3246345.66</td>\n",
       "    </tr>\n",
       "  </tbody>\n",
       "</table>\n",
       "</div>"
      ],
      "text/plain": [
       "           Time   Open   High    Low  Close      Volume\n",
       "994  2022-01-29  29.47  30.23  28.29  29.08  3591186.09\n",
       "995  2022-01-30  29.08  29.19  26.37  27.19  3479587.23\n",
       "996  2022-01-31  27.18  28.95  25.50  28.05  4062598.02\n",
       "997  2022-02-01  28.06  29.84  27.78  28.84  3989190.90\n",
       "998  2022-02-02  28.84  29.00  26.10  26.31  3246345.66"
      ]
     },
     "execution_count": 61,
     "metadata": {},
     "output_type": "execute_result"
    }
   ],
   "source": [
    "import pandas as pd\n",
    "df = pd.read_csv(\"C:\\\\Users\\Grant\\Desktop\\work_git\\work\\data/1d/ATOMUSDT_1d.csv\")\n",
    "df.tail()"
   ]
  },
  {
   "cell_type": "code",
   "execution_count": 68,
   "metadata": {},
   "outputs": [
    {
     "data": {
      "text/html": [
       "<div>\n",
       "<style scoped>\n",
       "    .dataframe tbody tr th:only-of-type {\n",
       "        vertical-align: middle;\n",
       "    }\n",
       "\n",
       "    .dataframe tbody tr th {\n",
       "        vertical-align: top;\n",
       "    }\n",
       "\n",
       "    .dataframe thead th {\n",
       "        text-align: right;\n",
       "    }\n",
       "</style>\n",
       "<table border=\"1\" class=\"dataframe\">\n",
       "  <thead>\n",
       "    <tr style=\"text-align: right;\">\n",
       "      <th></th>\n",
       "      <th>Time</th>\n",
       "      <th>Open</th>\n",
       "      <th>High</th>\n",
       "      <th>Low</th>\n",
       "      <th>Close</th>\n",
       "      <th>Volume</th>\n",
       "    </tr>\n",
       "  </thead>\n",
       "  <tbody>\n",
       "    <tr>\n",
       "      <th>994</th>\n",
       "      <td>2022-01-29</td>\n",
       "      <td>29.47</td>\n",
       "      <td>30.23</td>\n",
       "      <td>28.29</td>\n",
       "      <td>29.08</td>\n",
       "      <td>3591186.09</td>\n",
       "    </tr>\n",
       "    <tr>\n",
       "      <th>995</th>\n",
       "      <td>2022-01-30</td>\n",
       "      <td>29.08</td>\n",
       "      <td>29.19</td>\n",
       "      <td>26.37</td>\n",
       "      <td>27.19</td>\n",
       "      <td>3479587.23</td>\n",
       "    </tr>\n",
       "    <tr>\n",
       "      <th>996</th>\n",
       "      <td>2022-01-31</td>\n",
       "      <td>27.18</td>\n",
       "      <td>28.95</td>\n",
       "      <td>25.50</td>\n",
       "      <td>28.05</td>\n",
       "      <td>4062598.02</td>\n",
       "    </tr>\n",
       "    <tr>\n",
       "      <th>997</th>\n",
       "      <td>2022-02-01</td>\n",
       "      <td>28.06</td>\n",
       "      <td>29.84</td>\n",
       "      <td>27.78</td>\n",
       "      <td>28.84</td>\n",
       "      <td>3989190.90</td>\n",
       "    </tr>\n",
       "    <tr>\n",
       "      <th>998</th>\n",
       "      <td>2022-02-02</td>\n",
       "      <td>28.84</td>\n",
       "      <td>29.00</td>\n",
       "      <td>26.10</td>\n",
       "      <td>26.31</td>\n",
       "      <td>3246345.66</td>\n",
       "    </tr>\n",
       "  </tbody>\n",
       "</table>\n",
       "</div>"
      ],
      "text/plain": [
       "           Time   Open   High    Low  Close      Volume\n",
       "994  2022-01-29  29.47  30.23  28.29  29.08  3591186.09\n",
       "995  2022-01-30  29.08  29.19  26.37  27.19  3479587.23\n",
       "996  2022-01-31  27.18  28.95  25.50  28.05  4062598.02\n",
       "997  2022-02-01  28.06  29.84  27.78  28.84  3989190.90\n",
       "998  2022-02-02  28.84  29.00  26.10  26.31  3246345.66"
      ]
     },
     "execution_count": 68,
     "metadata": {},
     "output_type": "execute_result"
    }
   ],
   "source": [
    "#Check if NA values are in data\n",
    "df=df[df['Volume']!=0]\n",
    "df.reset_index(drop=True, inplace=True)\n",
    "df.isna().sum()\n",
    "df.tail()"
   ]
  },
  {
   "cell_type": "markdown",
   "metadata": {},
   "source": [
    "# Support and Resitance FUNCTIONS"
   ]
  },
  {
   "cell_type": "code",
   "execution_count": 63,
   "metadata": {},
   "outputs": [],
   "source": [
    "def support(df1, l, n1, n2): #n1 n2 before and after candle l\n",
    "    for i in range(l-n1+1, l+1):\n",
    "        if(df1.Low[i]>df1.Low[i-1]):\n",
    "            return 0\n",
    "    for i in range(l+1,l+n2+1):\n",
    "        if(df1.Low[i]<df1.Low[i-1]):\n",
    "            return 0\n",
    "    return 1\n",
    "\n",
    "#support(df,46,3,2)\n",
    "\n",
    "def resistance(df1, l, n1, n2): #n1 n2 before and after candle l\n",
    "    for i in range(l-n1+1, l+1):\n",
    "        if(df1.High[i]<df1.High[i-1]):\n",
    "            return 0\n",
    "    for i in range(l+1,l+n2+1):\n",
    "        if(df1.High[i]>df1.High[i-1]):\n",
    "            return 0\n",
    "    return 1\n",
    "#resistance(df, 30, 3, 5)\n"
   ]
  },
  {
   "cell_type": "code",
   "execution_count": 64,
   "metadata": {},
   "outputs": [
    {
     "data": {
      "application/vnd.plotly.v1+json": {
       "config": {
        "plotlyServerURL": "https://plot.ly"
       },
       "data": [
        {
         "close": [
          3.902,
          3.75,
          3.897,
          4,
          4.547,
          4.278,
          4.413,
          4.684,
          4.852,
          4.673,
          4.743,
          4.306,
          4.337,
          4.454,
          4.385,
          4.481,
          4.655,
          4.778,
          4.696,
          5.926,
          5.782,
          5.771,
          6.388,
          6.506,
          5.93,
          6.14,
          5.987,
          6.279,
          6.096,
          5.826,
          6.081,
          5.943,
          6.124,
          6.266,
          6.222,
          6.167,
          6.692,
          7.009,
          6.571,
          6.628,
          6.478,
          6.523,
          6.758,
          6.838,
          6.665,
          6.581,
          6.35,
          5.558,
          5.928,
          6.058
         ],
         "high": [
          4.175,
          4.04,
          4.173,
          4.087,
          4.8,
          4.78,
          4.792,
          5,
          5.171,
          4.863,
          4.864,
          4.821,
          4.363,
          4.77,
          4.6,
          4.543,
          4.699,
          4.863,
          4.873,
          6.603,
          5.93,
          6.325,
          6.42,
          7.249,
          6.85,
          6.28,
          6.147,
          6.576,
          6.316,
          6.185,
          6.088,
          6.176,
          6.264,
          6.506,
          6.281,
          6.265,
          6.737,
          7.1,
          7.04,
          6.849,
          6.637,
          6.589,
          6.914,
          7.193,
          6.846,
          6.747,
          6.849,
          6.416,
          5.97,
          6.198
         ],
         "low": [
          3.7,
          3.604,
          3.734,
          3.779,
          3.986,
          4,
          3.95,
          4.33,
          4.636,
          4.432,
          4.48,
          4.3,
          4.115,
          4.258,
          4.287,
          4.238,
          4.47,
          4.474,
          4.5,
          4.668,
          5.211,
          5.6,
          5.572,
          5.975,
          5.744,
          5.62,
          5.621,
          5.877,
          5.938,
          5.7,
          5.733,
          5.753,
          5.852,
          6.023,
          5.874,
          6.102,
          6.118,
          6.454,
          6.47,
          6.55,
          6.285,
          6.334,
          6.414,
          6.716,
          6.542,
          6.474,
          6.151,
          5.36,
          5.464,
          5.626
         ],
         "open": [
          3.804,
          3.904,
          3.75,
          3.897,
          4,
          4.546,
          4.268,
          4.413,
          4.684,
          4.852,
          4.668,
          4.74,
          4.309,
          4.335,
          4.447,
          4.385,
          4.478,
          4.665,
          4.794,
          4.682,
          5.928,
          5.782,
          5.773,
          6.393,
          6.506,
          5.931,
          6.141,
          5.995,
          6.279,
          6.097,
          5.825,
          6.076,
          5.949,
          6.125,
          6.264,
          6.224,
          6.164,
          6.689,
          7.011,
          6.586,
          6.621,
          6.476,
          6.513,
          6.764,
          6.83,
          6.675,
          6.579,
          6.35,
          5.552,
          5.928
         ],
         "type": "candlestick",
         "x": [
          0,
          1,
          2,
          3,
          4,
          5,
          6,
          7,
          8,
          9,
          10,
          11,
          12,
          13,
          14,
          15,
          16,
          17,
          18,
          19,
          20,
          21,
          22,
          23,
          24,
          25,
          26,
          27,
          28,
          29,
          30,
          31,
          32,
          33,
          34,
          35,
          36,
          37,
          38,
          39,
          40,
          41,
          42,
          43,
          44,
          45,
          46,
          47,
          48,
          49
         ]
        }
       ],
       "layout": {
        "template": {
         "data": {
          "bar": [
           {
            "error_x": {
             "color": "#2a3f5f"
            },
            "error_y": {
             "color": "#2a3f5f"
            },
            "marker": {
             "line": {
              "color": "#E5ECF6",
              "width": 0.5
             },
             "pattern": {
              "fillmode": "overlay",
              "size": 10,
              "solidity": 0.2
             }
            },
            "type": "bar"
           }
          ],
          "barpolar": [
           {
            "marker": {
             "line": {
              "color": "#E5ECF6",
              "width": 0.5
             },
             "pattern": {
              "fillmode": "overlay",
              "size": 10,
              "solidity": 0.2
             }
            },
            "type": "barpolar"
           }
          ],
          "carpet": [
           {
            "aaxis": {
             "endlinecolor": "#2a3f5f",
             "gridcolor": "white",
             "linecolor": "white",
             "minorgridcolor": "white",
             "startlinecolor": "#2a3f5f"
            },
            "baxis": {
             "endlinecolor": "#2a3f5f",
             "gridcolor": "white",
             "linecolor": "white",
             "minorgridcolor": "white",
             "startlinecolor": "#2a3f5f"
            },
            "type": "carpet"
           }
          ],
          "choropleth": [
           {
            "colorbar": {
             "outlinewidth": 0,
             "ticks": ""
            },
            "type": "choropleth"
           }
          ],
          "contour": [
           {
            "colorbar": {
             "outlinewidth": 0,
             "ticks": ""
            },
            "colorscale": [
             [
              0,
              "#0d0887"
             ],
             [
              0.1111111111111111,
              "#46039f"
             ],
             [
              0.2222222222222222,
              "#7201a8"
             ],
             [
              0.3333333333333333,
              "#9c179e"
             ],
             [
              0.4444444444444444,
              "#bd3786"
             ],
             [
              0.5555555555555556,
              "#d8576b"
             ],
             [
              0.6666666666666666,
              "#ed7953"
             ],
             [
              0.7777777777777778,
              "#fb9f3a"
             ],
             [
              0.8888888888888888,
              "#fdca26"
             ],
             [
              1,
              "#f0f921"
             ]
            ],
            "type": "contour"
           }
          ],
          "contourcarpet": [
           {
            "colorbar": {
             "outlinewidth": 0,
             "ticks": ""
            },
            "type": "contourcarpet"
           }
          ],
          "heatmap": [
           {
            "colorbar": {
             "outlinewidth": 0,
             "ticks": ""
            },
            "colorscale": [
             [
              0,
              "#0d0887"
             ],
             [
              0.1111111111111111,
              "#46039f"
             ],
             [
              0.2222222222222222,
              "#7201a8"
             ],
             [
              0.3333333333333333,
              "#9c179e"
             ],
             [
              0.4444444444444444,
              "#bd3786"
             ],
             [
              0.5555555555555556,
              "#d8576b"
             ],
             [
              0.6666666666666666,
              "#ed7953"
             ],
             [
              0.7777777777777778,
              "#fb9f3a"
             ],
             [
              0.8888888888888888,
              "#fdca26"
             ],
             [
              1,
              "#f0f921"
             ]
            ],
            "type": "heatmap"
           }
          ],
          "heatmapgl": [
           {
            "colorbar": {
             "outlinewidth": 0,
             "ticks": ""
            },
            "colorscale": [
             [
              0,
              "#0d0887"
             ],
             [
              0.1111111111111111,
              "#46039f"
             ],
             [
              0.2222222222222222,
              "#7201a8"
             ],
             [
              0.3333333333333333,
              "#9c179e"
             ],
             [
              0.4444444444444444,
              "#bd3786"
             ],
             [
              0.5555555555555556,
              "#d8576b"
             ],
             [
              0.6666666666666666,
              "#ed7953"
             ],
             [
              0.7777777777777778,
              "#fb9f3a"
             ],
             [
              0.8888888888888888,
              "#fdca26"
             ],
             [
              1,
              "#f0f921"
             ]
            ],
            "type": "heatmapgl"
           }
          ],
          "histogram": [
           {
            "marker": {
             "pattern": {
              "fillmode": "overlay",
              "size": 10,
              "solidity": 0.2
             }
            },
            "type": "histogram"
           }
          ],
          "histogram2d": [
           {
            "colorbar": {
             "outlinewidth": 0,
             "ticks": ""
            },
            "colorscale": [
             [
              0,
              "#0d0887"
             ],
             [
              0.1111111111111111,
              "#46039f"
             ],
             [
              0.2222222222222222,
              "#7201a8"
             ],
             [
              0.3333333333333333,
              "#9c179e"
             ],
             [
              0.4444444444444444,
              "#bd3786"
             ],
             [
              0.5555555555555556,
              "#d8576b"
             ],
             [
              0.6666666666666666,
              "#ed7953"
             ],
             [
              0.7777777777777778,
              "#fb9f3a"
             ],
             [
              0.8888888888888888,
              "#fdca26"
             ],
             [
              1,
              "#f0f921"
             ]
            ],
            "type": "histogram2d"
           }
          ],
          "histogram2dcontour": [
           {
            "colorbar": {
             "outlinewidth": 0,
             "ticks": ""
            },
            "colorscale": [
             [
              0,
              "#0d0887"
             ],
             [
              0.1111111111111111,
              "#46039f"
             ],
             [
              0.2222222222222222,
              "#7201a8"
             ],
             [
              0.3333333333333333,
              "#9c179e"
             ],
             [
              0.4444444444444444,
              "#bd3786"
             ],
             [
              0.5555555555555556,
              "#d8576b"
             ],
             [
              0.6666666666666666,
              "#ed7953"
             ],
             [
              0.7777777777777778,
              "#fb9f3a"
             ],
             [
              0.8888888888888888,
              "#fdca26"
             ],
             [
              1,
              "#f0f921"
             ]
            ],
            "type": "histogram2dcontour"
           }
          ],
          "mesh3d": [
           {
            "colorbar": {
             "outlinewidth": 0,
             "ticks": ""
            },
            "type": "mesh3d"
           }
          ],
          "parcoords": [
           {
            "line": {
             "colorbar": {
              "outlinewidth": 0,
              "ticks": ""
             }
            },
            "type": "parcoords"
           }
          ],
          "pie": [
           {
            "automargin": true,
            "type": "pie"
           }
          ],
          "scatter": [
           {
            "marker": {
             "colorbar": {
              "outlinewidth": 0,
              "ticks": ""
             }
            },
            "type": "scatter"
           }
          ],
          "scatter3d": [
           {
            "line": {
             "colorbar": {
              "outlinewidth": 0,
              "ticks": ""
             }
            },
            "marker": {
             "colorbar": {
              "outlinewidth": 0,
              "ticks": ""
             }
            },
            "type": "scatter3d"
           }
          ],
          "scattercarpet": [
           {
            "marker": {
             "colorbar": {
              "outlinewidth": 0,
              "ticks": ""
             }
            },
            "type": "scattercarpet"
           }
          ],
          "scattergeo": [
           {
            "marker": {
             "colorbar": {
              "outlinewidth": 0,
              "ticks": ""
             }
            },
            "type": "scattergeo"
           }
          ],
          "scattergl": [
           {
            "marker": {
             "colorbar": {
              "outlinewidth": 0,
              "ticks": ""
             }
            },
            "type": "scattergl"
           }
          ],
          "scattermapbox": [
           {
            "marker": {
             "colorbar": {
              "outlinewidth": 0,
              "ticks": ""
             }
            },
            "type": "scattermapbox"
           }
          ],
          "scatterpolar": [
           {
            "marker": {
             "colorbar": {
              "outlinewidth": 0,
              "ticks": ""
             }
            },
            "type": "scatterpolar"
           }
          ],
          "scatterpolargl": [
           {
            "marker": {
             "colorbar": {
              "outlinewidth": 0,
              "ticks": ""
             }
            },
            "type": "scatterpolargl"
           }
          ],
          "scatterternary": [
           {
            "marker": {
             "colorbar": {
              "outlinewidth": 0,
              "ticks": ""
             }
            },
            "type": "scatterternary"
           }
          ],
          "surface": [
           {
            "colorbar": {
             "outlinewidth": 0,
             "ticks": ""
            },
            "colorscale": [
             [
              0,
              "#0d0887"
             ],
             [
              0.1111111111111111,
              "#46039f"
             ],
             [
              0.2222222222222222,
              "#7201a8"
             ],
             [
              0.3333333333333333,
              "#9c179e"
             ],
             [
              0.4444444444444444,
              "#bd3786"
             ],
             [
              0.5555555555555556,
              "#d8576b"
             ],
             [
              0.6666666666666666,
              "#ed7953"
             ],
             [
              0.7777777777777778,
              "#fb9f3a"
             ],
             [
              0.8888888888888888,
              "#fdca26"
             ],
             [
              1,
              "#f0f921"
             ]
            ],
            "type": "surface"
           }
          ],
          "table": [
           {
            "cells": {
             "fill": {
              "color": "#EBF0F8"
             },
             "line": {
              "color": "white"
             }
            },
            "header": {
             "fill": {
              "color": "#C8D4E3"
             },
             "line": {
              "color": "white"
             }
            },
            "type": "table"
           }
          ]
         },
         "layout": {
          "annotationdefaults": {
           "arrowcolor": "#2a3f5f",
           "arrowhead": 0,
           "arrowwidth": 1
          },
          "autotypenumbers": "strict",
          "coloraxis": {
           "colorbar": {
            "outlinewidth": 0,
            "ticks": ""
           }
          },
          "colorscale": {
           "diverging": [
            [
             0,
             "#8e0152"
            ],
            [
             0.1,
             "#c51b7d"
            ],
            [
             0.2,
             "#de77ae"
            ],
            [
             0.3,
             "#f1b6da"
            ],
            [
             0.4,
             "#fde0ef"
            ],
            [
             0.5,
             "#f7f7f7"
            ],
            [
             0.6,
             "#e6f5d0"
            ],
            [
             0.7,
             "#b8e186"
            ],
            [
             0.8,
             "#7fbc41"
            ],
            [
             0.9,
             "#4d9221"
            ],
            [
             1,
             "#276419"
            ]
           ],
           "sequential": [
            [
             0,
             "#0d0887"
            ],
            [
             0.1111111111111111,
             "#46039f"
            ],
            [
             0.2222222222222222,
             "#7201a8"
            ],
            [
             0.3333333333333333,
             "#9c179e"
            ],
            [
             0.4444444444444444,
             "#bd3786"
            ],
            [
             0.5555555555555556,
             "#d8576b"
            ],
            [
             0.6666666666666666,
             "#ed7953"
            ],
            [
             0.7777777777777778,
             "#fb9f3a"
            ],
            [
             0.8888888888888888,
             "#fdca26"
            ],
            [
             1,
             "#f0f921"
            ]
           ],
           "sequentialminus": [
            [
             0,
             "#0d0887"
            ],
            [
             0.1111111111111111,
             "#46039f"
            ],
            [
             0.2222222222222222,
             "#7201a8"
            ],
            [
             0.3333333333333333,
             "#9c179e"
            ],
            [
             0.4444444444444444,
             "#bd3786"
            ],
            [
             0.5555555555555556,
             "#d8576b"
            ],
            [
             0.6666666666666666,
             "#ed7953"
            ],
            [
             0.7777777777777778,
             "#fb9f3a"
            ],
            [
             0.8888888888888888,
             "#fdca26"
            ],
            [
             1,
             "#f0f921"
            ]
           ]
          },
          "colorway": [
           "#636efa",
           "#EF553B",
           "#00cc96",
           "#ab63fa",
           "#FFA15A",
           "#19d3f3",
           "#FF6692",
           "#B6E880",
           "#FF97FF",
           "#FECB52"
          ],
          "font": {
           "color": "#2a3f5f"
          },
          "geo": {
           "bgcolor": "white",
           "lakecolor": "white",
           "landcolor": "#E5ECF6",
           "showlakes": true,
           "showland": true,
           "subunitcolor": "white"
          },
          "hoverlabel": {
           "align": "left"
          },
          "hovermode": "closest",
          "mapbox": {
           "style": "light"
          },
          "paper_bgcolor": "white",
          "plot_bgcolor": "#E5ECF6",
          "polar": {
           "angularaxis": {
            "gridcolor": "white",
            "linecolor": "white",
            "ticks": ""
           },
           "bgcolor": "#E5ECF6",
           "radialaxis": {
            "gridcolor": "white",
            "linecolor": "white",
            "ticks": ""
           }
          },
          "scene": {
           "xaxis": {
            "backgroundcolor": "#E5ECF6",
            "gridcolor": "white",
            "gridwidth": 2,
            "linecolor": "white",
            "showbackground": true,
            "ticks": "",
            "zerolinecolor": "white"
           },
           "yaxis": {
            "backgroundcolor": "#E5ECF6",
            "gridcolor": "white",
            "gridwidth": 2,
            "linecolor": "white",
            "showbackground": true,
            "ticks": "",
            "zerolinecolor": "white"
           },
           "zaxis": {
            "backgroundcolor": "#E5ECF6",
            "gridcolor": "white",
            "gridwidth": 2,
            "linecolor": "white",
            "showbackground": true,
            "ticks": "",
            "zerolinecolor": "white"
           }
          },
          "shapedefaults": {
           "line": {
            "color": "#2a3f5f"
           }
          },
          "ternary": {
           "aaxis": {
            "gridcolor": "white",
            "linecolor": "white",
            "ticks": ""
           },
           "baxis": {
            "gridcolor": "white",
            "linecolor": "white",
            "ticks": ""
           },
           "bgcolor": "#E5ECF6",
           "caxis": {
            "gridcolor": "white",
            "linecolor": "white",
            "ticks": ""
           }
          },
          "title": {
           "x": 0.05
          },
          "xaxis": {
           "automargin": true,
           "gridcolor": "white",
           "linecolor": "white",
           "ticks": "",
           "title": {
            "standoff": 15
           },
           "zerolinecolor": "white",
           "zerolinewidth": 2
          },
          "yaxis": {
           "automargin": true,
           "gridcolor": "white",
           "linecolor": "white",
           "ticks": "",
           "title": {
            "standoff": 15
           },
           "zerolinecolor": "white",
           "zerolinewidth": 2
          }
         }
        }
       }
      }
     },
     "metadata": {},
     "output_type": "display_data"
    }
   ],
   "source": [
    "dfpl = df[0:50]\n",
    "import plotly.graph_objects as go\n",
    "from datetime import datetime\n",
    "\n",
    "fig = go.Figure(data=[go.Candlestick(x=dfpl.index,\n",
    "                open=dfpl['Open'],\n",
    "                high=dfpl['High'],\n",
    "                low=dfpl['Low'],\n",
    "                close=dfpl['Close'])])\n",
    "\n",
    "fig.show()"
   ]
  },
  {
   "cell_type": "code",
   "execution_count": 65,
   "metadata": {},
   "outputs": [
    {
     "name": "stdout",
     "output_type": "stream",
     "text": [
      "[(787, 14.049, 2), (792, 14.8, 2), (813, 13.444, 2), (819, 14.356, 2), (839, 17.25, 1), (843, 26.3, 2), (856, 38.95, 2), (867, 44.3, 2), (879, 33.0, 1), (885, 29.9, 1), (908, 39.22, 2), (919, 34.15, 2), (922, 25.29, 1), (926, 33.8, 2), (944, 21.85, 1), (977, 42.33, 2), (982, 44.56, 2)]\n"
     ]
    }
   ],
   "source": [
    "sr = []\n",
    "n1=3\n",
    "n2=2\n",
    "for row in range(777, 998): #len(df)-n2 3 205\n",
    "    if support(df, row, n1, n2):\n",
    "        sr.append((row,df.Low[row],1))\n",
    "    if resistance(df, row, n1, n2):\n",
    "        sr.append((row,df.High[row],2))\n",
    "print(sr)"
   ]
  },
  {
   "cell_type": "code",
   "execution_count": 67,
   "metadata": {},
   "outputs": [
    {
     "data": {
      "application/vnd.plotly.v1+json": {
       "config": {
        "plotlyServerURL": "https://plot.ly"
       },
       "data": [
        {
         "close": [
          33.08,
          33.13,
          32.44,
          31.88,
          35,
          35.95,
          34.34,
          34.06,
          35.69,
          34.26,
          35.31,
          42.99,
          36.75,
          38,
          39.55,
          37.3,
          37.24,
          37.31,
          37.1,
          38.49,
          37.51,
          36.77,
          36.22,
          35.73,
          36.62,
          35.84,
          32.05,
          32.94,
          32.05,
          32.5,
          31.93,
          31.45,
          28.29,
          29.44,
          26.62,
          28.12,
          29.43,
          30.88,
          32.17,
          32.05,
          29.62,
          29.77,
          27.07,
          26.73,
          27.39,
          28.1,
          27.51,
          26.67,
          28.37,
          32.79,
          28.15,
          24.57,
          24.33,
          24.3,
          25.32,
          22.45,
          22.54,
          24.4,
          24.49,
          21.74,
          21.8,
          22.34,
          21.83,
          21.21,
          23.15,
          22.16,
          21.52,
          23.63,
          27.37,
          28.36,
          26.9,
          29.66,
          32.12,
          29.71,
          26.59,
          27.94,
          30.16,
          32.39,
          36.36,
          35.53,
          39.25,
          42.1,
          38.66,
          40.08,
          38.58,
          35.87,
          34.98,
          37.86,
          38.7,
          40.22,
          37.6,
          40.42,
          39.12,
          43.65,
          39.13,
          38.24,
          37.02,
          38.98,
          34.61,
          29.24,
          34.61,
          36.02,
          35.87,
          32.36,
          30.06,
          29.47,
          29.08,
          27.19,
          28.05,
          28.84
         ],
         "high": [
          34.16,
          34.65,
          34.28,
          32.68,
          35.32,
          36.9,
          36.83,
          36.16,
          37.2,
          36.03,
          35.57,
          43.26,
          43.28,
          40.9,
          41.05,
          39.56,
          37.74,
          38.18,
          38.44,
          38.88,
          39.22,
          38.98,
          37.05,
          36.48,
          36.96,
          37.98,
          37.27,
          34,
          32.98,
          33.19,
          33.27,
          34.15,
          31.47,
          29.63,
          29.79,
          28.55,
          29.85,
          32,
          33.8,
          33.24,
          32.07,
          30.9,
          30.3,
          28.06,
          27.64,
          28.45,
          29.35,
          28.27,
          28.64,
          33.6,
          32.92,
          29.31,
          24.82,
          25.44,
          26,
          25.6,
          23.88,
          24.78,
          25.22,
          24.94,
          22.14,
          22.87,
          23.5,
          22.06,
          23.25,
          23.72,
          22.44,
          23.7,
          28.48,
          28.88,
          29.76,
          29.69,
          32.25,
          32.7,
          29.72,
          28.16,
          30.55,
          33.3,
          37,
          36.88,
          39.8,
          43.95,
          43.27,
          41.49,
          44.7,
          40.34,
          38.08,
          38.16,
          40.05,
          42.33,
          41.28,
          40.83,
          40.96,
          43.82,
          44.56,
          40.08,
          38.84,
          42.1,
          41.14,
          35.08,
          34.78,
          37.05,
          37.19,
          36.39,
          32.94,
          30.35,
          30.23,
          29.19,
          28.95,
          29.84
         ],
         "low": [
          32.18,
          32.9,
          31,
          31.02,
          31.45,
          33.5,
          33.84,
          33.62,
          33.77,
          33.49,
          34.15,
          35.06,
          35,
          36.09,
          38,
          36.17,
          35.22,
          34.7,
          36.28,
          35.48,
          36.1,
          36.35,
          34.17,
          35.46,
          35,
          35.45,
          28.32,
          31.68,
          30.52,
          31.92,
          31.11,
          30.57,
          27.46,
          26.89,
          25.29,
          25.97,
          27.8,
          28.32,
          28.95,
          30.66,
          29.12,
          29.28,
          25.15,
          26.44,
          24.67,
          26.72,
          26.96,
          26.28,
          25.62,
          27.72,
          21.82,
          23.55,
          22.02,
          23.8,
          22.82,
          22.42,
          21.85,
          21.97,
          23.48,
          21.06,
          20.96,
          20.18,
          21.66,
          20.38,
          20.92,
          22,
          20.73,
          21.48,
          23.35,
          26.37,
          26.74,
          26.62,
          28.56,
          29.56,
          26.16,
          25.1,
          26.38,
          30.11,
          32.34,
          34.22,
          34.23,
          37.51,
          34.59,
          35.43,
          37.7,
          34.05,
          34.11,
          32.9,
          36.1,
          38.59,
          37.41,
          36.66,
          39.11,
          38.81,
          37.94,
          36.25,
          35.24,
          36.93,
          32.1,
          27.31,
          29.1,
          29.81,
          34.76,
          31.25,
          28.57,
          27.71,
          28.29,
          26.37,
          25.5,
          27.78
         ],
         "open": [
          33.83,
          33.09,
          33.14,
          32.45,
          31.87,
          34.99,
          35.94,
          34.33,
          34.06,
          35.7,
          34.27,
          35.31,
          42.99,
          36.76,
          38.01,
          39.54,
          37.28,
          37.26,
          37.3,
          37.1,
          38.49,
          37.51,
          36.77,
          36.22,
          35.73,
          36.62,
          35.83,
          32.05,
          32.92,
          32.05,
          32.51,
          31.92,
          31.45,
          28.28,
          29.43,
          26.65,
          28.12,
          29.44,
          30.89,
          32.16,
          32.05,
          29.62,
          29.77,
          27.06,
          26.73,
          27.39,
          28.09,
          27.52,
          26.66,
          28.37,
          32.79,
          28.15,
          24.57,
          24.33,
          24.3,
          25.32,
          22.46,
          22.54,
          24.41,
          24.5,
          21.74,
          21.81,
          22.34,
          21.83,
          21.21,
          23.16,
          22.15,
          21.53,
          23.63,
          27.38,
          28.37,
          26.91,
          29.67,
          32.13,
          29.71,
          26.62,
          27.94,
          30.16,
          32.41,
          36.35,
          35.53,
          39.23,
          42.11,
          38.65,
          40.08,
          38.57,
          35.85,
          34.97,
          37.87,
          38.68,
          40.21,
          37.6,
          40.42,
          39.1,
          43.66,
          39.13,
          38.24,
          37.02,
          38.98,
          34.6,
          29.28,
          34.6,
          36.03,
          35.88,
          32.37,
          30.08,
          29.47,
          29.08,
          27.18,
          28.06
         ],
         "type": "candlestick",
         "x": [
          888,
          889,
          890,
          891,
          892,
          893,
          894,
          895,
          896,
          897,
          898,
          899,
          900,
          901,
          902,
          903,
          904,
          905,
          906,
          907,
          908,
          909,
          910,
          911,
          912,
          913,
          914,
          915,
          916,
          917,
          918,
          919,
          920,
          921,
          922,
          923,
          924,
          925,
          926,
          927,
          928,
          929,
          930,
          931,
          932,
          933,
          934,
          935,
          936,
          937,
          938,
          939,
          940,
          941,
          942,
          943,
          944,
          945,
          946,
          947,
          948,
          949,
          950,
          951,
          952,
          953,
          954,
          955,
          956,
          957,
          958,
          959,
          960,
          961,
          962,
          963,
          964,
          965,
          966,
          967,
          968,
          969,
          970,
          971,
          972,
          973,
          974,
          975,
          976,
          977,
          978,
          979,
          980,
          981,
          982,
          983,
          984,
          985,
          986,
          987,
          988,
          989,
          990,
          991,
          992,
          993,
          994,
          995,
          996,
          997
         ]
        }
       ],
       "layout": {
        "shapes": [
         {
          "type": "line",
          "x0": 888,
          "x1": 998,
          "y0": 14.049,
          "y1": 14.049
         },
         {
          "type": "line",
          "x0": 888,
          "x1": 998,
          "y0": 14.8,
          "y1": 14.8
         },
         {
          "type": "line",
          "x0": 888,
          "x1": 998,
          "y0": 13.444,
          "y1": 13.444
         },
         {
          "type": "line",
          "x0": 888,
          "x1": 998,
          "y0": 14.356,
          "y1": 14.356
         },
         {
          "type": "line",
          "x0": 888,
          "x1": 998,
          "y0": 17.25,
          "y1": 17.25
         },
         {
          "type": "line",
          "x0": 888,
          "x1": 998,
          "y0": 26.3,
          "y1": 26.3
         },
         {
          "type": "line",
          "x0": 888,
          "x1": 998,
          "y0": 38.95,
          "y1": 38.95
         },
         {
          "type": "line",
          "x0": 888,
          "x1": 998,
          "y0": 44.3,
          "y1": 44.3
         },
         {
          "type": "line",
          "x0": 888,
          "x1": 998,
          "y0": 33,
          "y1": 33
         },
         {
          "type": "line",
          "x0": 888,
          "x1": 998,
          "y0": 29.9,
          "y1": 29.9
         },
         {
          "type": "line",
          "x0": 888,
          "x1": 998,
          "y0": 39.22,
          "y1": 39.22
         },
         {
          "type": "line",
          "x0": 888,
          "x1": 998,
          "y0": 34.15,
          "y1": 34.15
         },
         {
          "type": "line",
          "x0": 888,
          "x1": 998,
          "y0": 25.29,
          "y1": 25.29
         },
         {
          "type": "line",
          "x0": 888,
          "x1": 998,
          "y0": 33.8,
          "y1": 33.8
         },
         {
          "type": "line",
          "x0": 888,
          "x1": 998,
          "y0": 21.85,
          "y1": 21.85
         },
         {
          "type": "line",
          "x0": 888,
          "x1": 998,
          "y0": 42.33,
          "y1": 42.33
         },
         {
          "type": "line",
          "x0": 888,
          "x1": 998,
          "y0": 44.56,
          "y1": 44.56
         }
        ],
        "template": {
         "data": {
          "bar": [
           {
            "error_x": {
             "color": "#2a3f5f"
            },
            "error_y": {
             "color": "#2a3f5f"
            },
            "marker": {
             "line": {
              "color": "#E5ECF6",
              "width": 0.5
             },
             "pattern": {
              "fillmode": "overlay",
              "size": 10,
              "solidity": 0.2
             }
            },
            "type": "bar"
           }
          ],
          "barpolar": [
           {
            "marker": {
             "line": {
              "color": "#E5ECF6",
              "width": 0.5
             },
             "pattern": {
              "fillmode": "overlay",
              "size": 10,
              "solidity": 0.2
             }
            },
            "type": "barpolar"
           }
          ],
          "carpet": [
           {
            "aaxis": {
             "endlinecolor": "#2a3f5f",
             "gridcolor": "white",
             "linecolor": "white",
             "minorgridcolor": "white",
             "startlinecolor": "#2a3f5f"
            },
            "baxis": {
             "endlinecolor": "#2a3f5f",
             "gridcolor": "white",
             "linecolor": "white",
             "minorgridcolor": "white",
             "startlinecolor": "#2a3f5f"
            },
            "type": "carpet"
           }
          ],
          "choropleth": [
           {
            "colorbar": {
             "outlinewidth": 0,
             "ticks": ""
            },
            "type": "choropleth"
           }
          ],
          "contour": [
           {
            "colorbar": {
             "outlinewidth": 0,
             "ticks": ""
            },
            "colorscale": [
             [
              0,
              "#0d0887"
             ],
             [
              0.1111111111111111,
              "#46039f"
             ],
             [
              0.2222222222222222,
              "#7201a8"
             ],
             [
              0.3333333333333333,
              "#9c179e"
             ],
             [
              0.4444444444444444,
              "#bd3786"
             ],
             [
              0.5555555555555556,
              "#d8576b"
             ],
             [
              0.6666666666666666,
              "#ed7953"
             ],
             [
              0.7777777777777778,
              "#fb9f3a"
             ],
             [
              0.8888888888888888,
              "#fdca26"
             ],
             [
              1,
              "#f0f921"
             ]
            ],
            "type": "contour"
           }
          ],
          "contourcarpet": [
           {
            "colorbar": {
             "outlinewidth": 0,
             "ticks": ""
            },
            "type": "contourcarpet"
           }
          ],
          "heatmap": [
           {
            "colorbar": {
             "outlinewidth": 0,
             "ticks": ""
            },
            "colorscale": [
             [
              0,
              "#0d0887"
             ],
             [
              0.1111111111111111,
              "#46039f"
             ],
             [
              0.2222222222222222,
              "#7201a8"
             ],
             [
              0.3333333333333333,
              "#9c179e"
             ],
             [
              0.4444444444444444,
              "#bd3786"
             ],
             [
              0.5555555555555556,
              "#d8576b"
             ],
             [
              0.6666666666666666,
              "#ed7953"
             ],
             [
              0.7777777777777778,
              "#fb9f3a"
             ],
             [
              0.8888888888888888,
              "#fdca26"
             ],
             [
              1,
              "#f0f921"
             ]
            ],
            "type": "heatmap"
           }
          ],
          "heatmapgl": [
           {
            "colorbar": {
             "outlinewidth": 0,
             "ticks": ""
            },
            "colorscale": [
             [
              0,
              "#0d0887"
             ],
             [
              0.1111111111111111,
              "#46039f"
             ],
             [
              0.2222222222222222,
              "#7201a8"
             ],
             [
              0.3333333333333333,
              "#9c179e"
             ],
             [
              0.4444444444444444,
              "#bd3786"
             ],
             [
              0.5555555555555556,
              "#d8576b"
             ],
             [
              0.6666666666666666,
              "#ed7953"
             ],
             [
              0.7777777777777778,
              "#fb9f3a"
             ],
             [
              0.8888888888888888,
              "#fdca26"
             ],
             [
              1,
              "#f0f921"
             ]
            ],
            "type": "heatmapgl"
           }
          ],
          "histogram": [
           {
            "marker": {
             "pattern": {
              "fillmode": "overlay",
              "size": 10,
              "solidity": 0.2
             }
            },
            "type": "histogram"
           }
          ],
          "histogram2d": [
           {
            "colorbar": {
             "outlinewidth": 0,
             "ticks": ""
            },
            "colorscale": [
             [
              0,
              "#0d0887"
             ],
             [
              0.1111111111111111,
              "#46039f"
             ],
             [
              0.2222222222222222,
              "#7201a8"
             ],
             [
              0.3333333333333333,
              "#9c179e"
             ],
             [
              0.4444444444444444,
              "#bd3786"
             ],
             [
              0.5555555555555556,
              "#d8576b"
             ],
             [
              0.6666666666666666,
              "#ed7953"
             ],
             [
              0.7777777777777778,
              "#fb9f3a"
             ],
             [
              0.8888888888888888,
              "#fdca26"
             ],
             [
              1,
              "#f0f921"
             ]
            ],
            "type": "histogram2d"
           }
          ],
          "histogram2dcontour": [
           {
            "colorbar": {
             "outlinewidth": 0,
             "ticks": ""
            },
            "colorscale": [
             [
              0,
              "#0d0887"
             ],
             [
              0.1111111111111111,
              "#46039f"
             ],
             [
              0.2222222222222222,
              "#7201a8"
             ],
             [
              0.3333333333333333,
              "#9c179e"
             ],
             [
              0.4444444444444444,
              "#bd3786"
             ],
             [
              0.5555555555555556,
              "#d8576b"
             ],
             [
              0.6666666666666666,
              "#ed7953"
             ],
             [
              0.7777777777777778,
              "#fb9f3a"
             ],
             [
              0.8888888888888888,
              "#fdca26"
             ],
             [
              1,
              "#f0f921"
             ]
            ],
            "type": "histogram2dcontour"
           }
          ],
          "mesh3d": [
           {
            "colorbar": {
             "outlinewidth": 0,
             "ticks": ""
            },
            "type": "mesh3d"
           }
          ],
          "parcoords": [
           {
            "line": {
             "colorbar": {
              "outlinewidth": 0,
              "ticks": ""
             }
            },
            "type": "parcoords"
           }
          ],
          "pie": [
           {
            "automargin": true,
            "type": "pie"
           }
          ],
          "scatter": [
           {
            "marker": {
             "colorbar": {
              "outlinewidth": 0,
              "ticks": ""
             }
            },
            "type": "scatter"
           }
          ],
          "scatter3d": [
           {
            "line": {
             "colorbar": {
              "outlinewidth": 0,
              "ticks": ""
             }
            },
            "marker": {
             "colorbar": {
              "outlinewidth": 0,
              "ticks": ""
             }
            },
            "type": "scatter3d"
           }
          ],
          "scattercarpet": [
           {
            "marker": {
             "colorbar": {
              "outlinewidth": 0,
              "ticks": ""
             }
            },
            "type": "scattercarpet"
           }
          ],
          "scattergeo": [
           {
            "marker": {
             "colorbar": {
              "outlinewidth": 0,
              "ticks": ""
             }
            },
            "type": "scattergeo"
           }
          ],
          "scattergl": [
           {
            "marker": {
             "colorbar": {
              "outlinewidth": 0,
              "ticks": ""
             }
            },
            "type": "scattergl"
           }
          ],
          "scattermapbox": [
           {
            "marker": {
             "colorbar": {
              "outlinewidth": 0,
              "ticks": ""
             }
            },
            "type": "scattermapbox"
           }
          ],
          "scatterpolar": [
           {
            "marker": {
             "colorbar": {
              "outlinewidth": 0,
              "ticks": ""
             }
            },
            "type": "scatterpolar"
           }
          ],
          "scatterpolargl": [
           {
            "marker": {
             "colorbar": {
              "outlinewidth": 0,
              "ticks": ""
             }
            },
            "type": "scatterpolargl"
           }
          ],
          "scatterternary": [
           {
            "marker": {
             "colorbar": {
              "outlinewidth": 0,
              "ticks": ""
             }
            },
            "type": "scatterternary"
           }
          ],
          "surface": [
           {
            "colorbar": {
             "outlinewidth": 0,
             "ticks": ""
            },
            "colorscale": [
             [
              0,
              "#0d0887"
             ],
             [
              0.1111111111111111,
              "#46039f"
             ],
             [
              0.2222222222222222,
              "#7201a8"
             ],
             [
              0.3333333333333333,
              "#9c179e"
             ],
             [
              0.4444444444444444,
              "#bd3786"
             ],
             [
              0.5555555555555556,
              "#d8576b"
             ],
             [
              0.6666666666666666,
              "#ed7953"
             ],
             [
              0.7777777777777778,
              "#fb9f3a"
             ],
             [
              0.8888888888888888,
              "#fdca26"
             ],
             [
              1,
              "#f0f921"
             ]
            ],
            "type": "surface"
           }
          ],
          "table": [
           {
            "cells": {
             "fill": {
              "color": "#EBF0F8"
             },
             "line": {
              "color": "white"
             }
            },
            "header": {
             "fill": {
              "color": "#C8D4E3"
             },
             "line": {
              "color": "white"
             }
            },
            "type": "table"
           }
          ]
         },
         "layout": {
          "annotationdefaults": {
           "arrowcolor": "#2a3f5f",
           "arrowhead": 0,
           "arrowwidth": 1
          },
          "autotypenumbers": "strict",
          "coloraxis": {
           "colorbar": {
            "outlinewidth": 0,
            "ticks": ""
           }
          },
          "colorscale": {
           "diverging": [
            [
             0,
             "#8e0152"
            ],
            [
             0.1,
             "#c51b7d"
            ],
            [
             0.2,
             "#de77ae"
            ],
            [
             0.3,
             "#f1b6da"
            ],
            [
             0.4,
             "#fde0ef"
            ],
            [
             0.5,
             "#f7f7f7"
            ],
            [
             0.6,
             "#e6f5d0"
            ],
            [
             0.7,
             "#b8e186"
            ],
            [
             0.8,
             "#7fbc41"
            ],
            [
             0.9,
             "#4d9221"
            ],
            [
             1,
             "#276419"
            ]
           ],
           "sequential": [
            [
             0,
             "#0d0887"
            ],
            [
             0.1111111111111111,
             "#46039f"
            ],
            [
             0.2222222222222222,
             "#7201a8"
            ],
            [
             0.3333333333333333,
             "#9c179e"
            ],
            [
             0.4444444444444444,
             "#bd3786"
            ],
            [
             0.5555555555555556,
             "#d8576b"
            ],
            [
             0.6666666666666666,
             "#ed7953"
            ],
            [
             0.7777777777777778,
             "#fb9f3a"
            ],
            [
             0.8888888888888888,
             "#fdca26"
            ],
            [
             1,
             "#f0f921"
            ]
           ],
           "sequentialminus": [
            [
             0,
             "#0d0887"
            ],
            [
             0.1111111111111111,
             "#46039f"
            ],
            [
             0.2222222222222222,
             "#7201a8"
            ],
            [
             0.3333333333333333,
             "#9c179e"
            ],
            [
             0.4444444444444444,
             "#bd3786"
            ],
            [
             0.5555555555555556,
             "#d8576b"
            ],
            [
             0.6666666666666666,
             "#ed7953"
            ],
            [
             0.7777777777777778,
             "#fb9f3a"
            ],
            [
             0.8888888888888888,
             "#fdca26"
            ],
            [
             1,
             "#f0f921"
            ]
           ]
          },
          "colorway": [
           "#636efa",
           "#EF553B",
           "#00cc96",
           "#ab63fa",
           "#FFA15A",
           "#19d3f3",
           "#FF6692",
           "#B6E880",
           "#FF97FF",
           "#FECB52"
          ],
          "font": {
           "color": "#2a3f5f"
          },
          "geo": {
           "bgcolor": "white",
           "lakecolor": "white",
           "landcolor": "#E5ECF6",
           "showlakes": true,
           "showland": true,
           "subunitcolor": "white"
          },
          "hoverlabel": {
           "align": "left"
          },
          "hovermode": "closest",
          "mapbox": {
           "style": "light"
          },
          "paper_bgcolor": "white",
          "plot_bgcolor": "#E5ECF6",
          "polar": {
           "angularaxis": {
            "gridcolor": "white",
            "linecolor": "white",
            "ticks": ""
           },
           "bgcolor": "#E5ECF6",
           "radialaxis": {
            "gridcolor": "white",
            "linecolor": "white",
            "ticks": ""
           }
          },
          "scene": {
           "xaxis": {
            "backgroundcolor": "#E5ECF6",
            "gridcolor": "white",
            "gridwidth": 2,
            "linecolor": "white",
            "showbackground": true,
            "ticks": "",
            "zerolinecolor": "white"
           },
           "yaxis": {
            "backgroundcolor": "#E5ECF6",
            "gridcolor": "white",
            "gridwidth": 2,
            "linecolor": "white",
            "showbackground": true,
            "ticks": "",
            "zerolinecolor": "white"
           },
           "zaxis": {
            "backgroundcolor": "#E5ECF6",
            "gridcolor": "white",
            "gridwidth": 2,
            "linecolor": "white",
            "showbackground": true,
            "ticks": "",
            "zerolinecolor": "white"
           }
          },
          "shapedefaults": {
           "line": {
            "color": "#2a3f5f"
           }
          },
          "ternary": {
           "aaxis": {
            "gridcolor": "white",
            "linecolor": "white",
            "ticks": ""
           },
           "baxis": {
            "gridcolor": "white",
            "linecolor": "white",
            "ticks": ""
           },
           "bgcolor": "#E5ECF6",
           "caxis": {
            "gridcolor": "white",
            "linecolor": "white",
            "ticks": ""
           }
          },
          "title": {
           "x": 0.05
          },
          "xaxis": {
           "automargin": true,
           "gridcolor": "white",
           "linecolor": "white",
           "ticks": "",
           "title": {
            "standoff": 15
           },
           "zerolinecolor": "white",
           "zerolinewidth": 2
          },
          "yaxis": {
           "automargin": true,
           "gridcolor": "white",
           "linecolor": "white",
           "ticks": "",
           "title": {
            "standoff": 15
           },
           "zerolinecolor": "white",
           "zerolinewidth": 2
          }
         }
        }
       }
      }
     },
     "metadata": {},
     "output_type": "display_data"
    }
   ],
   "source": [
    "s = 888 #0\n",
    "e = 998 #200\n",
    "dfpl = df[s:e]\n",
    "import plotly.graph_objects as go\n",
    "from datetime import datetime\n",
    "import matplotlib.pyplot as plt\n",
    "\n",
    "fig = go.Figure(data=[go.Candlestick(x=dfpl.index,\n",
    "                open=dfpl['Open'],\n",
    "                high=dfpl['High'],\n",
    "                low=dfpl['Low'],\n",
    "                close=dfpl['Close'])])\n",
    "\n",
    "c=0\n",
    "while (1):\n",
    "    if(c>len(sr)-1 ):#or sr[c][0]>e\n",
    "        break\n",
    "    fig.add_shape(type='line', x0=s, y0=sr[c][1],\n",
    "                  x1=e,\n",
    "                  y1=sr[c][1]\n",
    "                  )#x0=sr[c][0]-5 x1=sr[c][0]+5\n",
    "    c+=1\n",
    "fig.show()"
   ]
  },
  {
   "cell_type": "code",
   "execution_count": 49,
   "metadata": {},
   "outputs": [
    {
     "data": {
      "text/plain": [
       "[2.96, 3.159, 3.656, 6.506, 7.249]"
      ]
     },
     "execution_count": 49,
     "metadata": {},
     "output_type": "execute_result"
    }
   ],
   "source": [
    "plotlist1 = [x[1] for x in sr if x[2]==1]\n",
    "plotlist2 = [x[1] for x in sr if x[2]==2]\n",
    "plotlist1.sort()\n",
    "plotlist2.sort()\n",
    "\n",
    "for i in range(1,len(plotlist1)):\n",
    "    if(i>=len(plotlist1)):\n",
    "        break\n",
    "    if abs(plotlist1[i]-plotlist1[i-1])<=0.005:\n",
    "        plotlist1.pop(i)\n",
    "\n",
    "for i in range(1,len(plotlist2)):\n",
    "    if(i>=len(plotlist2)):\n",
    "        break\n",
    "    if abs(plotlist2[i]-plotlist2[i-1])<=0.005:\n",
    "        plotlist2.pop(i)\n",
    "plotlist2\n",
    "#plt.hist(plotlist, bins=10, alpha=0.5)"
   ]
  },
  {
   "cell_type": "code",
   "execution_count": 50,
   "metadata": {},
   "outputs": [
    {
     "data": {
      "application/vnd.plotly.v1+json": {
       "config": {
        "plotlyServerURL": "https://plot.ly"
       },
       "data": [
        {
         "close": [
          3.902,
          3.75,
          3.897,
          4,
          4.547,
          4.278,
          4.413,
          4.684,
          4.852,
          4.673,
          4.743,
          4.306,
          4.337,
          4.454,
          4.385,
          4.481,
          4.655,
          4.778,
          4.696,
          5.926,
          5.782,
          5.771,
          6.388,
          6.506,
          5.93,
          6.14,
          5.987,
          6.279,
          6.096,
          5.826,
          6.081,
          5.943,
          6.124,
          6.266,
          6.222,
          6.167,
          6.692,
          7.009,
          6.571,
          6.628,
          6.478,
          6.523,
          6.758,
          6.838,
          6.665,
          6.581,
          6.35,
          5.558,
          5.928,
          6.058,
          5.443,
          5.475,
          5.337,
          5.574,
          5.478,
          5.353,
          5.288,
          5.398,
          5.175,
          4.984,
          4.483,
          4.354,
          4.526,
          4.268,
          3.805,
          4.132,
          3.649,
          3.825,
          4.085,
          3.928,
          4.044,
          4.218,
          3.991,
          3.719,
          3.892,
          3.789,
          3.888,
          3.617,
          3.612,
          3.593,
          3.594,
          3.649,
          3.538,
          3.647,
          3.69,
          3.592,
          3.767,
          3.57,
          3.498,
          3.271,
          3.146,
          3.349,
          3.552,
          3.341,
          3.258,
          2.861,
          2.898,
          2.882,
          2.91,
          2.971,
          2.892,
          2.866,
          2.667,
          2.715,
          2.715,
          2.694,
          2.617,
          2.616,
          2.567,
          2.322,
          2.161,
          2.153,
          2.017,
          2.129,
          2.122,
          2.156,
          2.037,
          1.944,
          2.035,
          2.16,
          2.727,
          2.736,
          2.584,
          2.565,
          3.069,
          3.171,
          3.103,
          3.433,
          3.329,
          3.29,
          3.289,
          3.128,
          3.191,
          3.065,
          2.911,
          2.565,
          2.22,
          2.281,
          2.214,
          2.276,
          2.271,
          2.195,
          2.653,
          2.533,
          2.601,
          2.585,
          2.568,
          2.767,
          2.642,
          2.891,
          2.892,
          2.903,
          2.889,
          2.809,
          2.822,
          2.865,
          3.091,
          2.938,
          2.842,
          2.907,
          2.747,
          2.735,
          2.902,
          2.98,
          2.864,
          2.69,
          2.818,
          3.048,
          3.078,
          3.196,
          3.1,
          3.151,
          3.016,
          3.263,
          3.257,
          3.419,
          3.383,
          3.613,
          3.756,
          3.835,
          3.88,
          3.806,
          3.965,
          4.192,
          4.353,
          4.228,
          3.986,
          4.006,
          3.926,
          3.964,
          3.895,
          3.606,
          3.519,
          3.334,
          3.189,
          2.941,
          3.219,
          3.083,
          3.39,
          3.473
         ],
         "high": [
          4.175,
          4.04,
          4.173,
          4.087,
          4.8,
          4.78,
          4.792,
          5,
          5.171,
          4.863,
          4.864,
          4.821,
          4.363,
          4.77,
          4.6,
          4.543,
          4.699,
          4.863,
          4.873,
          6.603,
          5.93,
          6.325,
          6.42,
          7.249,
          6.85,
          6.28,
          6.147,
          6.576,
          6.316,
          6.185,
          6.088,
          6.176,
          6.264,
          6.506,
          6.281,
          6.265,
          6.737,
          7.1,
          7.04,
          6.849,
          6.637,
          6.589,
          6.914,
          7.193,
          6.846,
          6.747,
          6.849,
          6.416,
          5.97,
          6.198,
          6.117,
          5.72,
          5.666,
          5.62,
          5.766,
          5.501,
          5.49,
          5.413,
          5.435,
          5.196,
          4.985,
          4.652,
          4.607,
          4.534,
          4.281,
          4.471,
          4.255,
          4.037,
          4.18,
          4.158,
          4.18,
          4.315,
          4.345,
          3.986,
          4.077,
          4.034,
          3.917,
          3.999,
          3.673,
          3.69,
          3.658,
          3.748,
          3.661,
          3.909,
          3.766,
          3.763,
          3.868,
          3.783,
          3.688,
          3.506,
          3.321,
          3.382,
          3.552,
          3.656,
          3.349,
          3.297,
          3,
          3.024,
          2.91,
          2.984,
          2.972,
          2.925,
          2.876,
          2.747,
          2.77,
          2.726,
          2.738,
          2.701,
          2.642,
          2.617,
          2.333,
          2.23,
          2.161,
          2.239,
          2.174,
          2.222,
          2.149,
          2.041,
          2.249,
          2.284,
          2.943,
          2.96,
          2.95,
          2.708,
          3.209,
          3.301,
          3.24,
          3.565,
          3.564,
          3.45,
          3.4,
          3.291,
          3.254,
          3.294,
          3.072,
          2.91,
          2.664,
          2.422,
          2.348,
          2.294,
          2.303,
          2.286,
          2.676,
          2.661,
          2.633,
          2.675,
          2.616,
          2.81,
          2.789,
          2.955,
          3.071,
          3.014,
          3,
          2.923,
          2.859,
          2.914,
          3.121,
          3.159,
          2.951,
          2.948,
          2.926,
          2.799,
          2.932,
          3.007,
          3.014,
          2.895,
          2.985,
          3.127,
          3.264,
          3.3,
          3.337,
          3.197,
          3.2,
          3.32,
          3.295,
          3.462,
          3.445,
          3.65,
          3.824,
          3.894,
          3.887,
          4.055,
          3.981,
          4.279,
          4.381,
          4.354,
          4.24,
          4.007,
          4.14,
          3.975,
          3.977,
          3.896,
          3.616,
          3.59,
          3.432,
          3.3,
          3.238,
          3.277,
          3.537,
          3.669
         ],
         "low": [
          3.7,
          3.604,
          3.734,
          3.779,
          3.986,
          4,
          3.95,
          4.33,
          4.636,
          4.432,
          4.48,
          4.3,
          4.115,
          4.258,
          4.287,
          4.238,
          4.47,
          4.474,
          4.5,
          4.668,
          5.211,
          5.6,
          5.572,
          5.975,
          5.744,
          5.62,
          5.621,
          5.877,
          5.938,
          5.7,
          5.733,
          5.753,
          5.852,
          6.023,
          5.874,
          6.102,
          6.118,
          6.454,
          6.47,
          6.55,
          6.285,
          6.334,
          6.414,
          6.716,
          6.542,
          6.474,
          6.151,
          5.36,
          5.464,
          5.626,
          5.395,
          5.143,
          5.123,
          5.288,
          5.465,
          5.33,
          5.235,
          5.2,
          5.1,
          4.87,
          4.175,
          4.053,
          4.264,
          4.125,
          3.8,
          3.561,
          3.475,
          3.556,
          3.675,
          3.797,
          3.913,
          3.982,
          3.886,
          3.684,
          3.616,
          3.781,
          3.7,
          3.55,
          3.489,
          3.529,
          3.5,
          3.58,
          3.424,
          3.501,
          3.623,
          3.578,
          3.592,
          3.518,
          3.468,
          2.989,
          3.076,
          3.143,
          3.271,
          3.331,
          3.149,
          2.848,
          2.804,
          2.808,
          2.828,
          2.862,
          2.752,
          2.753,
          2.587,
          2.569,
          2.648,
          2.601,
          2.609,
          2.586,
          2.5,
          2.313,
          2.137,
          2.086,
          1.978,
          2.002,
          2.06,
          2.12,
          2.005,
          1.83,
          1.944,
          2.027,
          2.152,
          2.429,
          2.497,
          2.396,
          2.498,
          2.985,
          2.979,
          3.096,
          3.147,
          3.188,
          3.233,
          2.917,
          3.048,
          3.015,
          2.75,
          2.565,
          1.93,
          2.122,
          2.046,
          2.142,
          2.172,
          2.087,
          2.164,
          2.48,
          2.412,
          2.483,
          2.452,
          2.539,
          2.568,
          2.533,
          2.81,
          2.812,
          2.682,
          2.72,
          2.763,
          2.784,
          2.867,
          2.887,
          2.678,
          2.738,
          2.685,
          2.692,
          2.681,
          2.831,
          2.845,
          2.547,
          2.625,
          2.765,
          2.979,
          2.96,
          3.067,
          3.05,
          2.95,
          3.008,
          3.165,
          3.243,
          3.285,
          3.328,
          3.499,
          3.7,
          3.639,
          3.65,
          3.793,
          3.883,
          4.05,
          4.011,
          3.94,
          3.777,
          3.8,
          3.825,
          3.8,
          3.511,
          3.335,
          3.286,
          3.1,
          2.608,
          2.855,
          2.98,
          2.983,
          3.37
         ],
         "open": [
          3.804,
          3.904,
          3.75,
          3.897,
          4,
          4.546,
          4.268,
          4.413,
          4.684,
          4.852,
          4.668,
          4.74,
          4.309,
          4.335,
          4.447,
          4.385,
          4.478,
          4.665,
          4.794,
          4.682,
          5.928,
          5.782,
          5.773,
          6.393,
          6.506,
          5.931,
          6.141,
          5.995,
          6.279,
          6.097,
          5.825,
          6.076,
          5.949,
          6.125,
          6.264,
          6.224,
          6.164,
          6.689,
          7.011,
          6.586,
          6.621,
          6.476,
          6.513,
          6.764,
          6.83,
          6.675,
          6.579,
          6.35,
          5.552,
          5.928,
          6.047,
          5.443,
          5.493,
          5.341,
          5.584,
          5.478,
          5.368,
          5.299,
          5.399,
          5.185,
          4.984,
          4.48,
          4.349,
          4.527,
          4.271,
          3.82,
          4.131,
          3.654,
          3.824,
          4.078,
          3.938,
          4.044,
          4.22,
          3.984,
          3.711,
          3.892,
          3.79,
          3.888,
          3.614,
          3.613,
          3.594,
          3.59,
          3.649,
          3.535,
          3.652,
          3.693,
          3.592,
          3.773,
          3.572,
          3.494,
          3.27,
          3.147,
          3.343,
          3.554,
          3.341,
          3.253,
          2.865,
          2.895,
          2.89,
          2.91,
          2.972,
          2.891,
          2.876,
          2.672,
          2.712,
          2.711,
          2.694,
          2.62,
          2.622,
          2.568,
          2.326,
          2.16,
          2.152,
          2.018,
          2.123,
          2.122,
          2.149,
          2.041,
          1.944,
          2.032,
          2.162,
          2.722,
          2.735,
          2.581,
          2.575,
          3.078,
          3.171,
          3.103,
          3.43,
          3.329,
          3.288,
          3.289,
          3.128,
          3.19,
          3.071,
          2.901,
          2.565,
          2.215,
          2.282,
          2.214,
          2.281,
          2.273,
          2.195,
          2.653,
          2.533,
          2.604,
          2.583,
          2.565,
          2.771,
          2.636,
          2.894,
          2.889,
          2.902,
          2.891,
          2.815,
          2.822,
          2.87,
          3.086,
          2.928,
          2.831,
          2.917,
          2.748,
          2.745,
          2.902,
          2.974,
          2.867,
          2.682,
          2.819,
          3.045,
          3.088,
          3.196,
          3.111,
          3.149,
          3.016,
          3.263,
          3.264,
          3.419,
          3.378,
          3.614,
          3.757,
          3.836,
          3.877,
          3.81,
          3.959,
          4.189,
          4.354,
          4.23,
          3.977,
          4.006,
          3.926,
          3.967,
          3.888,
          3.606,
          3.519,
          3.334,
          3.196,
          2.94,
          3.219,
          3.094,
          3.39
         ],
         "type": "candlestick",
         "x": [
          0,
          1,
          2,
          3,
          4,
          5,
          6,
          7,
          8,
          9,
          10,
          11,
          12,
          13,
          14,
          15,
          16,
          17,
          18,
          19,
          20,
          21,
          22,
          23,
          24,
          25,
          26,
          27,
          28,
          29,
          30,
          31,
          32,
          33,
          34,
          35,
          36,
          37,
          38,
          39,
          40,
          41,
          42,
          43,
          44,
          45,
          46,
          47,
          48,
          49,
          50,
          51,
          52,
          53,
          54,
          55,
          56,
          57,
          58,
          59,
          60,
          61,
          62,
          63,
          64,
          65,
          66,
          67,
          68,
          69,
          70,
          71,
          72,
          73,
          74,
          75,
          76,
          77,
          78,
          79,
          80,
          81,
          82,
          83,
          84,
          85,
          86,
          87,
          88,
          89,
          90,
          91,
          92,
          93,
          94,
          95,
          96,
          97,
          98,
          99,
          100,
          101,
          102,
          103,
          104,
          105,
          106,
          107,
          108,
          109,
          110,
          111,
          112,
          113,
          114,
          115,
          116,
          117,
          118,
          119,
          120,
          121,
          122,
          123,
          124,
          125,
          126,
          127,
          128,
          129,
          130,
          131,
          132,
          133,
          134,
          135,
          136,
          137,
          138,
          139,
          140,
          141,
          142,
          143,
          144,
          145,
          146,
          147,
          148,
          149,
          150,
          151,
          152,
          153,
          154,
          155,
          156,
          157,
          158,
          159,
          160,
          161,
          162,
          163,
          164,
          165,
          166,
          167,
          168,
          169,
          170,
          171,
          172,
          173,
          174,
          175,
          176,
          177,
          178,
          179,
          180,
          181,
          182,
          183,
          184,
          185,
          186,
          187,
          188,
          189,
          190,
          191,
          192,
          193,
          194,
          195,
          196,
          197,
          198,
          199
         ]
        }
       ],
       "layout": {
        "shapes": [
         {
          "line": {
           "color": "MediumPurple",
           "width": 3
          },
          "type": "line",
          "x0": 0,
          "x1": 200,
          "y0": 1.978,
          "y1": 1.978
         },
         {
          "line": {
           "color": "MediumPurple",
           "width": 3
          },
          "type": "line",
          "x0": 0,
          "x1": 200,
          "y0": 2.608,
          "y1": 2.608
         },
         {
          "line": {
           "color": "MediumPurple",
           "width": 3
          },
          "type": "line",
          "x0": 0,
          "x1": 200,
          "y0": 2.804,
          "y1": 2.804
         },
         {
          "line": {
           "color": "MediumPurple",
           "width": 3
          },
          "type": "line",
          "x0": 0,
          "x1": 200,
          "y0": 2.989,
          "y1": 2.989
         },
         {
          "line": {
           "color": "MediumPurple",
           "width": 3
          },
          "type": "line",
          "x0": 0,
          "x1": 200,
          "y0": 3.475,
          "y1": 3.475
         },
         {
          "line": {
           "color": "MediumPurple",
           "width": 3
          },
          "type": "line",
          "x0": 0,
          "x1": 200,
          "y0": 3.777,
          "y1": 3.777
         },
         {
          "line": {
           "color": "MediumPurple",
           "width": 3
          },
          "type": "line",
          "x0": 0,
          "x1": 200,
          "y0": 5.123,
          "y1": 5.123
         },
         {
          "line": {
           "color": "MediumPurple",
           "width": 3
          },
          "type": "line",
          "x0": 0,
          "x1": 200,
          "y0": 5.36,
          "y1": 5.36
         },
         {
          "line": {
           "color": "RoyalBlue",
           "width": 1
          },
          "type": "line",
          "x0": 0,
          "x1": 200,
          "y0": 2.96,
          "y1": 2.96
         },
         {
          "line": {
           "color": "RoyalBlue",
           "width": 1
          },
          "type": "line",
          "x0": 0,
          "x1": 200,
          "y0": 3.159,
          "y1": 3.159
         },
         {
          "line": {
           "color": "RoyalBlue",
           "width": 1
          },
          "type": "line",
          "x0": 0,
          "x1": 200,
          "y0": 3.656,
          "y1": 3.656
         },
         {
          "line": {
           "color": "RoyalBlue",
           "width": 1
          },
          "type": "line",
          "x0": 0,
          "x1": 200,
          "y0": 6.506,
          "y1": 6.506
         },
         {
          "line": {
           "color": "RoyalBlue",
           "width": 1
          },
          "type": "line",
          "x0": 0,
          "x1": 200,
          "y0": 7.249,
          "y1": 7.249
         }
        ],
        "template": {
         "data": {
          "bar": [
           {
            "error_x": {
             "color": "#2a3f5f"
            },
            "error_y": {
             "color": "#2a3f5f"
            },
            "marker": {
             "line": {
              "color": "#E5ECF6",
              "width": 0.5
             },
             "pattern": {
              "fillmode": "overlay",
              "size": 10,
              "solidity": 0.2
             }
            },
            "type": "bar"
           }
          ],
          "barpolar": [
           {
            "marker": {
             "line": {
              "color": "#E5ECF6",
              "width": 0.5
             },
             "pattern": {
              "fillmode": "overlay",
              "size": 10,
              "solidity": 0.2
             }
            },
            "type": "barpolar"
           }
          ],
          "carpet": [
           {
            "aaxis": {
             "endlinecolor": "#2a3f5f",
             "gridcolor": "white",
             "linecolor": "white",
             "minorgridcolor": "white",
             "startlinecolor": "#2a3f5f"
            },
            "baxis": {
             "endlinecolor": "#2a3f5f",
             "gridcolor": "white",
             "linecolor": "white",
             "minorgridcolor": "white",
             "startlinecolor": "#2a3f5f"
            },
            "type": "carpet"
           }
          ],
          "choropleth": [
           {
            "colorbar": {
             "outlinewidth": 0,
             "ticks": ""
            },
            "type": "choropleth"
           }
          ],
          "contour": [
           {
            "colorbar": {
             "outlinewidth": 0,
             "ticks": ""
            },
            "colorscale": [
             [
              0,
              "#0d0887"
             ],
             [
              0.1111111111111111,
              "#46039f"
             ],
             [
              0.2222222222222222,
              "#7201a8"
             ],
             [
              0.3333333333333333,
              "#9c179e"
             ],
             [
              0.4444444444444444,
              "#bd3786"
             ],
             [
              0.5555555555555556,
              "#d8576b"
             ],
             [
              0.6666666666666666,
              "#ed7953"
             ],
             [
              0.7777777777777778,
              "#fb9f3a"
             ],
             [
              0.8888888888888888,
              "#fdca26"
             ],
             [
              1,
              "#f0f921"
             ]
            ],
            "type": "contour"
           }
          ],
          "contourcarpet": [
           {
            "colorbar": {
             "outlinewidth": 0,
             "ticks": ""
            },
            "type": "contourcarpet"
           }
          ],
          "heatmap": [
           {
            "colorbar": {
             "outlinewidth": 0,
             "ticks": ""
            },
            "colorscale": [
             [
              0,
              "#0d0887"
             ],
             [
              0.1111111111111111,
              "#46039f"
             ],
             [
              0.2222222222222222,
              "#7201a8"
             ],
             [
              0.3333333333333333,
              "#9c179e"
             ],
             [
              0.4444444444444444,
              "#bd3786"
             ],
             [
              0.5555555555555556,
              "#d8576b"
             ],
             [
              0.6666666666666666,
              "#ed7953"
             ],
             [
              0.7777777777777778,
              "#fb9f3a"
             ],
             [
              0.8888888888888888,
              "#fdca26"
             ],
             [
              1,
              "#f0f921"
             ]
            ],
            "type": "heatmap"
           }
          ],
          "heatmapgl": [
           {
            "colorbar": {
             "outlinewidth": 0,
             "ticks": ""
            },
            "colorscale": [
             [
              0,
              "#0d0887"
             ],
             [
              0.1111111111111111,
              "#46039f"
             ],
             [
              0.2222222222222222,
              "#7201a8"
             ],
             [
              0.3333333333333333,
              "#9c179e"
             ],
             [
              0.4444444444444444,
              "#bd3786"
             ],
             [
              0.5555555555555556,
              "#d8576b"
             ],
             [
              0.6666666666666666,
              "#ed7953"
             ],
             [
              0.7777777777777778,
              "#fb9f3a"
             ],
             [
              0.8888888888888888,
              "#fdca26"
             ],
             [
              1,
              "#f0f921"
             ]
            ],
            "type": "heatmapgl"
           }
          ],
          "histogram": [
           {
            "marker": {
             "pattern": {
              "fillmode": "overlay",
              "size": 10,
              "solidity": 0.2
             }
            },
            "type": "histogram"
           }
          ],
          "histogram2d": [
           {
            "colorbar": {
             "outlinewidth": 0,
             "ticks": ""
            },
            "colorscale": [
             [
              0,
              "#0d0887"
             ],
             [
              0.1111111111111111,
              "#46039f"
             ],
             [
              0.2222222222222222,
              "#7201a8"
             ],
             [
              0.3333333333333333,
              "#9c179e"
             ],
             [
              0.4444444444444444,
              "#bd3786"
             ],
             [
              0.5555555555555556,
              "#d8576b"
             ],
             [
              0.6666666666666666,
              "#ed7953"
             ],
             [
              0.7777777777777778,
              "#fb9f3a"
             ],
             [
              0.8888888888888888,
              "#fdca26"
             ],
             [
              1,
              "#f0f921"
             ]
            ],
            "type": "histogram2d"
           }
          ],
          "histogram2dcontour": [
           {
            "colorbar": {
             "outlinewidth": 0,
             "ticks": ""
            },
            "colorscale": [
             [
              0,
              "#0d0887"
             ],
             [
              0.1111111111111111,
              "#46039f"
             ],
             [
              0.2222222222222222,
              "#7201a8"
             ],
             [
              0.3333333333333333,
              "#9c179e"
             ],
             [
              0.4444444444444444,
              "#bd3786"
             ],
             [
              0.5555555555555556,
              "#d8576b"
             ],
             [
              0.6666666666666666,
              "#ed7953"
             ],
             [
              0.7777777777777778,
              "#fb9f3a"
             ],
             [
              0.8888888888888888,
              "#fdca26"
             ],
             [
              1,
              "#f0f921"
             ]
            ],
            "type": "histogram2dcontour"
           }
          ],
          "mesh3d": [
           {
            "colorbar": {
             "outlinewidth": 0,
             "ticks": ""
            },
            "type": "mesh3d"
           }
          ],
          "parcoords": [
           {
            "line": {
             "colorbar": {
              "outlinewidth": 0,
              "ticks": ""
             }
            },
            "type": "parcoords"
           }
          ],
          "pie": [
           {
            "automargin": true,
            "type": "pie"
           }
          ],
          "scatter": [
           {
            "marker": {
             "colorbar": {
              "outlinewidth": 0,
              "ticks": ""
             }
            },
            "type": "scatter"
           }
          ],
          "scatter3d": [
           {
            "line": {
             "colorbar": {
              "outlinewidth": 0,
              "ticks": ""
             }
            },
            "marker": {
             "colorbar": {
              "outlinewidth": 0,
              "ticks": ""
             }
            },
            "type": "scatter3d"
           }
          ],
          "scattercarpet": [
           {
            "marker": {
             "colorbar": {
              "outlinewidth": 0,
              "ticks": ""
             }
            },
            "type": "scattercarpet"
           }
          ],
          "scattergeo": [
           {
            "marker": {
             "colorbar": {
              "outlinewidth": 0,
              "ticks": ""
             }
            },
            "type": "scattergeo"
           }
          ],
          "scattergl": [
           {
            "marker": {
             "colorbar": {
              "outlinewidth": 0,
              "ticks": ""
             }
            },
            "type": "scattergl"
           }
          ],
          "scattermapbox": [
           {
            "marker": {
             "colorbar": {
              "outlinewidth": 0,
              "ticks": ""
             }
            },
            "type": "scattermapbox"
           }
          ],
          "scatterpolar": [
           {
            "marker": {
             "colorbar": {
              "outlinewidth": 0,
              "ticks": ""
             }
            },
            "type": "scatterpolar"
           }
          ],
          "scatterpolargl": [
           {
            "marker": {
             "colorbar": {
              "outlinewidth": 0,
              "ticks": ""
             }
            },
            "type": "scatterpolargl"
           }
          ],
          "scatterternary": [
           {
            "marker": {
             "colorbar": {
              "outlinewidth": 0,
              "ticks": ""
             }
            },
            "type": "scatterternary"
           }
          ],
          "surface": [
           {
            "colorbar": {
             "outlinewidth": 0,
             "ticks": ""
            },
            "colorscale": [
             [
              0,
              "#0d0887"
             ],
             [
              0.1111111111111111,
              "#46039f"
             ],
             [
              0.2222222222222222,
              "#7201a8"
             ],
             [
              0.3333333333333333,
              "#9c179e"
             ],
             [
              0.4444444444444444,
              "#bd3786"
             ],
             [
              0.5555555555555556,
              "#d8576b"
             ],
             [
              0.6666666666666666,
              "#ed7953"
             ],
             [
              0.7777777777777778,
              "#fb9f3a"
             ],
             [
              0.8888888888888888,
              "#fdca26"
             ],
             [
              1,
              "#f0f921"
             ]
            ],
            "type": "surface"
           }
          ],
          "table": [
           {
            "cells": {
             "fill": {
              "color": "#EBF0F8"
             },
             "line": {
              "color": "white"
             }
            },
            "header": {
             "fill": {
              "color": "#C8D4E3"
             },
             "line": {
              "color": "white"
             }
            },
            "type": "table"
           }
          ]
         },
         "layout": {
          "annotationdefaults": {
           "arrowcolor": "#2a3f5f",
           "arrowhead": 0,
           "arrowwidth": 1
          },
          "autotypenumbers": "strict",
          "coloraxis": {
           "colorbar": {
            "outlinewidth": 0,
            "ticks": ""
           }
          },
          "colorscale": {
           "diverging": [
            [
             0,
             "#8e0152"
            ],
            [
             0.1,
             "#c51b7d"
            ],
            [
             0.2,
             "#de77ae"
            ],
            [
             0.3,
             "#f1b6da"
            ],
            [
             0.4,
             "#fde0ef"
            ],
            [
             0.5,
             "#f7f7f7"
            ],
            [
             0.6,
             "#e6f5d0"
            ],
            [
             0.7,
             "#b8e186"
            ],
            [
             0.8,
             "#7fbc41"
            ],
            [
             0.9,
             "#4d9221"
            ],
            [
             1,
             "#276419"
            ]
           ],
           "sequential": [
            [
             0,
             "#0d0887"
            ],
            [
             0.1111111111111111,
             "#46039f"
            ],
            [
             0.2222222222222222,
             "#7201a8"
            ],
            [
             0.3333333333333333,
             "#9c179e"
            ],
            [
             0.4444444444444444,
             "#bd3786"
            ],
            [
             0.5555555555555556,
             "#d8576b"
            ],
            [
             0.6666666666666666,
             "#ed7953"
            ],
            [
             0.7777777777777778,
             "#fb9f3a"
            ],
            [
             0.8888888888888888,
             "#fdca26"
            ],
            [
             1,
             "#f0f921"
            ]
           ],
           "sequentialminus": [
            [
             0,
             "#0d0887"
            ],
            [
             0.1111111111111111,
             "#46039f"
            ],
            [
             0.2222222222222222,
             "#7201a8"
            ],
            [
             0.3333333333333333,
             "#9c179e"
            ],
            [
             0.4444444444444444,
             "#bd3786"
            ],
            [
             0.5555555555555556,
             "#d8576b"
            ],
            [
             0.6666666666666666,
             "#ed7953"
            ],
            [
             0.7777777777777778,
             "#fb9f3a"
            ],
            [
             0.8888888888888888,
             "#fdca26"
            ],
            [
             1,
             "#f0f921"
            ]
           ]
          },
          "colorway": [
           "#636efa",
           "#EF553B",
           "#00cc96",
           "#ab63fa",
           "#FFA15A",
           "#19d3f3",
           "#FF6692",
           "#B6E880",
           "#FF97FF",
           "#FECB52"
          ],
          "font": {
           "color": "#2a3f5f"
          },
          "geo": {
           "bgcolor": "white",
           "lakecolor": "white",
           "landcolor": "#E5ECF6",
           "showlakes": true,
           "showland": true,
           "subunitcolor": "white"
          },
          "hoverlabel": {
           "align": "left"
          },
          "hovermode": "closest",
          "mapbox": {
           "style": "light"
          },
          "paper_bgcolor": "white",
          "plot_bgcolor": "#E5ECF6",
          "polar": {
           "angularaxis": {
            "gridcolor": "white",
            "linecolor": "white",
            "ticks": ""
           },
           "bgcolor": "#E5ECF6",
           "radialaxis": {
            "gridcolor": "white",
            "linecolor": "white",
            "ticks": ""
           }
          },
          "scene": {
           "xaxis": {
            "backgroundcolor": "#E5ECF6",
            "gridcolor": "white",
            "gridwidth": 2,
            "linecolor": "white",
            "showbackground": true,
            "ticks": "",
            "zerolinecolor": "white"
           },
           "yaxis": {
            "backgroundcolor": "#E5ECF6",
            "gridcolor": "white",
            "gridwidth": 2,
            "linecolor": "white",
            "showbackground": true,
            "ticks": "",
            "zerolinecolor": "white"
           },
           "zaxis": {
            "backgroundcolor": "#E5ECF6",
            "gridcolor": "white",
            "gridwidth": 2,
            "linecolor": "white",
            "showbackground": true,
            "ticks": "",
            "zerolinecolor": "white"
           }
          },
          "shapedefaults": {
           "line": {
            "color": "#2a3f5f"
           }
          },
          "ternary": {
           "aaxis": {
            "gridcolor": "white",
            "linecolor": "white",
            "ticks": ""
           },
           "baxis": {
            "gridcolor": "white",
            "linecolor": "white",
            "ticks": ""
           },
           "bgcolor": "#E5ECF6",
           "caxis": {
            "gridcolor": "white",
            "linecolor": "white",
            "ticks": ""
           }
          },
          "title": {
           "x": 0.05
          },
          "xaxis": {
           "automargin": true,
           "gridcolor": "white",
           "linecolor": "white",
           "ticks": "",
           "title": {
            "standoff": 15
           },
           "zerolinecolor": "white",
           "zerolinewidth": 2
          },
          "yaxis": {
           "automargin": true,
           "gridcolor": "white",
           "linecolor": "white",
           "ticks": "",
           "title": {
            "standoff": 15
           },
           "zerolinecolor": "white",
           "zerolinewidth": 2
          }
         }
        }
       }
      }
     },
     "metadata": {},
     "output_type": "display_data"
    }
   ],
   "source": [
    "s = 0\n",
    "e = 200\n",
    "dfpl = df[s:e]\n",
    "import plotly.graph_objects as go\n",
    "from datetime import datetime\n",
    "import matplotlib.pyplot as plt\n",
    "\n",
    "fig = go.Figure(data=[go.Candlestick(x=dfpl.index,\n",
    "                open=dfpl['Open'],\n",
    "                high=dfpl['High'],\n",
    "                low=dfpl['Low'],\n",
    "                close=dfpl['Close'])])\n",
    "\n",
    "c=0\n",
    "while (1):\n",
    "    if(c>len(plotlist1)-1 ):#or sr[c][0]>e\n",
    "        break\n",
    "    fig.add_shape(type='line', x0=s, y0=plotlist1[c],\n",
    "                  x1=e,\n",
    "                  y1=plotlist1[c],\n",
    "                  line=dict(color=\"MediumPurple\",width=3)\n",
    "                  )\n",
    "    c+=1\n",
    "\n",
    "c=0\n",
    "while (1):\n",
    "    if(c>len(plotlist2)-1 ):#or sr[c][0]>e\n",
    "        break\n",
    "    fig.add_shape(type='line', x0=s, y0=plotlist2[c],\n",
    "                  x1=e,\n",
    "                  y1=plotlist2[c],\n",
    "                  line=dict(color=\"RoyalBlue\",width=1)\n",
    "                  )\n",
    "    c+=1    \n",
    "\n",
    "fig.show()"
   ]
  },
  {
   "cell_type": "code",
   "execution_count": 51,
   "metadata": {},
   "outputs": [],
   "source": [
    "ss = []\n",
    "rr = []\n",
    "n1=2\n",
    "n2=2\n",
    "for row in range(3, 999): #len(df)-n2 205\n",
    "    if support(df, row, n1, n2):\n",
    "        ss.append((row,df.Low[row]))\n",
    "    if resistance(df, row, n1, n2):\n",
    "        rr.append((row,df.High[row]))"
   ]
  },
  {
   "cell_type": "code",
   "execution_count": 52,
   "metadata": {},
   "outputs": [
    {
     "data": {
      "application/vnd.plotly.v1+json": {
       "config": {
        "plotlyServerURL": "https://plot.ly"
       },
       "data": [
        {
         "close": [
          3.902,
          3.75,
          3.897,
          4,
          4.547,
          4.278,
          4.413,
          4.684,
          4.852,
          4.673,
          4.743,
          4.306,
          4.337,
          4.454,
          4.385,
          4.481,
          4.655,
          4.778,
          4.696,
          5.926,
          5.782,
          5.771,
          6.388,
          6.506,
          5.93,
          6.14,
          5.987,
          6.279,
          6.096,
          5.826,
          6.081,
          5.943,
          6.124,
          6.266,
          6.222,
          6.167,
          6.692,
          7.009,
          6.571,
          6.628,
          6.478,
          6.523,
          6.758,
          6.838,
          6.665,
          6.581,
          6.35,
          5.558,
          5.928,
          6.058,
          5.443,
          5.475,
          5.337,
          5.574,
          5.478,
          5.353,
          5.288,
          5.398,
          5.175,
          4.984,
          4.483,
          4.354,
          4.526,
          4.268,
          3.805,
          4.132,
          3.649,
          3.825,
          4.085,
          3.928,
          4.044,
          4.218,
          3.991,
          3.719,
          3.892,
          3.789,
          3.888,
          3.617,
          3.612,
          3.593,
          3.594,
          3.649,
          3.538,
          3.647,
          3.69,
          3.592,
          3.767,
          3.57,
          3.498,
          3.271,
          3.146,
          3.349,
          3.552,
          3.341,
          3.258,
          2.861,
          2.898,
          2.882,
          2.91,
          2.971,
          2.892,
          2.866,
          2.667,
          2.715,
          2.715,
          2.694,
          2.617,
          2.616,
          2.567,
          2.322,
          2.161,
          2.153,
          2.017,
          2.129,
          2.122,
          2.156,
          2.037,
          1.944,
          2.035,
          2.16,
          2.727,
          2.736,
          2.584,
          2.565,
          3.069,
          3.171,
          3.103,
          3.433,
          3.329,
          3.29,
          3.289,
          3.128,
          3.191,
          3.065,
          2.911,
          2.565,
          2.22,
          2.281,
          2.214,
          2.276,
          2.271,
          2.195,
          2.653,
          2.533,
          2.601,
          2.585,
          2.568,
          2.767,
          2.642,
          2.891,
          2.892,
          2.903,
          2.889,
          2.809,
          2.822,
          2.865,
          3.091,
          2.938,
          2.842,
          2.907,
          2.747,
          2.735,
          2.902,
          2.98,
          2.864,
          2.69,
          2.818,
          3.048,
          3.078,
          3.196,
          3.1,
          3.151,
          3.016,
          3.263,
          3.257,
          3.419,
          3.383,
          3.613,
          3.756,
          3.835,
          3.88,
          3.806,
          3.965,
          4.192,
          4.353,
          4.228,
          3.986,
          4.006,
          3.926,
          3.964,
          3.895,
          3.606,
          3.519,
          3.334,
          3.189,
          2.941,
          3.219,
          3.083,
          3.39,
          3.473,
          3.567,
          3.68,
          4.012,
          3.921,
          3.813,
          3.665,
          3.636,
          3.555,
          3.49,
          3.652,
          3.764,
          3.921,
          3.666,
          3.58,
          3.823,
          4.102,
          3.967,
          4.259,
          4.494,
          4.053,
          3.64,
          4.265,
          4.266,
          4.31,
          4.057,
          4.257,
          4.298,
          4.389,
          4.255,
          4.564,
          4.506,
          4.398,
          4.253,
          4.166,
          4.227,
          4.38,
          4.096,
          4.237,
          4.25,
          4.2,
          4.111,
          4.075,
          3.995,
          4.245,
          4.27,
          4.264,
          4.253,
          4.245,
          4.53,
          4.573,
          5.097,
          5.015,
          4.625,
          4.516,
          4.505,
          4.64,
          4.657,
          4.463,
          4.488,
          4.39,
          4.478,
          4.515,
          4.577,
          4.401,
          4.41,
          4.397,
          4.388,
          4.403,
          4.263,
          4.22,
          4.33,
          4.589,
          4.825,
          4.629,
          4.757,
          4.773,
          5.105,
          5.109,
          4.906,
          5.111,
          4.608,
          4.382,
          4.27,
          4.441,
          4.146,
          4.461,
          4.953,
          5.011,
          4.794,
          4.393,
          4.051,
          3.641,
          3.692,
          3.548,
          3.443,
          3.347,
          3.709,
          3.623,
          3.743,
          3.756,
          3.854,
          3.618,
          3.081,
          3.026,
          3.062,
          2.994,
          1.615,
          1.804,
          1.837,
          1.921,
          1.671,
          1.763,
          1.811,
          2.067,
          2.165,
          2.168,
          1.917,
          2.111,
          2.143,
          2.079,
          2.173,
          1.992,
          1.971,
          1.85,
          1.957,
          1.95,
          1.969,
          1.982,
          1.978,
          2.022,
          2.064,
          2.407,
          2.346,
          2.493,
          2.573,
          2.307,
          2.306,
          2.299,
          2.259,
          2.361,
          2.27,
          2.422,
          2.367,
          2.509,
          2.382,
          2.271,
          2.271,
          2.388,
          2.427,
          2.748,
          2.871,
          2.808,
          2.767,
          2.793,
          2.929,
          2.734,
          2.828,
          2.873,
          2.774,
          2.761,
          2.707,
          2.619,
          2.725,
          2.806,
          2.75,
          2.514,
          2.394,
          2.486,
          2.54,
          2.528,
          2.473,
          2.555,
          2.544,
          2.6,
          2.617,
          2.705,
          2.513,
          2.65,
          2.592,
          2.495,
          2.612,
          2.583,
          2.601,
          2.671,
          2.677,
          2.817,
          2.728,
          2.862,
          2.761,
          2.906,
          3.11,
          3.093,
          3.056,
          3.02,
          3.155,
          3.117,
          3.114,
          2.763,
          2.862,
          2.873,
          2.756,
          2.705,
          2.729,
          2.703,
          2.643,
          2.597,
          2.62,
          2.599,
          2.688,
          2.774,
          2.685,
          2.624,
          2.622,
          2.429,
          2.504,
          2.646,
          2.595,
          2.659,
          2.659,
          2.69,
          2.779,
          2.93,
          3.021,
          3.249,
          3.554,
          3.788,
          4.053,
          3.921,
          4.023,
          3.872,
          3.959,
          4.047,
          4.077,
          4.145,
          4.36,
          4.202,
          3.881,
          4.01,
          4.012,
          3.963,
          3.825,
          3.917,
          3.81,
          3.593,
          3.751,
          3.634,
          3.703,
          3.793,
          4.084,
          3.912,
          3.82,
          4.021,
          4.144,
          4.172,
          4.015,
          4.426,
          5.273,
          5.474,
          4.916,
          5.902,
          6.085,
          6.096,
          6.077,
          6.243,
          5.907,
          5.826,
          5.65,
          6.297,
          5.606,
          6.411,
          8.532,
          8.211,
          8.378,
          7.708,
          7.291,
          7.559,
          7.27,
          7.621,
          7.205,
          7.218,
          6.643,
          4.899,
          5.463,
          4.918,
          5.178,
          5.053,
          4.952,
          5.32,
          5.324,
          5.342,
          5.603,
          5.32,
          5.381,
          4.866,
          5.122,
          5.062,
          4.966,
          4.943,
          4.664,
          4.081,
          4.21,
          3.839,
          4.483,
          4.791,
          4.607,
          4.727,
          4.826,
          5.309,
          5.372,
          5.135,
          4.906,
          5.01,
          5.314,
          5.366,
          4.736,
          4.873,
          5.034,
          5.155,
          5.534,
          6.072,
          5.97,
          6.012,
          5.727,
          5.769,
          5.403,
          5.466,
          5.762,
          5.502,
          5.024,
          5.241,
          5.444,
          5.364,
          5.543,
          5.292,
          5.145,
          5.138,
          4.803,
          4.633,
          4.62,
          4.616,
          4.743,
          4.603,
          4.48,
          4.387,
          4.504,
          4.88,
          4.619,
          4.809,
          5.155,
          5.084,
          5.033,
          5.03,
          5.213,
          5.045,
          4.979,
          5.084,
          5.285,
          5.105,
          5.097,
          5.268,
          5.922,
          5.481,
          5.811,
          5.966,
          5.904,
          5.33,
          5.368,
          5.43,
          5.429,
          5.571,
          5.256,
          5.51,
          5.5,
          5.049,
          5.261,
          5.213,
          5.1,
          4.738,
          4.804,
          4.655,
          4.707,
          5.06,
          5.195,
          5.227,
          5.291,
          5.494,
          5.354,
          5.329,
          5.289,
          5.036,
          5.031,
          4.943,
          4.395,
          4.959,
          4.909,
          4.81,
          4.842,
          5.391,
          5.622,
          5.424,
          6.465,
          5.861,
          5.42,
          5.829,
          6.044,
          6.196,
          6.682,
          6.264,
          5.931,
          6.54,
          6.409,
          5.726,
          5.711,
          6.242,
          6.476,
          7.896,
          9.03,
          8.544,
          9.539,
          8.891,
          8.909,
          7.177,
          7.985,
          8.329,
          8.24,
          7.738,
          7.732,
          6.953,
          8.041,
          7.975,
          8.048,
          8.145,
          9.29,
          8.893,
          9.303,
          9.152,
          12.19,
          12.087,
          13.841,
          14.169,
          15.057,
          14.965,
          17.652,
          21.076,
          20.248,
          19.084,
          22.489,
          25.067,
          23.83,
          23.092,
          22.898,
          21.648,
          21.569,
          21.152,
          20.08,
          19.42,
          17.686,
          18.86,
          19.121,
          17.649,
          18.701,
          18.851,
          21.431,
          18.855,
          18.671,
          18.91,
          19.458,
          19.392,
          21.107,
          19.61,
          19.333,
          18.552,
          19.363,
          18.444,
          19.838,
          21.008,
          20.896,
          22.106,
          22.19,
          20.915,
          20.52,
          19.179,
          18.724,
          17.424,
          17.1,
          18.94,
          18.704,
          19.331,
          20.273,
          19.968,
          19.081,
          19.473,
          20.315,
          20.033,
          21.525,
          21.431,
          21.656,
          19.558,
          20.543,
          21.393,
          21.025,
          23.365,
          22.012,
          23.829,
          27.068,
          27.786,
          25.46,
          24.342,
          21.403,
          19.199,
          21.254,
          19.551,
          18.725,
          20.515,
          18.458,
          18.687,
          22.058,
          23.038,
          22.927,
          22.222,
          22.704,
          23.801,
          23.088,
          22.938,
          20.963,
          24.877,
          25.542,
          28.641,
          29.524,
          28.712,
          25.357,
          26.902,
          23.012,
          23.494,
          25.856,
          24.495,
          24.264,
          21.091,
          22.84,
          13.757,
          16.916,
          13.572,
          12.237,
          11.648,
          14.541,
          13.934,
          15.278,
          14.525,
          12.701,
          12.059,
          12.551,
          13.962,
          13.757,
          14.86,
          16.665,
          15.067,
          14.858,
          15.125,
          13.46,
          13.56,
          13.932,
          12.829,
          11.95,
          11.616,
          12.53,
          13.301,
          12.951,
          13.425,
          13.618,
          12.472,
          11.85,
          11.977,
          9.519,
          9.002,
          9.613,
          10.386,
          9.066,
          9.596,
          10.087,
          10.89,
          11.65,
          12.045,
          11.033,
          11.795,
          11.8,
          12.307,
          13.531,
          13.136,
          12.939,
          11.916,
          13.181,
          14.425,
          14.077,
          12.981,
          12.092,
          11.747,
          11.474,
          11.149,
          11.022,
          10.972,
          9.98,
          9.443,
          10.481,
          11.377,
          11.442,
          11.426,
          11.446,
          11.386,
          11.702,
          11.589,
          11.799,
          12.14,
          12.598,
          12.312,
          12.476,
          12.12,
          12.808,
          13.032,
          13.589,
          14.006,
          13.139,
          13.651,
          14.105,
          14.558,
          14.06,
          15.212,
          15.56,
          15.91,
          15.784,
          16.003,
          17.948,
          18.688,
          18.928,
          22.14,
          21.862,
          21.808,
          19.538,
          20.056,
          17.9,
          20.42,
          21.31,
          21.2,
          22.14,
          22.89,
          25.44,
          24.14,
          24.11,
          24.4,
          25.73,
          25.08,
          21.08,
          20.69,
          26.85,
          29.41,
          27.33,
          34.89,
          35.82,
          34.2,
          34.12,
          37.07,
          33.46,
          40.76,
          44.27,
          34.01,
          30.45,
          39.71,
          41.51,
          42.58,
          39.45,
          39.8,
          37.21,
          33.7,
          33.88,
          36.23,
          37.85,
          38.62,
          38.74,
          36.8,
          36.75,
          35.15,
          36.67,
          35.04,
          35.16,
          32.42,
          32.01,
          33.48,
          34.53,
          33.82,
          33.08,
          33.13,
          32.44,
          31.88,
          35,
          35.95,
          34.34,
          34.06,
          35.69,
          34.26,
          35.31,
          42.99,
          36.75,
          38,
          39.55,
          37.3,
          37.24,
          37.31,
          37.1,
          38.49,
          37.51,
          36.77,
          36.22,
          35.73,
          36.62,
          35.84,
          32.05,
          32.94,
          32.05,
          32.5,
          31.93,
          31.45,
          28.29,
          29.44,
          26.62,
          28.12,
          29.43,
          30.88,
          32.17,
          32.05,
          29.62,
          29.77,
          27.07,
          26.73,
          27.39,
          28.1,
          27.51,
          26.67,
          28.37,
          32.79,
          28.15,
          24.57,
          24.33,
          24.3,
          25.32,
          22.45,
          22.54,
          24.4,
          24.49,
          21.74,
          21.8,
          22.34,
          21.83,
          21.21,
          23.15,
          22.16,
          21.52,
          23.63,
          27.37,
          28.36,
          26.9,
          29.66,
          32.12,
          29.71,
          26.59,
          27.94,
          30.16,
          32.39,
          36.36,
          35.53,
          39.25,
          42.1,
          38.66,
          40.08,
          38.58,
          35.87,
          34.98,
          37.86,
          38.7,
          40.22,
          37.6,
          40.42,
          39.12,
          43.65,
          39.13,
          38.24,
          37.02,
          38.98,
          34.61,
          29.24,
          34.61,
          36.02,
          35.87,
          32.36,
          30.06,
          29.47,
          29.08,
          27.19,
          28.05,
          28.84,
          26.31
         ],
         "high": [
          4.175,
          4.04,
          4.173,
          4.087,
          4.8,
          4.78,
          4.792,
          5,
          5.171,
          4.863,
          4.864,
          4.821,
          4.363,
          4.77,
          4.6,
          4.543,
          4.699,
          4.863,
          4.873,
          6.603,
          5.93,
          6.325,
          6.42,
          7.249,
          6.85,
          6.28,
          6.147,
          6.576,
          6.316,
          6.185,
          6.088,
          6.176,
          6.264,
          6.506,
          6.281,
          6.265,
          6.737,
          7.1,
          7.04,
          6.849,
          6.637,
          6.589,
          6.914,
          7.193,
          6.846,
          6.747,
          6.849,
          6.416,
          5.97,
          6.198,
          6.117,
          5.72,
          5.666,
          5.62,
          5.766,
          5.501,
          5.49,
          5.413,
          5.435,
          5.196,
          4.985,
          4.652,
          4.607,
          4.534,
          4.281,
          4.471,
          4.255,
          4.037,
          4.18,
          4.158,
          4.18,
          4.315,
          4.345,
          3.986,
          4.077,
          4.034,
          3.917,
          3.999,
          3.673,
          3.69,
          3.658,
          3.748,
          3.661,
          3.909,
          3.766,
          3.763,
          3.868,
          3.783,
          3.688,
          3.506,
          3.321,
          3.382,
          3.552,
          3.656,
          3.349,
          3.297,
          3,
          3.024,
          2.91,
          2.984,
          2.972,
          2.925,
          2.876,
          2.747,
          2.77,
          2.726,
          2.738,
          2.701,
          2.642,
          2.617,
          2.333,
          2.23,
          2.161,
          2.239,
          2.174,
          2.222,
          2.149,
          2.041,
          2.249,
          2.284,
          2.943,
          2.96,
          2.95,
          2.708,
          3.209,
          3.301,
          3.24,
          3.565,
          3.564,
          3.45,
          3.4,
          3.291,
          3.254,
          3.294,
          3.072,
          2.91,
          2.664,
          2.422,
          2.348,
          2.294,
          2.303,
          2.286,
          2.676,
          2.661,
          2.633,
          2.675,
          2.616,
          2.81,
          2.789,
          2.955,
          3.071,
          3.014,
          3,
          2.923,
          2.859,
          2.914,
          3.121,
          3.159,
          2.951,
          2.948,
          2.926,
          2.799,
          2.932,
          3.007,
          3.014,
          2.895,
          2.985,
          3.127,
          3.264,
          3.3,
          3.337,
          3.197,
          3.2,
          3.32,
          3.295,
          3.462,
          3.445,
          3.65,
          3.824,
          3.894,
          3.887,
          4.055,
          3.981,
          4.279,
          4.381,
          4.354,
          4.24,
          4.007,
          4.14,
          3.975,
          3.977,
          3.896,
          3.616,
          3.59,
          3.432,
          3.3,
          3.238,
          3.277,
          3.537,
          3.669,
          3.778,
          3.759,
          4.11,
          4.094,
          3.932,
          3.904,
          3.821,
          3.788,
          3.624,
          3.7,
          3.869,
          3.997,
          3.946,
          3.755,
          3.88,
          4.199,
          4.282,
          4.323,
          4.668,
          4.5,
          4.143,
          4.555,
          4.37,
          4.395,
          4.343,
          4.279,
          4.369,
          4.419,
          4.395,
          4.634,
          4.79,
          4.713,
          4.459,
          4.403,
          4.311,
          4.49,
          4.397,
          4.38,
          4.38,
          4.365,
          4.247,
          4.243,
          4.176,
          4.257,
          4.435,
          4.432,
          4.34,
          4.322,
          4.665,
          4.969,
          5.423,
          5.32,
          5.033,
          4.774,
          4.67,
          4.749,
          4.702,
          4.69,
          4.53,
          4.492,
          4.505,
          4.672,
          4.611,
          4.597,
          4.48,
          4.615,
          4.451,
          4.481,
          4.5,
          4.275,
          4.35,
          4.602,
          4.938,
          4.834,
          4.788,
          4.81,
          5.216,
          5.327,
          5.244,
          5.141,
          5.136,
          4.758,
          4.426,
          4.504,
          4.695,
          4.553,
          4.99,
          5.105,
          5.092,
          4.938,
          4.413,
          4.079,
          3.862,
          3.759,
          3.685,
          3.552,
          3.806,
          3.71,
          3.894,
          3.936,
          3.882,
          3.869,
          3.618,
          3.166,
          3.2,
          3.106,
          3.026,
          1.951,
          1.992,
          2.089,
          1.924,
          1.88,
          1.843,
          2.149,
          2.485,
          2.247,
          2.234,
          2.15,
          2.233,
          2.188,
          2.179,
          2.209,
          1.991,
          1.983,
          2.036,
          1.992,
          1.985,
          2.11,
          2.061,
          2.055,
          2.097,
          2.418,
          2.496,
          2.5,
          2.626,
          2.592,
          2.383,
          2.401,
          2.296,
          2.446,
          2.435,
          2.45,
          2.431,
          2.523,
          2.543,
          2.443,
          2.325,
          2.413,
          2.498,
          2.805,
          2.962,
          2.902,
          2.834,
          2.85,
          2.986,
          3.077,
          2.933,
          2.897,
          2.909,
          2.803,
          2.787,
          2.764,
          2.8,
          2.855,
          2.855,
          2.75,
          2.558,
          2.529,
          2.587,
          2.569,
          2.578,
          2.573,
          2.64,
          2.662,
          2.625,
          2.71,
          2.734,
          2.684,
          2.673,
          2.651,
          2.64,
          2.629,
          2.705,
          2.678,
          2.7,
          2.834,
          2.888,
          2.865,
          2.963,
          2.917,
          3.159,
          3.2,
          3.155,
          3.111,
          3.163,
          3.186,
          3.13,
          3.138,
          2.925,
          2.901,
          2.878,
          2.781,
          2.765,
          2.743,
          2.703,
          2.653,
          2.626,
          2.636,
          2.72,
          2.843,
          2.881,
          2.694,
          2.655,
          2.718,
          2.557,
          2.681,
          2.675,
          2.68,
          2.79,
          2.809,
          2.789,
          2.988,
          3.13,
          3.28,
          3.578,
          3.8,
          4.182,
          4.466,
          4.197,
          4.339,
          4.04,
          4.148,
          4.3,
          4.26,
          4.516,
          4.52,
          4.259,
          4.06,
          4.088,
          4.1,
          3.969,
          3.96,
          3.92,
          3.92,
          3.792,
          3.86,
          3.763,
          3.84,
          4.137,
          4.235,
          4.078,
          4.055,
          4.214,
          4.256,
          4.201,
          4.442,
          5.44,
          5.874,
          5.576,
          6.04,
          6.57,
          6.604,
          6.35,
          6.391,
          6.318,
          6.16,
          5.934,
          6.373,
          6.6,
          6.5,
          8.602,
          8.56,
          8.877,
          8.653,
          7.923,
          7.844,
          7.619,
          7.925,
          7.819,
          7.642,
          7.31,
          6.74,
          5.656,
          5.675,
          5.35,
          5.258,
          5.162,
          5.493,
          5.564,
          5.535,
          5.719,
          5.857,
          5.539,
          5.453,
          5.189,
          5.224,
          5.214,
          5.04,
          5.094,
          4.734,
          4.275,
          4.304,
          4.55,
          4.802,
          4.819,
          4.803,
          5.201,
          5.376,
          5.57,
          5.596,
          5.273,
          5.135,
          5.38,
          5.4,
          5.4,
          4.943,
          5.126,
          5.302,
          5.707,
          6.269,
          6.24,
          6.2,
          6.136,
          5.914,
          5.841,
          5.523,
          5.784,
          5.778,
          5.508,
          5.494,
          5.573,
          5.5,
          5.593,
          5.65,
          5.37,
          5.324,
          5.151,
          4.863,
          4.71,
          4.811,
          4.85,
          4.873,
          4.607,
          4.481,
          4.587,
          4.956,
          5.162,
          4.908,
          5.2,
          5.283,
          5.281,
          5.303,
          5.26,
          5.237,
          5.12,
          5.182,
          5.37,
          5.322,
          5.221,
          5.458,
          5.948,
          5.977,
          5.917,
          6.405,
          6.47,
          6.331,
          5.446,
          5.544,
          5.544,
          5.68,
          5.71,
          5.547,
          5.645,
          5.536,
          5.3,
          5.287,
          5.228,
          5.137,
          4.879,
          4.822,
          4.863,
          5.118,
          5.369,
          5.33,
          5.361,
          5.505,
          5.73,
          5.45,
          5.439,
          5.36,
          5.157,
          5.103,
          4.997,
          4.999,
          5.053,
          4.967,
          5.024,
          5.61,
          5.69,
          5.84,
          6.495,
          6.5,
          5.881,
          5.911,
          6.269,
          6.383,
          6.954,
          6.843,
          6.343,
          6.748,
          7.142,
          6.453,
          6.15,
          6.26,
          6.59,
          8.5,
          9.6,
          9.202,
          9.866,
          10.2,
          9.479,
          8.96,
          8.464,
          8.68,
          8.792,
          8.55,
          7.96,
          7.97,
          8.55,
          8.542,
          8.308,
          8.9,
          9.296,
          9.34,
          9.419,
          9.5,
          12.878,
          13.7,
          14.126,
          15.01,
          15.483,
          15.58,
          18.476,
          22.157,
          22.058,
          20.697,
          24.978,
          26.55,
          25.85,
          25.133,
          23.55,
          24.498,
          22.656,
          21.678,
          23.4,
          21.39,
          20.667,
          18.959,
          20.973,
          19.24,
          18.856,
          20.516,
          22,
          21.845,
          19.5,
          19.069,
          19.495,
          19.853,
          21.2,
          21.378,
          19.747,
          19.496,
          19.861,
          19.531,
          21.1,
          22.102,
          21.674,
          24.523,
          23.185,
          22.726,
          21.258,
          21.166,
          19.863,
          19.79,
          18.019,
          18.99,
          19.211,
          20,
          20.989,
          20.691,
          20.088,
          20.2,
          20.422,
          22.564,
          21.933,
          22.22,
          23.211,
          22.1,
          20.639,
          21.539,
          22.666,
          23.5,
          23.785,
          24.899,
          27.138,
          28.53,
          28.172,
          27.505,
          24.849,
          22.248,
          21.6,
          21.5,
          21.56,
          20.55,
          20.549,
          19.8,
          23.5,
          23.438,
          24.163,
          23.021,
          23.468,
          24.488,
          23.936,
          23.787,
          23.4,
          24.881,
          27.119,
          32.324,
          31.452,
          29.99,
          29.9,
          27.065,
          27.778,
          25.305,
          25.872,
          28.749,
          26.75,
          24.264,
          23.416,
          23.5,
          17.363,
          17.561,
          13.699,
          13.097,
          14.58,
          14.95,
          15.667,
          15.315,
          14.627,
          14.405,
          13.124,
          14,
          14.532,
          15.338,
          17.2,
          17.11,
          16.343,
          15.414,
          15.78,
          13.804,
          14.005,
          14.055,
          12.953,
          12.057,
          12.534,
          13.39,
          13.575,
          13.477,
          14.683,
          13.623,
          12.721,
          12.477,
          12.109,
          10.57,
          10.489,
          10.713,
          10.703,
          9.6,
          10.087,
          10.9,
          12.875,
          12.052,
          12.078,
          11.81,
          12.2,
          12.452,
          13.966,
          14.049,
          13.51,
          12.974,
          13.699,
          14.541,
          14.8,
          14.129,
          13.729,
          12.231,
          12.065,
          13.19,
          11.508,
          11.557,
          11.07,
          10.166,
          10.701,
          11.62,
          11.549,
          11.767,
          11.621,
          12.449,
          11.806,
          11.969,
          11.898,
          12.188,
          12.935,
          13.444,
          12.761,
          12.658,
          12.916,
          13.236,
          14.031,
          14.356,
          14.24,
          14.1,
          14.4,
          15.456,
          15.196,
          15.339,
          15.774,
          15.955,
          16.688,
          17.5,
          18.575,
          20.435,
          20,
          23.9,
          24.743,
          23.111,
          22.036,
          20.875,
          20.33,
          20.56,
          21.43,
          22.42,
          23.92,
          26.3,
          25.98,
          25.77,
          24.96,
          25.5,
          26.21,
          27.1,
          27.45,
          21.88,
          28.45,
          30.48,
          30.98,
          35.26,
          38.95,
          37.9,
          35.35,
          37.25,
          38.09,
          41.5,
          44.65,
          44.8,
          37.2,
          40,
          43.33,
          44.3,
          43.1,
          41.7,
          40.75,
          37.9,
          36.65,
          36.27,
          38.56,
          41.64,
          40.8,
          38.8,
          38.34,
          36.86,
          38,
          36.95,
          36.13,
          35.18,
          34.4,
          34.35,
          34.93,
          35.75,
          34.16,
          34.65,
          34.28,
          32.68,
          35.32,
          36.9,
          36.83,
          36.16,
          37.2,
          36.03,
          35.57,
          43.26,
          43.28,
          40.9,
          41.05,
          39.56,
          37.74,
          38.18,
          38.44,
          38.88,
          39.22,
          38.98,
          37.05,
          36.48,
          36.96,
          37.98,
          37.27,
          34,
          32.98,
          33.19,
          33.27,
          34.15,
          31.47,
          29.63,
          29.79,
          28.55,
          29.85,
          32,
          33.8,
          33.24,
          32.07,
          30.9,
          30.3,
          28.06,
          27.64,
          28.45,
          29.35,
          28.27,
          28.64,
          33.6,
          32.92,
          29.31,
          24.82,
          25.44,
          26,
          25.6,
          23.88,
          24.78,
          25.22,
          24.94,
          22.14,
          22.87,
          23.5,
          22.06,
          23.25,
          23.72,
          22.44,
          23.7,
          28.48,
          28.88,
          29.76,
          29.69,
          32.25,
          32.7,
          29.72,
          28.16,
          30.55,
          33.3,
          37,
          36.88,
          39.8,
          43.95,
          43.27,
          41.49,
          44.7,
          40.34,
          38.08,
          38.16,
          40.05,
          42.33,
          41.28,
          40.83,
          40.96,
          43.82,
          44.56,
          40.08,
          38.84,
          42.1,
          41.14,
          35.08,
          34.78,
          37.05,
          37.19,
          36.39,
          32.94,
          30.35,
          30.23,
          29.19,
          28.95,
          29.84,
          29
         ],
         "low": [
          3.7,
          3.604,
          3.734,
          3.779,
          3.986,
          4,
          3.95,
          4.33,
          4.636,
          4.432,
          4.48,
          4.3,
          4.115,
          4.258,
          4.287,
          4.238,
          4.47,
          4.474,
          4.5,
          4.668,
          5.211,
          5.6,
          5.572,
          5.975,
          5.744,
          5.62,
          5.621,
          5.877,
          5.938,
          5.7,
          5.733,
          5.753,
          5.852,
          6.023,
          5.874,
          6.102,
          6.118,
          6.454,
          6.47,
          6.55,
          6.285,
          6.334,
          6.414,
          6.716,
          6.542,
          6.474,
          6.151,
          5.36,
          5.464,
          5.626,
          5.395,
          5.143,
          5.123,
          5.288,
          5.465,
          5.33,
          5.235,
          5.2,
          5.1,
          4.87,
          4.175,
          4.053,
          4.264,
          4.125,
          3.8,
          3.561,
          3.475,
          3.556,
          3.675,
          3.797,
          3.913,
          3.982,
          3.886,
          3.684,
          3.616,
          3.781,
          3.7,
          3.55,
          3.489,
          3.529,
          3.5,
          3.58,
          3.424,
          3.501,
          3.623,
          3.578,
          3.592,
          3.518,
          3.468,
          2.989,
          3.076,
          3.143,
          3.271,
          3.331,
          3.149,
          2.848,
          2.804,
          2.808,
          2.828,
          2.862,
          2.752,
          2.753,
          2.587,
          2.569,
          2.648,
          2.601,
          2.609,
          2.586,
          2.5,
          2.313,
          2.137,
          2.086,
          1.978,
          2.002,
          2.06,
          2.12,
          2.005,
          1.83,
          1.944,
          2.027,
          2.152,
          2.429,
          2.497,
          2.396,
          2.498,
          2.985,
          2.979,
          3.096,
          3.147,
          3.188,
          3.233,
          2.917,
          3.048,
          3.015,
          2.75,
          2.565,
          1.93,
          2.122,
          2.046,
          2.142,
          2.172,
          2.087,
          2.164,
          2.48,
          2.412,
          2.483,
          2.452,
          2.539,
          2.568,
          2.533,
          2.81,
          2.812,
          2.682,
          2.72,
          2.763,
          2.784,
          2.867,
          2.887,
          2.678,
          2.738,
          2.685,
          2.692,
          2.681,
          2.831,
          2.845,
          2.547,
          2.625,
          2.765,
          2.979,
          2.96,
          3.067,
          3.05,
          2.95,
          3.008,
          3.165,
          3.243,
          3.285,
          3.328,
          3.499,
          3.7,
          3.639,
          3.65,
          3.793,
          3.883,
          4.05,
          4.011,
          3.94,
          3.777,
          3.8,
          3.825,
          3.8,
          3.511,
          3.335,
          3.286,
          3.1,
          2.608,
          2.855,
          2.98,
          2.983,
          3.37,
          3.247,
          3.48,
          3.667,
          3.81,
          3.57,
          3.59,
          3.615,
          3.414,
          3.445,
          3.452,
          3.638,
          3.684,
          3.636,
          3.506,
          3.567,
          3.755,
          3.95,
          3.957,
          4.156,
          4.008,
          3.536,
          3.591,
          4.074,
          4.127,
          4.019,
          4.043,
          4.141,
          4.25,
          4.161,
          4.258,
          4.446,
          4.389,
          4.215,
          4.115,
          4.102,
          4.208,
          4.073,
          3.99,
          4.221,
          4.162,
          4.007,
          4.054,
          3.946,
          3.95,
          4.18,
          4.26,
          4.215,
          4.102,
          4.205,
          4.403,
          4.152,
          4.68,
          4.6,
          4.36,
          4.404,
          4.452,
          4.551,
          4.364,
          4.344,
          4.352,
          4.358,
          4.4,
          4.469,
          4.35,
          4.304,
          4.3,
          4.271,
          4.235,
          4.24,
          4,
          4.139,
          4.252,
          4.519,
          4.5,
          4.604,
          4.433,
          4.693,
          5.022,
          4.828,
          4.856,
          4.4,
          3.955,
          3.89,
          3.963,
          4.1,
          4.111,
          4.41,
          4.653,
          4.728,
          4.19,
          3.988,
          3.435,
          3.346,
          3.421,
          3.432,
          3.251,
          3.332,
          3.489,
          3.621,
          3.735,
          3.698,
          3.567,
          3.044,
          2.825,
          2.88,
          2.69,
          1.464,
          1.061,
          1.684,
          1.816,
          1.5,
          1.634,
          1.65,
          1.768,
          1.801,
          1.994,
          1.91,
          1.886,
          2.075,
          2.04,
          2.057,
          1.946,
          1.869,
          1.844,
          1.845,
          1.933,
          1.884,
          1.95,
          1.953,
          1.964,
          2.012,
          2.064,
          2.304,
          2.299,
          2.373,
          2.194,
          2.231,
          2.247,
          2.171,
          2.22,
          2.265,
          2.19,
          2.351,
          2.367,
          2.373,
          2.259,
          2.254,
          2.26,
          2.33,
          2.42,
          2.668,
          2.757,
          2.651,
          2.706,
          2.783,
          2.695,
          2.732,
          2.797,
          2.73,
          2.57,
          2.655,
          2.614,
          2.6,
          2.675,
          2.715,
          2.324,
          2.267,
          2.381,
          2.437,
          2.457,
          2.421,
          2.447,
          2.532,
          2.54,
          2.523,
          2.52,
          2.446,
          2.487,
          2.573,
          2.49,
          2.458,
          2.537,
          2.573,
          2.568,
          2.624,
          2.643,
          2.7,
          2.712,
          2.64,
          2.733,
          2.892,
          3.037,
          3.039,
          2.865,
          2.994,
          3.074,
          2.955,
          2.72,
          2.735,
          2.816,
          2.718,
          2.54,
          2.674,
          2.648,
          2.611,
          2.574,
          2.542,
          2.578,
          2.599,
          2.656,
          2.64,
          2.55,
          2.515,
          2.288,
          2.391,
          2.472,
          2.573,
          2.573,
          2.6,
          2.642,
          2.68,
          2.746,
          2.921,
          2.963,
          3.157,
          3.376,
          3.555,
          3.88,
          3.9,
          3.715,
          3.801,
          3.862,
          3.75,
          3.943,
          4.108,
          3.971,
          3.861,
          3.774,
          3.892,
          3.918,
          3.786,
          3.774,
          3.689,
          3.288,
          3.552,
          3.609,
          3.58,
          3.696,
          3.791,
          3.4,
          3.792,
          3.817,
          3.945,
          4.112,
          3.864,
          3.973,
          4.3,
          5.092,
          4.689,
          4.858,
          5.458,
          5.916,
          5.895,
          5.781,
          5.86,
          5.515,
          5.3,
          5.539,
          5.596,
          5.398,
          6.34,
          7.668,
          7.786,
          7.642,
          6.894,
          7.123,
          7.268,
          7.231,
          7.14,
          6.978,
          6.368,
          4.5,
          4.695,
          4.56,
          4.455,
          4.571,
          4.745,
          4.888,
          5.172,
          5.048,
          5.18,
          5.105,
          5.12,
          4.776,
          4.682,
          4.868,
          4.773,
          4.859,
          4.535,
          3.951,
          4.022,
          3.79,
          3.78,
          4.353,
          4.466,
          4.523,
          4.72,
          4.8,
          5.192,
          4.962,
          4.637,
          4.867,
          4.846,
          5.172,
          4.679,
          4.549,
          4.62,
          4.928,
          5.147,
          5.419,
          5.786,
          5.803,
          5.63,
          5.5,
          5.311,
          5.286,
          5.414,
          5.453,
          4.989,
          4.988,
          5.216,
          5.16,
          5.253,
          5.238,
          4.963,
          5.066,
          4.72,
          4.521,
          4.343,
          4.591,
          4.542,
          4.551,
          4.301,
          4.206,
          4.276,
          4.469,
          4.492,
          4.557,
          4.662,
          4.896,
          5.01,
          4.931,
          5.015,
          4.987,
          4.856,
          4.927,
          5.066,
          4.909,
          4.985,
          5.076,
          5.262,
          5.24,
          5.38,
          5.657,
          5.68,
          5,
          5.083,
          5.226,
          5.312,
          5.34,
          5.1,
          5.198,
          5.365,
          5,
          4.966,
          5.08,
          5.075,
          4.636,
          4.562,
          4.65,
          4.482,
          4.698,
          5.051,
          5.032,
          5.056,
          5.15,
          5.265,
          5.187,
          5.25,
          4.901,
          4.793,
          4.725,
          4.2,
          4.224,
          4.745,
          4.731,
          4.571,
          4.791,
          5.034,
          5.391,
          5.24,
          5.588,
          5.18,
          5.279,
          5.259,
          5.64,
          5.86,
          6,
          5.66,
          5.811,
          5.972,
          5,
          5.5,
          5.543,
          6.137,
          6.449,
          7.537,
          8.009,
          8.487,
          8.826,
          7.95,
          7.035,
          6.603,
          7.849,
          7.7,
          7.669,
          7.366,
          6.763,
          6.804,
          7.678,
          7.754,
          7.691,
          7.828,
          8.7,
          8.75,
          8.636,
          9.01,
          11.265,
          11.394,
          13.233,
          13.792,
          13.55,
          14.775,
          17.27,
          19.101,
          18.466,
          14.816,
          22.2,
          22.479,
          22.785,
          21.502,
          20.439,
          20.699,
          16.624,
          15.1,
          18.655,
          17.55,
          16.051,
          18.616,
          16.448,
          17.497,
          17.989,
          18.499,
          18.136,
          17.725,
          18.211,
          18.58,
          18.565,
          19.016,
          19.088,
          18.6,
          17.68,
          17.828,
          18.418,
          17.901,
          18.689,
          19.55,
          20.524,
          21.5,
          20.716,
          19.924,
          18.888,
          18.679,
          16.444,
          16.629,
          17.059,
          18.014,
          18.419,
          19.06,
          19.471,
          18.168,
          18.902,
          19.134,
          19.843,
          19.535,
          20,
          21.038,
          18.651,
          19.472,
          20.486,
          20.551,
          20.734,
          21.222,
          21.333,
          22.777,
          25.939,
          24.028,
          24.282,
          17.1,
          18.841,
          17.644,
          19.347,
          18.5,
          16.56,
          18.304,
          17.601,
          18.477,
          21.244,
          21.785,
          21.129,
          21.684,
          22.432,
          22.155,
          22.414,
          20.809,
          20.582,
          24.091,
          24.999,
          26.871,
          26.1,
          23.6,
          23.834,
          22.3,
          21.814,
          23.402,
          24.337,
          22.631,
          20.648,
          20.8,
          9.551,
          12.133,
          11.353,
          11.354,
          8.51,
          11.056,
          12.357,
          13.6,
          13.543,
          11.979,
          11.38,
          11.264,
          11.89,
          13.31,
          13.582,
          14.651,
          14.014,
          14.233,
          14.472,
          13.275,
          12.015,
          12.603,
          12.559,
          11.557,
          10.914,
          11.288,
          12.216,
          12.641,
          12.313,
          13.292,
          11.927,
          11.809,
          11.04,
          9.473,
          7.83,
          8.565,
          9.01,
          8.85,
          8.647,
          9.417,
          9.917,
          10.825,
          11.034,
          10.713,
          10.522,
          11.526,
          11.515,
          11.927,
          12.812,
          12.82,
          11.661,
          11.411,
          12.958,
          13.871,
          12.752,
          11.807,
          11.019,
          10.653,
          10.976,
          10.713,
          10.737,
          9.923,
          8.93,
          9.135,
          10.178,
          10.677,
          11.059,
          10.967,
          11.31,
          11.02,
          11.374,
          11.311,
          11.428,
          11.878,
          12.12,
          12.098,
          11.731,
          11.955,
          12.405,
          12.724,
          13.443,
          13.01,
          12.653,
          13.398,
          14.086,
          13.547,
          13.859,
          14.686,
          14.874,
          15.49,
          15.049,
          14.985,
          17.773,
          18.362,
          18.531,
          20.972,
          21.282,
          19.2,
          18.603,
          17.666,
          17.25,
          19.5,
          20.32,
          19.48,
          21.56,
          22.09,
          23.44,
          23.15,
          23.71,
          23.8,
          23.68,
          17.55,
          18.45,
          20.43,
          24.56,
          26.72,
          25.96,
          30.25,
          32.8,
          32.61,
          31.2,
          32.41,
          32.68,
          37.72,
          33.34,
          28.83,
          29.36,
          38.82,
          35.89,
          38.81,
          35.43,
          36.6,
          33.36,
          32.74,
          33.47,
          34.81,
          37.17,
          37.78,
          36,
          35.32,
          33,
          33.78,
          34.78,
          34.6,
          32.1,
          31,
          29.9,
          31.64,
          33.46,
          32.18,
          32.9,
          31,
          31.02,
          31.45,
          33.5,
          33.84,
          33.62,
          33.77,
          33.49,
          34.15,
          35.06,
          35,
          36.09,
          38,
          36.17,
          35.22,
          34.7,
          36.28,
          35.48,
          36.1,
          36.35,
          34.17,
          35.46,
          35,
          35.45,
          28.32,
          31.68,
          30.52,
          31.92,
          31.11,
          30.57,
          27.46,
          26.89,
          25.29,
          25.97,
          27.8,
          28.32,
          28.95,
          30.66,
          29.12,
          29.28,
          25.15,
          26.44,
          24.67,
          26.72,
          26.96,
          26.28,
          25.62,
          27.72,
          21.82,
          23.55,
          22.02,
          23.8,
          22.82,
          22.42,
          21.85,
          21.97,
          23.48,
          21.06,
          20.96,
          20.18,
          21.66,
          20.38,
          20.92,
          22,
          20.73,
          21.48,
          23.35,
          26.37,
          26.74,
          26.62,
          28.56,
          29.56,
          26.16,
          25.1,
          26.38,
          30.11,
          32.34,
          34.22,
          34.23,
          37.51,
          34.59,
          35.43,
          37.7,
          34.05,
          34.11,
          32.9,
          36.1,
          38.59,
          37.41,
          36.66,
          39.11,
          38.81,
          37.94,
          36.25,
          35.24,
          36.93,
          32.1,
          27.31,
          29.1,
          29.81,
          34.76,
          31.25,
          28.57,
          27.71,
          28.29,
          26.37,
          25.5,
          27.78,
          26.1
         ],
         "open": [
          3.804,
          3.904,
          3.75,
          3.897,
          4,
          4.546,
          4.268,
          4.413,
          4.684,
          4.852,
          4.668,
          4.74,
          4.309,
          4.335,
          4.447,
          4.385,
          4.478,
          4.665,
          4.794,
          4.682,
          5.928,
          5.782,
          5.773,
          6.393,
          6.506,
          5.931,
          6.141,
          5.995,
          6.279,
          6.097,
          5.825,
          6.076,
          5.949,
          6.125,
          6.264,
          6.224,
          6.164,
          6.689,
          7.011,
          6.586,
          6.621,
          6.476,
          6.513,
          6.764,
          6.83,
          6.675,
          6.579,
          6.35,
          5.552,
          5.928,
          6.047,
          5.443,
          5.493,
          5.341,
          5.584,
          5.478,
          5.368,
          5.299,
          5.399,
          5.185,
          4.984,
          4.48,
          4.349,
          4.527,
          4.271,
          3.82,
          4.131,
          3.654,
          3.824,
          4.078,
          3.938,
          4.044,
          4.22,
          3.984,
          3.711,
          3.892,
          3.79,
          3.888,
          3.614,
          3.613,
          3.594,
          3.59,
          3.649,
          3.535,
          3.652,
          3.693,
          3.592,
          3.773,
          3.572,
          3.494,
          3.27,
          3.147,
          3.343,
          3.554,
          3.341,
          3.253,
          2.865,
          2.895,
          2.89,
          2.91,
          2.972,
          2.891,
          2.876,
          2.672,
          2.712,
          2.711,
          2.694,
          2.62,
          2.622,
          2.568,
          2.326,
          2.16,
          2.152,
          2.018,
          2.123,
          2.122,
          2.149,
          2.041,
          1.944,
          2.032,
          2.162,
          2.722,
          2.735,
          2.581,
          2.575,
          3.078,
          3.171,
          3.103,
          3.43,
          3.329,
          3.288,
          3.289,
          3.128,
          3.19,
          3.071,
          2.901,
          2.565,
          2.215,
          2.282,
          2.214,
          2.281,
          2.273,
          2.195,
          2.653,
          2.533,
          2.604,
          2.583,
          2.565,
          2.771,
          2.636,
          2.894,
          2.889,
          2.902,
          2.891,
          2.815,
          2.822,
          2.87,
          3.086,
          2.928,
          2.831,
          2.917,
          2.748,
          2.745,
          2.902,
          2.974,
          2.867,
          2.682,
          2.819,
          3.045,
          3.088,
          3.196,
          3.111,
          3.149,
          3.016,
          3.263,
          3.264,
          3.419,
          3.378,
          3.614,
          3.757,
          3.836,
          3.877,
          3.81,
          3.959,
          4.189,
          4.354,
          4.23,
          3.977,
          4.006,
          3.926,
          3.967,
          3.888,
          3.606,
          3.519,
          3.334,
          3.196,
          2.94,
          3.219,
          3.094,
          3.39,
          3.471,
          3.573,
          3.68,
          4.007,
          3.925,
          3.824,
          3.664,
          3.636,
          3.555,
          3.489,
          3.66,
          3.754,
          3.921,
          3.672,
          3.587,
          3.837,
          4.109,
          3.967,
          4.251,
          4.495,
          4.057,
          3.641,
          4.266,
          4.266,
          4.305,
          4.058,
          4.258,
          4.306,
          4.387,
          4.265,
          4.563,
          4.507,
          4.393,
          4.253,
          4.16,
          4.217,
          4.382,
          4.091,
          4.238,
          4.248,
          4.207,
          4.111,
          4.087,
          3.995,
          4.244,
          4.273,
          4.264,
          4.255,
          4.248,
          4.526,
          4.568,
          5.098,
          5,
          4.625,
          4.516,
          4.502,
          4.64,
          4.662,
          4.464,
          4.485,
          4.38,
          4.48,
          4.515,
          4.596,
          4.401,
          4.415,
          4.398,
          4.379,
          4.403,
          4.264,
          4.22,
          4.33,
          4.586,
          4.812,
          4.629,
          4.757,
          4.773,
          5.108,
          5.1,
          4.912,
          5.119,
          4.608,
          4.382,
          4.28,
          4.441,
          4.146,
          4.461,
          4.953,
          5.017,
          4.802,
          4.387,
          4.051,
          3.641,
          3.696,
          3.549,
          3.443,
          3.343,
          3.709,
          3.623,
          3.747,
          3.759,
          3.859,
          3.618,
          3.083,
          3.026,
          3.065,
          2.996,
          1.616,
          1.804,
          1.837,
          1.924,
          1.672,
          1.763,
          1.814,
          2.068,
          2.17,
          2.169,
          1.916,
          2.108,
          2.144,
          2.082,
          2.173,
          1.989,
          1.973,
          1.852,
          1.955,
          1.95,
          1.971,
          1.98,
          1.978,
          2.023,
          2.065,
          2.406,
          2.345,
          2.493,
          2.571,
          2.308,
          2.303,
          2.296,
          2.26,
          2.358,
          2.27,
          2.419,
          2.369,
          2.51,
          2.381,
          2.271,
          2.27,
          2.39,
          2.424,
          2.748,
          2.869,
          2.808,
          2.767,
          2.795,
          2.93,
          2.733,
          2.828,
          2.873,
          2.777,
          2.761,
          2.708,
          2.627,
          2.728,
          2.805,
          2.75,
          2.508,
          2.393,
          2.485,
          2.54,
          2.531,
          2.473,
          2.555,
          2.544,
          2.6,
          2.617,
          2.705,
          2.513,
          2.65,
          2.592,
          2.492,
          2.612,
          2.583,
          2.606,
          2.671,
          2.678,
          2.817,
          2.728,
          2.862,
          2.758,
          2.908,
          3.109,
          3.092,
          3.056,
          3.022,
          3.157,
          3.117,
          3.117,
          2.765,
          2.862,
          2.874,
          2.756,
          2.705,
          2.729,
          2.703,
          2.642,
          2.6,
          2.623,
          2.599,
          2.688,
          2.776,
          2.684,
          2.624,
          2.623,
          2.429,
          2.507,
          2.644,
          2.592,
          2.659,
          2.661,
          2.688,
          2.781,
          2.933,
          3.018,
          3.244,
          3.549,
          3.792,
          4.053,
          3.921,
          4.028,
          3.873,
          3.954,
          4.052,
          4.081,
          4.14,
          4.362,
          4.202,
          3.881,
          4.004,
          4.008,
          3.967,
          3.824,
          3.92,
          3.811,
          3.593,
          3.748,
          3.634,
          3.711,
          3.795,
          4.084,
          3.906,
          3.82,
          4.019,
          4.15,
          4.181,
          4.014,
          4.432,
          5.273,
          5.47,
          4.916,
          5.905,
          6.083,
          6.101,
          6.077,
          6.246,
          5.901,
          5.825,
          5.649,
          6.299,
          5.611,
          6.411,
          8.535,
          8.211,
          8.377,
          7.707,
          7.291,
          7.563,
          7.27,
          7.622,
          7.205,
          7.224,
          6.642,
          4.901,
          5.468,
          4.91,
          5.177,
          5.054,
          4.954,
          5.317,
          5.325,
          5.345,
          5.603,
          5.317,
          5.377,
          4.864,
          5.119,
          5.067,
          4.961,
          4.942,
          4.663,
          4.084,
          4.205,
          3.844,
          4.483,
          4.791,
          4.603,
          4.727,
          4.826,
          5.304,
          5.374,
          5.132,
          4.907,
          5.008,
          5.319,
          5.369,
          4.734,
          4.874,
          5.042,
          5.152,
          5.541,
          6.079,
          5.971,
          6.012,
          5.727,
          5.768,
          5.405,
          5.462,
          5.763,
          5.504,
          5.027,
          5.233,
          5.449,
          5.365,
          5.543,
          5.289,
          5.14,
          5.136,
          4.801,
          4.631,
          4.619,
          4.613,
          4.741,
          4.599,
          4.479,
          4.391,
          4.503,
          4.879,
          4.62,
          4.805,
          5.159,
          5.088,
          5.03,
          5.029,
          5.215,
          5.044,
          4.971,
          5.079,
          5.284,
          5.11,
          5.098,
          5.269,
          5.923,
          5.486,
          5.812,
          5.966,
          5.902,
          5.33,
          5.363,
          5.438,
          5.431,
          5.568,
          5.256,
          5.505,
          5.5,
          5.046,
          5.262,
          5.214,
          5.1,
          4.735,
          4.803,
          4.657,
          4.71,
          5.06,
          5.198,
          5.229,
          5.291,
          5.487,
          5.354,
          5.33,
          5.286,
          5.031,
          5.03,
          4.944,
          4.395,
          4.961,
          4.908,
          4.811,
          4.843,
          5.387,
          5.624,
          5.424,
          6.468,
          5.859,
          5.416,
          5.831,
          6.044,
          6.201,
          6.689,
          6.266,
          5.929,
          6.544,
          6.411,
          5.717,
          5.711,
          6.243,
          6.482,
          7.888,
          9.032,
          8.545,
          9.546,
          8.9,
          8.903,
          7.178,
          7.983,
          8.338,
          8.246,
          7.74,
          7.726,
          6.96,
          8.044,
          7.978,
          8.052,
          8.145,
          9.29,
          8.893,
          9.303,
          9.158,
          12.191,
          12.087,
          13.822,
          14.169,
          15.052,
          14.97,
          17.63,
          21.071,
          20.244,
          19.117,
          22.511,
          25.096,
          23.83,
          23.087,
          22.898,
          21.632,
          21.573,
          21.11,
          20.08,
          19.441,
          17.775,
          18.852,
          19.141,
          17.632,
          18.682,
          18.837,
          21.431,
          18.855,
          18.665,
          18.91,
          19.471,
          19.38,
          21.1,
          19.61,
          19.333,
          18.549,
          19.368,
          18.443,
          19.839,
          21.014,
          20.9,
          22.108,
          22.186,
          20.911,
          20.508,
          19.198,
          18.708,
          17.423,
          17.095,
          18.929,
          18.706,
          19.329,
          20.27,
          19.968,
          19.081,
          19.482,
          20.312,
          20.034,
          21.53,
          21.45,
          21.643,
          19.566,
          20.543,
          21.396,
          21.006,
          23.372,
          22.002,
          23.822,
          27.078,
          27.799,
          25.46,
          24.32,
          21.388,
          19.196,
          21.251,
          19.57,
          18.725,
          20.497,
          18.462,
          18.69,
          22.079,
          23.058,
          22.929,
          22.222,
          22.7,
          23.798,
          23.086,
          22.967,
          20.975,
          24.876,
          25.533,
          28.651,
          29.493,
          28.712,
          25.357,
          26.898,
          22.947,
          23.494,
          25.86,
          24.495,
          24.249,
          21.072,
          22.84,
          13.795,
          16.918,
          13.57,
          12.246,
          11.649,
          14.541,
          13.916,
          15.277,
          14.536,
          12.702,
          12.064,
          12.548,
          13.947,
          13.744,
          14.873,
          16.667,
          15.071,
          14.851,
          15.131,
          13.46,
          13.573,
          13.94,
          12.833,
          11.941,
          11.625,
          12.531,
          13.315,
          12.951,
          13.419,
          13.623,
          12.46,
          11.854,
          11.983,
          9.517,
          8.992,
          9.605,
          10.386,
          9.066,
          9.59,
          10.08,
          10.899,
          11.638,
          12.045,
          11.036,
          11.795,
          11.804,
          12.312,
          13.541,
          13.143,
          12.945,
          11.92,
          13.183,
          14.429,
          14.078,
          12.982,
          12.087,
          11.749,
          11.468,
          11.149,
          11.02,
          10.981,
          9.984,
          9.449,
          10.476,
          11.378,
          11.449,
          11.428,
          11.442,
          11.38,
          11.697,
          11.591,
          11.799,
          12.123,
          12.6,
          12.319,
          12.476,
          12.128,
          12.813,
          13.034,
          13.603,
          14.012,
          13.14,
          13.645,
          14.101,
          14.552,
          14.063,
          15.21,
          15.56,
          15.912,
          15.786,
          16.007,
          17.932,
          18.71,
          18.923,
          22.152,
          21.85,
          21.811,
          19.538,
          20.048,
          17.92,
          20.43,
          21.33,
          21.2,
          22.16,
          22.9,
          25.42,
          24.16,
          24.1,
          24.4,
          25.71,
          25.09,
          21.09,
          20.71,
          26.82,
          29.4,
          27.33,
          34.91,
          35.8,
          34.19,
          34.12,
          37.07,
          33.46,
          40.78,
          44.28,
          33.98,
          30.42,
          39.71,
          41.52,
          42.56,
          39.45,
          39.81,
          37.2,
          33.7,
          33.88,
          36.21,
          37.86,
          38.63,
          38.76,
          36.79,
          36.76,
          35.15,
          36.69,
          35.03,
          35.16,
          32.4,
          32.02,
          33.49,
          34.55,
          33.83,
          33.09,
          33.14,
          32.45,
          31.87,
          34.99,
          35.94,
          34.33,
          34.06,
          35.7,
          34.27,
          35.31,
          42.99,
          36.76,
          38.01,
          39.54,
          37.28,
          37.26,
          37.3,
          37.1,
          38.49,
          37.51,
          36.77,
          36.22,
          35.73,
          36.62,
          35.83,
          32.05,
          32.92,
          32.05,
          32.51,
          31.92,
          31.45,
          28.28,
          29.43,
          26.65,
          28.12,
          29.44,
          30.89,
          32.16,
          32.05,
          29.62,
          29.77,
          27.06,
          26.73,
          27.39,
          28.09,
          27.52,
          26.66,
          28.37,
          32.79,
          28.15,
          24.57,
          24.33,
          24.3,
          25.32,
          22.46,
          22.54,
          24.41,
          24.5,
          21.74,
          21.81,
          22.34,
          21.83,
          21.21,
          23.16,
          22.15,
          21.53,
          23.63,
          27.38,
          28.37,
          26.91,
          29.67,
          32.13,
          29.71,
          26.62,
          27.94,
          30.16,
          32.41,
          36.35,
          35.53,
          39.23,
          42.11,
          38.65,
          40.08,
          38.57,
          35.85,
          34.97,
          37.87,
          38.68,
          40.21,
          37.6,
          40.42,
          39.1,
          43.66,
          39.13,
          38.24,
          37.02,
          38.98,
          34.6,
          29.28,
          34.6,
          36.03,
          35.88,
          32.37,
          30.08,
          29.47,
          29.08,
          27.18,
          28.06,
          28.84
         ],
         "type": "candlestick",
         "x": [
          0,
          1,
          2,
          3,
          4,
          5,
          6,
          7,
          8,
          9,
          10,
          11,
          12,
          13,
          14,
          15,
          16,
          17,
          18,
          19,
          20,
          21,
          22,
          23,
          24,
          25,
          26,
          27,
          28,
          29,
          30,
          31,
          32,
          33,
          34,
          35,
          36,
          37,
          38,
          39,
          40,
          41,
          42,
          43,
          44,
          45,
          46,
          47,
          48,
          49,
          50,
          51,
          52,
          53,
          54,
          55,
          56,
          57,
          58,
          59,
          60,
          61,
          62,
          63,
          64,
          65,
          66,
          67,
          68,
          69,
          70,
          71,
          72,
          73,
          74,
          75,
          76,
          77,
          78,
          79,
          80,
          81,
          82,
          83,
          84,
          85,
          86,
          87,
          88,
          89,
          90,
          91,
          92,
          93,
          94,
          95,
          96,
          97,
          98,
          99,
          100,
          101,
          102,
          103,
          104,
          105,
          106,
          107,
          108,
          109,
          110,
          111,
          112,
          113,
          114,
          115,
          116,
          117,
          118,
          119,
          120,
          121,
          122,
          123,
          124,
          125,
          126,
          127,
          128,
          129,
          130,
          131,
          132,
          133,
          134,
          135,
          136,
          137,
          138,
          139,
          140,
          141,
          142,
          143,
          144,
          145,
          146,
          147,
          148,
          149,
          150,
          151,
          152,
          153,
          154,
          155,
          156,
          157,
          158,
          159,
          160,
          161,
          162,
          163,
          164,
          165,
          166,
          167,
          168,
          169,
          170,
          171,
          172,
          173,
          174,
          175,
          176,
          177,
          178,
          179,
          180,
          181,
          182,
          183,
          184,
          185,
          186,
          187,
          188,
          189,
          190,
          191,
          192,
          193,
          194,
          195,
          196,
          197,
          198,
          199,
          200,
          201,
          202,
          203,
          204,
          205,
          206,
          207,
          208,
          209,
          210,
          211,
          212,
          213,
          214,
          215,
          216,
          217,
          218,
          219,
          220,
          221,
          222,
          223,
          224,
          225,
          226,
          227,
          228,
          229,
          230,
          231,
          232,
          233,
          234,
          235,
          236,
          237,
          238,
          239,
          240,
          241,
          242,
          243,
          244,
          245,
          246,
          247,
          248,
          249,
          250,
          251,
          252,
          253,
          254,
          255,
          256,
          257,
          258,
          259,
          260,
          261,
          262,
          263,
          264,
          265,
          266,
          267,
          268,
          269,
          270,
          271,
          272,
          273,
          274,
          275,
          276,
          277,
          278,
          279,
          280,
          281,
          282,
          283,
          284,
          285,
          286,
          287,
          288,
          289,
          290,
          291,
          292,
          293,
          294,
          295,
          296,
          297,
          298,
          299,
          300,
          301,
          302,
          303,
          304,
          305,
          306,
          307,
          308,
          309,
          310,
          311,
          312,
          313,
          314,
          315,
          316,
          317,
          318,
          319,
          320,
          321,
          322,
          323,
          324,
          325,
          326,
          327,
          328,
          329,
          330,
          331,
          332,
          333,
          334,
          335,
          336,
          337,
          338,
          339,
          340,
          341,
          342,
          343,
          344,
          345,
          346,
          347,
          348,
          349,
          350,
          351,
          352,
          353,
          354,
          355,
          356,
          357,
          358,
          359,
          360,
          361,
          362,
          363,
          364,
          365,
          366,
          367,
          368,
          369,
          370,
          371,
          372,
          373,
          374,
          375,
          376,
          377,
          378,
          379,
          380,
          381,
          382,
          383,
          384,
          385,
          386,
          387,
          388,
          389,
          390,
          391,
          392,
          393,
          394,
          395,
          396,
          397,
          398,
          399,
          400,
          401,
          402,
          403,
          404,
          405,
          406,
          407,
          408,
          409,
          410,
          411,
          412,
          413,
          414,
          415,
          416,
          417,
          418,
          419,
          420,
          421,
          422,
          423,
          424,
          425,
          426,
          427,
          428,
          429,
          430,
          431,
          432,
          433,
          434,
          435,
          436,
          437,
          438,
          439,
          440,
          441,
          442,
          443,
          444,
          445,
          446,
          447,
          448,
          449,
          450,
          451,
          452,
          453,
          454,
          455,
          456,
          457,
          458,
          459,
          460,
          461,
          462,
          463,
          464,
          465,
          466,
          467,
          468,
          469,
          470,
          471,
          472,
          473,
          474,
          475,
          476,
          477,
          478,
          479,
          480,
          481,
          482,
          483,
          484,
          485,
          486,
          487,
          488,
          489,
          490,
          491,
          492,
          493,
          494,
          495,
          496,
          497,
          498,
          499,
          500,
          501,
          502,
          503,
          504,
          505,
          506,
          507,
          508,
          509,
          510,
          511,
          512,
          513,
          514,
          515,
          516,
          517,
          518,
          519,
          520,
          521,
          522,
          523,
          524,
          525,
          526,
          527,
          528,
          529,
          530,
          531,
          532,
          533,
          534,
          535,
          536,
          537,
          538,
          539,
          540,
          541,
          542,
          543,
          544,
          545,
          546,
          547,
          548,
          549,
          550,
          551,
          552,
          553,
          554,
          555,
          556,
          557,
          558,
          559,
          560,
          561,
          562,
          563,
          564,
          565,
          566,
          567,
          568,
          569,
          570,
          571,
          572,
          573,
          574,
          575,
          576,
          577,
          578,
          579,
          580,
          581,
          582,
          583,
          584,
          585,
          586,
          587,
          588,
          589,
          590,
          591,
          592,
          593,
          594,
          595,
          596,
          597,
          598,
          599,
          600,
          601,
          602,
          603,
          604,
          605,
          606,
          607,
          608,
          609,
          610,
          611,
          612,
          613,
          614,
          615,
          616,
          617,
          618,
          619,
          620,
          621,
          622,
          623,
          624,
          625,
          626,
          627,
          628,
          629,
          630,
          631,
          632,
          633,
          634,
          635,
          636,
          637,
          638,
          639,
          640,
          641,
          642,
          643,
          644,
          645,
          646,
          647,
          648,
          649,
          650,
          651,
          652,
          653,
          654,
          655,
          656,
          657,
          658,
          659,
          660,
          661,
          662,
          663,
          664,
          665,
          666,
          667,
          668,
          669,
          670,
          671,
          672,
          673,
          674,
          675,
          676,
          677,
          678,
          679,
          680,
          681,
          682,
          683,
          684,
          685,
          686,
          687,
          688,
          689,
          690,
          691,
          692,
          693,
          694,
          695,
          696,
          697,
          698,
          699,
          700,
          701,
          702,
          703,
          704,
          705,
          706,
          707,
          708,
          709,
          710,
          711,
          712,
          713,
          714,
          715,
          716,
          717,
          718,
          719,
          720,
          721,
          722,
          723,
          724,
          725,
          726,
          727,
          728,
          729,
          730,
          731,
          732,
          733,
          734,
          735,
          736,
          737,
          738,
          739,
          740,
          741,
          742,
          743,
          744,
          745,
          746,
          747,
          748,
          749,
          750,
          751,
          752,
          753,
          754,
          755,
          756,
          757,
          758,
          759,
          760,
          761,
          762,
          763,
          764,
          765,
          766,
          767,
          768,
          769,
          770,
          771,
          772,
          773,
          774,
          775,
          776,
          777,
          778,
          779,
          780,
          781,
          782,
          783,
          784,
          785,
          786,
          787,
          788,
          789,
          790,
          791,
          792,
          793,
          794,
          795,
          796,
          797,
          798,
          799,
          800,
          801,
          802,
          803,
          804,
          805,
          806,
          807,
          808,
          809,
          810,
          811,
          812,
          813,
          814,
          815,
          816,
          817,
          818,
          819,
          820,
          821,
          822,
          823,
          824,
          825,
          826,
          827,
          828,
          829,
          830,
          831,
          832,
          833,
          834,
          835,
          836,
          837,
          838,
          839,
          840,
          841,
          842,
          843,
          844,
          845,
          846,
          847,
          848,
          849,
          850,
          851,
          852,
          853,
          854,
          855,
          856,
          857,
          858,
          859,
          860,
          861,
          862,
          863,
          864,
          865,
          866,
          867,
          868,
          869,
          870,
          871,
          872,
          873,
          874,
          875,
          876,
          877,
          878,
          879,
          880,
          881,
          882,
          883,
          884,
          885,
          886,
          887,
          888,
          889,
          890,
          891,
          892,
          893,
          894,
          895,
          896,
          897,
          898,
          899,
          900,
          901,
          902,
          903,
          904,
          905,
          906,
          907,
          908,
          909,
          910,
          911,
          912,
          913,
          914,
          915,
          916,
          917,
          918,
          919,
          920,
          921,
          922,
          923,
          924,
          925,
          926,
          927,
          928,
          929,
          930,
          931,
          932,
          933,
          934,
          935,
          936,
          937,
          938,
          939,
          940,
          941,
          942,
          943,
          944,
          945,
          946,
          947,
          948,
          949,
          950,
          951,
          952,
          953,
          954,
          955,
          956,
          957,
          958,
          959,
          960,
          961,
          962,
          963,
          964,
          965,
          966,
          967,
          968,
          969,
          970,
          971,
          972,
          973,
          974,
          975,
          976,
          977,
          978,
          979,
          980,
          981,
          982,
          983,
          984,
          985,
          986,
          987,
          988,
          989,
          990,
          991,
          992,
          993,
          994,
          995,
          996,
          997,
          998
         ]
        }
       ],
       "layout": {
        "shapes": [
         {
          "line": {
           "color": "MediumPurple",
           "width": 3
          },
          "type": "line",
          "x0": 12,
          "x1": 999,
          "y0": 4.115,
          "y1": 4.115
         },
         {
          "line": {
           "color": "MediumPurple",
           "width": 3
          },
          "type": "line",
          "x0": 25,
          "x1": 999,
          "y0": 5.62,
          "y1": 5.62
         },
         {
          "line": {
           "color": "MediumPurple",
           "width": 3
          },
          "type": "line",
          "x0": 47,
          "x1": 999,
          "y0": 5.36,
          "y1": 5.36
         },
         {
          "line": {
           "color": "MediumPurple",
           "width": 3
          },
          "type": "line",
          "x0": 52,
          "x1": 999,
          "y0": 5.123,
          "y1": 5.123
         },
         {
          "line": {
           "color": "MediumPurple",
           "width": 3
          },
          "type": "line",
          "x0": 66,
          "x1": 999,
          "y0": 3.475,
          "y1": 3.475
         },
         {
          "line": {
           "color": "MediumPurple",
           "width": 3
          },
          "type": "line",
          "x0": 89,
          "x1": 999,
          "y0": 2.989,
          "y1": 2.989
         },
         {
          "line": {
           "color": "MediumPurple",
           "width": 3
          },
          "type": "line",
          "x0": 96,
          "x1": 999,
          "y0": 2.804,
          "y1": 2.804
         },
         {
          "line": {
           "color": "MediumPurple",
           "width": 3
          },
          "type": "line",
          "x0": 112,
          "x1": 999,
          "y0": 1.978,
          "y1": 1.978
         },
         {
          "line": {
           "color": "MediumPurple",
           "width": 3
          },
          "type": "line",
          "x0": 117,
          "x1": 999,
          "y0": 1.83,
          "y1": 1.83
         },
         {
          "line": {
           "color": "MediumPurple",
           "width": 3
          },
          "type": "line",
          "x0": 172,
          "x1": 999,
          "y0": 2.95,
          "y1": 2.95
         },
         {
          "line": {
           "color": "MediumPurple",
           "width": 3
          },
          "type": "line",
          "x0": 187,
          "x1": 999,
          "y0": 3.777,
          "y1": 3.777
         },
         {
          "line": {
           "color": "MediumPurple",
           "width": 3
          },
          "type": "line",
          "x0": 195,
          "x1": 999,
          "y0": 2.608,
          "y1": 2.608
         },
         {
          "line": {
           "color": "MediumPurple",
           "width": 3
          },
          "type": "line",
          "x0": 213,
          "x1": 999,
          "y0": 3.506,
          "y1": 3.506
         },
         {
          "line": {
           "color": "MediumPurple",
           "width": 3
          },
          "type": "line",
          "x0": 220,
          "x1": 999,
          "y0": 3.536,
          "y1": 3.536
         },
         {
          "line": {
           "color": "MediumPurple",
           "width": 3
          },
          "type": "line",
          "x0": 247,
          "x1": 999,
          "y0": 4.102,
          "y1": 4.102
         },
         {
          "line": {
           "color": "MediumPurple",
           "width": 3
          },
          "type": "line",
          "x0": 253,
          "x1": 999,
          "y0": 4.36,
          "y1": 4.36
         },
         {
          "line": {
           "color": "MediumPurple",
           "width": 3
          },
          "type": "line",
          "x0": 258,
          "x1": 999,
          "y0": 4.344,
          "y1": 4.344
         },
         {
          "line": {
           "color": "MediumPurple",
           "width": 3
          },
          "type": "line",
          "x0": 282,
          "x1": 999,
          "y0": 3.89,
          "y1": 3.89
         },
         {
          "line": {
           "color": "MediumPurple",
           "width": 3
          },
          "type": "line",
          "x0": 292,
          "x1": 999,
          "y0": 3.346,
          "y1": 3.346
         },
         {
          "line": {
           "color": "MediumPurple",
           "width": 3
          },
          "type": "line",
          "x0": 307,
          "x1": 999,
          "y0": 1.061,
          "y1": 1.061
         },
         {
          "line": {
           "color": "MediumPurple",
           "width": 3
          },
          "type": "line",
          "x0": 323,
          "x1": 999,
          "y0": 1.844,
          "y1": 1.844
         },
         {
          "line": {
           "color": "MediumPurple",
           "width": 3
          },
          "type": "line",
          "x0": 346,
          "x1": 999,
          "y0": 2.254,
          "y1": 2.254
         },
         {
          "line": {
           "color": "MediumPurple",
           "width": 3
          },
          "type": "line",
          "x0": 362,
          "x1": 999,
          "y0": 2.6,
          "y1": 2.6
         },
         {
          "line": {
           "color": "MediumPurple",
           "width": 3
          },
          "type": "line",
          "x0": 366,
          "x1": 999,
          "y0": 2.267,
          "y1": 2.267
         },
         {
          "line": {
           "color": "MediumPurple",
           "width": 3
          },
          "type": "line",
          "x0": 376,
          "x1": 999,
          "y0": 2.446,
          "y1": 2.446
         },
         {
          "line": {
           "color": "MediumPurple",
           "width": 3
          },
          "type": "line",
          "x0": 380,
          "x1": 999,
          "y0": 2.458,
          "y1": 2.458
         },
         {
          "line": {
           "color": "MediumPurple",
           "width": 3
          },
          "type": "line",
          "x0": 397,
          "x1": 999,
          "y0": 2.72,
          "y1": 2.72
         },
         {
          "line": {
           "color": "MediumPurple",
           "width": 3
          },
          "type": "line",
          "x0": 406,
          "x1": 999,
          "y0": 2.542,
          "y1": 2.542
         },
         {
          "line": {
           "color": "MediumPurple",
           "width": 3
          },
          "type": "line",
          "x0": 413,
          "x1": 999,
          "y0": 2.288,
          "y1": 2.288
         },
         {
          "line": {
           "color": "MediumPurple",
           "width": 3
          },
          "type": "line",
          "x0": 437,
          "x1": 999,
          "y0": 3.774,
          "y1": 3.774
         },
         {
          "line": {
           "color": "MediumPurple",
           "width": 3
          },
          "type": "line",
          "x0": 443,
          "x1": 999,
          "y0": 3.288,
          "y1": 3.288
         },
         {
          "line": {
           "color": "MediumPurple",
           "width": 3
          },
          "type": "line",
          "x0": 466,
          "x1": 999,
          "y0": 5.3,
          "y1": 5.3
         },
         {
          "line": {
           "color": "MediumPurple",
           "width": 3
          },
          "type": "line",
          "x0": 474,
          "x1": 999,
          "y0": 6.894,
          "y1": 6.894
         },
         {
          "line": {
           "color": "MediumPurple",
           "width": 3
          },
          "type": "line",
          "x0": 484,
          "x1": 999,
          "y0": 4.455,
          "y1": 4.455
         },
         {
          "line": {
           "color": "MediumPurple",
           "width": 3
          },
          "type": "line",
          "x0": 502,
          "x1": 999,
          "y0": 3.78,
          "y1": 3.78
         },
         {
          "line": {
           "color": "MediumPurple",
           "width": 3
          },
          "type": "line",
          "x0": 515,
          "x1": 999,
          "y0": 4.549,
          "y1": 4.549
         },
         {
          "line": {
           "color": "MediumPurple",
           "width": 3
          },
          "type": "line",
          "x0": 525,
          "x1": 999,
          "y0": 5.286,
          "y1": 5.286
         },
         {
          "line": {
           "color": "MediumPurple",
           "width": 3
          },
          "type": "line",
          "x0": 543,
          "x1": 999,
          "y0": 4.206,
          "y1": 4.206
         },
         {
          "line": {
           "color": "MediumPurple",
           "width": 3
          },
          "type": "line",
          "x0": 554,
          "x1": 999,
          "y0": 4.856,
          "y1": 4.856
         },
         {
          "line": {
           "color": "MediumPurple",
           "width": 3
          },
          "type": "line",
          "x0": 592,
          "x1": 999,
          "y0": 4.2,
          "y1": 4.2
         },
         {
          "line": {
           "color": "MediumPurple",
           "width": 3
          },
          "type": "line",
          "x0": 596,
          "x1": 999,
          "y0": 4.571,
          "y1": 4.571
         },
         {
          "line": {
           "color": "MediumPurple",
           "width": 3
          },
          "type": "line",
          "x0": 627,
          "x1": 999,
          "y0": 6.763,
          "y1": 6.763
         },
         {
          "line": {
           "color": "MediumPurple",
           "width": 3
          },
          "type": "line",
          "x0": 646,
          "x1": 999,
          "y0": 14.816,
          "y1": 14.816
         },
         {
          "line": {
           "color": "MediumPurple",
           "width": 3
          },
          "type": "line",
          "x0": 664,
          "x1": 999,
          "y0": 17.725,
          "y1": 17.725
         },
         {
          "line": {
           "color": "MediumPurple",
           "width": 3
          },
          "type": "line",
          "x0": 671,
          "x1": 999,
          "y0": 17.68,
          "y1": 17.68
         },
         {
          "line": {
           "color": "MediumPurple",
           "width": 3
          },
          "type": "line",
          "x0": 683,
          "x1": 999,
          "y0": 16.444,
          "y1": 16.444
         },
         {
          "line": {
           "color": "MediumPurple",
           "width": 3
          },
          "type": "line",
          "x0": 725,
          "x1": 999,
          "y0": 20.582,
          "y1": 20.582
         },
         {
          "line": {
           "color": "MediumPurple",
           "width": 3
          },
          "type": "line",
          "x0": 733,
          "x1": 999,
          "y0": 21.814,
          "y1": 21.814
         },
         {
          "line": {
           "color": "MediumPurple",
           "width": 3
          },
          "type": "line",
          "x0": 750,
          "x1": 999,
          "y0": 11.264,
          "y1": 11.264
         },
         {
          "line": {
           "color": "MediumPurple",
           "width": 3
          },
          "type": "line",
          "x0": 763,
          "x1": 999,
          "y0": 10.914,
          "y1": 10.914
         },
         {
          "line": {
           "color": "MediumPurple",
           "width": 3
          },
          "type": "line",
          "x0": 773,
          "x1": 999,
          "y0": 7.83,
          "y1": 7.83
         },
         {
          "line": {
           "color": "MediumPurple",
           "width": 3
          },
          "type": "line",
          "x0": 777,
          "x1": 999,
          "y0": 8.647,
          "y1": 8.647
         },
         {
          "line": {
           "color": "MediumPurple",
           "width": 3
          },
          "type": "line",
          "x0": 790,
          "x1": 999,
          "y0": 11.411,
          "y1": 11.411
         },
         {
          "line": {
           "color": "MediumPurple",
           "width": 3
          },
          "type": "line",
          "x0": 801,
          "x1": 999,
          "y0": 8.93,
          "y1": 8.93
         },
         {
          "line": {
           "color": "MediumPurple",
           "width": 3
          },
          "type": "line",
          "x0": 815,
          "x1": 999,
          "y0": 11.731,
          "y1": 11.731
         },
         {
          "line": {
           "color": "MediumPurple",
           "width": 3
          },
          "type": "line",
          "x0": 821,
          "x1": 999,
          "y0": 12.653,
          "y1": 12.653
         },
         {
          "line": {
           "color": "MediumPurple",
           "width": 3
          },
          "type": "line",
          "x0": 830,
          "x1": 999,
          "y0": 14.985,
          "y1": 14.985
         },
         {
          "line": {
           "color": "MediumPurple",
           "width": 3
          },
          "type": "line",
          "x0": 839,
          "x1": 999,
          "y0": 17.25,
          "y1": 17.25
         },
         {
          "line": {
           "color": "MediumPurple",
           "width": 3
          },
          "type": "line",
          "x0": 850,
          "x1": 999,
          "y0": 17.55,
          "y1": 17.55
         },
         {
          "line": {
           "color": "MediumPurple",
           "width": 3
          },
          "type": "line",
          "x0": 859,
          "x1": 999,
          "y0": 31.2,
          "y1": 31.2
         },
         {
          "line": {
           "color": "MediumPurple",
           "width": 3
          },
          "type": "line",
          "x0": 864,
          "x1": 999,
          "y0": 28.83,
          "y1": 28.83
         },
         {
          "line": {
           "color": "MediumPurple",
           "width": 3
          },
          "type": "line",
          "x0": 872,
          "x1": 999,
          "y0": 32.74,
          "y1": 32.74
         },
         {
          "line": {
           "color": "MediumPurple",
           "width": 3
          },
          "type": "line",
          "x0": 879,
          "x1": 999,
          "y0": 33,
          "y1": 33
         },
         {
          "line": {
           "color": "MediumPurple",
           "width": 3
          },
          "type": "line",
          "x0": 885,
          "x1": 999,
          "y0": 29.9,
          "y1": 29.9
         },
         {
          "line": {
           "color": "MediumPurple",
           "width": 3
          },
          "type": "line",
          "x0": 922,
          "x1": 999,
          "y0": 25.29,
          "y1": 25.29
         },
         {
          "line": {
           "color": "MediumPurple",
           "width": 3
          },
          "type": "line",
          "x0": 944,
          "x1": 999,
          "y0": 21.85,
          "y1": 21.85
         },
         {
          "line": {
           "color": "MediumPurple",
           "width": 3
          },
          "type": "line",
          "x0": 963,
          "x1": 999,
          "y0": 25.1,
          "y1": 25.1
         },
         {
          "line": {
           "color": "MediumPurple",
           "width": 3
          },
          "type": "line",
          "x0": 987,
          "x1": 999,
          "y0": 27.31,
          "y1": 27.31
         },
         {
          "line": {
           "color": "RoyalBlue",
           "width": 1
          },
          "type": "line",
          "x0": 23,
          "x1": 999,
          "y0": 7.249,
          "y1": 7.249
         },
         {
          "line": {
           "color": "RoyalBlue",
           "width": 1
          },
          "type": "line",
          "x0": 33,
          "x1": 999,
          "y0": 6.506,
          "y1": 6.506
         },
         {
          "line": {
           "color": "RoyalBlue",
           "width": 1
          },
          "type": "line",
          "x0": 37,
          "x1": 999,
          "y0": 7.1,
          "y1": 7.1
         },
         {
          "line": {
           "color": "RoyalBlue",
           "width": 1
          },
          "type": "line",
          "x0": 43,
          "x1": 999,
          "y0": 7.193,
          "y1": 7.193
         },
         {
          "line": {
           "color": "RoyalBlue",
           "width": 1
          },
          "type": "line",
          "x0": 93,
          "x1": 999,
          "y0": 3.656,
          "y1": 3.656
         },
         {
          "line": {
           "color": "RoyalBlue",
           "width": 1
          },
          "type": "line",
          "x0": 121,
          "x1": 999,
          "y0": 2.96,
          "y1": 2.96
         },
         {
          "line": {
           "color": "RoyalBlue",
           "width": 1
          },
          "type": "line",
          "x0": 150,
          "x1": 999,
          "y0": 3.071,
          "y1": 3.071
         },
         {
          "line": {
           "color": "RoyalBlue",
           "width": 1
          },
          "type": "line",
          "x0": 157,
          "x1": 999,
          "y0": 3.159,
          "y1": 3.159
         },
         {
          "line": {
           "color": "RoyalBlue",
           "width": 1
          },
          "type": "line",
          "x0": 184,
          "x1": 999,
          "y0": 4.381,
          "y1": 4.381
         },
         {
          "line": {
           "color": "RoyalBlue",
           "width": 1
          },
          "type": "line",
          "x0": 211,
          "x1": 999,
          "y0": 3.997,
          "y1": 3.997
         },
         {
          "line": {
           "color": "RoyalBlue",
           "width": 1
          },
          "type": "line",
          "x0": 218,
          "x1": 999,
          "y0": 4.668,
          "y1": 4.668
         },
         {
          "line": {
           "color": "RoyalBlue",
           "width": 1
          },
          "type": "line",
          "x0": 230,
          "x1": 999,
          "y0": 4.79,
          "y1": 4.79
         },
         {
          "line": {
           "color": "RoyalBlue",
           "width": 1
          },
          "type": "line",
          "x0": 244,
          "x1": 999,
          "y0": 4.435,
          "y1": 4.435
         },
         {
          "line": {
           "color": "RoyalBlue",
           "width": 1
          },
          "type": "line",
          "x0": 250,
          "x1": 999,
          "y0": 5.423,
          "y1": 5.423
         },
         {
          "line": {
           "color": "RoyalBlue",
           "width": 1
          },
          "type": "line",
          "x0": 261,
          "x1": 999,
          "y0": 4.672,
          "y1": 4.672
         },
         {
          "line": {
           "color": "RoyalBlue",
           "width": 1
          },
          "type": "line",
          "x0": 272,
          "x1": 999,
          "y0": 4.938,
          "y1": 4.938
         },
         {
          "line": {
           "color": "RoyalBlue",
           "width": 1
          },
          "type": "line",
          "x0": 277,
          "x1": 999,
          "y0": 5.327,
          "y1": 5.327
         },
         {
          "line": {
           "color": "RoyalBlue",
           "width": 1
          },
          "type": "line",
          "x0": 287,
          "x1": 999,
          "y0": 5.105,
          "y1": 5.105
         },
         {
          "line": {
           "color": "RoyalBlue",
           "width": 1
          },
          "type": "line",
          "x0": 299,
          "x1": 999,
          "y0": 3.936,
          "y1": 3.936
         },
         {
          "line": {
           "color": "RoyalBlue",
           "width": 1
          },
          "type": "line",
          "x0": 309,
          "x1": 999,
          "y0": 2.089,
          "y1": 2.089
         },
         {
          "line": {
           "color": "RoyalBlue",
           "width": 1
          },
          "type": "line",
          "x0": 314,
          "x1": 999,
          "y0": 2.485,
          "y1": 2.485
         },
         {
          "line": {
           "color": "RoyalBlue",
           "width": 1
          },
          "type": "line",
          "x0": 334,
          "x1": 999,
          "y0": 2.626,
          "y1": 2.626
         },
         {
          "line": {
           "color": "RoyalBlue",
           "width": 1
          },
          "type": "line",
          "x0": 344,
          "x1": 999,
          "y0": 2.543,
          "y1": 2.543
         },
         {
          "line": {
           "color": "RoyalBlue",
           "width": 1
          },
          "type": "line",
          "x0": 350,
          "x1": 999,
          "y0": 2.962,
          "y1": 2.962
         },
         {
          "line": {
           "color": "RoyalBlue",
           "width": 1
          },
          "type": "line",
          "x0": 355,
          "x1": 999,
          "y0": 3.077,
          "y1": 3.077
         },
         {
          "line": {
           "color": "RoyalBlue",
           "width": 1
          },
          "type": "line",
          "x0": 363,
          "x1": 999,
          "y0": 2.855,
          "y1": 2.855
         },
         {
          "line": {
           "color": "RoyalBlue",
           "width": 1
          },
          "type": "line",
          "x0": 364,
          "x1": 999,
          "y0": 2.855,
          "y1": 2.855
         },
         {
          "line": {
           "color": "RoyalBlue",
           "width": 1
          },
          "type": "line",
          "x0": 376,
          "x1": 999,
          "y0": 2.734,
          "y1": 2.734
         },
         {
          "line": {
           "color": "RoyalBlue",
           "width": 1
          },
          "type": "line",
          "x0": 391,
          "x1": 999,
          "y0": 3.2,
          "y1": 3.2
         },
         {
          "line": {
           "color": "RoyalBlue",
           "width": 1
          },
          "type": "line",
          "x0": 410,
          "x1": 999,
          "y0": 2.881,
          "y1": 2.881
         },
         {
          "line": {
           "color": "RoyalBlue",
           "width": 1
          },
          "type": "line",
          "x0": 435,
          "x1": 999,
          "y0": 4.52,
          "y1": 4.52
         },
         {
          "line": {
           "color": "RoyalBlue",
           "width": 1
          },
          "type": "line",
          "x0": 439,
          "x1": 999,
          "y0": 4.1,
          "y1": 4.1
         },
         {
          "line": {
           "color": "RoyalBlue",
           "width": 1
          },
          "type": "line",
          "x0": 449,
          "x1": 999,
          "y0": 4.235,
          "y1": 4.235
         },
         {
          "line": {
           "color": "RoyalBlue",
           "width": 1
          },
          "type": "line",
          "x0": 491,
          "x1": 999,
          "y0": 5.857,
          "y1": 5.857
         },
         {
          "line": {
           "color": "RoyalBlue",
           "width": 1
          },
          "type": "line",
          "x0": 509,
          "x1": 999,
          "y0": 5.596,
          "y1": 5.596
         },
         {
          "line": {
           "color": "RoyalBlue",
           "width": 1
          },
          "type": "line",
          "x0": 513,
          "x1": 999,
          "y0": 5.4,
          "y1": 5.4
         },
         {
          "line": {
           "color": "RoyalBlue",
           "width": 1
          },
          "type": "line",
          "x0": 519,
          "x1": 999,
          "y0": 6.269,
          "y1": 6.269
         },
         {
          "line": {
           "color": "RoyalBlue",
           "width": 1
          },
          "type": "line",
          "x0": 533,
          "x1": 999,
          "y0": 5.65,
          "y1": 5.65
         },
         {
          "line": {
           "color": "RoyalBlue",
           "width": 1
          },
          "type": "line",
          "x0": 541,
          "x1": 999,
          "y0": 4.873,
          "y1": 4.873
         },
         {
          "line": {
           "color": "RoyalBlue",
           "width": 1
          },
          "type": "line",
          "x0": 556,
          "x1": 999,
          "y0": 5.37,
          "y1": 5.37
         },
         {
          "line": {
           "color": "RoyalBlue",
           "width": 1
          },
          "type": "line",
          "x0": 564,
          "x1": 999,
          "y0": 6.47,
          "y1": 6.47
         },
         {
          "line": {
           "color": "RoyalBlue",
           "width": 1
          },
          "type": "line",
          "x0": 586,
          "x1": 999,
          "y0": 5.73,
          "y1": 5.73
         },
         {
          "line": {
           "color": "RoyalBlue",
           "width": 1
          },
          "type": "line",
          "x0": 606,
          "x1": 999,
          "y0": 6.954,
          "y1": 6.954
         },
         {
          "line": {
           "color": "RoyalBlue",
           "width": 1
          },
          "type": "line",
          "x0": 610,
          "x1": 999,
          "y0": 7.142,
          "y1": 7.142
         },
         {
          "line": {
           "color": "RoyalBlue",
           "width": 1
          },
          "type": "line",
          "x0": 619,
          "x1": 999,
          "y0": 10.2,
          "y1": 10.2
         },
         {
          "line": {
           "color": "RoyalBlue",
           "width": 1
          },
          "type": "line",
          "x0": 624,
          "x1": 999,
          "y0": 8.792,
          "y1": 8.792
         },
         {
          "line": {
           "color": "RoyalBlue",
           "width": 1
          },
          "type": "line",
          "x0": 628,
          "x1": 999,
          "y0": 8.55,
          "y1": 8.55
         },
         {
          "line": {
           "color": "RoyalBlue",
           "width": 1
          },
          "type": "line",
          "x0": 643,
          "x1": 999,
          "y0": 22.157,
          "y1": 22.157
         },
         {
          "line": {
           "color": "RoyalBlue",
           "width": 1
          },
          "type": "line",
          "x0": 647,
          "x1": 999,
          "y0": 26.55,
          "y1": 26.55
         },
         {
          "line": {
           "color": "RoyalBlue",
           "width": 1
          },
          "type": "line",
          "x0": 662,
          "x1": 999,
          "y0": 22,
          "y1": 22
         },
         {
          "line": {
           "color": "RoyalBlue",
           "width": 1
          },
          "type": "line",
          "x0": 669,
          "x1": 999,
          "y0": 21.378,
          "y1": 21.378
         },
         {
          "line": {
           "color": "RoyalBlue",
           "width": 1
          },
          "type": "line",
          "x0": 688,
          "x1": 999,
          "y0": 20.989,
          "y1": 20.989
         },
         {
          "line": {
           "color": "RoyalBlue",
           "width": 1
          },
          "type": "line",
          "x0": 696,
          "x1": 999,
          "y0": 23.211,
          "y1": 23.211
         },
         {
          "line": {
           "color": "RoyalBlue",
           "width": 1
          },
          "type": "line",
          "x0": 705,
          "x1": 999,
          "y0": 28.53,
          "y1": 28.53
         },
         {
          "line": {
           "color": "RoyalBlue",
           "width": 1
          },
          "type": "line",
          "x0": 721,
          "x1": 999,
          "y0": 24.488,
          "y1": 24.488
         },
         {
          "line": {
           "color": "RoyalBlue",
           "width": 1
          },
          "type": "line",
          "x0": 727,
          "x1": 999,
          "y0": 32.324,
          "y1": 32.324
         },
         {
          "line": {
           "color": "RoyalBlue",
           "width": 1
          },
          "type": "line",
          "x0": 735,
          "x1": 999,
          "y0": 28.749,
          "y1": 28.749
         },
         {
          "line": {
           "color": "RoyalBlue",
           "width": 1
          },
          "type": "line",
          "x0": 746,
          "x1": 999,
          "y0": 15.667,
          "y1": 15.667
         },
         {
          "line": {
           "color": "RoyalBlue",
           "width": 1
          },
          "type": "line",
          "x0": 754,
          "x1": 999,
          "y0": 17.2,
          "y1": 17.2
         },
         {
          "line": {
           "color": "RoyalBlue",
           "width": 1
          },
          "type": "line",
          "x0": 761,
          "x1": 999,
          "y0": 14.055,
          "y1": 14.055
         },
         {
          "line": {
           "color": "RoyalBlue",
           "width": 1
          },
          "type": "line",
          "x0": 787,
          "x1": 999,
          "y0": 14.049,
          "y1": 14.049
         },
         {
          "line": {
           "color": "RoyalBlue",
           "width": 1
          },
          "type": "line",
          "x0": 792,
          "x1": 999,
          "y0": 14.8,
          "y1": 14.8
         },
         {
          "line": {
           "color": "RoyalBlue",
           "width": 1
          },
          "type": "line",
          "x0": 813,
          "x1": 999,
          "y0": 13.444,
          "y1": 13.444
         },
         {
          "line": {
           "color": "RoyalBlue",
           "width": 1
          },
          "type": "line",
          "x0": 819,
          "x1": 999,
          "y0": 14.356,
          "y1": 14.356
         },
         {
          "line": {
           "color": "RoyalBlue",
           "width": 1
          },
          "type": "line",
          "x0": 834,
          "x1": 999,
          "y0": 24.743,
          "y1": 24.743
         },
         {
          "line": {
           "color": "RoyalBlue",
           "width": 1
          },
          "type": "line",
          "x0": 843,
          "x1": 999,
          "y0": 26.3,
          "y1": 26.3
         },
         {
          "line": {
           "color": "RoyalBlue",
           "width": 1
          },
          "type": "line",
          "x0": 856,
          "x1": 999,
          "y0": 38.95,
          "y1": 38.95
         },
         {
          "line": {
           "color": "RoyalBlue",
           "width": 1
          },
          "type": "line",
          "x0": 867,
          "x1": 999,
          "y0": 44.3,
          "y1": 44.3
         },
         {
          "line": {
           "color": "RoyalBlue",
           "width": 1
          },
          "type": "line",
          "x0": 875,
          "x1": 999,
          "y0": 41.64,
          "y1": 41.64
         },
         {
          "line": {
           "color": "RoyalBlue",
           "width": 1
          },
          "type": "line",
          "x0": 893,
          "x1": 999,
          "y0": 36.9,
          "y1": 36.9
         },
         {
          "line": {
           "color": "RoyalBlue",
           "width": 1
          },
          "type": "line",
          "x0": 908,
          "x1": 999,
          "y0": 39.22,
          "y1": 39.22
         },
         {
          "line": {
           "color": "RoyalBlue",
           "width": 1
          },
          "type": "line",
          "x0": 913,
          "x1": 999,
          "y0": 37.98,
          "y1": 37.98
         },
         {
          "line": {
           "color": "RoyalBlue",
           "width": 1
          },
          "type": "line",
          "x0": 919,
          "x1": 999,
          "y0": 34.15,
          "y1": 34.15
         },
         {
          "line": {
           "color": "RoyalBlue",
           "width": 1
          },
          "type": "line",
          "x0": 926,
          "x1": 999,
          "y0": 33.8,
          "y1": 33.8
         },
         {
          "line": {
           "color": "RoyalBlue",
           "width": 1
          },
          "type": "line",
          "x0": 937,
          "x1": 999,
          "y0": 33.6,
          "y1": 33.6
         },
         {
          "line": {
           "color": "RoyalBlue",
           "width": 1
          },
          "type": "line",
          "x0": 942,
          "x1": 999,
          "y0": 26,
          "y1": 26
         },
         {
          "line": {
           "color": "RoyalBlue",
           "width": 1
          },
          "type": "line",
          "x0": 946,
          "x1": 999,
          "y0": 25.22,
          "y1": 25.22
         },
         {
          "line": {
           "color": "RoyalBlue",
           "width": 1
          },
          "type": "line",
          "x0": 961,
          "x1": 999,
          "y0": 32.7,
          "y1": 32.7
         },
         {
          "line": {
           "color": "RoyalBlue",
           "width": 1
          },
          "type": "line",
          "x0": 969,
          "x1": 999,
          "y0": 43.95,
          "y1": 43.95
         },
         {
          "line": {
           "color": "RoyalBlue",
           "width": 1
          },
          "type": "line",
          "x0": 977,
          "x1": 999,
          "y0": 42.33,
          "y1": 42.33
         },
         {
          "line": {
           "color": "RoyalBlue",
           "width": 1
          },
          "type": "line",
          "x0": 982,
          "x1": 999,
          "y0": 44.56,
          "y1": 44.56
         },
         {
          "line": {
           "color": "RoyalBlue",
           "width": 1
          },
          "type": "line",
          "x0": 990,
          "x1": 999,
          "y0": 37.19,
          "y1": 37.19
         }
        ],
        "template": {
         "data": {
          "bar": [
           {
            "error_x": {
             "color": "#2a3f5f"
            },
            "error_y": {
             "color": "#2a3f5f"
            },
            "marker": {
             "line": {
              "color": "#E5ECF6",
              "width": 0.5
             },
             "pattern": {
              "fillmode": "overlay",
              "size": 10,
              "solidity": 0.2
             }
            },
            "type": "bar"
           }
          ],
          "barpolar": [
           {
            "marker": {
             "line": {
              "color": "#E5ECF6",
              "width": 0.5
             },
             "pattern": {
              "fillmode": "overlay",
              "size": 10,
              "solidity": 0.2
             }
            },
            "type": "barpolar"
           }
          ],
          "carpet": [
           {
            "aaxis": {
             "endlinecolor": "#2a3f5f",
             "gridcolor": "white",
             "linecolor": "white",
             "minorgridcolor": "white",
             "startlinecolor": "#2a3f5f"
            },
            "baxis": {
             "endlinecolor": "#2a3f5f",
             "gridcolor": "white",
             "linecolor": "white",
             "minorgridcolor": "white",
             "startlinecolor": "#2a3f5f"
            },
            "type": "carpet"
           }
          ],
          "choropleth": [
           {
            "colorbar": {
             "outlinewidth": 0,
             "ticks": ""
            },
            "type": "choropleth"
           }
          ],
          "contour": [
           {
            "colorbar": {
             "outlinewidth": 0,
             "ticks": ""
            },
            "colorscale": [
             [
              0,
              "#0d0887"
             ],
             [
              0.1111111111111111,
              "#46039f"
             ],
             [
              0.2222222222222222,
              "#7201a8"
             ],
             [
              0.3333333333333333,
              "#9c179e"
             ],
             [
              0.4444444444444444,
              "#bd3786"
             ],
             [
              0.5555555555555556,
              "#d8576b"
             ],
             [
              0.6666666666666666,
              "#ed7953"
             ],
             [
              0.7777777777777778,
              "#fb9f3a"
             ],
             [
              0.8888888888888888,
              "#fdca26"
             ],
             [
              1,
              "#f0f921"
             ]
            ],
            "type": "contour"
           }
          ],
          "contourcarpet": [
           {
            "colorbar": {
             "outlinewidth": 0,
             "ticks": ""
            },
            "type": "contourcarpet"
           }
          ],
          "heatmap": [
           {
            "colorbar": {
             "outlinewidth": 0,
             "ticks": ""
            },
            "colorscale": [
             [
              0,
              "#0d0887"
             ],
             [
              0.1111111111111111,
              "#46039f"
             ],
             [
              0.2222222222222222,
              "#7201a8"
             ],
             [
              0.3333333333333333,
              "#9c179e"
             ],
             [
              0.4444444444444444,
              "#bd3786"
             ],
             [
              0.5555555555555556,
              "#d8576b"
             ],
             [
              0.6666666666666666,
              "#ed7953"
             ],
             [
              0.7777777777777778,
              "#fb9f3a"
             ],
             [
              0.8888888888888888,
              "#fdca26"
             ],
             [
              1,
              "#f0f921"
             ]
            ],
            "type": "heatmap"
           }
          ],
          "heatmapgl": [
           {
            "colorbar": {
             "outlinewidth": 0,
             "ticks": ""
            },
            "colorscale": [
             [
              0,
              "#0d0887"
             ],
             [
              0.1111111111111111,
              "#46039f"
             ],
             [
              0.2222222222222222,
              "#7201a8"
             ],
             [
              0.3333333333333333,
              "#9c179e"
             ],
             [
              0.4444444444444444,
              "#bd3786"
             ],
             [
              0.5555555555555556,
              "#d8576b"
             ],
             [
              0.6666666666666666,
              "#ed7953"
             ],
             [
              0.7777777777777778,
              "#fb9f3a"
             ],
             [
              0.8888888888888888,
              "#fdca26"
             ],
             [
              1,
              "#f0f921"
             ]
            ],
            "type": "heatmapgl"
           }
          ],
          "histogram": [
           {
            "marker": {
             "pattern": {
              "fillmode": "overlay",
              "size": 10,
              "solidity": 0.2
             }
            },
            "type": "histogram"
           }
          ],
          "histogram2d": [
           {
            "colorbar": {
             "outlinewidth": 0,
             "ticks": ""
            },
            "colorscale": [
             [
              0,
              "#0d0887"
             ],
             [
              0.1111111111111111,
              "#46039f"
             ],
             [
              0.2222222222222222,
              "#7201a8"
             ],
             [
              0.3333333333333333,
              "#9c179e"
             ],
             [
              0.4444444444444444,
              "#bd3786"
             ],
             [
              0.5555555555555556,
              "#d8576b"
             ],
             [
              0.6666666666666666,
              "#ed7953"
             ],
             [
              0.7777777777777778,
              "#fb9f3a"
             ],
             [
              0.8888888888888888,
              "#fdca26"
             ],
             [
              1,
              "#f0f921"
             ]
            ],
            "type": "histogram2d"
           }
          ],
          "histogram2dcontour": [
           {
            "colorbar": {
             "outlinewidth": 0,
             "ticks": ""
            },
            "colorscale": [
             [
              0,
              "#0d0887"
             ],
             [
              0.1111111111111111,
              "#46039f"
             ],
             [
              0.2222222222222222,
              "#7201a8"
             ],
             [
              0.3333333333333333,
              "#9c179e"
             ],
             [
              0.4444444444444444,
              "#bd3786"
             ],
             [
              0.5555555555555556,
              "#d8576b"
             ],
             [
              0.6666666666666666,
              "#ed7953"
             ],
             [
              0.7777777777777778,
              "#fb9f3a"
             ],
             [
              0.8888888888888888,
              "#fdca26"
             ],
             [
              1,
              "#f0f921"
             ]
            ],
            "type": "histogram2dcontour"
           }
          ],
          "mesh3d": [
           {
            "colorbar": {
             "outlinewidth": 0,
             "ticks": ""
            },
            "type": "mesh3d"
           }
          ],
          "parcoords": [
           {
            "line": {
             "colorbar": {
              "outlinewidth": 0,
              "ticks": ""
             }
            },
            "type": "parcoords"
           }
          ],
          "pie": [
           {
            "automargin": true,
            "type": "pie"
           }
          ],
          "scatter": [
           {
            "marker": {
             "colorbar": {
              "outlinewidth": 0,
              "ticks": ""
             }
            },
            "type": "scatter"
           }
          ],
          "scatter3d": [
           {
            "line": {
             "colorbar": {
              "outlinewidth": 0,
              "ticks": ""
             }
            },
            "marker": {
             "colorbar": {
              "outlinewidth": 0,
              "ticks": ""
             }
            },
            "type": "scatter3d"
           }
          ],
          "scattercarpet": [
           {
            "marker": {
             "colorbar": {
              "outlinewidth": 0,
              "ticks": ""
             }
            },
            "type": "scattercarpet"
           }
          ],
          "scattergeo": [
           {
            "marker": {
             "colorbar": {
              "outlinewidth": 0,
              "ticks": ""
             }
            },
            "type": "scattergeo"
           }
          ],
          "scattergl": [
           {
            "marker": {
             "colorbar": {
              "outlinewidth": 0,
              "ticks": ""
             }
            },
            "type": "scattergl"
           }
          ],
          "scattermapbox": [
           {
            "marker": {
             "colorbar": {
              "outlinewidth": 0,
              "ticks": ""
             }
            },
            "type": "scattermapbox"
           }
          ],
          "scatterpolar": [
           {
            "marker": {
             "colorbar": {
              "outlinewidth": 0,
              "ticks": ""
             }
            },
            "type": "scatterpolar"
           }
          ],
          "scatterpolargl": [
           {
            "marker": {
             "colorbar": {
              "outlinewidth": 0,
              "ticks": ""
             }
            },
            "type": "scatterpolargl"
           }
          ],
          "scatterternary": [
           {
            "marker": {
             "colorbar": {
              "outlinewidth": 0,
              "ticks": ""
             }
            },
            "type": "scatterternary"
           }
          ],
          "surface": [
           {
            "colorbar": {
             "outlinewidth": 0,
             "ticks": ""
            },
            "colorscale": [
             [
              0,
              "#0d0887"
             ],
             [
              0.1111111111111111,
              "#46039f"
             ],
             [
              0.2222222222222222,
              "#7201a8"
             ],
             [
              0.3333333333333333,
              "#9c179e"
             ],
             [
              0.4444444444444444,
              "#bd3786"
             ],
             [
              0.5555555555555556,
              "#d8576b"
             ],
             [
              0.6666666666666666,
              "#ed7953"
             ],
             [
              0.7777777777777778,
              "#fb9f3a"
             ],
             [
              0.8888888888888888,
              "#fdca26"
             ],
             [
              1,
              "#f0f921"
             ]
            ],
            "type": "surface"
           }
          ],
          "table": [
           {
            "cells": {
             "fill": {
              "color": "#EBF0F8"
             },
             "line": {
              "color": "white"
             }
            },
            "header": {
             "fill": {
              "color": "#C8D4E3"
             },
             "line": {
              "color": "white"
             }
            },
            "type": "table"
           }
          ]
         },
         "layout": {
          "annotationdefaults": {
           "arrowcolor": "#2a3f5f",
           "arrowhead": 0,
           "arrowwidth": 1
          },
          "autotypenumbers": "strict",
          "coloraxis": {
           "colorbar": {
            "outlinewidth": 0,
            "ticks": ""
           }
          },
          "colorscale": {
           "diverging": [
            [
             0,
             "#8e0152"
            ],
            [
             0.1,
             "#c51b7d"
            ],
            [
             0.2,
             "#de77ae"
            ],
            [
             0.3,
             "#f1b6da"
            ],
            [
             0.4,
             "#fde0ef"
            ],
            [
             0.5,
             "#f7f7f7"
            ],
            [
             0.6,
             "#e6f5d0"
            ],
            [
             0.7,
             "#b8e186"
            ],
            [
             0.8,
             "#7fbc41"
            ],
            [
             0.9,
             "#4d9221"
            ],
            [
             1,
             "#276419"
            ]
           ],
           "sequential": [
            [
             0,
             "#0d0887"
            ],
            [
             0.1111111111111111,
             "#46039f"
            ],
            [
             0.2222222222222222,
             "#7201a8"
            ],
            [
             0.3333333333333333,
             "#9c179e"
            ],
            [
             0.4444444444444444,
             "#bd3786"
            ],
            [
             0.5555555555555556,
             "#d8576b"
            ],
            [
             0.6666666666666666,
             "#ed7953"
            ],
            [
             0.7777777777777778,
             "#fb9f3a"
            ],
            [
             0.8888888888888888,
             "#fdca26"
            ],
            [
             1,
             "#f0f921"
            ]
           ],
           "sequentialminus": [
            [
             0,
             "#0d0887"
            ],
            [
             0.1111111111111111,
             "#46039f"
            ],
            [
             0.2222222222222222,
             "#7201a8"
            ],
            [
             0.3333333333333333,
             "#9c179e"
            ],
            [
             0.4444444444444444,
             "#bd3786"
            ],
            [
             0.5555555555555556,
             "#d8576b"
            ],
            [
             0.6666666666666666,
             "#ed7953"
            ],
            [
             0.7777777777777778,
             "#fb9f3a"
            ],
            [
             0.8888888888888888,
             "#fdca26"
            ],
            [
             1,
             "#f0f921"
            ]
           ]
          },
          "colorway": [
           "#636efa",
           "#EF553B",
           "#00cc96",
           "#ab63fa",
           "#FFA15A",
           "#19d3f3",
           "#FF6692",
           "#B6E880",
           "#FF97FF",
           "#FECB52"
          ],
          "font": {
           "color": "#2a3f5f"
          },
          "geo": {
           "bgcolor": "white",
           "lakecolor": "white",
           "landcolor": "#E5ECF6",
           "showlakes": true,
           "showland": true,
           "subunitcolor": "white"
          },
          "hoverlabel": {
           "align": "left"
          },
          "hovermode": "closest",
          "mapbox": {
           "style": "light"
          },
          "paper_bgcolor": "white",
          "plot_bgcolor": "#E5ECF6",
          "polar": {
           "angularaxis": {
            "gridcolor": "white",
            "linecolor": "white",
            "ticks": ""
           },
           "bgcolor": "#E5ECF6",
           "radialaxis": {
            "gridcolor": "white",
            "linecolor": "white",
            "ticks": ""
           }
          },
          "scene": {
           "xaxis": {
            "backgroundcolor": "#E5ECF6",
            "gridcolor": "white",
            "gridwidth": 2,
            "linecolor": "white",
            "showbackground": true,
            "ticks": "",
            "zerolinecolor": "white"
           },
           "yaxis": {
            "backgroundcolor": "#E5ECF6",
            "gridcolor": "white",
            "gridwidth": 2,
            "linecolor": "white",
            "showbackground": true,
            "ticks": "",
            "zerolinecolor": "white"
           },
           "zaxis": {
            "backgroundcolor": "#E5ECF6",
            "gridcolor": "white",
            "gridwidth": 2,
            "linecolor": "white",
            "showbackground": true,
            "ticks": "",
            "zerolinecolor": "white"
           }
          },
          "shapedefaults": {
           "line": {
            "color": "#2a3f5f"
           }
          },
          "ternary": {
           "aaxis": {
            "gridcolor": "white",
            "linecolor": "white",
            "ticks": ""
           },
           "baxis": {
            "gridcolor": "white",
            "linecolor": "white",
            "ticks": ""
           },
           "bgcolor": "#E5ECF6",
           "caxis": {
            "gridcolor": "white",
            "linecolor": "white",
            "ticks": ""
           }
          },
          "title": {
           "x": 0.05
          },
          "xaxis": {
           "automargin": true,
           "gridcolor": "white",
           "linecolor": "white",
           "ticks": "",
           "title": {
            "standoff": 15
           },
           "zerolinecolor": "white",
           "zerolinewidth": 2
          },
          "yaxis": {
           "automargin": true,
           "gridcolor": "white",
           "linecolor": "white",
           "ticks": "",
           "title": {
            "standoff": 15
           },
           "zerolinecolor": "white",
           "zerolinewidth": 2
          }
         }
        }
       }
      }
     },
     "metadata": {},
     "output_type": "display_data"
    }
   ],
   "source": [
    "s = 0\n",
    "e = 999 #200\n",
    "dfpl = df[s:e]\n",
    "import plotly.graph_objects as go\n",
    "from datetime import datetime\n",
    "import matplotlib.pyplot as plt\n",
    "\n",
    "fig = go.Figure(data=[go.Candlestick(x=dfpl.index,\n",
    "                open=dfpl['Open'],\n",
    "                high=dfpl['High'],\n",
    "                low=dfpl['Low'],\n",
    "                close=dfpl['Close'])])\n",
    "\n",
    "c=0\n",
    "while (1):\n",
    "    if(c>len(ss)-1 ):\n",
    "        break\n",
    "    fig.add_shape(type='line', x0=ss[c][0], y0=ss[c][1],\n",
    "                  x1=e,\n",
    "                  y1=ss[c][1],\n",
    "                  line=dict(color=\"MediumPurple\",width=3)\n",
    "                  )\n",
    "    c+=1\n",
    "\n",
    "c=0\n",
    "while (1):\n",
    "    if(c>len(rr)-1 ):\n",
    "        break\n",
    "    fig.add_shape(type='line', x0=rr[c][0], y0=rr[c][1],\n",
    "                  x1=e,\n",
    "                  y1=rr[c][1],\n",
    "                  line=dict(color=\"RoyalBlue\",width=1)\n",
    "                  )\n",
    "    c+=1    \n",
    "\n",
    "fig.show()"
   ]
  },
  {
   "cell_type": "code",
   "execution_count": null,
   "metadata": {},
   "outputs": [],
   "source": []
  },
  {
   "cell_type": "code",
   "execution_count": null,
   "metadata": {},
   "outputs": [],
   "source": []
  }
 ],
 "metadata": {
  "kernelspec": {
   "display_name": "Python 3",
   "language": "python",
   "name": "python3"
  },
  "language_info": {
   "codemirror_mode": {
    "name": "ipython",
    "version": 3
   },
   "file_extension": ".py",
   "mimetype": "text/x-python",
   "name": "python",
   "nbconvert_exporter": "python",
   "pygments_lexer": "ipython3",
   "version": "3.10.0"
  }
 },
 "nbformat": 4,
 "nbformat_minor": 2
}
